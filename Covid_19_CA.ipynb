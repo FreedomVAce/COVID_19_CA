{
 "cells": [
  {
   "cell_type": "markdown",
   "metadata": {},
   "source": [
    "# Importing Libraries"
   ]
  },
  {
   "cell_type": "code",
   "execution_count": 1,
   "metadata": {},
   "outputs": [
    {
     "data": {
      "text/html": [
       "\n",
       "    <div class=\"bk-root\">\n",
       "        <a href=\"https://bokeh.org\" target=\"_blank\" class=\"bk-logo bk-logo-small bk-logo-notebook\"></a>\n",
       "        <span id=\"1001\">Loading BokehJS ...</span>\n",
       "    </div>"
      ]
     },
     "metadata": {},
     "output_type": "display_data"
    },
    {
     "data": {
      "application/javascript": [
       "\n",
       "(function(root) {\n",
       "  function now() {\n",
       "    return new Date();\n",
       "  }\n",
       "\n",
       "  var force = true;\n",
       "\n",
       "  if (typeof root._bokeh_onload_callbacks === \"undefined\" || force === true) {\n",
       "    root._bokeh_onload_callbacks = [];\n",
       "    root._bokeh_is_loading = undefined;\n",
       "  }\n",
       "\n",
       "  var JS_MIME_TYPE = 'application/javascript';\n",
       "  var HTML_MIME_TYPE = 'text/html';\n",
       "  var EXEC_MIME_TYPE = 'application/vnd.bokehjs_exec.v0+json';\n",
       "  var CLASS_NAME = 'output_bokeh rendered_html';\n",
       "\n",
       "  /**\n",
       "   * Render data to the DOM node\n",
       "   */\n",
       "  function render(props, node) {\n",
       "    var script = document.createElement(\"script\");\n",
       "    node.appendChild(script);\n",
       "  }\n",
       "\n",
       "  /**\n",
       "   * Handle when an output is cleared or removed\n",
       "   */\n",
       "  function handleClearOutput(event, handle) {\n",
       "    var cell = handle.cell;\n",
       "\n",
       "    var id = cell.output_area._bokeh_element_id;\n",
       "    var server_id = cell.output_area._bokeh_server_id;\n",
       "    // Clean up Bokeh references\n",
       "    if (id != null && id in Bokeh.index) {\n",
       "      Bokeh.index[id].model.document.clear();\n",
       "      delete Bokeh.index[id];\n",
       "    }\n",
       "\n",
       "    if (server_id !== undefined) {\n",
       "      // Clean up Bokeh references\n",
       "      var cmd = \"from bokeh.io.state import curstate; print(curstate().uuid_to_server['\" + server_id + \"'].get_sessions()[0].document.roots[0]._id)\";\n",
       "      cell.notebook.kernel.execute(cmd, {\n",
       "        iopub: {\n",
       "          output: function(msg) {\n",
       "            var id = msg.content.text.trim();\n",
       "            if (id in Bokeh.index) {\n",
       "              Bokeh.index[id].model.document.clear();\n",
       "              delete Bokeh.index[id];\n",
       "            }\n",
       "          }\n",
       "        }\n",
       "      });\n",
       "      // Destroy server and session\n",
       "      var cmd = \"import bokeh.io.notebook as ion; ion.destroy_server('\" + server_id + \"')\";\n",
       "      cell.notebook.kernel.execute(cmd);\n",
       "    }\n",
       "  }\n",
       "\n",
       "  /**\n",
       "   * Handle when a new output is added\n",
       "   */\n",
       "  function handleAddOutput(event, handle) {\n",
       "    var output_area = handle.output_area;\n",
       "    var output = handle.output;\n",
       "\n",
       "    // limit handleAddOutput to display_data with EXEC_MIME_TYPE content only\n",
       "    if ((output.output_type != \"display_data\") || (!output.data.hasOwnProperty(EXEC_MIME_TYPE))) {\n",
       "      return\n",
       "    }\n",
       "\n",
       "    var toinsert = output_area.element.find(\".\" + CLASS_NAME.split(' ')[0]);\n",
       "\n",
       "    if (output.metadata[EXEC_MIME_TYPE][\"id\"] !== undefined) {\n",
       "      toinsert[toinsert.length - 1].firstChild.textContent = output.data[JS_MIME_TYPE];\n",
       "      // store reference to embed id on output_area\n",
       "      output_area._bokeh_element_id = output.metadata[EXEC_MIME_TYPE][\"id\"];\n",
       "    }\n",
       "    if (output.metadata[EXEC_MIME_TYPE][\"server_id\"] !== undefined) {\n",
       "      var bk_div = document.createElement(\"div\");\n",
       "      bk_div.innerHTML = output.data[HTML_MIME_TYPE];\n",
       "      var script_attrs = bk_div.children[0].attributes;\n",
       "      for (var i = 0; i < script_attrs.length; i++) {\n",
       "        toinsert[toinsert.length - 1].firstChild.setAttribute(script_attrs[i].name, script_attrs[i].value);\n",
       "        toinsert[toinsert.length - 1].firstChild.textContent = bk_div.children[0].textContent\n",
       "      }\n",
       "      // store reference to server id on output_area\n",
       "      output_area._bokeh_server_id = output.metadata[EXEC_MIME_TYPE][\"server_id\"];\n",
       "    }\n",
       "  }\n",
       "\n",
       "  function register_renderer(events, OutputArea) {\n",
       "\n",
       "    function append_mime(data, metadata, element) {\n",
       "      // create a DOM node to render to\n",
       "      var toinsert = this.create_output_subarea(\n",
       "        metadata,\n",
       "        CLASS_NAME,\n",
       "        EXEC_MIME_TYPE\n",
       "      );\n",
       "      this.keyboard_manager.register_events(toinsert);\n",
       "      // Render to node\n",
       "      var props = {data: data, metadata: metadata[EXEC_MIME_TYPE]};\n",
       "      render(props, toinsert[toinsert.length - 1]);\n",
       "      element.append(toinsert);\n",
       "      return toinsert\n",
       "    }\n",
       "\n",
       "    /* Handle when an output is cleared or removed */\n",
       "    events.on('clear_output.CodeCell', handleClearOutput);\n",
       "    events.on('delete.Cell', handleClearOutput);\n",
       "\n",
       "    /* Handle when a new output is added */\n",
       "    events.on('output_added.OutputArea', handleAddOutput);\n",
       "\n",
       "    /**\n",
       "     * Register the mime type and append_mime function with output_area\n",
       "     */\n",
       "    OutputArea.prototype.register_mime_type(EXEC_MIME_TYPE, append_mime, {\n",
       "      /* Is output safe? */\n",
       "      safe: true,\n",
       "      /* Index of renderer in `output_area.display_order` */\n",
       "      index: 0\n",
       "    });\n",
       "  }\n",
       "\n",
       "  // register the mime type if in Jupyter Notebook environment and previously unregistered\n",
       "  if (root.Jupyter !== undefined) {\n",
       "    var events = require('base/js/events');\n",
       "    var OutputArea = require('notebook/js/outputarea').OutputArea;\n",
       "\n",
       "    if (OutputArea.prototype.mime_types().indexOf(EXEC_MIME_TYPE) == -1) {\n",
       "      register_renderer(events, OutputArea);\n",
       "    }\n",
       "  }\n",
       "\n",
       "  \n",
       "  if (typeof (root._bokeh_timeout) === \"undefined\" || force === true) {\n",
       "    root._bokeh_timeout = Date.now() + 5000;\n",
       "    root._bokeh_failed_load = false;\n",
       "  }\n",
       "\n",
       "  var NB_LOAD_WARNING = {'data': {'text/html':\n",
       "     \"<div style='background-color: #fdd'>\\n\"+\n",
       "     \"<p>\\n\"+\n",
       "     \"BokehJS does not appear to have successfully loaded. If loading BokehJS from CDN, this \\n\"+\n",
       "     \"may be due to a slow or bad network connection. Possible fixes:\\n\"+\n",
       "     \"</p>\\n\"+\n",
       "     \"<ul>\\n\"+\n",
       "     \"<li>re-rerun `output_notebook()` to attempt to load from CDN again, or</li>\\n\"+\n",
       "     \"<li>use INLINE resources instead, as so:</li>\\n\"+\n",
       "     \"</ul>\\n\"+\n",
       "     \"<code>\\n\"+\n",
       "     \"from bokeh.resources import INLINE\\n\"+\n",
       "     \"output_notebook(resources=INLINE)\\n\"+\n",
       "     \"</code>\\n\"+\n",
       "     \"</div>\"}};\n",
       "\n",
       "  function display_loaded() {\n",
       "    var el = document.getElementById(\"1001\");\n",
       "    if (el != null) {\n",
       "      el.textContent = \"BokehJS is loading...\";\n",
       "    }\n",
       "    if (root.Bokeh !== undefined) {\n",
       "      if (el != null) {\n",
       "        el.textContent = \"BokehJS \" + root.Bokeh.version + \" successfully loaded.\";\n",
       "      }\n",
       "    } else if (Date.now() < root._bokeh_timeout) {\n",
       "      setTimeout(display_loaded, 100)\n",
       "    }\n",
       "  }\n",
       "\n",
       "\n",
       "  function run_callbacks() {\n",
       "    try {\n",
       "      root._bokeh_onload_callbacks.forEach(function(callback) {\n",
       "        if (callback != null)\n",
       "          callback();\n",
       "      });\n",
       "    } finally {\n",
       "      delete root._bokeh_onload_callbacks\n",
       "    }\n",
       "    console.debug(\"Bokeh: all callbacks have finished\");\n",
       "  }\n",
       "\n",
       "  function load_libs(css_urls, js_urls, callback) {\n",
       "    if (css_urls == null) css_urls = [];\n",
       "    if (js_urls == null) js_urls = [];\n",
       "\n",
       "    root._bokeh_onload_callbacks.push(callback);\n",
       "    if (root._bokeh_is_loading > 0) {\n",
       "      console.debug(\"Bokeh: BokehJS is being loaded, scheduling callback at\", now());\n",
       "      return null;\n",
       "    }\n",
       "    if (js_urls == null || js_urls.length === 0) {\n",
       "      run_callbacks();\n",
       "      return null;\n",
       "    }\n",
       "    console.debug(\"Bokeh: BokehJS not loaded, scheduling load and callback at\", now());\n",
       "    root._bokeh_is_loading = css_urls.length + js_urls.length;\n",
       "\n",
       "    function on_load() {\n",
       "      root._bokeh_is_loading--;\n",
       "      if (root._bokeh_is_loading === 0) {\n",
       "        console.debug(\"Bokeh: all BokehJS libraries/stylesheets loaded\");\n",
       "        run_callbacks()\n",
       "      }\n",
       "    }\n",
       "\n",
       "    function on_error() {\n",
       "      console.error(\"failed to load \" + url);\n",
       "    }\n",
       "\n",
       "    for (var i = 0; i < css_urls.length; i++) {\n",
       "      var url = css_urls[i];\n",
       "      const element = document.createElement(\"link\");\n",
       "      element.onload = on_load;\n",
       "      element.onerror = on_error;\n",
       "      element.rel = \"stylesheet\";\n",
       "      element.type = \"text/css\";\n",
       "      element.href = url;\n",
       "      console.debug(\"Bokeh: injecting link tag for BokehJS stylesheet: \", url);\n",
       "      document.body.appendChild(element);\n",
       "    }\n",
       "\n",
       "    const hashes = {\"https://cdn.bokeh.org/bokeh/release/bokeh-2.0.1.min.js\": \"JpP8FXbgAZLkfur7LiK3j9AGBhHNIvF742meBJrjO2ShJDhCG2I1uVvW+0DUtrmc\", \"https://cdn.bokeh.org/bokeh/release/bokeh-widgets-2.0.1.min.js\": \"xZlADit0Q04ISQEdKg2k3L4W9AwQBAuDs9nJL9fM/WwzL1tEU9VPNezOFX0nLEAz\", \"https://cdn.bokeh.org/bokeh/release/bokeh-tables-2.0.1.min.js\": \"4BuPRZkdMKSnj3zoxiNrQ86XgNw0rYmBOxe7nshquXwwcauupgBF2DHLVG1WuZlV\", \"https://cdn.bokeh.org/bokeh/release/bokeh-gl-2.0.1.min.js\": \"Dv1SQ87hmDqK6S5OhBf0bCuwAEvL5QYL0PuR/F1SPVhCS/r/abjkbpKDYL2zeM19\"};\n",
       "\n",
       "    for (var i = 0; i < js_urls.length; i++) {\n",
       "      var url = js_urls[i];\n",
       "      var element = document.createElement('script');\n",
       "      element.onload = on_load;\n",
       "      element.onerror = on_error;\n",
       "      element.async = false;\n",
       "      element.src = url;\n",
       "      if (url in hashes) {\n",
       "        element.crossOrigin = \"anonymous\";\n",
       "        element.integrity = \"sha384-\" + hashes[url];\n",
       "      }\n",
       "      console.debug(\"Bokeh: injecting script tag for BokehJS library: \", url);\n",
       "      document.head.appendChild(element);\n",
       "    }\n",
       "  };var element = document.getElementById(\"1001\");\n",
       "  if (element == null) {\n",
       "    console.error(\"Bokeh: ERROR: autoload.js configured with elementid '1001' but no matching script tag was found. \")\n",
       "    return false;\n",
       "  }\n",
       "\n",
       "  function inject_raw_css(css) {\n",
       "    const element = document.createElement(\"style\");\n",
       "    element.appendChild(document.createTextNode(css));\n",
       "    document.body.appendChild(element);\n",
       "  }\n",
       "\n",
       "  \n",
       "  var js_urls = [\"https://cdn.bokeh.org/bokeh/release/bokeh-2.0.1.min.js\", \"https://cdn.bokeh.org/bokeh/release/bokeh-widgets-2.0.1.min.js\", \"https://cdn.bokeh.org/bokeh/release/bokeh-tables-2.0.1.min.js\", \"https://cdn.bokeh.org/bokeh/release/bokeh-gl-2.0.1.min.js\"];\n",
       "  var css_urls = [];\n",
       "  \n",
       "\n",
       "  var inline_js = [\n",
       "    function(Bokeh) {\n",
       "      Bokeh.set_log_level(\"info\");\n",
       "    },\n",
       "    function(Bokeh) {\n",
       "    \n",
       "    \n",
       "    }\n",
       "  ];\n",
       "\n",
       "  function run_inline_js() {\n",
       "    \n",
       "    if (root.Bokeh !== undefined || force === true) {\n",
       "      \n",
       "    for (var i = 0; i < inline_js.length; i++) {\n",
       "      inline_js[i].call(root, root.Bokeh);\n",
       "    }\n",
       "    if (force === true) {\n",
       "        display_loaded();\n",
       "      }} else if (Date.now() < root._bokeh_timeout) {\n",
       "      setTimeout(run_inline_js, 100);\n",
       "    } else if (!root._bokeh_failed_load) {\n",
       "      console.log(\"Bokeh: BokehJS failed to load within specified timeout.\");\n",
       "      root._bokeh_failed_load = true;\n",
       "    } else if (force !== true) {\n",
       "      var cell = $(document.getElementById(\"1001\")).parents('.cell').data().cell;\n",
       "      cell.output_area.append_execute_result(NB_LOAD_WARNING)\n",
       "    }\n",
       "\n",
       "  }\n",
       "\n",
       "  if (root._bokeh_is_loading === 0) {\n",
       "    console.debug(\"Bokeh: BokehJS loaded, going straight to plotting\");\n",
       "    run_inline_js();\n",
       "  } else {\n",
       "    load_libs(css_urls, js_urls, function() {\n",
       "      console.debug(\"Bokeh: BokehJS plotting callback run at\", now());\n",
       "      run_inline_js();\n",
       "    });\n",
       "  }\n",
       "}(window));"
      ],
      "application/vnd.bokehjs_load.v0+json": "\n(function(root) {\n  function now() {\n    return new Date();\n  }\n\n  var force = true;\n\n  if (typeof root._bokeh_onload_callbacks === \"undefined\" || force === true) {\n    root._bokeh_onload_callbacks = [];\n    root._bokeh_is_loading = undefined;\n  }\n\n  \n\n  \n  if (typeof (root._bokeh_timeout) === \"undefined\" || force === true) {\n    root._bokeh_timeout = Date.now() + 5000;\n    root._bokeh_failed_load = false;\n  }\n\n  var NB_LOAD_WARNING = {'data': {'text/html':\n     \"<div style='background-color: #fdd'>\\n\"+\n     \"<p>\\n\"+\n     \"BokehJS does not appear to have successfully loaded. If loading BokehJS from CDN, this \\n\"+\n     \"may be due to a slow or bad network connection. Possible fixes:\\n\"+\n     \"</p>\\n\"+\n     \"<ul>\\n\"+\n     \"<li>re-rerun `output_notebook()` to attempt to load from CDN again, or</li>\\n\"+\n     \"<li>use INLINE resources instead, as so:</li>\\n\"+\n     \"</ul>\\n\"+\n     \"<code>\\n\"+\n     \"from bokeh.resources import INLINE\\n\"+\n     \"output_notebook(resources=INLINE)\\n\"+\n     \"</code>\\n\"+\n     \"</div>\"}};\n\n  function display_loaded() {\n    var el = document.getElementById(\"1001\");\n    if (el != null) {\n      el.textContent = \"BokehJS is loading...\";\n    }\n    if (root.Bokeh !== undefined) {\n      if (el != null) {\n        el.textContent = \"BokehJS \" + root.Bokeh.version + \" successfully loaded.\";\n      }\n    } else if (Date.now() < root._bokeh_timeout) {\n      setTimeout(display_loaded, 100)\n    }\n  }\n\n\n  function run_callbacks() {\n    try {\n      root._bokeh_onload_callbacks.forEach(function(callback) {\n        if (callback != null)\n          callback();\n      });\n    } finally {\n      delete root._bokeh_onload_callbacks\n    }\n    console.debug(\"Bokeh: all callbacks have finished\");\n  }\n\n  function load_libs(css_urls, js_urls, callback) {\n    if (css_urls == null) css_urls = [];\n    if (js_urls == null) js_urls = [];\n\n    root._bokeh_onload_callbacks.push(callback);\n    if (root._bokeh_is_loading > 0) {\n      console.debug(\"Bokeh: BokehJS is being loaded, scheduling callback at\", now());\n      return null;\n    }\n    if (js_urls == null || js_urls.length === 0) {\n      run_callbacks();\n      return null;\n    }\n    console.debug(\"Bokeh: BokehJS not loaded, scheduling load and callback at\", now());\n    root._bokeh_is_loading = css_urls.length + js_urls.length;\n\n    function on_load() {\n      root._bokeh_is_loading--;\n      if (root._bokeh_is_loading === 0) {\n        console.debug(\"Bokeh: all BokehJS libraries/stylesheets loaded\");\n        run_callbacks()\n      }\n    }\n\n    function on_error() {\n      console.error(\"failed to load \" + url);\n    }\n\n    for (var i = 0; i < css_urls.length; i++) {\n      var url = css_urls[i];\n      const element = document.createElement(\"link\");\n      element.onload = on_load;\n      element.onerror = on_error;\n      element.rel = \"stylesheet\";\n      element.type = \"text/css\";\n      element.href = url;\n      console.debug(\"Bokeh: injecting link tag for BokehJS stylesheet: \", url);\n      document.body.appendChild(element);\n    }\n\n    const hashes = {\"https://cdn.bokeh.org/bokeh/release/bokeh-2.0.1.min.js\": \"JpP8FXbgAZLkfur7LiK3j9AGBhHNIvF742meBJrjO2ShJDhCG2I1uVvW+0DUtrmc\", \"https://cdn.bokeh.org/bokeh/release/bokeh-widgets-2.0.1.min.js\": \"xZlADit0Q04ISQEdKg2k3L4W9AwQBAuDs9nJL9fM/WwzL1tEU9VPNezOFX0nLEAz\", \"https://cdn.bokeh.org/bokeh/release/bokeh-tables-2.0.1.min.js\": \"4BuPRZkdMKSnj3zoxiNrQ86XgNw0rYmBOxe7nshquXwwcauupgBF2DHLVG1WuZlV\", \"https://cdn.bokeh.org/bokeh/release/bokeh-gl-2.0.1.min.js\": \"Dv1SQ87hmDqK6S5OhBf0bCuwAEvL5QYL0PuR/F1SPVhCS/r/abjkbpKDYL2zeM19\"};\n\n    for (var i = 0; i < js_urls.length; i++) {\n      var url = js_urls[i];\n      var element = document.createElement('script');\n      element.onload = on_load;\n      element.onerror = on_error;\n      element.async = false;\n      element.src = url;\n      if (url in hashes) {\n        element.crossOrigin = \"anonymous\";\n        element.integrity = \"sha384-\" + hashes[url];\n      }\n      console.debug(\"Bokeh: injecting script tag for BokehJS library: \", url);\n      document.head.appendChild(element);\n    }\n  };var element = document.getElementById(\"1001\");\n  if (element == null) {\n    console.error(\"Bokeh: ERROR: autoload.js configured with elementid '1001' but no matching script tag was found. \")\n    return false;\n  }\n\n  function inject_raw_css(css) {\n    const element = document.createElement(\"style\");\n    element.appendChild(document.createTextNode(css));\n    document.body.appendChild(element);\n  }\n\n  \n  var js_urls = [\"https://cdn.bokeh.org/bokeh/release/bokeh-2.0.1.min.js\", \"https://cdn.bokeh.org/bokeh/release/bokeh-widgets-2.0.1.min.js\", \"https://cdn.bokeh.org/bokeh/release/bokeh-tables-2.0.1.min.js\", \"https://cdn.bokeh.org/bokeh/release/bokeh-gl-2.0.1.min.js\"];\n  var css_urls = [];\n  \n\n  var inline_js = [\n    function(Bokeh) {\n      Bokeh.set_log_level(\"info\");\n    },\n    function(Bokeh) {\n    \n    \n    }\n  ];\n\n  function run_inline_js() {\n    \n    if (root.Bokeh !== undefined || force === true) {\n      \n    for (var i = 0; i < inline_js.length; i++) {\n      inline_js[i].call(root, root.Bokeh);\n    }\n    if (force === true) {\n        display_loaded();\n      }} else if (Date.now() < root._bokeh_timeout) {\n      setTimeout(run_inline_js, 100);\n    } else if (!root._bokeh_failed_load) {\n      console.log(\"Bokeh: BokehJS failed to load within specified timeout.\");\n      root._bokeh_failed_load = true;\n    } else if (force !== true) {\n      var cell = $(document.getElementById(\"1001\")).parents('.cell').data().cell;\n      cell.output_area.append_execute_result(NB_LOAD_WARNING)\n    }\n\n  }\n\n  if (root._bokeh_is_loading === 0) {\n    console.debug(\"Bokeh: BokehJS loaded, going straight to plotting\");\n    run_inline_js();\n  } else {\n    load_libs(css_urls, js_urls, function() {\n      console.debug(\"Bokeh: BokehJS plotting callback run at\", now());\n      run_inline_js();\n    });\n  }\n}(window));"
     },
     "metadata": {},
     "output_type": "display_data"
    }
   ],
   "source": [
    "import bokeh\n",
    "import numpy as np \n",
    "import pandas as pd \n",
    "from datetime import datetime\n",
    "from bokeh.plotting import figure, show, output_notebook, output_file, save\n",
    "from bokeh.models import HoverTool, ColumnDataSource, Range1d, FactorRange\n",
    "from bokeh.layouts import gridplot,layout\n",
    "from bokeh.transform import factor_cmap\n",
    "from bokeh.palettes import Spectral6\n",
    "output_notebook()\n",
    "\n",
    "import warnings\n",
    "warnings.filterwarnings('ignore')\n",
    "#pd.options.display.max_rows = None\n",
    "#pd.options.display.max_columns = None"
   ]
  },
  {
   "cell_type": "code",
   "execution_count": 2,
   "metadata": {},
   "outputs": [
    {
     "data": {
      "text/plain": [
       "'2.0.1'"
      ]
     },
     "execution_count": 2,
     "metadata": {},
     "output_type": "execute_result"
    }
   ],
   "source": [
    "import bokeh\n",
    "bokeh.__version__"
   ]
  },
  {
   "cell_type": "markdown",
   "metadata": {},
   "source": [
    "# Load Data"
   ]
  },
  {
   "cell_type": "code",
   "execution_count": 3,
   "metadata": {},
   "outputs": [],
   "source": [
    "description = pd.read_csv('Covid19Canada-master/codebook.csv')\n",
    "\n",
    "n_cases = pd.read_csv('Covid19Canada-master/cases.csv')\n",
    "n_death = pd.read_csv('Covid19Canada-master/mortality.csv')\n",
    "\n",
    "n_recovered = pd.read_csv('Covid19Canada-master/recovered_cumulative.csv')\n",
    "n_testing = pd.read_csv('Covid19Canada-master/testing_cumulative.csv')\n",
    "\n",
    "color = [(31, 119, 180), (174, 199, 232), (255, 127, 14), (255, 187, 120),    \n",
    "             (44, 160, 44), (152, 223, 138), (214, 39, 40), (255, 152, 150),    \n",
    "             (148, 103, 189), (197, 176, 213), (140, 86, 75), (196, 156, 148),    \n",
    "             (227, 119, 194), (247, 182, 210), (127, 127, 127), (199, 199, 199),    \n",
    "             (188, 189, 34), (219, 219, 141), (23, 190, 207), (158, 218, 229)] "
   ]
  },
  {
   "cell_type": "code",
   "execution_count": 4,
   "metadata": {},
   "outputs": [
    {
     "data": {
      "text/html": [
       "<div>\n",
       "<style scoped>\n",
       "    .dataframe tbody tr th:only-of-type {\n",
       "        vertical-align: middle;\n",
       "    }\n",
       "\n",
       "    .dataframe tbody tr th {\n",
       "        vertical-align: top;\n",
       "    }\n",
       "\n",
       "    .dataframe thead th {\n",
       "        text-align: right;\n",
       "    }\n",
       "</style>\n",
       "<table border=\"1\" class=\"dataframe\">\n",
       "  <thead>\n",
       "    <tr style=\"text-align: right;\">\n",
       "      <th></th>\n",
       "      <th>Variable</th>\n",
       "      <th>Description</th>\n",
       "      <th>Label</th>\n",
       "    </tr>\n",
       "  </thead>\n",
       "  <tbody>\n",
       "    <tr>\n",
       "      <td>0</td>\n",
       "      <td>case_id</td>\n",
       "      <td>National Case ID Number</td>\n",
       "      <td>NaN</td>\n",
       "    </tr>\n",
       "    <tr>\n",
       "      <td>1</td>\n",
       "      <td>provincial_case_id</td>\n",
       "      <td>Provincial Case ID Number</td>\n",
       "      <td>NaN</td>\n",
       "    </tr>\n",
       "    <tr>\n",
       "      <td>2</td>\n",
       "      <td>age</td>\n",
       "      <td>Age, if specific age not given then range prov...</td>\n",
       "      <td>NaN</td>\n",
       "    </tr>\n",
       "    <tr>\n",
       "      <td>3</td>\n",
       "      <td>sex</td>\n",
       "      <td>Sex</td>\n",
       "      <td>NaN</td>\n",
       "    </tr>\n",
       "    <tr>\n",
       "      <td>4</td>\n",
       "      <td>health_region</td>\n",
       "      <td>Health region, if reported</td>\n",
       "      <td>NaN</td>\n",
       "    </tr>\n",
       "    <tr>\n",
       "      <td>5</td>\n",
       "      <td>province</td>\n",
       "      <td>Province</td>\n",
       "      <td>NaN</td>\n",
       "    </tr>\n",
       "    <tr>\n",
       "      <td>6</td>\n",
       "      <td>country</td>\n",
       "      <td>Country</td>\n",
       "      <td>NaN</td>\n",
       "    </tr>\n",
       "    <tr>\n",
       "      <td>7</td>\n",
       "      <td>date_report</td>\n",
       "      <td>Reported date (i.e. public announcement date) ...</td>\n",
       "      <td>NaN</td>\n",
       "    </tr>\n",
       "    <tr>\n",
       "      <td>8</td>\n",
       "      <td>report_week</td>\n",
       "      <td>Week of Report (Sundays are 1st day of week)</td>\n",
       "      <td>NaN</td>\n",
       "    </tr>\n",
       "    <tr>\n",
       "      <td>9</td>\n",
       "      <td>travel_yn</td>\n",
       "      <td>Travel history (yes/no)</td>\n",
       "      <td>0=no, 1=yes, Not Reported</td>\n",
       "    </tr>\n",
       "    <tr>\n",
       "      <td>10</td>\n",
       "      <td>travel_history_country</td>\n",
       "      <td>Country of Travel</td>\n",
       "      <td>NaN</td>\n",
       "    </tr>\n",
       "    <tr>\n",
       "      <td>11</td>\n",
       "      <td>locally_acquired</td>\n",
       "      <td>If no travel history, type of locally acquired...</td>\n",
       "      <td>Community, Close Contact, Not Reported</td>\n",
       "    </tr>\n",
       "    <tr>\n",
       "      <td>12</td>\n",
       "      <td>case_source</td>\n",
       "      <td>Source website for case information</td>\n",
       "      <td>NaN</td>\n",
       "    </tr>\n",
       "    <tr>\n",
       "      <td>13</td>\n",
       "      <td>death_id</td>\n",
       "      <td>National Death ID Number</td>\n",
       "      <td>NaN</td>\n",
       "    </tr>\n",
       "    <tr>\n",
       "      <td>14</td>\n",
       "      <td>province_death_id</td>\n",
       "      <td>Provincial Death ID Number</td>\n",
       "      <td>NaN</td>\n",
       "    </tr>\n",
       "    <tr>\n",
       "      <td>15</td>\n",
       "      <td>date_death_report</td>\n",
       "      <td>Date of death reported</td>\n",
       "      <td>NaN</td>\n",
       "    </tr>\n",
       "    <tr>\n",
       "      <td>16</td>\n",
       "      <td>death_source</td>\n",
       "      <td>Source website for death information</td>\n",
       "      <td>NaN</td>\n",
       "    </tr>\n",
       "    <tr>\n",
       "      <td>17</td>\n",
       "      <td>date_recovered</td>\n",
       "      <td>Time series of recovery dates</td>\n",
       "      <td>NaN</td>\n",
       "    </tr>\n",
       "    <tr>\n",
       "      <td>18</td>\n",
       "      <td>cumulative_recovered</td>\n",
       "      <td>Cumulative number of recoveries</td>\n",
       "      <td>NaN</td>\n",
       "    </tr>\n",
       "    <tr>\n",
       "      <td>19</td>\n",
       "      <td>date_testing</td>\n",
       "      <td>Time series of testing dates</td>\n",
       "      <td>NaN</td>\n",
       "    </tr>\n",
       "    <tr>\n",
       "      <td>20</td>\n",
       "      <td>cumulative_testing</td>\n",
       "      <td>Cumulative number of tests</td>\n",
       "      <td>NaN</td>\n",
       "    </tr>\n",
       "  </tbody>\n",
       "</table>\n",
       "</div>"
      ],
      "text/plain": [
       "                  Variable                                        Description  \\\n",
       "0                  case_id                            National Case ID Number   \n",
       "1       provincial_case_id                          Provincial Case ID Number   \n",
       "2                      age  Age, if specific age not given then range prov...   \n",
       "3                      sex                                                Sex   \n",
       "4            health_region                         Health region, if reported   \n",
       "5                 province                                           Province   \n",
       "6                  country                                            Country   \n",
       "7              date_report  Reported date (i.e. public announcement date) ...   \n",
       "8              report_week       Week of Report (Sundays are 1st day of week)   \n",
       "9                travel_yn                            Travel history (yes/no)   \n",
       "10  travel_history_country                                  Country of Travel   \n",
       "11        locally_acquired  If no travel history, type of locally acquired...   \n",
       "12             case_source                Source website for case information   \n",
       "13                death_id                           National Death ID Number   \n",
       "14       province_death_id                         Provincial Death ID Number   \n",
       "15       date_death_report                             Date of death reported   \n",
       "16            death_source               Source website for death information   \n",
       "17          date_recovered                      Time series of recovery dates   \n",
       "18    cumulative_recovered                    Cumulative number of recoveries   \n",
       "19            date_testing                       Time series of testing dates   \n",
       "20      cumulative_testing                         Cumulative number of tests   \n",
       "\n",
       "                                     Label  \n",
       "0                                      NaN  \n",
       "1                                      NaN  \n",
       "2                                      NaN  \n",
       "3                                      NaN  \n",
       "4                                      NaN  \n",
       "5                                      NaN  \n",
       "6                                      NaN  \n",
       "7                                      NaN  \n",
       "8                                      NaN  \n",
       "9                0=no, 1=yes, Not Reported  \n",
       "10                                     NaN  \n",
       "11  Community, Close Contact, Not Reported  \n",
       "12                                     NaN  \n",
       "13                                     NaN  \n",
       "14                                     NaN  \n",
       "15                                     NaN  \n",
       "16                                     NaN  \n",
       "17                                     NaN  \n",
       "18                                     NaN  \n",
       "19                                     NaN  \n",
       "20                                     NaN  "
      ]
     },
     "metadata": {},
     "output_type": "display_data"
    }
   ],
   "source": [
    "display(description)"
   ]
  },
  {
   "cell_type": "markdown",
   "metadata": {},
   "source": [
    "# Introduction\n",
    "\n",
    "\n",
    "I want to analysis the publicly available information on confirmed and presumptive postive cases during the ongoing COVID-19 outbreak in Canada with Bokeh for data visualization. The data comes from the github ishaberry, which they’ve shared publicly in https://github.com/ishaberry/Covid19Canada.\n",
    "\n"
   ]
  },
  {
   "cell_type": "markdown",
   "metadata": {},
   "source": [
    "# Number of Cases in Canada"
   ]
  },
  {
   "cell_type": "code",
   "execution_count": 5,
   "metadata": {},
   "outputs": [
    {
     "data": {
      "text/html": [
       "<div>\n",
       "<style scoped>\n",
       "    .dataframe tbody tr th:only-of-type {\n",
       "        vertical-align: middle;\n",
       "    }\n",
       "\n",
       "    .dataframe tbody tr th {\n",
       "        vertical-align: top;\n",
       "    }\n",
       "\n",
       "    .dataframe thead th {\n",
       "        text-align: right;\n",
       "    }\n",
       "</style>\n",
       "<table border=\"1\" class=\"dataframe\">\n",
       "  <thead>\n",
       "    <tr style=\"text-align: right;\">\n",
       "      <th></th>\n",
       "      <th>case_id</th>\n",
       "      <th>provincial_case_id</th>\n",
       "      <th>age</th>\n",
       "      <th>sex</th>\n",
       "      <th>health_region</th>\n",
       "      <th>province</th>\n",
       "      <th>country</th>\n",
       "      <th>date_report</th>\n",
       "      <th>report_week</th>\n",
       "      <th>travel_yn</th>\n",
       "      <th>travel_history_country</th>\n",
       "      <th>locally_acquired</th>\n",
       "      <th>case_source</th>\n",
       "      <th>additional_info</th>\n",
       "      <th>additional_source</th>\n",
       "    </tr>\n",
       "  </thead>\n",
       "  <tbody>\n",
       "    <tr>\n",
       "      <td>0</td>\n",
       "      <td>1</td>\n",
       "      <td>1</td>\n",
       "      <td>50-59</td>\n",
       "      <td>Male</td>\n",
       "      <td>Toronto</td>\n",
       "      <td>Ontario</td>\n",
       "      <td>Canada</td>\n",
       "      <td>25-01-2020</td>\n",
       "      <td>19-01-2020</td>\n",
       "      <td>1</td>\n",
       "      <td>China</td>\n",
       "      <td>NaN</td>\n",
       "      <td>(1) https://news.ontario.ca/mohltc/en/2020/01/...</td>\n",
       "      <td>NaN</td>\n",
       "      <td>NaN</td>\n",
       "    </tr>\n",
       "  </tbody>\n",
       "</table>\n",
       "</div>"
      ],
      "text/plain": [
       "   case_id  provincial_case_id    age   sex health_region province country  \\\n",
       "0        1                   1  50-59  Male       Toronto  Ontario  Canada   \n",
       "\n",
       "  date_report report_week travel_yn travel_history_country locally_acquired  \\\n",
       "0  25-01-2020  19-01-2020         1                  China              NaN   \n",
       "\n",
       "                                         case_source additional_info  \\\n",
       "0  (1) https://news.ontario.ca/mohltc/en/2020/01/...             NaN   \n",
       "\n",
       "  additional_source  \n",
       "0               NaN  "
      ]
     },
     "metadata": {},
     "output_type": "display_data"
    },
    {
     "data": {
      "text/plain": [
       "(6320, 15)"
      ]
     },
     "execution_count": 5,
     "metadata": {},
     "output_type": "execute_result"
    }
   ],
   "source": [
    "display(n_cases.head(1))\n",
    "n_cases.shape"
   ]
  },
  {
   "cell_type": "markdown",
   "metadata": {},
   "source": [
    "### Setting "
   ]
  },
  {
   "cell_type": "code",
   "execution_count": 6,
   "metadata": {},
   "outputs": [],
   "source": [
    "n_cases = n_cases.iloc[:,:11]\n",
    "n_cases['date_report'] = pd.to_datetime(n_cases['date_report'], dayfirst = True)\n",
    "n_cases['report_week'] = pd.to_datetime(n_cases['report_week'], dayfirst = True)\n",
    "n_cases['people'] = 1"
   ]
  },
  {
   "cell_type": "code",
   "execution_count": 7,
   "metadata": {},
   "outputs": [],
   "source": [
    "all_gender = n_cases.groupby(['sex'])['people'].sum().sort_values(ascending = False).reset_index();\n",
    "all_gender_factors = pd.unique(all_gender['sex'])\n",
    "all_gender_data = ColumnDataSource(all_gender)\n",
    "\n",
    "all_age = n_cases.groupby(['age'])['people'].sum().sort_values(ascending = False).reset_index();\n",
    "all_age_factors = pd.unique(all_age['age'])\n",
    "all_age_data = ColumnDataSource(all_age)\n",
    "\n",
    "sex_case = n_cases.loc[n_cases['sex'] != 'Not Reported']\n",
    "sex_case = sex_case.groupby(['sex'])['people'].sum().sort_values(ascending = False).reset_index();\n",
    "sex_case_factors = pd.unique(sex_case['sex'])\n",
    "sex_case_data = ColumnDataSource(sex_case)\n",
    "\n",
    "age_case = n_cases.loc[n_cases['age'] != 'Not Reported']\n",
    "age_case = age_case.groupby(['age'])['people'].sum().sort_values(ascending = False).reset_index();\n",
    "age_case_factors = pd.unique(age_case['age'])\n",
    "age_case_data = ColumnDataSource(age_case)\n",
    "\n",
    "sex_age = n_cases.loc[(n_cases['age'] != 'Not Reported') & (n_cases['sex'] != 'Not Reported')]\n",
    "sex_age = sex_age.groupby(['age', 'sex'])['people'].sum().reset_index()\n",
    "sex_age['label'] = tuple(zip(sex_age['age'], sex_age['sex']))\n",
    "sex_age_data = ColumnDataSource(sex_age)"
   ]
  },
  {
   "cell_type": "markdown",
   "metadata": {},
   "source": [
    "### Confirmed Cases By Gender and Age\n",
    "\n",
    "This chart shows the number of confirmed cases in gender and age."
   ]
  },
  {
   "cell_type": "code",
   "execution_count": 8,
   "metadata": {},
   "outputs": [
    {
     "data": {
      "text/html": [
       "\n",
       "\n",
       "\n",
       "\n",
       "\n",
       "\n",
       "  <div class=\"bk-root\" id=\"e0b65fdc-771a-4c6d-9c4b-c06d63a0b564\" data-root-id=\"1206\"></div>\n"
      ]
     },
     "metadata": {},
     "output_type": "display_data"
    },
    {
     "data": {
      "application/javascript": [
       "(function(root) {\n",
       "  function embed_document(root) {\n",
       "    \n",
       "  var docs_json = {\"d0ac0855-61ea-40bc-9269-39411e8c7be6\":{\"roots\":{\"references\":[{\"attributes\":{\"children\":[{\"id\":\"1203\"},{\"id\":\"1204\"},{\"id\":\"1205\"}]},\"id\":\"1206\",\"type\":\"Column\"},{\"attributes\":{\"fill_alpha\":{\"value\":0.1},\"fill_color\":{\"value\":\"#1f77b4\"},\"line_alpha\":{\"value\":0.1},\"line_color\":{\"value\":\"#1f77b4\"},\"top\":{\"field\":\"people\"},\"width\":{\"value\":0.8},\"x\":{\"field\":\"age\"}},\"id\":\"1184\",\"type\":\"VBar\"},{\"attributes\":{\"text\":\"Confirmed Cases By Gender\"},\"id\":\"1073\",\"type\":\"Title\"},{\"attributes\":{},\"id\":\"1224\",\"type\":\"CategoricalTickFormatter\"},{\"attributes\":{\"data_source\":{\"id\":\"1003\"},\"glyph\":{\"id\":\"1173\"},\"hover_glyph\":null,\"muted_glyph\":null,\"nonselection_glyph\":{\"id\":\"1174\"},\"selection_glyph\":null,\"view\":{\"id\":\"1176\"}},\"id\":\"1175\",\"type\":\"GlyphRenderer\"},{\"attributes\":{\"callback\":null,\"tooltips\":[[\"Cases\",\"@people\"]]},\"id\":\"1193\",\"type\":\"HoverTool\"},{\"attributes\":{},\"id\":\"1220\",\"type\":\"CategoricalTickFormatter\"},{\"attributes\":{\"data\":{\"index\":[0,1],\"people\":[319,312],\"sex\":[\"Male\",\"Female\"]},\"selected\":{\"id\":\"1239\"},\"selection_policy\":{\"id\":\"1238\"}},\"id\":\"1004\",\"type\":\"ColumnDataSource\"},{\"attributes\":{},\"id\":\"1076\",\"type\":\"DataRange1d\"},{\"attributes\":{\"callback\":null,\"tooltips\":[[\"Cases\",\"@people\"]]},\"id\":\"1201\",\"type\":\"HoverTool\"},{\"attributes\":{\"bottom_units\":\"screen\",\"fill_alpha\":0.5,\"fill_color\":\"lightgrey\",\"left_units\":\"screen\",\"level\":\"overlay\",\"line_alpha\":1.0,\"line_color\":\"black\",\"line_dash\":[4,4],\"line_width\":2,\"render_mode\":\"css\",\"right_units\":\"screen\",\"top_units\":\"screen\"},\"id\":\"1095\",\"type\":\"BoxAnnotation\"},{\"attributes\":{\"active_drag\":\"auto\",\"active_inspect\":\"auto\",\"active_multi\":null,\"active_scroll\":\"auto\",\"active_tap\":\"auto\",\"tools\":[{\"id\":\"1057\"},{\"id\":\"1058\"},{\"id\":\"1059\"},{\"id\":\"1060\"},{\"id\":\"1061\"},{\"id\":\"1062\"},{\"id\":\"1195\"}]},\"id\":\"1064\",\"type\":\"Toolbar\"},{\"attributes\":{\"fill_alpha\":{\"value\":0.1},\"fill_color\":{\"value\":\"#1f77b4\"},\"line_alpha\":{\"value\":0.1},\"line_color\":{\"value\":\"#1f77b4\"},\"top\":{\"field\":\"people\"},\"width\":{\"value\":0.8},\"x\":{\"field\":\"age\"}},\"id\":\"1174\",\"type\":\"VBar\"},{\"attributes\":{\"background_fill_color\":\"#fafafa\",\"below\":[{\"id\":\"1082\"}],\"center\":[{\"id\":\"1084\"},{\"id\":\"1088\"}],\"left\":[{\"id\":\"1085\"}],\"plot_height\":300,\"plot_width\":495,\"renderers\":[{\"id\":\"1180\"}],\"title\":{\"id\":\"1073\"},\"toolbar\":{\"id\":\"1096\"},\"x_range\":{\"id\":\"1071\"},\"x_scale\":{\"id\":\"1078\"},\"y_range\":{\"id\":\"1076\"},\"y_scale\":{\"id\":\"1080\"}},\"id\":\"1072\",\"subtype\":\"Figure\",\"type\":\"Plot\"},{\"attributes\":{},\"id\":\"1057\",\"type\":\"PanTool\"},{\"attributes\":{},\"id\":\"1144\",\"type\":\"LinearScale\"},{\"attributes\":{},\"id\":\"1142\",\"type\":\"CategoricalScale\"},{\"attributes\":{},\"id\":\"1058\",\"type\":\"WheelZoomTool\"},{\"attributes\":{},\"id\":\"1112\",\"type\":\"LinearScale\"},{\"attributes\":{\"children\":[{\"id\":\"1072\"},{\"id\":\"1104\"}]},\"id\":\"1204\",\"type\":\"Row\"},{\"attributes\":{\"axis_label\":\"Gender & Age\",\"formatter\":{\"id\":\"1228\"},\"major_label_orientation\":1,\"ticker\":{\"id\":\"1147\"}},\"id\":\"1146\",\"type\":\"CategoricalAxis\"},{\"attributes\":{\"overlay\":{\"id\":\"1063\"}},\"id\":\"1059\",\"type\":\"BoxZoomTool\"},{\"attributes\":{},\"id\":\"1150\",\"type\":\"BasicTicker\"},{\"attributes\":{\"data\":{\"age\":[\"Not Reported\",\"50-59\",\"60-69\",\"40-49\",\"30-39\",\"20-29\",\"70-79\",\"80-89\",\"90-99\",\"<20\",\"<18\",\"<10\",\"10-19\",\"50\",\"<1\",\"2\",\"61\"],\"index\":[0,1,2,3,4,5,6,7,8,9,10,11,12,13,14,15,16],\"people\":[5643,136,115,106,106,88,64,26,12,8,5,5,2,1,1,1,1]},\"selected\":{\"id\":\"1236\"},\"selection_policy\":{\"id\":\"1235\"}},\"id\":\"1003\",\"type\":\"ColumnDataSource\"},{\"attributes\":{},\"id\":\"1060\",\"type\":\"SaveTool\"},{\"attributes\":{},\"id\":\"1147\",\"type\":\"CategoricalTicker\"},{\"attributes\":{\"axis_label\":\"Age\",\"formatter\":{\"id\":\"1224\"},\"major_label_orientation\":1,\"ticker\":{\"id\":\"1115\"}},\"id\":\"1114\",\"type\":\"CategoricalAxis\"},{\"attributes\":{\"axis\":{\"id\":\"1146\"},\"ticker\":null},\"id\":\"1148\",\"type\":\"Grid\"},{\"attributes\":{},\"id\":\"1061\",\"type\":\"ResetTool\"},{\"attributes\":{},\"id\":\"1118\",\"type\":\"BasicTicker\"},{\"attributes\":{\"children\":[{\"id\":\"1136\"}]},\"id\":\"1205\",\"type\":\"Row\"},{\"attributes\":{},\"id\":\"1115\",\"type\":\"CategoricalTicker\"},{\"attributes\":{\"factors\":[\"50-59\",\"60-69\",\"40-49\",\"30-39\",\"20-29\",\"70-79\",\"80-89\",\"90-99\",\"<20\",\"<18\",\"<10\",\"10-19\",\"<1\",\"61\",\"50\",\"2\"]},\"id\":\"1103\",\"type\":\"FactorRange\"},{\"attributes\":{\"axis\":{\"id\":\"1149\"},\"dimension\":1,\"ticker\":null},\"id\":\"1152\",\"type\":\"Grid\"},{\"attributes\":{\"axis\":{\"id\":\"1114\"},\"ticker\":null},\"id\":\"1116\",\"type\":\"Grid\"},{\"attributes\":{\"axis_label\":\"Number of Confirmed Cases\",\"formatter\":{\"id\":\"1230\"},\"ticker\":{\"id\":\"1150\"}},\"id\":\"1149\",\"type\":\"LinearAxis\"},{\"attributes\":{},\"id\":\"1062\",\"type\":\"HelpTool\"},{\"attributes\":{\"data_source\":{\"id\":\"1004\"},\"glyph\":{\"id\":\"1178\"},\"hover_glyph\":null,\"muted_glyph\":null,\"nonselection_glyph\":{\"id\":\"1179\"},\"selection_glyph\":null,\"view\":{\"id\":\"1181\"}},\"id\":\"1180\",\"type\":\"GlyphRenderer\"},{\"attributes\":{\"axis\":{\"id\":\"1117\"},\"dimension\":1,\"ticker\":null},\"id\":\"1120\",\"type\":\"Grid\"},{\"attributes\":{},\"id\":\"1226\",\"type\":\"BasicTickFormatter\"},{\"attributes\":{\"axis_label\":\"Number of Confirmed Cases\",\"formatter\":{\"id\":\"1226\"},\"ticker\":{\"id\":\"1118\"}},\"id\":\"1117\",\"type\":\"LinearAxis\"},{\"attributes\":{},\"id\":\"1216\",\"type\":\"CategoricalTickFormatter\"},{\"attributes\":{},\"id\":\"1228\",\"type\":\"CategoricalTickFormatter\"},{\"attributes\":{\"end\":2,\"factors\":[\"Male\",\"Female\",\"Male\",\"Female\",\"Male\",\"Female\",\"Male\",\"Male\",\"Female\",\"Male\",\"Female\",\"Male\",\"Female\",\"Female\",\"Male\",\"Female\",\"Male\",\"Female\",\"Male\",\"Male\",\"Female\",\"Male\",\"Female\",\"Male\",\"Female\",\"Male\"],\"palette\":[\"#3288bd\",\"#99d594\",\"#e6f598\",\"#fee08b\",\"#fc8d59\",\"#d53e4f\"],\"start\":1},\"id\":\"1187\",\"type\":\"CategoricalColorMapper\"},{\"attributes\":{\"source\":{\"id\":\"1004\"}},\"id\":\"1181\",\"type\":\"CDSView\"},{\"attributes\":{},\"id\":\"1093\",\"type\":\"ResetTool\"},{\"attributes\":{},\"id\":\"1230\",\"type\":\"BasicTickFormatter\"},{\"attributes\":{\"factors\":[[\"10-19\",\"Male\"],[\"20-29\",\"Female\"],[\"20-29\",\"Male\"],[\"30-39\",\"Female\"],[\"30-39\",\"Male\"],[\"40-49\",\"Female\"],[\"40-49\",\"Male\"],[\"50\",\"Male\"],[\"50-59\",\"Female\"],[\"50-59\",\"Male\"],[\"60-69\",\"Female\"],[\"60-69\",\"Male\"],[\"61\",\"Female\"],[\"70-79\",\"Female\"],[\"70-79\",\"Male\"],[\"80-89\",\"Female\"],[\"80-89\",\"Male\"],[\"90-99\",\"Female\"],[\"90-99\",\"Male\"],[\"<1\",\"Male\"],[\"<10\",\"Female\"],[\"<10\",\"Male\"],[\"<18\",\"Female\"],[\"<18\",\"Male\"],[\"<20\",\"Female\"],[\"<20\",\"Male\"]]},\"id\":\"1135\",\"type\":\"FactorRange\"},{\"attributes\":{},\"id\":\"1140\",\"type\":\"DataRange1d\"},{\"attributes\":{\"fill_alpha\":{\"value\":0.1},\"fill_color\":{\"value\":\"#1f77b4\"},\"line_alpha\":{\"value\":0.1},\"line_color\":{\"value\":\"#1f77b4\"},\"top\":{\"field\":\"people\"},\"width\":{\"value\":0.3},\"x\":{\"field\":\"sex\"}},\"id\":\"1179\",\"type\":\"VBar\"},{\"attributes\":{},\"id\":\"1241\",\"type\":\"UnionRenderers\"},{\"attributes\":{\"text\":\"Confirmed Cases By Gender & Age\"},\"id\":\"1137\",\"type\":\"Title\"},{\"attributes\":{\"source\":{\"id\":\"1003\"}},\"id\":\"1176\",\"type\":\"CDSView\"},{\"attributes\":{},\"id\":\"1153\",\"type\":\"PanTool\"},{\"attributes\":{},\"id\":\"1239\",\"type\":\"Selection\"},{\"attributes\":{},\"id\":\"1094\",\"type\":\"HelpTool\"},{\"attributes\":{},\"id\":\"1154\",\"type\":\"WheelZoomTool\"},{\"attributes\":{},\"id\":\"1244\",\"type\":\"UnionRenderers\"},{\"attributes\":{\"active_drag\":\"auto\",\"active_inspect\":\"auto\",\"active_multi\":null,\"active_scroll\":\"auto\",\"active_tap\":\"auto\",\"tools\":[{\"id\":\"1089\"},{\"id\":\"1090\"},{\"id\":\"1091\"},{\"id\":\"1092\"},{\"id\":\"1093\"},{\"id\":\"1094\"},{\"id\":\"1197\"}]},\"id\":\"1096\",\"type\":\"Toolbar\"},{\"attributes\":{},\"id\":\"1121\",\"type\":\"PanTool\"},{\"attributes\":{},\"id\":\"1232\",\"type\":\"UnionRenderers\"},{\"attributes\":{\"overlay\":{\"id\":\"1159\"}},\"id\":\"1155\",\"type\":\"BoxZoomTool\"},{\"attributes\":{},\"id\":\"1233\",\"type\":\"Selection\"},{\"attributes\":{},\"id\":\"1122\",\"type\":\"WheelZoomTool\"},{\"attributes\":{},\"id\":\"1156\",\"type\":\"SaveTool\"},{\"attributes\":{},\"id\":\"1245\",\"type\":\"Selection\"},{\"attributes\":{},\"id\":\"1012\",\"type\":\"DataRange1d\"},{\"attributes\":{},\"id\":\"1092\",\"type\":\"SaveTool\"},{\"attributes\":{\"overlay\":{\"id\":\"1127\"}},\"id\":\"1123\",\"type\":\"BoxZoomTool\"},{\"attributes\":{\"callback\":null,\"tooltips\":[[\"Cases\",\"@people\"]]},\"id\":\"1197\",\"type\":\"HoverTool\"},{\"attributes\":{},\"id\":\"1157\",\"type\":\"ResetTool\"},{\"attributes\":{},\"id\":\"1124\",\"type\":\"SaveTool\"},{\"attributes\":{\"source\":{\"id\":\"1005\"}},\"id\":\"1186\",\"type\":\"CDSView\"},{\"attributes\":{},\"id\":\"1125\",\"type\":\"ResetTool\"},{\"attributes\":{},\"id\":\"1158\",\"type\":\"HelpTool\"},{\"attributes\":{},\"id\":\"1235\",\"type\":\"UnionRenderers\"},{\"attributes\":{\"fill_color\":{\"value\":\"#1f77b4\"},\"line_color\":{\"value\":\"#1f77b4\"},\"top\":{\"field\":\"people\"},\"width\":{\"value\":0.8},\"x\":{\"field\":\"age\"}},\"id\":\"1173\",\"type\":\"VBar\"},{\"attributes\":{\"bottom_units\":\"screen\",\"fill_alpha\":0.5,\"fill_color\":\"lightgrey\",\"left_units\":\"screen\",\"level\":\"overlay\",\"line_alpha\":1.0,\"line_color\":\"black\",\"line_dash\":[4,4],\"line_width\":2,\"render_mode\":\"css\",\"right_units\":\"screen\",\"top_units\":\"screen\"},\"id\":\"1063\",\"type\":\"BoxAnnotation\"},{\"attributes\":{},\"id\":\"1126\",\"type\":\"HelpTool\"},{\"attributes\":{},\"id\":\"1236\",\"type\":\"Selection\"},{\"attributes\":{\"active_drag\":\"auto\",\"active_inspect\":\"auto\",\"active_multi\":null,\"active_scroll\":\"auto\",\"active_tap\":\"auto\",\"tools\":[{\"id\":\"1121\"},{\"id\":\"1122\"},{\"id\":\"1123\"},{\"id\":\"1124\"},{\"id\":\"1125\"},{\"id\":\"1126\"},{\"id\":\"1199\"}]},\"id\":\"1128\",\"type\":\"Toolbar\"},{\"attributes\":{},\"id\":\"1078\",\"type\":\"CategoricalScale\"},{\"attributes\":{},\"id\":\"1214\",\"type\":\"BasicTickFormatter\"},{\"attributes\":{},\"id\":\"1238\",\"type\":\"UnionRenderers\"},{\"attributes\":{},\"id\":\"1080\",\"type\":\"LinearScale\"},{\"attributes\":{},\"id\":\"1218\",\"type\":\"BasicTickFormatter\"},{\"attributes\":{\"callback\":null,\"tooltips\":[[\"Cases\",\"@people\"]]},\"id\":\"1199\",\"type\":\"HoverTool\"},{\"attributes\":{},\"id\":\"1222\",\"type\":\"BasicTickFormatter\"},{\"attributes\":{\"children\":[{\"id\":\"1008\"},{\"id\":\"1040\"}]},\"id\":\"1203\",\"type\":\"Row\"},{\"attributes\":{\"fill_color\":{\"value\":\"#1f77b4\"},\"line_color\":{\"value\":\"#1f77b4\"},\"top\":{\"field\":\"people\"},\"width\":{\"value\":0.3},\"x\":{\"field\":\"sex\"}},\"id\":\"1178\",\"type\":\"VBar\"},{\"attributes\":{\"source\":{\"id\":\"1002\"}},\"id\":\"1171\",\"type\":\"CDSView\"},{\"attributes\":{\"axis_label\":\"Gender\",\"formatter\":{\"id\":\"1220\"},\"ticker\":{\"id\":\"1083\"}},\"id\":\"1082\",\"type\":\"CategoricalAxis\"},{\"attributes\":{},\"id\":\"1242\",\"type\":\"Selection\"},{\"attributes\":{},\"id\":\"1086\",\"type\":\"BasicTicker\"},{\"attributes\":{\"data_source\":{\"id\":\"1002\"},\"glyph\":{\"id\":\"1168\"},\"hover_glyph\":null,\"muted_glyph\":null,\"nonselection_glyph\":{\"id\":\"1169\"},\"selection_glyph\":null,\"view\":{\"id\":\"1171\"}},\"id\":\"1170\",\"type\":\"GlyphRenderer\"},{\"attributes\":{\"callback\":null,\"tooltips\":[[\"Cases\",\"@people\"]]},\"id\":\"1195\",\"type\":\"HoverTool\"},{\"attributes\":{},\"id\":\"1083\",\"type\":\"CategoricalTicker\"},{\"attributes\":{\"data\":{\"age\":[\"10-19\",\"20-29\",\"20-29\",\"30-39\",\"30-39\",\"40-49\",\"40-49\",\"50\",\"50-59\",\"50-59\",\"60-69\",\"60-69\",\"61\",\"70-79\",\"70-79\",\"80-89\",\"80-89\",\"90-99\",\"90-99\",\"<1\",\"<10\",\"<10\",\"<18\",\"<18\",\"<20\",\"<20\"],\"index\":[0,1,2,3,4,5,6,7,8,9,10,11,12,13,14,15,16,17,18,19,20,21,22,23,24,25],\"label\":[[\"10-19\",\"Male\"],[\"20-29\",\"Female\"],[\"20-29\",\"Male\"],[\"30-39\",\"Female\"],[\"30-39\",\"Male\"],[\"40-49\",\"Female\"],[\"40-49\",\"Male\"],[\"50\",\"Male\"],[\"50-59\",\"Female\"],[\"50-59\",\"Male\"],[\"60-69\",\"Female\"],[\"60-69\",\"Male\"],[\"61\",\"Female\"],[\"70-79\",\"Female\"],[\"70-79\",\"Male\"],[\"80-89\",\"Female\"],[\"80-89\",\"Male\"],[\"90-99\",\"Female\"],[\"90-99\",\"Male\"],[\"<1\",\"Male\"],[\"<10\",\"Female\"],[\"<10\",\"Male\"],[\"<18\",\"Female\"],[\"<18\",\"Male\"],[\"<20\",\"Female\"],[\"<20\",\"Male\"]],\"people\":[1,40,34,47,50,38,61,1,77,51,49,54,1,31,29,10,16,6,4,1,1,1,4,1,2,6],\"sex\":[\"Male\",\"Female\",\"Male\",\"Female\",\"Male\",\"Female\",\"Male\",\"Male\",\"Female\",\"Male\",\"Female\",\"Male\",\"Female\",\"Female\",\"Male\",\"Female\",\"Male\",\"Female\",\"Male\",\"Male\",\"Female\",\"Male\",\"Female\",\"Male\",\"Female\",\"Male\"]},\"selected\":{\"id\":\"1245\"},\"selection_policy\":{\"id\":\"1244\"}},\"id\":\"1006\",\"type\":\"ColumnDataSource\"},{\"attributes\":{\"data_source\":{\"id\":\"1006\"},\"glyph\":{\"id\":\"1189\"},\"hover_glyph\":null,\"muted_glyph\":null,\"nonselection_glyph\":{\"id\":\"1190\"},\"selection_glyph\":null,\"view\":{\"id\":\"1192\"}},\"id\":\"1191\",\"type\":\"GlyphRenderer\"},{\"attributes\":{\"data\":{\"age\":[\"50-59\",\"60-69\",\"40-49\",\"30-39\",\"20-29\",\"70-79\",\"80-89\",\"90-99\",\"<20\",\"<18\",\"<10\",\"10-19\",\"<1\",\"61\",\"50\",\"2\"],\"index\":[0,1,2,3,4,5,6,7,8,9,10,11,12,13,14,15],\"people\":[136,115,106,106,88,64,26,12,8,5,5,2,1,1,1,1]},\"selected\":{\"id\":\"1242\"},\"selection_policy\":{\"id\":\"1241\"}},\"id\":\"1005\",\"type\":\"ColumnDataSource\"},{\"attributes\":{\"axis\":{\"id\":\"1082\"},\"ticker\":null},\"id\":\"1084\",\"type\":\"Grid\"},{\"attributes\":{\"fill_alpha\":{\"value\":0.1},\"fill_color\":{\"field\":\"label\",\"transform\":{\"id\":\"1187\"}},\"line_alpha\":{\"value\":0.1},\"line_color\":{\"value\":\"#1f77b4\"},\"top\":{\"field\":\"people\"},\"width\":{\"value\":0.8},\"x\":{\"field\":\"label\"}},\"id\":\"1190\",\"type\":\"VBar\"},{\"attributes\":{\"active_drag\":\"auto\",\"active_inspect\":\"auto\",\"active_multi\":null,\"active_scroll\":\"auto\",\"active_tap\":\"auto\",\"tools\":[{\"id\":\"1153\"},{\"id\":\"1154\"},{\"id\":\"1155\"},{\"id\":\"1156\"},{\"id\":\"1157\"},{\"id\":\"1158\"},{\"id\":\"1201\"}]},\"id\":\"1160\",\"type\":\"Toolbar\"},{\"attributes\":{\"fill_color\":{\"value\":\"#1f77b4\"},\"line_color\":{\"value\":\"#1f77b4\"},\"top\":{\"field\":\"people\"},\"width\":{\"value\":0.8},\"x\":{\"field\":\"age\"}},\"id\":\"1183\",\"type\":\"VBar\"},{\"attributes\":{\"bottom_units\":\"screen\",\"fill_alpha\":0.5,\"fill_color\":\"lightgrey\",\"left_units\":\"screen\",\"level\":\"overlay\",\"line_alpha\":1.0,\"line_color\":\"black\",\"line_dash\":[4,4],\"line_width\":2,\"render_mode\":\"css\",\"right_units\":\"screen\",\"top_units\":\"screen\"},\"id\":\"1159\",\"type\":\"BoxAnnotation\"},{\"attributes\":{\"axis_label\":\"Number of Confirmed Cases\",\"formatter\":{\"id\":\"1222\"},\"ticker\":{\"id\":\"1086\"}},\"id\":\"1085\",\"type\":\"LinearAxis\"},{\"attributes\":{\"source\":{\"id\":\"1006\"}},\"id\":\"1192\",\"type\":\"CDSView\"},{\"attributes\":{\"data_source\":{\"id\":\"1005\"},\"glyph\":{\"id\":\"1183\"},\"hover_glyph\":null,\"muted_glyph\":null,\"nonselection_glyph\":{\"id\":\"1184\"},\"selection_glyph\":null,\"view\":{\"id\":\"1186\"}},\"id\":\"1185\",\"type\":\"GlyphRenderer\"},{\"attributes\":{\"bottom_units\":\"screen\",\"fill_alpha\":0.5,\"fill_color\":\"lightgrey\",\"left_units\":\"screen\",\"level\":\"overlay\",\"line_alpha\":1.0,\"line_color\":\"black\",\"line_dash\":[4,4],\"line_width\":2,\"render_mode\":\"css\",\"right_units\":\"screen\",\"top_units\":\"screen\"},\"id\":\"1127\",\"type\":\"BoxAnnotation\"},{\"attributes\":{},\"id\":\"1022\",\"type\":\"BasicTicker\"},{\"attributes\":{},\"id\":\"1044\",\"type\":\"DataRange1d\"},{\"attributes\":{\"background_fill_color\":\"#fafafa\",\"below\":[{\"id\":\"1146\"}],\"center\":[{\"id\":\"1148\"},{\"id\":\"1152\"}],\"left\":[{\"id\":\"1149\"}],\"plot_height\":300,\"plot_width\":990,\"renderers\":[{\"id\":\"1191\"}],\"title\":{\"id\":\"1137\"},\"toolbar\":{\"id\":\"1160\"},\"x_range\":{\"id\":\"1135\"},\"x_scale\":{\"id\":\"1142\"},\"y_range\":{\"id\":\"1140\"},\"y_scale\":{\"id\":\"1144\"}},\"id\":\"1136\",\"subtype\":\"Figure\",\"type\":\"Plot\"},{\"attributes\":{\"active_drag\":\"auto\",\"active_inspect\":\"auto\",\"active_multi\":null,\"active_scroll\":\"auto\",\"active_tap\":\"auto\",\"tools\":[{\"id\":\"1025\"},{\"id\":\"1026\"},{\"id\":\"1027\"},{\"id\":\"1028\"},{\"id\":\"1029\"},{\"id\":\"1030\"},{\"id\":\"1193\"}]},\"id\":\"1032\",\"type\":\"Toolbar\"},{\"attributes\":{\"axis\":{\"id\":\"1021\"},\"dimension\":1,\"ticker\":null},\"id\":\"1024\",\"type\":\"Grid\"},{\"attributes\":{\"text\":\"Confirmed Cases By Age\"},\"id\":\"1041\",\"type\":\"Title\"},{\"attributes\":{\"background_fill_color\":\"#fafafa\",\"below\":[{\"id\":\"1050\"}],\"center\":[{\"id\":\"1052\"},{\"id\":\"1056\"}],\"left\":[{\"id\":\"1053\"}],\"plot_height\":300,\"plot_width\":495,\"renderers\":[{\"id\":\"1175\"}],\"title\":{\"id\":\"1041\"},\"toolbar\":{\"id\":\"1064\"},\"x_range\":{\"id\":\"1039\"},\"x_scale\":{\"id\":\"1046\"},\"y_range\":{\"id\":\"1044\"},\"y_scale\":{\"id\":\"1048\"}},\"id\":\"1040\",\"subtype\":\"Figure\",\"type\":\"Plot\"},{\"attributes\":{},\"id\":\"1025\",\"type\":\"PanTool\"},{\"attributes\":{\"axis\":{\"id\":\"1053\"},\"dimension\":1,\"ticker\":null},\"id\":\"1056\",\"type\":\"Grid\"},{\"attributes\":{},\"id\":\"1026\",\"type\":\"WheelZoomTool\"},{\"attributes\":{\"overlay\":{\"id\":\"1031\"}},\"id\":\"1027\",\"type\":\"BoxZoomTool\"},{\"attributes\":{},\"id\":\"1028\",\"type\":\"SaveTool\"},{\"attributes\":{},\"id\":\"1029\",\"type\":\"ResetTool\"},{\"attributes\":{\"background_fill_color\":\"#fafafa\",\"below\":[{\"id\":\"1114\"}],\"center\":[{\"id\":\"1116\"},{\"id\":\"1120\"}],\"left\":[{\"id\":\"1117\"}],\"plot_height\":300,\"plot_width\":495,\"renderers\":[{\"id\":\"1185\"}],\"title\":{\"id\":\"1105\"},\"toolbar\":{\"id\":\"1128\"},\"x_range\":{\"id\":\"1103\"},\"x_scale\":{\"id\":\"1110\"},\"y_range\":{\"id\":\"1108\"},\"y_scale\":{\"id\":\"1112\"}},\"id\":\"1104\",\"subtype\":\"Figure\",\"type\":\"Plot\"},{\"attributes\":{},\"id\":\"1030\",\"type\":\"HelpTool\"},{\"attributes\":{\"fill_color\":{\"field\":\"label\",\"transform\":{\"id\":\"1187\"}},\"line_color\":{\"value\":\"#1f77b4\"},\"top\":{\"field\":\"people\"},\"width\":{\"value\":0.8},\"x\":{\"field\":\"label\"}},\"id\":\"1189\",\"type\":\"VBar\"},{\"attributes\":{},\"id\":\"1090\",\"type\":\"WheelZoomTool\"},{\"attributes\":{\"fill_alpha\":{\"value\":0.1},\"fill_color\":{\"value\":\"#1f77b4\"},\"line_alpha\":{\"value\":0.1},\"line_color\":{\"value\":\"#1f77b4\"},\"top\":{\"field\":\"people\"},\"width\":{\"value\":0.5},\"x\":{\"field\":\"sex\"}},\"id\":\"1169\",\"type\":\"VBar\"},{\"attributes\":{\"overlay\":{\"id\":\"1095\"}},\"id\":\"1091\",\"type\":\"BoxZoomTool\"},{\"attributes\":{},\"id\":\"1110\",\"type\":\"CategoricalScale\"},{\"attributes\":{\"bottom_units\":\"screen\",\"fill_alpha\":0.5,\"fill_color\":\"lightgrey\",\"left_units\":\"screen\",\"level\":\"overlay\",\"line_alpha\":1.0,\"line_color\":\"black\",\"line_dash\":[4,4],\"line_width\":2,\"render_mode\":\"css\",\"right_units\":\"screen\",\"top_units\":\"screen\"},\"id\":\"1031\",\"type\":\"BoxAnnotation\"},{\"attributes\":{},\"id\":\"1089\",\"type\":\"PanTool\"},{\"attributes\":{\"text\":\"Confirmed Cases By Age\"},\"id\":\"1105\",\"type\":\"Title\"},{\"attributes\":{\"data\":{\"index\":[0,1,2],\"people\":[5689,319,312],\"sex\":[\"Not Reported\",\"Male\",\"Female\"]},\"selected\":{\"id\":\"1233\"},\"selection_policy\":{\"id\":\"1232\"}},\"id\":\"1002\",\"type\":\"ColumnDataSource\"},{\"attributes\":{},\"id\":\"1108\",\"type\":\"DataRange1d\"},{\"attributes\":{\"fill_color\":{\"value\":\"#1f77b4\"},\"line_color\":{\"value\":\"#1f77b4\"},\"top\":{\"field\":\"people\"},\"width\":{\"value\":0.5},\"x\":{\"field\":\"sex\"}},\"id\":\"1168\",\"type\":\"VBar\"},{\"attributes\":{\"axis\":{\"id\":\"1085\"},\"dimension\":1,\"ticker\":null},\"id\":\"1088\",\"type\":\"Grid\"},{\"attributes\":{\"factors\":[\"Not Reported\",\"50-59\",\"60-69\",\"40-49\",\"30-39\",\"20-29\",\"70-79\",\"80-89\",\"90-99\",\"<20\",\"<18\",\"<10\",\"10-19\",\"50\",\"<1\",\"2\",\"61\"]},\"id\":\"1039\",\"type\":\"FactorRange\"},{\"attributes\":{\"factors\":[\"Not Reported\",\"Male\",\"Female\"]},\"id\":\"1007\",\"type\":\"FactorRange\"},{\"attributes\":{},\"id\":\"1046\",\"type\":\"CategoricalScale\"},{\"attributes\":{\"background_fill_color\":\"#fafafa\",\"below\":[{\"id\":\"1018\"}],\"center\":[{\"id\":\"1020\"},{\"id\":\"1024\"}],\"left\":[{\"id\":\"1021\"}],\"plot_height\":300,\"plot_width\":495,\"renderers\":[{\"id\":\"1170\"}],\"title\":{\"id\":\"1009\"},\"toolbar\":{\"id\":\"1032\"},\"x_range\":{\"id\":\"1007\"},\"x_scale\":{\"id\":\"1014\"},\"y_range\":{\"id\":\"1012\"},\"y_scale\":{\"id\":\"1016\"}},\"id\":\"1008\",\"subtype\":\"Figure\",\"type\":\"Plot\"},{\"attributes\":{},\"id\":\"1048\",\"type\":\"LinearScale\"},{\"attributes\":{\"axis_label\":\"Number of Confirmed Cases\",\"formatter\":{\"id\":\"1214\"},\"ticker\":{\"id\":\"1022\"}},\"id\":\"1021\",\"type\":\"LinearAxis\"},{\"attributes\":{\"text\":\"Confirmed Cases By Gender\"},\"id\":\"1009\",\"type\":\"Title\"},{\"attributes\":{\"axis_label\":\"Age\",\"formatter\":{\"id\":\"1216\"},\"major_label_orientation\":1,\"ticker\":{\"id\":\"1051\"}},\"id\":\"1050\",\"type\":\"CategoricalAxis\"},{\"attributes\":{\"factors\":[\"Male\",\"Female\"]},\"id\":\"1071\",\"type\":\"FactorRange\"},{\"attributes\":{},\"id\":\"1212\",\"type\":\"CategoricalTickFormatter\"},{\"attributes\":{},\"id\":\"1051\",\"type\":\"CategoricalTicker\"},{\"attributes\":{\"axis_label\":\"Gender\",\"formatter\":{\"id\":\"1212\"},\"ticker\":{\"id\":\"1019\"}},\"id\":\"1018\",\"type\":\"CategoricalAxis\"},{\"attributes\":{},\"id\":\"1014\",\"type\":\"CategoricalScale\"},{\"attributes\":{\"axis\":{\"id\":\"1050\"},\"ticker\":null},\"id\":\"1052\",\"type\":\"Grid\"},{\"attributes\":{},\"id\":\"1016\",\"type\":\"LinearScale\"},{\"attributes\":{},\"id\":\"1054\",\"type\":\"BasicTicker\"},{\"attributes\":{\"axis\":{\"id\":\"1018\"},\"ticker\":null},\"id\":\"1020\",\"type\":\"Grid\"},{\"attributes\":{\"axis_label\":\"Number of Confirmed Cases\",\"formatter\":{\"id\":\"1218\"},\"ticker\":{\"id\":\"1054\"}},\"id\":\"1053\",\"type\":\"LinearAxis\"},{\"attributes\":{},\"id\":\"1019\",\"type\":\"CategoricalTicker\"}],\"root_ids\":[\"1206\"]},\"title\":\"Bokeh Application\",\"version\":\"2.0.1\"}};\n",
       "  var render_items = [{\"docid\":\"d0ac0855-61ea-40bc-9269-39411e8c7be6\",\"root_ids\":[\"1206\"],\"roots\":{\"1206\":\"e0b65fdc-771a-4c6d-9c4b-c06d63a0b564\"}}];\n",
       "  root.Bokeh.embed.embed_items_notebook(docs_json, render_items);\n",
       "\n",
       "  }\n",
       "  if (root.Bokeh !== undefined) {\n",
       "    embed_document(root);\n",
       "  } else {\n",
       "    var attempts = 0;\n",
       "    var timer = setInterval(function(root) {\n",
       "      if (root.Bokeh !== undefined) {\n",
       "        clearInterval(timer);\n",
       "        embed_document(root);\n",
       "      } else {\n",
       "        attempts++;\n",
       "        if (attempts > 100) {\n",
       "          clearInterval(timer);\n",
       "          console.log(\"Bokeh: ERROR: Unable to run BokehJS code because BokehJS library is missing\");\n",
       "        }\n",
       "      }\n",
       "    }, 10, root)\n",
       "  }\n",
       "})(window);"
      ],
      "application/vnd.bokehjs_exec.v0+json": ""
     },
     "metadata": {
      "application/vnd.bokehjs_exec.v0+json": {
       "id": "1206"
      }
     },
     "output_type": "display_data"
    }
   ],
   "source": [
    "plot1 = figure(title = \"Confirmed Cases By Gender\", plot_width = 495, plot_height = 300, x_range = FactorRange(factors = all_gender_factors),background_fill_color=\"#fafafa\")\n",
    "plot2 = figure(title = \"Confirmed Cases By Age\",plot_width = 495, plot_height = 300, x_range = FactorRange(factors = all_age_factors),background_fill_color=\"#fafafa\")\n",
    "plot3 = figure(title = \"Confirmed Cases By Gender\",plot_width = 495, plot_height = 300, x_range = FactorRange(factors = sex_case_factors),background_fill_color=\"#fafafa\")\n",
    "plot4 = figure(title = \"Confirmed Cases By Age\",plot_width = 495, plot_height = 300, x_range = FactorRange(factors = age_case_factors),background_fill_color=\"#fafafa\")\n",
    "plot5 = figure(title = \"Confirmed Cases By Gender & Age\",plot_width = 990, plot_height = 300, x_range = FactorRange(factors = sex_age['label']),background_fill_color=\"#fafafa\")\n",
    "\n",
    "plot1.vbar(x = 'sex' , top = 'people' , width = 0.5, source = all_gender_data)\n",
    "plot2.vbar(x = 'age' , top = 'people' , width = 0.8, source = all_age_data)\n",
    "plot3.vbar(x = 'sex' , top = 'people' , width = 0.3, source = sex_case_data)\n",
    "plot4.vbar(x = 'age' , top = 'people' , width = 0.8, source = age_case_data)\n",
    "plot5.vbar(x = 'label' , top = 'people' , width = 0.8, source = sex_age_data,\\\n",
    "          fill_color=factor_cmap('label', factors= sex_age['sex'] , start=1, end=2, palette = Spectral6))\n",
    "\n",
    "plot1.add_tools(HoverTool(tooltips = [('Cases', '@people')]))\n",
    "plot2.add_tools(HoverTool(tooltips = [('Cases', '@people')]))\n",
    "plot3.add_tools(HoverTool(tooltips = [('Cases', '@people')]))\n",
    "plot4.add_tools(HoverTool(tooltips = [('Cases', '@people')]))\n",
    "plot5.add_tools(HoverTool(tooltips = [('Cases', '@people')]))\n",
    "\n",
    "plot2.xaxis.major_label_orientation = 1\n",
    "plot4.xaxis.major_label_orientation = 1\n",
    "plot5.xaxis.major_label_orientation = 1\n",
    "\n",
    "plot1.xaxis.axis_label = 'Gender'\n",
    "plot1.yaxis.axis_label = 'Number of Confirmed Cases'\n",
    "plot2.xaxis.axis_label = 'Age'\n",
    "plot2.yaxis.axis_label = 'Number of Confirmed Cases'\n",
    "plot3.xaxis.axis_label = 'Gender'\n",
    "plot3.yaxis.axis_label = 'Number of Confirmed Cases'\n",
    "plot4.xaxis.axis_label = 'Age'\n",
    "plot4.yaxis.axis_label = 'Number of Confirmed Cases'\n",
    "plot5.xaxis.axis_label = 'Gender & Age'\n",
    "plot5.yaxis.axis_label = 'Number of Confirmed Cases'\n",
    "\n",
    "grid = layout([[plot1,plot2],[plot3, plot4],[plot5]]) \n",
    "\n",
    "show(grid)"
   ]
  },
  {
   "cell_type": "markdown",
   "metadata": {},
   "source": [
    "### Setting "
   ]
  },
  {
   "cell_type": "code",
   "execution_count": 9,
   "metadata": {},
   "outputs": [],
   "source": [
    "data_report = pd.DataFrame(n_cases['date_report'].value_counts()).reset_index().sort_values(by = 'index')\n",
    "data_report_data = ColumnDataSource(data_report)\n",
    "report_week = pd.DataFrame(n_cases['report_week'].value_counts()).reset_index().sort_values(by = 'index')\n",
    "report_week_data = ColumnDataSource(report_week)"
   ]
  },
  {
   "cell_type": "markdown",
   "metadata": {},
   "source": [
    "### Confirmed Cases Over Time\n",
    "This chart shows the number of confirmed cases on each date."
   ]
  },
  {
   "cell_type": "code",
   "execution_count": 10,
   "metadata": {},
   "outputs": [
    {
     "data": {
      "text/html": [
       "\n",
       "\n",
       "\n",
       "\n",
       "\n",
       "\n",
       "  <div class=\"bk-root\" id=\"6aede5b5-d6cd-456a-922d-0a9e8a447f31\" data-root-id=\"1639\"></div>\n"
      ]
     },
     "metadata": {},
     "output_type": "display_data"
    },
    {
     "data": {
      "application/javascript": [
       "(function(root) {\n",
       "  function embed_document(root) {\n",
       "    \n",
       "  var docs_json = {\"5a001a7a-13a2-4aa3-838e-d6e519b80901\":{\"roots\":{\"references\":[{\"attributes\":{\"children\":[{\"id\":\"1636\"},{\"id\":\"1637\"},{\"id\":\"1638\"}]},\"id\":\"1639\",\"type\":\"Column\"},{\"attributes\":{\"text\":\"Confirmed Cases By Week\"},\"id\":\"1523\",\"type\":\"Title\"},{\"attributes\":{},\"id\":\"1531\",\"type\":\"LinearScale\"},{\"attributes\":{\"axis\":{\"id\":\"1570\"},\"dimension\":1,\"ticker\":null},\"id\":\"1573\",\"type\":\"Grid\"},{\"attributes\":{\"background_fill_color\":\"#fafafa\",\"below\":[{\"id\":\"1566\"}],\"center\":[{\"id\":\"1569\"},{\"id\":\"1573\"}],\"left\":[{\"id\":\"1570\"}],\"plot_height\":300,\"plot_width\":900,\"renderers\":[{\"id\":\"1611\"},{\"id\":\"1616\"},{\"id\":\"1621\"},{\"id\":\"1626\"}],\"title\":{\"id\":\"1556\"},\"toolbar\":{\"id\":\"1581\"},\"x_range\":{\"id\":\"1558\"},\"x_scale\":{\"id\":\"1562\"},\"y_range\":{\"id\":\"1560\"},\"y_scale\":{\"id\":\"1564\"}},\"id\":\"1555\",\"subtype\":\"Figure\",\"type\":\"Plot\"},{\"attributes\":{\"active_drag\":\"auto\",\"active_inspect\":\"auto\",\"active_multi\":null,\"active_scroll\":\"auto\",\"active_tap\":\"auto\",\"tools\":[{\"id\":\"1508\"},{\"id\":\"1509\"},{\"id\":\"1510\"},{\"id\":\"1511\"},{\"id\":\"1512\"},{\"id\":\"1513\"},{\"id\":\"1628\"}]},\"id\":\"1515\",\"type\":\"Toolbar\"},{\"attributes\":{\"source\":{\"id\":\"1487\"}},\"id\":\"1612\",\"type\":\"CDSView\"},{\"attributes\":{\"background_fill_color\":\"#fafafa\",\"below\":[{\"id\":\"1500\"}],\"center\":[{\"id\":\"1503\"},{\"id\":\"1507\"}],\"left\":[{\"id\":\"1504\"}],\"plot_height\":300,\"plot_width\":900,\"renderers\":[{\"id\":\"1591\"},{\"id\":\"1596\"}],\"title\":{\"id\":\"1490\"},\"toolbar\":{\"id\":\"1515\"},\"x_range\":{\"id\":\"1492\"},\"x_scale\":{\"id\":\"1496\"},\"y_range\":{\"id\":\"1494\"},\"y_scale\":{\"id\":\"1498\"}},\"id\":\"1489\",\"subtype\":\"Figure\",\"type\":\"Plot\"},{\"attributes\":{\"line_color\":\"orange\",\"line_width\":2,\"x\":{\"field\":\"index\"},\"y\":{\"field\":\"report_week\"}},\"id\":\"1614\",\"type\":\"Line\"},{\"attributes\":{\"line_alpha\":0.1,\"line_color\":\"#1f77b4\",\"line_width\":2,\"x\":{\"field\":\"index\"},\"y\":{\"field\":\"date_report\"}},\"id\":\"1590\",\"type\":\"Line\"},{\"attributes\":{},\"id\":\"1508\",\"type\":\"PanTool\"},{\"attributes\":{\"background_fill_color\":\"#fafafa\",\"below\":[{\"id\":\"1533\"}],\"center\":[{\"id\":\"1536\"},{\"id\":\"1540\"}],\"left\":[{\"id\":\"1537\"}],\"plot_height\":300,\"plot_width\":900,\"renderers\":[{\"id\":\"1601\"},{\"id\":\"1606\"}],\"title\":{\"id\":\"1523\"},\"toolbar\":{\"id\":\"1548\"},\"x_range\":{\"id\":\"1525\"},\"x_scale\":{\"id\":\"1529\"},\"y_range\":{\"id\":\"1527\"},\"y_scale\":{\"id\":\"1531\"}},\"id\":\"1522\",\"subtype\":\"Figure\",\"type\":\"Plot\"},{\"attributes\":{\"active_drag\":\"auto\",\"active_inspect\":\"auto\",\"active_multi\":null,\"active_scroll\":\"auto\",\"active_tap\":\"auto\",\"tools\":[{\"id\":\"1574\"},{\"id\":\"1575\"},{\"id\":\"1576\"},{\"id\":\"1577\"},{\"id\":\"1578\"},{\"id\":\"1579\"},{\"id\":\"1632\"},{\"id\":\"1634\"}]},\"id\":\"1581\",\"type\":\"Toolbar\"},{\"attributes\":{},\"id\":\"1509\",\"type\":\"WheelZoomTool\"},{\"attributes\":{\"fill_color\":{\"value\":\"#1f77b4\"},\"line_color\":{\"value\":\"#1f77b4\"},\"size\":{\"units\":\"screen\",\"value\":5},\"x\":{\"field\":\"index\"},\"y\":{\"field\":\"date_report\"}},\"id\":\"1619\",\"type\":\"Circle\"},{\"attributes\":{\"source\":{\"id\":\"1487\"}},\"id\":\"1592\",\"type\":\"CDSView\"},{\"attributes\":{},\"id\":\"1511\",\"type\":\"SaveTool\"},{\"attributes\":{},\"id\":\"1574\",\"type\":\"PanTool\"},{\"attributes\":{\"axis_label\":\"Number of Confirmed Cases\",\"formatter\":{\"id\":\"1685\"},\"ticker\":{\"id\":\"1505\"}},\"id\":\"1504\",\"type\":\"LinearAxis\"},{\"attributes\":{\"overlay\":{\"id\":\"1514\"}},\"id\":\"1510\",\"type\":\"BoxZoomTool\"},{\"attributes\":{},\"id\":\"1529\",\"type\":\"LinearScale\"},{\"attributes\":{},\"id\":\"1575\",\"type\":\"WheelZoomTool\"},{\"attributes\":{},\"id\":\"1512\",\"type\":\"ResetTool\"},{\"attributes\":{\"overlay\":{\"id\":\"1580\"}},\"id\":\"1576\",\"type\":\"BoxZoomTool\"},{\"attributes\":{},\"id\":\"1513\",\"type\":\"HelpTool\"},{\"attributes\":{},\"id\":\"1577\",\"type\":\"SaveTool\"},{\"attributes\":{},\"id\":\"1492\",\"type\":\"DataRange1d\"},{\"attributes\":{\"axis_label\":\"Date\",\"formatter\":{\"id\":\"1687\"},\"ticker\":{\"id\":\"1534\"}},\"id\":\"1533\",\"type\":\"DatetimeAxis\"},{\"attributes\":{},\"id\":\"1578\",\"type\":\"ResetTool\"},{\"attributes\":{},\"id\":\"1505\",\"type\":\"BasicTicker\"},{\"attributes\":{\"text\":\"Confirmed Cases By Date\"},\"id\":\"1490\",\"type\":\"Title\"},{\"attributes\":{},\"id\":\"1579\",\"type\":\"HelpTool\"},{\"attributes\":{\"mantissas\":[1,2,5],\"max_interval\":500.0,\"num_minor_ticks\":0},\"id\":\"1695\",\"type\":\"AdaptiveTicker\"},{\"attributes\":{\"fill_color\":{\"value\":\"orange\"},\"line_color\":{\"value\":\"orange\"},\"size\":{\"units\":\"screen\",\"value\":5},\"x\":{\"field\":\"index\"},\"y\":{\"field\":\"report_week\"}},\"id\":\"1624\",\"type\":\"Circle\"},{\"attributes\":{\"data_source\":{\"id\":\"1488\"},\"glyph\":{\"id\":\"1614\"},\"hover_glyph\":null,\"muted_glyph\":null,\"nonselection_glyph\":{\"id\":\"1615\"},\"selection_glyph\":null,\"view\":{\"id\":\"1617\"}},\"id\":\"1616\",\"type\":\"GlyphRenderer\"},{\"attributes\":{\"bottom_units\":\"screen\",\"fill_alpha\":0.5,\"fill_color\":\"lightgrey\",\"left_units\":\"screen\",\"level\":\"overlay\",\"line_alpha\":1.0,\"line_color\":\"black\",\"line_dash\":[4,4],\"line_width\":2,\"render_mode\":\"css\",\"right_units\":\"screen\",\"top_units\":\"screen\"},\"id\":\"1514\",\"type\":\"BoxAnnotation\"},{\"attributes\":{\"line_alpha\":0.1,\"line_color\":\"orange\",\"line_width\":2,\"x\":{\"field\":\"index\"},\"y\":{\"field\":\"report_week\"}},\"id\":\"1615\",\"type\":\"Line\"},{\"attributes\":{},\"id\":\"1494\",\"type\":\"DataRange1d\"},{\"attributes\":{\"source\":{\"id\":\"1488\"}},\"id\":\"1617\",\"type\":\"CDSView\"},{\"attributes\":{\"source\":{\"id\":\"1488\"}},\"id\":\"1607\",\"type\":\"CDSView\"},{\"attributes\":{\"source\":{\"id\":\"1488\"}},\"id\":\"1602\",\"type\":\"CDSView\"},{\"attributes\":{\"bottom_units\":\"screen\",\"fill_alpha\":0.5,\"fill_color\":\"lightgrey\",\"left_units\":\"screen\",\"level\":\"overlay\",\"line_alpha\":1.0,\"line_color\":\"black\",\"line_dash\":[4,4],\"line_width\":2,\"render_mode\":\"css\",\"right_units\":\"screen\",\"top_units\":\"screen\"},\"id\":\"1580\",\"type\":\"BoxAnnotation\"},{\"attributes\":{\"data_source\":{\"id\":\"1487\"},\"glyph\":{\"id\":\"1589\"},\"hover_glyph\":null,\"muted_glyph\":null,\"nonselection_glyph\":{\"id\":\"1590\"},\"selection_glyph\":null,\"view\":{\"id\":\"1592\"}},\"id\":\"1591\",\"type\":\"GlyphRenderer\"},{\"attributes\":{\"days\":[1,4,7,10,13,16,19,22,25,28]},\"id\":\"1699\",\"type\":\"DaysTicker\"},{\"attributes\":{\"data_source\":{\"id\":\"1487\"},\"glyph\":{\"id\":\"1609\"},\"hover_glyph\":null,\"muted_glyph\":null,\"nonselection_glyph\":{\"id\":\"1610\"},\"selection_glyph\":null,\"view\":{\"id\":\"1612\"}},\"id\":\"1611\",\"type\":\"GlyphRenderer\"},{\"attributes\":{\"data\":{\"index\":{\"__ndarray__\":\"AAAAlrH7dkIAAEBe8v12QgAAgCYzAHdCAADA7nMCd0IAAAC3tAR3QgAAQH/1BndCAACARzYJd0IAAMAPdwt3QgAAANi3DXdCAABAoPgPd0IAAIBoORJ3Qg==\",\"dtype\":\"float64\",\"shape\":[11]},\"level_0\":[9,7,6,10,8,5,4,3,1,0,2],\"report_week\":[1,3,3,1,1,11,40,197,1074,4324,665]},\"selected\":{\"id\":\"1723\"},\"selection_policy\":{\"id\":\"1722\"}},\"id\":\"1488\",\"type\":\"ColumnDataSource\"},{\"attributes\":{\"fill_alpha\":{\"value\":0.1},\"fill_color\":{\"value\":\"#1f77b4\"},\"line_alpha\":{\"value\":0.1},\"line_color\":{\"value\":\"#1f77b4\"},\"size\":{\"units\":\"screen\",\"value\":5},\"x\":{\"field\":\"index\"},\"y\":{\"field\":\"report_week\"}},\"id\":\"1605\",\"type\":\"Circle\"},{\"attributes\":{\"line_alpha\":0.1,\"line_color\":\"#1f77b4\",\"line_width\":2,\"x\":{\"field\":\"index\"},\"y\":{\"field\":\"date_report\"}},\"id\":\"1610\",\"type\":\"Line\"},{\"attributes\":{\"data_source\":{\"id\":\"1488\"},\"glyph\":{\"id\":\"1604\"},\"hover_glyph\":null,\"muted_glyph\":null,\"nonselection_glyph\":{\"id\":\"1605\"},\"selection_glyph\":null,\"view\":{\"id\":\"1607\"}},\"id\":\"1606\",\"type\":\"GlyphRenderer\"},{\"attributes\":{\"data_source\":{\"id\":\"1487\"},\"glyph\":{\"id\":\"1619\"},\"hover_glyph\":null,\"muted_glyph\":null,\"nonselection_glyph\":{\"id\":\"1620\"},\"selection_glyph\":null,\"view\":{\"id\":\"1622\"}},\"id\":\"1621\",\"type\":\"GlyphRenderer\"},{\"attributes\":{\"line_color\":\"#1f77b4\",\"line_width\":2,\"x\":{\"field\":\"index\"},\"y\":{\"field\":\"date_report\"}},\"id\":\"1609\",\"type\":\"Line\"},{\"attributes\":{\"fill_alpha\":{\"value\":0.1},\"fill_color\":{\"value\":\"#1f77b4\"},\"line_alpha\":{\"value\":0.1},\"line_color\":{\"value\":\"#1f77b4\"},\"size\":{\"units\":\"screen\",\"value\":5},\"x\":{\"field\":\"index\"},\"y\":{\"field\":\"date_report\"}},\"id\":\"1620\",\"type\":\"Circle\"},{\"attributes\":{\"axis\":{\"id\":\"1504\"},\"dimension\":1,\"ticker\":null},\"id\":\"1507\",\"type\":\"Grid\"},{\"attributes\":{},\"id\":\"1498\",\"type\":\"LinearScale\"},{\"attributes\":{},\"id\":\"1496\",\"type\":\"LinearScale\"},{\"attributes\":{\"source\":{\"id\":\"1487\"}},\"id\":\"1622\",\"type\":\"CDSView\"},{\"attributes\":{\"base\":60,\"mantissas\":[1,2,5,10,15,20,30],\"max_interval\":1800000.0,\"min_interval\":1000.0,\"num_minor_ticks\":0},\"id\":\"1696\",\"type\":\"AdaptiveTicker\"},{\"attributes\":{\"fill_alpha\":{\"value\":0.1},\"fill_color\":{\"value\":\"orange\"},\"line_alpha\":{\"value\":0.1},\"line_color\":{\"value\":\"orange\"},\"size\":{\"units\":\"screen\",\"value\":5},\"x\":{\"field\":\"index\"},\"y\":{\"field\":\"report_week\"}},\"id\":\"1625\",\"type\":\"Circle\"},{\"attributes\":{\"callback\":null,\"tooltips\":[[\"Cases\",\"@date_report\"]]},\"id\":\"1628\",\"type\":\"HoverTool\"},{\"attributes\":{\"axis\":{\"id\":\"1537\"},\"dimension\":1,\"ticker\":null},\"id\":\"1540\",\"type\":\"Grid\"},{\"attributes\":{\"days\":[1,4,7,10,13,16,19,22,25,28]},\"id\":\"1714\",\"type\":\"DaysTicker\"},{\"attributes\":{\"num_minor_ticks\":5,\"tickers\":[{\"id\":\"1710\"},{\"id\":\"1711\"},{\"id\":\"1712\"},{\"id\":\"1713\"},{\"id\":\"1714\"},{\"id\":\"1715\"},{\"id\":\"1716\"},{\"id\":\"1717\"},{\"id\":\"1718\"},{\"id\":\"1719\"},{\"id\":\"1720\"},{\"id\":\"1721\"}]},\"id\":\"1534\",\"type\":\"DatetimeTicker\"},{\"attributes\":{\"axis\":{\"id\":\"1500\"},\"ticker\":null},\"id\":\"1503\",\"type\":\"Grid\"},{\"attributes\":{\"days\":[1,8,15,22]},\"id\":\"1715\",\"type\":\"DaysTicker\"},{\"attributes\":{\"axis\":{\"id\":\"1533\"},\"ticker\":null},\"id\":\"1536\",\"type\":\"Grid\"},{\"attributes\":{},\"id\":\"1527\",\"type\":\"DataRange1d\"},{\"attributes\":{\"days\":[1,15]},\"id\":\"1716\",\"type\":\"DaysTicker\"},{\"attributes\":{},\"id\":\"1538\",\"type\":\"BasicTicker\"},{\"attributes\":{\"source\":{\"id\":\"1488\"}},\"id\":\"1627\",\"type\":\"CDSView\"},{\"attributes\":{\"axis_label\":\"Number of Confirmed Cases\",\"formatter\":{\"id\":\"1689\"},\"ticker\":{\"id\":\"1538\"}},\"id\":\"1537\",\"type\":\"LinearAxis\"},{\"attributes\":{\"data_source\":{\"id\":\"1488\"},\"glyph\":{\"id\":\"1624\"},\"hover_glyph\":null,\"muted_glyph\":null,\"nonselection_glyph\":{\"id\":\"1625\"},\"selection_glyph\":null,\"view\":{\"id\":\"1627\"}},\"id\":\"1626\",\"type\":\"GlyphRenderer\"},{\"attributes\":{\"months\":[0,1,2,3,4,5,6,7,8,9,10,11]},\"id\":\"1717\",\"type\":\"MonthsTicker\"},{\"attributes\":{},\"id\":\"1525\",\"type\":\"DataRange1d\"},{\"attributes\":{},\"id\":\"1562\",\"type\":\"LinearScale\"},{\"attributes\":{\"callback\":null,\"tooltips\":[[\"Cases\",\"@report_week\"]]},\"id\":\"1630\",\"type\":\"HoverTool\"},{\"attributes\":{\"months\":[0,2,4,6,8,10]},\"id\":\"1718\",\"type\":\"MonthsTicker\"},{\"attributes\":{\"text\":\"Confirmed Cases By Date & Week\"},\"id\":\"1556\",\"type\":\"Title\"},{\"attributes\":{\"callback\":null,\"renderers\":[{\"id\":\"1611\"}],\"tooltips\":[[\"Cases\",\"@date_report\"]]},\"id\":\"1632\",\"type\":\"HoverTool\"},{\"attributes\":{\"months\":[0,4,8]},\"id\":\"1719\",\"type\":\"MonthsTicker\"},{\"attributes\":{\"fill_alpha\":{\"value\":0.1},\"fill_color\":{\"value\":\"#1f77b4\"},\"line_alpha\":{\"value\":0.1},\"line_color\":{\"value\":\"#1f77b4\"},\"size\":{\"units\":\"screen\",\"value\":5},\"x\":{\"field\":\"index\"},\"y\":{\"field\":\"date_report\"}},\"id\":\"1595\",\"type\":\"Circle\"},{\"attributes\":{},\"id\":\"1558\",\"type\":\"DataRange1d\"},{\"attributes\":{\"data\":{\"date_report\":[1,1,1,1,1,2,1,1,1,1,1,2,2,4,4,9,1,12,8,6,7,19,9,21,40,42,59,84,100,156,130,146,214,244,140,620,728,590,634,714,898,665],\"index\":{\"__ndarray__\":\"AACA+J/9dkIAAADERP52QgAAwCmX/nZCAAAAW47/dkIAAADy1wB3QgAAgL18AXdCAACA6w8Ed0IAAABO/gV3QgAAQH/1BndCAAAA5UcHd0IAAICw7Ad3QgAAQBY/CHdCAAAAfJEId0IAAMDh4wh3QgAAgEc2CXdCAAAAE9sJd0IAAMB4LQp3QgAAgN5/CndCAABARNIKd0IAAACqJAt3QgAAwA93C3dCAACAdckLd0IAAEDbGwx3QgAAAEFuDHdCAADApsAMd0IAAIAMEw13QgAAQHJlDXdCAAAA2LcNd0IAAMA9Cg53QgAAgKNcDndCAABACa8Od0IAAABvAQ93QgAAwNRTD3dCAACAOqYPd0IAAECg+A93QgAAAAZLEHdCAADAa50Qd0IAAIDR7xB3QgAAQDdCEXdCAAAAnZQRd0IAAMAC5xF3QgAAgGg5EndC\",\"dtype\":\"float64\",\"shape\":[42]},\"level_0\":[32,39,37,34,33,28,40,35,41,38,31,29,30,27,26,21,36,20,23,25,24,19,22,18,17,16,15,14,13,9,12,10,8,7,11,5,1,6,4,2,0,3]},\"selected\":{\"id\":\"1708\"},\"selection_policy\":{\"id\":\"1707\"}},\"id\":\"1487\",\"type\":\"ColumnDataSource\"},{\"attributes\":{\"months\":[0,6]},\"id\":\"1720\",\"type\":\"MonthsTicker\"},{\"attributes\":{\"active_drag\":\"auto\",\"active_inspect\":\"auto\",\"active_multi\":null,\"active_scroll\":\"auto\",\"active_tap\":\"auto\",\"tools\":[{\"id\":\"1541\"},{\"id\":\"1542\"},{\"id\":\"1543\"},{\"id\":\"1544\"},{\"id\":\"1545\"},{\"id\":\"1546\"},{\"id\":\"1630\"}]},\"id\":\"1548\",\"type\":\"Toolbar\"},{\"attributes\":{\"callback\":null,\"renderers\":[{\"id\":\"1616\"}],\"tooltips\":[[\"Cases\",\"@report_week\"]]},\"id\":\"1634\",\"type\":\"HoverTool\"},{\"attributes\":{},\"id\":\"1723\",\"type\":\"Selection\"},{\"attributes\":{\"children\":[{\"id\":\"1522\"}]},\"id\":\"1637\",\"type\":\"Row\"},{\"attributes\":{\"fill_color\":{\"value\":\"#1f77b4\"},\"line_color\":{\"value\":\"#1f77b4\"},\"size\":{\"units\":\"screen\",\"value\":5},\"x\":{\"field\":\"index\"},\"y\":{\"field\":\"date_report\"}},\"id\":\"1594\",\"type\":\"Circle\"},{\"attributes\":{},\"id\":\"1721\",\"type\":\"YearsTicker\"},{\"attributes\":{},\"id\":\"1541\",\"type\":\"PanTool\"},{\"attributes\":{\"days\":[1,2,3,4,5,6,7,8,9,10,11,12,13,14,15,16,17,18,19,20,21,22,23,24,25,26,27,28,29,30,31]},\"id\":\"1713\",\"type\":\"DaysTicker\"},{\"attributes\":{},\"id\":\"1722\",\"type\":\"UnionRenderers\"},{\"attributes\":{},\"id\":\"1683\",\"type\":\"DatetimeTickFormatter\"},{\"attributes\":{\"mantissas\":[1,2,5],\"max_interval\":500.0,\"num_minor_ticks\":0},\"id\":\"1725\",\"type\":\"AdaptiveTicker\"},{\"attributes\":{\"children\":[{\"id\":\"1489\"}]},\"id\":\"1636\",\"type\":\"Row\"},{\"attributes\":{},\"id\":\"1542\",\"type\":\"WheelZoomTool\"},{\"attributes\":{},\"id\":\"1685\",\"type\":\"BasicTickFormatter\"},{\"attributes\":{\"overlay\":{\"id\":\"1547\"}},\"id\":\"1543\",\"type\":\"BoxZoomTool\"},{\"attributes\":{},\"id\":\"1544\",\"type\":\"SaveTool\"},{\"attributes\":{\"mantissas\":[1,2,5],\"max_interval\":500.0,\"num_minor_ticks\":0},\"id\":\"1710\",\"type\":\"AdaptiveTicker\"},{\"attributes\":{\"base\":24,\"mantissas\":[1,2,4,6,8,12],\"max_interval\":43200000.0,\"min_interval\":3600000.0,\"num_minor_ticks\":0},\"id\":\"1727\",\"type\":\"AdaptiveTicker\"},{\"attributes\":{\"children\":[{\"id\":\"1555\"}]},\"id\":\"1638\",\"type\":\"Row\"},{\"attributes\":{\"base\":60,\"mantissas\":[1,2,5,10,15,20,30],\"max_interval\":1800000.0,\"min_interval\":1000.0,\"num_minor_ticks\":0},\"id\":\"1726\",\"type\":\"AdaptiveTicker\"},{\"attributes\":{},\"id\":\"1545\",\"type\":\"ResetTool\"},{\"attributes\":{},\"id\":\"1546\",\"type\":\"HelpTool\"},{\"attributes\":{\"days\":[1,2,3,4,5,6,7,8,9,10,11,12,13,14,15,16,17,18,19,20,21,22,23,24,25,26,27,28,29,30,31]},\"id\":\"1728\",\"type\":\"DaysTicker\"},{\"attributes\":{\"axis_label\":\"Date\",\"formatter\":{\"id\":\"1683\"},\"ticker\":{\"id\":\"1501\"}},\"id\":\"1500\",\"type\":\"DatetimeAxis\"},{\"attributes\":{},\"id\":\"1687\",\"type\":\"DatetimeTickFormatter\"},{\"attributes\":{\"days\":[1,4,7,10,13,16,19,22,25,28]},\"id\":\"1729\",\"type\":\"DaysTicker\"},{\"attributes\":{\"fill_color\":{\"value\":\"#1f77b4\"},\"line_color\":{\"value\":\"#1f77b4\"},\"size\":{\"units\":\"screen\",\"value\":5},\"x\":{\"field\":\"index\"},\"y\":{\"field\":\"report_week\"}},\"id\":\"1604\",\"type\":\"Circle\"},{\"attributes\":{},\"id\":\"1689\",\"type\":\"BasicTickFormatter\"},{\"attributes\":{\"days\":[1,8,15,22]},\"id\":\"1730\",\"type\":\"DaysTicker\"},{\"attributes\":{\"line_alpha\":0.1,\"line_color\":\"#1f77b4\",\"line_width\":2,\"x\":{\"field\":\"index\"},\"y\":{\"field\":\"report_week\"}},\"id\":\"1600\",\"type\":\"Line\"},{\"attributes\":{},\"id\":\"1691\",\"type\":\"DatetimeTickFormatter\"},{\"attributes\":{\"days\":[1,15]},\"id\":\"1731\",\"type\":\"DaysTicker\"},{\"attributes\":{\"data_source\":{\"id\":\"1488\"},\"glyph\":{\"id\":\"1599\"},\"hover_glyph\":null,\"muted_glyph\":null,\"nonselection_glyph\":{\"id\":\"1600\"},\"selection_glyph\":null,\"view\":{\"id\":\"1602\"}},\"id\":\"1601\",\"type\":\"GlyphRenderer\"},{\"attributes\":{},\"id\":\"1693\",\"type\":\"BasicTickFormatter\"},{\"attributes\":{\"days\":[1,2,3,4,5,6,7,8,9,10,11,12,13,14,15,16,17,18,19,20,21,22,23,24,25,26,27,28,29,30,31]},\"id\":\"1698\",\"type\":\"DaysTicker\"},{\"attributes\":{\"months\":[0,1,2,3,4,5,6,7,8,9,10,11]},\"id\":\"1732\",\"type\":\"MonthsTicker\"},{\"attributes\":{\"base\":24,\"mantissas\":[1,2,4,6,8,12],\"max_interval\":43200000.0,\"min_interval\":3600000.0,\"num_minor_ticks\":0},\"id\":\"1697\",\"type\":\"AdaptiveTicker\"},{\"attributes\":{\"months\":[0,2,4,6,8,10]},\"id\":\"1733\",\"type\":\"MonthsTicker\"},{\"attributes\":{\"source\":{\"id\":\"1487\"}},\"id\":\"1597\",\"type\":\"CDSView\"},{\"attributes\":{\"line_color\":\"#1f77b4\",\"line_width\":2,\"x\":{\"field\":\"index\"},\"y\":{\"field\":\"report_week\"}},\"id\":\"1599\",\"type\":\"Line\"},{\"attributes\":{\"days\":[1,8,15,22]},\"id\":\"1700\",\"type\":\"DaysTicker\"},{\"attributes\":{\"months\":[0,4,8]},\"id\":\"1734\",\"type\":\"MonthsTicker\"},{\"attributes\":{\"days\":[1,15]},\"id\":\"1701\",\"type\":\"DaysTicker\"},{\"attributes\":{\"months\":[0,6]},\"id\":\"1735\",\"type\":\"MonthsTicker\"},{\"attributes\":{\"bottom_units\":\"screen\",\"fill_alpha\":0.5,\"fill_color\":\"lightgrey\",\"left_units\":\"screen\",\"level\":\"overlay\",\"line_alpha\":1.0,\"line_color\":\"black\",\"line_dash\":[4,4],\"line_width\":2,\"render_mode\":\"css\",\"right_units\":\"screen\",\"top_units\":\"screen\"},\"id\":\"1547\",\"type\":\"BoxAnnotation\"},{\"attributes\":{\"data_source\":{\"id\":\"1487\"},\"glyph\":{\"id\":\"1594\"},\"hover_glyph\":null,\"muted_glyph\":null,\"nonselection_glyph\":{\"id\":\"1595\"},\"selection_glyph\":null,\"view\":{\"id\":\"1597\"}},\"id\":\"1596\",\"type\":\"GlyphRenderer\"},{\"attributes\":{\"months\":[0,1,2,3,4,5,6,7,8,9,10,11]},\"id\":\"1702\",\"type\":\"MonthsTicker\"},{\"attributes\":{},\"id\":\"1736\",\"type\":\"YearsTicker\"},{\"attributes\":{\"months\":[0,2,4,6,8,10]},\"id\":\"1703\",\"type\":\"MonthsTicker\"},{\"attributes\":{},\"id\":\"1560\",\"type\":\"DataRange1d\"},{\"attributes\":{\"months\":[0,4,8]},\"id\":\"1704\",\"type\":\"MonthsTicker\"},{\"attributes\":{},\"id\":\"1564\",\"type\":\"LinearScale\"},{\"attributes\":{\"num_minor_ticks\":5,\"tickers\":[{\"id\":\"1695\"},{\"id\":\"1696\"},{\"id\":\"1697\"},{\"id\":\"1698\"},{\"id\":\"1699\"},{\"id\":\"1700\"},{\"id\":\"1701\"},{\"id\":\"1702\"},{\"id\":\"1703\"},{\"id\":\"1704\"},{\"id\":\"1705\"},{\"id\":\"1706\"}]},\"id\":\"1501\",\"type\":\"DatetimeTicker\"},{\"attributes\":{\"months\":[0,6]},\"id\":\"1705\",\"type\":\"MonthsTicker\"},{\"attributes\":{},\"id\":\"1708\",\"type\":\"Selection\"},{\"attributes\":{\"line_color\":\"#1f77b4\",\"line_width\":2,\"x\":{\"field\":\"index\"},\"y\":{\"field\":\"date_report\"}},\"id\":\"1589\",\"type\":\"Line\"},{\"attributes\":{},\"id\":\"1706\",\"type\":\"YearsTicker\"},{\"attributes\":{},\"id\":\"1707\",\"type\":\"UnionRenderers\"},{\"attributes\":{\"axis_label\":\"Date\",\"formatter\":{\"id\":\"1691\"},\"ticker\":{\"id\":\"1567\"}},\"id\":\"1566\",\"type\":\"DatetimeAxis\"},{\"attributes\":{\"num_minor_ticks\":5,\"tickers\":[{\"id\":\"1725\"},{\"id\":\"1726\"},{\"id\":\"1727\"},{\"id\":\"1728\"},{\"id\":\"1729\"},{\"id\":\"1730\"},{\"id\":\"1731\"},{\"id\":\"1732\"},{\"id\":\"1733\"},{\"id\":\"1734\"},{\"id\":\"1735\"},{\"id\":\"1736\"}]},\"id\":\"1567\",\"type\":\"DatetimeTicker\"},{\"attributes\":{\"base\":24,\"mantissas\":[1,2,4,6,8,12],\"max_interval\":43200000.0,\"min_interval\":3600000.0,\"num_minor_ticks\":0},\"id\":\"1712\",\"type\":\"AdaptiveTicker\"},{\"attributes\":{\"axis_label\":\"Number of Confirmed Cases\",\"formatter\":{\"id\":\"1693\"},\"ticker\":{\"id\":\"1571\"}},\"id\":\"1570\",\"type\":\"LinearAxis\"},{\"attributes\":{\"base\":60,\"mantissas\":[1,2,5,10,15,20,30],\"max_interval\":1800000.0,\"min_interval\":1000.0,\"num_minor_ticks\":0},\"id\":\"1711\",\"type\":\"AdaptiveTicker\"},{\"attributes\":{\"axis\":{\"id\":\"1566\"},\"ticker\":null},\"id\":\"1569\",\"type\":\"Grid\"},{\"attributes\":{},\"id\":\"1571\",\"type\":\"BasicTicker\"}],\"root_ids\":[\"1639\"]},\"title\":\"Bokeh Application\",\"version\":\"2.0.1\"}};\n",
       "  var render_items = [{\"docid\":\"5a001a7a-13a2-4aa3-838e-d6e519b80901\",\"root_ids\":[\"1639\"],\"roots\":{\"1639\":\"6aede5b5-d6cd-456a-922d-0a9e8a447f31\"}}];\n",
       "  root.Bokeh.embed.embed_items_notebook(docs_json, render_items);\n",
       "\n",
       "  }\n",
       "  if (root.Bokeh !== undefined) {\n",
       "    embed_document(root);\n",
       "  } else {\n",
       "    var attempts = 0;\n",
       "    var timer = setInterval(function(root) {\n",
       "      if (root.Bokeh !== undefined) {\n",
       "        clearInterval(timer);\n",
       "        embed_document(root);\n",
       "      } else {\n",
       "        attempts++;\n",
       "        if (attempts > 100) {\n",
       "          clearInterval(timer);\n",
       "          console.log(\"Bokeh: ERROR: Unable to run BokehJS code because BokehJS library is missing\");\n",
       "        }\n",
       "      }\n",
       "    }, 10, root)\n",
       "  }\n",
       "})(window);"
      ],
      "application/vnd.bokehjs_exec.v0+json": ""
     },
     "metadata": {
      "application/vnd.bokehjs_exec.v0+json": {
       "id": "1639"
      }
     },
     "output_type": "display_data"
    }
   ],
   "source": [
    "plot1 = figure(title = \"Confirmed Cases By Date\",plot_width = 900, plot_height = 300,x_axis_type=\"datetime\",background_fill_color=\"#fafafa\")\n",
    "plot2 = figure(title = \"Confirmed Cases By Week\",plot_width = 900, plot_height = 300,x_axis_type=\"datetime\",background_fill_color=\"#fafafa\")\n",
    "plot3 = figure(title = \"Confirmed Cases By Date & Week\",plot_width = 900, plot_height = 300,x_axis_type=\"datetime\",background_fill_color=\"#fafafa\")\n",
    "\n",
    "plot1.line(x = 'index' , y = 'date_report' , width = 2, source = data_report_data);\n",
    "plot1.circle(x = 'index', y = 'date_report', size= 5, source = data_report_data);\n",
    "\n",
    "plot2.line(x = 'index' , y = 'report_week' , width = 2, source = report_week_data);\n",
    "plot2.circle(x = 'index', y = 'report_week', size= 5, source = report_week_data);\n",
    "\n",
    "line1 = plot3.line(x = 'index' , y = 'date_report' , width = 2, source = data_report_data)\n",
    "line2 = plot3.line(x = 'index' , y = 'report_week' , width = 2, source = report_week_data, color= 'orange')\n",
    "circle1 = plot3.circle(x = 'index', y = 'date_report', size= 5, source = data_report_data)\n",
    "circle2 = plot3.circle(x = 'index', y = 'report_week', size= 5, source = report_week_data,color= 'orange')\n",
    "\n",
    "plot1.add_tools(HoverTool(tooltips = [('Cases', '@date_report')]))\n",
    "plot2.add_tools(HoverTool(tooltips = [('Cases', '@report_week')]))\n",
    "plot3.add_tools(HoverTool(renderers=[line1], tooltips = [('Cases', '@date_report')]))\n",
    "plot3.add_tools(HoverTool(renderers=[line2], tooltips = [('Cases', '@report_week')]))\n",
    "\n",
    "plot1.xaxis.axis_label = 'Date'\n",
    "plot1.yaxis.axis_label = 'Number of Confirmed Cases'\n",
    "plot2.xaxis.axis_label = 'Date'\n",
    "plot2.yaxis.axis_label = 'Number of Confirmed Cases'\n",
    "plot3.xaxis.axis_label = 'Date'\n",
    "plot3.yaxis.axis_label = 'Number of Confirmed Cases'\n",
    "\n",
    "grid = layout([[plot1],[plot2],[plot3]])\n",
    "\n",
    "show(grid)"
   ]
  },
  {
   "cell_type": "markdown",
   "metadata": {},
   "source": [
    "### Setting "
   ]
  },
  {
   "cell_type": "code",
   "execution_count": 11,
   "metadata": {
    "scrolled": false
   },
   "outputs": [],
   "source": [
    "province = (pd.DataFrame(n_cases['province'].value_counts()).reset_index()\n",
    "                 .sort_values(by = 'province',ascending = False))\n",
    "province_factors = pd.unique(province['index'])\n",
    "province_data = ColumnDataSource(province)\n",
    "\n",
    "health_region = (pd.DataFrame(n_cases['health_region'].value_counts()).reset_index()\n",
    "                 .sort_values(by = 'health_region',ascending = False))\n",
    "health_region_factors = pd.unique(health_region['index'])\n",
    "health_region_data = ColumnDataSource(health_region)"
   ]
  },
  {
   "cell_type": "markdown",
   "metadata": {},
   "source": [
    "### Confirmed Cases  By Region\n",
    "This chart shows the number of confirmed cases in each province and health region."
   ]
  },
  {
   "cell_type": "code",
   "execution_count": 12,
   "metadata": {},
   "outputs": [
    {
     "data": {
      "text/html": [
       "\n",
       "\n",
       "\n",
       "\n",
       "\n",
       "\n",
       "  <div class=\"bk-root\" id=\"b2aa2228-edda-4f1a-a353-45e42995bc0e\" data-root-id=\"2172\"></div>\n"
      ]
     },
     "metadata": {},
     "output_type": "display_data"
    },
    {
     "data": {
      "application/javascript": [
       "(function(root) {\n",
       "  function embed_document(root) {\n",
       "    \n",
       "  var docs_json = {\"7db3588d-7413-443a-8821-525fa28b62aa\":{\"roots\":{\"references\":[{\"attributes\":{\"children\":[{\"id\":\"2170\"},{\"id\":\"2171\"}]},\"id\":\"2172\",\"type\":\"Column\"},{\"attributes\":{\"axis\":{\"id\":\"2103\"},\"ticker\":null},\"id\":\"2105\",\"type\":\"Grid\"},{\"attributes\":{\"fill_alpha\":{\"value\":0.1},\"fill_color\":{\"value\":\"#1f77b4\"},\"line_alpha\":{\"value\":0.1},\"line_color\":{\"value\":\"#1f77b4\"},\"top\":{\"field\":\"health_region\"},\"width\":{\"value\":0.5},\"x\":{\"field\":\"index\"}},\"id\":\"2163\",\"type\":\"VBar\"},{\"attributes\":{},\"id\":\"2143\",\"type\":\"WheelZoomTool\"},{\"attributes\":{\"data_source\":{\"id\":\"2090\"},\"glyph\":{\"id\":\"2157\"},\"hover_glyph\":null,\"muted_glyph\":null,\"nonselection_glyph\":{\"id\":\"2158\"},\"selection_glyph\":null,\"view\":{\"id\":\"2160\"}},\"id\":\"2159\",\"type\":\"GlyphRenderer\"},{\"attributes\":{\"axis_label\":\"Number of Confirmed Cases\",\"formatter\":{\"id\":\"2279\"},\"ticker\":{\"id\":\"2139\"}},\"id\":\"2138\",\"type\":\"LinearAxis\"},{\"attributes\":{\"fill_color\":{\"value\":\"#1f77b4\"},\"line_color\":{\"value\":\"#1f77b4\"},\"top\":{\"field\":\"health_region\"},\"width\":{\"value\":0.5},\"x\":{\"field\":\"index\"}},\"id\":\"2162\",\"type\":\"VBar\"},{\"attributes\":{},\"id\":\"2282\",\"type\":\"Selection\"},{\"attributes\":{},\"id\":\"2101\",\"type\":\"LinearScale\"},{\"attributes\":{\"data\":{\"index\":[\"Quebec\",\"Ontario\",\"BC\",\"Alberta\",\"Saskatchewan\",\"NL\",\"Nova Scotia\",\"Manitoba\",\"New Brunswick\",\"Repatriated\",\"PEI\",\"Yukon\",\"NWT\"],\"level_0\":[0,1,2,3,4,5,6,7,8,9,10,11,12],\"province\":[2840,1355,884,661,156,135,122,72,66,13,11,4,1]},\"selected\":{\"id\":\"2282\"},\"selection_policy\":{\"id\":\"2281\"}},\"id\":\"2090\",\"type\":\"ColumnDataSource\"},{\"attributes\":{},\"id\":\"2147\",\"type\":\"HelpTool\"},{\"attributes\":{\"axis_label\":\"Number of Confirmed Cases\",\"formatter\":{\"id\":\"2275\"},\"ticker\":{\"id\":\"2107\"}},\"id\":\"2106\",\"type\":\"LinearAxis\"},{\"attributes\":{\"axis\":{\"id\":\"2138\"},\"dimension\":1,\"ticker\":null},\"id\":\"2141\",\"type\":\"Grid\"},{\"attributes\":{\"children\":[{\"id\":\"2093\"}]},\"id\":\"2170\",\"type\":\"Row\"},{\"attributes\":{},\"id\":\"2281\",\"type\":\"UnionRenderers\"},{\"attributes\":{\"bottom_units\":\"screen\",\"fill_alpha\":0.5,\"fill_color\":\"lightgrey\",\"left_units\":\"screen\",\"level\":\"overlay\",\"line_alpha\":1.0,\"line_color\":\"black\",\"line_dash\":[4,4],\"line_width\":2,\"render_mode\":\"css\",\"right_units\":\"screen\",\"top_units\":\"screen\"},\"id\":\"2116\",\"type\":\"BoxAnnotation\"},{\"attributes\":{},\"id\":\"2284\",\"type\":\"UnionRenderers\"},{\"attributes\":{\"children\":[{\"id\":\"2125\"}]},\"id\":\"2171\",\"type\":\"Row\"},{\"attributes\":{\"background_fill_color\":\"#fafafa\",\"below\":[{\"id\":\"2135\"}],\"center\":[{\"id\":\"2137\"},{\"id\":\"2141\"}],\"left\":[{\"id\":\"2138\"}],\"plot_height\":500,\"plot_width\":990,\"renderers\":[{\"id\":\"2164\"}],\"title\":{\"id\":\"2126\"},\"toolbar\":{\"id\":\"2149\"},\"x_range\":{\"id\":\"2124\"},\"x_scale\":{\"id\":\"2131\"},\"y_range\":{\"id\":\"2129\"},\"y_scale\":{\"id\":\"2133\"}},\"id\":\"2125\",\"subtype\":\"Figure\",\"type\":\"Plot\"},{\"attributes\":{\"axis_label\":\"Health Region\",\"formatter\":{\"id\":\"2277\"},\"major_label_orientation\":1,\"ticker\":{\"id\":\"2136\"}},\"id\":\"2135\",\"type\":\"CategoricalAxis\"},{\"attributes\":{},\"id\":\"2129\",\"type\":\"DataRange1d\"},{\"attributes\":{},\"id\":\"2131\",\"type\":\"CategoricalScale\"},{\"attributes\":{},\"id\":\"2111\",\"type\":\"WheelZoomTool\"},{\"attributes\":{},\"id\":\"2146\",\"type\":\"ResetTool\"},{\"attributes\":{\"overlay\":{\"id\":\"2148\"}},\"id\":\"2144\",\"type\":\"BoxZoomTool\"},{\"attributes\":{\"factors\":[\"Quebec\",\"Ontario\",\"BC\",\"Alberta\",\"Saskatchewan\",\"NL\",\"Nova Scotia\",\"Manitoba\",\"New Brunswick\",\"Repatriated\",\"PEI\",\"Yukon\",\"NWT\"]},\"id\":\"2092\",\"type\":\"FactorRange\"},{\"attributes\":{},\"id\":\"2139\",\"type\":\"BasicTicker\"},{\"attributes\":{\"text\":\"Confirmed Cases By Province\"},\"id\":\"2094\",\"type\":\"Title\"},{\"attributes\":{\"fill_alpha\":{\"value\":0.1},\"fill_color\":{\"value\":\"#1f77b4\"},\"line_alpha\":{\"value\":0.1},\"line_color\":{\"value\":\"#1f77b4\"},\"top\":{\"field\":\"province\"},\"width\":{\"value\":0.2},\"x\":{\"field\":\"index\"}},\"id\":\"2158\",\"type\":\"VBar\"},{\"attributes\":{},\"id\":\"2097\",\"type\":\"DataRange1d\"},{\"attributes\":{},\"id\":\"2145\",\"type\":\"SaveTool\"},{\"attributes\":{},\"id\":\"2110\",\"type\":\"PanTool\"},{\"attributes\":{\"overlay\":{\"id\":\"2116\"}},\"id\":\"2112\",\"type\":\"BoxZoomTool\"},{\"attributes\":{},\"id\":\"2136\",\"type\":\"CategoricalTicker\"},{\"attributes\":{\"data\":{\"health_region\":[1361,903,444,408,296,291,257,180,168,164,149,144,130,122,120,86,78,78,77,72,70,60,60,59,34,32,32,28,28,27,25,23,21,19,18,17,17,17,16,15,14,14,12,11,9,8,8,7,7,5,5,5,5,5,5,4,4,4,4,4,4,4,3,3,3,2,2,2,1,1,1,1,1,1,1,1,1,1,1],\"index\":[\"Montr\\u00e9al\",\"Not Reported\",\"Vancouver Coastal\",\"Calgary\",\"Estrie\",\"Fraser\",\"Mont\\u00e9r\\u00e9gie\",\"Laval\",\"Toronto\",\"Capitale-Nationale\",\"Edmonton\",\"Lanaudi\\u00e8re\",\"Eastern\",\"Mauricie\",\"Laurentides\",\"Chaudi\\u00e8re-Appalaches\",\"York\",\"North\",\"Interior\",\"Saskatoon\",\"Peel\",\"Winnipeg\",\"Island\",\"Central\",\"Regina\",\"Ottawa\",\"Hamilton\",\"Outaouais\",\"Durham\",\"Abitibi-T\\u00e9miscamingue\",\"Haliburton Kawartha Pineridge\",\"Zone 3 (Fredericton area)\",\"Waterloo\",\"Halton\",\"Saguenay\",\"Zone 1 (Moncton area)\",\"C\\u00f4te-Nord\",\"Middlesex-London\",\"South\",\"Zone 2 (Saint John area)\",\"Simcoe Muskoka\",\"Kingston Frontenac Lennox & Addington\",\"Northern\",\"Prince Edward Island\",\"Gasp\\u00e9sie-\\u00celes-de-la-Madeleine\",\"Bas-Saint-Laurent\",\"Niagara\",\"Zone 5 (Campbellton area)\",\"Peterborough\",\"Sudbury\",\"Lambton\",\"Prairie Mountain\",\"Hastings Prince Edward\",\"Labrador-Grenfell\",\"Grey Bruce\",\"Wellington Dufferin Guelph\",\"Porcupine\",\"Zone 4 - Central\",\"Windsor-Essex\",\"Zone 4 (Edmundston area)\",\"Southern Health\",\"Yukon\",\"Interlake-Eastern\",\"Southwestern\",\"Far North\",\"Chatham-Kent\",\"Brant\",\"Northwestern\",\"North Bay Parry Sound\",\"Huron Perth\",\"Algoma\",\"NWT\",\"Terres-Cries-de-la-Baie-James\",\"Zone 1 - Western\",\"Timiskaming\",\"Nord-du-Qu\\u00e9bec\",\"Western\",\"Leeds Grenville and Lanark\",\"Nunavik\"],\"level_0\":[0,1,2,3,4,5,6,7,8,9,10,11,12,13,14,15,16,17,18,19,20,21,22,23,24,25,26,27,28,29,30,31,32,33,34,35,36,37,38,39,40,41,42,43,44,45,46,47,48,50,51,52,53,54,49,58,61,60,59,57,55,56,62,63,64,65,66,67,73,77,76,75,74,69,72,71,70,68,78]},\"selected\":{\"id\":\"2285\"},\"selection_policy\":{\"id\":\"2284\"}},\"id\":\"2091\",\"type\":\"ColumnDataSource\"},{\"attributes\":{\"callback\":null,\"tooltips\":[[\"Cases\",\"@health_region\"]]},\"id\":\"2168\",\"type\":\"HoverTool\"},{\"attributes\":{\"fill_color\":{\"value\":\"#1f77b4\"},\"line_color\":{\"value\":\"#1f77b4\"},\"top\":{\"field\":\"province\"},\"width\":{\"value\":0.2},\"x\":{\"field\":\"index\"}},\"id\":\"2157\",\"type\":\"VBar\"},{\"attributes\":{},\"id\":\"2115\",\"type\":\"HelpTool\"},{\"attributes\":{\"axis\":{\"id\":\"2135\"},\"ticker\":null},\"id\":\"2137\",\"type\":\"Grid\"},{\"attributes\":{},\"id\":\"2279\",\"type\":\"BasicTickFormatter\"},{\"attributes\":{\"bottom_units\":\"screen\",\"fill_alpha\":0.5,\"fill_color\":\"lightgrey\",\"left_units\":\"screen\",\"level\":\"overlay\",\"line_alpha\":1.0,\"line_color\":\"black\",\"line_dash\":[4,4],\"line_width\":2,\"render_mode\":\"css\",\"right_units\":\"screen\",\"top_units\":\"screen\"},\"id\":\"2148\",\"type\":\"BoxAnnotation\"},{\"attributes\":{\"axis_label\":\"Province\",\"formatter\":{\"id\":\"2273\"},\"major_label_orientation\":1,\"ticker\":{\"id\":\"2104\"}},\"id\":\"2103\",\"type\":\"CategoricalAxis\"},{\"attributes\":{},\"id\":\"2099\",\"type\":\"CategoricalScale\"},{\"attributes\":{\"active_drag\":\"auto\",\"active_inspect\":\"auto\",\"active_multi\":null,\"active_scroll\":\"auto\",\"active_tap\":\"auto\",\"tools\":[{\"id\":\"2142\"},{\"id\":\"2143\"},{\"id\":\"2144\"},{\"id\":\"2145\"},{\"id\":\"2146\"},{\"id\":\"2147\"},{\"id\":\"2168\"}]},\"id\":\"2149\",\"type\":\"Toolbar\"},{\"attributes\":{},\"id\":\"2273\",\"type\":\"CategoricalTickFormatter\"},{\"attributes\":{},\"id\":\"2114\",\"type\":\"ResetTool\"},{\"attributes\":{\"axis\":{\"id\":\"2106\"},\"dimension\":1,\"ticker\":null},\"id\":\"2109\",\"type\":\"Grid\"},{\"attributes\":{\"source\":{\"id\":\"2091\"}},\"id\":\"2165\",\"type\":\"CDSView\"},{\"attributes\":{\"source\":{\"id\":\"2090\"}},\"id\":\"2160\",\"type\":\"CDSView\"},{\"attributes\":{},\"id\":\"2275\",\"type\":\"BasicTickFormatter\"},{\"attributes\":{},\"id\":\"2113\",\"type\":\"SaveTool\"},{\"attributes\":{},\"id\":\"2285\",\"type\":\"Selection\"},{\"attributes\":{\"background_fill_color\":\"#fafafa\",\"below\":[{\"id\":\"2103\"}],\"center\":[{\"id\":\"2105\"},{\"id\":\"2109\"}],\"left\":[{\"id\":\"2106\"}],\"plot_height\":300,\"plot_width\":900,\"renderers\":[{\"id\":\"2159\"}],\"title\":{\"id\":\"2094\"},\"toolbar\":{\"id\":\"2117\"},\"x_range\":{\"id\":\"2092\"},\"x_scale\":{\"id\":\"2099\"},\"y_range\":{\"id\":\"2097\"},\"y_scale\":{\"id\":\"2101\"}},\"id\":\"2093\",\"subtype\":\"Figure\",\"type\":\"Plot\"},{\"attributes\":{\"factors\":[\"Montr\\u00e9al\",\"Not Reported\",\"Vancouver Coastal\",\"Calgary\",\"Estrie\",\"Fraser\",\"Mont\\u00e9r\\u00e9gie\",\"Laval\",\"Toronto\",\"Capitale-Nationale\",\"Edmonton\",\"Lanaudi\\u00e8re\",\"Eastern\",\"Mauricie\",\"Laurentides\",\"Chaudi\\u00e8re-Appalaches\",\"York\",\"North\",\"Interior\",\"Saskatoon\",\"Peel\",\"Winnipeg\",\"Island\",\"Central\",\"Regina\",\"Ottawa\",\"Hamilton\",\"Outaouais\",\"Durham\",\"Abitibi-T\\u00e9miscamingue\",\"Haliburton Kawartha Pineridge\",\"Zone 3 (Fredericton area)\",\"Waterloo\",\"Halton\",\"Saguenay\",\"Zone 1 (Moncton area)\",\"C\\u00f4te-Nord\",\"Middlesex-London\",\"South\",\"Zone 2 (Saint John area)\",\"Simcoe Muskoka\",\"Kingston Frontenac Lennox & Addington\",\"Northern\",\"Prince Edward Island\",\"Gasp\\u00e9sie-\\u00celes-de-la-Madeleine\",\"Bas-Saint-Laurent\",\"Niagara\",\"Zone 5 (Campbellton area)\",\"Peterborough\",\"Sudbury\",\"Lambton\",\"Prairie Mountain\",\"Hastings Prince Edward\",\"Labrador-Grenfell\",\"Grey Bruce\",\"Wellington Dufferin Guelph\",\"Porcupine\",\"Zone 4 - Central\",\"Windsor-Essex\",\"Zone 4 (Edmundston area)\",\"Southern Health\",\"Yukon\",\"Interlake-Eastern\",\"Southwestern\",\"Far North\",\"Chatham-Kent\",\"Brant\",\"Northwestern\",\"North Bay Parry Sound\",\"Huron Perth\",\"Algoma\",\"NWT\",\"Terres-Cries-de-la-Baie-James\",\"Zone 1 - Western\",\"Timiskaming\",\"Nord-du-Qu\\u00e9bec\",\"Western\",\"Leeds Grenville and Lanark\",\"Nunavik\"]},\"id\":\"2124\",\"type\":\"FactorRange\"},{\"attributes\":{},\"id\":\"2104\",\"type\":\"CategoricalTicker\"},{\"attributes\":{\"callback\":null,\"tooltips\":[[\"Cases\",\"@province\"]]},\"id\":\"2166\",\"type\":\"HoverTool\"},{\"attributes\":{\"active_drag\":\"auto\",\"active_inspect\":\"auto\",\"active_multi\":null,\"active_scroll\":\"auto\",\"active_tap\":\"auto\",\"tools\":[{\"id\":\"2110\"},{\"id\":\"2111\"},{\"id\":\"2112\"},{\"id\":\"2113\"},{\"id\":\"2114\"},{\"id\":\"2115\"},{\"id\":\"2166\"}]},\"id\":\"2117\",\"type\":\"Toolbar\"},{\"attributes\":{\"text\":\"Confirmed Cases By Health Region\"},\"id\":\"2126\",\"type\":\"Title\"},{\"attributes\":{},\"id\":\"2133\",\"type\":\"LinearScale\"},{\"attributes\":{},\"id\":\"2277\",\"type\":\"CategoricalTickFormatter\"},{\"attributes\":{\"data_source\":{\"id\":\"2091\"},\"glyph\":{\"id\":\"2162\"},\"hover_glyph\":null,\"muted_glyph\":null,\"nonselection_glyph\":{\"id\":\"2163\"},\"selection_glyph\":null,\"view\":{\"id\":\"2165\"}},\"id\":\"2164\",\"type\":\"GlyphRenderer\"},{\"attributes\":{},\"id\":\"2142\",\"type\":\"PanTool\"},{\"attributes\":{},\"id\":\"2107\",\"type\":\"BasicTicker\"}],\"root_ids\":[\"2172\"]},\"title\":\"Bokeh Application\",\"version\":\"2.0.1\"}};\n",
       "  var render_items = [{\"docid\":\"7db3588d-7413-443a-8821-525fa28b62aa\",\"root_ids\":[\"2172\"],\"roots\":{\"2172\":\"b2aa2228-edda-4f1a-a353-45e42995bc0e\"}}];\n",
       "  root.Bokeh.embed.embed_items_notebook(docs_json, render_items);\n",
       "\n",
       "  }\n",
       "  if (root.Bokeh !== undefined) {\n",
       "    embed_document(root);\n",
       "  } else {\n",
       "    var attempts = 0;\n",
       "    var timer = setInterval(function(root) {\n",
       "      if (root.Bokeh !== undefined) {\n",
       "        clearInterval(timer);\n",
       "        embed_document(root);\n",
       "      } else {\n",
       "        attempts++;\n",
       "        if (attempts > 100) {\n",
       "          clearInterval(timer);\n",
       "          console.log(\"Bokeh: ERROR: Unable to run BokehJS code because BokehJS library is missing\");\n",
       "        }\n",
       "      }\n",
       "    }, 10, root)\n",
       "  }\n",
       "})(window);"
      ],
      "application/vnd.bokehjs_exec.v0+json": ""
     },
     "metadata": {
      "application/vnd.bokehjs_exec.v0+json": {
       "id": "2172"
      }
     },
     "output_type": "display_data"
    }
   ],
   "source": [
    "plot1 = figure(title = \"Confirmed Cases By Province\",plot_width = 900, plot_height = 300,x_range = FactorRange(factors = province_factors),background_fill_color=\"#fafafa\")\n",
    "plot2 = figure(title = \"Confirmed Cases By Health Region\",plot_width = 990, plot_height = 500,x_range = FactorRange(factors = health_region_factors),background_fill_color=\"#fafafa\")\n",
    "\n",
    "plot1.vbar(x = 'index' , top = 'province' , width = 0.2, source = province_data);\n",
    "plot2.vbar(x = 'index' , top = 'health_region' , width = 0.5, source = health_region_data);\n",
    "plot1.add_tools(HoverTool(tooltips = [('Cases', '@province')]))\n",
    "plot2.add_tools(HoverTool(tooltips = [('Cases', '@health_region')]))\n",
    "\n",
    "plot1.xaxis.major_label_orientation = 1\n",
    "plot2.xaxis.major_label_orientation = 1\n",
    "\n",
    "plot1.xaxis.axis_label = 'Province'\n",
    "plot1.yaxis.axis_label = 'Number of Confirmed Cases'\n",
    "plot2.xaxis.axis_label = 'Health Region'\n",
    "plot2.yaxis.axis_label = 'Number of Confirmed Cases'\n",
    "\n",
    "grid = layout([[plot1],[plot2]]) \n",
    "\n",
    "show(grid)"
   ]
  },
  {
   "cell_type": "markdown",
   "metadata": {},
   "source": [
    "### Setting "
   ]
  },
  {
   "cell_type": "code",
   "execution_count": 13,
   "metadata": {},
   "outputs": [],
   "source": [
    "n_travel = n_cases.loc[n_cases['travel_yn'] != 'Not Reported']\n",
    "n_travel = (pd.DataFrame(n_travel['travel_yn'].value_counts()).reset_index()\n",
    "                 .sort_values(by = 'travel_yn',ascending = False))\n",
    "n_travel_factors = pd.unique(n_travel['index'])\n",
    "n_travel_data = ColumnDataSource(n_travel)\n",
    "\n",
    "travel_history_country = (pd.DataFrame(n_cases['travel_history_country'].value_counts()).reset_index()\n",
    "                 .sort_values(by = 'travel_history_country',ascending = False))\n",
    "travel_history_country_factors = pd.unique(travel_history_country['index'])\n",
    "travel_history_country_data = ColumnDataSource(travel_history_country)"
   ]
  },
  {
   "cell_type": "markdown",
   "metadata": {},
   "source": [
    "### Number of Travel History\n",
    "\n",
    "This chart shows the number of travel history and where are the travllers coming from."
   ]
  },
  {
   "cell_type": "code",
   "execution_count": 14,
   "metadata": {},
   "outputs": [
    {
     "data": {
      "text/html": [
       "\n",
       "\n",
       "\n",
       "\n",
       "\n",
       "\n",
       "  <div class=\"bk-root\" id=\"ca8f80d6-04c9-428e-958c-946ea2dc0f85\" data-root-id=\"2464\"></div>\n"
      ]
     },
     "metadata": {},
     "output_type": "display_data"
    },
    {
     "data": {
      "application/javascript": [
       "(function(root) {\n",
       "  function embed_document(root) {\n",
       "    \n",
       "  var docs_json = {\"763b3923-93fa-4939-b7b6-ae95ef4b34af\":{\"roots\":{\"references\":[{\"attributes\":{\"children\":[{\"id\":\"2463\"}]},\"id\":\"2464\",\"type\":\"Column\"},{\"attributes\":{\"axis_label\":\"Travel History\",\"formatter\":{\"id\":\"2581\"},\"ticker\":{\"id\":\"2397\"}},\"id\":\"2396\",\"type\":\"CategoricalAxis\"},{\"attributes\":{\"children\":[{\"id\":\"2386\"},{\"id\":\"2418\"}]},\"id\":\"2463\",\"type\":\"Row\"},{\"attributes\":{},\"id\":\"2397\",\"type\":\"CategoricalTicker\"},{\"attributes\":{},\"id\":\"2432\",\"type\":\"BasicTicker\"},{\"attributes\":{\"active_drag\":\"auto\",\"active_inspect\":\"auto\",\"active_multi\":null,\"active_scroll\":\"auto\",\"active_tap\":\"auto\",\"tools\":[{\"id\":\"2403\"},{\"id\":\"2404\"},{\"id\":\"2405\"},{\"id\":\"2406\"},{\"id\":\"2407\"},{\"id\":\"2408\"},{\"id\":\"2459\"}]},\"id\":\"2410\",\"type\":\"Toolbar\"},{\"attributes\":{\"data\":{\"index\":[\"Not Reported\",\"United States\",\"Iran\",\"Egypt\",\"Cruise\",\"United Kingdom\",\"Grand Princess Cruise\",\"Spain\",\"Canada\",\"Grand Princess Cruise Ship\",\"Europe\",\"Italy\",\"China\",\"France\",\"Caribbean\",\"Mexico\",\"Austria\",\"Philippines\",\"Germany\",\"Dominican Republic\",\"Costa Rica\",\"Jamaica\",\"Bahamas\",\"United Arab Emirates\",\"Asia\",\"Singapore\",\"Ecuador\",\"Brazil\",\"Spain, Portugal\",\"Germany, Austria\",\"India\",\"Colombia\",\"Switzerland\",\"United States, Caribbean\",\"Pakistan, Turkey\",\"United Arab Emirates, Philippines\",\"Spain, Belgium, Canary Islands\",\"United States, Puerto Rico\",\"Puerto Rico, U.S. Virgin Islands, Barbados\",\"MS Braemar cruise ship\",\"Egypt, Israel, United Kingdom\",\"United States, Costa Rica\",\"Australia\",\"South Korea, Philippines, Japan\",\"United States, Caribbean Cruise\",\"Barbados\",\"Spain, France\",\"United States, Canada\",\"Jordan\",\"United States, Spain, Costa Rica\",\"Germany, Malta\",\"Spain, Finland\",\"Peru\",\"United Kingdom, United Arab Emirates\",\"Puerto Rico\",\"Portugal\",\"United States, Ireland, United Kingdom\",\"Egypt, United Arab Emirates\",\"India, Hong Kong\",\"Japan, United Kingdom, Germany\",\"Ukraine, Turkey, Netherlands\",\"Greece\",\"Denmark\",\"United Kingdom, United States\",\"Nigeria, Germany, Canada\",\"Cruise (Mexico)\"],\"level_0\":[0,1,2,3,4,5,6,7,8,9,10,11,12,15,16,13,14,17,18,19,20,27,32,31,30,29,28,33,26,24,23,22,21,25,57,52,53,54,55,56,60,58,59,50,61,62,63,64,51,47,49,48,46,45,44,43,42,41,40,39,38,37,36,35,34,65],\"travel_history_country\":[86,79,26,22,21,15,13,10,8,8,8,8,8,7,7,7,7,5,4,3,3,2,2,2,2,2,2,2,2,2,2,2,2,2,1,1,1,1,1,1,1,1,1,1,1,1,1,1,1,1,1,1,1,1,1,1,1,1,1,1,1,1,1,1,1,1]},\"selected\":{\"id\":\"2593\"},\"selection_policy\":{\"id\":\"2592\"}},\"id\":\"2384\",\"type\":\"ColumnDataSource\"},{\"attributes\":{\"axis\":{\"id\":\"2396\"},\"ticker\":null},\"id\":\"2398\",\"type\":\"Grid\"},{\"attributes\":{\"fill_color\":{\"value\":\"#1f77b4\"},\"line_color\":{\"value\":\"#1f77b4\"},\"top\":{\"field\":\"travel_yn\"},\"width\":{\"value\":0.2},\"x\":{\"field\":\"index\"}},\"id\":\"2450\",\"type\":\"VBar\"},{\"attributes\":{\"callback\":null,\"tooltips\":[[\"Cases\",\"@travel_yn\"]]},\"id\":\"2459\",\"type\":\"HoverTool\"},{\"attributes\":{},\"id\":\"2585\",\"type\":\"CategoricalTickFormatter\"},{\"attributes\":{\"axis\":{\"id\":\"2431\"},\"dimension\":1,\"ticker\":null},\"id\":\"2434\",\"type\":\"Grid\"},{\"attributes\":{\"axis_label\":\"Number of Confirmed Cases\",\"formatter\":{\"id\":\"2583\"},\"ticker\":{\"id\":\"2400\"}},\"id\":\"2399\",\"type\":\"LinearAxis\"},{\"attributes\":{\"axis_label\":\"Number of Confirmed Cases\",\"formatter\":{\"id\":\"2587\"},\"ticker\":{\"id\":\"2432\"}},\"id\":\"2431\",\"type\":\"LinearAxis\"},{\"attributes\":{},\"id\":\"2583\",\"type\":\"BasicTickFormatter\"},{\"attributes\":{},\"id\":\"2404\",\"type\":\"WheelZoomTool\"},{\"attributes\":{\"fill_color\":{\"value\":\"#1f77b4\"},\"line_color\":{\"value\":\"#1f77b4\"},\"top\":{\"field\":\"travel_history_country\"},\"width\":{\"value\":0.8},\"x\":{\"field\":\"index\"}},\"id\":\"2455\",\"type\":\"VBar\"},{\"attributes\":{},\"id\":\"2593\",\"type\":\"Selection\"},{\"attributes\":{\"source\":{\"id\":\"2383\"}},\"id\":\"2453\",\"type\":\"CDSView\"},{\"attributes\":{\"background_fill_color\":\"#fafafa\",\"below\":[{\"id\":\"2428\"}],\"center\":[{\"id\":\"2430\"},{\"id\":\"2434\"}],\"left\":[{\"id\":\"2431\"}],\"plot_height\":500,\"plot_width\":780,\"renderers\":[{\"id\":\"2457\"}],\"title\":{\"id\":\"2419\"},\"toolbar\":{\"id\":\"2442\"},\"x_range\":{\"id\":\"2417\"},\"x_scale\":{\"id\":\"2424\"},\"y_range\":{\"id\":\"2422\"},\"y_scale\":{\"id\":\"2426\"}},\"id\":\"2418\",\"subtype\":\"Figure\",\"type\":\"Plot\"},{\"attributes\":{\"data_source\":{\"id\":\"2384\"},\"glyph\":{\"id\":\"2455\"},\"hover_glyph\":null,\"muted_glyph\":null,\"nonselection_glyph\":{\"id\":\"2456\"},\"selection_glyph\":null,\"view\":{\"id\":\"2458\"}},\"id\":\"2457\",\"type\":\"GlyphRenderer\"},{\"attributes\":{},\"id\":\"2592\",\"type\":\"UnionRenderers\"},{\"attributes\":{},\"id\":\"2590\",\"type\":\"Selection\"},{\"attributes\":{\"data_source\":{\"id\":\"2383\"},\"glyph\":{\"id\":\"2450\"},\"hover_glyph\":null,\"muted_glyph\":null,\"nonselection_glyph\":{\"id\":\"2451\"},\"selection_glyph\":null,\"view\":{\"id\":\"2453\"}},\"id\":\"2452\",\"type\":\"GlyphRenderer\"},{\"attributes\":{},\"id\":\"2581\",\"type\":\"CategoricalTickFormatter\"},{\"attributes\":{},\"id\":\"2400\",\"type\":\"BasicTicker\"},{\"attributes\":{},\"id\":\"2403\",\"type\":\"PanTool\"},{\"attributes\":{\"active_drag\":\"auto\",\"active_inspect\":\"auto\",\"active_multi\":null,\"active_scroll\":\"auto\",\"active_tap\":\"auto\",\"tools\":[{\"id\":\"2435\"},{\"id\":\"2436\"},{\"id\":\"2437\"},{\"id\":\"2438\"},{\"id\":\"2439\"},{\"id\":\"2440\"},{\"id\":\"2461\"}]},\"id\":\"2442\",\"type\":\"Toolbar\"},{\"attributes\":{},\"id\":\"2408\",\"type\":\"HelpTool\"},{\"attributes\":{},\"id\":\"2422\",\"type\":\"DataRange1d\"},{\"attributes\":{\"source\":{\"id\":\"2384\"}},\"id\":\"2458\",\"type\":\"CDSView\"},{\"attributes\":{\"factors\":[\"1\",\"0\"]},\"id\":\"2385\",\"type\":\"FactorRange\"},{\"attributes\":{\"text\":\"Travel History\"},\"id\":\"2419\",\"type\":\"Title\"},{\"attributes\":{},\"id\":\"2435\",\"type\":\"PanTool\"},{\"attributes\":{},\"id\":\"2589\",\"type\":\"UnionRenderers\"},{\"attributes\":{\"background_fill_color\":\"#fafafa\",\"below\":[{\"id\":\"2396\"}],\"center\":[{\"id\":\"2398\"},{\"id\":\"2402\"}],\"left\":[{\"id\":\"2399\"}],\"plot_height\":500,\"plot_width\":200,\"renderers\":[{\"id\":\"2452\"}],\"title\":{\"id\":\"2387\"},\"toolbar\":{\"id\":\"2410\"},\"x_range\":{\"id\":\"2385\"},\"x_scale\":{\"id\":\"2392\"},\"y_range\":{\"id\":\"2390\"},\"y_scale\":{\"id\":\"2394\"}},\"id\":\"2386\",\"subtype\":\"Figure\",\"type\":\"Plot\"},{\"attributes\":{},\"id\":\"2436\",\"type\":\"WheelZoomTool\"},{\"attributes\":{\"bottom_units\":\"screen\",\"fill_alpha\":0.5,\"fill_color\":\"lightgrey\",\"left_units\":\"screen\",\"level\":\"overlay\",\"line_alpha\":1.0,\"line_color\":\"black\",\"line_dash\":[4,4],\"line_width\":2,\"render_mode\":\"css\",\"right_units\":\"screen\",\"top_units\":\"screen\"},\"id\":\"2441\",\"type\":\"BoxAnnotation\"},{\"attributes\":{},\"id\":\"2390\",\"type\":\"DataRange1d\"},{\"attributes\":{},\"id\":\"2407\",\"type\":\"ResetTool\"},{\"attributes\":{\"overlay\":{\"id\":\"2441\"}},\"id\":\"2437\",\"type\":\"BoxZoomTool\"},{\"attributes\":{\"bottom_units\":\"screen\",\"fill_alpha\":0.5,\"fill_color\":\"lightgrey\",\"left_units\":\"screen\",\"level\":\"overlay\",\"line_alpha\":1.0,\"line_color\":\"black\",\"line_dash\":[4,4],\"line_width\":2,\"render_mode\":\"css\",\"right_units\":\"screen\",\"top_units\":\"screen\"},\"id\":\"2409\",\"type\":\"BoxAnnotation\"},{\"attributes\":{\"axis_label\":\"Travel Area\",\"formatter\":{\"id\":\"2585\"},\"major_label_orientation\":1,\"ticker\":{\"id\":\"2429\"}},\"id\":\"2428\",\"type\":\"CategoricalAxis\"},{\"attributes\":{},\"id\":\"2406\",\"type\":\"SaveTool\"},{\"attributes\":{\"fill_alpha\":{\"value\":0.1},\"fill_color\":{\"value\":\"#1f77b4\"},\"line_alpha\":{\"value\":0.1},\"line_color\":{\"value\":\"#1f77b4\"},\"top\":{\"field\":\"travel_history_country\"},\"width\":{\"value\":0.8},\"x\":{\"field\":\"index\"}},\"id\":\"2456\",\"type\":\"VBar\"},{\"attributes\":{\"text\":\"Travel Cases\"},\"id\":\"2387\",\"type\":\"Title\"},{\"attributes\":{\"overlay\":{\"id\":\"2409\"}},\"id\":\"2405\",\"type\":\"BoxZoomTool\"},{\"attributes\":{},\"id\":\"2438\",\"type\":\"SaveTool\"},{\"attributes\":{\"axis\":{\"id\":\"2399\"},\"dimension\":1,\"ticker\":null},\"id\":\"2402\",\"type\":\"Grid\"},{\"attributes\":{\"axis\":{\"id\":\"2428\"},\"ticker\":null},\"id\":\"2430\",\"type\":\"Grid\"},{\"attributes\":{\"factors\":[\"Not Reported\",\"United States\",\"Iran\",\"Egypt\",\"Cruise\",\"United Kingdom\",\"Grand Princess Cruise\",\"Spain\",\"Canada\",\"Grand Princess Cruise Ship\",\"Europe\",\"Italy\",\"China\",\"France\",\"Caribbean\",\"Mexico\",\"Austria\",\"Philippines\",\"Germany\",\"Dominican Republic\",\"Costa Rica\",\"Jamaica\",\"Bahamas\",\"United Arab Emirates\",\"Asia\",\"Singapore\",\"Ecuador\",\"Brazil\",\"Spain, Portugal\",\"Germany, Austria\",\"India\",\"Colombia\",\"Switzerland\",\"United States, Caribbean\",\"Pakistan, Turkey\",\"United Arab Emirates, Philippines\",\"Spain, Belgium, Canary Islands\",\"United States, Puerto Rico\",\"Puerto Rico, U.S. Virgin Islands, Barbados\",\"MS Braemar cruise ship\",\"Egypt, Israel, United Kingdom\",\"United States, Costa Rica\",\"Australia\",\"South Korea, Philippines, Japan\",\"United States, Caribbean Cruise\",\"Barbados\",\"Spain, France\",\"United States, Canada\",\"Jordan\",\"United States, Spain, Costa Rica\",\"Germany, Malta\",\"Spain, Finland\",\"Peru\",\"United Kingdom, United Arab Emirates\",\"Puerto Rico\",\"Portugal\",\"United States, Ireland, United Kingdom\",\"Egypt, United Arab Emirates\",\"India, Hong Kong\",\"Japan, United Kingdom, Germany\",\"Ukraine, Turkey, Netherlands\",\"Greece\",\"Denmark\",\"United Kingdom, United States\",\"Nigeria, Germany, Canada\",\"Cruise (Mexico)\"]},\"id\":\"2417\",\"type\":\"FactorRange\"},{\"attributes\":{},\"id\":\"2424\",\"type\":\"CategoricalScale\"},{\"attributes\":{},\"id\":\"2587\",\"type\":\"BasicTickFormatter\"},{\"attributes\":{},\"id\":\"2439\",\"type\":\"ResetTool\"},{\"attributes\":{},\"id\":\"2426\",\"type\":\"LinearScale\"},{\"attributes\":{\"fill_alpha\":{\"value\":0.1},\"fill_color\":{\"value\":\"#1f77b4\"},\"line_alpha\":{\"value\":0.1},\"line_color\":{\"value\":\"#1f77b4\"},\"top\":{\"field\":\"travel_yn\"},\"width\":{\"value\":0.2},\"x\":{\"field\":\"index\"}},\"id\":\"2451\",\"type\":\"VBar\"},{\"attributes\":{},\"id\":\"2429\",\"type\":\"CategoricalTicker\"},{\"attributes\":{\"data\":{\"index\":[\"1\",\"0\"],\"level_0\":[0,1],\"travel_yn\":[413,218]},\"selected\":{\"id\":\"2590\"},\"selection_policy\":{\"id\":\"2589\"}},\"id\":\"2383\",\"type\":\"ColumnDataSource\"},{\"attributes\":{},\"id\":\"2440\",\"type\":\"HelpTool\"},{\"attributes\":{\"callback\":null,\"tooltips\":[[\"Cases\",\"@travel_history_country\"]]},\"id\":\"2461\",\"type\":\"HoverTool\"},{\"attributes\":{},\"id\":\"2394\",\"type\":\"LinearScale\"},{\"attributes\":{},\"id\":\"2392\",\"type\":\"CategoricalScale\"}],\"root_ids\":[\"2464\"]},\"title\":\"Bokeh Application\",\"version\":\"2.0.1\"}};\n",
       "  var render_items = [{\"docid\":\"763b3923-93fa-4939-b7b6-ae95ef4b34af\",\"root_ids\":[\"2464\"],\"roots\":{\"2464\":\"ca8f80d6-04c9-428e-958c-946ea2dc0f85\"}}];\n",
       "  root.Bokeh.embed.embed_items_notebook(docs_json, render_items);\n",
       "\n",
       "  }\n",
       "  if (root.Bokeh !== undefined) {\n",
       "    embed_document(root);\n",
       "  } else {\n",
       "    var attempts = 0;\n",
       "    var timer = setInterval(function(root) {\n",
       "      if (root.Bokeh !== undefined) {\n",
       "        clearInterval(timer);\n",
       "        embed_document(root);\n",
       "      } else {\n",
       "        attempts++;\n",
       "        if (attempts > 100) {\n",
       "          clearInterval(timer);\n",
       "          console.log(\"Bokeh: ERROR: Unable to run BokehJS code because BokehJS library is missing\");\n",
       "        }\n",
       "      }\n",
       "    }, 10, root)\n",
       "  }\n",
       "})(window);"
      ],
      "application/vnd.bokehjs_exec.v0+json": ""
     },
     "metadata": {
      "application/vnd.bokehjs_exec.v0+json": {
       "id": "2464"
      }
     },
     "output_type": "display_data"
    }
   ],
   "source": [
    "plot1 = figure(title = \"Travel Cases\", plot_width = 200, plot_height = 500,x_range = FactorRange(factors = n_travel_factors),background_fill_color=\"#fafafa\")\n",
    "plot2 = figure(title = \"Travel History\",plot_width = 780, plot_height = 500,x_range = FactorRange(factors = travel_history_country_factors),background_fill_color=\"#fafafa\")\n",
    "\n",
    "plot1.vbar(x = 'index' , top = 'travel_yn' , width = 0.2, source = n_travel_data);\n",
    "plot2.vbar(x = 'index' , top = 'travel_history_country' , width = 0.8, source = travel_history_country_data);\n",
    "plot1.add_tools(HoverTool(tooltips = [('Cases', '@travel_yn')]))\n",
    "plot2.add_tools(HoverTool(tooltips = [('Cases', '@travel_history_country')]))\n",
    "\n",
    "plot2.xaxis.major_label_orientation = 1\n",
    "\n",
    "plot1.xaxis.axis_label = 'Travel History'\n",
    "plot1.yaxis.axis_label = 'Number of Confirmed Cases'\n",
    "plot2.xaxis.axis_label = 'Travel Area'\n",
    "plot2.yaxis.axis_label = 'Number of Confirmed Cases'\n",
    "\n",
    "grid = layout([[plot1,plot2]]) \n",
    "\n",
    "show(grid)"
   ]
  },
  {
   "cell_type": "markdown",
   "metadata": {},
   "source": [
    "# Deaths"
   ]
  },
  {
   "cell_type": "code",
   "execution_count": 15,
   "metadata": {},
   "outputs": [
    {
     "data": {
      "text/html": [
       "<div>\n",
       "<style scoped>\n",
       "    .dataframe tbody tr th:only-of-type {\n",
       "        vertical-align: middle;\n",
       "    }\n",
       "\n",
       "    .dataframe tbody tr th {\n",
       "        vertical-align: top;\n",
       "    }\n",
       "\n",
       "    .dataframe thead th {\n",
       "        text-align: right;\n",
       "    }\n",
       "</style>\n",
       "<table border=\"1\" class=\"dataframe\">\n",
       "  <thead>\n",
       "    <tr style=\"text-align: right;\">\n",
       "      <th></th>\n",
       "      <th>death_id</th>\n",
       "      <th>province_death_id</th>\n",
       "      <th>case_id</th>\n",
       "      <th>age</th>\n",
       "      <th>sex</th>\n",
       "      <th>health_region</th>\n",
       "      <th>province</th>\n",
       "      <th>country</th>\n",
       "      <th>date_death_report</th>\n",
       "      <th>death_source</th>\n",
       "      <th>additional_info</th>\n",
       "      <th>additional_source</th>\n",
       "    </tr>\n",
       "  </thead>\n",
       "  <tbody>\n",
       "    <tr>\n",
       "      <td>0</td>\n",
       "      <td>1</td>\n",
       "      <td>1</td>\n",
       "      <td>60.0</td>\n",
       "      <td>80-89</td>\n",
       "      <td>Male</td>\n",
       "      <td>Vancouver Coastal</td>\n",
       "      <td>BC</td>\n",
       "      <td>Canada</td>\n",
       "      <td>08-03-2020</td>\n",
       "      <td>https://news.gov.bc.ca/releases/2020HLTH0068-0...</td>\n",
       "      <td>Lynn Valley Resident</td>\n",
       "      <td>NaN</td>\n",
       "    </tr>\n",
       "  </tbody>\n",
       "</table>\n",
       "</div>"
      ],
      "text/plain": [
       "   death_id  province_death_id  case_id    age   sex      health_region  \\\n",
       "0         1                  1     60.0  80-89  Male  Vancouver Coastal   \n",
       "\n",
       "  province country date_death_report  \\\n",
       "0       BC  Canada        08-03-2020   \n",
       "\n",
       "                                        death_source       additional_info  \\\n",
       "0  https://news.gov.bc.ca/releases/2020HLTH0068-0...  Lynn Valley Resident   \n",
       "\n",
       "  additional_source  \n",
       "0               NaN  "
      ]
     },
     "metadata": {},
     "output_type": "display_data"
    }
   ],
   "source": [
    "display(n_death.head(1))"
   ]
  },
  {
   "cell_type": "markdown",
   "metadata": {},
   "source": [
    "### Setting "
   ]
  },
  {
   "cell_type": "code",
   "execution_count": 16,
   "metadata": {},
   "outputs": [],
   "source": [
    "n_death['date_death_report'] = pd.to_datetime(n_death['date_death_report'], dayfirst = True)\n",
    "n_death['people'] = 1"
   ]
  },
  {
   "cell_type": "code",
   "execution_count": 17,
   "metadata": {},
   "outputs": [],
   "source": [
    "death_gender = n_death.groupby(['sex'])['people'].sum().sort_values(ascending = False).reset_index();\n",
    "death_gender_factors = pd.unique(death_gender['sex'])\n",
    "death_gender_data = ColumnDataSource(death_gender)\n",
    "\n",
    "death_age = n_death.groupby(['age'])['people'].sum().sort_values(ascending = False).reset_index();\n",
    "death_age_factors = pd.unique(death_age['age'])\n",
    "death_age_data = ColumnDataSource(death_age)\n",
    "\n",
    "death_x = n_death.groupby(['age', 'sex'])['people'].sum().reset_index()\n",
    "death_x['label'] = tuple(zip(death_x['age'], death_x['sex']))\n",
    "death_x_data = ColumnDataSource(death_x)"
   ]
  },
  {
   "cell_type": "markdown",
   "metadata": {},
   "source": [
    "### Deaths By Gender and Age\n",
    "\n",
    "This chart shows the number of Deaths in gender and age."
   ]
  },
  {
   "cell_type": "code",
   "execution_count": 18,
   "metadata": {},
   "outputs": [
    {
     "data": {
      "text/html": [
       "\n",
       "\n",
       "\n",
       "\n",
       "\n",
       "\n",
       "  <div class=\"bk-root\" id=\"c93841c7-c3a3-4273-8877-a0e1a74bd9d4\" data-root-id=\"2814\"></div>\n"
      ]
     },
     "metadata": {},
     "output_type": "display_data"
    },
    {
     "data": {
      "application/javascript": [
       "(function(root) {\n",
       "  function embed_document(root) {\n",
       "    \n",
       "  var docs_json = {\"c737b23b-24f9-479d-9e19-09cb0f6c32ba\":{\"roots\":{\"references\":[{\"attributes\":{\"children\":[{\"id\":\"2812\"},{\"id\":\"2813\"}]},\"id\":\"2814\",\"type\":\"Column\"},{\"attributes\":{\"fill_color\":{\"value\":\"#1f77b4\"},\"line_color\":{\"value\":\"#1f77b4\"},\"top\":{\"field\":\"people\"},\"width\":{\"value\":0.3},\"x\":{\"field\":\"sex\"}},\"id\":\"2791\",\"type\":\"VBar\"},{\"attributes\":{},\"id\":\"2779\",\"type\":\"SaveTool\"},{\"attributes\":{\"data\":{\"age\":[\"Not Reported\",\"80-89\",\"70-79\",\"90-99\",\"60-69\",\"50-59\"],\"index\":[0,1,2,3,4,5],\"people\":[46,8,5,4,2,1]},\"selected\":{\"id\":\"2964\"},\"selection_policy\":{\"id\":\"2963\"}},\"id\":\"2692\",\"type\":\"ColumnDataSource\"},{\"attributes\":{},\"id\":\"2709\",\"type\":\"BasicTicker\"},{\"attributes\":{\"data\":{\"index\":[0,1,2],\"people\":[45,13,8],\"sex\":[\"Not Reported\",\"Male\",\"Female\"]},\"selected\":{\"id\":\"2961\"},\"selection_policy\":{\"id\":\"2960\"}},\"id\":\"2691\",\"type\":\"ColumnDataSource\"},{\"attributes\":{\"axis_label\":\"Number of Deaths\",\"formatter\":{\"id\":\"2950\"},\"ticker\":{\"id\":\"2709\"}},\"id\":\"2708\",\"type\":\"LinearAxis\"},{\"attributes\":{},\"id\":\"2701\",\"type\":\"CategoricalScale\"},{\"attributes\":{},\"id\":\"2703\",\"type\":\"LinearScale\"},{\"attributes\":{\"axis\":{\"id\":\"2705\"},\"ticker\":null},\"id\":\"2707\",\"type\":\"Grid\"},{\"attributes\":{},\"id\":\"2713\",\"type\":\"WheelZoomTool\"},{\"attributes\":{},\"id\":\"1244\",\"type\":\"UnionRenderers\"},{\"attributes\":{},\"id\":\"2952\",\"type\":\"CategoricalTickFormatter\"},{\"attributes\":{},\"id\":\"1245\",\"type\":\"Selection\"},{\"attributes\":{},\"id\":\"2706\",\"type\":\"CategoricalTicker\"},{\"attributes\":{\"text\":\"Deaths By Gender\"},\"id\":\"2696\",\"type\":\"Title\"},{\"attributes\":{\"active_drag\":\"auto\",\"active_inspect\":\"auto\",\"active_multi\":null,\"active_scroll\":\"auto\",\"active_tap\":\"auto\",\"tools\":[{\"id\":\"2776\"},{\"id\":\"2777\"},{\"id\":\"2778\"},{\"id\":\"2779\"},{\"id\":\"2780\"},{\"id\":\"2781\"},{\"id\":\"2810\"}]},\"id\":\"2783\",\"type\":\"Toolbar\"},{\"attributes\":{},\"id\":\"2712\",\"type\":\"PanTool\"},{\"attributes\":{\"axis_label\":\"Gender\",\"formatter\":{\"id\":\"2948\"},\"ticker\":{\"id\":\"2706\"}},\"id\":\"2705\",\"type\":\"CategoricalAxis\"},{\"attributes\":{},\"id\":\"2731\",\"type\":\"DataRange1d\"},{\"attributes\":{\"factors\":[\"Not Reported\",\"80-89\",\"70-79\",\"90-99\",\"60-69\",\"50-59\"]},\"id\":\"2726\",\"type\":\"FactorRange\"},{\"attributes\":{\"factors\":[\"Not Reported\",\"Male\",\"Female\"]},\"id\":\"2694\",\"type\":\"FactorRange\"},{\"attributes\":{\"axis\":{\"id\":\"2708\"},\"dimension\":1,\"ticker\":null},\"id\":\"2711\",\"type\":\"Grid\"},{\"attributes\":{\"overlay\":{\"id\":\"2718\"}},\"id\":\"2714\",\"type\":\"BoxZoomTool\"},{\"attributes\":{},\"id\":\"2699\",\"type\":\"DataRange1d\"},{\"attributes\":{},\"id\":\"2733\",\"type\":\"CategoricalScale\"},{\"attributes\":{\"background_fill_color\":\"#fafafa\",\"below\":[{\"id\":\"2705\"}],\"center\":[{\"id\":\"2707\"},{\"id\":\"2711\"}],\"left\":[{\"id\":\"2708\"}],\"plot_height\":300,\"plot_width\":495,\"renderers\":[{\"id\":\"2793\"}],\"title\":{\"id\":\"2696\"},\"toolbar\":{\"id\":\"2719\"},\"x_range\":{\"id\":\"2694\"},\"x_scale\":{\"id\":\"2701\"},\"y_range\":{\"id\":\"2699\"},\"y_scale\":{\"id\":\"2703\"}},\"id\":\"2695\",\"subtype\":\"Figure\",\"type\":\"Plot\"},{\"attributes\":{\"text\":\"Deaths By Age\"},\"id\":\"2728\",\"type\":\"Title\"},{\"attributes\":{},\"id\":\"2716\",\"type\":\"ResetTool\"},{\"attributes\":{},\"id\":\"2715\",\"type\":\"SaveTool\"},{\"attributes\":{\"background_fill_color\":\"#fafafa\",\"below\":[{\"id\":\"2737\"}],\"center\":[{\"id\":\"2739\"},{\"id\":\"2743\"}],\"left\":[{\"id\":\"2740\"}],\"plot_height\":300,\"plot_width\":495,\"renderers\":[{\"id\":\"2798\"}],\"title\":{\"id\":\"2728\"},\"toolbar\":{\"id\":\"2751\"},\"x_range\":{\"id\":\"2726\"},\"x_scale\":{\"id\":\"2733\"},\"y_range\":{\"id\":\"2731\"},\"y_scale\":{\"id\":\"2735\"}},\"id\":\"2727\",\"subtype\":\"Figure\",\"type\":\"Plot\"},{\"attributes\":{\"data\":{\"age\":[\"10-19\",\"20-29\",\"20-29\",\"30-39\",\"30-39\",\"40-49\",\"40-49\",\"50\",\"50-59\",\"50-59\",\"60-69\",\"60-69\",\"61\",\"70-79\",\"70-79\",\"80-89\",\"80-89\",\"90-99\",\"90-99\",\"<1\",\"<10\",\"<10\",\"<18\",\"<18\",\"<20\",\"<20\"],\"index\":[0,1,2,3,4,5,6,7,8,9,10,11,12,13,14,15,16,17,18,19,20,21,22,23,24,25],\"label\":[[\"10-19\",\"Male\"],[\"20-29\",\"Female\"],[\"20-29\",\"Male\"],[\"30-39\",\"Female\"],[\"30-39\",\"Male\"],[\"40-49\",\"Female\"],[\"40-49\",\"Male\"],[\"50\",\"Male\"],[\"50-59\",\"Female\"],[\"50-59\",\"Male\"],[\"60-69\",\"Female\"],[\"60-69\",\"Male\"],[\"61\",\"Female\"],[\"70-79\",\"Female\"],[\"70-79\",\"Male\"],[\"80-89\",\"Female\"],[\"80-89\",\"Male\"],[\"90-99\",\"Female\"],[\"90-99\",\"Male\"],[\"<1\",\"Male\"],[\"<10\",\"Female\"],[\"<10\",\"Male\"],[\"<18\",\"Female\"],[\"<18\",\"Male\"],[\"<20\",\"Female\"],[\"<20\",\"Male\"]],\"people\":[1,40,34,47,50,38,61,1,77,51,49,54,1,31,29,10,16,6,4,1,1,1,4,1,2,6],\"sex\":[\"Male\",\"Female\",\"Male\",\"Female\",\"Male\",\"Female\",\"Male\",\"Male\",\"Female\",\"Male\",\"Female\",\"Male\",\"Female\",\"Female\",\"Male\",\"Female\",\"Male\",\"Female\",\"Male\",\"Male\",\"Female\",\"Male\",\"Female\",\"Male\",\"Female\",\"Male\"]},\"selected\":{\"id\":\"1245\"},\"selection_policy\":{\"id\":\"1244\"}},\"id\":\"1006\",\"type\":\"ColumnDataSource\"},{\"attributes\":{},\"id\":\"2717\",\"type\":\"HelpTool\"},{\"attributes\":{\"active_drag\":\"auto\",\"active_inspect\":\"auto\",\"active_multi\":null,\"active_scroll\":\"auto\",\"active_tap\":\"auto\",\"tools\":[{\"id\":\"2712\"},{\"id\":\"2713\"},{\"id\":\"2714\"},{\"id\":\"2715\"},{\"id\":\"2716\"},{\"id\":\"2717\"},{\"id\":\"2806\"}]},\"id\":\"2719\",\"type\":\"Toolbar\"},{\"attributes\":{},\"id\":\"2961\",\"type\":\"Selection\"},{\"attributes\":{},\"id\":\"2964\",\"type\":\"Selection\"},{\"attributes\":{\"bottom_units\":\"screen\",\"fill_alpha\":0.5,\"fill_color\":\"lightgrey\",\"left_units\":\"screen\",\"level\":\"overlay\",\"line_alpha\":1.0,\"line_color\":\"black\",\"line_dash\":[4,4],\"line_width\":2,\"render_mode\":\"css\",\"right_units\":\"screen\",\"top_units\":\"screen\"},\"id\":\"2782\",\"type\":\"BoxAnnotation\"},{\"attributes\":{\"fill_alpha\":{\"value\":0.1},\"fill_color\":{\"value\":\"#1f77b4\"},\"line_alpha\":{\"value\":0.1},\"line_color\":{\"value\":\"#1f77b4\"},\"top\":{\"field\":\"people\"},\"width\":{\"value\":0.5},\"x\":{\"field\":\"age\"}},\"id\":\"2797\",\"type\":\"VBar\"},{\"attributes\":{\"callback\":null,\"tooltips\":[[\"Cases\",\"@people\"]]},\"id\":\"2806\",\"type\":\"HoverTool\"},{\"attributes\":{\"data_source\":{\"id\":\"1006\"},\"glyph\":{\"id\":\"2802\"},\"hover_glyph\":null,\"muted_glyph\":null,\"nonselection_glyph\":{\"id\":\"2803\"},\"selection_glyph\":null,\"view\":{\"id\":\"2805\"}},\"id\":\"2804\",\"type\":\"GlyphRenderer\"},{\"attributes\":{\"bottom_units\":\"screen\",\"fill_alpha\":0.5,\"fill_color\":\"lightgrey\",\"left_units\":\"screen\",\"level\":\"overlay\",\"line_alpha\":1.0,\"line_color\":\"black\",\"line_dash\":[4,4],\"line_width\":2,\"render_mode\":\"css\",\"right_units\":\"screen\",\"top_units\":\"screen\"},\"id\":\"2750\",\"type\":\"BoxAnnotation\"},{\"attributes\":{\"data_source\":{\"id\":\"2692\"},\"glyph\":{\"id\":\"2796\"},\"hover_glyph\":null,\"muted_glyph\":null,\"nonselection_glyph\":{\"id\":\"2797\"},\"selection_glyph\":null,\"view\":{\"id\":\"2799\"}},\"id\":\"2798\",\"type\":\"GlyphRenderer\"},{\"attributes\":{},\"id\":\"2960\",\"type\":\"UnionRenderers\"},{\"attributes\":{},\"id\":\"2958\",\"type\":\"BasicTickFormatter\"},{\"attributes\":{\"source\":{\"id\":\"2692\"}},\"id\":\"2799\",\"type\":\"CDSView\"},{\"attributes\":{},\"id\":\"2963\",\"type\":\"UnionRenderers\"},{\"attributes\":{\"bottom_units\":\"screen\",\"fill_alpha\":0.5,\"fill_color\":\"lightgrey\",\"left_units\":\"screen\",\"level\":\"overlay\",\"line_alpha\":1.0,\"line_color\":\"black\",\"line_dash\":[4,4],\"line_width\":2,\"render_mode\":\"css\",\"right_units\":\"screen\",\"top_units\":\"screen\"},\"id\":\"2718\",\"type\":\"BoxAnnotation\"},{\"attributes\":{},\"id\":\"2763\",\"type\":\"DataRange1d\"},{\"attributes\":{\"children\":[{\"id\":\"2759\"}]},\"id\":\"2813\",\"type\":\"Row\"},{\"attributes\":{},\"id\":\"2735\",\"type\":\"LinearScale\"},{\"attributes\":{},\"id\":\"2767\",\"type\":\"LinearScale\"},{\"attributes\":{},\"id\":\"2765\",\"type\":\"CategoricalScale\"},{\"attributes\":{\"axis_label\":\"Age\",\"formatter\":{\"id\":\"2952\"},\"ticker\":{\"id\":\"2738\"}},\"id\":\"2737\",\"type\":\"CategoricalAxis\"},{\"attributes\":{\"axis_label\":\"Gender & Age\",\"formatter\":{\"id\":\"2956\"},\"ticker\":{\"id\":\"2770\"}},\"id\":\"2769\",\"type\":\"CategoricalAxis\"},{\"attributes\":{},\"id\":\"2741\",\"type\":\"BasicTicker\"},{\"attributes\":{},\"id\":\"2773\",\"type\":\"BasicTicker\"},{\"attributes\":{},\"id\":\"2738\",\"type\":\"CategoricalTicker\"},{\"attributes\":{\"fill_color\":{\"value\":\"#1f77b4\"},\"line_color\":{\"value\":\"#1f77b4\"},\"top\":{\"field\":\"people\"},\"width\":{\"value\":0.5},\"x\":{\"field\":\"age\"}},\"id\":\"2796\",\"type\":\"VBar\"},{\"attributes\":{},\"id\":\"2770\",\"type\":\"CategoricalTicker\"},{\"attributes\":{\"axis\":{\"id\":\"2737\"},\"ticker\":null},\"id\":\"2739\",\"type\":\"Grid\"},{\"attributes\":{\"axis\":{\"id\":\"2769\"},\"ticker\":null},\"id\":\"2771\",\"type\":\"Grid\"},{\"attributes\":{\"data_source\":{\"id\":\"2691\"},\"glyph\":{\"id\":\"2791\"},\"hover_glyph\":null,\"muted_glyph\":null,\"nonselection_glyph\":{\"id\":\"2792\"},\"selection_glyph\":null,\"view\":{\"id\":\"2794\"}},\"id\":\"2793\",\"type\":\"GlyphRenderer\"},{\"attributes\":{},\"id\":\"2780\",\"type\":\"ResetTool\"},{\"attributes\":{\"axis\":{\"id\":\"2772\"},\"dimension\":1,\"ticker\":null},\"id\":\"2775\",\"type\":\"Grid\"},{\"attributes\":{\"axis\":{\"id\":\"2740\"},\"dimension\":1,\"ticker\":null},\"id\":\"2743\",\"type\":\"Grid\"},{\"attributes\":{\"axis_label\":\"Number of Deaths\",\"formatter\":{\"id\":\"2954\"},\"ticker\":{\"id\":\"2741\"}},\"id\":\"2740\",\"type\":\"LinearAxis\"},{\"attributes\":{\"axis_label\":\"Number of Deaths\",\"formatter\":{\"id\":\"2958\"},\"ticker\":{\"id\":\"2773\"}},\"id\":\"2772\",\"type\":\"LinearAxis\"},{\"attributes\":{\"background_fill_color\":\"#fafafa\",\"below\":[{\"id\":\"2769\"}],\"center\":[{\"id\":\"2771\"},{\"id\":\"2775\"}],\"left\":[{\"id\":\"2772\"}],\"plot_height\":300,\"plot_width\":990,\"renderers\":[{\"id\":\"2804\"}],\"title\":{\"id\":\"2760\"},\"toolbar\":{\"id\":\"2783\"},\"x_range\":{\"id\":\"2758\"},\"x_scale\":{\"id\":\"2765\"},\"y_range\":{\"id\":\"2763\"},\"y_scale\":{\"id\":\"2767\"}},\"id\":\"2759\",\"subtype\":\"Figure\",\"type\":\"Plot\"},{\"attributes\":{\"fill_alpha\":{\"value\":0.1},\"fill_color\":{\"value\":\"#1f77b4\"},\"line_alpha\":{\"value\":0.1},\"line_color\":{\"value\":\"#1f77b4\"},\"top\":{\"field\":\"people\"},\"width\":{\"value\":0.3},\"x\":{\"field\":\"sex\"}},\"id\":\"2792\",\"type\":\"VBar\"},{\"attributes\":{\"factors\":[[\"50-59\",\"Male\"],[\"60-69\",\"Female\"],[\"60-69\",\"Male\"],[\"70-79\",\"Female\"],[\"70-79\",\"Male\"],[\"80-89\",\"Female\"],[\"80-89\",\"Male\"],[\"90-99\",\"Female\"],[\"90-99\",\"Male\"],[\"Not Reported\",\"Male\"],[\"Not Reported\",\"Not Reported\"]]},\"id\":\"2758\",\"type\":\"FactorRange\"},{\"attributes\":{\"source\":{\"id\":\"2691\"}},\"id\":\"2794\",\"type\":\"CDSView\"},{\"attributes\":{\"text\":\"Deaths By Gender & Age\"},\"id\":\"2760\",\"type\":\"Title\"},{\"attributes\":{},\"id\":\"2781\",\"type\":\"HelpTool\"},{\"attributes\":{\"end\":2,\"factors\":[\"Male\",\"Female\",\"Male\",\"Female\",\"Male\",\"Female\",\"Male\",\"Male\",\"Female\",\"Male\",\"Female\",\"Male\",\"Female\",\"Female\",\"Male\",\"Female\",\"Male\",\"Female\",\"Male\",\"Male\",\"Female\",\"Male\",\"Female\",\"Male\",\"Female\",\"Male\"],\"palette\":[\"#3288bd\",\"#99d594\",\"#e6f598\",\"#fee08b\",\"#fc8d59\",\"#d53e4f\"],\"start\":1},\"id\":\"2800\",\"type\":\"CategoricalColorMapper\"},{\"attributes\":{\"children\":[{\"id\":\"2695\"},{\"id\":\"2727\"}]},\"id\":\"2812\",\"type\":\"Row\"},{\"attributes\":{},\"id\":\"2744\",\"type\":\"PanTool\"},{\"attributes\":{},\"id\":\"2776\",\"type\":\"PanTool\"},{\"attributes\":{},\"id\":\"2745\",\"type\":\"WheelZoomTool\"},{\"attributes\":{},\"id\":\"2777\",\"type\":\"WheelZoomTool\"},{\"attributes\":{\"fill_color\":{\"field\":\"label\",\"transform\":{\"id\":\"2800\"}},\"line_color\":{\"value\":\"#1f77b4\"},\"top\":{\"field\":\"people\"},\"width\":{\"value\":0.8},\"x\":{\"field\":\"label\"}},\"id\":\"2802\",\"type\":\"VBar\"},{\"attributes\":{},\"id\":\"2950\",\"type\":\"BasicTickFormatter\"},{\"attributes\":{\"overlay\":{\"id\":\"2750\"}},\"id\":\"2746\",\"type\":\"BoxZoomTool\"},{\"attributes\":{\"overlay\":{\"id\":\"2782\"}},\"id\":\"2778\",\"type\":\"BoxZoomTool\"},{\"attributes\":{},\"id\":\"2948\",\"type\":\"CategoricalTickFormatter\"},{\"attributes\":{},\"id\":\"2747\",\"type\":\"SaveTool\"},{\"attributes\":{},\"id\":\"2748\",\"type\":\"ResetTool\"},{\"attributes\":{},\"id\":\"2954\",\"type\":\"BasicTickFormatter\"},{\"attributes\":{},\"id\":\"2749\",\"type\":\"HelpTool\"},{\"attributes\":{\"active_drag\":\"auto\",\"active_inspect\":\"auto\",\"active_multi\":null,\"active_scroll\":\"auto\",\"active_tap\":\"auto\",\"tools\":[{\"id\":\"2744\"},{\"id\":\"2745\"},{\"id\":\"2746\"},{\"id\":\"2747\"},{\"id\":\"2748\"},{\"id\":\"2749\"},{\"id\":\"2808\"}]},\"id\":\"2751\",\"type\":\"Toolbar\"},{\"attributes\":{\"source\":{\"id\":\"1006\"}},\"id\":\"2805\",\"type\":\"CDSView\"},{\"attributes\":{\"callback\":null,\"tooltips\":[[\"Cases\",\"@people\"]]},\"id\":\"2810\",\"type\":\"HoverTool\"},{\"attributes\":{\"fill_alpha\":{\"value\":0.1},\"fill_color\":{\"field\":\"label\",\"transform\":{\"id\":\"2800\"}},\"line_alpha\":{\"value\":0.1},\"line_color\":{\"value\":\"#1f77b4\"},\"top\":{\"field\":\"people\"},\"width\":{\"value\":0.8},\"x\":{\"field\":\"label\"}},\"id\":\"2803\",\"type\":\"VBar\"},{\"attributes\":{\"callback\":null,\"tooltips\":[[\"Cases\",\"@people\"]]},\"id\":\"2808\",\"type\":\"HoverTool\"},{\"attributes\":{},\"id\":\"2956\",\"type\":\"CategoricalTickFormatter\"}],\"root_ids\":[\"2814\"]},\"title\":\"Bokeh Application\",\"version\":\"2.0.1\"}};\n",
       "  var render_items = [{\"docid\":\"c737b23b-24f9-479d-9e19-09cb0f6c32ba\",\"root_ids\":[\"2814\"],\"roots\":{\"2814\":\"c93841c7-c3a3-4273-8877-a0e1a74bd9d4\"}}];\n",
       "  root.Bokeh.embed.embed_items_notebook(docs_json, render_items);\n",
       "\n",
       "  }\n",
       "  if (root.Bokeh !== undefined) {\n",
       "    embed_document(root);\n",
       "  } else {\n",
       "    var attempts = 0;\n",
       "    var timer = setInterval(function(root) {\n",
       "      if (root.Bokeh !== undefined) {\n",
       "        clearInterval(timer);\n",
       "        embed_document(root);\n",
       "      } else {\n",
       "        attempts++;\n",
       "        if (attempts > 100) {\n",
       "          clearInterval(timer);\n",
       "          console.log(\"Bokeh: ERROR: Unable to run BokehJS code because BokehJS library is missing\");\n",
       "        }\n",
       "      }\n",
       "    }, 10, root)\n",
       "  }\n",
       "})(window);"
      ],
      "application/vnd.bokehjs_exec.v0+json": ""
     },
     "metadata": {
      "application/vnd.bokehjs_exec.v0+json": {
       "id": "2814"
      }
     },
     "output_type": "display_data"
    }
   ],
   "source": [
    "plot1 = figure(title = \"Deaths By Gender\", plot_width = 495, plot_height = 300, x_range = FactorRange(factors = death_gender_factors),background_fill_color=\"#fafafa\")\n",
    "plot2 = figure(title = \"Deaths By Age\", plot_width = 495, plot_height = 300, x_range = FactorRange(factors = death_age_factors),background_fill_color=\"#fafafa\")\n",
    "plot3 = figure(title = \"Deaths By Gender & Age\", plot_width = 990, plot_height = 300, x_range = FactorRange(factors = death_x['label']),background_fill_color=\"#fafafa\")\n",
    "\n",
    "plot1.vbar(x = 'sex' , top = 'people' , width = 0.3, source = death_gender_data)\n",
    "plot2.vbar(x = 'age' , top = 'people' , width = 0.5, source = death_age_data)\n",
    "plot3.vbar(x = 'label' , top = 'people' , width = 0.8, source = sex_age_data,\\\n",
    "          fill_color=factor_cmap('label', factors= sex_age['sex'] , start=1, end=2, palette = Spectral6))\n",
    "\n",
    "plot1.add_tools(HoverTool(tooltips = [('Cases', '@people')]))\n",
    "plot2.add_tools(HoverTool(tooltips = [('Cases', '@people')]))\n",
    "plot3.add_tools(HoverTool(tooltips = [('Cases', '@people')]))\n",
    "\n",
    "plot1.xaxis.axis_label = 'Gender'\n",
    "plot1.yaxis.axis_label = 'Number of Deaths'\n",
    "plot2.xaxis.axis_label = 'Age'\n",
    "plot2.yaxis.axis_label = 'Number of Deaths'\n",
    "plot3.xaxis.axis_label = 'Gender & Age'\n",
    "plot3.yaxis.axis_label = 'Number of Deaths'\n",
    "\n",
    "grid = layout([[plot1,plot2],[plot3]]) \n",
    "\n",
    "show(grid)"
   ]
  },
  {
   "cell_type": "markdown",
   "metadata": {},
   "source": [
    "### Setting "
   ]
  },
  {
   "cell_type": "code",
   "execution_count": 19,
   "metadata": {},
   "outputs": [],
   "source": [
    "death_report = pd.DataFrame(n_death['date_death_report'].value_counts()).reset_index().sort_values(by = 'index')\n",
    "death_report_data = ColumnDataSource(death_report)"
   ]
  },
  {
   "cell_type": "markdown",
   "metadata": {},
   "source": [
    "### Deaths Over Time\n",
    "This chart shows the number of Deaths on each date."
   ]
  },
  {
   "cell_type": "code",
   "execution_count": 20,
   "metadata": {},
   "outputs": [
    {
     "data": {
      "text/html": [
       "\n",
       "\n",
       "\n",
       "\n",
       "\n",
       "\n",
       "  <div class=\"bk-root\" id=\"b5a283d8-e2eb-41e7-b006-a43a0d351883\" data-root-id=\"3114\"></div>\n"
      ]
     },
     "metadata": {},
     "output_type": "display_data"
    },
    {
     "data": {
      "application/javascript": [
       "(function(root) {\n",
       "  function embed_document(root) {\n",
       "    \n",
       "  var docs_json = {\"017bb5c2-1e21-4a46-b941-1657c3b56754\":{\"roots\":{\"references\":[{\"attributes\":{\"background_fill_color\":\"#fafafa\",\"below\":[{\"id\":\"3125\"}],\"center\":[{\"id\":\"3128\"},{\"id\":\"3132\"}],\"left\":[{\"id\":\"3129\"}],\"plot_height\":300,\"plot_width\":900,\"renderers\":[{\"id\":\"3150\"},{\"id\":\"3155\"}],\"title\":{\"id\":\"3115\"},\"toolbar\":{\"id\":\"3140\"},\"x_range\":{\"id\":\"3117\"},\"x_scale\":{\"id\":\"3121\"},\"y_range\":{\"id\":\"3119\"},\"y_scale\":{\"id\":\"3123\"}},\"id\":\"3114\",\"subtype\":\"Figure\",\"type\":\"Plot\"},{\"attributes\":{\"line_color\":\"#1f77b4\",\"line_width\":2,\"x\":{\"field\":\"index\"},\"y\":{\"field\":\"date_death_report\"}},\"id\":\"3148\",\"type\":\"Line\"},{\"attributes\":{},\"id\":\"3136\",\"type\":\"SaveTool\"},{\"attributes\":{\"axis\":{\"id\":\"3129\"},\"dimension\":1,\"ticker\":null},\"id\":\"3132\",\"type\":\"Grid\"},{\"attributes\":{\"num_minor_ticks\":5,\"tickers\":[{\"id\":\"3318\"},{\"id\":\"3319\"},{\"id\":\"3320\"},{\"id\":\"3321\"},{\"id\":\"3322\"},{\"id\":\"3323\"},{\"id\":\"3324\"},{\"id\":\"3325\"},{\"id\":\"3326\"},{\"id\":\"3327\"},{\"id\":\"3328\"},{\"id\":\"3329\"}]},\"id\":\"3126\",\"type\":\"DatetimeTicker\"},{\"attributes\":{},\"id\":\"3330\",\"type\":\"UnionRenderers\"},{\"attributes\":{\"mantissas\":[1,2,5],\"max_interval\":500.0,\"num_minor_ticks\":0},\"id\":\"3318\",\"type\":\"AdaptiveTicker\"},{\"attributes\":{\"data\":{\"date_death_report\":[1,1,3,3,1,3,1,5,3,3,3,8,4,16,6,5],\"index\":{\"__ndarray__\":\"AADAD3cLd0IAAABBbgx3QgAAwD0KDndCAACAo1wOd0IAAEAJrw53QgAAAG8BD3dCAADA1FMPd0IAAIA6pg93QgAAQKD4D3dCAAAABksQd0IAAMBrnRB3QgAAgNHvEHdCAABAN0IRd0IAAACdlBF3QgAAwALnEXdCAACAaDkSd0I=\",\"dtype\":\"float64\",\"shape\":[16]},\"level_0\":[14,13,7,10,12,8,15,3,11,6,9,1,5,0,2,4]},\"selected\":{\"id\":\"3331\"},\"selection_policy\":{\"id\":\"3330\"}},\"id\":\"3113\",\"type\":\"ColumnDataSource\"},{\"attributes\":{\"source\":{\"id\":\"3113\"}},\"id\":\"3156\",\"type\":\"CDSView\"},{\"attributes\":{\"months\":[0,4,8]},\"id\":\"3327\",\"type\":\"MonthsTicker\"},{\"attributes\":{},\"id\":\"3329\",\"type\":\"YearsTicker\"},{\"attributes\":{\"axis_label\":\"Number of Deaths\",\"formatter\":{\"id\":\"3316\"},\"ticker\":{\"id\":\"3130\"}},\"id\":\"3129\",\"type\":\"LinearAxis\"},{\"attributes\":{\"fill_color\":{\"value\":\"#1f77b4\"},\"line_color\":{\"value\":\"#1f77b4\"},\"size\":{\"units\":\"screen\",\"value\":5},\"x\":{\"field\":\"index\"},\"y\":{\"field\":\"date_death_report\"}},\"id\":\"3153\",\"type\":\"Circle\"},{\"attributes\":{\"base\":60,\"mantissas\":[1,2,5,10,15,20,30],\"max_interval\":1800000.0,\"min_interval\":1000.0,\"num_minor_ticks\":0},\"id\":\"3319\",\"type\":\"AdaptiveTicker\"},{\"attributes\":{\"text\":\"Deaths Over Time\"},\"id\":\"3115\",\"type\":\"Title\"},{\"attributes\":{\"fill_alpha\":{\"value\":0.1},\"fill_color\":{\"value\":\"#1f77b4\"},\"line_alpha\":{\"value\":0.1},\"line_color\":{\"value\":\"#1f77b4\"},\"size\":{\"units\":\"screen\",\"value\":5},\"x\":{\"field\":\"index\"},\"y\":{\"field\":\"date_death_report\"}},\"id\":\"3154\",\"type\":\"Circle\"},{\"attributes\":{\"base\":24,\"mantissas\":[1,2,4,6,8,12],\"max_interval\":43200000.0,\"min_interval\":3600000.0,\"num_minor_ticks\":0},\"id\":\"3320\",\"type\":\"AdaptiveTicker\"},{\"attributes\":{\"data_source\":{\"id\":\"3113\"},\"glyph\":{\"id\":\"3153\"},\"hover_glyph\":null,\"muted_glyph\":null,\"nonselection_glyph\":{\"id\":\"3154\"},\"selection_glyph\":null,\"view\":{\"id\":\"3156\"}},\"id\":\"3155\",\"type\":\"GlyphRenderer\"},{\"attributes\":{},\"id\":\"3314\",\"type\":\"DatetimeTickFormatter\"},{\"attributes\":{},\"id\":\"3331\",\"type\":\"Selection\"},{\"attributes\":{},\"id\":\"3117\",\"type\":\"DataRange1d\"},{\"attributes\":{\"line_alpha\":0.1,\"line_color\":\"#1f77b4\",\"line_width\":2,\"x\":{\"field\":\"index\"},\"y\":{\"field\":\"date_death_report\"}},\"id\":\"3149\",\"type\":\"Line\"},{\"attributes\":{},\"id\":\"3134\",\"type\":\"WheelZoomTool\"},{\"attributes\":{},\"id\":\"3138\",\"type\":\"HelpTool\"},{\"attributes\":{\"axis_label\":\"Date\",\"formatter\":{\"id\":\"3314\"},\"ticker\":{\"id\":\"3126\"}},\"id\":\"3125\",\"type\":\"DatetimeAxis\"},{\"attributes\":{},\"id\":\"3130\",\"type\":\"BasicTicker\"},{\"attributes\":{},\"id\":\"3119\",\"type\":\"DataRange1d\"},{\"attributes\":{\"axis\":{\"id\":\"3125\"},\"ticker\":null},\"id\":\"3128\",\"type\":\"Grid\"},{\"attributes\":{\"data_source\":{\"id\":\"3113\"},\"glyph\":{\"id\":\"3148\"},\"hover_glyph\":null,\"muted_glyph\":null,\"nonselection_glyph\":{\"id\":\"3149\"},\"selection_glyph\":null,\"view\":{\"id\":\"3151\"}},\"id\":\"3150\",\"type\":\"GlyphRenderer\"},{\"attributes\":{},\"id\":\"3316\",\"type\":\"BasicTickFormatter\"},{\"attributes\":{},\"id\":\"3137\",\"type\":\"ResetTool\"},{\"attributes\":{\"active_drag\":\"auto\",\"active_inspect\":\"auto\",\"active_multi\":null,\"active_scroll\":\"auto\",\"active_tap\":\"auto\",\"tools\":[{\"id\":\"3133\"},{\"id\":\"3134\"},{\"id\":\"3135\"},{\"id\":\"3136\"},{\"id\":\"3137\"},{\"id\":\"3138\"},{\"id\":\"3157\"}]},\"id\":\"3140\",\"type\":\"Toolbar\"},{\"attributes\":{\"source\":{\"id\":\"3113\"}},\"id\":\"3151\",\"type\":\"CDSView\"},{\"attributes\":{\"callback\":null,\"tooltips\":[[\"Cases\",\"@date_death_report\"]]},\"id\":\"3157\",\"type\":\"HoverTool\"},{\"attributes\":{\"overlay\":{\"id\":\"3139\"}},\"id\":\"3135\",\"type\":\"BoxZoomTool\"},{\"attributes\":{\"bottom_units\":\"screen\",\"fill_alpha\":0.5,\"fill_color\":\"lightgrey\",\"left_units\":\"screen\",\"level\":\"overlay\",\"line_alpha\":1.0,\"line_color\":\"black\",\"line_dash\":[4,4],\"line_width\":2,\"render_mode\":\"css\",\"right_units\":\"screen\",\"top_units\":\"screen\"},\"id\":\"3139\",\"type\":\"BoxAnnotation\"},{\"attributes\":{},\"id\":\"3133\",\"type\":\"PanTool\"},{\"attributes\":{},\"id\":\"3123\",\"type\":\"LinearScale\"},{\"attributes\":{\"days\":[1,4,7,10,13,16,19,22,25,28]},\"id\":\"3322\",\"type\":\"DaysTicker\"},{\"attributes\":{\"months\":[0,6]},\"id\":\"3328\",\"type\":\"MonthsTicker\"},{\"attributes\":{\"days\":[1,15]},\"id\":\"3324\",\"type\":\"DaysTicker\"},{\"attributes\":{\"months\":[0,1,2,3,4,5,6,7,8,9,10,11]},\"id\":\"3325\",\"type\":\"MonthsTicker\"},{\"attributes\":{\"days\":[1,2,3,4,5,6,7,8,9,10,11,12,13,14,15,16,17,18,19,20,21,22,23,24,25,26,27,28,29,30,31]},\"id\":\"3321\",\"type\":\"DaysTicker\"},{\"attributes\":{\"days\":[1,8,15,22]},\"id\":\"3323\",\"type\":\"DaysTicker\"},{\"attributes\":{\"months\":[0,2,4,6,8,10]},\"id\":\"3326\",\"type\":\"MonthsTicker\"},{\"attributes\":{},\"id\":\"3121\",\"type\":\"LinearScale\"}],\"root_ids\":[\"3114\"]},\"title\":\"Bokeh Application\",\"version\":\"2.0.1\"}};\n",
       "  var render_items = [{\"docid\":\"017bb5c2-1e21-4a46-b941-1657c3b56754\",\"root_ids\":[\"3114\"],\"roots\":{\"3114\":\"b5a283d8-e2eb-41e7-b006-a43a0d351883\"}}];\n",
       "  root.Bokeh.embed.embed_items_notebook(docs_json, render_items);\n",
       "\n",
       "  }\n",
       "  if (root.Bokeh !== undefined) {\n",
       "    embed_document(root);\n",
       "  } else {\n",
       "    var attempts = 0;\n",
       "    var timer = setInterval(function(root) {\n",
       "      if (root.Bokeh !== undefined) {\n",
       "        clearInterval(timer);\n",
       "        embed_document(root);\n",
       "      } else {\n",
       "        attempts++;\n",
       "        if (attempts > 100) {\n",
       "          clearInterval(timer);\n",
       "          console.log(\"Bokeh: ERROR: Unable to run BokehJS code because BokehJS library is missing\");\n",
       "        }\n",
       "      }\n",
       "    }, 10, root)\n",
       "  }\n",
       "})(window);"
      ],
      "application/vnd.bokehjs_exec.v0+json": ""
     },
     "metadata": {
      "application/vnd.bokehjs_exec.v0+json": {
       "id": "3114"
      }
     },
     "output_type": "display_data"
    }
   ],
   "source": [
    "plot1 = figure(title = 'Deaths Over Time', plot_width = 900, plot_height = 300,x_axis_type=\"datetime\",background_fill_color=\"#fafafa\")\n",
    "plot1.line(x = 'index' , y = 'date_death_report' , width = 2, source = death_report_data);\n",
    "plot1.circle(x = 'index', y = 'date_death_report', size= 5, source = death_report_data)\n",
    "plot1.add_tools(HoverTool(tooltips = [('Cases', '@date_death_report')]))\n",
    "plot1.xaxis.axis_label = 'Date'\n",
    "plot1.yaxis.axis_label = 'Number of Deaths'\n",
    "show(plot1)"
   ]
  },
  {
   "cell_type": "markdown",
   "metadata": {},
   "source": [
    "### Setting "
   ]
  },
  {
   "cell_type": "code",
   "execution_count": 21,
   "metadata": {},
   "outputs": [],
   "source": [
    "province = (pd.DataFrame(n_death['province'].value_counts()).reset_index()\n",
    "                 .sort_values(by = 'province',ascending = False))\n",
    "province_factors = pd.unique(province['index'])\n",
    "province_data = ColumnDataSource(province)\n",
    "\n",
    "health_region = (pd.DataFrame(n_death['health_region'].value_counts()).reset_index()\n",
    "                 .sort_values(by = 'health_region',ascending = False))\n",
    "health_region_factors = pd.unique(health_region['index'])\n",
    "health_region_data = ColumnDataSource(health_region)"
   ]
  },
  {
   "cell_type": "markdown",
   "metadata": {},
   "source": [
    "### Deaths By Region\n",
    "This chart shows the number of deaths in each province and health region."
   ]
  },
  {
   "cell_type": "code",
   "execution_count": 22,
   "metadata": {},
   "outputs": [
    {
     "data": {
      "text/html": [
       "\n",
       "\n",
       "\n",
       "\n",
       "\n",
       "\n",
       "  <div class=\"bk-root\" id=\"416bfb0f-3c76-43fe-8d45-e93efcd4d760\" data-root-id=\"3535\"></div>\n"
      ]
     },
     "metadata": {},
     "output_type": "display_data"
    },
    {
     "data": {
      "application/javascript": [
       "(function(root) {\n",
       "  function embed_document(root) {\n",
       "    \n",
       "  var docs_json = {\"7975a11c-d991-4947-8bc3-429444680895\":{\"roots\":{\"references\":[{\"attributes\":{\"children\":[{\"id\":\"3533\"},{\"id\":\"3534\"}]},\"id\":\"3535\",\"type\":\"Column\"},{\"attributes\":{\"bottom_units\":\"screen\",\"fill_alpha\":0.5,\"fill_color\":\"lightgrey\",\"left_units\":\"screen\",\"level\":\"overlay\",\"line_alpha\":1.0,\"line_color\":\"black\",\"line_dash\":[4,4],\"line_width\":2,\"render_mode\":\"css\",\"right_units\":\"screen\",\"top_units\":\"screen\"},\"id\":\"3511\",\"type\":\"BoxAnnotation\"},{\"attributes\":{\"text\":\"Deaths By Health Region\"},\"id\":\"3489\",\"type\":\"Title\"},{\"attributes\":{\"active_drag\":\"auto\",\"active_inspect\":\"auto\",\"active_multi\":null,\"active_scroll\":\"auto\",\"active_tap\":\"auto\",\"tools\":[{\"id\":\"3505\"},{\"id\":\"3506\"},{\"id\":\"3507\"},{\"id\":\"3508\"},{\"id\":\"3509\"},{\"id\":\"3510\"},{\"id\":\"3531\"}]},\"id\":\"3512\",\"type\":\"Toolbar\"},{\"attributes\":{},\"id\":\"3473\",\"type\":\"PanTool\"},{\"attributes\":{\"overlay\":{\"id\":\"3511\"}},\"id\":\"3507\",\"type\":\"BoxZoomTool\"},{\"attributes\":{\"bottom_units\":\"screen\",\"fill_alpha\":0.5,\"fill_color\":\"lightgrey\",\"left_units\":\"screen\",\"level\":\"overlay\",\"line_alpha\":1.0,\"line_color\":\"black\",\"line_dash\":[4,4],\"line_width\":2,\"render_mode\":\"css\",\"right_units\":\"screen\",\"top_units\":\"screen\"},\"id\":\"3479\",\"type\":\"BoxAnnotation\"},{\"attributes\":{\"children\":[{\"id\":\"3488\"}]},\"id\":\"3534\",\"type\":\"Row\"},{\"attributes\":{\"active_drag\":\"auto\",\"active_inspect\":\"auto\",\"active_multi\":null,\"active_scroll\":\"auto\",\"active_tap\":\"auto\",\"tools\":[{\"id\":\"3473\"},{\"id\":\"3474\"},{\"id\":\"3475\"},{\"id\":\"3476\"},{\"id\":\"3477\"},{\"id\":\"3478\"},{\"id\":\"3529\"}]},\"id\":\"3480\",\"type\":\"Toolbar\"},{\"attributes\":{\"fill_color\":{\"value\":\"#1f77b4\"},\"line_color\":{\"value\":\"#1f77b4\"},\"top\":{\"field\":\"province\"},\"width\":{\"value\":0.3},\"x\":{\"field\":\"index\"}},\"id\":\"3520\",\"type\":\"VBar\"},{\"attributes\":{},\"id\":\"3474\",\"type\":\"WheelZoomTool\"},{\"attributes\":{\"source\":{\"id\":\"3454\"}},\"id\":\"3528\",\"type\":\"CDSView\"},{\"attributes\":{},\"id\":\"3508\",\"type\":\"SaveTool\"},{\"attributes\":{},\"id\":\"3464\",\"type\":\"LinearScale\"},{\"attributes\":{\"overlay\":{\"id\":\"3479\"}},\"id\":\"3475\",\"type\":\"BoxZoomTool\"},{\"attributes\":{},\"id\":\"3509\",\"type\":\"ResetTool\"},{\"attributes\":{\"callback\":null,\"tooltips\":[[\"Cases\",\"@province\"]]},\"id\":\"3529\",\"type\":\"HoverTool\"},{\"attributes\":{},\"id\":\"3496\",\"type\":\"LinearScale\"},{\"attributes\":{},\"id\":\"3476\",\"type\":\"SaveTool\"},{\"attributes\":{\"data_source\":{\"id\":\"3454\"},\"glyph\":{\"id\":\"3525\"},\"hover_glyph\":null,\"muted_glyph\":null,\"nonselection_glyph\":{\"id\":\"3526\"},\"selection_glyph\":null,\"view\":{\"id\":\"3528\"}},\"id\":\"3527\",\"type\":\"GlyphRenderer\"},{\"attributes\":{},\"id\":\"3510\",\"type\":\"HelpTool\"},{\"attributes\":{\"axis_label\":\"Number of Deaths\",\"formatter\":{\"id\":\"3714\"},\"ticker\":{\"id\":\"3470\"}},\"id\":\"3469\",\"type\":\"LinearAxis\"},{\"attributes\":{},\"id\":\"3477\",\"type\":\"ResetTool\"},{\"attributes\":{\"callback\":null,\"tooltips\":[[\"Cases\",\"@health_region\"]]},\"id\":\"3531\",\"type\":\"HoverTool\"},{\"attributes\":{},\"id\":\"3470\",\"type\":\"BasicTicker\"},{\"attributes\":{\"fill_alpha\":{\"value\":0.1},\"fill_color\":{\"value\":\"#1f77b4\"},\"line_alpha\":{\"value\":0.1},\"line_color\":{\"value\":\"#1f77b4\"},\"top\":{\"field\":\"health_region\"},\"width\":{\"value\":0.8},\"x\":{\"field\":\"index\"}},\"id\":\"3526\",\"type\":\"VBar\"},{\"attributes\":{\"axis_label\":\"Health Region\",\"formatter\":{\"id\":\"3716\"},\"major_label_orientation\":1,\"ticker\":{\"id\":\"3499\"}},\"id\":\"3498\",\"type\":\"CategoricalAxis\"},{\"attributes\":{},\"id\":\"3494\",\"type\":\"CategoricalScale\"},{\"attributes\":{},\"id\":\"3478\",\"type\":\"HelpTool\"},{\"attributes\":{},\"id\":\"3502\",\"type\":\"BasicTicker\"},{\"attributes\":{\"axis_label\":\"Province\",\"formatter\":{\"id\":\"3712\"},\"major_label_orientation\":1,\"ticker\":{\"id\":\"3467\"}},\"id\":\"3466\",\"type\":\"CategoricalAxis\"},{\"attributes\":{\"factors\":[\"Not Reported\",\"Vancouver Coastal\",\"Toronto\",\"Lanaudi\\u00e8re\",\"Simcoe Muskoka\",\"Durham\",\"Haliburton Kawartha Pineridge\",\"Fraser\",\"York\",\"Calgary\",\"Edmonton\",\"Winnipeg\",\"Renfrew\",\"Montr\\u00e9al\",\"Halton\",\"Middlesex-London\",\"Niagara\",\"Laurentides\",\"Ottawa\",\"Hamilton\"]},\"id\":\"3487\",\"type\":\"FactorRange\"},{\"attributes\":{},\"id\":\"3499\",\"type\":\"CategoricalTicker\"},{\"attributes\":{\"axis\":{\"id\":\"3466\"},\"ticker\":null},\"id\":\"3468\",\"type\":\"Grid\"},{\"attributes\":{\"children\":[{\"id\":\"3456\"}]},\"id\":\"3533\",\"type\":\"Row\"},{\"attributes\":{\"axis\":{\"id\":\"3498\"},\"ticker\":null},\"id\":\"3500\",\"type\":\"Grid\"},{\"attributes\":{},\"id\":\"3720\",\"type\":\"UnionRenderers\"},{\"attributes\":{},\"id\":\"3462\",\"type\":\"CategoricalScale\"},{\"attributes\":{\"axis\":{\"id\":\"3501\"},\"dimension\":1,\"ticker\":null},\"id\":\"3504\",\"type\":\"Grid\"},{\"attributes\":{},\"id\":\"3721\",\"type\":\"Selection\"},{\"attributes\":{\"axis_label\":\"Number of Deaths\",\"formatter\":{\"id\":\"3718\"},\"ticker\":{\"id\":\"3502\"}},\"id\":\"3501\",\"type\":\"LinearAxis\"},{\"attributes\":{\"data\":{\"health_region\":[18,15,4,4,3,3,3,2,2,2,1,1,1,1,1,1,1,1,1,1],\"index\":[\"Not Reported\",\"Vancouver Coastal\",\"Toronto\",\"Lanaudi\\u00e8re\",\"Simcoe Muskoka\",\"Durham\",\"Haliburton Kawartha Pineridge\",\"Fraser\",\"York\",\"Calgary\",\"Edmonton\",\"Winnipeg\",\"Renfrew\",\"Montr\\u00e9al\",\"Halton\",\"Middlesex-London\",\"Niagara\",\"Laurentides\",\"Ottawa\",\"Hamilton\"],\"level_0\":[0,1,2,3,4,5,6,7,8,9,15,18,17,16,10,14,13,12,11,19]},\"selected\":{\"id\":\"3724\"},\"selection_policy\":{\"id\":\"3723\"}},\"id\":\"3454\",\"type\":\"ColumnDataSource\"},{\"attributes\":{},\"id\":\"3718\",\"type\":\"BasicTickFormatter\"},{\"attributes\":{},\"id\":\"3724\",\"type\":\"Selection\"},{\"attributes\":{\"factors\":[\"Ontario\",\"Quebec\",\"BC\",\"Alberta\",\"Manitoba\"]},\"id\":\"3455\",\"type\":\"FactorRange\"},{\"attributes\":{},\"id\":\"3723\",\"type\":\"UnionRenderers\"},{\"attributes\":{\"background_fill_color\":\"#fafafa\",\"below\":[{\"id\":\"3498\"}],\"center\":[{\"id\":\"3500\"},{\"id\":\"3504\"}],\"left\":[{\"id\":\"3501\"}],\"plot_height\":500,\"plot_width\":990,\"renderers\":[{\"id\":\"3527\"}],\"title\":{\"id\":\"3489\"},\"toolbar\":{\"id\":\"3512\"},\"x_range\":{\"id\":\"3487\"},\"x_scale\":{\"id\":\"3494\"},\"y_range\":{\"id\":\"3492\"},\"y_scale\":{\"id\":\"3496\"}},\"id\":\"3488\",\"subtype\":\"Figure\",\"type\":\"Plot\"},{\"attributes\":{},\"id\":\"3712\",\"type\":\"CategoricalTickFormatter\"},{\"attributes\":{\"data\":{\"index\":[\"Ontario\",\"Quebec\",\"BC\",\"Alberta\",\"Manitoba\"],\"level_0\":[0,1,2,3,4],\"province\":[23,22,17,3,1]},\"selected\":{\"id\":\"3721\"},\"selection_policy\":{\"id\":\"3720\"}},\"id\":\"3453\",\"type\":\"ColumnDataSource\"},{\"attributes\":{\"source\":{\"id\":\"3453\"}},\"id\":\"3523\",\"type\":\"CDSView\"},{\"attributes\":{\"background_fill_color\":\"#fafafa\",\"below\":[{\"id\":\"3466\"}],\"center\":[{\"id\":\"3468\"},{\"id\":\"3472\"}],\"left\":[{\"id\":\"3469\"}],\"plot_height\":300,\"plot_width\":990,\"renderers\":[{\"id\":\"3522\"}],\"title\":{\"id\":\"3457\"},\"toolbar\":{\"id\":\"3480\"},\"x_range\":{\"id\":\"3455\"},\"x_scale\":{\"id\":\"3462\"},\"y_range\":{\"id\":\"3460\"},\"y_scale\":{\"id\":\"3464\"}},\"id\":\"3456\",\"subtype\":\"Figure\",\"type\":\"Plot\"},{\"attributes\":{},\"id\":\"3716\",\"type\":\"CategoricalTickFormatter\"},{\"attributes\":{\"data_source\":{\"id\":\"3453\"},\"glyph\":{\"id\":\"3520\"},\"hover_glyph\":null,\"muted_glyph\":null,\"nonselection_glyph\":{\"id\":\"3521\"},\"selection_glyph\":null,\"view\":{\"id\":\"3523\"}},\"id\":\"3522\",\"type\":\"GlyphRenderer\"},{\"attributes\":{},\"id\":\"3492\",\"type\":\"DataRange1d\"},{\"attributes\":{},\"id\":\"3506\",\"type\":\"WheelZoomTool\"},{\"attributes\":{\"fill_color\":{\"value\":\"#1f77b4\"},\"line_color\":{\"value\":\"#1f77b4\"},\"top\":{\"field\":\"health_region\"},\"width\":{\"value\":0.8},\"x\":{\"field\":\"index\"}},\"id\":\"3525\",\"type\":\"VBar\"},{\"attributes\":{\"fill_alpha\":{\"value\":0.1},\"fill_color\":{\"value\":\"#1f77b4\"},\"line_alpha\":{\"value\":0.1},\"line_color\":{\"value\":\"#1f77b4\"},\"top\":{\"field\":\"province\"},\"width\":{\"value\":0.3},\"x\":{\"field\":\"index\"}},\"id\":\"3521\",\"type\":\"VBar\"},{\"attributes\":{},\"id\":\"3714\",\"type\":\"BasicTickFormatter\"},{\"attributes\":{},\"id\":\"3460\",\"type\":\"DataRange1d\"},{\"attributes\":{\"text\":\"Deaths By Province\"},\"id\":\"3457\",\"type\":\"Title\"},{\"attributes\":{},\"id\":\"3505\",\"type\":\"PanTool\"},{\"attributes\":{\"axis\":{\"id\":\"3469\"},\"dimension\":1,\"ticker\":null},\"id\":\"3472\",\"type\":\"Grid\"},{\"attributes\":{},\"id\":\"3467\",\"type\":\"CategoricalTicker\"}],\"root_ids\":[\"3535\"]},\"title\":\"Bokeh Application\",\"version\":\"2.0.1\"}};\n",
       "  var render_items = [{\"docid\":\"7975a11c-d991-4947-8bc3-429444680895\",\"root_ids\":[\"3535\"],\"roots\":{\"3535\":\"416bfb0f-3c76-43fe-8d45-e93efcd4d760\"}}];\n",
       "  root.Bokeh.embed.embed_items_notebook(docs_json, render_items);\n",
       "\n",
       "  }\n",
       "  if (root.Bokeh !== undefined) {\n",
       "    embed_document(root);\n",
       "  } else {\n",
       "    var attempts = 0;\n",
       "    var timer = setInterval(function(root) {\n",
       "      if (root.Bokeh !== undefined) {\n",
       "        clearInterval(timer);\n",
       "        embed_document(root);\n",
       "      } else {\n",
       "        attempts++;\n",
       "        if (attempts > 100) {\n",
       "          clearInterval(timer);\n",
       "          console.log(\"Bokeh: ERROR: Unable to run BokehJS code because BokehJS library is missing\");\n",
       "        }\n",
       "      }\n",
       "    }, 10, root)\n",
       "  }\n",
       "})(window);"
      ],
      "application/vnd.bokehjs_exec.v0+json": ""
     },
     "metadata": {
      "application/vnd.bokehjs_exec.v0+json": {
       "id": "3535"
      }
     },
     "output_type": "display_data"
    }
   ],
   "source": [
    "plot1 = figure(title = \"Deaths By Province\",plot_width = 990, plot_height = 300,x_range = FactorRange(factors = province_factors),background_fill_color=\"#fafafa\")\n",
    "plot2 = figure(title = \"Deaths By Health Region\",plot_width = 990, plot_height = 500,x_range = FactorRange(factors = health_region_factors),background_fill_color=\"#fafafa\")\n",
    "\n",
    "plot1.vbar(x = 'index' , top = 'province' , width = 0.3, source = province_data);\n",
    "plot2.vbar(x = 'index' , top = 'health_region' , width = 0.8, source = health_region_data);\n",
    "plot1.add_tools(HoverTool(tooltips = [('Cases', '@province')]))\n",
    "plot2.add_tools(HoverTool(tooltips = [('Cases', '@health_region')]))\n",
    "\n",
    "plot1.xaxis.major_label_orientation = 1\n",
    "plot2.xaxis.major_label_orientation = 1\n",
    "\n",
    "plot1.xaxis.axis_label = 'Province'\n",
    "plot1.yaxis.axis_label = 'Number of Deaths'\n",
    "plot2.xaxis.axis_label = 'Health Region'\n",
    "plot2.yaxis.axis_label = 'Number of Deaths'\n",
    "\n",
    "grid = layout([[plot1],[plot2]]) \n",
    "\n",
    "show(grid)"
   ]
  },
  {
   "cell_type": "markdown",
   "metadata": {},
   "source": [
    "# Testing Cases"
   ]
  },
  {
   "cell_type": "code",
   "execution_count": 23,
   "metadata": {},
   "outputs": [
    {
     "data": {
      "text/html": [
       "<div>\n",
       "<style scoped>\n",
       "    .dataframe tbody tr th:only-of-type {\n",
       "        vertical-align: middle;\n",
       "    }\n",
       "\n",
       "    .dataframe tbody tr th {\n",
       "        vertical-align: top;\n",
       "    }\n",
       "\n",
       "    .dataframe thead th {\n",
       "        text-align: right;\n",
       "    }\n",
       "</style>\n",
       "<table border=\"1\" class=\"dataframe\">\n",
       "  <thead>\n",
       "    <tr style=\"text-align: right;\">\n",
       "      <th></th>\n",
       "      <th>date_testing</th>\n",
       "      <th>province</th>\n",
       "      <th>cumulative_testing</th>\n",
       "    </tr>\n",
       "  </thead>\n",
       "  <tbody>\n",
       "    <tr>\n",
       "      <td>0</td>\n",
       "      <td>29-03-2020</td>\n",
       "      <td>Alberta</td>\n",
       "      <td>44999</td>\n",
       "    </tr>\n",
       "  </tbody>\n",
       "</table>\n",
       "</div>"
      ],
      "text/plain": [
       "  date_testing province cumulative_testing\n",
       "0   29-03-2020  Alberta              44999"
      ]
     },
     "metadata": {},
     "output_type": "display_data"
    }
   ],
   "source": [
    "display(n_testing.head(1))"
   ]
  },
  {
   "cell_type": "markdown",
   "metadata": {},
   "source": [
    "### Setting "
   ]
  },
  {
   "cell_type": "code",
   "execution_count": 24,
   "metadata": {},
   "outputs": [],
   "source": [
    "n_testing['cumulative_testing'] = n_testing['cumulative_testing'].str.rstrip('*')\n",
    "n_testing['cumulative_testing'] = n_testing['cumulative_testing'].fillna(0)\n",
    "n_testing['date_testing'] = pd.to_datetime(n_testing['date_testing'], dayfirst = True)\n",
    "n_testing = n_testing.sort_values(by = ['province','date_testing']);"
   ]
  },
  {
   "cell_type": "code",
   "execution_count": 25,
   "metadata": {},
   "outputs": [],
   "source": [
    "test = {}\n",
    "test_data = {}\n",
    "for name in n_testing['province'].unique():\n",
    "    test[name] = pd.DataFrame(n_testing.loc[n_testing['province'] == name])\n",
    "    test_data[name] = ColumnDataSource(test[name])"
   ]
  },
  {
   "cell_type": "markdown",
   "metadata": {},
   "source": [
    "### Number of Testing Cases in Canada\n",
    "This chart shows the number of cumulative testing cases on each date."
   ]
  },
  {
   "cell_type": "code",
   "execution_count": 26,
   "metadata": {},
   "outputs": [
    {
     "data": {
      "text/html": [
       "\n",
       "\n",
       "\n",
       "\n",
       "\n",
       "\n",
       "  <div class=\"bk-root\" id=\"1a2f2787-f9d1-4202-97aa-a9b4fcdc9bc0\" data-root-id=\"4483\"></div>\n"
      ]
     },
     "metadata": {},
     "output_type": "display_data"
    },
    {
     "data": {
      "application/javascript": [
       "(function(root) {\n",
       "  function embed_document(root) {\n",
       "    \n",
       "  var docs_json = {\"1c58a820-590d-44a5-acd4-e44ffcf6b085\":{\"roots\":{\"references\":[{\"attributes\":{\"children\":[{\"id\":\"4482\"}]},\"id\":\"4483\",\"type\":\"Column\"},{\"attributes\":{\"line_color\":\"rgb(140, 86, 75)\",\"line_width\":2,\"x\":{\"field\":\"date_testing\"},\"y\":{\"field\":\"cumulative_testing\"}},\"id\":\"4200\",\"type\":\"Line\"},{\"attributes\":{\"source\":{\"id\":\"3822\"}},\"id\":\"4388\",\"type\":\"CDSView\"},{\"attributes\":{},\"id\":\"4195\",\"type\":\"UnionRenderers\"},{\"attributes\":{\"fill_color\":{\"value\":\"rgb(255, 127, 14)\"},\"line_color\":{\"value\":\"rgb(255, 127, 14)\"},\"line_width\":{\"value\":2},\"x\":{\"field\":\"date_testing\"},\"y\":{\"field\":\"cumulative_testing\"}},\"id\":\"4395\",\"type\":\"Circle\"},{\"attributes\":{},\"id\":\"4005\",\"type\":\"UnionRenderers\"},{\"attributes\":{\"line_alpha\":0.1,\"line_color\":\"rgb(197, 176, 213)\",\"line_width\":2,\"x\":{\"field\":\"date_testing\"},\"y\":{\"field\":\"cumulative_testing\"}},\"id\":\"4159\",\"type\":\"Line\"},{\"attributes\":{\"fill_alpha\":{\"value\":0.1},\"fill_color\":{\"value\":\"rgb(174, 199, 232)\"},\"line_alpha\":{\"value\":0.1},\"line_color\":{\"value\":\"rgb(174, 199, 232)\"},\"line_width\":{\"value\":2},\"x\":{\"field\":\"date_testing\"},\"y\":{\"field\":\"cumulative_testing\"}},\"id\":\"4391\",\"type\":\"Circle\"},{\"attributes\":{\"source\":{\"id\":\"3831\"}},\"id\":\"4161\",\"type\":\"CDSView\"},{\"attributes\":{\"label\":{\"value\":\"NWT\"},\"renderers\":[{\"id\":\"3980\"}]},\"id\":\"4008\",\"type\":\"LegendItem\"},{\"attributes\":{\"data_source\":{\"id\":\"3831\"},\"glyph\":{\"id\":\"4158\"},\"hover_glyph\":null,\"muted_glyph\":null,\"nonselection_glyph\":{\"id\":\"4159\"},\"selection_glyph\":null,\"view\":{\"id\":\"4161\"}},\"id\":\"4160\",\"type\":\"GlyphRenderer\"},{\"attributes\":{\"callback\":null,\"renderers\":[{\"id\":\"4246\"}],\"tooltips\":[[\"Cases\",\"@cumulative_testing\"]]},\"id\":\"4476\",\"type\":\"HoverTool\"},{\"attributes\":{\"data_source\":{\"id\":\"3827\"},\"glyph\":{\"id\":\"4010\"},\"hover_glyph\":null,\"muted_glyph\":null,\"nonselection_glyph\":{\"id\":\"4011\"},\"selection_glyph\":null,\"view\":{\"id\":\"4013\"}},\"id\":\"4012\",\"type\":\"GlyphRenderer\"},{\"attributes\":{\"fill_alpha\":{\"value\":0.1},\"fill_color\":{\"value\":\"rgb(255, 127, 14)\"},\"line_alpha\":{\"value\":0.1},\"line_color\":{\"value\":\"rgb(255, 127, 14)\"},\"line_width\":{\"value\":2},\"x\":{\"field\":\"date_testing\"},\"y\":{\"field\":\"cumulative_testing\"}},\"id\":\"4396\",\"type\":\"Circle\"},{\"attributes\":{},\"id\":\"4039\",\"type\":\"UnionRenderers\"},{\"attributes\":{},\"id\":\"4006\",\"type\":\"Selection\"},{\"attributes\":{\"source\":{\"id\":\"3823\"}},\"id\":\"4393\",\"type\":\"CDSView\"},{\"attributes\":{\"label\":{\"value\":\"PEI\"},\"renderers\":[{\"id\":\"4160\"}]},\"id\":\"4198\",\"type\":\"LegendItem\"},{\"attributes\":{\"data_source\":{\"id\":\"3823\"},\"glyph\":{\"id\":\"4390\"},\"hover_glyph\":null,\"muted_glyph\":null,\"nonselection_glyph\":{\"id\":\"4391\"},\"selection_glyph\":null,\"view\":{\"id\":\"4393\"}},\"id\":\"4392\",\"type\":\"GlyphRenderer\"},{\"attributes\":{\"line_color\":\"rgb(214, 39, 40)\",\"line_width\":2,\"x\":{\"field\":\"date_testing\"},\"y\":{\"field\":\"cumulative_testing\"}},\"id\":\"4044\",\"type\":\"Line\"},{\"attributes\":{\"data_source\":{\"id\":\"3822\"},\"glyph\":{\"id\":\"4385\"},\"hover_glyph\":null,\"muted_glyph\":null,\"nonselection_glyph\":{\"id\":\"4386\"},\"selection_glyph\":null,\"view\":{\"id\":\"4388\"}},\"id\":\"4387\",\"type\":\"GlyphRenderer\"},{\"attributes\":{\"line_color\":\"rgb(196, 156, 148)\",\"line_width\":2,\"x\":{\"field\":\"date_testing\"},\"y\":{\"field\":\"cumulative_testing\"}},\"id\":\"4244\",\"type\":\"Line\"},{\"attributes\":{\"fill_color\":{\"value\":\"rgb(255, 187, 120)\"},\"line_color\":{\"value\":\"rgb(255, 187, 120)\"},\"line_width\":{\"value\":2},\"x\":{\"field\":\"date_testing\"},\"y\":{\"field\":\"cumulative_testing\"}},\"id\":\"4400\",\"type\":\"Circle\"},{\"attributes\":{\"line_alpha\":0.1,\"line_color\":\"rgb(152, 223, 138)\",\"line_width\":2,\"x\":{\"field\":\"date_testing\"},\"y\":{\"field\":\"cumulative_testing\"}},\"id\":\"4011\",\"type\":\"Line\"},{\"attributes\":{\"callback\":null,\"renderers\":[{\"id\":\"4082\"}],\"tooltips\":[[\"Cases\",\"@cumulative_testing\"]]},\"id\":\"4468\",\"type\":\"HoverTool\"},{\"attributes\":{\"line_color\":\"rgb(197, 176, 213)\",\"line_width\":2,\"x\":{\"field\":\"date_testing\"},\"y\":{\"field\":\"cumulative_testing\"}},\"id\":\"4158\",\"type\":\"Line\"},{\"attributes\":{},\"id\":\"4196\",\"type\":\"Selection\"},{\"attributes\":{\"data_source\":{\"id\":\"3832\"},\"glyph\":{\"id\":\"4200\"},\"hover_glyph\":null,\"muted_glyph\":null,\"nonselection_glyph\":{\"id\":\"4201\"},\"selection_glyph\":null,\"view\":{\"id\":\"4203\"}},\"id\":\"4202\",\"type\":\"GlyphRenderer\"},{\"attributes\":{\"fill_alpha\":{\"value\":0.1},\"fill_color\":{\"value\":\"rgb(255, 187, 120)\"},\"line_alpha\":{\"value\":0.1},\"line_color\":{\"value\":\"rgb(255, 187, 120)\"},\"line_width\":{\"value\":2},\"x\":{\"field\":\"date_testing\"},\"y\":{\"field\":\"cumulative_testing\"}},\"id\":\"4401\",\"type\":\"Circle\"},{\"attributes\":{},\"id\":\"4076\",\"type\":\"Selection\"},{\"attributes\":{},\"id\":\"4239\",\"type\":\"UnionRenderers\"},{\"attributes\":{\"source\":{\"id\":\"3827\"}},\"id\":\"4013\",\"type\":\"CDSView\"},{\"attributes\":{\"source\":{\"id\":\"3834\"}},\"id\":\"4340\",\"type\":\"CDSView\"},{\"attributes\":{\"line_alpha\":0.1,\"line_color\":\"rgb(140, 86, 75)\",\"line_width\":2,\"x\":{\"field\":\"date_testing\"},\"y\":{\"field\":\"cumulative_testing\"}},\"id\":\"4201\",\"type\":\"Line\"},{\"attributes\":{\"source\":{\"id\":\"3824\"}},\"id\":\"4398\",\"type\":\"CDSView\"},{\"attributes\":{\"data_source\":{\"id\":\"3824\"},\"glyph\":{\"id\":\"4395\"},\"hover_glyph\":null,\"muted_glyph\":null,\"nonselection_glyph\":{\"id\":\"4396\"},\"selection_glyph\":null,\"view\":{\"id\":\"4398\"}},\"id\":\"4397\",\"type\":\"GlyphRenderer\"},{\"attributes\":{\"line_color\":\"rgb(255, 152, 150)\",\"line_width\":2,\"x\":{\"field\":\"date_testing\"},\"y\":{\"field\":\"cumulative_testing\"}},\"id\":\"4080\",\"type\":\"Line\"},{\"attributes\":{\"line_color\":\"rgb(227, 119, 194)\",\"line_width\":2,\"x\":{\"field\":\"date_testing\"},\"y\":{\"field\":\"cumulative_testing\"}},\"id\":\"4290\",\"type\":\"Line\"},{\"attributes\":{\"source\":{\"id\":\"3832\"}},\"id\":\"4203\",\"type\":\"CDSView\"},{\"attributes\":{\"fill_color\":{\"value\":\"rgb(44, 160, 44)\"},\"line_color\":{\"value\":\"rgb(44, 160, 44)\"},\"line_width\":{\"value\":2},\"x\":{\"field\":\"date_testing\"},\"y\":{\"field\":\"cumulative_testing\"}},\"id\":\"4405\",\"type\":\"Circle\"},{\"attributes\":{\"callback\":null,\"renderers\":[{\"id\":\"4046\"}],\"tooltips\":[[\"Cases\",\"@cumulative_testing\"]]},\"id\":\"4466\",\"type\":\"HoverTool\"},{\"attributes\":{},\"id\":\"4040\",\"type\":\"Selection\"},{\"attributes\":{\"label\":{\"value\":\"New Brunswick\"},\"renderers\":[{\"id\":\"4012\"}]},\"id\":\"4042\",\"type\":\"LegendItem\"},{\"attributes\":{\"callback\":null,\"renderers\":[{\"id\":\"4202\"}],\"tooltips\":[[\"Cases\",\"@cumulative_testing\"]]},\"id\":\"4474\",\"type\":\"HoverTool\"},{\"attributes\":{\"label\":{\"value\":\"Yukon\"},\"renderers\":[{\"id\":\"4339\"}]},\"id\":\"4383\",\"type\":\"LegendItem\"},{\"attributes\":{},\"id\":\"4113\",\"type\":\"UnionRenderers\"},{\"attributes\":{\"data\":{\"cumulative_testing\":[0,\"203\",\"204\",\"381\",\"421\",\"520\",\"788\",\"858\",\"1096\",\"1255\",\"1550\",\"1828\",\"2019\",\"2605\",\"2931\"],\"date_testing\":{\"__ndarray__\":\"AAAA2LcNd0IAAMA9Cg53QgAAgKNcDndCAABACa8Od0IAAABvAQ93QgAAwNRTD3dCAACAOqYPd0IAAECg+A93QgAAAAZLEHdCAADAa50Qd0IAAIDR7xB3QgAAQDdCEXdCAAAAnZQRd0IAAMAC5xF3QgAAgGg5EndC\",\"dtype\":\"float64\",\"shape\":[15]},\"index\":[59,58,57,56,55,54,53,52,51,50,49,48,47,46,45],\"province\":[\"New Brunswick\",\"New Brunswick\",\"New Brunswick\",\"New Brunswick\",\"New Brunswick\",\"New Brunswick\",\"New Brunswick\",\"New Brunswick\",\"New Brunswick\",\"New Brunswick\",\"New Brunswick\",\"New Brunswick\",\"New Brunswick\",\"New Brunswick\",\"New Brunswick\"]},\"selected\":{\"id\":\"4076\"},\"selection_policy\":{\"id\":\"4075\"}},\"id\":\"3827\",\"type\":\"ColumnDataSource\"},{\"attributes\":{\"fill_alpha\":{\"value\":0.1},\"fill_color\":{\"value\":\"rgb(44, 160, 44)\"},\"line_alpha\":{\"value\":0.1},\"line_color\":{\"value\":\"rgb(44, 160, 44)\"},\"line_width\":{\"value\":2},\"x\":{\"field\":\"date_testing\"},\"y\":{\"field\":\"cumulative_testing\"}},\"id\":\"4406\",\"type\":\"Circle\"},{\"attributes\":{},\"id\":\"4114\",\"type\":\"Selection\"},{\"attributes\":{},\"id\":\"4285\",\"type\":\"UnionRenderers\"},{\"attributes\":{\"source\":{\"id\":\"3830\"}},\"id\":\"4121\",\"type\":\"CDSView\"},{\"attributes\":{\"label\":{\"value\":\"Quebec\"},\"renderers\":[{\"id\":\"4202\"}]},\"id\":\"4242\",\"type\":\"LegendItem\"},{\"attributes\":{\"source\":{\"id\":\"3825\"}},\"id\":\"4403\",\"type\":\"CDSView\"},{\"attributes\":{\"data_source\":{\"id\":\"3828\"},\"glyph\":{\"id\":\"4044\"},\"hover_glyph\":null,\"muted_glyph\":null,\"nonselection_glyph\":{\"id\":\"4045\"},\"selection_glyph\":null,\"view\":{\"id\":\"4047\"}},\"id\":\"4046\",\"type\":\"GlyphRenderer\"},{\"attributes\":{\"data_source\":{\"id\":\"3825\"},\"glyph\":{\"id\":\"4400\"},\"hover_glyph\":null,\"muted_glyph\":null,\"nonselection_glyph\":{\"id\":\"4401\"},\"selection_glyph\":null,\"view\":{\"id\":\"4403\"}},\"id\":\"4402\",\"type\":\"GlyphRenderer\"},{\"attributes\":{\"data_source\":{\"id\":\"3833\"},\"glyph\":{\"id\":\"4244\"},\"hover_glyph\":null,\"muted_glyph\":null,\"nonselection_glyph\":{\"id\":\"4245\"},\"selection_glyph\":null,\"view\":{\"id\":\"4247\"}},\"id\":\"4246\",\"type\":\"GlyphRenderer\"},{\"attributes\":{\"line_alpha\":0.1,\"line_color\":\"rgb(214, 39, 40)\",\"line_width\":2,\"x\":{\"field\":\"date_testing\"},\"y\":{\"field\":\"cumulative_testing\"}},\"id\":\"4045\",\"type\":\"Line\"},{\"attributes\":{\"line_alpha\":0.1,\"line_color\":\"rgb(196, 156, 148)\",\"line_width\":2,\"x\":{\"field\":\"date_testing\"},\"y\":{\"field\":\"cumulative_testing\"}},\"id\":\"4245\",\"type\":\"Line\"},{\"attributes\":{\"fill_color\":{\"value\":\"rgb(152, 223, 138)\"},\"line_color\":{\"value\":\"rgb(152, 223, 138)\"},\"line_width\":{\"value\":2},\"x\":{\"field\":\"date_testing\"},\"y\":{\"field\":\"cumulative_testing\"}},\"id\":\"4410\",\"type\":\"Circle\"},{\"attributes\":{\"callback\":null,\"renderers\":[{\"id\":\"4012\"}],\"tooltips\":[[\"Cases\",\"@cumulative_testing\"]]},\"id\":\"4464\",\"type\":\"HoverTool\"},{\"attributes\":{\"source\":{\"id\":\"3828\"}},\"id\":\"4047\",\"type\":\"CDSView\"},{\"attributes\":{\"source\":{\"id\":\"3833\"}},\"id\":\"4247\",\"type\":\"CDSView\"},{\"attributes\":{\"fill_alpha\":{\"value\":0.1},\"fill_color\":{\"value\":\"rgb(152, 223, 138)\"},\"line_alpha\":{\"value\":0.1},\"line_color\":{\"value\":\"rgb(152, 223, 138)\"},\"line_width\":{\"value\":2},\"x\":{\"field\":\"date_testing\"},\"y\":{\"field\":\"cumulative_testing\"}},\"id\":\"4411\",\"type\":\"Circle\"},{\"attributes\":{\"line_color\":\"rgb(247, 182, 210)\",\"line_width\":2,\"x\":{\"field\":\"date_testing\"},\"y\":{\"field\":\"cumulative_testing\"}},\"id\":\"4337\",\"type\":\"Line\"},{\"attributes\":{\"line_alpha\":0.1,\"line_color\":\"rgb(255, 152, 150)\",\"line_width\":2,\"x\":{\"field\":\"date_testing\"},\"y\":{\"field\":\"cumulative_testing\"}},\"id\":\"4081\",\"type\":\"Line\"},{\"attributes\":{\"source\":{\"id\":\"3826\"}},\"id\":\"4408\",\"type\":\"CDSView\"},{\"attributes\":{\"data_source\":{\"id\":\"3826\"},\"glyph\":{\"id\":\"4405\"},\"hover_glyph\":null,\"muted_glyph\":null,\"nonselection_glyph\":{\"id\":\"4406\"},\"selection_glyph\":null,\"view\":{\"id\":\"4408\"}},\"id\":\"4407\",\"type\":\"GlyphRenderer\"},{\"attributes\":{\"line_color\":\"rgb(148, 103, 189)\",\"line_width\":2,\"x\":{\"field\":\"date_testing\"},\"y\":{\"field\":\"cumulative_testing\"}},\"id\":\"4118\",\"type\":\"Line\"},{\"attributes\":{},\"id\":\"4286\",\"type\":\"Selection\"},{\"attributes\":{\"label\":{\"value\":\"Saskatchewan\"},\"renderers\":[{\"id\":\"4246\"}]},\"id\":\"4288\",\"type\":\"LegendItem\"},{\"attributes\":{\"fill_color\":{\"value\":\"rgb(214, 39, 40)\"},\"line_color\":{\"value\":\"rgb(214, 39, 40)\"},\"line_width\":{\"value\":2},\"x\":{\"field\":\"date_testing\"},\"y\":{\"field\":\"cumulative_testing\"}},\"id\":\"4415\",\"type\":\"Circle\"},{\"attributes\":{\"source\":{\"id\":\"3829\"}},\"id\":\"4083\",\"type\":\"CDSView\"},{\"attributes\":{},\"id\":\"4333\",\"type\":\"UnionRenderers\"},{\"attributes\":{\"line_alpha\":0.1,\"line_color\":\"rgb(227, 119, 194)\",\"line_width\":2,\"x\":{\"field\":\"date_testing\"},\"y\":{\"field\":\"cumulative_testing\"}},\"id\":\"4291\",\"type\":\"Line\"},{\"attributes\":{\"fill_alpha\":{\"value\":0.1},\"fill_color\":{\"value\":\"rgb(214, 39, 40)\"},\"line_alpha\":{\"value\":0.1},\"line_color\":{\"value\":\"rgb(214, 39, 40)\"},\"line_width\":{\"value\":2},\"x\":{\"field\":\"date_testing\"},\"y\":{\"field\":\"cumulative_testing\"}},\"id\":\"4416\",\"type\":\"Circle\"},{\"attributes\":{\"data_source\":{\"id\":\"3828\"},\"glyph\":{\"id\":\"4290\"},\"hover_glyph\":null,\"muted_glyph\":null,\"nonselection_glyph\":{\"id\":\"4291\"},\"selection_glyph\":null,\"view\":{\"id\":\"4293\"}},\"id\":\"4292\",\"type\":\"GlyphRenderer\"},{\"attributes\":{\"data_source\":{\"id\":\"3829\"},\"glyph\":{\"id\":\"4080\"},\"hover_glyph\":null,\"muted_glyph\":null,\"nonselection_glyph\":{\"id\":\"4081\"},\"selection_glyph\":null,\"view\":{\"id\":\"4083\"}},\"id\":\"4082\",\"type\":\"GlyphRenderer\"},{\"attributes\":{\"line_alpha\":0.1,\"line_color\":\"rgb(247, 182, 210)\",\"line_width\":2,\"x\":{\"field\":\"date_testing\"},\"y\":{\"field\":\"cumulative_testing\"}},\"id\":\"4338\",\"type\":\"Line\"},{\"attributes\":{\"source\":{\"id\":\"3827\"}},\"id\":\"4413\",\"type\":\"CDSView\"},{\"attributes\":{\"data_source\":{\"id\":\"3827\"},\"glyph\":{\"id\":\"4410\"},\"hover_glyph\":null,\"muted_glyph\":null,\"nonselection_glyph\":{\"id\":\"4411\"},\"selection_glyph\":null,\"view\":{\"id\":\"4413\"}},\"id\":\"4412\",\"type\":\"GlyphRenderer\"},{\"attributes\":{\"fill_alpha\":{\"value\":0.1},\"fill_color\":{\"value\":\"rgb(31, 119, 180)\"},\"line_alpha\":{\"value\":0.1},\"line_color\":{\"value\":\"rgb(31, 119, 180)\"},\"line_width\":{\"value\":2},\"x\":{\"field\":\"date_testing\"},\"y\":{\"field\":\"cumulative_testing\"}},\"id\":\"4386\",\"type\":\"Circle\"},{\"attributes\":{\"source\":{\"id\":\"3828\"}},\"id\":\"4293\",\"type\":\"CDSView\"},{\"attributes\":{\"callback\":null,\"renderers\":[{\"id\":\"4120\"}],\"tooltips\":[[\"Cases\",\"@cumulative_testing\"]]},\"id\":\"4470\",\"type\":\"HoverTool\"},{\"attributes\":{\"fill_color\":{\"value\":\"rgb(255, 152, 150)\"},\"line_color\":{\"value\":\"rgb(255, 152, 150)\"},\"line_width\":{\"value\":2},\"x\":{\"field\":\"date_testing\"},\"y\":{\"field\":\"cumulative_testing\"}},\"id\":\"4420\",\"type\":\"Circle\"},{\"attributes\":{},\"id\":\"4153\",\"type\":\"UnionRenderers\"},{\"attributes\":{\"line_alpha\":0.1,\"line_color\":\"rgb(148, 103, 189)\",\"line_width\":2,\"x\":{\"field\":\"date_testing\"},\"y\":{\"field\":\"cumulative_testing\"}},\"id\":\"4119\",\"type\":\"Line\"},{\"attributes\":{\"fill_color\":{\"value\":\"rgb(31, 119, 180)\"},\"line_color\":{\"value\":\"rgb(31, 119, 180)\"},\"line_width\":{\"value\":2},\"x\":{\"field\":\"date_testing\"},\"y\":{\"field\":\"cumulative_testing\"}},\"id\":\"4385\",\"type\":\"Circle\"},{\"attributes\":{\"callback\":null,\"renderers\":[{\"id\":\"3980\"}],\"tooltips\":[[\"Cases\",\"@cumulative_testing\"]]},\"id\":\"4462\",\"type\":\"HoverTool\"},{\"attributes\":{\"label\":{\"value\":\"Ontario\"},\"renderers\":[{\"id\":\"4120\"}]},\"id\":\"4156\",\"type\":\"LegendItem\"},{\"attributes\":{\"data_source\":{\"id\":\"3830\"},\"glyph\":{\"id\":\"4118\"},\"hover_glyph\":null,\"muted_glyph\":null,\"nonselection_glyph\":{\"id\":\"4119\"},\"selection_glyph\":null,\"view\":{\"id\":\"4121\"}},\"id\":\"4120\",\"type\":\"GlyphRenderer\"},{\"attributes\":{},\"id\":\"4334\",\"type\":\"Selection\"},{\"attributes\":{\"callback\":null,\"renderers\":[{\"id\":\"4160\"}],\"tooltips\":[[\"Cases\",\"@cumulative_testing\"]]},\"id\":\"4472\",\"type\":\"HoverTool\"},{\"attributes\":{},\"id\":\"4154\",\"type\":\"Selection\"},{\"attributes\":{\"data_source\":{\"id\":\"3834\"},\"glyph\":{\"id\":\"4337\"},\"hover_glyph\":null,\"muted_glyph\":null,\"nonselection_glyph\":{\"id\":\"4338\"},\"selection_glyph\":null,\"view\":{\"id\":\"4340\"}},\"id\":\"4339\",\"type\":\"GlyphRenderer\"},{\"attributes\":{\"source\":{\"id\":\"3828\"}},\"id\":\"4418\",\"type\":\"CDSView\"},{\"attributes\":{\"data_source\":{\"id\":\"3828\"},\"glyph\":{\"id\":\"4415\"},\"hover_glyph\":null,\"muted_glyph\":null,\"nonselection_glyph\":{\"id\":\"4416\"},\"selection_glyph\":null,\"view\":{\"id\":\"4418\"}},\"id\":\"4417\",\"type\":\"GlyphRenderer\"},{\"attributes\":{\"fill_color\":{\"value\":\"rgb(174, 199, 232)\"},\"line_color\":{\"value\":\"rgb(174, 199, 232)\"},\"line_width\":{\"value\":2},\"x\":{\"field\":\"date_testing\"},\"y\":{\"field\":\"cumulative_testing\"}},\"id\":\"4390\",\"type\":\"Circle\"},{\"attributes\":{},\"id\":\"3842\",\"type\":\"LinearScale\"},{\"attributes\":{\"data\":{\"cumulative_testing\":[\"8465\",\"10178\",\"11171\",\"13897\",\"16650\",\"19511\",\"23384\",\"26420\",\"28506\",\"32457\",\"35635\",\"38550\",\"41032\",\"43072\",\"49186\"],\"date_testing\":{\"__ndarray__\":\"AAAA2LcNd0IAAMA9Cg53QgAAgKNcDndCAABACa8Od0IAAABvAQ93QgAAwNRTD3dCAACAOqYPd0IAAECg+A93QgAAAAZLEHdCAADAa50Qd0IAAIDR7xB3QgAAQDdCEXdCAAAAnZQRd0IAAMAC5xF3QgAAgGg5EndC\",\"dtype\":\"float64\",\"shape\":[15]},\"index\":[104,103,102,101,100,99,98,97,96,95,94,93,92,91,90],\"province\":[\"Ontario\",\"Ontario\",\"Ontario\",\"Ontario\",\"Ontario\",\"Ontario\",\"Ontario\",\"Ontario\",\"Ontario\",\"Ontario\",\"Ontario\",\"Ontario\",\"Ontario\",\"Ontario\",\"Ontario\"]},\"selected\":{\"id\":\"4196\"},\"selection_policy\":{\"id\":\"4195\"}},\"id\":\"3830\",\"type\":\"ColumnDataSource\"},{\"attributes\":{\"fill_alpha\":{\"value\":0.1},\"fill_color\":{\"value\":\"rgb(255, 152, 150)\"},\"line_alpha\":{\"value\":0.1},\"line_color\":{\"value\":\"rgb(255, 152, 150)\"},\"line_width\":{\"value\":2},\"x\":{\"field\":\"date_testing\"},\"y\":{\"field\":\"cumulative_testing\"}},\"id\":\"4421\",\"type\":\"Circle\"},{\"attributes\":{},\"id\":\"3876\",\"type\":\"BasicTickFormatter\"},{\"attributes\":{\"data\":{\"cumulative_testing\":[\"78\",\"147\",\"147\",\"183\",\"213\",\"240\",\"325\",\"393\",\"400\",\"416\",\"550\",\"556\",\"622\",\"622\",\"622\"],\"date_testing\":{\"__ndarray__\":\"AAAA2LcNd0IAAMA9Cg53QgAAgKNcDndCAABACa8Od0IAAABvAQ93QgAAwNRTD3dCAACAOqYPd0IAAECg+A93QgAAAAZLEHdCAADAa50Qd0IAAIDR7xB3QgAAQDdCEXdCAAAAnZQRd0IAAMAC5xF3QgAAgGg5EndC\",\"dtype\":\"float64\",\"shape\":[15]},\"index\":[119,118,117,116,115,114,113,112,111,110,109,108,107,106,105],\"province\":[\"PEI\",\"PEI\",\"PEI\",\"PEI\",\"PEI\",\"PEI\",\"PEI\",\"PEI\",\"PEI\",\"PEI\",\"PEI\",\"PEI\",\"PEI\",\"PEI\",\"PEI\"]},\"selected\":{\"id\":\"4240\"},\"selection_policy\":{\"id\":\"4239\"}},\"id\":\"3831\",\"type\":\"ColumnDataSource\"},{\"attributes\":{\"callback\":null,\"renderers\":[{\"id\":\"3922\"}],\"tooltips\":[[\"Cases\",\"@cumulative_testing\"]]},\"id\":\"4458\",\"type\":\"HoverTool\"},{\"attributes\":{\"data\":{\"cumulative_testing\":[0,\"6202\",\"7801\",\"8934\",\"10451\",\"10222\",\"10935\",\"12068\",\"13727\",\"15763\",\"30971\",\"36105\",\"41592\",\"52844\",\"58517\"],\"date_testing\":{\"__ndarray__\":\"AAAA2LcNd0IAAMA9Cg53QgAAgKNcDndCAABACa8Od0IAAABvAQ93QgAAwNRTD3dCAACAOqYPd0IAAECg+A93QgAAAAZLEHdCAADAa50Qd0IAAIDR7xB3QgAAQDdCEXdCAAAAnZQRd0IAAMAC5xF3QgAAgGg5EndC\",\"dtype\":\"float64\",\"shape\":[15]},\"index\":[134,133,132,131,130,129,128,127,126,125,124,123,122,121,120],\"province\":[\"Quebec\",\"Quebec\",\"Quebec\",\"Quebec\",\"Quebec\",\"Quebec\",\"Quebec\",\"Quebec\",\"Quebec\",\"Quebec\",\"Quebec\",\"Quebec\",\"Quebec\",\"Quebec\",\"Quebec\"]},\"selected\":{\"id\":\"4286\"},\"selection_policy\":{\"id\":\"4285\"}},\"id\":\"3832\",\"type\":\"ColumnDataSource\"},{\"attributes\":{\"fill_color\":{\"value\":\"rgb(148, 103, 189)\"},\"line_color\":{\"value\":\"rgb(148, 103, 189)\"},\"line_width\":{\"value\":2},\"x\":{\"field\":\"date_testing\"},\"y\":{\"field\":\"cumulative_testing\"}},\"id\":\"4425\",\"type\":\"Circle\"},{\"attributes\":{\"callback\":null,\"renderers\":[{\"id\":\"4292\"}],\"tooltips\":[[\"Cases\",\"@cumulative_testing\"]]},\"id\":\"4478\",\"type\":\"HoverTool\"},{\"attributes\":{},\"id\":\"3844\",\"type\":\"LinearScale\"},{\"attributes\":{\"fill_alpha\":{\"value\":0.1},\"fill_color\":{\"value\":\"rgb(148, 103, 189)\"},\"line_alpha\":{\"value\":0.1},\"line_color\":{\"value\":\"rgb(148, 103, 189)\"},\"line_width\":{\"value\":2},\"x\":{\"field\":\"date_testing\"},\"y\":{\"field\":\"cumulative_testing\"}},\"id\":\"4426\",\"type\":\"Circle\"},{\"attributes\":{\"callback\":null,\"renderers\":[{\"id\":\"4339\"}],\"tooltips\":[[\"Cases\",\"@cumulative_testing\"]]},\"id\":\"4480\",\"type\":\"HoverTool\"},{\"attributes\":{\"base\":24,\"mantissas\":[1,2,4,6,8,12],\"max_interval\":43200000.0,\"min_interval\":3600000.0,\"num_minor_ticks\":0},\"id\":\"3880\",\"type\":\"AdaptiveTicker\"},{\"attributes\":{\"axis_label\":\"Date\",\"formatter\":{\"id\":\"3874\"},\"ticker\":{\"id\":\"3847\"}},\"id\":\"3846\",\"type\":\"DatetimeAxis\"},{\"attributes\":{\"base\":60,\"mantissas\":[1,2,5,10,15,20,30],\"max_interval\":1800000.0,\"min_interval\":1000.0,\"num_minor_ticks\":0},\"id\":\"3879\",\"type\":\"AdaptiveTicker\"},{\"attributes\":{\"children\":[{\"id\":\"3835\"}]},\"id\":\"4482\",\"type\":\"Row\"},{\"attributes\":{\"axis\":{\"id\":\"3850\"},\"dimension\":1,\"ticker\":null},\"id\":\"3853\",\"type\":\"Grid\"},{\"attributes\":{\"source\":{\"id\":\"3829\"}},\"id\":\"4423\",\"type\":\"CDSView\"},{\"attributes\":{\"data_source\":{\"id\":\"3829\"},\"glyph\":{\"id\":\"4420\"},\"hover_glyph\":null,\"muted_glyph\":null,\"nonselection_glyph\":{\"id\":\"4421\"},\"selection_glyph\":null,\"view\":{\"id\":\"4423\"}},\"id\":\"4422\",\"type\":\"GlyphRenderer\"},{\"attributes\":{\"num_minor_ticks\":5,\"tickers\":[{\"id\":\"3878\"},{\"id\":\"3879\"},{\"id\":\"3880\"},{\"id\":\"3881\"},{\"id\":\"3882\"},{\"id\":\"3883\"},{\"id\":\"3884\"},{\"id\":\"3885\"},{\"id\":\"3886\"},{\"id\":\"3887\"},{\"id\":\"3888\"},{\"id\":\"3889\"}]},\"id\":\"3847\",\"type\":\"DatetimeTicker\"},{\"attributes\":{},\"id\":\"4715\",\"type\":\"UnionRenderers\"},{\"attributes\":{\"source\":{\"id\":\"3822\"}},\"id\":\"3872\",\"type\":\"CDSView\"},{\"attributes\":{\"axis\":{\"id\":\"3846\"},\"ticker\":null},\"id\":\"3849\",\"type\":\"Grid\"},{\"attributes\":{\"fill_color\":{\"value\":\"rgb(197, 176, 213)\"},\"line_color\":{\"value\":\"rgb(197, 176, 213)\"},\"line_width\":{\"value\":2},\"x\":{\"field\":\"date_testing\"},\"y\":{\"field\":\"cumulative_testing\"}},\"id\":\"4430\",\"type\":\"Circle\"},{\"attributes\":{\"days\":[1,2,3,4,5,6,7,8,9,10,11,12,13,14,15,16,17,18,19,20,21,22,23,24,25,26,27,28,29,30,31]},\"id\":\"3881\",\"type\":\"DaysTicker\"},{\"attributes\":{},\"id\":\"3851\",\"type\":\"BasicTicker\"},{\"attributes\":{\"callback\":null,\"renderers\":[{\"id\":\"3950\"}],\"tooltips\":[[\"Cases\",\"@cumulative_testing\"]]},\"id\":\"4460\",\"type\":\"HoverTool\"},{\"attributes\":{\"days\":[1,4,7,10,13,16,19,22,25,28]},\"id\":\"3882\",\"type\":\"DaysTicker\"},{\"attributes\":{\"axis_label\":\"Number of Cumulative Testing Case\",\"formatter\":{\"id\":\"3876\"},\"ticker\":{\"id\":\"3851\"}},\"id\":\"3850\",\"type\":\"LinearAxis\"},{\"attributes\":{\"data\":{\"cumulative_testing\":[\"796\",\"1107\",\"1107\",\"1978\",\"2561\",\"3093\",\"3917\",\"4536\",\"5269\",\"5757\",\"6270\",\"6915\",\"7580\",\"8248\",\"9086\"],\"date_testing\":{\"__ndarray__\":\"AAAA2LcNd0IAAMA9Cg53QgAAgKNcDndCAABACa8Od0IAAABvAQ93QgAAwNRTD3dCAACAOqYPd0IAAECg+A93QgAAAAZLEHdCAADAa50Qd0IAAIDR7xB3QgAAQDdCEXdCAAAAnZQRd0IAAMAC5xF3QgAAgGg5EndC\",\"dtype\":\"float64\",\"shape\":[15]},\"index\":[149,148,147,146,145,144,143,142,141,140,139,138,137,136,135],\"province\":[\"Saskatchewan\",\"Saskatchewan\",\"Saskatchewan\",\"Saskatchewan\",\"Saskatchewan\",\"Saskatchewan\",\"Saskatchewan\",\"Saskatchewan\",\"Saskatchewan\",\"Saskatchewan\",\"Saskatchewan\",\"Saskatchewan\",\"Saskatchewan\",\"Saskatchewan\",\"Saskatchewan\"]},\"selected\":{\"id\":\"4334\"},\"selection_policy\":{\"id\":\"4333\"}},\"id\":\"3833\",\"type\":\"ColumnDataSource\"},{\"attributes\":{\"data\":{\"cumulative_testing\":[0,0,0,\"101\",\"398\",\"398\",\"398\",\"398\",\"418\",\"418\",\"517\",\"517\",\"603\",\"603\",\"603\"],\"date_testing\":{\"__ndarray__\":\"AAAA2LcNd0IAAMA9Cg53QgAAgKNcDndCAABACa8Od0IAAABvAQ93QgAAwNRTD3dCAACAOqYPd0IAAECg+A93QgAAAAZLEHdCAADAa50Qd0IAAIDR7xB3QgAAQDdCEXdCAAAAnZQRd0IAAMAC5xF3QgAAgGg5EndC\",\"dtype\":\"float64\",\"shape\":[15]},\"index\":[194,193,192,191,190,189,188,187,186,185,184,183,182,181,180],\"province\":[\"Yukon\",\"Yukon\",\"Yukon\",\"Yukon\",\"Yukon\",\"Yukon\",\"Yukon\",\"Yukon\",\"Yukon\",\"Yukon\",\"Yukon\",\"Yukon\",\"Yukon\",\"Yukon\",\"Yukon\"]},\"selected\":{\"id\":\"4716\"},\"selection_policy\":{\"id\":\"4715\"}},\"id\":\"3834\",\"type\":\"ColumnDataSource\"},{\"attributes\":{\"fill_alpha\":{\"value\":0.1},\"fill_color\":{\"value\":\"rgb(197, 176, 213)\"},\"line_alpha\":{\"value\":0.1},\"line_color\":{\"value\":\"rgb(197, 176, 213)\"},\"line_width\":{\"value\":2},\"x\":{\"field\":\"date_testing\"},\"y\":{\"field\":\"cumulative_testing\"}},\"id\":\"4431\",\"type\":\"Circle\"},{\"attributes\":{\"days\":[1,8,15,22]},\"id\":\"3883\",\"type\":\"DaysTicker\"},{\"attributes\":{\"label\":{\"value\":\"NL\"},\"renderers\":[{\"id\":\"3950\"}]},\"id\":\"3976\",\"type\":\"LegendItem\"},{\"attributes\":{\"days\":[1,15]},\"id\":\"3884\",\"type\":\"DaysTicker\"},{\"attributes\":{\"line_alpha\":0.1,\"line_color\":\"rgb(31, 119, 180)\",\"line_width\":2,\"x\":{\"field\":\"date_testing\"},\"y\":{\"field\":\"cumulative_testing\"}},\"id\":\"3870\",\"type\":\"Line\"},{\"attributes\":{\"source\":{\"id\":\"3830\"}},\"id\":\"4428\",\"type\":\"CDSView\"},{\"attributes\":{\"data_source\":{\"id\":\"3830\"},\"glyph\":{\"id\":\"4425\"},\"hover_glyph\":null,\"muted_glyph\":null,\"nonselection_glyph\":{\"id\":\"4426\"},\"selection_glyph\":null,\"view\":{\"id\":\"4428\"}},\"id\":\"4427\",\"type\":\"GlyphRenderer\"},{\"attributes\":{\"months\":[0,1,2,3,4,5,6,7,8,9,10,11]},\"id\":\"3885\",\"type\":\"MonthsTicker\"},{\"attributes\":{\"active_drag\":\"auto\",\"active_inspect\":\"auto\",\"active_multi\":null,\"active_scroll\":\"auto\",\"active_tap\":\"auto\",\"tools\":[{\"id\":\"3854\"},{\"id\":\"3855\"},{\"id\":\"3856\"},{\"id\":\"3857\"},{\"id\":\"3858\"},{\"id\":\"3859\"},{\"id\":\"4454\"},{\"id\":\"4456\"},{\"id\":\"4458\"},{\"id\":\"4460\"},{\"id\":\"4462\"},{\"id\":\"4464\"},{\"id\":\"4466\"},{\"id\":\"4468\"},{\"id\":\"4470\"},{\"id\":\"4472\"},{\"id\":\"4474\"},{\"id\":\"4476\"},{\"id\":\"4478\"},{\"id\":\"4480\"}]},\"id\":\"3861\",\"type\":\"Toolbar\"},{\"attributes\":{\"fill_color\":{\"value\":\"rgb(140, 86, 75)\"},\"line_color\":{\"value\":\"rgb(140, 86, 75)\"},\"line_width\":{\"value\":2},\"x\":{\"field\":\"date_testing\"},\"y\":{\"field\":\"cumulative_testing\"}},\"id\":\"4435\",\"type\":\"Circle\"},{\"attributes\":{\"months\":[0,2,4,6,8,10]},\"id\":\"3886\",\"type\":\"MonthsTicker\"},{\"attributes\":{\"label\":{\"value\":\"Alberta\"},\"renderers\":[{\"id\":\"3871\"}]},\"id\":\"3892\",\"type\":\"LegendItem\"},{\"attributes\":{\"callback\":null,\"renderers\":[{\"id\":\"3871\"}],\"tooltips\":[[\"Cases\",\"@cumulative_testing\"]]},\"id\":\"4454\",\"type\":\"HoverTool\"},{\"attributes\":{},\"id\":\"4716\",\"type\":\"Selection\"},{\"attributes\":{\"label\":{\"value\":\"Nunavut\"},\"renderers\":[{\"id\":\"4082\"}]},\"id\":\"4116\",\"type\":\"LegendItem\"},{\"attributes\":{\"months\":[0,4,8]},\"id\":\"3887\",\"type\":\"MonthsTicker\"},{\"attributes\":{},\"id\":\"4240\",\"type\":\"Selection\"},{\"attributes\":{},\"id\":\"3854\",\"type\":\"PanTool\"},{\"attributes\":{\"data\":{\"cumulative_testing\":[\"7108\",\"10598\",\"12355\",\"14566\",\"17013\",\"20360\",\"23742\",\"26999\",\"30058\",\"32776\",\"35508\",\"36660\",\"38215\",\"42527\",\"44999\"],\"date_testing\":{\"__ndarray__\":\"AAAA2LcNd0IAAMA9Cg53QgAAgKNcDndCAABACa8Od0IAAABvAQ93QgAAwNRTD3dCAACAOqYPd0IAAECg+A93QgAAAAZLEHdCAADAa50Qd0IAAIDR7xB3QgAAQDdCEXdCAAAAnZQRd0IAAMAC5xF3QgAAgGg5EndC\",\"dtype\":\"float64\",\"shape\":[15]},\"index\":[14,13,12,11,10,9,8,7,6,5,4,3,2,1,0],\"province\":[\"Alberta\",\"Alberta\",\"Alberta\",\"Alberta\",\"Alberta\",\"Alberta\",\"Alberta\",\"Alberta\",\"Alberta\",\"Alberta\",\"Alberta\",\"Alberta\",\"Alberta\",\"Alberta\",\"Alberta\"]},\"selected\":{\"id\":\"3916\"},\"selection_policy\":{\"id\":\"3915\"}},\"id\":\"3822\",\"type\":\"ColumnDataSource\"},{\"attributes\":{\"fill_alpha\":{\"value\":0.1},\"fill_color\":{\"value\":\"rgb(140, 86, 75)\"},\"line_alpha\":{\"value\":0.1},\"line_color\":{\"value\":\"rgb(140, 86, 75)\"},\"line_width\":{\"value\":2},\"x\":{\"field\":\"date_testing\"},\"y\":{\"field\":\"cumulative_testing\"}},\"id\":\"4436\",\"type\":\"Circle\"},{\"attributes\":{\"months\":[0,6]},\"id\":\"3888\",\"type\":\"MonthsTicker\"},{\"attributes\":{\"source\":{\"id\":\"3824\"}},\"id\":\"3923\",\"type\":\"CDSView\"},{\"attributes\":{},\"id\":\"3855\",\"type\":\"WheelZoomTool\"},{\"attributes\":{},\"id\":\"3889\",\"type\":\"YearsTicker\"},{\"attributes\":{\"source\":{\"id\":\"3831\"}},\"id\":\"4433\",\"type\":\"CDSView\"},{\"attributes\":{\"overlay\":{\"id\":\"3860\"}},\"id\":\"3856\",\"type\":\"BoxZoomTool\"},{\"attributes\":{\"data_source\":{\"id\":\"3831\"},\"glyph\":{\"id\":\"4430\"},\"hover_glyph\":null,\"muted_glyph\":null,\"nonselection_glyph\":{\"id\":\"4431\"},\"selection_glyph\":null,\"view\":{\"id\":\"4433\"}},\"id\":\"4432\",\"type\":\"GlyphRenderer\"},{\"attributes\":{},\"id\":\"3857\",\"type\":\"SaveTool\"},{\"attributes\":{\"fill_color\":{\"value\":\"rgb(196, 156, 148)\"},\"line_color\":{\"value\":\"rgb(196, 156, 148)\"},\"line_width\":{\"value\":2},\"x\":{\"field\":\"date_testing\"},\"y\":{\"field\":\"cumulative_testing\"}},\"id\":\"4440\",\"type\":\"Circle\"},{\"attributes\":{\"data\":{\"cumulative_testing\":[\"6326\",\"6326\",\"6326\",\"6326\",\"6326\",\"17912\",\"21296\",\"26681\",\"26681\",\"26681\",\"31739\",\"34561\",\"36643\",\"38697\",\"38697\"],\"date_testing\":{\"__ndarray__\":\"AAAA2LcNd0IAAMA9Cg53QgAAgKNcDndCAABACa8Od0IAAABvAQ93QgAAwNRTD3dCAACAOqYPd0IAAECg+A93QgAAAAZLEHdCAADAa50Qd0IAAIDR7xB3QgAAQDdCEXdCAAAAnZQRd0IAAMAC5xF3QgAAgGg5EndC\",\"dtype\":\"float64\",\"shape\":[15]},\"index\":[29,28,27,26,25,24,23,22,21,20,19,18,17,16,15],\"province\":[\"BC\",\"BC\",\"BC\",\"BC\",\"BC\",\"BC\",\"BC\",\"BC\",\"BC\",\"BC\",\"BC\",\"BC\",\"BC\",\"BC\",\"BC\"]},\"selected\":{\"id\":\"3944\"},\"selection_policy\":{\"id\":\"3943\"}},\"id\":\"3823\",\"type\":\"ColumnDataSource\"},{\"attributes\":{\"line_alpha\":0.1,\"line_color\":\"rgb(174, 199, 232)\",\"line_width\":2,\"x\":{\"field\":\"date_testing\"},\"y\":{\"field\":\"cumulative_testing\"}},\"id\":\"3895\",\"type\":\"Line\"},{\"attributes\":{\"source\":{\"id\":\"3834\"}},\"id\":\"4453\",\"type\":\"CDSView\"},{\"attributes\":{},\"id\":\"3858\",\"type\":\"ResetTool\"},{\"attributes\":{\"data_source\":{\"id\":\"3822\"},\"glyph\":{\"id\":\"3869\"},\"hover_glyph\":null,\"muted_glyph\":null,\"nonselection_glyph\":{\"id\":\"3870\"},\"selection_glyph\":null,\"view\":{\"id\":\"3872\"}},\"id\":\"3871\",\"type\":\"GlyphRenderer\"},{\"attributes\":{\"line_color\":\"rgb(44, 160, 44)\",\"line_width\":2,\"x\":{\"field\":\"date_testing\"},\"y\":{\"field\":\"cumulative_testing\"}},\"id\":\"3978\",\"type\":\"Line\"},{\"attributes\":{\"fill_alpha\":{\"value\":0.1},\"fill_color\":{\"value\":\"rgb(196, 156, 148)\"},\"line_alpha\":{\"value\":0.1},\"line_color\":{\"value\":\"rgb(196, 156, 148)\"},\"line_width\":{\"value\":2},\"x\":{\"field\":\"date_testing\"},\"y\":{\"field\":\"cumulative_testing\"}},\"id\":\"4441\",\"type\":\"Circle\"},{\"attributes\":{},\"id\":\"3859\",\"type\":\"HelpTool\"},{\"attributes\":{\"data_source\":{\"id\":\"3824\"},\"glyph\":{\"id\":\"3920\"},\"hover_glyph\":null,\"muted_glyph\":null,\"nonselection_glyph\":{\"id\":\"3921\"},\"selection_glyph\":null,\"view\":{\"id\":\"3923\"}},\"id\":\"3922\",\"type\":\"GlyphRenderer\"},{\"attributes\":{\"source\":{\"id\":\"3832\"}},\"id\":\"4438\",\"type\":\"CDSView\"},{\"attributes\":{\"data_source\":{\"id\":\"3832\"},\"glyph\":{\"id\":\"4435\"},\"hover_glyph\":null,\"muted_glyph\":null,\"nonselection_glyph\":{\"id\":\"4436\"},\"selection_glyph\":null,\"view\":{\"id\":\"4438\"}},\"id\":\"4437\",\"type\":\"GlyphRenderer\"},{\"attributes\":{},\"id\":\"3943\",\"type\":\"UnionRenderers\"},{\"attributes\":{},\"id\":\"3944\",\"type\":\"Selection\"},{\"attributes\":{\"fill_color\":{\"value\":\"rgb(227, 119, 194)\"},\"line_color\":{\"value\":\"rgb(227, 119, 194)\"},\"line_width\":{\"value\":2},\"x\":{\"field\":\"date_testing\"},\"y\":{\"field\":\"cumulative_testing\"}},\"id\":\"4445\",\"type\":\"Circle\"},{\"attributes\":{\"label\":{\"value\":\"Manitoba\"},\"renderers\":[{\"id\":\"3922\"}]},\"id\":\"3946\",\"type\":\"LegendItem\"},{\"attributes\":{\"line_color\":\"rgb(255, 127, 14)\",\"line_width\":2,\"x\":{\"field\":\"date_testing\"},\"y\":{\"field\":\"cumulative_testing\"}},\"id\":\"3920\",\"type\":\"Line\"},{\"attributes\":{\"callback\":null,\"renderers\":[{\"id\":\"3896\"}],\"tooltips\":[[\"Cases\",\"@cumulative_testing\"]]},\"id\":\"4456\",\"type\":\"HoverTool\"},{\"attributes\":{\"line_color\":\"rgb(255, 187, 120)\",\"line_width\":2,\"x\":{\"field\":\"date_testing\"},\"y\":{\"field\":\"cumulative_testing\"}},\"id\":\"3948\",\"type\":\"Line\"},{\"attributes\":{\"data_source\":{\"id\":\"3823\"},\"glyph\":{\"id\":\"3894\"},\"hover_glyph\":null,\"muted_glyph\":null,\"nonselection_glyph\":{\"id\":\"3895\"},\"selection_glyph\":null,\"view\":{\"id\":\"3897\"}},\"id\":\"3896\",\"type\":\"GlyphRenderer\"},{\"attributes\":{\"fill_alpha\":{\"value\":0.1},\"fill_color\":{\"value\":\"rgb(227, 119, 194)\"},\"line_alpha\":{\"value\":0.1},\"line_color\":{\"value\":\"rgb(227, 119, 194)\"},\"line_width\":{\"value\":2},\"x\":{\"field\":\"date_testing\"},\"y\":{\"field\":\"cumulative_testing\"}},\"id\":\"4446\",\"type\":\"Circle\"},{\"attributes\":{},\"id\":\"3973\",\"type\":\"UnionRenderers\"},{\"attributes\":{\"line_alpha\":0.1,\"line_color\":\"rgb(255, 187, 120)\",\"line_width\":2,\"x\":{\"field\":\"date_testing\"},\"y\":{\"field\":\"cumulative_testing\"}},\"id\":\"3949\",\"type\":\"Line\"},{\"attributes\":{\"data\":{\"cumulative_testing\":[0,0,0,0,0,\"108\",\"108\",\"108\",\"108\",\"154\",\"166\",\"166\",\"207\",\"207\",\"207\"],\"date_testing\":{\"__ndarray__\":\"AAAA2LcNd0IAAMA9Cg53QgAAgKNcDndCAABACa8Od0IAAABvAQ93QgAAwNRTD3dCAACAOqYPd0IAAECg+A93QgAAAAZLEHdCAADAa50Qd0IAAIDR7xB3QgAAQDdCEXdCAAAAnZQRd0IAAMAC5xF3QgAAgGg5EndC\",\"dtype\":\"float64\",\"shape\":[15]},\"index\":[179,178,177,176,175,174,173,172,171,170,169,168,167,166,165],\"province\":[\"Nunavut\",\"Nunavut\",\"Nunavut\",\"Nunavut\",\"Nunavut\",\"Nunavut\",\"Nunavut\",\"Nunavut\",\"Nunavut\",\"Nunavut\",\"Nunavut\",\"Nunavut\",\"Nunavut\",\"Nunavut\",\"Nunavut\"]},\"selected\":{\"id\":\"4154\"},\"selection_policy\":{\"id\":\"4153\"}},\"id\":\"3829\",\"type\":\"ColumnDataSource\"},{\"attributes\":{\"label\":{\"value\":\"BC\"},\"renderers\":[{\"id\":\"3896\"}]},\"id\":\"3918\",\"type\":\"LegendItem\"},{\"attributes\":{\"data_source\":{\"id\":\"3825\"},\"glyph\":{\"id\":\"3948\"},\"hover_glyph\":null,\"muted_glyph\":null,\"nonselection_glyph\":{\"id\":\"3949\"},\"selection_glyph\":null,\"view\":{\"id\":\"3951\"}},\"id\":\"3950\",\"type\":\"GlyphRenderer\"},{\"attributes\":{\"line_alpha\":0.1,\"line_color\":\"rgb(255, 127, 14)\",\"line_width\":2,\"x\":{\"field\":\"date_testing\"},\"y\":{\"field\":\"cumulative_testing\"}},\"id\":\"3921\",\"type\":\"Line\"},{\"attributes\":{\"data\":{\"cumulative_testing\":[\"418\",\"676\",\"941\",\"1153\",\"1387\",\"1561\",\"1847\",\"2116\",\"2349\",\"2525\",\"2840\",\"3274\",\"3739\",\"4141\",\"4853\"],\"date_testing\":{\"__ndarray__\":\"AAAA2LcNd0IAAMA9Cg53QgAAgKNcDndCAABACa8Od0IAAABvAQ93QgAAwNRTD3dCAACAOqYPd0IAAECg+A93QgAAAAZLEHdCAADAa50Qd0IAAIDR7xB3QgAAQDdCEXdCAAAAnZQRd0IAAMAC5xF3QgAAgGg5EndC\",\"dtype\":\"float64\",\"shape\":[15]},\"index\":[89,88,87,86,85,84,83,82,81,80,79,78,77,76,75],\"province\":[\"Nova Scotia\",\"Nova Scotia\",\"Nova Scotia\",\"Nova Scotia\",\"Nova Scotia\",\"Nova Scotia\",\"Nova Scotia\",\"Nova Scotia\",\"Nova Scotia\",\"Nova Scotia\",\"Nova Scotia\",\"Nova Scotia\",\"Nova Scotia\",\"Nova Scotia\",\"Nova Scotia\"]},\"selected\":{\"id\":\"4114\"},\"selection_policy\":{\"id\":\"4113\"}},\"id\":\"3828\",\"type\":\"ColumnDataSource\"},{\"attributes\":{\"source\":{\"id\":\"3833\"}},\"id\":\"4443\",\"type\":\"CDSView\"},{\"attributes\":{},\"id\":\"3916\",\"type\":\"Selection\"},{\"attributes\":{},\"id\":\"4075\",\"type\":\"UnionRenderers\"},{\"attributes\":{\"data_source\":{\"id\":\"3833\"},\"glyph\":{\"id\":\"4440\"},\"hover_glyph\":null,\"muted_glyph\":null,\"nonselection_glyph\":{\"id\":\"4441\"},\"selection_glyph\":null,\"view\":{\"id\":\"4443\"}},\"id\":\"4442\",\"type\":\"GlyphRenderer\"},{\"attributes\":{},\"id\":\"3915\",\"type\":\"UnionRenderers\"},{\"attributes\":{\"source\":{\"id\":\"3823\"}},\"id\":\"3897\",\"type\":\"CDSView\"},{\"attributes\":{\"source\":{\"id\":\"3825\"}},\"id\":\"3951\",\"type\":\"CDSView\"},{\"attributes\":{\"fill_color\":{\"value\":\"rgb(247, 182, 210)\"},\"line_color\":{\"value\":\"rgb(247, 182, 210)\"},\"line_width\":{\"value\":2},\"x\":{\"field\":\"date_testing\"},\"y\":{\"field\":\"cumulative_testing\"}},\"id\":\"4450\",\"type\":\"Circle\"},{\"attributes\":{\"data_source\":{\"id\":\"3834\"},\"glyph\":{\"id\":\"4450\"},\"hover_glyph\":null,\"muted_glyph\":null,\"nonselection_glyph\":{\"id\":\"4451\"},\"selection_glyph\":null,\"view\":{\"id\":\"4453\"}},\"id\":\"4452\",\"type\":\"GlyphRenderer\"},{\"attributes\":{\"line_color\":\"rgb(31, 119, 180)\",\"line_width\":2,\"x\":{\"field\":\"date_testing\"},\"y\":{\"field\":\"cumulative_testing\"}},\"id\":\"3869\",\"type\":\"Line\"},{\"attributes\":{\"data\":{\"cumulative_testing\":[\"161\",\"161\",\"494\",\"494\",\"494\",\"791\",\"901\",\"970\",\"938\",\"1131\",\"1336\",\"1491\",\"1684\",\"1927\",\"2107\"],\"date_testing\":{\"__ndarray__\":\"AAAA2LcNd0IAAMA9Cg53QgAAgKNcDndCAABACa8Od0IAAABvAQ93QgAAwNRTD3dCAACAOqYPd0IAAECg+A93QgAAAAZLEHdCAADAa50Qd0IAAIDR7xB3QgAAQDdCEXdCAAAAnZQRd0IAAMAC5xF3QgAAgGg5EndC\",\"dtype\":\"float64\",\"shape\":[15]},\"index\":[74,73,72,71,70,69,68,67,66,65,64,63,62,61,60],\"province\":[\"NL\",\"NL\",\"NL\",\"NL\",\"NL\",\"NL\",\"NL\",\"NL\",\"NL\",\"NL\",\"NL\",\"NL\",\"NL\",\"NL\",\"NL\"]},\"selected\":{\"id\":\"4006\"},\"selection_policy\":{\"id\":\"4005\"}},\"id\":\"3825\",\"type\":\"ColumnDataSource\"},{\"attributes\":{\"bottom_units\":\"screen\",\"fill_alpha\":0.5,\"fill_color\":\"lightgrey\",\"left_units\":\"screen\",\"level\":\"overlay\",\"line_alpha\":1.0,\"line_color\":\"black\",\"line_dash\":[4,4],\"line_width\":2,\"render_mode\":\"css\",\"right_units\":\"screen\",\"top_units\":\"screen\"},\"id\":\"3860\",\"type\":\"BoxAnnotation\"},{\"attributes\":{\"background_fill_color\":\"#fafafa\",\"below\":[{\"id\":\"3846\"}],\"center\":[{\"id\":\"3849\"},{\"id\":\"3853\"},{\"id\":\"3891\"}],\"left\":[{\"id\":\"3850\"}],\"plot_height\":900,\"plot_width\":900,\"renderers\":[{\"id\":\"3871\"},{\"id\":\"3896\"},{\"id\":\"3922\"},{\"id\":\"3950\"},{\"id\":\"3980\"},{\"id\":\"4012\"},{\"id\":\"4046\"},{\"id\":\"4082\"},{\"id\":\"4120\"},{\"id\":\"4160\"},{\"id\":\"4202\"},{\"id\":\"4246\"},{\"id\":\"4292\"},{\"id\":\"4339\"},{\"id\":\"4387\"},{\"id\":\"4392\"},{\"id\":\"4397\"},{\"id\":\"4402\"},{\"id\":\"4407\"},{\"id\":\"4412\"},{\"id\":\"4417\"},{\"id\":\"4422\"},{\"id\":\"4427\"},{\"id\":\"4432\"},{\"id\":\"4437\"},{\"id\":\"4442\"},{\"id\":\"4447\"},{\"id\":\"4452\"}],\"title\":{\"id\":\"3836\"},\"toolbar\":{\"id\":\"3861\"},\"x_range\":{\"id\":\"3838\"},\"x_scale\":{\"id\":\"3842\"},\"y_range\":{\"id\":\"3840\"},\"y_scale\":{\"id\":\"3844\"}},\"id\":\"3835\",\"subtype\":\"Figure\",\"type\":\"Plot\"},{\"attributes\":{\"fill_alpha\":{\"value\":0.1},\"fill_color\":{\"value\":\"rgb(247, 182, 210)\"},\"line_alpha\":{\"value\":0.1},\"line_color\":{\"value\":\"rgb(247, 182, 210)\"},\"line_width\":{\"value\":2},\"x\":{\"field\":\"date_testing\"},\"y\":{\"field\":\"cumulative_testing\"}},\"id\":\"4451\",\"type\":\"Circle\"},{\"attributes\":{\"label\":{\"value\":\"Nova Scotia\"},\"renderers\":[{\"id\":\"4046\"},{\"id\":\"4292\"}]},\"id\":\"4078\",\"type\":\"LegendItem\"},{\"attributes\":{\"line_alpha\":0.1,\"line_color\":\"rgb(44, 160, 44)\",\"line_width\":2,\"x\":{\"field\":\"date_testing\"},\"y\":{\"field\":\"cumulative_testing\"}},\"id\":\"3979\",\"type\":\"Line\"},{\"attributes\":{\"data\":{\"cumulative_testing\":[0,0,\"153\",\"153\",\"222\",\"275\",\"299\",\"370\",\"410\",\"492\",\"533\",\"559\",\"607\",\"762\",\"817\"],\"date_testing\":{\"__ndarray__\":\"AAAA2LcNd0IAAMA9Cg53QgAAgKNcDndCAABACa8Od0IAAABvAQ93QgAAwNRTD3dCAACAOqYPd0IAAECg+A93QgAAAAZLEHdCAADAa50Qd0IAAIDR7xB3QgAAQDdCEXdCAAAAnZQRd0IAAMAC5xF3QgAAgGg5EndC\",\"dtype\":\"float64\",\"shape\":[15]},\"index\":[164,163,162,161,160,159,158,157,156,155,154,153,152,151,150],\"province\":[\"NWT\",\"NWT\",\"NWT\",\"NWT\",\"NWT\",\"NWT\",\"NWT\",\"NWT\",\"NWT\",\"NWT\",\"NWT\",\"NWT\",\"NWT\",\"NWT\",\"NWT\"]},\"selected\":{\"id\":\"4040\"},\"selection_policy\":{\"id\":\"4039\"}},\"id\":\"3826\",\"type\":\"ColumnDataSource\"},{\"attributes\":{\"line_color\":\"rgb(174, 199, 232)\",\"line_width\":2,\"x\":{\"field\":\"date_testing\"},\"y\":{\"field\":\"cumulative_testing\"}},\"id\":\"3894\",\"type\":\"Line\"},{\"attributes\":{\"data\":{\"cumulative_testing\":[\"400\",\"2280\",\"2912\",\"3270\",\"3534\",\"3534\",\"3801\",\"4245\",\"4245\",\"4520\",\"4520\",\"5606\",\"6203\",\"6203\",\"7147\"],\"date_testing\":{\"__ndarray__\":\"AAAA2LcNd0IAAMA9Cg53QgAAgKNcDndCAABACa8Od0IAAABvAQ93QgAAwNRTD3dCAACAOqYPd0IAAECg+A93QgAAAAZLEHdCAADAa50Qd0IAAIDR7xB3QgAAQDdCEXdCAAAAnZQRd0IAAMAC5xF3QgAAgGg5EndC\",\"dtype\":\"float64\",\"shape\":[15]},\"index\":[44,43,42,41,40,39,38,37,36,35,34,33,32,31,30],\"province\":[\"Manitoba\",\"Manitoba\",\"Manitoba\",\"Manitoba\",\"Manitoba\",\"Manitoba\",\"Manitoba\",\"Manitoba\",\"Manitoba\",\"Manitoba\",\"Manitoba\",\"Manitoba\",\"Manitoba\",\"Manitoba\",\"Manitoba\"]},\"selected\":{\"id\":\"3974\"},\"selection_policy\":{\"id\":\"3973\"}},\"id\":\"3824\",\"type\":\"ColumnDataSource\"},{\"attributes\":{},\"id\":\"3974\",\"type\":\"Selection\"},{\"attributes\":{\"text\":\"Number of Testing Case Over Time\"},\"id\":\"3836\",\"type\":\"Title\"},{\"attributes\":{\"line_color\":\"rgb(152, 223, 138)\",\"line_width\":2,\"x\":{\"field\":\"date_testing\"},\"y\":{\"field\":\"cumulative_testing\"}},\"id\":\"4010\",\"type\":\"Line\"},{\"attributes\":{\"source\":{\"id\":\"3828\"}},\"id\":\"4448\",\"type\":\"CDSView\"},{\"attributes\":{\"data_source\":{\"id\":\"3826\"},\"glyph\":{\"id\":\"3978\"},\"hover_glyph\":null,\"muted_glyph\":null,\"nonselection_glyph\":{\"id\":\"3979\"},\"selection_glyph\":null,\"view\":{\"id\":\"3981\"}},\"id\":\"3980\",\"type\":\"GlyphRenderer\"},{\"attributes\":{\"data_source\":{\"id\":\"3828\"},\"glyph\":{\"id\":\"4445\"},\"hover_glyph\":null,\"muted_glyph\":null,\"nonselection_glyph\":{\"id\":\"4446\"},\"selection_glyph\":null,\"view\":{\"id\":\"4448\"}},\"id\":\"4447\",\"type\":\"GlyphRenderer\"},{\"attributes\":{},\"id\":\"3838\",\"type\":\"DataRange1d\"},{\"attributes\":{},\"id\":\"3874\",\"type\":\"DatetimeTickFormatter\"},{\"attributes\":{\"end\":60000},\"id\":\"3840\",\"type\":\"Range1d\"},{\"attributes\":{\"source\":{\"id\":\"3826\"}},\"id\":\"3981\",\"type\":\"CDSView\"},{\"attributes\":{\"items\":[{\"id\":\"3892\"},{\"id\":\"3918\"},{\"id\":\"3946\"},{\"id\":\"3976\"},{\"id\":\"4008\"},{\"id\":\"4042\"},{\"id\":\"4078\"},{\"id\":\"4116\"},{\"id\":\"4156\"},{\"id\":\"4198\"},{\"id\":\"4242\"},{\"id\":\"4288\"},{\"id\":\"4383\"}],\"location\":\"top_left\"},\"id\":\"3891\",\"type\":\"Legend\"},{\"attributes\":{\"mantissas\":[1,2,5],\"max_interval\":500.0,\"num_minor_ticks\":0},\"id\":\"3878\",\"type\":\"AdaptiveTicker\"}],\"root_ids\":[\"4483\"]},\"title\":\"Bokeh Application\",\"version\":\"2.0.1\"}};\n",
       "  var render_items = [{\"docid\":\"1c58a820-590d-44a5-acd4-e44ffcf6b085\",\"root_ids\":[\"4483\"],\"roots\":{\"4483\":\"1a2f2787-f9d1-4202-97aa-a9b4fcdc9bc0\"}}];\n",
       "  root.Bokeh.embed.embed_items_notebook(docs_json, render_items);\n",
       "\n",
       "  }\n",
       "  if (root.Bokeh !== undefined) {\n",
       "    embed_document(root);\n",
       "  } else {\n",
       "    var attempts = 0;\n",
       "    var timer = setInterval(function(root) {\n",
       "      if (root.Bokeh !== undefined) {\n",
       "        clearInterval(timer);\n",
       "        embed_document(root);\n",
       "      } else {\n",
       "        attempts++;\n",
       "        if (attempts > 100) {\n",
       "          clearInterval(timer);\n",
       "          console.log(\"Bokeh: ERROR: Unable to run BokehJS code because BokehJS library is missing\");\n",
       "        }\n",
       "      }\n",
       "    }, 10, root)\n",
       "  }\n",
       "})(window);"
      ],
      "application/vnd.bokehjs_exec.v0+json": ""
     },
     "metadata": {
      "application/vnd.bokehjs_exec.v0+json": {
       "id": "4483"
      }
     },
     "output_type": "display_data"
    }
   ],
   "source": [
    "plot1 = figure(title = 'Number of Testing Case Over Time', plot_width = 900, plot_height = 900,x_axis_type=\"datetime\",y_range=(0, 60000),background_fill_color=\"#fafafa\")\n",
    "\n",
    "line1 = plot1.line(x = 'date_testing' , y = 'cumulative_testing' , width = 2, source = test_data['Alberta'],color= color[0],legend_label=\"Alberta\");\n",
    "line2 = plot1.line(x = 'date_testing' , y = 'cumulative_testing' , width = 2, source = test_data['BC'], color= color[1],legend_label=\"BC\");\n",
    "line3 = plot1.line(x = 'date_testing' , y = 'cumulative_testing' , width = 2, source = test_data['Manitoba'], color= color[2],legend_label=\"Manitoba\");\n",
    "line4 = plot1.line(x = 'date_testing' , y = 'cumulative_testing' , width = 2, source = test_data['NL'], color= color[3],legend_label=\"NL\");\n",
    "line5 = plot1.line(x = 'date_testing' , y = 'cumulative_testing' , width = 2, source = test_data['NWT'], color= color[4],legend_label=\"NWT\");\n",
    "line6 = plot1.line(x = 'date_testing' , y = 'cumulative_testing' , width = 2, source = test_data['New Brunswick'], color= color[5],legend_label=\"New Brunswick\");\n",
    "line7 = plot1.line(x = 'date_testing' , y = 'cumulative_testing' , width = 2, source = test_data['Nova Scotia'], color= color[6],legend_label=\"Nova Scotia\");\n",
    "line8 = plot1.line(x = 'date_testing' , y = 'cumulative_testing' , width = 2, source = test_data['Nunavut'], color= color[7],legend_label=\"Nunavut\");\n",
    "line9 = plot1.line(x = 'date_testing' , y = 'cumulative_testing' , width = 2, source = test_data['Ontario'], color= color[8],legend_label=\"Ontario\");\n",
    "line10 = plot1.line(x = 'date_testing' , y = 'cumulative_testing' , width = 2, source = test_data['PEI'], color= color[9],legend_label=\"PEI\");\n",
    "line11 = plot1.line(x = 'date_testing' , y = 'cumulative_testing' , width = 2, source = test_data['Quebec'], color= color[10],legend_label=\"Quebec\");\n",
    "line12 = plot1.line(x = 'date_testing' , y = 'cumulative_testing' , width = 2, source = test_data['Saskatchewan'], color= color[11],legend_label=\"Saskatchewan\");\n",
    "line13 = plot1.line(x = 'date_testing' , y = 'cumulative_testing' , width = 2, source = test_data['Nova Scotia'], color= color[12],legend_label=\"Nova Scotia\");\n",
    "line14 = plot1.line(x = 'date_testing' , y = 'cumulative_testing' , width = 2, source = test_data['Yukon'], color= color[13],legend_label=\"Yukon\");\n",
    "\n",
    "circle1 = plot1.circle(x = 'date_testing' , y = 'cumulative_testing' , width = 2, source = test_data['Alberta'],color = color[0]);\n",
    "circle2 = plot1.circle(x = 'date_testing' , y = 'cumulative_testing' , width = 2, source = test_data['BC'], color= color[1]);\n",
    "circle3 = plot1.circle(x = 'date_testing' , y = 'cumulative_testing' , width = 2, source = test_data['Manitoba'], color= color[2]);\n",
    "circle4 = plot1.circle(x = 'date_testing' , y = 'cumulative_testing' , width = 2, source = test_data['NL'], color= color[3]);\n",
    "circle5 = plot1.circle(x = 'date_testing' , y = 'cumulative_testing' , width = 2, source = test_data['NWT'], color= color[4]);\n",
    "circle6 = plot1.circle(x = 'date_testing' , y = 'cumulative_testing' , width = 2, source = test_data['New Brunswick'], color= color[5]);\n",
    "circle7 = plot1.circle(x = 'date_testing' , y = 'cumulative_testing' , width = 2, source = test_data['Nova Scotia'], color= color[6]);\n",
    "circle8 = plot1.circle(x = 'date_testing' , y = 'cumulative_testing' , width = 2, source = test_data['Nunavut'], color= color[7]);\n",
    "circle9 = plot1.circle(x = 'date_testing' , y = 'cumulative_testing' , width = 2, source = test_data['Ontario'], color= color[8]);\n",
    "circle10 = plot1.circle(x = 'date_testing' , y = 'cumulative_testing' , width = 2, source = test_data['PEI'], color= color[9]);\n",
    "circle11 = plot1.circle(x = 'date_testing' , y = 'cumulative_testing' , width = 2, source = test_data['Quebec'], color= color[10]);\n",
    "circle12 = plot1.circle(x = 'date_testing' , y = 'cumulative_testing' , width = 2, source = test_data['Saskatchewan'], color= color[11]);\n",
    "circle13 = plot1.circle(x = 'date_testing' , y = 'cumulative_testing' , width = 2, source = test_data['Nova Scotia'], color= color[12]);\n",
    "circle14 = plot1.circle(x = 'date_testing' , y = 'cumulative_testing' , width = 2, source = test_data['Yukon'], color= color[13]);\n",
    "\n",
    "line = [line1,line2,line3,line4,line5,line6,line7,line8,line9,line10,line11,line12,line13,line14]\n",
    "\n",
    "for i in line:\n",
    "    plot1.add_tools(HoverTool(renderers=[i], tooltips = [('Cases', '@cumulative_testing')]))\n",
    "\n",
    "plot1.xaxis.axis_label = 'Date'\n",
    "plot1.yaxis.axis_label = 'Number of Cumulative Testing Case'\n",
    "plot1.legend.location = 'top_left'\n",
    "    \n",
    "grid = layout([[plot1]]) \n",
    "\n",
    "show(grid)"
   ]
  },
  {
   "cell_type": "markdown",
   "metadata": {},
   "source": [
    "# Recoverd Cases"
   ]
  },
  {
   "cell_type": "code",
   "execution_count": 27,
   "metadata": {},
   "outputs": [
    {
     "data": {
      "text/html": [
       "<div>\n",
       "<style scoped>\n",
       "    .dataframe tbody tr th:only-of-type {\n",
       "        vertical-align: middle;\n",
       "    }\n",
       "\n",
       "    .dataframe tbody tr th {\n",
       "        vertical-align: top;\n",
       "    }\n",
       "\n",
       "    .dataframe thead th {\n",
       "        text-align: right;\n",
       "    }\n",
       "</style>\n",
       "<table border=\"1\" class=\"dataframe\">\n",
       "  <thead>\n",
       "    <tr style=\"text-align: right;\">\n",
       "      <th></th>\n",
       "      <th>date_recovered</th>\n",
       "      <th>province</th>\n",
       "      <th>cumulative_recovered</th>\n",
       "    </tr>\n",
       "  </thead>\n",
       "  <tbody>\n",
       "    <tr>\n",
       "      <td>0</td>\n",
       "      <td>29-03-2020</td>\n",
       "      <td>Alberta</td>\n",
       "      <td>73.0</td>\n",
       "    </tr>\n",
       "  </tbody>\n",
       "</table>\n",
       "</div>"
      ],
      "text/plain": [
       "  date_recovered province  cumulative_recovered\n",
       "0     29-03-2020  Alberta                  73.0"
      ]
     },
     "metadata": {},
     "output_type": "display_data"
    }
   ],
   "source": [
    "display(n_recovered.head(1))"
   ]
  },
  {
   "cell_type": "markdown",
   "metadata": {},
   "source": [
    "### Setting "
   ]
  },
  {
   "cell_type": "code",
   "execution_count": 28,
   "metadata": {},
   "outputs": [],
   "source": [
    "n_recovered['cumulative_recovered'] = n_recovered['cumulative_recovered'].fillna(0)\n",
    "n_recovered['date_recovered'] = pd.to_datetime(n_recovered['date_recovered'], dayfirst = True)\n",
    "n_recovered = n_recovered.sort_values(by = ['province','date_recovered']);"
   ]
  },
  {
   "cell_type": "code",
   "execution_count": 29,
   "metadata": {},
   "outputs": [],
   "source": [
    "recovered = {}\n",
    "recovered_data = {}\n",
    "for name in n_recovered['province'].unique():\n",
    "    recovered[name] = pd.DataFrame(n_recovered.loc[n_recovered['province'] == name])\n",
    "    recovered_data[name] = ColumnDataSource(recovered[name])"
   ]
  },
  {
   "cell_type": "markdown",
   "metadata": {},
   "source": [
    "### Number of Recoverd Cases in Canada\n",
    "This chart shows the number of cumulative recovered cases on each date."
   ]
  },
  {
   "cell_type": "code",
   "execution_count": 30,
   "metadata": {},
   "outputs": [
    {
     "data": {
      "text/html": [
       "\n",
       "\n",
       "\n",
       "\n",
       "\n",
       "\n",
       "  <div class=\"bk-root\" id=\"2103fc36-b294-44aa-ab8c-00a8dc7ad552\" data-root-id=\"5643\"></div>\n"
      ]
     },
     "metadata": {},
     "output_type": "display_data"
    },
    {
     "data": {
      "application/javascript": [
       "(function(root) {\n",
       "  function embed_document(root) {\n",
       "    \n",
       "  var docs_json = {\"5019c628-533c-43b6-880b-4bc965de7d11\":{\"roots\":{\"references\":[{\"attributes\":{\"children\":[{\"id\":\"5642\"}]},\"id\":\"5643\",\"type\":\"Column\"},{\"attributes\":{\"line_alpha\":0.1,\"line_color\":\"rgb(255, 187, 120)\",\"line_width\":2,\"x\":{\"field\":\"date_recovered\"},\"y\":{\"field\":\"cumulative_recovered\"}},\"id\":\"5109\",\"type\":\"Line\"},{\"attributes\":{\"fill_alpha\":{\"value\":0.1},\"fill_color\":{\"value\":\"rgb(196, 156, 148)\"},\"line_alpha\":{\"value\":0.1},\"line_color\":{\"value\":\"rgb(196, 156, 148)\"},\"line_width\":{\"value\":2},\"x\":{\"field\":\"date_recovered\"},\"y\":{\"field\":\"cumulative_recovered\"}},\"id\":\"5601\",\"type\":\"Circle\"},{\"attributes\":{\"children\":[{\"id\":\"4995\"}]},\"id\":\"5642\",\"type\":\"Row\"},{\"attributes\":{},\"id\":\"5446\",\"type\":\"Selection\"},{\"attributes\":{\"data_source\":{\"id\":\"4985\"},\"glyph\":{\"id\":\"5108\"},\"hover_glyph\":null,\"muted_glyph\":null,\"nonselection_glyph\":{\"id\":\"5109\"},\"selection_glyph\":null,\"view\":{\"id\":\"5111\"}},\"id\":\"5110\",\"type\":\"GlyphRenderer\"},{\"attributes\":{\"fill_color\":{\"value\":\"rgb(227, 119, 194)\"},\"line_color\":{\"value\":\"rgb(227, 119, 194)\"},\"line_width\":{\"value\":2},\"x\":{\"field\":\"date_recovered\"},\"y\":{\"field\":\"cumulative_recovered\"}},\"id\":\"5605\",\"type\":\"Circle\"},{\"attributes\":{\"source\":{\"id\":\"4994\"}},\"id\":\"5500\",\"type\":\"CDSView\"},{\"attributes\":{\"data\":{\"cumulative_recovered\":{\"__ndarray__\":\"AAAAAAAAAAAAAAAAAAAAAAAAAAAAAAAAAAAAAAAAAAAAAAAAAAAAAAAAAAAAAAAAAAAAAAAAAAAAAAAAAAAAAAAAAAAAAAAAAAAAAAAAAAAAAAAAAAAAAAAAAAAAAAAAAAAAAAAAAAAAAAAAAAAAAAAAAAAAAAAAAAAAAAAAAAAAAAAAAAAAAAAAAAAAAAAAAAAAAAAAAAAAAAAAAAAAAAAAAAAAAAAAAAAAAAAAAAAAAAAAAAAAAAAAAAAAAAAAAAAAAAAAAAAAAAAAAAAAAAAAAAAAAAAAAAAAAAAAAAAAAAAAAAAAAAAAAAAAAAAAAAAAAAAAAAAAAAAAAAAAAAAAAAAAAAAAAAAAAAAAAAAAAAAAAAAAAAAAAAAAAAAAAAAAAAAAAAAAAAAAAAAAAAAAAAAAAAAAAAAAAAAAAAAAAAAAAAAAAAAAAAAAAAAAAAAAAAAAAAAAAAAAAAAAAAAAAAAAAAAAAAAAAAAAAAAAAAAAAAAAAA==\",\"dtype\":\"float64\",\"shape\":[47]},\"date_recovered\":{\"__ndarray__\":\"AAAAIGsDd0IAAMCFvQN3QgAAgOsPBHdCAABAUWIEd0IAAAC3tAR3QgAAwBwHBXdCAACAglkFd0IAAEDoqwV3QgAAAE7+BXdCAADAs1AGd0IAAIAZowZ3QgAAQH/1BndCAAAA5UcHd0IAAMBKmgd3QgAAgLDsB3dCAABAFj8Id0IAAAB8kQh3QgAAwOHjCHdCAACARzYJd0IAAECtiAl3QgAAABPbCXdCAADAeC0Kd0IAAIDefwp3QgAAQETSCndCAAAAqiQLd0IAAMAPdwt3QgAAgHXJC3dCAABA2xsMd0IAAABBbgx3QgAAwKbADHdCAACADBMNd0IAAEByZQ13QgAAANi3DXdCAADAPQoOd0IAAICjXA53QgAAQAmvDndCAAAAbwEPd0IAAMDUUw93QgAAgDqmD3dCAABAoPgPd0IAAAAGSxB3QgAAwGudEHdCAACA0e8Qd0IAAEA3QhF3QgAAAJ2UEXdCAADAAucRd0IAAIBoORJ3Qg==\",\"dtype\":\"float64\",\"shape\":[47]},\"index\":[563,562,561,560,559,558,557,556,555,554,553,552,551,550,549,548,547,546,545,544,543,542,541,540,539,538,537,536,535,534,533,532,531,530,529,528,527,526,525,524,523,522,521,520,519,518,517],\"province\":[\"Nunavut\",\"Nunavut\",\"Nunavut\",\"Nunavut\",\"Nunavut\",\"Nunavut\",\"Nunavut\",\"Nunavut\",\"Nunavut\",\"Nunavut\",\"Nunavut\",\"Nunavut\",\"Nunavut\",\"Nunavut\",\"Nunavut\",\"Nunavut\",\"Nunavut\",\"Nunavut\",\"Nunavut\",\"Nunavut\",\"Nunavut\",\"Nunavut\",\"Nunavut\",\"Nunavut\",\"Nunavut\",\"Nunavut\",\"Nunavut\",\"Nunavut\",\"Nunavut\",\"Nunavut\",\"Nunavut\",\"Nunavut\",\"Nunavut\",\"Nunavut\",\"Nunavut\",\"Nunavut\",\"Nunavut\",\"Nunavut\",\"Nunavut\",\"Nunavut\",\"Nunavut\",\"Nunavut\",\"Nunavut\",\"Nunavut\",\"Nunavut\",\"Nunavut\",\"Nunavut\"]},\"selected\":{\"id\":\"5314\"},\"selection_policy\":{\"id\":\"5313\"}},\"id\":\"4989\",\"type\":\"ColumnDataSource\"},{\"attributes\":{\"data\":{\"cumulative_recovered\":{\"__ndarray__\":\"AAAAAAAA8D8AAAAAAADwPwAAAAAAAPA/AAAAAAAA8D8AAAAAAADwPwAAAAAAAPA/AAAAAAAA8D8AAAAAAADwPwAAAAAAAABAAAAAAAAACEAAAAAAAAAIQAAAAAAAAAhAAAAAAAAACEAAAAAAAAAIQAAAAAAAAAhAAAAAAAAACEAAAAAAAAAIQAAAAAAAAAhAAAAAAAAACEAAAAAAAAAIQAAAAAAAAAhAAAAAAAAACEAAAAAAAAAQQAAAAAAAABBAAAAAAAAAEEAAAAAAAAAQQAAAAAAAABRAAAAAAAAAFEAAAAAAAAAUQAAAAAAAABRAAAAAAAAAFEAAAAAAAAAUQAAAAAAAABRAAAAAAAAAFEAAAAAAAAAUQAAAAAAAABRAAAAAAAAAFEAAAAAAAAAUQAAAAAAAABhAAAAAAAAAIEAAAAAAAAAgQAAAAAAAACBAAAAAAAAAIEAAAAAAAAAgQAAAAAAAACBAAAAAAAAAIEAAAAAAAAAgQA==\",\"dtype\":\"float64\",\"shape\":[47]},\"date_recovered\":{\"__ndarray__\":\"AAAAIGsDd0IAAMCFvQN3QgAAgOsPBHdCAABAUWIEd0IAAAC3tAR3QgAAwBwHBXdCAACAglkFd0IAAEDoqwV3QgAAAE7+BXdCAADAs1AGd0IAAIAZowZ3QgAAQH/1BndCAAAA5UcHd0IAAMBKmgd3QgAAgLDsB3dCAABAFj8Id0IAAAB8kQh3QgAAwOHjCHdCAACARzYJd0IAAECtiAl3QgAAABPbCXdCAADAeC0Kd0IAAIDefwp3QgAAQETSCndCAAAAqiQLd0IAAMAPdwt3QgAAgHXJC3dCAABA2xsMd0IAAABBbgx3QgAAwKbADHdCAACADBMNd0IAAEByZQ13QgAAANi3DXdCAADAPQoOd0IAAICjXA53QgAAQAmvDndCAAAAbwEPd0IAAMDUUw93QgAAgDqmD3dCAABAoPgPd0IAAAAGSxB3QgAAwGudEHdCAACA0e8Qd0IAAEA3QhF3QgAAAJ2UEXdCAADAAucRd0IAAIBoORJ3Qg==\",\"dtype\":\"float64\",\"shape\":[47]},\"index\":[328,327,326,325,324,323,322,321,320,319,318,317,316,315,314,313,312,311,310,309,308,307,306,305,304,303,302,301,300,299,298,297,296,295,294,293,292,291,290,289,288,287,286,285,284,283,282],\"province\":[\"Ontario\",\"Ontario\",\"Ontario\",\"Ontario\",\"Ontario\",\"Ontario\",\"Ontario\",\"Ontario\",\"Ontario\",\"Ontario\",\"Ontario\",\"Ontario\",\"Ontario\",\"Ontario\",\"Ontario\",\"Ontario\",\"Ontario\",\"Ontario\",\"Ontario\",\"Ontario\",\"Ontario\",\"Ontario\",\"Ontario\",\"Ontario\",\"Ontario\",\"Ontario\",\"Ontario\",\"Ontario\",\"Ontario\",\"Ontario\",\"Ontario\",\"Ontario\",\"Ontario\",\"Ontario\",\"Ontario\",\"Ontario\",\"Ontario\",\"Ontario\",\"Ontario\",\"Ontario\",\"Ontario\",\"Ontario\",\"Ontario\",\"Ontario\",\"Ontario\",\"Ontario\",\"Ontario\"]},\"selected\":{\"id\":\"5356\"},\"selection_policy\":{\"id\":\"5355\"}},\"id\":\"4990\",\"type\":\"ColumnDataSource\"},{\"attributes\":{\"fill_alpha\":{\"value\":0.1},\"fill_color\":{\"value\":\"rgb(227, 119, 194)\"},\"line_alpha\":{\"value\":0.1},\"line_color\":{\"value\":\"rgb(227, 119, 194)\"},\"line_width\":{\"value\":2},\"x\":{\"field\":\"date_recovered\"},\"y\":{\"field\":\"cumulative_recovered\"}},\"id\":\"5606\",\"type\":\"Circle\"},{\"attributes\":{\"data\":{\"cumulative_recovered\":{\"__ndarray__\":\"AAAAAAAAAAAAAAAAAAAAAAAAAAAAAAAAAAAAAAAAAAAAAAAAAAAAAAAAAAAAAAAAAAAAAAAAAAAAAAAAAAAAAAAAAAAAAAAAAAAAAAAAAAAAAAAAAAAAAAAAAAAAAAAAAAAAAAAAAAAAAAAAAAAAAAAAAAAAAAAAAAAAAAAAAAAAAAAAAAAAAAAAAAAAAAAAAAAAAAAAAAAAAAAAAAAAAAAAAAAAAAAAAAAAAAAAAAAAAAAAAAAAAAAAAAAAAAAAAAAAAAAAAAAAAAAAAAAAAAAAAAAAAAAAAAAAAAAAAAAAAAAAAAAAAAAAAAAAAAAAAAAAAAAAAAAAAAAAAAAAAAAAAAAAAAAAAAAAAAAAAAAAAAAAAAAAAAAAAAAAAAAAAAAAAAAAAAAAAAAAAAAAAAAAAAAAAAAAAAAAAAAAAAAAAAAAAAAAAAAAAAAAAAAAAAAAAAAAAAAAAAAAAAAAAAAAAAAAAAAAAAAAAAAAAAAAAAAAAAAAAA==\",\"dtype\":\"float64\",\"shape\":[47]},\"date_recovered\":{\"__ndarray__\":\"AAAAIGsDd0IAAMCFvQN3QgAAgOsPBHdCAABAUWIEd0IAAAC3tAR3QgAAwBwHBXdCAACAglkFd0IAAEDoqwV3QgAAAE7+BXdCAADAs1AGd0IAAIAZowZ3QgAAQH/1BndCAAAA5UcHd0IAAMBKmgd3QgAAgLDsB3dCAABAFj8Id0IAAAB8kQh3QgAAwOHjCHdCAACARzYJd0IAAECtiAl3QgAAABPbCXdCAADAeC0Kd0IAAIDefwp3QgAAQETSCndCAAAAqiQLd0IAAMAPdwt3QgAAgHXJC3dCAABA2xsMd0IAAABBbgx3QgAAwKbADHdCAACADBMNd0IAAEByZQ13QgAAANi3DXdCAADAPQoOd0IAAICjXA53QgAAQAmvDndCAAAAbwEPd0IAAMDUUw93QgAAgDqmD3dCAABAoPgPd0IAAAAGSxB3QgAAwGudEHdCAACA0e8Qd0IAAEA3QhF3QgAAAJ2UEXdCAADAAucRd0IAAIBoORJ3Qg==\",\"dtype\":\"float64\",\"shape\":[47]},\"index\":[516,515,514,513,512,511,510,509,508,507,506,505,504,503,502,501,500,499,498,497,496,495,494,493,492,491,490,489,488,487,486,485,484,483,482,481,480,479,478,477,476,475,474,473,472,471,470],\"province\":[\"NWT\",\"NWT\",\"NWT\",\"NWT\",\"NWT\",\"NWT\",\"NWT\",\"NWT\",\"NWT\",\"NWT\",\"NWT\",\"NWT\",\"NWT\",\"NWT\",\"NWT\",\"NWT\",\"NWT\",\"NWT\",\"NWT\",\"NWT\",\"NWT\",\"NWT\",\"NWT\",\"NWT\",\"NWT\",\"NWT\",\"NWT\",\"NWT\",\"NWT\",\"NWT\",\"NWT\",\"NWT\",\"NWT\",\"NWT\",\"NWT\",\"NWT\",\"NWT\",\"NWT\",\"NWT\",\"NWT\",\"NWT\",\"NWT\",\"NWT\",\"NWT\",\"NWT\",\"NWT\",\"NWT\"]},\"selected\":{\"id\":\"5200\"},\"selection_policy\":{\"id\":\"5199\"}},\"id\":\"4986\",\"type\":\"ColumnDataSource\"},{\"attributes\":{\"label\":{\"value\":\"Yukon\"},\"renderers\":[{\"id\":\"5499\"}]},\"id\":\"5543\",\"type\":\"LegendItem\"},{\"attributes\":{\"source\":{\"id\":\"4985\"}},\"id\":\"5111\",\"type\":\"CDSView\"},{\"attributes\":{\"line_alpha\":0.1,\"line_color\":\"rgb(227, 119, 194)\",\"line_width\":2,\"x\":{\"field\":\"date_recovered\"},\"y\":{\"field\":\"cumulative_recovered\"}},\"id\":\"5451\",\"type\":\"Line\"},{\"attributes\":{\"source\":{\"id\":\"4993\"}},\"id\":\"5603\",\"type\":\"CDSView\"},{\"attributes\":{},\"id\":\"5133\",\"type\":\"UnionRenderers\"},{\"attributes\":{\"data_source\":{\"id\":\"4993\"},\"glyph\":{\"id\":\"5600\"},\"hover_glyph\":null,\"muted_glyph\":null,\"nonselection_glyph\":{\"id\":\"5601\"},\"selection_glyph\":null,\"view\":{\"id\":\"5603\"}},\"id\":\"5602\",\"type\":\"GlyphRenderer\"},{\"attributes\":{\"source\":{\"id\":\"4988\"}},\"id\":\"5453\",\"type\":\"CDSView\"},{\"attributes\":{\"label\":{\"value\":\"NL\"},\"renderers\":[{\"id\":\"5110\"}]},\"id\":\"5136\",\"type\":\"LegendItem\"},{\"attributes\":{\"data_source\":{\"id\":\"4988\"},\"glyph\":{\"id\":\"5450\"},\"hover_glyph\":null,\"muted_glyph\":null,\"nonselection_glyph\":{\"id\":\"5451\"},\"selection_glyph\":null,\"view\":{\"id\":\"5453\"}},\"id\":\"5452\",\"type\":\"GlyphRenderer\"},{\"attributes\":{\"fill_color\":{\"value\":\"rgb(247, 182, 210)\"},\"line_color\":{\"value\":\"rgb(247, 182, 210)\"},\"line_width\":{\"value\":2},\"x\":{\"field\":\"date_recovered\"},\"y\":{\"field\":\"cumulative_recovered\"}},\"id\":\"5610\",\"type\":\"Circle\"},{\"attributes\":{\"label\":{\"value\":\"Saskatchewan\"},\"renderers\":[{\"id\":\"5406\"}]},\"id\":\"5448\",\"type\":\"LegendItem\"},{\"attributes\":{\"callback\":null,\"renderers\":[{\"id\":\"5499\"}],\"tooltips\":[[\"Cases\",\"@cumulative_recovered\"]]},\"id\":\"5640\",\"type\":\"HoverTool\"},{\"attributes\":{\"line_color\":\"rgb(152, 223, 138)\",\"line_width\":2,\"x\":{\"field\":\"date_recovered\"},\"y\":{\"field\":\"cumulative_recovered\"}},\"id\":\"5170\",\"type\":\"Line\"},{\"attributes\":{\"data\":{\"cumulative_recovered\":{\"__ndarray__\":\"AAAAAAAAAAAAAAAAAAAAAAAAAAAAAAAAAAAAAAAAAAAAAAAAAAAAAAAAAAAAAAAAAAAAAAAAAAAAAAAAAAAAAAAAAAAAAAAAAAAAAAAAAAAAAAAAAAAAAAAAAAAAAAAAAAAAAAAAAAAAAAAAAAAAAAAAAAAAAAAAAAAAAAAAAAAAAAAAAAAAAAAAAAAAAAAAAAAAAAAAAAAAAAAAAAAAAAAAAAAAAAAAAAAAAAAAAAAAAAAAAAAAAAAAAAAAAAAAAAAAAAAAAAAAAAAAAAAAAAAAAAAAAAAAAAAAAAAAAAAAAAAAAAAAAAAAAAAAAAAAAAAAAAAAAAAAAAAAAAAAAAAAAAAAAAAAAAAAAAAAAAAAAAAAAAAAAAAAAAAAAAAAAAAAAAAAAAAAAAAAAAAAAAAAAAAAAAAAAAAAAAAAAAAAAAAAAAAAAAAAAAAAAAAAAAAAAAAAAAAAAAAAAAAAAAAAAAAAAPA/AAAAAAAAEEAAAAAAAAAQQA==\",\"dtype\":\"float64\",\"shape\":[47]},\"date_recovered\":{\"__ndarray__\":\"AAAAIGsDd0IAAMCFvQN3QgAAgOsPBHdCAABAUWIEd0IAAAC3tAR3QgAAwBwHBXdCAACAglkFd0IAAEDoqwV3QgAAAE7+BXdCAADAs1AGd0IAAIAZowZ3QgAAQH/1BndCAAAA5UcHd0IAAMBKmgd3QgAAgLDsB3dCAABAFj8Id0IAAAB8kQh3QgAAwOHjCHdCAACARzYJd0IAAECtiAl3QgAAABPbCXdCAADAeC0Kd0IAAIDefwp3QgAAQETSCndCAAAAqiQLd0IAAMAPdwt3QgAAgHXJC3dCAABA2xsMd0IAAABBbgx3QgAAwKbADHdCAACADBMNd0IAAEByZQ13QgAAANi3DXdCAADAPQoOd0IAAICjXA53QgAAQAmvDndCAAAAbwEPd0IAAMDUUw93QgAAgDqmD3dCAABAoPgPd0IAAAAGSxB3QgAAwGudEHdCAACA0e8Qd0IAAEA3QhF3QgAAAJ2UEXdCAADAAucRd0IAAIBoORJ3Qg==\",\"dtype\":\"float64\",\"shape\":[47]},\"index\":[234,233,232,231,230,229,228,227,226,225,224,223,222,221,220,219,218,217,216,215,214,213,212,211,210,209,208,207,206,205,204,203,202,201,200,199,198,197,196,195,194,193,192,191,190,189,188],\"province\":[\"NL\",\"NL\",\"NL\",\"NL\",\"NL\",\"NL\",\"NL\",\"NL\",\"NL\",\"NL\",\"NL\",\"NL\",\"NL\",\"NL\",\"NL\",\"NL\",\"NL\",\"NL\",\"NL\",\"NL\",\"NL\",\"NL\",\"NL\",\"NL\",\"NL\",\"NL\",\"NL\",\"NL\",\"NL\",\"NL\",\"NL\",\"NL\",\"NL\",\"NL\",\"NL\",\"NL\",\"NL\",\"NL\",\"NL\",\"NL\",\"NL\",\"NL\",\"NL\",\"NL\",\"NL\",\"NL\",\"NL\"]},\"selected\":{\"id\":\"5166\"},\"selection_policy\":{\"id\":\"5165\"}},\"id\":\"4985\",\"type\":\"ColumnDataSource\"},{\"attributes\":{},\"id\":\"5165\",\"type\":\"UnionRenderers\"},{\"attributes\":{\"fill_color\":{\"value\":\"rgb(174, 199, 232)\"},\"line_color\":{\"value\":\"rgb(174, 199, 232)\"},\"line_width\":{\"value\":2},\"x\":{\"field\":\"date_recovered\"},\"y\":{\"field\":\"cumulative_recovered\"}},\"id\":\"5550\",\"type\":\"Circle\"},{\"attributes\":{\"fill_alpha\":{\"value\":0.1},\"fill_color\":{\"value\":\"rgb(247, 182, 210)\"},\"line_alpha\":{\"value\":0.1},\"line_color\":{\"value\":\"rgb(247, 182, 210)\"},\"line_width\":{\"value\":2},\"x\":{\"field\":\"date_recovered\"},\"y\":{\"field\":\"cumulative_recovered\"}},\"id\":\"5611\",\"type\":\"Circle\"},{\"attributes\":{},\"id\":\"5134\",\"type\":\"Selection\"},{\"attributes\":{\"data_source\":{\"id\":\"4986\"},\"glyph\":{\"id\":\"5138\"},\"hover_glyph\":null,\"muted_glyph\":null,\"nonselection_glyph\":{\"id\":\"5139\"},\"selection_glyph\":null,\"view\":{\"id\":\"5141\"}},\"id\":\"5140\",\"type\":\"GlyphRenderer\"},{\"attributes\":{\"data_source\":{\"id\":\"4994\"},\"glyph\":{\"id\":\"5497\"},\"hover_glyph\":null,\"muted_glyph\":null,\"nonselection_glyph\":{\"id\":\"5498\"},\"selection_glyph\":null,\"view\":{\"id\":\"5500\"}},\"id\":\"5499\",\"type\":\"GlyphRenderer\"},{\"attributes\":{\"data\":{\"cumulative_recovered\":{\"__ndarray__\":\"AAAAAAAAAAAAAAAAAAAAAAAAAAAAAAAAAAAAAAAAAAAAAAAAAAAAAAAAAAAAAAAAAAAAAAAAAAAAAAAAAAAAAAAAAAAAAAAAAAAAAAAAAAAAAAAAAAAAAAAAAAAAAAAAAAAAAAAAAAAAAAAAAAAAAAAAAAAAAAAAAAAAAAAAAAAAAAAAAAAAAAAAAAAAAAAAAAAAAAAAAAAAAAAAAAAAAAAAAAAAAAAAAAAAAAAAAAAAAAAAAAAAAAAAAAAAAAAAAAAAAAAAAAAAAAAAAAAAAAAAAAAAAAAAAAAAAAAAAAAAAAAAAAAAAAAAAAAAAAAAAAAAAAAAAAAAAAAAAAAAAAAAAAAAAAAAAAAAAAAAAAAAAAAAAAAAAAAAAAAAAAAAAAAAAAAAAAAAAAAAAAAAAAAAAAAAAAAAAAAAAAAAAAAAAAAAAAAAAAAAAAAAAAAAAAAAAAAAAAAAAAAAAAAIQAAAAAAAAAhAAAAAAAAAEEAAAAAAAAAgQA==\",\"dtype\":\"float64\",\"shape\":[47]},\"date_recovered\":{\"__ndarray__\":\"AAAAIGsDd0IAAMCFvQN3QgAAgOsPBHdCAABAUWIEd0IAAAC3tAR3QgAAwBwHBXdCAACAglkFd0IAAEDoqwV3QgAAAE7+BXdCAADAs1AGd0IAAIAZowZ3QgAAQH/1BndCAAAA5UcHd0IAAMBKmgd3QgAAgLDsB3dCAABAFj8Id0IAAAB8kQh3QgAAwOHjCHdCAACARzYJd0IAAECtiAl3QgAAABPbCXdCAADAeC0Kd0IAAIDefwp3QgAAQETSCndCAAAAqiQLd0IAAMAPdwt3QgAAgHXJC3dCAABA2xsMd0IAAABBbgx3QgAAwKbADHdCAACADBMNd0IAAEByZQ13QgAAANi3DXdCAADAPQoOd0IAAICjXA53QgAAQAmvDndCAAAAbwEPd0IAAMDUUw93QgAAgDqmD3dCAABAoPgPd0IAAAAGSxB3QgAAwGudEHdCAACA0e8Qd0IAAEA3QhF3QgAAAJ2UEXdCAADAAucRd0IAAIBoORJ3Qg==\",\"dtype\":\"float64\",\"shape\":[47]},\"index\":[469,468,467,466,465,464,463,462,461,460,459,458,457,456,455,454,453,452,451,450,449,448,447,446,445,444,443,442,441,440,439,438,437,436,435,434,433,432,431,430,429,428,427,426,425,424,423],\"province\":[\"Saskatchewan\",\"Saskatchewan\",\"Saskatchewan\",\"Saskatchewan\",\"Saskatchewan\",\"Saskatchewan\",\"Saskatchewan\",\"Saskatchewan\",\"Saskatchewan\",\"Saskatchewan\",\"Saskatchewan\",\"Saskatchewan\",\"Saskatchewan\",\"Saskatchewan\",\"Saskatchewan\",\"Saskatchewan\",\"Saskatchewan\",\"Saskatchewan\",\"Saskatchewan\",\"Saskatchewan\",\"Saskatchewan\",\"Saskatchewan\",\"Saskatchewan\",\"Saskatchewan\",\"Saskatchewan\",\"Saskatchewan\",\"Saskatchewan\",\"Saskatchewan\",\"Saskatchewan\",\"Saskatchewan\",\"Saskatchewan\",\"Saskatchewan\",\"Saskatchewan\",\"Saskatchewan\",\"Saskatchewan\",\"Saskatchewan\",\"Saskatchewan\",\"Saskatchewan\",\"Saskatchewan\",\"Saskatchewan\",\"Saskatchewan\",\"Saskatchewan\",\"Saskatchewan\",\"Saskatchewan\",\"Saskatchewan\",\"Saskatchewan\",\"Saskatchewan\"]},\"selected\":{\"id\":\"5494\"},\"selection_policy\":{\"id\":\"5493\"}},\"id\":\"4993\",\"type\":\"ColumnDataSource\"},{\"attributes\":{\"fill_alpha\":{\"value\":0.1},\"fill_color\":{\"value\":\"rgb(31, 119, 180)\"},\"line_alpha\":{\"value\":0.1},\"line_color\":{\"value\":\"rgb(31, 119, 180)\"},\"line_width\":{\"value\":2},\"x\":{\"field\":\"date_recovered\"},\"y\":{\"field\":\"cumulative_recovered\"}},\"id\":\"5546\",\"type\":\"Circle\"},{\"attributes\":{\"source\":{\"id\":\"4988\"}},\"id\":\"5608\",\"type\":\"CDSView\"},{\"attributes\":{\"data_source\":{\"id\":\"4988\"},\"glyph\":{\"id\":\"5605\"},\"hover_glyph\":null,\"muted_glyph\":null,\"nonselection_glyph\":{\"id\":\"5606\"},\"selection_glyph\":null,\"view\":{\"id\":\"5608\"}},\"id\":\"5607\",\"type\":\"GlyphRenderer\"},{\"attributes\":{\"line_alpha\":0.1,\"line_color\":\"rgb(44, 160, 44)\",\"line_width\":2,\"x\":{\"field\":\"date_recovered\"},\"y\":{\"field\":\"cumulative_recovered\"}},\"id\":\"5139\",\"type\":\"Line\"},{\"attributes\":{\"fill_alpha\":{\"value\":0.1},\"fill_color\":{\"value\":\"rgb(174, 199, 232)\"},\"line_alpha\":{\"value\":0.1},\"line_color\":{\"value\":\"rgb(174, 199, 232)\"},\"line_width\":{\"value\":2},\"x\":{\"field\":\"date_recovered\"},\"y\":{\"field\":\"cumulative_recovered\"}},\"id\":\"5551\",\"type\":\"Circle\"},{\"attributes\":{\"callback\":null,\"renderers\":[{\"id\":\"5206\"}],\"tooltips\":[[\"Cases\",\"@cumulative_recovered\"]]},\"id\":\"5626\",\"type\":\"HoverTool\"},{\"attributes\":{\"fill_color\":{\"value\":\"rgb(255, 127, 14)\"},\"line_color\":{\"value\":\"rgb(255, 127, 14)\"},\"line_width\":{\"value\":2},\"x\":{\"field\":\"date_recovered\"},\"y\":{\"field\":\"cumulative_recovered\"}},\"id\":\"5555\",\"type\":\"Circle\"},{\"attributes\":{\"callback\":null,\"renderers\":[{\"id\":\"5452\"}],\"tooltips\":[[\"Cases\",\"@cumulative_recovered\"]]},\"id\":\"5638\",\"type\":\"HoverTool\"},{\"attributes\":{\"source\":{\"id\":\"4986\"}},\"id\":\"5141\",\"type\":\"CDSView\"},{\"attributes\":{\"data\":{\"cumulative_recovered\":{\"__ndarray__\":\"AAAAAAAAAAAAAAAAAAAAAAAAAAAAAAAAAAAAAAAAAAAAAAAAAAAAAAAAAAAAAAAAAAAAAAAAAAAAAAAAAAAAAAAAAAAAAAAAAAAAAAAAAAAAAAAAAAAAAAAAAAAAAAAAAAAAAAAAAAAAAAAAAAAAAAAAAAAAAAAAAAAAAAAAAAAAAAAAAAAAAAAAAAAAAAAAAAAAAAAAAAAAAAAAAAAAAAAAAAAAAAAAAAAAAAAAAAAAAAAAAAAAAAAAAAAAAAAAAAAAAAAAAAAAAAAAAAAAAAAAAAAAAAAAAAAAAAAAAAAAAAAAAAAAAAAAAAAAAAAAAAAAAAAAAAAAAAAAAAAAAAAAAAAAAAAAAAAAAAAAAAAAAAAAAAAAAAAAAAAAAAAAAAAAAAAAAAAAAAAAAAAAAAAAAAAAAAAAAAAAAAAAAAAAAAAAAAAAAAAAAAAAAAAAAAAAAAAAAAAAAAAAAADwPwAAAAAAAPA/AAAAAAAA8D8AAAAAAADwPw==\",\"dtype\":\"float64\",\"shape\":[47]},\"date_recovered\":{\"__ndarray__\":\"AAAAIGsDd0IAAMCFvQN3QgAAgOsPBHdCAABAUWIEd0IAAAC3tAR3QgAAwBwHBXdCAACAglkFd0IAAEDoqwV3QgAAAE7+BXdCAADAs1AGd0IAAIAZowZ3QgAAQH/1BndCAAAA5UcHd0IAAMBKmgd3QgAAgLDsB3dCAABAFj8Id0IAAAB8kQh3QgAAwOHjCHdCAACARzYJd0IAAECtiAl3QgAAABPbCXdCAADAeC0Kd0IAAIDefwp3QgAAQETSCndCAAAAqiQLd0IAAMAPdwt3QgAAgHXJC3dCAABA2xsMd0IAAABBbgx3QgAAwKbADHdCAACADBMNd0IAAEByZQ13QgAAANi3DXdCAADAPQoOd0IAAICjXA53QgAAQAmvDndCAAAAbwEPd0IAAMDUUw93QgAAgDqmD3dCAABAoPgPd0IAAAAGSxB3QgAAwGudEHdCAACA0e8Qd0IAAEA3QhF3QgAAAJ2UEXdCAADAAucRd0IAAIBoORJ3Qg==\",\"dtype\":\"float64\",\"shape\":[47]},\"index\":[375,374,373,372,371,370,369,368,367,366,365,364,363,362,361,360,359,358,357,356,355,354,353,352,351,350,349,348,347,346,345,344,343,342,341,340,339,338,337,336,335,334,333,332,331,330,329],\"province\":[\"PEI\",\"PEI\",\"PEI\",\"PEI\",\"PEI\",\"PEI\",\"PEI\",\"PEI\",\"PEI\",\"PEI\",\"PEI\",\"PEI\",\"PEI\",\"PEI\",\"PEI\",\"PEI\",\"PEI\",\"PEI\",\"PEI\",\"PEI\",\"PEI\",\"PEI\",\"PEI\",\"PEI\",\"PEI\",\"PEI\",\"PEI\",\"PEI\",\"PEI\",\"PEI\",\"PEI\",\"PEI\",\"PEI\",\"PEI\",\"PEI\",\"PEI\",\"PEI\",\"PEI\",\"PEI\",\"PEI\",\"PEI\",\"PEI\",\"PEI\",\"PEI\",\"PEI\",\"PEI\",\"PEI\"]},\"selected\":{\"id\":\"5400\"},\"selection_policy\":{\"id\":\"5399\"}},\"id\":\"4991\",\"type\":\"ColumnDataSource\"},{\"attributes\":{\"fill_alpha\":{\"value\":0.1},\"fill_color\":{\"value\":\"rgb(255, 127, 14)\"},\"line_alpha\":{\"value\":0.1},\"line_color\":{\"value\":\"rgb(255, 127, 14)\"},\"line_width\":{\"value\":2},\"x\":{\"field\":\"date_recovered\"},\"y\":{\"field\":\"cumulative_recovered\"}},\"id\":\"5556\",\"type\":\"Circle\"},{\"attributes\":{\"source\":{\"id\":\"4982\"}},\"id\":\"5548\",\"type\":\"CDSView\"},{\"attributes\":{\"line_color\":\"rgb(140, 86, 75)\",\"line_width\":2,\"x\":{\"field\":\"date_recovered\"},\"y\":{\"field\":\"cumulative_recovered\"}},\"id\":\"5360\",\"type\":\"Line\"},{\"attributes\":{\"line_color\":\"rgb(214, 39, 40)\",\"line_width\":2,\"x\":{\"field\":\"date_recovered\"},\"y\":{\"field\":\"cumulative_recovered\"}},\"id\":\"5204\",\"type\":\"Line\"},{\"attributes\":{\"callback\":null,\"renderers\":[{\"id\":\"5280\"}],\"tooltips\":[[\"Cases\",\"@cumulative_recovered\"]]},\"id\":\"5630\",\"type\":\"HoverTool\"},{\"attributes\":{\"callback\":null,\"renderers\":[{\"id\":\"5406\"}],\"tooltips\":[[\"Cases\",\"@cumulative_recovered\"]]},\"id\":\"5636\",\"type\":\"HoverTool\"},{\"attributes\":{\"callback\":null,\"renderers\":[{\"id\":\"5172\"}],\"tooltips\":[[\"Cases\",\"@cumulative_recovered\"]]},\"id\":\"5624\",\"type\":\"HoverTool\"},{\"attributes\":{},\"id\":\"5166\",\"type\":\"Selection\"},{\"attributes\":{\"data\":{\"cumulative_recovered\":{\"__ndarray__\":\"AAAAAAAAAAAAAAAAAAAAAAAAAAAAAAAAAAAAAAAAAAAAAAAAAAAAAAAAAAAAAAAAAAAAAAAAAAAAAAAAAAAAAAAAAAAAAAAAAAAAAAAAAAAAAAAAAAAAAAAAAAAAAAAAAAAAAAAAAAAAAAAAAAAAAAAAAAAAAAAAAAAAAAAAAAAAAAAAAAAAAAAAAAAAAAAAAAAAAAAAAAAAAAAAAAAAAAAAAAAAAAAAAAAAAAAAAAAAAAAAAAAAAAAAAAAAAAAAAAAAAAAAAAAAAAAAAAAAAAAAAAAAAAAAAAAAAAAAAAAAAAAAAAAAAAAAAAAAAAAAAAAAAAAAAAAAAAAAAAAAAAAAAAAAAAAAAAAAAAAAAAAAAAAAAAAAAAAAAAAAAAAAAAAAAAAAAAAAAAAAAAAAAAAAAAAAAAAAAAAAAAAAAAAAAAAAAAAAAAAAAAAAAAAAAAAAAAAAAAAAAAAAAAAAAAAAAAAAAPA/AAAAAAAAAEAAAAAAAAAAQA==\",\"dtype\":\"float64\",\"shape\":[47]},\"date_recovered\":{\"__ndarray__\":\"AAAAIGsDd0IAAMCFvQN3QgAAgOsPBHdCAABAUWIEd0IAAAC3tAR3QgAAwBwHBXdCAACAglkFd0IAAEDoqwV3QgAAAE7+BXdCAADAs1AGd0IAAIAZowZ3QgAAQH/1BndCAAAA5UcHd0IAAMBKmgd3QgAAgLDsB3dCAABAFj8Id0IAAAB8kQh3QgAAwOHjCHdCAACARzYJd0IAAECtiAl3QgAAABPbCXdCAADAeC0Kd0IAAIDefwp3QgAAQETSCndCAAAAqiQLd0IAAMAPdwt3QgAAgHXJC3dCAABA2xsMd0IAAABBbgx3QgAAwKbADHdCAACADBMNd0IAAEByZQ13QgAAANi3DXdCAADAPQoOd0IAAICjXA53QgAAQAmvDndCAAAAbwEPd0IAAMDUUw93QgAAgDqmD3dCAABAoPgPd0IAAAAGSxB3QgAAwGudEHdCAACA0e8Qd0IAAEA3QhF3QgAAAJ2UEXdCAADAAucRd0IAAIBoORJ3Qg==\",\"dtype\":\"float64\",\"shape\":[47]},\"index\":[187,186,185,184,183,182,181,180,179,178,177,176,175,174,173,172,171,170,169,168,167,166,165,164,163,162,161,160,159,158,157,156,155,154,153,152,151,150,149,148,147,146,145,144,143,142,141],\"province\":[\"New Brunswick\",\"New Brunswick\",\"New Brunswick\",\"New Brunswick\",\"New Brunswick\",\"New Brunswick\",\"New Brunswick\",\"New Brunswick\",\"New Brunswick\",\"New Brunswick\",\"New Brunswick\",\"New Brunswick\",\"New Brunswick\",\"New Brunswick\",\"New Brunswick\",\"New Brunswick\",\"New Brunswick\",\"New Brunswick\",\"New Brunswick\",\"New Brunswick\",\"New Brunswick\",\"New Brunswick\",\"New Brunswick\",\"New Brunswick\",\"New Brunswick\",\"New Brunswick\",\"New Brunswick\",\"New Brunswick\",\"New Brunswick\",\"New Brunswick\",\"New Brunswick\",\"New Brunswick\",\"New Brunswick\",\"New Brunswick\",\"New Brunswick\",\"New Brunswick\",\"New Brunswick\",\"New Brunswick\",\"New Brunswick\",\"New Brunswick\",\"New Brunswick\",\"New Brunswick\",\"New Brunswick\",\"New Brunswick\",\"New Brunswick\",\"New Brunswick\",\"New Brunswick\"]},\"selected\":{\"id\":\"5236\"},\"selection_policy\":{\"id\":\"5235\"}},\"id\":\"4987\",\"type\":\"ColumnDataSource\"},{\"attributes\":{},\"id\":\"5199\",\"type\":\"UnionRenderers\"},{\"attributes\":{\"data_source\":{\"id\":\"4982\"},\"glyph\":{\"id\":\"5545\"},\"hover_glyph\":null,\"muted_glyph\":null,\"nonselection_glyph\":{\"id\":\"5546\"},\"selection_glyph\":null,\"view\":{\"id\":\"5548\"}},\"id\":\"5547\",\"type\":\"GlyphRenderer\"},{\"attributes\":{\"callback\":null,\"renderers\":[{\"id\":\"5362\"}],\"tooltips\":[[\"Cases\",\"@cumulative_recovered\"]]},\"id\":\"5634\",\"type\":\"HoverTool\"},{\"attributes\":{\"data_source\":{\"id\":\"4983\"},\"glyph\":{\"id\":\"5550\"},\"hover_glyph\":null,\"muted_glyph\":null,\"nonselection_glyph\":{\"id\":\"5551\"},\"selection_glyph\":null,\"view\":{\"id\":\"5553\"}},\"id\":\"5552\",\"type\":\"GlyphRenderer\"},{\"attributes\":{\"fill_color\":{\"value\":\"rgb(255, 187, 120)\"},\"line_color\":{\"value\":\"rgb(255, 187, 120)\"},\"line_width\":{\"value\":2},\"x\":{\"field\":\"date_recovered\"},\"y\":{\"field\":\"cumulative_recovered\"}},\"id\":\"5560\",\"type\":\"Circle\"},{\"attributes\":{\"data_source\":{\"id\":\"4987\"},\"glyph\":{\"id\":\"5170\"},\"hover_glyph\":null,\"muted_glyph\":null,\"nonselection_glyph\":{\"id\":\"5171\"},\"selection_glyph\":null,\"view\":{\"id\":\"5173\"}},\"id\":\"5172\",\"type\":\"GlyphRenderer\"},{\"attributes\":{\"callback\":null,\"renderers\":[{\"id\":\"5320\"}],\"tooltips\":[[\"Cases\",\"@cumulative_recovered\"]]},\"id\":\"5632\",\"type\":\"HoverTool\"},{\"attributes\":{\"line_alpha\":0.1,\"line_color\":\"rgb(152, 223, 138)\",\"line_width\":2,\"x\":{\"field\":\"date_recovered\"},\"y\":{\"field\":\"cumulative_recovered\"}},\"id\":\"5171\",\"type\":\"Line\"},{\"attributes\":{\"source\":{\"id\":\"4983\"}},\"id\":\"5553\",\"type\":\"CDSView\"},{\"attributes\":{},\"id\":\"5919\",\"type\":\"UnionRenderers\"},{\"attributes\":{\"fill_alpha\":{\"value\":0.1},\"fill_color\":{\"value\":\"rgb(255, 187, 120)\"},\"line_alpha\":{\"value\":0.1},\"line_color\":{\"value\":\"rgb(255, 187, 120)\"},\"line_width\":{\"value\":2},\"x\":{\"field\":\"date_recovered\"},\"y\":{\"field\":\"cumulative_recovered\"}},\"id\":\"5561\",\"type\":\"Circle\"},{\"attributes\":{\"source\":{\"id\":\"4987\"}},\"id\":\"5173\",\"type\":\"CDSView\"},{\"attributes\":{\"data_source\":{\"id\":\"4984\"},\"glyph\":{\"id\":\"5555\"},\"hover_glyph\":null,\"muted_glyph\":null,\"nonselection_glyph\":{\"id\":\"5556\"},\"selection_glyph\":null,\"view\":{\"id\":\"5558\"}},\"id\":\"5557\",\"type\":\"GlyphRenderer\"},{\"attributes\":{\"data_source\":{\"id\":\"4989\"},\"glyph\":{\"id\":\"5240\"},\"hover_glyph\":null,\"muted_glyph\":null,\"nonselection_glyph\":{\"id\":\"5241\"},\"selection_glyph\":null,\"view\":{\"id\":\"5243\"}},\"id\":\"5242\",\"type\":\"GlyphRenderer\"},{\"attributes\":{\"source\":{\"id\":\"4984\"}},\"id\":\"5558\",\"type\":\"CDSView\"},{\"attributes\":{},\"id\":\"5920\",\"type\":\"Selection\"},{\"attributes\":{},\"id\":\"5200\",\"type\":\"Selection\"},{\"attributes\":{\"label\":{\"value\":\"New Brunswick\"},\"renderers\":[{\"id\":\"5172\"}]},\"id\":\"5202\",\"type\":\"LegendItem\"},{\"attributes\":{\"fill_color\":{\"value\":\"rgb(44, 160, 44)\"},\"line_color\":{\"value\":\"rgb(44, 160, 44)\"},\"line_width\":{\"value\":2},\"x\":{\"field\":\"date_recovered\"},\"y\":{\"field\":\"cumulative_recovered\"}},\"id\":\"5565\",\"type\":\"Circle\"},{\"attributes\":{\"data\":{\"cumulative_recovered\":{\"__ndarray__\":\"AAAAAAAAAAAAAAAAAAAAAAAAAAAAAAAAAAAAAAAAAAAAAAAAAAAAAAAAAAAAAAAAAAAAAAAAAAAAAAAAAAAAAAAAAAAAAAAAAAAAAAAAAAAAAAAAAAAAAAAAAAAAAAAAAAAAAAAAAAAAAAAAAAAAAAAAAAAAAAAAAAAAAAAAAAAAAAAAAAAAAAAAAAAAAAAAAAAAAAAAAAAAAAAAAAAAAAAAAAAAAAAAAAAAAAAAAAAAAAAAAAAAAAAAAAAAAAAAAAAAAAAAAAAAAAAAAAAAAAAAAAAAAAAAAAAAAAAAAAAAAAAAAAAAAAAAAAAAAAAAAAAAAAAAAAAAAAAAAAAAAAAAAAAAAAAAAAAAAAAAAAAAAAAAAAAAAAAAAAAAAAAAAAAAAAAAAEAAAAAAAAAIQAAAAAAAAAhAAAAAAAAACEAAAAAAAAAIQAAAAAAAAAhAAAAAAAAACEAAAAAAAAA7QAAAAAAAgEBAAAAAAACASkAAAAAAAEBSQA==\",\"dtype\":\"float64\",\"shape\":[47]},\"date_recovered\":{\"__ndarray__\":\"AAAAIGsDd0IAAMCFvQN3QgAAgOsPBHdCAABAUWIEd0IAAAC3tAR3QgAAwBwHBXdCAACAglkFd0IAAEDoqwV3QgAAAE7+BXdCAADAs1AGd0IAAIAZowZ3QgAAQH/1BndCAAAA5UcHd0IAAMBKmgd3QgAAgLDsB3dCAABAFj8Id0IAAAB8kQh3QgAAwOHjCHdCAACARzYJd0IAAECtiAl3QgAAABPbCXdCAADAeC0Kd0IAAIDefwp3QgAAQETSCndCAAAAqiQLd0IAAMAPdwt3QgAAgHXJC3dCAABA2xsMd0IAAABBbgx3QgAAwKbADHdCAACADBMNd0IAAEByZQ13QgAAANi3DXdCAADAPQoOd0IAAICjXA53QgAAQAmvDndCAAAAbwEPd0IAAMDUUw93QgAAgDqmD3dCAABAoPgPd0IAAAAGSxB3QgAAwGudEHdCAACA0e8Qd0IAAEA3QhF3QgAAAJ2UEXdCAADAAucRd0IAAIBoORJ3Qg==\",\"dtype\":\"float64\",\"shape\":[47]},\"index\":[46,45,44,43,42,41,40,39,38,37,36,35,34,33,32,31,30,29,28,27,26,25,24,23,22,21,20,19,18,17,16,15,14,13,12,11,10,9,8,7,6,5,4,3,2,1,0],\"province\":[\"Alberta\",\"Alberta\",\"Alberta\",\"Alberta\",\"Alberta\",\"Alberta\",\"Alberta\",\"Alberta\",\"Alberta\",\"Alberta\",\"Alberta\",\"Alberta\",\"Alberta\",\"Alberta\",\"Alberta\",\"Alberta\",\"Alberta\",\"Alberta\",\"Alberta\",\"Alberta\",\"Alberta\",\"Alberta\",\"Alberta\",\"Alberta\",\"Alberta\",\"Alberta\",\"Alberta\",\"Alberta\",\"Alberta\",\"Alberta\",\"Alberta\",\"Alberta\",\"Alberta\",\"Alberta\",\"Alberta\",\"Alberta\",\"Alberta\",\"Alberta\",\"Alberta\",\"Alberta\",\"Alberta\",\"Alberta\",\"Alberta\",\"Alberta\",\"Alberta\",\"Alberta\",\"Alberta\"]},\"selected\":{\"id\":\"5076\"},\"selection_policy\":{\"id\":\"5075\"}},\"id\":\"4982\",\"type\":\"ColumnDataSource\"},{\"attributes\":{\"line_color\":\"rgb(255, 152, 150)\",\"line_width\":2,\"x\":{\"field\":\"date_recovered\"},\"y\":{\"field\":\"cumulative_recovered\"}},\"id\":\"5240\",\"type\":\"Line\"},{\"attributes\":{\"line_alpha\":0.1,\"line_color\":\"rgb(214, 39, 40)\",\"line_width\":2,\"x\":{\"field\":\"date_recovered\"},\"y\":{\"field\":\"cumulative_recovered\"}},\"id\":\"5205\",\"type\":\"Line\"},{\"attributes\":{\"data_source\":{\"id\":\"4988\"},\"glyph\":{\"id\":\"5204\"},\"hover_glyph\":null,\"muted_glyph\":null,\"nonselection_glyph\":{\"id\":\"5205\"},\"selection_glyph\":null,\"view\":{\"id\":\"5207\"}},\"id\":\"5206\",\"type\":\"GlyphRenderer\"},{\"attributes\":{\"line_alpha\":0.1,\"line_color\":\"rgb(247, 182, 210)\",\"line_width\":2,\"x\":{\"field\":\"date_recovered\"},\"y\":{\"field\":\"cumulative_recovered\"}},\"id\":\"5498\",\"type\":\"Line\"},{\"attributes\":{\"line_alpha\":0.1,\"line_color\":\"rgb(255, 152, 150)\",\"line_width\":2,\"x\":{\"field\":\"date_recovered\"},\"y\":{\"field\":\"cumulative_recovered\"}},\"id\":\"5241\",\"type\":\"Line\"},{\"attributes\":{\"data\":{\"cumulative_recovered\":{\"__ndarray__\":\"AAAAAAAAAAAAAAAAAAAAAAAAAAAAAAAAAAAAAAAAAAAAAAAAAAAAAAAAAAAAAAAAAAAAAAAAAAAAAAAAAAAAAAAAAAAAAAAAAAAAAAAAAAAAAAAAAAAAAAAAAAAAAAAAAAAAAAAAAAAAAAAAAAAAAAAAAAAAAAAAAAAAAAAAAAAAAAAAAAAAAAAAAAAAAAAAAAAAAAAAAAAAAAAAAAAAAAAAAAAAAAAAAAAAAAAAAAAAAAAAAAAAAAAAAAAAAAAAAAAAAAAAAAAAAAAAAAAAAAAAAAAAAAAAAAAAAAAAAAAAAAAAAAAAAAAAAAAAAAAAAAAAAAAAAAAAAAAAAAAAAAAAAAAAAAAAAAAAAAAAAAAAAAAAAAAAAAAAAAAAAAAAAAAAAAAAAAAAAAAAAAAAAAAAAAAAAAAAAAAAAAAAAAAAAAAAAAAAAAAAAAAAAAAAAAAAAAAAAAAAAAAAAAAAAAAAAAAAAAAAAAAAAAAAAAAAAAAAAAAAAA==\",\"dtype\":\"float64\",\"shape\":[47]},\"date_recovered\":{\"__ndarray__\":\"AAAAIGsDd0IAAMCFvQN3QgAAgOsPBHdCAABAUWIEd0IAAAC3tAR3QgAAwBwHBXdCAACAglkFd0IAAEDoqwV3QgAAAE7+BXdCAADAs1AGd0IAAIAZowZ3QgAAQH/1BndCAAAA5UcHd0IAAMBKmgd3QgAAgLDsB3dCAABAFj8Id0IAAAB8kQh3QgAAwOHjCHdCAACARzYJd0IAAECtiAl3QgAAABPbCXdCAADAeC0Kd0IAAIDefwp3QgAAQETSCndCAAAAqiQLd0IAAMAPdwt3QgAAgHXJC3dCAABA2xsMd0IAAABBbgx3QgAAwKbADHdCAACADBMNd0IAAEByZQ13QgAAANi3DXdCAADAPQoOd0IAAICjXA53QgAAQAmvDndCAAAAbwEPd0IAAMDUUw93QgAAgDqmD3dCAABAoPgPd0IAAAAGSxB3QgAAwGudEHdCAACA0e8Qd0IAAEA3QhF3QgAAAJ2UEXdCAADAAucRd0IAAIBoORJ3Qg==\",\"dtype\":\"float64\",\"shape\":[47]},\"index\":[610,609,608,607,606,605,604,603,602,601,600,599,598,597,596,595,594,593,592,591,590,589,588,587,586,585,584,583,582,581,580,579,578,577,576,575,574,573,572,571,570,569,568,567,566,565,564],\"province\":[\"Yukon\",\"Yukon\",\"Yukon\",\"Yukon\",\"Yukon\",\"Yukon\",\"Yukon\",\"Yukon\",\"Yukon\",\"Yukon\",\"Yukon\",\"Yukon\",\"Yukon\",\"Yukon\",\"Yukon\",\"Yukon\",\"Yukon\",\"Yukon\",\"Yukon\",\"Yukon\",\"Yukon\",\"Yukon\",\"Yukon\",\"Yukon\",\"Yukon\",\"Yukon\",\"Yukon\",\"Yukon\",\"Yukon\",\"Yukon\",\"Yukon\",\"Yukon\",\"Yukon\",\"Yukon\",\"Yukon\",\"Yukon\",\"Yukon\",\"Yukon\",\"Yukon\",\"Yukon\",\"Yukon\",\"Yukon\",\"Yukon\",\"Yukon\",\"Yukon\",\"Yukon\",\"Yukon\"]},\"selected\":{\"id\":\"5920\"},\"selection_policy\":{\"id\":\"5919\"}},\"id\":\"4994\",\"type\":\"ColumnDataSource\"},{\"attributes\":{\"source\":{\"id\":\"4985\"}},\"id\":\"5563\",\"type\":\"CDSView\"},{\"attributes\":{},\"id\":\"5235\",\"type\":\"UnionRenderers\"},{\"attributes\":{\"data_source\":{\"id\":\"4985\"},\"glyph\":{\"id\":\"5560\"},\"hover_glyph\":null,\"muted_glyph\":null,\"nonselection_glyph\":{\"id\":\"5561\"},\"selection_glyph\":null,\"view\":{\"id\":\"5563\"}},\"id\":\"5562\",\"type\":\"GlyphRenderer\"},{\"attributes\":{\"source\":{\"id\":\"4988\"}},\"id\":\"5207\",\"type\":\"CDSView\"},{\"attributes\":{},\"id\":\"5236\",\"type\":\"Selection\"},{\"attributes\":{\"fill_color\":{\"value\":\"rgb(152, 223, 138)\"},\"line_color\":{\"value\":\"rgb(152, 223, 138)\"},\"line_width\":{\"value\":2},\"x\":{\"field\":\"date_recovered\"},\"y\":{\"field\":\"cumulative_recovered\"}},\"id\":\"5570\",\"type\":\"Circle\"},{\"attributes\":{\"callback\":null,\"renderers\":[{\"id\":\"5140\"}],\"tooltips\":[[\"Cases\",\"@cumulative_recovered\"]]},\"id\":\"5622\",\"type\":\"HoverTool\"},{\"attributes\":{\"data_source\":{\"id\":\"4986\"},\"glyph\":{\"id\":\"5565\"},\"hover_glyph\":null,\"muted_glyph\":null,\"nonselection_glyph\":{\"id\":\"5566\"},\"selection_glyph\":null,\"view\":{\"id\":\"5568\"}},\"id\":\"5567\",\"type\":\"GlyphRenderer\"},{\"attributes\":{\"line_color\":\"rgb(148, 103, 189)\",\"line_width\":2,\"x\":{\"field\":\"date_recovered\"},\"y\":{\"field\":\"cumulative_recovered\"}},\"id\":\"5278\",\"type\":\"Line\"},{\"attributes\":{\"label\":{\"value\":\"Nova Scotia\"},\"renderers\":[{\"id\":\"5206\"},{\"id\":\"5452\"}]},\"id\":\"5238\",\"type\":\"LegendItem\"},{\"attributes\":{\"fill_alpha\":{\"value\":0.1},\"fill_color\":{\"value\":\"rgb(44, 160, 44)\"},\"line_alpha\":{\"value\":0.1},\"line_color\":{\"value\":\"rgb(44, 160, 44)\"},\"line_width\":{\"value\":2},\"x\":{\"field\":\"date_recovered\"},\"y\":{\"field\":\"cumulative_recovered\"}},\"id\":\"5566\",\"type\":\"Circle\"},{\"attributes\":{\"line_alpha\":0.1,\"line_color\":\"rgb(255, 127, 14)\",\"line_width\":2,\"x\":{\"field\":\"date_recovered\"},\"y\":{\"field\":\"cumulative_recovered\"}},\"id\":\"5081\",\"type\":\"Line\"},{\"attributes\":{},\"id\":\"5273\",\"type\":\"UnionRenderers\"},{\"attributes\":{\"source\":{\"id\":\"4986\"}},\"id\":\"5568\",\"type\":\"CDSView\"},{\"attributes\":{\"data\":{\"cumulative_recovered\":{\"__ndarray__\":\"AAAAAAAAAAAAAAAAAAAAAAAAAAAAAAAAAAAAAAAAAAAAAAAAAAAAAAAAAAAAAAAAAAAAAAAAAAAAAAAAAAAAAAAAAAAAAAAAAAAAAAAAAAAAAAAAAAAAAAAAAAAAAAAAAAAAAAAAAAAAAAAAAAAAAAAAAAAAAAAAAAAAAAAAAAAAAAAAAAAAAAAAAAAAAAAAAAAAAAAAAAAAAAAAAAAAAAAAAAAAAAAAAAAAAAAAAAAAAAAAAAAAAAAAAAAAAAAAAAAAAAAAAAAAAAAAAAAAAAAAAAAAAAAAAAAAAAAAAAAAAAAAAAAAAAAAAAAAAAAAAAAAAAAAAAAAAAAAAAAAAAAAAAAAAAAAAAAAAAAAAAAAAAAAAAAAAAAAAAAAAAAAAAAAAAAAAAAAAAAAAAAAAAAAAAAAAAAAAAAAAAAAAAAAAAAAAAAAAAAAAAAAAPA/AAAAAAAAAEAAAAAAAAAAQAAAAAAAAAhAAAAAAAAAEEAAAAAAAAAcQA==\",\"dtype\":\"float64\",\"shape\":[47]},\"date_recovered\":{\"__ndarray__\":\"AAAAIGsDd0IAAMCFvQN3QgAAgOsPBHdCAABAUWIEd0IAAAC3tAR3QgAAwBwHBXdCAACAglkFd0IAAEDoqwV3QgAAAE7+BXdCAADAs1AGd0IAAIAZowZ3QgAAQH/1BndCAAAA5UcHd0IAAMBKmgd3QgAAgLDsB3dCAABAFj8Id0IAAAB8kQh3QgAAwOHjCHdCAACARzYJd0IAAECtiAl3QgAAABPbCXdCAADAeC0Kd0IAAIDefwp3QgAAQETSCndCAAAAqiQLd0IAAMAPdwt3QgAAgHXJC3dCAABA2xsMd0IAAABBbgx3QgAAwKbADHdCAACADBMNd0IAAEByZQ13QgAAANi3DXdCAADAPQoOd0IAAICjXA53QgAAQAmvDndCAAAAbwEPd0IAAMDUUw93QgAAgDqmD3dCAABAoPgPd0IAAAAGSxB3QgAAwGudEHdCAACA0e8Qd0IAAEA3QhF3QgAAAJ2UEXdCAADAAucRd0IAAIBoORJ3Qg==\",\"dtype\":\"float64\",\"shape\":[47]},\"index\":[281,280,279,278,277,276,275,274,273,272,271,270,269,268,267,266,265,264,263,262,261,260,259,258,257,256,255,254,253,252,251,250,249,248,247,246,245,244,243,242,241,240,239,238,237,236,235],\"province\":[\"Nova Scotia\",\"Nova Scotia\",\"Nova Scotia\",\"Nova Scotia\",\"Nova Scotia\",\"Nova Scotia\",\"Nova Scotia\",\"Nova Scotia\",\"Nova Scotia\",\"Nova Scotia\",\"Nova Scotia\",\"Nova Scotia\",\"Nova Scotia\",\"Nova Scotia\",\"Nova Scotia\",\"Nova Scotia\",\"Nova Scotia\",\"Nova Scotia\",\"Nova Scotia\",\"Nova Scotia\",\"Nova Scotia\",\"Nova Scotia\",\"Nova Scotia\",\"Nova Scotia\",\"Nova Scotia\",\"Nova Scotia\",\"Nova Scotia\",\"Nova Scotia\",\"Nova Scotia\",\"Nova Scotia\",\"Nova Scotia\",\"Nova Scotia\",\"Nova Scotia\",\"Nova Scotia\",\"Nova Scotia\",\"Nova Scotia\",\"Nova Scotia\",\"Nova Scotia\",\"Nova Scotia\",\"Nova Scotia\",\"Nova Scotia\",\"Nova Scotia\",\"Nova Scotia\",\"Nova Scotia\",\"Nova Scotia\",\"Nova Scotia\",\"Nova Scotia\"]},\"selected\":{\"id\":\"5274\"},\"selection_policy\":{\"id\":\"5273\"}},\"id\":\"4988\",\"type\":\"ColumnDataSource\"},{\"attributes\":{\"fill_color\":{\"value\":\"rgb(214, 39, 40)\"},\"line_color\":{\"value\":\"rgb(214, 39, 40)\"},\"line_width\":{\"value\":2},\"x\":{\"field\":\"date_recovered\"},\"y\":{\"field\":\"cumulative_recovered\"}},\"id\":\"5575\",\"type\":\"Circle\"},{\"attributes\":{},\"id\":\"5274\",\"type\":\"Selection\"},{\"attributes\":{\"fill_alpha\":{\"value\":0.1},\"fill_color\":{\"value\":\"rgb(152, 223, 138)\"},\"line_alpha\":{\"value\":0.1},\"line_color\":{\"value\":\"rgb(152, 223, 138)\"},\"line_width\":{\"value\":2},\"x\":{\"field\":\"date_recovered\"},\"y\":{\"field\":\"cumulative_recovered\"}},\"id\":\"5571\",\"type\":\"Circle\"},{\"attributes\":{\"source\":{\"id\":\"4984\"}},\"id\":\"5083\",\"type\":\"CDSView\"},{\"attributes\":{},\"id\":\"5103\",\"type\":\"UnionRenderers\"},{\"attributes\":{},\"id\":\"5494\",\"type\":\"Selection\"},{\"attributes\":{\"callback\":null,\"renderers\":[{\"id\":\"5082\"}],\"tooltips\":[[\"Cases\",\"@cumulative_recovered\"]]},\"id\":\"5618\",\"type\":\"HoverTool\"},{\"attributes\":{},\"id\":\"5313\",\"type\":\"UnionRenderers\"},{\"attributes\":{\"data_source\":{\"id\":\"4984\"},\"glyph\":{\"id\":\"5080\"},\"hover_glyph\":null,\"muted_glyph\":null,\"nonselection_glyph\":{\"id\":\"5081\"},\"selection_glyph\":null,\"view\":{\"id\":\"5083\"}},\"id\":\"5082\",\"type\":\"GlyphRenderer\"},{\"attributes\":{\"callback\":null,\"renderers\":[{\"id\":\"5242\"}],\"tooltips\":[[\"Cases\",\"@cumulative_recovered\"]]},\"id\":\"5628\",\"type\":\"HoverTool\"},{\"attributes\":{\"line_color\":\"rgb(31, 119, 180)\",\"line_width\":2,\"x\":{\"field\":\"date_recovered\"},\"y\":{\"field\":\"cumulative_recovered\"}},\"id\":\"5029\",\"type\":\"Line\"},{\"attributes\":{\"line_alpha\":0.1,\"line_color\":\"rgb(148, 103, 189)\",\"line_width\":2,\"x\":{\"field\":\"date_recovered\"},\"y\":{\"field\":\"cumulative_recovered\"}},\"id\":\"5279\",\"type\":\"Line\"},{\"attributes\":{\"fill_alpha\":{\"value\":0.1},\"fill_color\":{\"value\":\"rgb(214, 39, 40)\"},\"line_alpha\":{\"value\":0.1},\"line_color\":{\"value\":\"rgb(214, 39, 40)\"},\"line_width\":{\"value\":2},\"x\":{\"field\":\"date_recovered\"},\"y\":{\"field\":\"cumulative_recovered\"}},\"id\":\"5576\",\"type\":\"Circle\"},{\"attributes\":{\"bottom_units\":\"screen\",\"fill_alpha\":0.5,\"fill_color\":\"lightgrey\",\"left_units\":\"screen\",\"level\":\"overlay\",\"line_alpha\":1.0,\"line_color\":\"black\",\"line_dash\":[4,4],\"line_width\":2,\"render_mode\":\"css\",\"right_units\":\"screen\",\"top_units\":\"screen\"},\"id\":\"5020\",\"type\":\"BoxAnnotation\"},{\"attributes\":{\"background_fill_color\":\"#fafafa\",\"below\":[{\"id\":\"5006\"}],\"center\":[{\"id\":\"5009\"},{\"id\":\"5013\"},{\"id\":\"5051\"}],\"left\":[{\"id\":\"5010\"}],\"plot_width\":900,\"renderers\":[{\"id\":\"5031\"},{\"id\":\"5056\"},{\"id\":\"5082\"},{\"id\":\"5110\"},{\"id\":\"5140\"},{\"id\":\"5172\"},{\"id\":\"5206\"},{\"id\":\"5242\"},{\"id\":\"5280\"},{\"id\":\"5320\"},{\"id\":\"5362\"},{\"id\":\"5406\"},{\"id\":\"5452\"},{\"id\":\"5499\"},{\"id\":\"5547\"},{\"id\":\"5552\"},{\"id\":\"5557\"},{\"id\":\"5562\"},{\"id\":\"5567\"},{\"id\":\"5572\"},{\"id\":\"5577\"},{\"id\":\"5582\"},{\"id\":\"5587\"},{\"id\":\"5592\"},{\"id\":\"5597\"},{\"id\":\"5602\"},{\"id\":\"5607\"},{\"id\":\"5612\"}],\"title\":{\"id\":\"4996\"},\"toolbar\":{\"id\":\"5021\"},\"x_range\":{\"id\":\"4998\"},\"x_scale\":{\"id\":\"5002\"},\"y_range\":{\"id\":\"5000\"},\"y_scale\":{\"id\":\"5004\"}},\"id\":\"4995\",\"subtype\":\"Figure\",\"type\":\"Plot\"},{\"attributes\":{\"line_color\":\"rgb(174, 199, 232)\",\"line_width\":2,\"x\":{\"field\":\"date_recovered\"},\"y\":{\"field\":\"cumulative_recovered\"}},\"id\":\"5054\",\"type\":\"Line\"},{\"attributes\":{\"source\":{\"id\":\"4983\"}},\"id\":\"5057\",\"type\":\"CDSView\"},{\"attributes\":{\"source\":{\"id\":\"4990\"}},\"id\":\"5281\",\"type\":\"CDSView\"},{\"attributes\":{\"source\":{\"id\":\"4987\"}},\"id\":\"5573\",\"type\":\"CDSView\"},{\"attributes\":{\"data_source\":{\"id\":\"4990\"},\"glyph\":{\"id\":\"5278\"},\"hover_glyph\":null,\"muted_glyph\":null,\"nonselection_glyph\":{\"id\":\"5279\"},\"selection_glyph\":null,\"view\":{\"id\":\"5281\"}},\"id\":\"5280\",\"type\":\"GlyphRenderer\"},{\"attributes\":{\"data_source\":{\"id\":\"4987\"},\"glyph\":{\"id\":\"5570\"},\"hover_glyph\":null,\"muted_glyph\":null,\"nonselection_glyph\":{\"id\":\"5571\"},\"selection_glyph\":null,\"view\":{\"id\":\"5573\"}},\"id\":\"5572\",\"type\":\"GlyphRenderer\"},{\"attributes\":{\"callback\":null,\"renderers\":[{\"id\":\"5110\"}],\"tooltips\":[[\"Cases\",\"@cumulative_recovered\"]]},\"id\":\"5620\",\"type\":\"HoverTool\"},{\"attributes\":{\"text\":\"Number of Recovered Case Over Time\"},\"id\":\"4996\",\"type\":\"Title\"},{\"attributes\":{\"fill_color\":{\"value\":\"rgb(255, 152, 150)\"},\"line_color\":{\"value\":\"rgb(255, 152, 150)\"},\"line_width\":{\"value\":2},\"x\":{\"field\":\"date_recovered\"},\"y\":{\"field\":\"cumulative_recovered\"}},\"id\":\"5580\",\"type\":\"Circle\"},{\"attributes\":{\"mantissas\":[1,2,5],\"max_interval\":500.0,\"num_minor_ticks\":0},\"id\":\"5038\",\"type\":\"AdaptiveTicker\"},{\"attributes\":{},\"id\":\"5104\",\"type\":\"Selection\"},{\"attributes\":{},\"id\":\"4998\",\"type\":\"DataRange1d\"},{\"attributes\":{\"line_color\":\"rgb(255, 127, 14)\",\"line_width\":2,\"x\":{\"field\":\"date_recovered\"},\"y\":{\"field\":\"cumulative_recovered\"}},\"id\":\"5080\",\"type\":\"Line\"},{\"attributes\":{},\"id\":\"5002\",\"type\":\"LinearScale\"},{\"attributes\":{},\"id\":\"5034\",\"type\":\"DatetimeTickFormatter\"},{\"attributes\":{\"callback\":null,\"renderers\":[{\"id\":\"5056\"}],\"tooltips\":[[\"Cases\",\"@cumulative_recovered\"]]},\"id\":\"5616\",\"type\":\"HoverTool\"},{\"attributes\":{\"label\":{\"value\":\"Ontario\"},\"renderers\":[{\"id\":\"5280\"}]},\"id\":\"5316\",\"type\":\"LegendItem\"},{\"attributes\":{},\"id\":\"5036\",\"type\":\"BasicTickFormatter\"},{\"attributes\":{\"fill_alpha\":{\"value\":0.1},\"fill_color\":{\"value\":\"rgb(255, 152, 150)\"},\"line_alpha\":{\"value\":0.1},\"line_color\":{\"value\":\"rgb(255, 152, 150)\"},\"line_width\":{\"value\":2},\"x\":{\"field\":\"date_recovered\"},\"y\":{\"field\":\"cumulative_recovered\"}},\"id\":\"5581\",\"type\":\"Circle\"},{\"attributes\":{\"end\":420,\"start\":1},\"id\":\"5000\",\"type\":\"Range1d\"},{\"attributes\":{},\"id\":\"5493\",\"type\":\"UnionRenderers\"},{\"attributes\":{\"source\":{\"id\":\"4988\"}},\"id\":\"5578\",\"type\":\"CDSView\"},{\"attributes\":{},\"id\":\"5355\",\"type\":\"UnionRenderers\"},{\"attributes\":{\"data_source\":{\"id\":\"4988\"},\"glyph\":{\"id\":\"5575\"},\"hover_glyph\":null,\"muted_glyph\":null,\"nonselection_glyph\":{\"id\":\"5576\"},\"selection_glyph\":null,\"view\":{\"id\":\"5578\"}},\"id\":\"5577\",\"type\":\"GlyphRenderer\"},{\"attributes\":{},\"id\":\"5314\",\"type\":\"Selection\"},{\"attributes\":{\"base\":24,\"mantissas\":[1,2,4,6,8,12],\"max_interval\":43200000.0,\"min_interval\":3600000.0,\"num_minor_ticks\":0},\"id\":\"5040\",\"type\":\"AdaptiveTicker\"},{\"attributes\":{\"data_source\":{\"id\":\"4991\"},\"glyph\":{\"id\":\"5318\"},\"hover_glyph\":null,\"muted_glyph\":null,\"nonselection_glyph\":{\"id\":\"5319\"},\"selection_glyph\":null,\"view\":{\"id\":\"5321\"}},\"id\":\"5320\",\"type\":\"GlyphRenderer\"},{\"attributes\":{},\"id\":\"5004\",\"type\":\"LinearScale\"},{\"attributes\":{\"fill_color\":{\"value\":\"rgb(148, 103, 189)\"},\"line_color\":{\"value\":\"rgb(148, 103, 189)\"},\"line_width\":{\"value\":2},\"x\":{\"field\":\"date_recovered\"},\"y\":{\"field\":\"cumulative_recovered\"}},\"id\":\"5585\",\"type\":\"Circle\"},{\"attributes\":{\"base\":60,\"mantissas\":[1,2,5,10,15,20,30],\"max_interval\":1800000.0,\"min_interval\":1000.0,\"num_minor_ticks\":0},\"id\":\"5039\",\"type\":\"AdaptiveTicker\"},{\"attributes\":{\"days\":[1,4,7,10,13,16,19,22,25,28]},\"id\":\"5042\",\"type\":\"DaysTicker\"},{\"attributes\":{\"axis_label\":\"Date\",\"formatter\":{\"id\":\"5034\"},\"ticker\":{\"id\":\"5007\"}},\"id\":\"5006\",\"type\":\"DatetimeAxis\"},{\"attributes\":{\"line_alpha\":0.1,\"line_color\":\"rgb(197, 176, 213)\",\"line_width\":2,\"x\":{\"field\":\"date_recovered\"},\"y\":{\"field\":\"cumulative_recovered\"}},\"id\":\"5319\",\"type\":\"Line\"},{\"attributes\":{\"callback\":null,\"renderers\":[{\"id\":\"5031\"}],\"tooltips\":[[\"Cases\",\"@cumulative_recovered\"]]},\"id\":\"5614\",\"type\":\"HoverTool\"},{\"attributes\":{\"axis\":{\"id\":\"5010\"},\"dimension\":1,\"ticker\":null},\"id\":\"5013\",\"type\":\"Grid\"},{\"attributes\":{\"num_minor_ticks\":5,\"tickers\":[{\"id\":\"5038\"},{\"id\":\"5039\"},{\"id\":\"5040\"},{\"id\":\"5041\"},{\"id\":\"5042\"},{\"id\":\"5043\"},{\"id\":\"5044\"},{\"id\":\"5045\"},{\"id\":\"5046\"},{\"id\":\"5047\"},{\"id\":\"5048\"},{\"id\":\"5049\"}]},\"id\":\"5007\",\"type\":\"DatetimeTicker\"},{\"attributes\":{\"line_color\":\"rgb(197, 176, 213)\",\"line_width\":2,\"x\":{\"field\":\"date_recovered\"},\"y\":{\"field\":\"cumulative_recovered\"}},\"id\":\"5318\",\"type\":\"Line\"},{\"attributes\":{\"source\":{\"id\":\"4991\"}},\"id\":\"5321\",\"type\":\"CDSView\"},{\"attributes\":{\"fill_alpha\":{\"value\":0.1},\"fill_color\":{\"value\":\"rgb(148, 103, 189)\"},\"line_alpha\":{\"value\":0.1},\"line_color\":{\"value\":\"rgb(148, 103, 189)\"},\"line_width\":{\"value\":2},\"x\":{\"field\":\"date_recovered\"},\"y\":{\"field\":\"cumulative_recovered\"}},\"id\":\"5586\",\"type\":\"Circle\"},{\"attributes\":{\"data\":{\"cumulative_recovered\":{\"__ndarray__\":\"AAAAAAAAAAAAAAAAAAAAAAAAAAAAAAAAAAAAAAAAAAAAAAAAAAAAAAAAAAAAAAAAAAAAAAAAAAAAAAAAAADwPwAAAAAAAPA/AAAAAAAA8D8AAAAAAADwPwAAAAAAAPA/AAAAAAAA8D8AAAAAAAAQQAAAAAAAABBAAAAAAAAAEEAAAAAAAAAQQAAAAAAAABBAAAAAAAAAEEAAAAAAAAAQQAAAAAAAABBAAAAAAAAAEEAAAAAAAAAQQAAAAAAAABBAAAAAAAAAEEAAAAAAAAAQQAAAAAAAABBAAAAAAAAAEEAAAAAAAAAQQAAAAAAAABBAAAAAAAAAFEAAAAAAAAAUQAAAAAAAABRAAAAAAAAAFEAAAAAAAAAUQAAAAAAAABRAAAAAAAAAFEAAAAAAAAAYQAAAAAAAABhAAAAAAAAAGEAAAAAAAABZQAAAAAAAoGVAAAAAAADgZkAAAAAAAEBnQAAAAAAAMHFAAAAAAADAeEAAAAAAAMB4QA==\",\"dtype\":\"float64\",\"shape\":[47]},\"date_recovered\":{\"__ndarray__\":\"AAAAIGsDd0IAAMCFvQN3QgAAgOsPBHdCAABAUWIEd0IAAAC3tAR3QgAAwBwHBXdCAACAglkFd0IAAEDoqwV3QgAAAE7+BXdCAADAs1AGd0IAAIAZowZ3QgAAQH/1BndCAAAA5UcHd0IAAMBKmgd3QgAAgLDsB3dCAABAFj8Id0IAAAB8kQh3QgAAwOHjCHdCAACARzYJd0IAAECtiAl3QgAAABPbCXdCAADAeC0Kd0IAAIDefwp3QgAAQETSCndCAAAAqiQLd0IAAMAPdwt3QgAAgHXJC3dCAABA2xsMd0IAAABBbgx3QgAAwKbADHdCAACADBMNd0IAAEByZQ13QgAAANi3DXdCAADAPQoOd0IAAICjXA53QgAAQAmvDndCAAAAbwEPd0IAAMDUUw93QgAAgDqmD3dCAABAoPgPd0IAAAAGSxB3QgAAwGudEHdCAACA0e8Qd0IAAEA3QhF3QgAAAJ2UEXdCAADAAucRd0IAAIBoORJ3Qg==\",\"dtype\":\"float64\",\"shape\":[47]},\"index\":[93,92,91,90,89,88,87,86,85,84,83,82,81,80,79,78,77,76,75,74,73,72,71,70,69,68,67,66,65,64,63,62,61,60,59,58,57,56,55,54,53,52,51,50,49,48,47],\"province\":[\"BC\",\"BC\",\"BC\",\"BC\",\"BC\",\"BC\",\"BC\",\"BC\",\"BC\",\"BC\",\"BC\",\"BC\",\"BC\",\"BC\",\"BC\",\"BC\",\"BC\",\"BC\",\"BC\",\"BC\",\"BC\",\"BC\",\"BC\",\"BC\",\"BC\",\"BC\",\"BC\",\"BC\",\"BC\",\"BC\",\"BC\",\"BC\",\"BC\",\"BC\",\"BC\",\"BC\",\"BC\",\"BC\",\"BC\",\"BC\",\"BC\",\"BC\",\"BC\",\"BC\",\"BC\",\"BC\",\"BC\"]},\"selected\":{\"id\":\"5104\"},\"selection_policy\":{\"id\":\"5103\"}},\"id\":\"4983\",\"type\":\"ColumnDataSource\"},{\"attributes\":{\"source\":{\"id\":\"4982\"}},\"id\":\"5032\",\"type\":\"CDSView\"},{\"attributes\":{\"axis\":{\"id\":\"5006\"},\"ticker\":null},\"id\":\"5009\",\"type\":\"Grid\"},{\"attributes\":{\"days\":[1,2,3,4,5,6,7,8,9,10,11,12,13,14,15,16,17,18,19,20,21,22,23,24,25,26,27,28,29,30,31]},\"id\":\"5041\",\"type\":\"DaysTicker\"},{\"attributes\":{\"line_color\":\"rgb(196, 156, 148)\",\"line_width\":2,\"x\":{\"field\":\"date_recovered\"},\"y\":{\"field\":\"cumulative_recovered\"}},\"id\":\"5404\",\"type\":\"Line\"},{\"attributes\":{\"source\":{\"id\":\"4989\"}},\"id\":\"5583\",\"type\":\"CDSView\"},{\"attributes\":{\"label\":{\"value\":\"NWT\"},\"renderers\":[{\"id\":\"5140\"}]},\"id\":\"5168\",\"type\":\"LegendItem\"},{\"attributes\":{\"data_source\":{\"id\":\"4989\"},\"glyph\":{\"id\":\"5580\"},\"hover_glyph\":null,\"muted_glyph\":null,\"nonselection_glyph\":{\"id\":\"5581\"},\"selection_glyph\":null,\"view\":{\"id\":\"5583\"}},\"id\":\"5582\",\"type\":\"GlyphRenderer\"},{\"attributes\":{},\"id\":\"5011\",\"type\":\"BasicTicker\"},{\"attributes\":{\"axis_label\":\"Number of cumulative Recovered Case\",\"formatter\":{\"id\":\"5036\"},\"ticker\":{\"id\":\"5011\"}},\"id\":\"5010\",\"type\":\"LinearAxis\"},{\"attributes\":{},\"id\":\"5356\",\"type\":\"Selection\"},{\"attributes\":{\"fill_color\":{\"value\":\"rgb(197, 176, 213)\"},\"line_color\":{\"value\":\"rgb(197, 176, 213)\"},\"line_width\":{\"value\":2},\"x\":{\"field\":\"date_recovered\"},\"y\":{\"field\":\"cumulative_recovered\"}},\"id\":\"5590\",\"type\":\"Circle\"},{\"attributes\":{\"label\":{\"value\":\"PEI\"},\"renderers\":[{\"id\":\"5320\"}]},\"id\":\"5358\",\"type\":\"LegendItem\"},{\"attributes\":{\"days\":[1,8,15,22]},\"id\":\"5043\",\"type\":\"DaysTicker\"},{\"attributes\":{},\"id\":\"5076\",\"type\":\"Selection\"},{\"attributes\":{\"items\":[{\"id\":\"5052\"},{\"id\":\"5078\"},{\"id\":\"5106\"},{\"id\":\"5136\"},{\"id\":\"5168\"},{\"id\":\"5202\"},{\"id\":\"5238\"},{\"id\":\"5276\"},{\"id\":\"5316\"},{\"id\":\"5358\"},{\"id\":\"5402\"},{\"id\":\"5448\"},{\"id\":\"5543\"}],\"location\":\"top_left\"},\"id\":\"5051\",\"type\":\"Legend\"},{\"attributes\":{\"days\":[1,15]},\"id\":\"5044\",\"type\":\"DaysTicker\"},{\"attributes\":{\"line_alpha\":0.1,\"line_color\":\"rgb(31, 119, 180)\",\"line_width\":2,\"x\":{\"field\":\"date_recovered\"},\"y\":{\"field\":\"cumulative_recovered\"}},\"id\":\"5030\",\"type\":\"Line\"},{\"attributes\":{\"fill_color\":{\"value\":\"rgb(31, 119, 180)\"},\"line_color\":{\"value\":\"rgb(31, 119, 180)\"},\"line_width\":{\"value\":2},\"x\":{\"field\":\"date_recovered\"},\"y\":{\"field\":\"cumulative_recovered\"}},\"id\":\"5545\",\"type\":\"Circle\"},{\"attributes\":{\"data_source\":{\"id\":\"4982\"},\"glyph\":{\"id\":\"5029\"},\"hover_glyph\":null,\"muted_glyph\":null,\"nonselection_glyph\":{\"id\":\"5030\"},\"selection_glyph\":null,\"view\":{\"id\":\"5032\"}},\"id\":\"5031\",\"type\":\"GlyphRenderer\"},{\"attributes\":{\"data\":{\"cumulative_recovered\":{\"__ndarray__\":\"AAAAAAAAAAAAAAAAAAAAAAAAAAAAAAAAAAAAAAAAAAAAAAAAAAAAAAAAAAAAAAAAAAAAAAAAAAAAAAAAAAAAAAAAAAAAAAAAAAAAAAAAAAAAAAAAAAAAAAAAAAAAAAAAAAAAAAAAAAAAAAAAAAAAAAAAAAAAAAAAAAAAAAAAAAAAAAAAAAAAAAAAAAAAAAAAAAAAAAAAAAAAAAAAAAAAAAAAAAAAAAAAAAAAAAAAAAAAAAAAAAAAAAAAAAAAAAAAAAAAAAAAAAAAAAAAAAAAAAAAAAAAAAAAAAAAAAAAAAAAAAAAAAAAAAAAAAAAAAAAAAAAAAAAAAAAAAAAAAAAAAAAAAAAAAAAAAAAAAAAAAAAAAAAAAAAAAAAAAAAAAAAAAAAAAAAAAAAAAAAAAAAAAAAAAAAAAAAAAAAAAAAAAAAAAAAAAAAAAAAAAAAAAAAAAAAAAAAAAAAAAAAAAAAAAAAAAAAAAAAAAAAAAAAAAAAAAAAAAAAQA==\",\"dtype\":\"float64\",\"shape\":[47]},\"date_recovered\":{\"__ndarray__\":\"AAAAIGsDd0IAAMCFvQN3QgAAgOsPBHdCAABAUWIEd0IAAAC3tAR3QgAAwBwHBXdCAACAglkFd0IAAEDoqwV3QgAAAE7+BXdCAADAs1AGd0IAAIAZowZ3QgAAQH/1BndCAAAA5UcHd0IAAMBKmgd3QgAAgLDsB3dCAABAFj8Id0IAAAB8kQh3QgAAwOHjCHdCAACARzYJd0IAAECtiAl3QgAAABPbCXdCAADAeC0Kd0IAAIDefwp3QgAAQETSCndCAAAAqiQLd0IAAMAPdwt3QgAAgHXJC3dCAABA2xsMd0IAAABBbgx3QgAAwKbADHdCAACADBMNd0IAAEByZQ13QgAAANi3DXdCAADAPQoOd0IAAICjXA53QgAAQAmvDndCAAAAbwEPd0IAAMDUUw93QgAAgDqmD3dCAABAoPgPd0IAAAAGSxB3QgAAwGudEHdCAACA0e8Qd0IAAEA3QhF3QgAAAJ2UEXdCAADAAucRd0IAAIBoORJ3Qg==\",\"dtype\":\"float64\",\"shape\":[47]},\"index\":[140,139,138,137,136,135,134,133,132,131,130,129,128,127,126,125,124,123,122,121,120,119,118,117,116,115,114,113,112,111,110,109,108,107,106,105,104,103,102,101,100,99,98,97,96,95,94],\"province\":[\"Manitoba\",\"Manitoba\",\"Manitoba\",\"Manitoba\",\"Manitoba\",\"Manitoba\",\"Manitoba\",\"Manitoba\",\"Manitoba\",\"Manitoba\",\"Manitoba\",\"Manitoba\",\"Manitoba\",\"Manitoba\",\"Manitoba\",\"Manitoba\",\"Manitoba\",\"Manitoba\",\"Manitoba\",\"Manitoba\",\"Manitoba\",\"Manitoba\",\"Manitoba\",\"Manitoba\",\"Manitoba\",\"Manitoba\",\"Manitoba\",\"Manitoba\",\"Manitoba\",\"Manitoba\",\"Manitoba\",\"Manitoba\",\"Manitoba\",\"Manitoba\",\"Manitoba\",\"Manitoba\",\"Manitoba\",\"Manitoba\",\"Manitoba\",\"Manitoba\",\"Manitoba\",\"Manitoba\",\"Manitoba\",\"Manitoba\",\"Manitoba\",\"Manitoba\",\"Manitoba\"]},\"selected\":{\"id\":\"5134\"},\"selection_policy\":{\"id\":\"5133\"}},\"id\":\"4984\",\"type\":\"ColumnDataSource\"},{\"attributes\":{\"fill_alpha\":{\"value\":0.1},\"fill_color\":{\"value\":\"rgb(197, 176, 213)\"},\"line_alpha\":{\"value\":0.1},\"line_color\":{\"value\":\"rgb(197, 176, 213)\"},\"line_width\":{\"value\":2},\"x\":{\"field\":\"date_recovered\"},\"y\":{\"field\":\"cumulative_recovered\"}},\"id\":\"5591\",\"type\":\"Circle\"},{\"attributes\":{\"months\":[0,1,2,3,4,5,6,7,8,9,10,11]},\"id\":\"5045\",\"type\":\"MonthsTicker\"},{\"attributes\":{\"source\":{\"id\":\"4992\"}},\"id\":\"5363\",\"type\":\"CDSView\"},{\"attributes\":{},\"id\":\"5075\",\"type\":\"UnionRenderers\"},{\"attributes\":{},\"id\":\"5399\",\"type\":\"UnionRenderers\"},{\"attributes\":{\"data_source\":{\"id\":\"4992\"},\"glyph\":{\"id\":\"5360\"},\"hover_glyph\":null,\"muted_glyph\":null,\"nonselection_glyph\":{\"id\":\"5361\"},\"selection_glyph\":null,\"view\":{\"id\":\"5363\"}},\"id\":\"5362\",\"type\":\"GlyphRenderer\"},{\"attributes\":{\"active_drag\":\"auto\",\"active_inspect\":\"auto\",\"active_multi\":null,\"active_scroll\":\"auto\",\"active_tap\":\"auto\",\"tools\":[{\"id\":\"5014\"},{\"id\":\"5015\"},{\"id\":\"5016\"},{\"id\":\"5017\"},{\"id\":\"5018\"},{\"id\":\"5019\"},{\"id\":\"5614\"},{\"id\":\"5616\"},{\"id\":\"5618\"},{\"id\":\"5620\"},{\"id\":\"5622\"},{\"id\":\"5624\"},{\"id\":\"5626\"},{\"id\":\"5628\"},{\"id\":\"5630\"},{\"id\":\"5632\"},{\"id\":\"5634\"},{\"id\":\"5636\"},{\"id\":\"5638\"},{\"id\":\"5640\"}]},\"id\":\"5021\",\"type\":\"Toolbar\"},{\"attributes\":{\"months\":[0,2,4,6,8,10]},\"id\":\"5046\",\"type\":\"MonthsTicker\"},{\"attributes\":{\"source\":{\"id\":\"4990\"}},\"id\":\"5588\",\"type\":\"CDSView\"},{\"attributes\":{\"data_source\":{\"id\":\"4990\"},\"glyph\":{\"id\":\"5585\"},\"hover_glyph\":null,\"muted_glyph\":null,\"nonselection_glyph\":{\"id\":\"5586\"},\"selection_glyph\":null,\"view\":{\"id\":\"5588\"}},\"id\":\"5587\",\"type\":\"GlyphRenderer\"},{\"attributes\":{\"months\":[0,4,8]},\"id\":\"5047\",\"type\":\"MonthsTicker\"},{\"attributes\":{},\"id\":\"5014\",\"type\":\"PanTool\"},{\"attributes\":{\"line_alpha\":0.1,\"line_color\":\"rgb(140, 86, 75)\",\"line_width\":2,\"x\":{\"field\":\"date_recovered\"},\"y\":{\"field\":\"cumulative_recovered\"}},\"id\":\"5361\",\"type\":\"Line\"},{\"attributes\":{\"fill_color\":{\"value\":\"rgb(140, 86, 75)\"},\"line_color\":{\"value\":\"rgb(140, 86, 75)\"},\"line_width\":{\"value\":2},\"x\":{\"field\":\"date_recovered\"},\"y\":{\"field\":\"cumulative_recovered\"}},\"id\":\"5595\",\"type\":\"Circle\"},{\"attributes\":{\"months\":[0,6]},\"id\":\"5048\",\"type\":\"MonthsTicker\"},{\"attributes\":{\"source\":{\"id\":\"4989\"}},\"id\":\"5243\",\"type\":\"CDSView\"},{\"attributes\":{},\"id\":\"5015\",\"type\":\"WheelZoomTool\"},{\"attributes\":{\"source\":{\"id\":\"4994\"}},\"id\":\"5613\",\"type\":\"CDSView\"},{\"attributes\":{},\"id\":\"5049\",\"type\":\"YearsTicker\"},{\"attributes\":{\"line_color\":\"rgb(227, 119, 194)\",\"line_width\":2,\"x\":{\"field\":\"date_recovered\"},\"y\":{\"field\":\"cumulative_recovered\"}},\"id\":\"5450\",\"type\":\"Line\"},{\"attributes\":{\"label\":{\"value\":\"Alberta\"},\"renderers\":[{\"id\":\"5031\"}]},\"id\":\"5052\",\"type\":\"LegendItem\"},{\"attributes\":{\"overlay\":{\"id\":\"5020\"}},\"id\":\"5016\",\"type\":\"BoxZoomTool\"},{\"attributes\":{\"fill_alpha\":{\"value\":0.1},\"fill_color\":{\"value\":\"rgb(140, 86, 75)\"},\"line_alpha\":{\"value\":0.1},\"line_color\":{\"value\":\"rgb(140, 86, 75)\"},\"line_width\":{\"value\":2},\"x\":{\"field\":\"date_recovered\"},\"y\":{\"field\":\"cumulative_recovered\"}},\"id\":\"5596\",\"type\":\"Circle\"},{\"attributes\":{},\"id\":\"5017\",\"type\":\"SaveTool\"},{\"attributes\":{},\"id\":\"5400\",\"type\":\"Selection\"},{\"attributes\":{\"line_color\":\"rgb(44, 160, 44)\",\"line_width\":2,\"x\":{\"field\":\"date_recovered\"},\"y\":{\"field\":\"cumulative_recovered\"}},\"id\":\"5138\",\"type\":\"Line\"},{\"attributes\":{\"label\":{\"value\":\"Quebec\"},\"renderers\":[{\"id\":\"5362\"}]},\"id\":\"5402\",\"type\":\"LegendItem\"},{\"attributes\":{\"line_alpha\":0.1,\"line_color\":\"rgb(174, 199, 232)\",\"line_width\":2,\"x\":{\"field\":\"date_recovered\"},\"y\":{\"field\":\"cumulative_recovered\"}},\"id\":\"5055\",\"type\":\"Line\"},{\"attributes\":{\"source\":{\"id\":\"4991\"}},\"id\":\"5593\",\"type\":\"CDSView\"},{\"attributes\":{},\"id\":\"5018\",\"type\":\"ResetTool\"},{\"attributes\":{\"data_source\":{\"id\":\"4991\"},\"glyph\":{\"id\":\"5590\"},\"hover_glyph\":null,\"muted_glyph\":null,\"nonselection_glyph\":{\"id\":\"5591\"},\"selection_glyph\":null,\"view\":{\"id\":\"5593\"}},\"id\":\"5592\",\"type\":\"GlyphRenderer\"},{\"attributes\":{\"fill_color\":{\"value\":\"rgb(196, 156, 148)\"},\"line_color\":{\"value\":\"rgb(196, 156, 148)\"},\"line_width\":{\"value\":2},\"x\":{\"field\":\"date_recovered\"},\"y\":{\"field\":\"cumulative_recovered\"}},\"id\":\"5600\",\"type\":\"Circle\"},{\"attributes\":{},\"id\":\"5019\",\"type\":\"HelpTool\"},{\"attributes\":{},\"id\":\"5445\",\"type\":\"UnionRenderers\"},{\"attributes\":{\"data_source\":{\"id\":\"4983\"},\"glyph\":{\"id\":\"5054\"},\"hover_glyph\":null,\"muted_glyph\":null,\"nonselection_glyph\":{\"id\":\"5055\"},\"selection_glyph\":null,\"view\":{\"id\":\"5057\"}},\"id\":\"5056\",\"type\":\"GlyphRenderer\"},{\"attributes\":{\"line_alpha\":0.1,\"line_color\":\"rgb(196, 156, 148)\",\"line_width\":2,\"x\":{\"field\":\"date_recovered\"},\"y\":{\"field\":\"cumulative_recovered\"}},\"id\":\"5405\",\"type\":\"Line\"},{\"attributes\":{\"data_source\":{\"id\":\"4993\"},\"glyph\":{\"id\":\"5404\"},\"hover_glyph\":null,\"muted_glyph\":null,\"nonselection_glyph\":{\"id\":\"5405\"},\"selection_glyph\":null,\"view\":{\"id\":\"5407\"}},\"id\":\"5406\",\"type\":\"GlyphRenderer\"},{\"attributes\":{\"data_source\":{\"id\":\"4994\"},\"glyph\":{\"id\":\"5610\"},\"hover_glyph\":null,\"muted_glyph\":null,\"nonselection_glyph\":{\"id\":\"5611\"},\"selection_glyph\":null,\"view\":{\"id\":\"5613\"}},\"id\":\"5612\",\"type\":\"GlyphRenderer\"},{\"attributes\":{\"line_color\":\"rgb(247, 182, 210)\",\"line_width\":2,\"x\":{\"field\":\"date_recovered\"},\"y\":{\"field\":\"cumulative_recovered\"}},\"id\":\"5497\",\"type\":\"Line\"},{\"attributes\":{\"label\":{\"value\":\"BC\"},\"renderers\":[{\"id\":\"5056\"}]},\"id\":\"5078\",\"type\":\"LegendItem\"},{\"attributes\":{\"label\":{\"value\":\"Nunavut\"},\"renderers\":[{\"id\":\"5242\"}]},\"id\":\"5276\",\"type\":\"LegendItem\"},{\"attributes\":{\"line_color\":\"rgb(255, 187, 120)\",\"line_width\":2,\"x\":{\"field\":\"date_recovered\"},\"y\":{\"field\":\"cumulative_recovered\"}},\"id\":\"5108\",\"type\":\"Line\"},{\"attributes\":{\"data\":{\"cumulative_recovered\":{\"__ndarray__\":\"AAAAAAAAAAAAAAAAAAAAAAAAAAAAAAAAAAAAAAAAAAAAAAAAAAAAAAAAAAAAAAAAAAAAAAAAAAAAAAAAAAAAAAAAAAAAAAAAAAAAAAAAAAAAAAAAAAAAAAAAAAAAAAAAAAAAAAAAAAAAAAAAAAAAAAAAAAAAAAAAAAAAAAAAAAAAAAAAAAAAAAAAAAAAAAAAAAAAAAAAAAAAAAAAAAAAAAAAAAAAAAAAAAAAAAAAAAAAAAAAAAAAAAAAAAAAAAAAAAAAAAAAAAAAAAAAAAAAAAAAAAAAAAAAAAAAAAAAAAAAAAAAAAAAAAAAAAAAAAAAAAAAAAAAAAAAAAAAAAAAAAAAAAAAAAAAAAAAAAAAAAAAAAAAAAAAAAAAAAAAAPA/AAAAAAAA8D8AAAAAAADwPwAAAAAAAPA/AAAAAAAA8D8AAAAAAADwPwAAAAAAAPA/AAAAAAAA8D8AAAAAAADwPwAAAAAAAD1AAAAAAAAAPUAAAAAAAAA9QA==\",\"dtype\":\"float64\",\"shape\":[47]},\"date_recovered\":{\"__ndarray__\":\"AAAAIGsDd0IAAMCFvQN3QgAAgOsPBHdCAABAUWIEd0IAAAC3tAR3QgAAwBwHBXdCAACAglkFd0IAAEDoqwV3QgAAAE7+BXdCAADAs1AGd0IAAIAZowZ3QgAAQH/1BndCAAAA5UcHd0IAAMBKmgd3QgAAgLDsB3dCAABAFj8Id0IAAAB8kQh3QgAAwOHjCHdCAACARzYJd0IAAECtiAl3QgAAABPbCXdCAADAeC0Kd0IAAIDefwp3QgAAQETSCndCAAAAqiQLd0IAAMAPdwt3QgAAgHXJC3dCAABA2xsMd0IAAABBbgx3QgAAwKbADHdCAACADBMNd0IAAEByZQ13QgAAANi3DXdCAADAPQoOd0IAAICjXA53QgAAQAmvDndCAAAAbwEPd0IAAMDUUw93QgAAgDqmD3dCAABAoPgPd0IAAAAGSxB3QgAAwGudEHdCAACA0e8Qd0IAAEA3QhF3QgAAAJ2UEXdCAADAAucRd0IAAIBoORJ3Qg==\",\"dtype\":\"float64\",\"shape\":[47]},\"index\":[422,421,420,419,418,417,416,415,414,413,412,411,410,409,408,407,406,405,404,403,402,401,400,399,398,397,396,395,394,393,392,391,390,389,388,387,386,385,384,383,382,381,380,379,378,377,376],\"province\":[\"Quebec\",\"Quebec\",\"Quebec\",\"Quebec\",\"Quebec\",\"Quebec\",\"Quebec\",\"Quebec\",\"Quebec\",\"Quebec\",\"Quebec\",\"Quebec\",\"Quebec\",\"Quebec\",\"Quebec\",\"Quebec\",\"Quebec\",\"Quebec\",\"Quebec\",\"Quebec\",\"Quebec\",\"Quebec\",\"Quebec\",\"Quebec\",\"Quebec\",\"Quebec\",\"Quebec\",\"Quebec\",\"Quebec\",\"Quebec\",\"Quebec\",\"Quebec\",\"Quebec\",\"Quebec\",\"Quebec\",\"Quebec\",\"Quebec\",\"Quebec\",\"Quebec\",\"Quebec\",\"Quebec\",\"Quebec\",\"Quebec\",\"Quebec\",\"Quebec\",\"Quebec\",\"Quebec\"]},\"selected\":{\"id\":\"5446\"},\"selection_policy\":{\"id\":\"5445\"}},\"id\":\"4992\",\"type\":\"ColumnDataSource\"},{\"attributes\":{\"source\":{\"id\":\"4993\"}},\"id\":\"5407\",\"type\":\"CDSView\"},{\"attributes\":{\"label\":{\"value\":\"Manitoba\"},\"renderers\":[{\"id\":\"5082\"}]},\"id\":\"5106\",\"type\":\"LegendItem\"},{\"attributes\":{\"source\":{\"id\":\"4992\"}},\"id\":\"5598\",\"type\":\"CDSView\"},{\"attributes\":{\"data_source\":{\"id\":\"4992\"},\"glyph\":{\"id\":\"5595\"},\"hover_glyph\":null,\"muted_glyph\":null,\"nonselection_glyph\":{\"id\":\"5596\"},\"selection_glyph\":null,\"view\":{\"id\":\"5598\"}},\"id\":\"5597\",\"type\":\"GlyphRenderer\"}],\"root_ids\":[\"5643\"]},\"title\":\"Bokeh Application\",\"version\":\"2.0.1\"}};\n",
       "  var render_items = [{\"docid\":\"5019c628-533c-43b6-880b-4bc965de7d11\",\"root_ids\":[\"5643\"],\"roots\":{\"5643\":\"2103fc36-b294-44aa-ab8c-00a8dc7ad552\"}}];\n",
       "  root.Bokeh.embed.embed_items_notebook(docs_json, render_items);\n",
       "\n",
       "  }\n",
       "  if (root.Bokeh !== undefined) {\n",
       "    embed_document(root);\n",
       "  } else {\n",
       "    var attempts = 0;\n",
       "    var timer = setInterval(function(root) {\n",
       "      if (root.Bokeh !== undefined) {\n",
       "        clearInterval(timer);\n",
       "        embed_document(root);\n",
       "      } else {\n",
       "        attempts++;\n",
       "        if (attempts > 100) {\n",
       "          clearInterval(timer);\n",
       "          console.log(\"Bokeh: ERROR: Unable to run BokehJS code because BokehJS library is missing\");\n",
       "        }\n",
       "      }\n",
       "    }, 10, root)\n",
       "  }\n",
       "})(window);"
      ],
      "application/vnd.bokehjs_exec.v0+json": ""
     },
     "metadata": {
      "application/vnd.bokehjs_exec.v0+json": {
       "id": "5643"
      }
     },
     "output_type": "display_data"
    }
   ],
   "source": [
    "plot1 = figure(title = 'Number of Recovered Case Over Time', plot_width = 900, plot_height = 600,x_axis_type=\"datetime\",y_range=(1, 420),background_fill_color=\"#fafafa\")\n",
    "\n",
    "line1 = plot1.line(x = 'date_recovered' , y = 'cumulative_recovered' , width = 2, source = recovered_data['Alberta'],color = color[0],legend_label=\"Alberta\");\n",
    "line2 = plot1.line(x = 'date_recovered' , y = 'cumulative_recovered' , width = 2, source = recovered_data['BC'], color= color[1],legend_label=\"BC\");\n",
    "line3 = plot1.line(x = 'date_recovered' , y = 'cumulative_recovered' , width = 2, source = recovered_data['Manitoba'], color= color[2],legend_label=\"Manitoba\");\n",
    "line4 = plot1.line(x = 'date_recovered' , y = 'cumulative_recovered' , width = 2, source = recovered_data['NL'], color= color[3],legend_label=\"NL\");\n",
    "line5 = plot1.line(x = 'date_recovered' , y = 'cumulative_recovered' , width = 2, source = recovered_data['NWT'], color= color[4],legend_label=\"NWT\");\n",
    "line6 = plot1.line(x = 'date_recovered' , y = 'cumulative_recovered' , width = 2, source = recovered_data['New Brunswick'], color= color[5],legend_label=\"New Brunswick\");\n",
    "line7 = plot1.line(x = 'date_recovered' , y = 'cumulative_recovered' , width = 2, source = recovered_data['Nova Scotia'], color= color[6],legend_label=\"Nova Scotia\");\n",
    "line8 = plot1.line(x = 'date_recovered' , y = 'cumulative_recovered' , width = 2, source = recovered_data['Nunavut'], color= color[7],legend_label=\"Nunavut\");\n",
    "line9 = plot1.line(x = 'date_recovered' , y = 'cumulative_recovered' , width = 2, source = recovered_data['Ontario'], color= color[8],legend_label=\"Ontario\");\n",
    "line10 = plot1.line(x = 'date_recovered' , y = 'cumulative_recovered' , width = 2, source = recovered_data['PEI'], color= color[9],legend_label=\"PEI\");\n",
    "line11 = plot1.line(x = 'date_recovered' , y = 'cumulative_recovered' , width = 2, source = recovered_data['Quebec'], color= color[10],legend_label=\"Quebec\");\n",
    "line12 = plot1.line(x = 'date_recovered' , y = 'cumulative_recovered' , width = 2, source = recovered_data['Saskatchewan'], color= color[11],legend_label=\"Saskatchewan\");\n",
    "line13 = plot1.line(x = 'date_recovered' , y = 'cumulative_recovered' , width = 2, source = recovered_data['Nova Scotia'], color= color[12],legend_label=\"Nova Scotia\");\n",
    "line14 = plot1.line(x = 'date_recovered' , y = 'cumulative_recovered' , width = 2, source = recovered_data['Yukon'], color= color[13],legend_label=\"Yukon\");\n",
    "\n",
    "circle1 = plot1.circle(x = 'date_recovered' , y = 'cumulative_recovered' , width = 2, source = recovered_data['Alberta'],color = color[0]);\n",
    "circle2 = plot1.circle(x = 'date_recovered' , y = 'cumulative_recovered' , width = 2, source = recovered_data['BC'], color= color[1]);\n",
    "circle3 = plot1.circle(x = 'date_recovered' , y = 'cumulative_recovered' , width = 2, source = recovered_data['Manitoba'], color= color[2]);\n",
    "circle4 = plot1.circle(x = 'date_recovered' , y = 'cumulative_recovered' , width = 2, source = recovered_data['NL'], color= color[3]);\n",
    "circle5 = plot1.circle(x = 'date_recovered' , y = 'cumulative_recovered' , width = 2, source = recovered_data['NWT'], color= color[4]);\n",
    "circle6 = plot1.circle(x = 'date_recovered' , y = 'cumulative_recovered' , width = 2, source = recovered_data['New Brunswick'], color= color[5]);\n",
    "circle7 = plot1.circle(x = 'date_recovered' , y = 'cumulative_recovered' , width = 2, source = recovered_data['Nova Scotia'], color= color[6]);\n",
    "circle8 = plot1.circle(x = 'date_recovered' , y = 'cumulative_recovered' , width = 2, source = recovered_data['Nunavut'], color= color[7]);\n",
    "circle9 = plot1.circle(x = 'date_recovered' , y = 'cumulative_recovered' , width = 2, source = recovered_data['Ontario'], color= color[8]);\n",
    "circle10 = plot1.circle(x = 'date_recovered' , y = 'cumulative_recovered' , width = 2, source = recovered_data['PEI'], color= color[9]);\n",
    "circle11 = plot1.circle(x = 'date_recovered' , y = 'cumulative_recovered' , width = 2, source = recovered_data['Quebec'], color= color[10]);\n",
    "circle12 = plot1.circle(x = 'date_recovered' , y = 'cumulative_recovered' , width = 2, source = recovered_data['Saskatchewan'], color= color[11]);\n",
    "circle13 = plot1.circle(x = 'date_recovered' , y = 'cumulative_recovered' , width = 2, source = recovered_data['Nova Scotia'], color= color[12]);\n",
    "circle14 = plot1.circle(x = 'date_recovered' , y = 'cumulative_recovered' , width = 2, source = recovered_data['Yukon'], color= color[13]);\n",
    "\n",
    "line = [line1,line2,line3,line4,line5,line6,line7,line8,line9,line10,line11,line12,line13,line14]\n",
    "\n",
    "for i in line:\n",
    "    plot1.add_tools(HoverTool(renderers=[i], tooltips = [('Cases', '@cumulative_recovered')]))\n",
    "\n",
    "plot1.xaxis.axis_label = 'Date'\n",
    "plot1.yaxis.axis_label = 'Number of cumulative Recovered Case'\n",
    "plot1.legend.location = 'top_left'\n",
    "\n",
    "grid = layout([[plot1]]) \n",
    "\n",
    "show(grid)"
   ]
  }
 ],
 "metadata": {
  "kernelspec": {
   "display_name": "Python 3",
   "language": "python",
   "name": "python3"
  },
  "language_info": {
   "codemirror_mode": {
    "name": "ipython",
    "version": 3
   },
   "file_extension": ".py",
   "mimetype": "text/x-python",
   "name": "python",
   "nbconvert_exporter": "python",
   "pygments_lexer": "ipython3",
   "version": "3.7.4"
  }
 },
 "nbformat": 4,
 "nbformat_minor": 2
}
