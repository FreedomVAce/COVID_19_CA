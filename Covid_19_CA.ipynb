{
 "cells": [
  {
   "cell_type": "code",
   "execution_count": 1,
   "metadata": {},
   "outputs": [
    {
     "data": {
      "text/html": [
       "\n",
       "    <div class=\"bk-root\">\n",
       "        <a href=\"https://bokeh.org\" target=\"_blank\" class=\"bk-logo bk-logo-small bk-logo-notebook\"></a>\n",
       "        <span id=\"1001\">Loading BokehJS ...</span>\n",
       "    </div>"
      ]
     },
     "metadata": {},
     "output_type": "display_data"
    },
    {
     "data": {
      "application/javascript": [
       "\n",
       "(function(root) {\n",
       "  function now() {\n",
       "    return new Date();\n",
       "  }\n",
       "\n",
       "  var force = true;\n",
       "\n",
       "  if (typeof root._bokeh_onload_callbacks === \"undefined\" || force === true) {\n",
       "    root._bokeh_onload_callbacks = [];\n",
       "    root._bokeh_is_loading = undefined;\n",
       "  }\n",
       "\n",
       "  var JS_MIME_TYPE = 'application/javascript';\n",
       "  var HTML_MIME_TYPE = 'text/html';\n",
       "  var EXEC_MIME_TYPE = 'application/vnd.bokehjs_exec.v0+json';\n",
       "  var CLASS_NAME = 'output_bokeh rendered_html';\n",
       "\n",
       "  /**\n",
       "   * Render data to the DOM node\n",
       "   */\n",
       "  function render(props, node) {\n",
       "    var script = document.createElement(\"script\");\n",
       "    node.appendChild(script);\n",
       "  }\n",
       "\n",
       "  /**\n",
       "   * Handle when an output is cleared or removed\n",
       "   */\n",
       "  function handleClearOutput(event, handle) {\n",
       "    var cell = handle.cell;\n",
       "\n",
       "    var id = cell.output_area._bokeh_element_id;\n",
       "    var server_id = cell.output_area._bokeh_server_id;\n",
       "    // Clean up Bokeh references\n",
       "    if (id != null && id in Bokeh.index) {\n",
       "      Bokeh.index[id].model.document.clear();\n",
       "      delete Bokeh.index[id];\n",
       "    }\n",
       "\n",
       "    if (server_id !== undefined) {\n",
       "      // Clean up Bokeh references\n",
       "      var cmd = \"from bokeh.io.state import curstate; print(curstate().uuid_to_server['\" + server_id + \"'].get_sessions()[0].document.roots[0]._id)\";\n",
       "      cell.notebook.kernel.execute(cmd, {\n",
       "        iopub: {\n",
       "          output: function(msg) {\n",
       "            var id = msg.content.text.trim();\n",
       "            if (id in Bokeh.index) {\n",
       "              Bokeh.index[id].model.document.clear();\n",
       "              delete Bokeh.index[id];\n",
       "            }\n",
       "          }\n",
       "        }\n",
       "      });\n",
       "      // Destroy server and session\n",
       "      var cmd = \"import bokeh.io.notebook as ion; ion.destroy_server('\" + server_id + \"')\";\n",
       "      cell.notebook.kernel.execute(cmd);\n",
       "    }\n",
       "  }\n",
       "\n",
       "  /**\n",
       "   * Handle when a new output is added\n",
       "   */\n",
       "  function handleAddOutput(event, handle) {\n",
       "    var output_area = handle.output_area;\n",
       "    var output = handle.output;\n",
       "\n",
       "    // limit handleAddOutput to display_data with EXEC_MIME_TYPE content only\n",
       "    if ((output.output_type != \"display_data\") || (!output.data.hasOwnProperty(EXEC_MIME_TYPE))) {\n",
       "      return\n",
       "    }\n",
       "\n",
       "    var toinsert = output_area.element.find(\".\" + CLASS_NAME.split(' ')[0]);\n",
       "\n",
       "    if (output.metadata[EXEC_MIME_TYPE][\"id\"] !== undefined) {\n",
       "      toinsert[toinsert.length - 1].firstChild.textContent = output.data[JS_MIME_TYPE];\n",
       "      // store reference to embed id on output_area\n",
       "      output_area._bokeh_element_id = output.metadata[EXEC_MIME_TYPE][\"id\"];\n",
       "    }\n",
       "    if (output.metadata[EXEC_MIME_TYPE][\"server_id\"] !== undefined) {\n",
       "      var bk_div = document.createElement(\"div\");\n",
       "      bk_div.innerHTML = output.data[HTML_MIME_TYPE];\n",
       "      var script_attrs = bk_div.children[0].attributes;\n",
       "      for (var i = 0; i < script_attrs.length; i++) {\n",
       "        toinsert[toinsert.length - 1].firstChild.setAttribute(script_attrs[i].name, script_attrs[i].value);\n",
       "        toinsert[toinsert.length - 1].firstChild.textContent = bk_div.children[0].textContent\n",
       "      }\n",
       "      // store reference to server id on output_area\n",
       "      output_area._bokeh_server_id = output.metadata[EXEC_MIME_TYPE][\"server_id\"];\n",
       "    }\n",
       "  }\n",
       "\n",
       "  function register_renderer(events, OutputArea) {\n",
       "\n",
       "    function append_mime(data, metadata, element) {\n",
       "      // create a DOM node to render to\n",
       "      var toinsert = this.create_output_subarea(\n",
       "        metadata,\n",
       "        CLASS_NAME,\n",
       "        EXEC_MIME_TYPE\n",
       "      );\n",
       "      this.keyboard_manager.register_events(toinsert);\n",
       "      // Render to node\n",
       "      var props = {data: data, metadata: metadata[EXEC_MIME_TYPE]};\n",
       "      render(props, toinsert[toinsert.length - 1]);\n",
       "      element.append(toinsert);\n",
       "      return toinsert\n",
       "    }\n",
       "\n",
       "    /* Handle when an output is cleared or removed */\n",
       "    events.on('clear_output.CodeCell', handleClearOutput);\n",
       "    events.on('delete.Cell', handleClearOutput);\n",
       "\n",
       "    /* Handle when a new output is added */\n",
       "    events.on('output_added.OutputArea', handleAddOutput);\n",
       "\n",
       "    /**\n",
       "     * Register the mime type and append_mime function with output_area\n",
       "     */\n",
       "    OutputArea.prototype.register_mime_type(EXEC_MIME_TYPE, append_mime, {\n",
       "      /* Is output safe? */\n",
       "      safe: true,\n",
       "      /* Index of renderer in `output_area.display_order` */\n",
       "      index: 0\n",
       "    });\n",
       "  }\n",
       "\n",
       "  // register the mime type if in Jupyter Notebook environment and previously unregistered\n",
       "  if (root.Jupyter !== undefined) {\n",
       "    var events = require('base/js/events');\n",
       "    var OutputArea = require('notebook/js/outputarea').OutputArea;\n",
       "\n",
       "    if (OutputArea.prototype.mime_types().indexOf(EXEC_MIME_TYPE) == -1) {\n",
       "      register_renderer(events, OutputArea);\n",
       "    }\n",
       "  }\n",
       "\n",
       "  \n",
       "  if (typeof (root._bokeh_timeout) === \"undefined\" || force === true) {\n",
       "    root._bokeh_timeout = Date.now() + 5000;\n",
       "    root._bokeh_failed_load = false;\n",
       "  }\n",
       "\n",
       "  var NB_LOAD_WARNING = {'data': {'text/html':\n",
       "     \"<div style='background-color: #fdd'>\\n\"+\n",
       "     \"<p>\\n\"+\n",
       "     \"BokehJS does not appear to have successfully loaded. If loading BokehJS from CDN, this \\n\"+\n",
       "     \"may be due to a slow or bad network connection. Possible fixes:\\n\"+\n",
       "     \"</p>\\n\"+\n",
       "     \"<ul>\\n\"+\n",
       "     \"<li>re-rerun `output_notebook()` to attempt to load from CDN again, or</li>\\n\"+\n",
       "     \"<li>use INLINE resources instead, as so:</li>\\n\"+\n",
       "     \"</ul>\\n\"+\n",
       "     \"<code>\\n\"+\n",
       "     \"from bokeh.resources import INLINE\\n\"+\n",
       "     \"output_notebook(resources=INLINE)\\n\"+\n",
       "     \"</code>\\n\"+\n",
       "     \"</div>\"}};\n",
       "\n",
       "  function display_loaded() {\n",
       "    var el = document.getElementById(\"1001\");\n",
       "    if (el != null) {\n",
       "      el.textContent = \"BokehJS is loading...\";\n",
       "    }\n",
       "    if (root.Bokeh !== undefined) {\n",
       "      if (el != null) {\n",
       "        el.textContent = \"BokehJS \" + root.Bokeh.version + \" successfully loaded.\";\n",
       "      }\n",
       "    } else if (Date.now() < root._bokeh_timeout) {\n",
       "      setTimeout(display_loaded, 100)\n",
       "    }\n",
       "  }\n",
       "\n",
       "\n",
       "  function run_callbacks() {\n",
       "    try {\n",
       "      root._bokeh_onload_callbacks.forEach(function(callback) {\n",
       "        if (callback != null)\n",
       "          callback();\n",
       "      });\n",
       "    } finally {\n",
       "      delete root._bokeh_onload_callbacks\n",
       "    }\n",
       "    console.debug(\"Bokeh: all callbacks have finished\");\n",
       "  }\n",
       "\n",
       "  function load_libs(css_urls, js_urls, callback) {\n",
       "    if (css_urls == null) css_urls = [];\n",
       "    if (js_urls == null) js_urls = [];\n",
       "\n",
       "    root._bokeh_onload_callbacks.push(callback);\n",
       "    if (root._bokeh_is_loading > 0) {\n",
       "      console.debug(\"Bokeh: BokehJS is being loaded, scheduling callback at\", now());\n",
       "      return null;\n",
       "    }\n",
       "    if (js_urls == null || js_urls.length === 0) {\n",
       "      run_callbacks();\n",
       "      return null;\n",
       "    }\n",
       "    console.debug(\"Bokeh: BokehJS not loaded, scheduling load and callback at\", now());\n",
       "    root._bokeh_is_loading = css_urls.length + js_urls.length;\n",
       "\n",
       "    function on_load() {\n",
       "      root._bokeh_is_loading--;\n",
       "      if (root._bokeh_is_loading === 0) {\n",
       "        console.debug(\"Bokeh: all BokehJS libraries/stylesheets loaded\");\n",
       "        run_callbacks()\n",
       "      }\n",
       "    }\n",
       "\n",
       "    function on_error() {\n",
       "      console.error(\"failed to load \" + url);\n",
       "    }\n",
       "\n",
       "    for (var i = 0; i < css_urls.length; i++) {\n",
       "      var url = css_urls[i];\n",
       "      const element = document.createElement(\"link\");\n",
       "      element.onload = on_load;\n",
       "      element.onerror = on_error;\n",
       "      element.rel = \"stylesheet\";\n",
       "      element.type = \"text/css\";\n",
       "      element.href = url;\n",
       "      console.debug(\"Bokeh: injecting link tag for BokehJS stylesheet: \", url);\n",
       "      document.body.appendChild(element);\n",
       "    }\n",
       "\n",
       "    const hashes = {\"https://cdn.bokeh.org/bokeh/release/bokeh-2.0.1.min.js\": \"JpP8FXbgAZLkfur7LiK3j9AGBhHNIvF742meBJrjO2ShJDhCG2I1uVvW+0DUtrmc\", \"https://cdn.bokeh.org/bokeh/release/bokeh-widgets-2.0.1.min.js\": \"xZlADit0Q04ISQEdKg2k3L4W9AwQBAuDs9nJL9fM/WwzL1tEU9VPNezOFX0nLEAz\", \"https://cdn.bokeh.org/bokeh/release/bokeh-tables-2.0.1.min.js\": \"4BuPRZkdMKSnj3zoxiNrQ86XgNw0rYmBOxe7nshquXwwcauupgBF2DHLVG1WuZlV\", \"https://cdn.bokeh.org/bokeh/release/bokeh-gl-2.0.1.min.js\": \"Dv1SQ87hmDqK6S5OhBf0bCuwAEvL5QYL0PuR/F1SPVhCS/r/abjkbpKDYL2zeM19\"};\n",
       "\n",
       "    for (var i = 0; i < js_urls.length; i++) {\n",
       "      var url = js_urls[i];\n",
       "      var element = document.createElement('script');\n",
       "      element.onload = on_load;\n",
       "      element.onerror = on_error;\n",
       "      element.async = false;\n",
       "      element.src = url;\n",
       "      if (url in hashes) {\n",
       "        element.crossOrigin = \"anonymous\";\n",
       "        element.integrity = \"sha384-\" + hashes[url];\n",
       "      }\n",
       "      console.debug(\"Bokeh: injecting script tag for BokehJS library: \", url);\n",
       "      document.head.appendChild(element);\n",
       "    }\n",
       "  };var element = document.getElementById(\"1001\");\n",
       "  if (element == null) {\n",
       "    console.error(\"Bokeh: ERROR: autoload.js configured with elementid '1001' but no matching script tag was found. \")\n",
       "    return false;\n",
       "  }\n",
       "\n",
       "  function inject_raw_css(css) {\n",
       "    const element = document.createElement(\"style\");\n",
       "    element.appendChild(document.createTextNode(css));\n",
       "    document.body.appendChild(element);\n",
       "  }\n",
       "\n",
       "  \n",
       "  var js_urls = [\"https://cdn.bokeh.org/bokeh/release/bokeh-2.0.1.min.js\", \"https://cdn.bokeh.org/bokeh/release/bokeh-widgets-2.0.1.min.js\", \"https://cdn.bokeh.org/bokeh/release/bokeh-tables-2.0.1.min.js\", \"https://cdn.bokeh.org/bokeh/release/bokeh-gl-2.0.1.min.js\"];\n",
       "  var css_urls = [];\n",
       "  \n",
       "\n",
       "  var inline_js = [\n",
       "    function(Bokeh) {\n",
       "      Bokeh.set_log_level(\"info\");\n",
       "    },\n",
       "    function(Bokeh) {\n",
       "    \n",
       "    \n",
       "    }\n",
       "  ];\n",
       "\n",
       "  function run_inline_js() {\n",
       "    \n",
       "    if (root.Bokeh !== undefined || force === true) {\n",
       "      \n",
       "    for (var i = 0; i < inline_js.length; i++) {\n",
       "      inline_js[i].call(root, root.Bokeh);\n",
       "    }\n",
       "    if (force === true) {\n",
       "        display_loaded();\n",
       "      }} else if (Date.now() < root._bokeh_timeout) {\n",
       "      setTimeout(run_inline_js, 100);\n",
       "    } else if (!root._bokeh_failed_load) {\n",
       "      console.log(\"Bokeh: BokehJS failed to load within specified timeout.\");\n",
       "      root._bokeh_failed_load = true;\n",
       "    } else if (force !== true) {\n",
       "      var cell = $(document.getElementById(\"1001\")).parents('.cell').data().cell;\n",
       "      cell.output_area.append_execute_result(NB_LOAD_WARNING)\n",
       "    }\n",
       "\n",
       "  }\n",
       "\n",
       "  if (root._bokeh_is_loading === 0) {\n",
       "    console.debug(\"Bokeh: BokehJS loaded, going straight to plotting\");\n",
       "    run_inline_js();\n",
       "  } else {\n",
       "    load_libs(css_urls, js_urls, function() {\n",
       "      console.debug(\"Bokeh: BokehJS plotting callback run at\", now());\n",
       "      run_inline_js();\n",
       "    });\n",
       "  }\n",
       "}(window));"
      ],
      "application/vnd.bokehjs_load.v0+json": "\n(function(root) {\n  function now() {\n    return new Date();\n  }\n\n  var force = true;\n\n  if (typeof root._bokeh_onload_callbacks === \"undefined\" || force === true) {\n    root._bokeh_onload_callbacks = [];\n    root._bokeh_is_loading = undefined;\n  }\n\n  \n\n  \n  if (typeof (root._bokeh_timeout) === \"undefined\" || force === true) {\n    root._bokeh_timeout = Date.now() + 5000;\n    root._bokeh_failed_load = false;\n  }\n\n  var NB_LOAD_WARNING = {'data': {'text/html':\n     \"<div style='background-color: #fdd'>\\n\"+\n     \"<p>\\n\"+\n     \"BokehJS does not appear to have successfully loaded. If loading BokehJS from CDN, this \\n\"+\n     \"may be due to a slow or bad network connection. Possible fixes:\\n\"+\n     \"</p>\\n\"+\n     \"<ul>\\n\"+\n     \"<li>re-rerun `output_notebook()` to attempt to load from CDN again, or</li>\\n\"+\n     \"<li>use INLINE resources instead, as so:</li>\\n\"+\n     \"</ul>\\n\"+\n     \"<code>\\n\"+\n     \"from bokeh.resources import INLINE\\n\"+\n     \"output_notebook(resources=INLINE)\\n\"+\n     \"</code>\\n\"+\n     \"</div>\"}};\n\n  function display_loaded() {\n    var el = document.getElementById(\"1001\");\n    if (el != null) {\n      el.textContent = \"BokehJS is loading...\";\n    }\n    if (root.Bokeh !== undefined) {\n      if (el != null) {\n        el.textContent = \"BokehJS \" + root.Bokeh.version + \" successfully loaded.\";\n      }\n    } else if (Date.now() < root._bokeh_timeout) {\n      setTimeout(display_loaded, 100)\n    }\n  }\n\n\n  function run_callbacks() {\n    try {\n      root._bokeh_onload_callbacks.forEach(function(callback) {\n        if (callback != null)\n          callback();\n      });\n    } finally {\n      delete root._bokeh_onload_callbacks\n    }\n    console.debug(\"Bokeh: all callbacks have finished\");\n  }\n\n  function load_libs(css_urls, js_urls, callback) {\n    if (css_urls == null) css_urls = [];\n    if (js_urls == null) js_urls = [];\n\n    root._bokeh_onload_callbacks.push(callback);\n    if (root._bokeh_is_loading > 0) {\n      console.debug(\"Bokeh: BokehJS is being loaded, scheduling callback at\", now());\n      return null;\n    }\n    if (js_urls == null || js_urls.length === 0) {\n      run_callbacks();\n      return null;\n    }\n    console.debug(\"Bokeh: BokehJS not loaded, scheduling load and callback at\", now());\n    root._bokeh_is_loading = css_urls.length + js_urls.length;\n\n    function on_load() {\n      root._bokeh_is_loading--;\n      if (root._bokeh_is_loading === 0) {\n        console.debug(\"Bokeh: all BokehJS libraries/stylesheets loaded\");\n        run_callbacks()\n      }\n    }\n\n    function on_error() {\n      console.error(\"failed to load \" + url);\n    }\n\n    for (var i = 0; i < css_urls.length; i++) {\n      var url = css_urls[i];\n      const element = document.createElement(\"link\");\n      element.onload = on_load;\n      element.onerror = on_error;\n      element.rel = \"stylesheet\";\n      element.type = \"text/css\";\n      element.href = url;\n      console.debug(\"Bokeh: injecting link tag for BokehJS stylesheet: \", url);\n      document.body.appendChild(element);\n    }\n\n    const hashes = {\"https://cdn.bokeh.org/bokeh/release/bokeh-2.0.1.min.js\": \"JpP8FXbgAZLkfur7LiK3j9AGBhHNIvF742meBJrjO2ShJDhCG2I1uVvW+0DUtrmc\", \"https://cdn.bokeh.org/bokeh/release/bokeh-widgets-2.0.1.min.js\": \"xZlADit0Q04ISQEdKg2k3L4W9AwQBAuDs9nJL9fM/WwzL1tEU9VPNezOFX0nLEAz\", \"https://cdn.bokeh.org/bokeh/release/bokeh-tables-2.0.1.min.js\": \"4BuPRZkdMKSnj3zoxiNrQ86XgNw0rYmBOxe7nshquXwwcauupgBF2DHLVG1WuZlV\", \"https://cdn.bokeh.org/bokeh/release/bokeh-gl-2.0.1.min.js\": \"Dv1SQ87hmDqK6S5OhBf0bCuwAEvL5QYL0PuR/F1SPVhCS/r/abjkbpKDYL2zeM19\"};\n\n    for (var i = 0; i < js_urls.length; i++) {\n      var url = js_urls[i];\n      var element = document.createElement('script');\n      element.onload = on_load;\n      element.onerror = on_error;\n      element.async = false;\n      element.src = url;\n      if (url in hashes) {\n        element.crossOrigin = \"anonymous\";\n        element.integrity = \"sha384-\" + hashes[url];\n      }\n      console.debug(\"Bokeh: injecting script tag for BokehJS library: \", url);\n      document.head.appendChild(element);\n    }\n  };var element = document.getElementById(\"1001\");\n  if (element == null) {\n    console.error(\"Bokeh: ERROR: autoload.js configured with elementid '1001' but no matching script tag was found. \")\n    return false;\n  }\n\n  function inject_raw_css(css) {\n    const element = document.createElement(\"style\");\n    element.appendChild(document.createTextNode(css));\n    document.body.appendChild(element);\n  }\n\n  \n  var js_urls = [\"https://cdn.bokeh.org/bokeh/release/bokeh-2.0.1.min.js\", \"https://cdn.bokeh.org/bokeh/release/bokeh-widgets-2.0.1.min.js\", \"https://cdn.bokeh.org/bokeh/release/bokeh-tables-2.0.1.min.js\", \"https://cdn.bokeh.org/bokeh/release/bokeh-gl-2.0.1.min.js\"];\n  var css_urls = [];\n  \n\n  var inline_js = [\n    function(Bokeh) {\n      Bokeh.set_log_level(\"info\");\n    },\n    function(Bokeh) {\n    \n    \n    }\n  ];\n\n  function run_inline_js() {\n    \n    if (root.Bokeh !== undefined || force === true) {\n      \n    for (var i = 0; i < inline_js.length; i++) {\n      inline_js[i].call(root, root.Bokeh);\n    }\n    if (force === true) {\n        display_loaded();\n      }} else if (Date.now() < root._bokeh_timeout) {\n      setTimeout(run_inline_js, 100);\n    } else if (!root._bokeh_failed_load) {\n      console.log(\"Bokeh: BokehJS failed to load within specified timeout.\");\n      root._bokeh_failed_load = true;\n    } else if (force !== true) {\n      var cell = $(document.getElementById(\"1001\")).parents('.cell').data().cell;\n      cell.output_area.append_execute_result(NB_LOAD_WARNING)\n    }\n\n  }\n\n  if (root._bokeh_is_loading === 0) {\n    console.debug(\"Bokeh: BokehJS loaded, going straight to plotting\");\n    run_inline_js();\n  } else {\n    load_libs(css_urls, js_urls, function() {\n      console.debug(\"Bokeh: BokehJS plotting callback run at\", now());\n      run_inline_js();\n    });\n  }\n}(window));"
     },
     "metadata": {},
     "output_type": "display_data"
    }
   ],
   "source": [
    "import bokeh\n",
    "import numpy as np \n",
    "import pandas as pd \n",
    "import matplotlib.pyplot as plt \n",
    "import matplotlib.gridspec as gridspec\n",
    "from datetime import datetime\n",
    "import seaborn as sns\n",
    "from bokeh.plotting import figure, show, output_notebook, output_file, save\n",
    "from bokeh.models import HoverTool, ColumnDataSource\n",
    "from bokeh.layouts import gridplot,layout\n",
    "from bokeh.models import FactorRange\n",
    "import pandas as pd \n",
    "from bokeh.transform import factor_cmap\n",
    "from bokeh.palettes import Spectral6\n",
    "from bokeh.models import Range1d\n",
    "\n",
    "output_notebook()\n",
    "\n",
    "import warnings\n",
    "warnings.filterwarnings('ignore')\n",
    "pd.options.display.max_rows = None\n",
    "pd.options.display.max_columns = None"
   ]
  },
  {
   "cell_type": "code",
   "execution_count": 2,
   "metadata": {},
   "outputs": [
    {
     "data": {
      "text/plain": [
       "'2.0.1'"
      ]
     },
     "execution_count": 2,
     "metadata": {},
     "output_type": "execute_result"
    }
   ],
   "source": [
    "import bokeh\n",
    "bokeh.__version__"
   ]
  },
  {
   "cell_type": "code",
   "execution_count": 3,
   "metadata": {},
   "outputs": [],
   "source": [
    "description = pd.read_csv('Covid19Canada-master/codebook.csv')\n",
    "\n",
    "n_cases = pd.read_csv('Covid19Canada-master/cases.csv')\n",
    "n_death = pd.read_csv('Covid19Canada-master/mortality.csv')\n",
    "\n",
    "n_recovered = pd.read_csv('Covid19Canada-master/recovered_cumulative.csv')\n",
    "n_testing = pd.read_csv('Covid19Canada-master/testing_cumulative.csv')\n",
    "\n",
    "color = [(31, 119, 180), (174, 199, 232), (255, 127, 14), (255, 187, 120),    \n",
    "             (44, 160, 44), (152, 223, 138), (214, 39, 40), (255, 152, 150),    \n",
    "             (148, 103, 189), (197, 176, 213), (140, 86, 75), (196, 156, 148),    \n",
    "             (227, 119, 194), (247, 182, 210), (127, 127, 127), (199, 199, 199),    \n",
    "             (188, 189, 34), (219, 219, 141), (23, 190, 207), (158, 218, 229)] "
   ]
  },
  {
   "cell_type": "code",
   "execution_count": 4,
   "metadata": {},
   "outputs": [
    {
     "data": {
      "text/html": [
       "<div>\n",
       "<style scoped>\n",
       "    .dataframe tbody tr th:only-of-type {\n",
       "        vertical-align: middle;\n",
       "    }\n",
       "\n",
       "    .dataframe tbody tr th {\n",
       "        vertical-align: top;\n",
       "    }\n",
       "\n",
       "    .dataframe thead th {\n",
       "        text-align: right;\n",
       "    }\n",
       "</style>\n",
       "<table border=\"1\" class=\"dataframe\">\n",
       "  <thead>\n",
       "    <tr style=\"text-align: right;\">\n",
       "      <th></th>\n",
       "      <th>Variable</th>\n",
       "      <th>Description</th>\n",
       "      <th>Label</th>\n",
       "    </tr>\n",
       "  </thead>\n",
       "  <tbody>\n",
       "    <tr>\n",
       "      <td>0</td>\n",
       "      <td>case_id</td>\n",
       "      <td>National Case ID Number</td>\n",
       "      <td>NaN</td>\n",
       "    </tr>\n",
       "    <tr>\n",
       "      <td>1</td>\n",
       "      <td>provincial_case_id</td>\n",
       "      <td>Provincial Case ID Number</td>\n",
       "      <td>NaN</td>\n",
       "    </tr>\n",
       "    <tr>\n",
       "      <td>2</td>\n",
       "      <td>age</td>\n",
       "      <td>Age, if specific age not given then range prov...</td>\n",
       "      <td>NaN</td>\n",
       "    </tr>\n",
       "    <tr>\n",
       "      <td>3</td>\n",
       "      <td>sex</td>\n",
       "      <td>Sex</td>\n",
       "      <td>NaN</td>\n",
       "    </tr>\n",
       "    <tr>\n",
       "      <td>4</td>\n",
       "      <td>health_region</td>\n",
       "      <td>Health region, if reported</td>\n",
       "      <td>NaN</td>\n",
       "    </tr>\n",
       "    <tr>\n",
       "      <td>5</td>\n",
       "      <td>province</td>\n",
       "      <td>Province</td>\n",
       "      <td>NaN</td>\n",
       "    </tr>\n",
       "    <tr>\n",
       "      <td>6</td>\n",
       "      <td>country</td>\n",
       "      <td>Country</td>\n",
       "      <td>NaN</td>\n",
       "    </tr>\n",
       "    <tr>\n",
       "      <td>7</td>\n",
       "      <td>date_report</td>\n",
       "      <td>Reported date (i.e. public announcement date) ...</td>\n",
       "      <td>NaN</td>\n",
       "    </tr>\n",
       "    <tr>\n",
       "      <td>8</td>\n",
       "      <td>report_week</td>\n",
       "      <td>Week of Report (Sundays are 1st day of week)</td>\n",
       "      <td>NaN</td>\n",
       "    </tr>\n",
       "    <tr>\n",
       "      <td>9</td>\n",
       "      <td>travel_yn</td>\n",
       "      <td>Travel history (yes/no)</td>\n",
       "      <td>0=no, 1=yes, Not Reported</td>\n",
       "    </tr>\n",
       "    <tr>\n",
       "      <td>10</td>\n",
       "      <td>travel_history_country</td>\n",
       "      <td>Country of Travel</td>\n",
       "      <td>NaN</td>\n",
       "    </tr>\n",
       "    <tr>\n",
       "      <td>11</td>\n",
       "      <td>locally_acquired</td>\n",
       "      <td>If no travel history, type of locally acquired...</td>\n",
       "      <td>Community, Close Contact, Not Reported</td>\n",
       "    </tr>\n",
       "    <tr>\n",
       "      <td>12</td>\n",
       "      <td>case_source</td>\n",
       "      <td>Source website for case information</td>\n",
       "      <td>NaN</td>\n",
       "    </tr>\n",
       "    <tr>\n",
       "      <td>13</td>\n",
       "      <td>death_id</td>\n",
       "      <td>National Death ID Number</td>\n",
       "      <td>NaN</td>\n",
       "    </tr>\n",
       "    <tr>\n",
       "      <td>14</td>\n",
       "      <td>province_death_id</td>\n",
       "      <td>Provincial Death ID Number</td>\n",
       "      <td>NaN</td>\n",
       "    </tr>\n",
       "    <tr>\n",
       "      <td>15</td>\n",
       "      <td>date_death_report</td>\n",
       "      <td>Date of death reported</td>\n",
       "      <td>NaN</td>\n",
       "    </tr>\n",
       "    <tr>\n",
       "      <td>16</td>\n",
       "      <td>death_source</td>\n",
       "      <td>Source website for death information</td>\n",
       "      <td>NaN</td>\n",
       "    </tr>\n",
       "    <tr>\n",
       "      <td>17</td>\n",
       "      <td>date_recovered</td>\n",
       "      <td>Time series of recovery dates</td>\n",
       "      <td>NaN</td>\n",
       "    </tr>\n",
       "    <tr>\n",
       "      <td>18</td>\n",
       "      <td>cumulative_recovered</td>\n",
       "      <td>Cumulative number of recoveries</td>\n",
       "      <td>NaN</td>\n",
       "    </tr>\n",
       "    <tr>\n",
       "      <td>19</td>\n",
       "      <td>date_testing</td>\n",
       "      <td>Time series of testing dates</td>\n",
       "      <td>NaN</td>\n",
       "    </tr>\n",
       "    <tr>\n",
       "      <td>20</td>\n",
       "      <td>cumulative_testing</td>\n",
       "      <td>Cumulative number of tests</td>\n",
       "      <td>NaN</td>\n",
       "    </tr>\n",
       "  </tbody>\n",
       "</table>\n",
       "</div>"
      ],
      "text/plain": [
       "                  Variable                                        Description  \\\n",
       "0                  case_id                            National Case ID Number   \n",
       "1       provincial_case_id                          Provincial Case ID Number   \n",
       "2                      age  Age, if specific age not given then range prov...   \n",
       "3                      sex                                                Sex   \n",
       "4            health_region                         Health region, if reported   \n",
       "5                 province                                           Province   \n",
       "6                  country                                            Country   \n",
       "7              date_report  Reported date (i.e. public announcement date) ...   \n",
       "8              report_week       Week of Report (Sundays are 1st day of week)   \n",
       "9                travel_yn                            Travel history (yes/no)   \n",
       "10  travel_history_country                                  Country of Travel   \n",
       "11        locally_acquired  If no travel history, type of locally acquired...   \n",
       "12             case_source                Source website for case information   \n",
       "13                death_id                           National Death ID Number   \n",
       "14       province_death_id                         Provincial Death ID Number   \n",
       "15       date_death_report                             Date of death reported   \n",
       "16            death_source               Source website for death information   \n",
       "17          date_recovered                      Time series of recovery dates   \n",
       "18    cumulative_recovered                    Cumulative number of recoveries   \n",
       "19            date_testing                       Time series of testing dates   \n",
       "20      cumulative_testing                         Cumulative number of tests   \n",
       "\n",
       "                                     Label  \n",
       "0                                      NaN  \n",
       "1                                      NaN  \n",
       "2                                      NaN  \n",
       "3                                      NaN  \n",
       "4                                      NaN  \n",
       "5                                      NaN  \n",
       "6                                      NaN  \n",
       "7                                      NaN  \n",
       "8                                      NaN  \n",
       "9                0=no, 1=yes, Not Reported  \n",
       "10                                     NaN  \n",
       "11  Community, Close Contact, Not Reported  \n",
       "12                                     NaN  \n",
       "13                                     NaN  \n",
       "14                                     NaN  \n",
       "15                                     NaN  \n",
       "16                                     NaN  \n",
       "17                                     NaN  \n",
       "18                                     NaN  \n",
       "19                                     NaN  \n",
       "20                                     NaN  "
      ]
     },
     "metadata": {},
     "output_type": "display_data"
    }
   ],
   "source": [
    "display(description)"
   ]
  },
  {
   "cell_type": "markdown",
   "metadata": {},
   "source": [
    "# Number of Cases in Canada"
   ]
  },
  {
   "cell_type": "code",
   "execution_count": 31,
   "metadata": {},
   "outputs": [
    {
     "data": {
      "text/html": [
       "<div>\n",
       "<style scoped>\n",
       "    .dataframe tbody tr th:only-of-type {\n",
       "        vertical-align: middle;\n",
       "    }\n",
       "\n",
       "    .dataframe tbody tr th {\n",
       "        vertical-align: top;\n",
       "    }\n",
       "\n",
       "    .dataframe thead th {\n",
       "        text-align: right;\n",
       "    }\n",
       "</style>\n",
       "<table border=\"1\" class=\"dataframe\">\n",
       "  <thead>\n",
       "    <tr style=\"text-align: right;\">\n",
       "      <th></th>\n",
       "      <th>case_id</th>\n",
       "      <th>provincial_case_id</th>\n",
       "      <th>age</th>\n",
       "      <th>sex</th>\n",
       "      <th>health_region</th>\n",
       "      <th>province</th>\n",
       "      <th>country</th>\n",
       "      <th>date_report</th>\n",
       "      <th>report_week</th>\n",
       "      <th>travel_yn</th>\n",
       "      <th>travel_history_country</th>\n",
       "      <th>people</th>\n",
       "    </tr>\n",
       "  </thead>\n",
       "  <tbody>\n",
       "    <tr>\n",
       "      <td>0</td>\n",
       "      <td>1</td>\n",
       "      <td>1</td>\n",
       "      <td>50-59</td>\n",
       "      <td>Male</td>\n",
       "      <td>Toronto</td>\n",
       "      <td>Ontario</td>\n",
       "      <td>Canada</td>\n",
       "      <td>2020-01-25</td>\n",
       "      <td>2020-01-19</td>\n",
       "      <td>1</td>\n",
       "      <td>China</td>\n",
       "      <td>1</td>\n",
       "    </tr>\n",
       "  </tbody>\n",
       "</table>\n",
       "</div>"
      ],
      "text/plain": [
       "   case_id  provincial_case_id    age   sex health_region province country  \\\n",
       "0        1                   1  50-59  Male       Toronto  Ontario  Canada   \n",
       "\n",
       "  date_report report_week travel_yn travel_history_country  people  \n",
       "0  2020-01-25  2020-01-19         1                  China       1  "
      ]
     },
     "metadata": {},
     "output_type": "display_data"
    },
    {
     "data": {
      "text/plain": [
       "(6320, 12)"
      ]
     },
     "execution_count": 31,
     "metadata": {},
     "output_type": "execute_result"
    }
   ],
   "source": [
    "display(n_cases.head(1))\n",
    "n_cases.shape"
   ]
  },
  {
   "cell_type": "code",
   "execution_count": null,
   "metadata": {},
   "outputs": [],
   "source": []
  },
  {
   "cell_type": "code",
   "execution_count": 7,
   "metadata": {},
   "outputs": [
    {
     "data": {
      "text/html": [
       "<div>\n",
       "<style scoped>\n",
       "    .dataframe tbody tr th:only-of-type {\n",
       "        vertical-align: middle;\n",
       "    }\n",
       "\n",
       "    .dataframe tbody tr th {\n",
       "        vertical-align: top;\n",
       "    }\n",
       "\n",
       "    .dataframe thead th {\n",
       "        text-align: right;\n",
       "    }\n",
       "</style>\n",
       "<table border=\"1\" class=\"dataframe\">\n",
       "  <thead>\n",
       "    <tr style=\"text-align: right;\">\n",
       "      <th></th>\n",
       "      <th>case_id</th>\n",
       "      <th>provincial_case_id</th>\n",
       "      <th>age</th>\n",
       "      <th>sex</th>\n",
       "      <th>health_region</th>\n",
       "      <th>province</th>\n",
       "      <th>country</th>\n",
       "      <th>date_report</th>\n",
       "      <th>report_week</th>\n",
       "      <th>travel_yn</th>\n",
       "      <th>travel_history_country</th>\n",
       "    </tr>\n",
       "  </thead>\n",
       "  <tbody>\n",
       "    <tr>\n",
       "      <td>0</td>\n",
       "      <td>1</td>\n",
       "      <td>1</td>\n",
       "      <td>50-59</td>\n",
       "      <td>Male</td>\n",
       "      <td>Toronto</td>\n",
       "      <td>Ontario</td>\n",
       "      <td>Canada</td>\n",
       "      <td>2020-01-25</td>\n",
       "      <td>2020-01-19</td>\n",
       "      <td>1</td>\n",
       "      <td>China</td>\n",
       "    </tr>\n",
       "  </tbody>\n",
       "</table>\n",
       "</div>"
      ],
      "text/plain": [
       "   case_id  provincial_case_id    age   sex health_region province country  \\\n",
       "0        1                   1  50-59  Male       Toronto  Ontario  Canada   \n",
       "\n",
       "  date_report report_week travel_yn travel_history_country  \n",
       "0  2020-01-25  2020-01-19         1                  China  "
      ]
     },
     "execution_count": 7,
     "metadata": {},
     "output_type": "execute_result"
    }
   ],
   "source": [
    "n_cases = n_cases.iloc[:,:11]\n",
    "n_cases['date_report'] = pd.to_datetime(n_cases['date_report'], dayfirst = True)\n",
    "n_cases['report_week'] = pd.to_datetime(n_cases['report_week'], dayfirst = True)\n",
    "n_cases['people'] = 1"
   ]
  },
  {
   "cell_type": "code",
   "execution_count": 8,
   "metadata": {},
   "outputs": [],
   "source": []
  },
  {
   "cell_type": "code",
   "execution_count": 9,
   "metadata": {},
   "outputs": [],
   "source": [
    "all_gender = n_cases.groupby(['sex'])['people'].sum().sort_values(ascending = False).reset_index();\n",
    "all_gender_factors = pd.unique(all_gender['sex'])\n",
    "all_gender_data = ColumnDataSource(all_gender)\n",
    "\n",
    "all_age = n_cases.groupby(['age'])['people'].sum().sort_values(ascending = False).reset_index();\n",
    "all_age_factors = pd.unique(all_age['age'])\n",
    "all_age_data = ColumnDataSource(all_age)\n",
    "\n",
    "sex_case = n_cases.loc[n_cases['sex'] != 'Not Reported']\n",
    "sex_case = sex_case.groupby(['sex'])['people'].sum().sort_values(ascending = False).reset_index();\n",
    "sex_case_factors = pd.unique(sex_case['sex'])\n",
    "sex_case_data = ColumnDataSource(sex_case)\n",
    "\n",
    "age_case = n_cases.loc[n_cases['age'] != 'Not Reported']\n",
    "age_case = age_case.groupby(['age'])['people'].sum().sort_values(ascending = False).reset_index();\n",
    "age_case_factors = pd.unique(age_case['age'])\n",
    "age_case_data = ColumnDataSource(age_case)\n",
    "\n",
    "sex_age = n_cases.loc[(n_cases['age'] != 'Not Reported') & (n_cases['sex'] != 'Not Reported')]\n",
    "sex_age = sex_age.groupby(['age', 'sex'])['people'].sum().reset_index()\n",
    "sex_age['label'] = tuple(zip(sex_age['age'], sex_age['sex']))\n",
    "sex_age_data = ColumnDataSource(sex_age)"
   ]
  },
  {
   "cell_type": "code",
   "execution_count": 10,
   "metadata": {},
   "outputs": [
    {
     "data": {
      "text/html": [
       "\n",
       "\n",
       "\n",
       "\n",
       "\n",
       "\n",
       "  <div class=\"bk-root\" id=\"ea73ecb1-710e-42ac-a4c1-14c4469b1432\" data-root-id=\"1196\"></div>\n"
      ]
     },
     "metadata": {},
     "output_type": "display_data"
    },
    {
     "data": {
      "application/javascript": [
       "(function(root) {\n",
       "  function embed_document(root) {\n",
       "    \n",
       "  var docs_json = {\"10a6ba7e-6272-4dd8-a8bd-0877b431242b\":{\"roots\":{\"references\":[{\"attributes\":{\"children\":[{\"id\":\"1193\"},{\"id\":\"1194\"},{\"id\":\"1195\"}]},\"id\":\"1196\",\"type\":\"Column\"},{\"attributes\":{},\"id\":\"1054\",\"type\":\"WheelZoomTool\"},{\"attributes\":{},\"id\":\"1086\",\"type\":\"SaveTool\"},{\"attributes\":{\"active_drag\":\"auto\",\"active_inspect\":\"auto\",\"active_multi\":null,\"active_scroll\":\"auto\",\"active_tap\":\"auto\",\"tools\":[{\"id\":\"1143\"},{\"id\":\"1144\"},{\"id\":\"1145\"},{\"id\":\"1146\"},{\"id\":\"1147\"},{\"id\":\"1148\"},{\"id\":\"1191\"}]},\"id\":\"1150\",\"type\":\"Toolbar\"},{\"attributes\":{\"text\":\"\"},\"id\":\"1205\",\"type\":\"Title\"},{\"attributes\":{\"overlay\":{\"id\":\"1059\"}},\"id\":\"1055\",\"type\":\"BoxZoomTool\"},{\"attributes\":{},\"id\":\"1087\",\"type\":\"ResetTool\"},{\"attributes\":{},\"id\":\"1143\",\"type\":\"PanTool\"},{\"attributes\":{\"text\":\"\"},\"id\":\"1197\",\"type\":\"Title\"},{\"attributes\":{},\"id\":\"1056\",\"type\":\"SaveTool\"},{\"attributes\":{},\"id\":\"1144\",\"type\":\"WheelZoomTool\"},{\"attributes\":{\"text\":\"\"},\"id\":\"1199\",\"type\":\"Title\"},{\"attributes\":{},\"id\":\"1088\",\"type\":\"HelpTool\"},{\"attributes\":{},\"id\":\"1057\",\"type\":\"ResetTool\"},{\"attributes\":{\"overlay\":{\"id\":\"1149\"}},\"id\":\"1145\",\"type\":\"BoxZoomTool\"},{\"attributes\":{},\"id\":\"1146\",\"type\":\"SaveTool\"},{\"attributes\":{},\"id\":\"1208\",\"type\":\"BasicTickFormatter\"},{\"attributes\":{},\"id\":\"1058\",\"type\":\"HelpTool\"},{\"attributes\":{\"text\":\"\"},\"id\":\"1201\",\"type\":\"Title\"},{\"attributes\":{},\"id\":\"1147\",\"type\":\"ResetTool\"},{\"attributes\":{},\"id\":\"1118\",\"type\":\"HelpTool\"},{\"attributes\":{\"text\":\"\"},\"id\":\"1203\",\"type\":\"Title\"},{\"attributes\":{\"fill_alpha\":{\"value\":0.1},\"fill_color\":{\"value\":\"#1f77b4\"},\"line_alpha\":{\"value\":0.1},\"line_color\":{\"value\":\"#1f77b4\"},\"top\":{\"field\":\"people\"},\"width\":{\"value\":0.8},\"x\":{\"field\":\"sex\"}},\"id\":\"1159\",\"type\":\"VBar\"},{\"attributes\":{},\"id\":\"1218\",\"type\":\"CategoricalTickFormatter\"},{\"attributes\":{\"overlay\":{\"id\":\"1119\"}},\"id\":\"1115\",\"type\":\"BoxZoomTool\"},{\"attributes\":{},\"id\":\"1130\",\"type\":\"DataRange1d\"},{\"attributes\":{},\"id\":\"1148\",\"type\":\"HelpTool\"},{\"attributes\":{\"factors\":[[\"10-19\",\"Male\"],[\"20-29\",\"Female\"],[\"20-29\",\"Male\"],[\"30-39\",\"Female\"],[\"30-39\",\"Male\"],[\"40-49\",\"Female\"],[\"40-49\",\"Male\"],[\"50\",\"Male\"],[\"50-59\",\"Female\"],[\"50-59\",\"Male\"],[\"60-69\",\"Female\"],[\"60-69\",\"Male\"],[\"61\",\"Female\"],[\"70-79\",\"Female\"],[\"70-79\",\"Male\"],[\"80-89\",\"Female\"],[\"80-89\",\"Male\"],[\"90-99\",\"Female\"],[\"90-99\",\"Male\"],[\"<1\",\"Male\"],[\"<10\",\"Female\"],[\"<10\",\"Male\"],[\"<18\",\"Female\"],[\"<18\",\"Male\"],[\"<20\",\"Female\"],[\"<20\",\"Male\"]]},\"id\":\"1127\",\"type\":\"FactorRange\"},{\"attributes\":{},\"id\":\"1212\",\"type\":\"BasicTickFormatter\"},{\"attributes\":{\"callback\":null,\"tooltips\":[[\"Sales\",\"@people\"]]},\"id\":\"1185\",\"type\":\"HoverTool\"},{\"attributes\":{\"source\":{\"id\":\"1004\"}},\"id\":\"1171\",\"type\":\"CDSView\"},{\"attributes\":{},\"id\":\"1116\",\"type\":\"SaveTool\"},{\"attributes\":{},\"id\":\"1210\",\"type\":\"CategoricalTickFormatter\"},{\"attributes\":{\"data_source\":{\"id\":\"1004\"},\"glyph\":{\"id\":\"1168\"},\"hover_glyph\":null,\"muted_glyph\":null,\"nonselection_glyph\":{\"id\":\"1169\"},\"selection_glyph\":null,\"view\":{\"id\":\"1171\"}},\"id\":\"1170\",\"type\":\"GlyphRenderer\"},{\"attributes\":{},\"id\":\"1214\",\"type\":\"CategoricalTickFormatter\"},{\"attributes\":{},\"id\":\"1114\",\"type\":\"WheelZoomTool\"},{\"attributes\":{\"fill_color\":{\"value\":\"#1f77b4\"},\"line_color\":{\"value\":\"#1f77b4\"},\"top\":{\"field\":\"people\"},\"width\":{\"value\":0.8},\"x\":{\"field\":\"sex\"}},\"id\":\"1158\",\"type\":\"VBar\"},{\"attributes\":{\"data_source\":{\"id\":\"1005\"},\"glyph\":{\"id\":\"1173\"},\"hover_glyph\":null,\"muted_glyph\":null,\"nonselection_glyph\":{\"id\":\"1174\"},\"selection_glyph\":null,\"view\":{\"id\":\"1176\"}},\"id\":\"1175\",\"type\":\"GlyphRenderer\"},{\"attributes\":{},\"id\":\"1224\",\"type\":\"BasicTickFormatter\"},{\"attributes\":{},\"id\":\"1113\",\"type\":\"PanTool\"},{\"attributes\":{},\"id\":\"1117\",\"type\":\"ResetTool\"},{\"attributes\":{\"data_source\":{\"id\":\"1003\"},\"glyph\":{\"id\":\"1163\"},\"hover_glyph\":null,\"muted_glyph\":null,\"nonselection_glyph\":{\"id\":\"1164\"},\"selection_glyph\":null,\"view\":{\"id\":\"1166\"}},\"id\":\"1165\",\"type\":\"GlyphRenderer\"},{\"attributes\":{},\"id\":\"1226\",\"type\":\"CategoricalTickFormatter\"},{\"attributes\":{\"callback\":null,\"tooltips\":[[\"Sales\",\"@people\"]]},\"id\":\"1183\",\"type\":\"HoverTool\"},{\"attributes\":{\"fill_alpha\":{\"value\":0.1},\"fill_color\":{\"value\":\"#1f77b4\"},\"line_alpha\":{\"value\":0.1},\"line_color\":{\"value\":\"#1f77b4\"},\"top\":{\"field\":\"people\"},\"width\":{\"value\":0.8},\"x\":{\"field\":\"sex\"}},\"id\":\"1169\",\"type\":\"VBar\"},{\"attributes\":{\"fill_alpha\":{\"value\":0.1},\"fill_color\":{\"field\":\"label\",\"transform\":{\"id\":\"1177\"}},\"line_alpha\":{\"value\":0.1},\"line_color\":{\"value\":\"#1f77b4\"},\"top\":{\"field\":\"people\"},\"width\":{\"value\":0.8},\"x\":{\"field\":\"label\"}},\"id\":\"1180\",\"type\":\"VBar\"},{\"attributes\":{},\"id\":\"1227\",\"type\":\"Selection\"},{\"attributes\":{\"fill_color\":{\"value\":\"#1f77b4\"},\"line_color\":{\"value\":\"#1f77b4\"},\"top\":{\"field\":\"people\"},\"width\":{\"value\":0.8},\"x\":{\"field\":\"age\"}},\"id\":\"1163\",\"type\":\"VBar\"},{\"attributes\":{\"fill_alpha\":{\"value\":0.1},\"fill_color\":{\"value\":\"#1f77b4\"},\"line_alpha\":{\"value\":0.1},\"line_color\":{\"value\":\"#1f77b4\"},\"top\":{\"field\":\"people\"},\"width\":{\"value\":0.8},\"x\":{\"field\":\"age\"}},\"id\":\"1174\",\"type\":\"VBar\"},{\"attributes\":{},\"id\":\"1228\",\"type\":\"UnionRenderers\"},{\"attributes\":{},\"id\":\"1216\",\"type\":\"BasicTickFormatter\"},{\"attributes\":{\"bottom_units\":\"screen\",\"fill_alpha\":0.5,\"fill_color\":\"lightgrey\",\"left_units\":\"screen\",\"level\":\"overlay\",\"line_alpha\":1.0,\"line_color\":\"black\",\"line_dash\":[4,4],\"line_width\":2,\"render_mode\":\"css\",\"right_units\":\"screen\",\"top_units\":\"screen\"},\"id\":\"1089\",\"type\":\"BoxAnnotation\"},{\"attributes\":{\"data\":{\"index\":[0,1,2],\"people\":[5689,319,312],\"sex\":[\"Not Reported\",\"Male\",\"Female\"]},\"selected\":{\"id\":\"1227\"},\"selection_policy\":{\"id\":\"1228\"}},\"id\":\"1002\",\"type\":\"ColumnDataSource\"},{\"attributes\":{\"source\":{\"id\":\"1005\"}},\"id\":\"1176\",\"type\":\"CDSView\"},{\"attributes\":{},\"id\":\"1230\",\"type\":\"Selection\"},{\"attributes\":{\"active_drag\":\"auto\",\"active_inspect\":\"auto\",\"active_multi\":null,\"active_scroll\":\"auto\",\"active_tap\":\"auto\",\"tools\":[{\"id\":\"1083\"},{\"id\":\"1084\"},{\"id\":\"1085\"},{\"id\":\"1086\"},{\"id\":\"1087\"},{\"id\":\"1088\"},{\"id\":\"1187\"}]},\"id\":\"1090\",\"type\":\"Toolbar\"},{\"attributes\":{\"bottom_units\":\"screen\",\"fill_alpha\":0.5,\"fill_color\":\"lightgrey\",\"left_units\":\"screen\",\"level\":\"overlay\",\"line_alpha\":1.0,\"line_color\":\"black\",\"line_dash\":[4,4],\"line_width\":2,\"render_mode\":\"css\",\"right_units\":\"screen\",\"top_units\":\"screen\"},\"id\":\"1149\",\"type\":\"BoxAnnotation\"},{\"attributes\":{},\"id\":\"1231\",\"type\":\"UnionRenderers\"},{\"attributes\":{\"end\":2,\"factors\":[\"Male\",\"Female\",\"Male\",\"Female\",\"Male\",\"Female\",\"Male\",\"Male\",\"Female\",\"Male\",\"Female\",\"Male\",\"Female\",\"Female\",\"Male\",\"Female\",\"Male\",\"Female\",\"Male\",\"Male\",\"Female\",\"Male\",\"Female\",\"Male\",\"Female\",\"Male\"],\"palette\":[\"#3288bd\",\"#99d594\",\"#e6f598\",\"#fee08b\",\"#fc8d59\",\"#d53e4f\"],\"start\":1},\"id\":\"1177\",\"type\":\"CategoricalColorMapper\"},{\"attributes\":{\"bottom_units\":\"screen\",\"fill_alpha\":0.5,\"fill_color\":\"lightgrey\",\"left_units\":\"screen\",\"level\":\"overlay\",\"line_alpha\":1.0,\"line_color\":\"black\",\"line_dash\":[4,4],\"line_width\":2,\"render_mode\":\"css\",\"right_units\":\"screen\",\"top_units\":\"screen\"},\"id\":\"1059\",\"type\":\"BoxAnnotation\"},{\"attributes\":{\"bottom_units\":\"screen\",\"fill_alpha\":0.5,\"fill_color\":\"lightgrey\",\"left_units\":\"screen\",\"level\":\"overlay\",\"line_alpha\":1.0,\"line_color\":\"black\",\"line_dash\":[4,4],\"line_width\":2,\"render_mode\":\"css\",\"right_units\":\"screen\",\"top_units\":\"screen\"},\"id\":\"1119\",\"type\":\"BoxAnnotation\"},{\"attributes\":{\"factors\":[\"Not Reported\",\"50-59\",\"60-69\",\"40-49\",\"30-39\",\"20-29\",\"70-79\",\"80-89\",\"90-99\",\"<20\",\"<18\",\"<10\",\"10-19\",\"50\",\"<1\",\"2\",\"61\"]},\"id\":\"1037\",\"type\":\"FactorRange\"},{\"attributes\":{},\"id\":\"1233\",\"type\":\"Selection\"},{\"attributes\":{\"factors\":[\"Not Reported\",\"Male\",\"Female\"]},\"id\":\"1007\",\"type\":\"FactorRange\"},{\"attributes\":{\"active_drag\":\"auto\",\"active_inspect\":\"auto\",\"active_multi\":null,\"active_scroll\":\"auto\",\"active_tap\":\"auto\",\"tools\":[{\"id\":\"1053\"},{\"id\":\"1054\"},{\"id\":\"1055\"},{\"id\":\"1056\"},{\"id\":\"1057\"},{\"id\":\"1058\"},{\"id\":\"1185\"}]},\"id\":\"1060\",\"type\":\"Toolbar\"},{\"attributes\":{},\"id\":\"1222\",\"type\":\"CategoricalTickFormatter\"},{\"attributes\":{},\"id\":\"1074\",\"type\":\"LinearScale\"},{\"attributes\":{},\"id\":\"1220\",\"type\":\"BasicTickFormatter\"},{\"attributes\":{},\"id\":\"1234\",\"type\":\"UnionRenderers\"},{\"attributes\":{\"formatter\":{\"id\":\"1218\"},\"ticker\":{\"id\":\"1077\"}},\"id\":\"1076\",\"type\":\"CategoricalAxis\"},{\"attributes\":{\"fill_color\":{\"value\":\"#1f77b4\"},\"line_color\":{\"value\":\"#1f77b4\"},\"top\":{\"field\":\"people\"},\"width\":{\"value\":0.8},\"x\":{\"field\":\"age\"}},\"id\":\"1173\",\"type\":\"VBar\"},{\"attributes\":{\"background_fill_color\":\"#fafafa\",\"below\":[{\"id\":\"1016\"}],\"center\":[{\"id\":\"1018\"},{\"id\":\"1022\"}],\"left\":[{\"id\":\"1019\"}],\"plot_height\":300,\"plot_width\":495,\"renderers\":[{\"id\":\"1160\"}],\"title\":{\"id\":\"1197\"},\"toolbar\":{\"id\":\"1030\"},\"x_range\":{\"id\":\"1007\"},\"x_scale\":{\"id\":\"1012\"},\"y_range\":{\"id\":\"1010\"},\"y_scale\":{\"id\":\"1014\"}},\"id\":\"1008\",\"subtype\":\"Figure\",\"type\":\"Plot\"},{\"attributes\":{\"fill_alpha\":{\"value\":0.1},\"fill_color\":{\"value\":\"#1f77b4\"},\"line_alpha\":{\"value\":0.1},\"line_color\":{\"value\":\"#1f77b4\"},\"top\":{\"field\":\"people\"},\"width\":{\"value\":0.8},\"x\":{\"field\":\"age\"}},\"id\":\"1164\",\"type\":\"VBar\"},{\"attributes\":{},\"id\":\"1236\",\"type\":\"Selection\"},{\"attributes\":{\"active_drag\":\"auto\",\"active_inspect\":\"auto\",\"active_multi\":null,\"active_scroll\":\"auto\",\"active_tap\":\"auto\",\"tools\":[{\"id\":\"1113\"},{\"id\":\"1114\"},{\"id\":\"1115\"},{\"id\":\"1116\"},{\"id\":\"1117\"},{\"id\":\"1118\"},{\"id\":\"1189\"}]},\"id\":\"1120\",\"type\":\"Toolbar\"},{\"attributes\":{},\"id\":\"1237\",\"type\":\"UnionRenderers\"},{\"attributes\":{\"data_source\":{\"id\":\"1006\"},\"glyph\":{\"id\":\"1179\"},\"hover_glyph\":null,\"muted_glyph\":null,\"nonselection_glyph\":{\"id\":\"1180\"},\"selection_glyph\":null,\"view\":{\"id\":\"1182\"}},\"id\":\"1181\",\"type\":\"GlyphRenderer\"},{\"attributes\":{},\"id\":\"1010\",\"type\":\"DataRange1d\"},{\"attributes\":{},\"id\":\"1080\",\"type\":\"BasicTicker\"},{\"attributes\":{\"factors\":[\"50-59\",\"60-69\",\"40-49\",\"30-39\",\"20-29\",\"70-79\",\"80-89\",\"90-99\",\"<20\",\"<18\",\"<10\",\"10-19\",\"<1\",\"61\",\"50\",\"2\"]},\"id\":\"1097\",\"type\":\"FactorRange\"},{\"attributes\":{},\"id\":\"1077\",\"type\":\"CategoricalTicker\"},{\"attributes\":{},\"id\":\"1240\",\"type\":\"UnionRenderers\"},{\"attributes\":{\"axis\":{\"id\":\"1076\"},\"ticker\":null},\"id\":\"1078\",\"type\":\"Grid\"},{\"attributes\":{},\"id\":\"1012\",\"type\":\"CategoricalScale\"},{\"attributes\":{\"source\":{\"id\":\"1006\"}},\"id\":\"1182\",\"type\":\"CDSView\"},{\"attributes\":{\"axis\":{\"id\":\"1079\"},\"dimension\":1,\"ticker\":null},\"id\":\"1082\",\"type\":\"Grid\"},{\"attributes\":{},\"id\":\"1134\",\"type\":\"LinearScale\"},{\"attributes\":{\"callback\":null,\"tooltips\":[[\"Sales\",\"@people\"]]},\"id\":\"1187\",\"type\":\"HoverTool\"},{\"attributes\":{},\"id\":\"1014\",\"type\":\"LinearScale\"},{\"attributes\":{\"formatter\":{\"id\":\"1216\"},\"ticker\":{\"id\":\"1080\"}},\"id\":\"1079\",\"type\":\"LinearAxis\"},{\"attributes\":{\"formatter\":{\"id\":\"1226\"},\"major_label_orientation\":1,\"ticker\":{\"id\":\"1137\"}},\"id\":\"1136\",\"type\":\"CategoricalAxis\"},{\"attributes\":{\"formatter\":{\"id\":\"1210\"},\"ticker\":{\"id\":\"1017\"}},\"id\":\"1016\",\"type\":\"CategoricalAxis\"},{\"attributes\":{\"axis\":{\"id\":\"1109\"},\"dimension\":1,\"ticker\":null},\"id\":\"1112\",\"type\":\"Grid\"},{\"attributes\":{},\"id\":\"1140\",\"type\":\"BasicTicker\"},{\"attributes\":{},\"id\":\"1020\",\"type\":\"BasicTicker\"},{\"attributes\":{},\"id\":\"1137\",\"type\":\"CategoricalTicker\"},{\"attributes\":{},\"id\":\"1017\",\"type\":\"CategoricalTicker\"},{\"attributes\":{\"callback\":null,\"tooltips\":[[\"Sales\",\"@people\"]]},\"id\":\"1189\",\"type\":\"HoverTool\"},{\"attributes\":{\"children\":[{\"id\":\"1008\"},{\"id\":\"1038\"}]},\"id\":\"1193\",\"type\":\"Row\"},{\"attributes\":{\"axis\":{\"id\":\"1136\"},\"ticker\":null},\"id\":\"1138\",\"type\":\"Grid\"},{\"attributes\":{\"axis\":{\"id\":\"1016\"},\"ticker\":null},\"id\":\"1018\",\"type\":\"Grid\"},{\"attributes\":{\"callback\":null,\"tooltips\":[[\"Sales\",\"@people\"]]},\"id\":\"1191\",\"type\":\"HoverTool\"},{\"attributes\":{\"children\":[{\"id\":\"1068\"},{\"id\":\"1098\"}]},\"id\":\"1194\",\"type\":\"Row\"},{\"attributes\":{\"axis\":{\"id\":\"1139\"},\"dimension\":1,\"ticker\":null},\"id\":\"1142\",\"type\":\"Grid\"},{\"attributes\":{\"background_fill_color\":\"#fafafa\",\"below\":[{\"id\":\"1106\"}],\"center\":[{\"id\":\"1108\"},{\"id\":\"1112\"}],\"left\":[{\"id\":\"1109\"}],\"plot_height\":300,\"plot_width\":495,\"renderers\":[{\"id\":\"1175\"}],\"title\":{\"id\":\"1203\"},\"toolbar\":{\"id\":\"1120\"},\"x_range\":{\"id\":\"1097\"},\"x_scale\":{\"id\":\"1102\"},\"y_range\":{\"id\":\"1100\"},\"y_scale\":{\"id\":\"1104\"}},\"id\":\"1098\",\"subtype\":\"Figure\",\"type\":\"Plot\"},{\"attributes\":{\"axis\":{\"id\":\"1019\"},\"dimension\":1,\"ticker\":null},\"id\":\"1022\",\"type\":\"Grid\"},{\"attributes\":{\"formatter\":{\"id\":\"1224\"},\"ticker\":{\"id\":\"1140\"}},\"id\":\"1139\",\"type\":\"LinearAxis\"},{\"attributes\":{\"formatter\":{\"id\":\"1208\"},\"ticker\":{\"id\":\"1020\"}},\"id\":\"1019\",\"type\":\"LinearAxis\"},{\"attributes\":{},\"id\":\"1132\",\"type\":\"CategoricalScale\"},{\"attributes\":{},\"id\":\"1083\",\"type\":\"PanTool\"},{\"attributes\":{\"background_fill_color\":\"#fafafa\",\"below\":[{\"id\":\"1136\"}],\"center\":[{\"id\":\"1138\"},{\"id\":\"1142\"}],\"left\":[{\"id\":\"1139\"}],\"plot_height\":300,\"plot_width\":990,\"renderers\":[{\"id\":\"1181\"}],\"title\":{\"id\":\"1205\"},\"toolbar\":{\"id\":\"1150\"},\"x_range\":{\"id\":\"1127\"},\"x_scale\":{\"id\":\"1132\"},\"y_range\":{\"id\":\"1130\"},\"y_scale\":{\"id\":\"1134\"}},\"id\":\"1128\",\"subtype\":\"Figure\",\"type\":\"Plot\"},{\"attributes\":{\"data_source\":{\"id\":\"1002\"},\"glyph\":{\"id\":\"1158\"},\"hover_glyph\":null,\"muted_glyph\":null,\"nonselection_glyph\":{\"id\":\"1159\"},\"selection_glyph\":null,\"view\":{\"id\":\"1161\"}},\"id\":\"1160\",\"type\":\"GlyphRenderer\"},{\"attributes\":{},\"id\":\"1084\",\"type\":\"WheelZoomTool\"},{\"attributes\":{\"children\":[{\"id\":\"1128\"}]},\"id\":\"1195\",\"type\":\"Row\"},{\"attributes\":{},\"id\":\"1042\",\"type\":\"CategoricalScale\"},{\"attributes\":{\"source\":{\"id\":\"1003\"}},\"id\":\"1166\",\"type\":\"CDSView\"},{\"attributes\":{},\"id\":\"1040\",\"type\":\"DataRange1d\"},{\"attributes\":{\"overlay\":{\"id\":\"1089\"}},\"id\":\"1085\",\"type\":\"BoxZoomTool\"},{\"attributes\":{\"active_drag\":\"auto\",\"active_inspect\":\"auto\",\"active_multi\":null,\"active_scroll\":\"auto\",\"active_tap\":\"auto\",\"tools\":[{\"id\":\"1023\"},{\"id\":\"1024\"},{\"id\":\"1025\"},{\"id\":\"1026\"},{\"id\":\"1027\"},{\"id\":\"1028\"},{\"id\":\"1183\"}]},\"id\":\"1030\",\"type\":\"Toolbar\"},{\"attributes\":{\"data\":{\"age\":[\"50-59\",\"60-69\",\"40-49\",\"30-39\",\"20-29\",\"70-79\",\"80-89\",\"90-99\",\"<20\",\"<18\",\"<10\",\"10-19\",\"<1\",\"61\",\"50\",\"2\"],\"index\":[0,1,2,3,4,5,6,7,8,9,10,11,12,13,14,15],\"people\":[136,115,106,106,88,64,26,12,8,5,5,2,1,1,1,1]},\"selected\":{\"id\":\"1236\"},\"selection_policy\":{\"id\":\"1237\"}},\"id\":\"1005\",\"type\":\"ColumnDataSource\"},{\"attributes\":{},\"id\":\"1023\",\"type\":\"PanTool\"},{\"attributes\":{},\"id\":\"1024\",\"type\":\"WheelZoomTool\"},{\"attributes\":{\"overlay\":{\"id\":\"1029\"}},\"id\":\"1025\",\"type\":\"BoxZoomTool\"},{\"attributes\":{},\"id\":\"1026\",\"type\":\"SaveTool\"},{\"attributes\":{},\"id\":\"1027\",\"type\":\"ResetTool\"},{\"attributes\":{},\"id\":\"1028\",\"type\":\"HelpTool\"},{\"attributes\":{\"axis\":{\"id\":\"1106\"},\"ticker\":null},\"id\":\"1108\",\"type\":\"Grid\"},{\"attributes\":{},\"id\":\"1102\",\"type\":\"CategoricalScale\"},{\"attributes\":{},\"id\":\"1104\",\"type\":\"LinearScale\"},{\"attributes\":{\"formatter\":{\"id\":\"1222\"},\"major_label_orientation\":1,\"ticker\":{\"id\":\"1107\"}},\"id\":\"1106\",\"type\":\"CategoricalAxis\"},{\"attributes\":{},\"id\":\"1110\",\"type\":\"BasicTicker\"},{\"attributes\":{\"formatter\":{\"id\":\"1220\"},\"ticker\":{\"id\":\"1110\"}},\"id\":\"1109\",\"type\":\"LinearAxis\"},{\"attributes\":{},\"id\":\"1107\",\"type\":\"CategoricalTicker\"},{\"attributes\":{},\"id\":\"1239\",\"type\":\"Selection\"},{\"attributes\":{\"background_fill_color\":\"#fafafa\",\"below\":[{\"id\":\"1046\"}],\"center\":[{\"id\":\"1048\"},{\"id\":\"1052\"}],\"left\":[{\"id\":\"1049\"}],\"plot_height\":300,\"plot_width\":495,\"renderers\":[{\"id\":\"1165\"}],\"title\":{\"id\":\"1199\"},\"toolbar\":{\"id\":\"1060\"},\"x_range\":{\"id\":\"1037\"},\"x_scale\":{\"id\":\"1042\"},\"y_range\":{\"id\":\"1040\"},\"y_scale\":{\"id\":\"1044\"}},\"id\":\"1038\",\"subtype\":\"Figure\",\"type\":\"Plot\"},{\"attributes\":{\"factors\":[\"Male\",\"Female\"]},\"id\":\"1067\",\"type\":\"FactorRange\"},{\"attributes\":{},\"id\":\"1100\",\"type\":\"DataRange1d\"},{\"attributes\":{\"bottom_units\":\"screen\",\"fill_alpha\":0.5,\"fill_color\":\"lightgrey\",\"left_units\":\"screen\",\"level\":\"overlay\",\"line_alpha\":1.0,\"line_color\":\"black\",\"line_dash\":[4,4],\"line_width\":2,\"render_mode\":\"css\",\"right_units\":\"screen\",\"top_units\":\"screen\"},\"id\":\"1029\",\"type\":\"BoxAnnotation\"},{\"attributes\":{},\"id\":\"1050\",\"type\":\"BasicTicker\"},{\"attributes\":{\"formatter\":{\"id\":\"1214\"},\"major_label_orientation\":1,\"ticker\":{\"id\":\"1047\"}},\"id\":\"1046\",\"type\":\"CategoricalAxis\"},{\"attributes\":{},\"id\":\"1044\",\"type\":\"LinearScale\"},{\"attributes\":{\"data\":{\"index\":[0,1],\"people\":[319,312],\"sex\":[\"Male\",\"Female\"]},\"selected\":{\"id\":\"1233\"},\"selection_policy\":{\"id\":\"1234\"}},\"id\":\"1004\",\"type\":\"ColumnDataSource\"},{\"attributes\":{},\"id\":\"1047\",\"type\":\"CategoricalTicker\"},{\"attributes\":{\"data\":{\"age\":[\"10-19\",\"20-29\",\"20-29\",\"30-39\",\"30-39\",\"40-49\",\"40-49\",\"50\",\"50-59\",\"50-59\",\"60-69\",\"60-69\",\"61\",\"70-79\",\"70-79\",\"80-89\",\"80-89\",\"90-99\",\"90-99\",\"<1\",\"<10\",\"<10\",\"<18\",\"<18\",\"<20\",\"<20\"],\"index\":[0,1,2,3,4,5,6,7,8,9,10,11,12,13,14,15,16,17,18,19,20,21,22,23,24,25],\"label\":[[\"10-19\",\"Male\"],[\"20-29\",\"Female\"],[\"20-29\",\"Male\"],[\"30-39\",\"Female\"],[\"30-39\",\"Male\"],[\"40-49\",\"Female\"],[\"40-49\",\"Male\"],[\"50\",\"Male\"],[\"50-59\",\"Female\"],[\"50-59\",\"Male\"],[\"60-69\",\"Female\"],[\"60-69\",\"Male\"],[\"61\",\"Female\"],[\"70-79\",\"Female\"],[\"70-79\",\"Male\"],[\"80-89\",\"Female\"],[\"80-89\",\"Male\"],[\"90-99\",\"Female\"],[\"90-99\",\"Male\"],[\"<1\",\"Male\"],[\"<10\",\"Female\"],[\"<10\",\"Male\"],[\"<18\",\"Female\"],[\"<18\",\"Male\"],[\"<20\",\"Female\"],[\"<20\",\"Male\"]],\"people\":[1,40,34,47,50,38,61,1,77,51,49,54,1,31,29,10,16,6,4,1,1,1,4,1,2,6],\"sex\":[\"Male\",\"Female\",\"Male\",\"Female\",\"Male\",\"Female\",\"Male\",\"Male\",\"Female\",\"Male\",\"Female\",\"Male\",\"Female\",\"Female\",\"Male\",\"Female\",\"Male\",\"Female\",\"Male\",\"Male\",\"Female\",\"Male\",\"Female\",\"Male\",\"Female\",\"Male\"]},\"selected\":{\"id\":\"1239\"},\"selection_policy\":{\"id\":\"1240\"}},\"id\":\"1006\",\"type\":\"ColumnDataSource\"},{\"attributes\":{\"axis\":{\"id\":\"1046\"},\"ticker\":null},\"id\":\"1048\",\"type\":\"Grid\"},{\"attributes\":{},\"id\":\"1070\",\"type\":\"DataRange1d\"},{\"attributes\":{\"axis\":{\"id\":\"1049\"},\"dimension\":1,\"ticker\":null},\"id\":\"1052\",\"type\":\"Grid\"},{\"attributes\":{\"formatter\":{\"id\":\"1212\"},\"ticker\":{\"id\":\"1050\"}},\"id\":\"1049\",\"type\":\"LinearAxis\"},{\"attributes\":{},\"id\":\"1072\",\"type\":\"CategoricalScale\"},{\"attributes\":{\"data\":{\"age\":[\"Not Reported\",\"50-59\",\"60-69\",\"40-49\",\"30-39\",\"20-29\",\"70-79\",\"80-89\",\"90-99\",\"<20\",\"<18\",\"<10\",\"10-19\",\"50\",\"<1\",\"2\",\"61\"],\"index\":[0,1,2,3,4,5,6,7,8,9,10,11,12,13,14,15,16],\"people\":[5643,136,115,106,106,88,64,26,12,8,5,5,2,1,1,1,1]},\"selected\":{\"id\":\"1230\"},\"selection_policy\":{\"id\":\"1231\"}},\"id\":\"1003\",\"type\":\"ColumnDataSource\"},{\"attributes\":{\"fill_color\":{\"value\":\"#1f77b4\"},\"line_color\":{\"value\":\"#1f77b4\"},\"top\":{\"field\":\"people\"},\"width\":{\"value\":0.8},\"x\":{\"field\":\"sex\"}},\"id\":\"1168\",\"type\":\"VBar\"},{\"attributes\":{\"fill_color\":{\"field\":\"label\",\"transform\":{\"id\":\"1177\"}},\"line_color\":{\"value\":\"#1f77b4\"},\"top\":{\"field\":\"people\"},\"width\":{\"value\":0.8},\"x\":{\"field\":\"label\"}},\"id\":\"1179\",\"type\":\"VBar\"},{\"attributes\":{\"background_fill_color\":\"#fafafa\",\"below\":[{\"id\":\"1076\"}],\"center\":[{\"id\":\"1078\"},{\"id\":\"1082\"}],\"left\":[{\"id\":\"1079\"}],\"plot_height\":300,\"plot_width\":495,\"renderers\":[{\"id\":\"1170\"}],\"title\":{\"id\":\"1201\"},\"toolbar\":{\"id\":\"1090\"},\"x_range\":{\"id\":\"1067\"},\"x_scale\":{\"id\":\"1072\"},\"y_range\":{\"id\":\"1070\"},\"y_scale\":{\"id\":\"1074\"}},\"id\":\"1068\",\"subtype\":\"Figure\",\"type\":\"Plot\"},{\"attributes\":{\"source\":{\"id\":\"1002\"}},\"id\":\"1161\",\"type\":\"CDSView\"},{\"attributes\":{},\"id\":\"1053\",\"type\":\"PanTool\"}],\"root_ids\":[\"1196\"]},\"title\":\"Bokeh Application\",\"version\":\"2.0.1\"}};\n",
       "  var render_items = [{\"docid\":\"10a6ba7e-6272-4dd8-a8bd-0877b431242b\",\"root_ids\":[\"1196\"],\"roots\":{\"1196\":\"ea73ecb1-710e-42ac-a4c1-14c4469b1432\"}}];\n",
       "  root.Bokeh.embed.embed_items_notebook(docs_json, render_items);\n",
       "\n",
       "  }\n",
       "  if (root.Bokeh !== undefined) {\n",
       "    embed_document(root);\n",
       "  } else {\n",
       "    var attempts = 0;\n",
       "    var timer = setInterval(function(root) {\n",
       "      if (root.Bokeh !== undefined) {\n",
       "        clearInterval(timer);\n",
       "        embed_document(root);\n",
       "      } else {\n",
       "        attempts++;\n",
       "        if (attempts > 100) {\n",
       "          clearInterval(timer);\n",
       "          console.log(\"Bokeh: ERROR: Unable to run BokehJS code because BokehJS library is missing\");\n",
       "        }\n",
       "      }\n",
       "    }, 10, root)\n",
       "  }\n",
       "})(window);"
      ],
      "application/vnd.bokehjs_exec.v0+json": ""
     },
     "metadata": {
      "application/vnd.bokehjs_exec.v0+json": {
       "id": "1196"
      }
     },
     "output_type": "display_data"
    }
   ],
   "source": [
    "plot1 = figure(plot_width = 495, plot_height = 300, x_range = FactorRange(factors = all_gender_factors),background_fill_color=\"#fafafa\")\n",
    "plot2 = figure(plot_width = 495, plot_height = 300, x_range = FactorRange(factors = all_age_factors),background_fill_color=\"#fafafa\")\n",
    "plot3 = figure(plot_width = 495, plot_height = 300, x_range = FactorRange(factors = sex_case_factors),background_fill_color=\"#fafafa\")\n",
    "plot4 = figure(plot_width = 495, plot_height = 300, x_range = FactorRange(factors = age_case_factors),background_fill_color=\"#fafafa\")\n",
    "plot5 = figure(plot_width = 990, plot_height = 300, x_range = FactorRange(factors = sex_age['label']),background_fill_color=\"#fafafa\")\n",
    "\n",
    "\n",
    "plot1.vbar(x = 'sex' , top = 'people' , width = 0.8, source = all_gender_data)\n",
    "plot2.vbar(x = 'age' , top = 'people' , width = 0.8, source = all_age_data)\n",
    "plot3.vbar(x = 'sex' , top = 'people' , width = 0.8, source = sex_case_data)\n",
    "plot4.vbar(x = 'age' , top = 'people' , width = 0.8, source = age_case_data)\n",
    "plot5.vbar(x = 'label' , top = 'people' , width = 0.8, source = sex_age_data,\\\n",
    "          fill_color=factor_cmap('label', factors= sex_age['sex'] , start=1, end=2, palette = Spectral6))\n",
    "\n",
    "plot1.add_tools(HoverTool(tooltips = [('Sales', '@people')]))\n",
    "plot2.add_tools(HoverTool(tooltips = [('Sales', '@people')]))\n",
    "plot3.add_tools(HoverTool(tooltips = [('Sales', '@people')]))\n",
    "plot4.add_tools(HoverTool(tooltips = [('Sales', '@people')]))\n",
    "plot5.add_tools(HoverTool(tooltips = [('Sales', '@people')]))\n",
    "\n",
    "plot2.xaxis.major_label_orientation = 1\n",
    "plot4.xaxis.major_label_orientation = 1\n",
    "plot5.xaxis.major_label_orientation = 1\n",
    "\n",
    "grid = layout([[plot1,plot2],[plot3, plot4],[plot5]]) \n",
    "\n",
    "\n",
    "show(grid)"
   ]
  },
  {
   "cell_type": "code",
   "execution_count": 11,
   "metadata": {},
   "outputs": [],
   "source": [
    "data_report = pd.DataFrame(n_cases['date_report'].value_counts()).reset_index().sort_values(by = 'index')\n",
    "data_report_data = ColumnDataSource(data_report)\n",
    "report_week = pd.DataFrame(n_cases['report_week'].value_counts()).reset_index().sort_values(by = 'index')\n",
    "report_week_data = ColumnDataSource(report_week)"
   ]
  },
  {
   "cell_type": "code",
   "execution_count": null,
   "metadata": {},
   "outputs": [],
   "source": []
  },
  {
   "cell_type": "code",
   "execution_count": 12,
   "metadata": {},
   "outputs": [
    {
     "data": {
      "text/html": [
       "\n",
       "\n",
       "\n",
       "\n",
       "\n",
       "\n",
       "  <div class=\"bk-root\" id=\"64a56048-9670-4d29-80f1-c8f10e18020c\" data-root-id=\"1658\"></div>\n"
      ]
     },
     "metadata": {},
     "output_type": "display_data"
    },
    {
     "data": {
      "application/javascript": [
       "(function(root) {\n",
       "  function embed_document(root) {\n",
       "    \n",
       "  var docs_json = {\"1c68e718-508a-4ab2-bc7c-41c21e8590a0\":{\"roots\":{\"references\":[{\"attributes\":{\"children\":[{\"id\":\"1655\"},{\"id\":\"1656\"},{\"id\":\"1657\"}]},\"id\":\"1658\",\"type\":\"Column\"},{\"attributes\":{\"data_source\":{\"id\":\"1512\"},\"glyph\":{\"id\":\"1638\"},\"hover_glyph\":null,\"muted_glyph\":null,\"nonselection_glyph\":{\"id\":\"1639\"},\"selection_glyph\":null,\"view\":{\"id\":\"1641\"}},\"id\":\"1640\",\"type\":\"GlyphRenderer\"},{\"attributes\":{\"fill_alpha\":{\"value\":0.1},\"fill_color\":{\"value\":\"orange\"},\"line_alpha\":{\"value\":0.1},\"line_color\":{\"value\":\"orange\"},\"size\":{\"units\":\"screen\",\"value\":5},\"x\":{\"field\":\"index\"},\"y\":{\"field\":\"report_week\"}},\"id\":\"1644\",\"type\":\"Circle\"},{\"attributes\":{},\"id\":\"1531\",\"type\":\"PanTool\"},{\"attributes\":{\"fill_alpha\":{\"value\":0.1},\"fill_color\":{\"value\":\"#1f77b4\"},\"line_alpha\":{\"value\":0.1},\"line_color\":{\"value\":\"#1f77b4\"},\"size\":{\"units\":\"screen\",\"value\":5},\"x\":{\"field\":\"index\"},\"y\":{\"field\":\"date_report\"}},\"id\":\"1639\",\"type\":\"Circle\"},{\"attributes\":{\"line_alpha\":0.1,\"line_color\":\"#1f77b4\",\"line_width\":2,\"x\":{\"field\":\"index\"},\"y\":{\"field\":\"date_report\"}},\"id\":\"1609\",\"type\":\"Line\"},{\"attributes\":{},\"id\":\"1751\",\"type\":\"YearsTicker\"},{\"attributes\":{},\"id\":\"1532\",\"type\":\"WheelZoomTool\"},{\"attributes\":{\"callback\":null,\"tooltips\":[[\"Sales\",\"@report_week\"]]},\"id\":\"1649\",\"type\":\"HoverTool\"},{\"attributes\":{\"mantissas\":[1,2,5],\"max_interval\":500.0,\"num_minor_ticks\":0},\"id\":\"1753\",\"type\":\"AdaptiveTicker\"},{\"attributes\":{\"overlay\":{\"id\":\"1537\"}},\"id\":\"1533\",\"type\":\"BoxZoomTool\"},{\"attributes\":{\"bottom_units\":\"screen\",\"fill_alpha\":0.5,\"fill_color\":\"lightgrey\",\"left_units\":\"screen\",\"level\":\"overlay\",\"line_alpha\":1.0,\"line_color\":\"black\",\"line_dash\":[4,4],\"line_width\":2,\"render_mode\":\"css\",\"right_units\":\"screen\",\"top_units\":\"screen\"},\"id\":\"1599\",\"type\":\"BoxAnnotation\"},{\"attributes\":{\"base\":24,\"mantissas\":[1,2,4,6,8,12],\"max_interval\":43200000.0,\"min_interval\":3600000.0,\"num_minor_ticks\":0},\"id\":\"1755\",\"type\":\"AdaptiveTicker\"},{\"attributes\":{\"data_source\":{\"id\":\"1513\"},\"glyph\":{\"id\":\"1633\"},\"hover_glyph\":null,\"muted_glyph\":null,\"nonselection_glyph\":{\"id\":\"1634\"},\"selection_glyph\":null,\"view\":{\"id\":\"1636\"}},\"id\":\"1635\",\"type\":\"GlyphRenderer\"},{\"attributes\":{},\"id\":\"1534\",\"type\":\"SaveTool\"},{\"attributes\":{\"base\":60,\"mantissas\":[1,2,5,10,15,20,30],\"max_interval\":1800000.0,\"min_interval\":1000.0,\"num_minor_ticks\":0},\"id\":\"1754\",\"type\":\"AdaptiveTicker\"},{\"attributes\":{},\"id\":\"1535\",\"type\":\"ResetTool\"},{\"attributes\":{\"fill_color\":{\"value\":\"orange\"},\"line_color\":{\"value\":\"orange\"},\"size\":{\"units\":\"screen\",\"value\":5},\"x\":{\"field\":\"index\"},\"y\":{\"field\":\"report_week\"}},\"id\":\"1643\",\"type\":\"Circle\"},{\"attributes\":{\"bottom_units\":\"screen\",\"fill_alpha\":0.5,\"fill_color\":\"lightgrey\",\"left_units\":\"screen\",\"level\":\"overlay\",\"line_alpha\":1.0,\"line_color\":\"black\",\"line_dash\":[4,4],\"line_width\":2,\"render_mode\":\"css\",\"right_units\":\"screen\",\"top_units\":\"screen\"},\"id\":\"1568\",\"type\":\"BoxAnnotation\"},{\"attributes\":{},\"id\":\"1550\",\"type\":\"LinearScale\"},{\"attributes\":{\"days\":[1,2,3,4,5,6,7,8,9,10,11,12,13,14,15,16,17,18,19,20,21,22,23,24,25,26,27,28,29,30,31]},\"id\":\"1756\",\"type\":\"DaysTicker\"},{\"attributes\":{\"data_source\":{\"id\":\"1513\"},\"glyph\":{\"id\":\"1643\"},\"hover_glyph\":null,\"muted_glyph\":null,\"nonselection_glyph\":{\"id\":\"1644\"},\"selection_glyph\":null,\"view\":{\"id\":\"1646\"}},\"id\":\"1645\",\"type\":\"GlyphRenderer\"},{\"attributes\":{},\"id\":\"1536\",\"type\":\"HelpTool\"},{\"attributes\":{\"data\":{\"index\":{\"__ndarray__\":\"AAAAlrH7dkIAAEBe8v12QgAAgCYzAHdCAADA7nMCd0IAAAC3tAR3QgAAQH/1BndCAACARzYJd0IAAMAPdwt3QgAAANi3DXdCAABAoPgPd0IAAIBoORJ3Qg==\",\"dtype\":\"float64\",\"shape\":[11]},\"level_0\":[9,7,6,10,8,5,4,3,1,0,2],\"report_week\":[1,3,3,1,1,11,40,197,1074,4324,665]},\"selected\":{\"id\":\"1737\"},\"selection_policy\":{\"id\":\"1738\"}},\"id\":\"1513\",\"type\":\"ColumnDataSource\"},{\"attributes\":{\"days\":[1,4,7,10,13,16,19,22,25,28]},\"id\":\"1757\",\"type\":\"DaysTicker\"},{\"attributes\":{\"formatter\":{\"id\":\"1721\"},\"ticker\":{\"id\":\"1586\"}},\"id\":\"1585\",\"type\":\"DatetimeAxis\"},{\"attributes\":{\"fill_color\":{\"value\":\"#1f77b4\"},\"line_color\":{\"value\":\"#1f77b4\"},\"size\":{\"units\":\"screen\",\"value\":5},\"x\":{\"field\":\"index\"},\"y\":{\"field\":\"report_week\"}},\"id\":\"1623\",\"type\":\"Circle\"},{\"attributes\":{\"days\":[1,8,15,22]},\"id\":\"1758\",\"type\":\"DaysTicker\"},{\"attributes\":{\"source\":{\"id\":\"1512\"}},\"id\":\"1616\",\"type\":\"CDSView\"},{\"attributes\":{\"num_minor_ticks\":5,\"tickers\":[{\"id\":\"1740\"},{\"id\":\"1741\"},{\"id\":\"1742\"},{\"id\":\"1743\"},{\"id\":\"1744\"},{\"id\":\"1745\"},{\"id\":\"1746\"},{\"id\":\"1747\"},{\"id\":\"1748\"},{\"id\":\"1749\"},{\"id\":\"1750\"},{\"id\":\"1751\"}]},\"id\":\"1555\",\"type\":\"DatetimeTicker\"},{\"attributes\":{\"days\":[1,15]},\"id\":\"1759\",\"type\":\"DaysTicker\"},{\"attributes\":{\"data_source\":{\"id\":\"1512\"},\"glyph\":{\"id\":\"1613\"},\"hover_glyph\":null,\"muted_glyph\":null,\"nonselection_glyph\":{\"id\":\"1614\"},\"selection_glyph\":null,\"view\":{\"id\":\"1616\"}},\"id\":\"1615\",\"type\":\"GlyphRenderer\"},{\"attributes\":{\"axis\":{\"id\":\"1589\"},\"dimension\":1,\"ticker\":null},\"id\":\"1592\",\"type\":\"Grid\"},{\"attributes\":{\"months\":[0,1,2,3,4,5,6,7,8,9,10,11]},\"id\":\"1760\",\"type\":\"MonthsTicker\"},{\"attributes\":{\"axis\":{\"id\":\"1554\"},\"ticker\":null},\"id\":\"1557\",\"type\":\"Grid\"},{\"attributes\":{\"num_minor_ticks\":5,\"tickers\":[{\"id\":\"1753\"},{\"id\":\"1754\"},{\"id\":\"1755\"},{\"id\":\"1756\"},{\"id\":\"1757\"},{\"id\":\"1758\"},{\"id\":\"1759\"},{\"id\":\"1760\"},{\"id\":\"1761\"},{\"id\":\"1762\"},{\"id\":\"1763\"},{\"id\":\"1764\"}]},\"id\":\"1586\",\"type\":\"DatetimeTicker\"},{\"attributes\":{\"line_alpha\":0.1,\"line_color\":\"#1f77b4\",\"line_width\":2,\"x\":{\"field\":\"index\"},\"y\":{\"field\":\"report_week\"}},\"id\":\"1619\",\"type\":\"Line\"},{\"attributes\":{\"months\":[0,2,4,6,8,10]},\"id\":\"1761\",\"type\":\"MonthsTicker\"},{\"attributes\":{\"axis\":{\"id\":\"1585\"},\"ticker\":null},\"id\":\"1588\",\"type\":\"Grid\"},{\"attributes\":{\"source\":{\"id\":\"1513\"}},\"id\":\"1621\",\"type\":\"CDSView\"},{\"attributes\":{},\"id\":\"1559\",\"type\":\"BasicTicker\"},{\"attributes\":{\"months\":[0,4,8]},\"id\":\"1762\",\"type\":\"MonthsTicker\"},{\"attributes\":{\"formatter\":{\"id\":\"1715\"},\"ticker\":{\"id\":\"1559\"}},\"id\":\"1558\",\"type\":\"LinearAxis\"},{\"attributes\":{},\"id\":\"1590\",\"type\":\"BasicTicker\"},{\"attributes\":{\"formatter\":{\"id\":\"1719\"},\"ticker\":{\"id\":\"1590\"}},\"id\":\"1589\",\"type\":\"LinearAxis\"},{\"attributes\":{\"months\":[0,6]},\"id\":\"1763\",\"type\":\"MonthsTicker\"},{\"attributes\":{\"data_source\":{\"id\":\"1513\"},\"glyph\":{\"id\":\"1618\"},\"hover_glyph\":null,\"muted_glyph\":null,\"nonselection_glyph\":{\"id\":\"1619\"},\"selection_glyph\":null,\"view\":{\"id\":\"1621\"}},\"id\":\"1620\",\"type\":\"GlyphRenderer\"},{\"attributes\":{\"axis\":{\"id\":\"1558\"},\"dimension\":1,\"ticker\":null},\"id\":\"1561\",\"type\":\"Grid\"},{\"attributes\":{\"formatter\":{\"id\":\"1717\"},\"ticker\":{\"id\":\"1555\"}},\"id\":\"1554\",\"type\":\"DatetimeAxis\"},{\"attributes\":{\"line_color\":\"#1f77b4\",\"line_width\":2,\"x\":{\"field\":\"index\"},\"y\":{\"field\":\"report_week\"}},\"id\":\"1618\",\"type\":\"Line\"},{\"attributes\":{},\"id\":\"1764\",\"type\":\"YearsTicker\"},{\"attributes\":{},\"id\":\"1552\",\"type\":\"LinearScale\"},{\"attributes\":{\"base\":60,\"mantissas\":[1,2,5,10,15,20,30],\"max_interval\":1800000.0,\"min_interval\":1000.0,\"num_minor_ticks\":0},\"id\":\"1726\",\"type\":\"AdaptiveTicker\"},{\"attributes\":{\"source\":{\"id\":\"1513\"}},\"id\":\"1646\",\"type\":\"CDSView\"},{\"attributes\":{\"fill_color\":{\"value\":\"#1f77b4\"},\"line_color\":{\"value\":\"#1f77b4\"},\"size\":{\"units\":\"screen\",\"value\":5},\"x\":{\"field\":\"index\"},\"y\":{\"field\":\"date_report\"}},\"id\":\"1638\",\"type\":\"Circle\"},{\"attributes\":{\"source\":{\"id\":\"1512\"}},\"id\":\"1611\",\"type\":\"CDSView\"},{\"attributes\":{\"source\":{\"id\":\"1513\"}},\"id\":\"1626\",\"type\":\"CDSView\"},{\"attributes\":{\"mantissas\":[1,2,5],\"max_interval\":500.0,\"num_minor_ticks\":0},\"id\":\"1725\",\"type\":\"AdaptiveTicker\"},{\"attributes\":{\"active_drag\":\"auto\",\"active_inspect\":\"auto\",\"active_multi\":null,\"active_scroll\":\"auto\",\"active_tap\":\"auto\",\"tools\":[{\"id\":\"1531\"},{\"id\":\"1532\"},{\"id\":\"1533\"},{\"id\":\"1534\"},{\"id\":\"1535\"},{\"id\":\"1536\"},{\"id\":\"1647\"}]},\"id\":\"1538\",\"type\":\"Toolbar\"},{\"attributes\":{\"callback\":null,\"tooltips\":[[\"Sales\",\"@date_report\"]]},\"id\":\"1647\",\"type\":\"HoverTool\"},{\"attributes\":{\"source\":{\"id\":\"1512\"}},\"id\":\"1631\",\"type\":\"CDSView\"},{\"attributes\":{\"data_source\":{\"id\":\"1513\"},\"glyph\":{\"id\":\"1623\"},\"hover_glyph\":null,\"muted_glyph\":null,\"nonselection_glyph\":{\"id\":\"1624\"},\"selection_glyph\":null,\"view\":{\"id\":\"1626\"}},\"id\":\"1625\",\"type\":\"GlyphRenderer\"},{\"attributes\":{},\"id\":\"1577\",\"type\":\"DataRange1d\"},{\"attributes\":{},\"id\":\"1593\",\"type\":\"PanTool\"},{\"attributes\":{\"fill_alpha\":{\"value\":0.1},\"fill_color\":{\"value\":\"#1f77b4\"},\"line_alpha\":{\"value\":0.1},\"line_color\":{\"value\":\"#1f77b4\"},\"size\":{\"units\":\"screen\",\"value\":5},\"x\":{\"field\":\"index\"},\"y\":{\"field\":\"report_week\"}},\"id\":\"1624\",\"type\":\"Circle\"},{\"attributes\":{},\"id\":\"1594\",\"type\":\"WheelZoomTool\"},{\"attributes\":{},\"id\":\"1583\",\"type\":\"LinearScale\"},{\"attributes\":{\"overlay\":{\"id\":\"1599\"}},\"id\":\"1595\",\"type\":\"BoxZoomTool\"},{\"attributes\":{\"fill_color\":{\"value\":\"#1f77b4\"},\"line_color\":{\"value\":\"#1f77b4\"},\"size\":{\"units\":\"screen\",\"value\":5},\"x\":{\"field\":\"index\"},\"y\":{\"field\":\"date_report\"}},\"id\":\"1613\",\"type\":\"Circle\"},{\"attributes\":{},\"id\":\"1596\",\"type\":\"SaveTool\"},{\"attributes\":{},\"id\":\"1579\",\"type\":\"DataRange1d\"},{\"attributes\":{\"callback\":null,\"renderers\":[{\"id\":\"1630\"}],\"tooltips\":[[\"Sales\",\"@date_report\"]]},\"id\":\"1651\",\"type\":\"HoverTool\"},{\"attributes\":{},\"id\":\"1562\",\"type\":\"PanTool\"},{\"attributes\":{},\"id\":\"1597\",\"type\":\"ResetTool\"},{\"attributes\":{\"data_source\":{\"id\":\"1512\"},\"glyph\":{\"id\":\"1608\"},\"hover_glyph\":null,\"muted_glyph\":null,\"nonselection_glyph\":{\"id\":\"1609\"},\"selection_glyph\":null,\"view\":{\"id\":\"1611\"}},\"id\":\"1610\",\"type\":\"GlyphRenderer\"},{\"attributes\":{},\"id\":\"1563\",\"type\":\"WheelZoomTool\"},{\"attributes\":{\"callback\":null,\"renderers\":[{\"id\":\"1635\"}],\"tooltips\":[[\"Sales\",\"@report_week\"]]},\"id\":\"1653\",\"type\":\"HoverTool\"},{\"attributes\":{},\"id\":\"1711\",\"type\":\"BasicTickFormatter\"},{\"attributes\":{},\"id\":\"1598\",\"type\":\"HelpTool\"},{\"attributes\":{\"overlay\":{\"id\":\"1568\"}},\"id\":\"1564\",\"type\":\"BoxZoomTool\"},{\"attributes\":{\"active_drag\":\"auto\",\"active_inspect\":\"auto\",\"active_multi\":null,\"active_scroll\":\"auto\",\"active_tap\":\"auto\",\"tools\":[{\"id\":\"1593\"},{\"id\":\"1594\"},{\"id\":\"1595\"},{\"id\":\"1596\"},{\"id\":\"1597\"},{\"id\":\"1598\"},{\"id\":\"1651\"},{\"id\":\"1653\"}]},\"id\":\"1600\",\"type\":\"Toolbar\"},{\"attributes\":{},\"id\":\"1565\",\"type\":\"SaveTool\"},{\"attributes\":{\"source\":{\"id\":\"1513\"}},\"id\":\"1636\",\"type\":\"CDSView\"},{\"attributes\":{\"children\":[{\"id\":\"1514\"}]},\"id\":\"1655\",\"type\":\"Row\"},{\"attributes\":{},\"id\":\"1566\",\"type\":\"ResetTool\"},{\"attributes\":{\"children\":[{\"id\":\"1545\"}]},\"id\":\"1656\",\"type\":\"Row\"},{\"attributes\":{\"base\":24,\"mantissas\":[1,2,4,6,8,12],\"max_interval\":43200000.0,\"min_interval\":3600000.0,\"num_minor_ticks\":0},\"id\":\"1727\",\"type\":\"AdaptiveTicker\"},{\"attributes\":{},\"id\":\"1581\",\"type\":\"LinearScale\"},{\"attributes\":{},\"id\":\"1567\",\"type\":\"HelpTool\"},{\"attributes\":{\"children\":[{\"id\":\"1576\"}]},\"id\":\"1657\",\"type\":\"Row\"},{\"attributes\":{\"active_drag\":\"auto\",\"active_inspect\":\"auto\",\"active_multi\":null,\"active_scroll\":\"auto\",\"active_tap\":\"auto\",\"tools\":[{\"id\":\"1562\"},{\"id\":\"1563\"},{\"id\":\"1564\"},{\"id\":\"1565\"},{\"id\":\"1566\"},{\"id\":\"1567\"},{\"id\":\"1649\"}]},\"id\":\"1569\",\"type\":\"Toolbar\"},{\"attributes\":{\"source\":{\"id\":\"1512\"}},\"id\":\"1641\",\"type\":\"CDSView\"},{\"attributes\":{\"data_source\":{\"id\":\"1512\"},\"glyph\":{\"id\":\"1628\"},\"hover_glyph\":null,\"muted_glyph\":null,\"nonselection_glyph\":{\"id\":\"1629\"},\"selection_glyph\":null,\"view\":{\"id\":\"1631\"}},\"id\":\"1630\",\"type\":\"GlyphRenderer\"},{\"attributes\":{\"fill_alpha\":{\"value\":0.1},\"fill_color\":{\"value\":\"#1f77b4\"},\"line_alpha\":{\"value\":0.1},\"line_color\":{\"value\":\"#1f77b4\"},\"size\":{\"units\":\"screen\",\"value\":5},\"x\":{\"field\":\"index\"},\"y\":{\"field\":\"date_report\"}},\"id\":\"1614\",\"type\":\"Circle\"},{\"attributes\":{\"line_color\":\"#1f77b4\",\"line_width\":2,\"x\":{\"field\":\"index\"},\"y\":{\"field\":\"date_report\"}},\"id\":\"1628\",\"type\":\"Line\"},{\"attributes\":{\"text\":\"\"},\"id\":\"1704\",\"type\":\"Title\"},{\"attributes\":{\"line_alpha\":0.1,\"line_color\":\"#1f77b4\",\"line_width\":2,\"x\":{\"field\":\"index\"},\"y\":{\"field\":\"date_report\"}},\"id\":\"1629\",\"type\":\"Line\"},{\"attributes\":{\"line_color\":\"orange\",\"line_width\":2,\"x\":{\"field\":\"index\"},\"y\":{\"field\":\"report_week\"}},\"id\":\"1633\",\"type\":\"Line\"},{\"attributes\":{\"line_alpha\":0.1,\"line_color\":\"orange\",\"line_width\":2,\"x\":{\"field\":\"index\"},\"y\":{\"field\":\"report_week\"}},\"id\":\"1634\",\"type\":\"Line\"},{\"attributes\":{\"text\":\"\"},\"id\":\"1706\",\"type\":\"Title\"},{\"attributes\":{\"text\":\"\"},\"id\":\"1708\",\"type\":\"Title\"},{\"attributes\":{},\"id\":\"1717\",\"type\":\"DatetimeTickFormatter\"},{\"attributes\":{},\"id\":\"1713\",\"type\":\"DatetimeTickFormatter\"},{\"attributes\":{},\"id\":\"1715\",\"type\":\"BasicTickFormatter\"},{\"attributes\":{},\"id\":\"1719\",\"type\":\"BasicTickFormatter\"},{\"attributes\":{},\"id\":\"1721\",\"type\":\"DatetimeTickFormatter\"},{\"attributes\":{},\"id\":\"1722\",\"type\":\"Selection\"},{\"attributes\":{},\"id\":\"1723\",\"type\":\"UnionRenderers\"},{\"attributes\":{\"days\":[1,2,3,4,5,6,7,8,9,10,11,12,13,14,15,16,17,18,19,20,21,22,23,24,25,26,27,28,29,30,31]},\"id\":\"1728\",\"type\":\"DaysTicker\"},{\"attributes\":{\"data\":{\"date_report\":[1,1,1,1,1,2,1,1,1,1,1,2,2,4,4,9,1,12,8,6,7,19,9,21,40,42,59,84,100,156,130,146,214,244,140,620,728,590,634,714,898,665],\"index\":{\"__ndarray__\":\"AACA+J/9dkIAAADERP52QgAAwCmX/nZCAAAAW47/dkIAAADy1wB3QgAAgL18AXdCAACA6w8Ed0IAAABO/gV3QgAAQH/1BndCAAAA5UcHd0IAAICw7Ad3QgAAQBY/CHdCAAAAfJEId0IAAMDh4wh3QgAAgEc2CXdCAAAAE9sJd0IAAMB4LQp3QgAAgN5/CndCAABARNIKd0IAAACqJAt3QgAAwA93C3dCAACAdckLd0IAAEDbGwx3QgAAAEFuDHdCAADApsAMd0IAAIAMEw13QgAAQHJlDXdCAAAA2LcNd0IAAMA9Cg53QgAAgKNcDndCAABACa8Od0IAAABvAQ93QgAAwNRTD3dCAACAOqYPd0IAAECg+A93QgAAAAZLEHdCAADAa50Qd0IAAIDR7xB3QgAAQDdCEXdCAAAAnZQRd0IAAMAC5xF3QgAAgGg5EndC\",\"dtype\":\"float64\",\"shape\":[42]},\"level_0\":[32,39,37,34,33,28,40,35,41,38,31,29,30,27,26,21,36,20,23,25,24,19,22,18,17,16,15,14,13,9,12,10,8,7,11,5,1,6,4,2,0,3]},\"selected\":{\"id\":\"1722\"},\"selection_policy\":{\"id\":\"1723\"}},\"id\":\"1512\",\"type\":\"ColumnDataSource\"},{\"attributes\":{\"days\":[1,4,7,10,13,16,19,22,25,28]},\"id\":\"1729\",\"type\":\"DaysTicker\"},{\"attributes\":{\"days\":[1,8,15,22]},\"id\":\"1730\",\"type\":\"DaysTicker\"},{\"attributes\":{\"months\":[0,4,8]},\"id\":\"1749\",\"type\":\"MonthsTicker\"},{\"attributes\":{\"days\":[1,15]},\"id\":\"1731\",\"type\":\"DaysTicker\"},{\"attributes\":{\"months\":[0,1,2,3,4,5,6,7,8,9,10,11]},\"id\":\"1732\",\"type\":\"MonthsTicker\"},{\"attributes\":{\"months\":[0,2,4,6,8,10]},\"id\":\"1733\",\"type\":\"MonthsTicker\"},{\"attributes\":{\"background_fill_color\":\"#fafafa\",\"below\":[{\"id\":\"1554\"}],\"center\":[{\"id\":\"1557\"},{\"id\":\"1561\"}],\"left\":[{\"id\":\"1558\"}],\"plot_height\":300,\"plot_width\":900,\"renderers\":[{\"id\":\"1620\"},{\"id\":\"1625\"}],\"title\":{\"id\":\"1706\"},\"toolbar\":{\"id\":\"1569\"},\"x_range\":{\"id\":\"1546\"},\"x_scale\":{\"id\":\"1550\"},\"y_range\":{\"id\":\"1548\"},\"y_scale\":{\"id\":\"1552\"}},\"id\":\"1545\",\"subtype\":\"Figure\",\"type\":\"Plot\"},{\"attributes\":{\"background_fill_color\":\"#fafafa\",\"below\":[{\"id\":\"1523\"}],\"center\":[{\"id\":\"1526\"},{\"id\":\"1530\"}],\"left\":[{\"id\":\"1527\"}],\"plot_height\":300,\"plot_width\":900,\"renderers\":[{\"id\":\"1610\"},{\"id\":\"1615\"}],\"title\":{\"id\":\"1704\"},\"toolbar\":{\"id\":\"1538\"},\"x_range\":{\"id\":\"1515\"},\"x_scale\":{\"id\":\"1519\"},\"y_range\":{\"id\":\"1517\"},\"y_scale\":{\"id\":\"1521\"}},\"id\":\"1514\",\"subtype\":\"Figure\",\"type\":\"Plot\"},{\"attributes\":{\"months\":[0,4,8]},\"id\":\"1734\",\"type\":\"MonthsTicker\"},{\"attributes\":{\"months\":[0,6]},\"id\":\"1735\",\"type\":\"MonthsTicker\"},{\"attributes\":{},\"id\":\"1548\",\"type\":\"DataRange1d\"},{\"attributes\":{},\"id\":\"1738\",\"type\":\"UnionRenderers\"},{\"attributes\":{},\"id\":\"1515\",\"type\":\"DataRange1d\"},{\"attributes\":{},\"id\":\"1736\",\"type\":\"YearsTicker\"},{\"attributes\":{},\"id\":\"1737\",\"type\":\"Selection\"},{\"attributes\":{\"mantissas\":[1,2,5],\"max_interval\":500.0,\"num_minor_ticks\":0},\"id\":\"1740\",\"type\":\"AdaptiveTicker\"},{\"attributes\":{},\"id\":\"1519\",\"type\":\"LinearScale\"},{\"attributes\":{},\"id\":\"1517\",\"type\":\"DataRange1d\"},{\"attributes\":{\"base\":24,\"mantissas\":[1,2,4,6,8,12],\"max_interval\":43200000.0,\"min_interval\":3600000.0,\"num_minor_ticks\":0},\"id\":\"1742\",\"type\":\"AdaptiveTicker\"},{\"attributes\":{},\"id\":\"1521\",\"type\":\"LinearScale\"},{\"attributes\":{\"base\":60,\"mantissas\":[1,2,5,10,15,20,30],\"max_interval\":1800000.0,\"min_interval\":1000.0,\"num_minor_ticks\":0},\"id\":\"1741\",\"type\":\"AdaptiveTicker\"},{\"attributes\":{\"formatter\":{\"id\":\"1713\"},\"ticker\":{\"id\":\"1524\"}},\"id\":\"1523\",\"type\":\"DatetimeAxis\"},{\"attributes\":{\"axis\":{\"id\":\"1527\"},\"dimension\":1,\"ticker\":null},\"id\":\"1530\",\"type\":\"Grid\"},{\"attributes\":{\"num_minor_ticks\":5,\"tickers\":[{\"id\":\"1725\"},{\"id\":\"1726\"},{\"id\":\"1727\"},{\"id\":\"1728\"},{\"id\":\"1729\"},{\"id\":\"1730\"},{\"id\":\"1731\"},{\"id\":\"1732\"},{\"id\":\"1733\"},{\"id\":\"1734\"},{\"id\":\"1735\"},{\"id\":\"1736\"}]},\"id\":\"1524\",\"type\":\"DatetimeTicker\"},{\"attributes\":{\"days\":[1,2,3,4,5,6,7,8,9,10,11,12,13,14,15,16,17,18,19,20,21,22,23,24,25,26,27,28,29,30,31]},\"id\":\"1743\",\"type\":\"DaysTicker\"},{\"attributes\":{\"axis\":{\"id\":\"1523\"},\"ticker\":null},\"id\":\"1526\",\"type\":\"Grid\"},{\"attributes\":{\"days\":[1,4,7,10,13,16,19,22,25,28]},\"id\":\"1744\",\"type\":\"DaysTicker\"},{\"attributes\":{},\"id\":\"1528\",\"type\":\"BasicTicker\"},{\"attributes\":{\"days\":[1,8,15,22]},\"id\":\"1745\",\"type\":\"DaysTicker\"},{\"attributes\":{\"formatter\":{\"id\":\"1711\"},\"ticker\":{\"id\":\"1528\"}},\"id\":\"1527\",\"type\":\"LinearAxis\"},{\"attributes\":{},\"id\":\"1546\",\"type\":\"DataRange1d\"},{\"attributes\":{\"bottom_units\":\"screen\",\"fill_alpha\":0.5,\"fill_color\":\"lightgrey\",\"left_units\":\"screen\",\"level\":\"overlay\",\"line_alpha\":1.0,\"line_color\":\"black\",\"line_dash\":[4,4],\"line_width\":2,\"render_mode\":\"css\",\"right_units\":\"screen\",\"top_units\":\"screen\"},\"id\":\"1537\",\"type\":\"BoxAnnotation\"},{\"attributes\":{\"days\":[1,15]},\"id\":\"1746\",\"type\":\"DaysTicker\"},{\"attributes\":{\"months\":[0,1,2,3,4,5,6,7,8,9,10,11]},\"id\":\"1747\",\"type\":\"MonthsTicker\"},{\"attributes\":{\"line_color\":\"#1f77b4\",\"line_width\":2,\"x\":{\"field\":\"index\"},\"y\":{\"field\":\"date_report\"}},\"id\":\"1608\",\"type\":\"Line\"},{\"attributes\":{\"months\":[0,6]},\"id\":\"1750\",\"type\":\"MonthsTicker\"},{\"attributes\":{\"months\":[0,2,4,6,8,10]},\"id\":\"1748\",\"type\":\"MonthsTicker\"},{\"attributes\":{\"background_fill_color\":\"#fafafa\",\"below\":[{\"id\":\"1585\"}],\"center\":[{\"id\":\"1588\"},{\"id\":\"1592\"}],\"left\":[{\"id\":\"1589\"}],\"plot_height\":300,\"plot_width\":900,\"renderers\":[{\"id\":\"1630\"},{\"id\":\"1635\"},{\"id\":\"1640\"},{\"id\":\"1645\"}],\"title\":{\"id\":\"1708\"},\"toolbar\":{\"id\":\"1600\"},\"x_range\":{\"id\":\"1577\"},\"x_scale\":{\"id\":\"1581\"},\"y_range\":{\"id\":\"1579\"},\"y_scale\":{\"id\":\"1583\"}},\"id\":\"1576\",\"subtype\":\"Figure\",\"type\":\"Plot\"}],\"root_ids\":[\"1658\"]},\"title\":\"Bokeh Application\",\"version\":\"2.0.1\"}};\n",
       "  var render_items = [{\"docid\":\"1c68e718-508a-4ab2-bc7c-41c21e8590a0\",\"root_ids\":[\"1658\"],\"roots\":{\"1658\":\"64a56048-9670-4d29-80f1-c8f10e18020c\"}}];\n",
       "  root.Bokeh.embed.embed_items_notebook(docs_json, render_items);\n",
       "\n",
       "  }\n",
       "  if (root.Bokeh !== undefined) {\n",
       "    embed_document(root);\n",
       "  } else {\n",
       "    var attempts = 0;\n",
       "    var timer = setInterval(function(root) {\n",
       "      if (root.Bokeh !== undefined) {\n",
       "        clearInterval(timer);\n",
       "        embed_document(root);\n",
       "      } else {\n",
       "        attempts++;\n",
       "        if (attempts > 100) {\n",
       "          clearInterval(timer);\n",
       "          console.log(\"Bokeh: ERROR: Unable to run BokehJS code because BokehJS library is missing\");\n",
       "        }\n",
       "      }\n",
       "    }, 10, root)\n",
       "  }\n",
       "})(window);"
      ],
      "application/vnd.bokehjs_exec.v0+json": ""
     },
     "metadata": {
      "application/vnd.bokehjs_exec.v0+json": {
       "id": "1658"
      }
     },
     "output_type": "display_data"
    }
   ],
   "source": [
    "plot1 = figure(plot_width = 900, plot_height = 300,x_axis_type=\"datetime\",background_fill_color=\"#fafafa\")\n",
    "plot2 = figure(plot_width = 900, plot_height = 300,x_axis_type=\"datetime\",background_fill_color=\"#fafafa\")\n",
    "plot3 = figure(plot_width = 900, plot_height = 300,x_axis_type=\"datetime\",background_fill_color=\"#fafafa\")\n",
    "\n",
    "plot1.line(x = 'index' , y = 'date_report' , width = 2, source = data_report_data);\n",
    "plot1.circle(x = 'index', y = 'date_report', size= 5, source = data_report_data)\n",
    "\n",
    "plot2.line(x = 'index' , y = 'report_week' , width = 2, source = report_week_data);\n",
    "plot2.circle(x = 'index', y = 'report_week', size= 5, source = report_week_data)\n",
    "\n",
    "line1 = plot3.line(x = 'index' , y = 'date_report' , width = 2, source = data_report_data);\n",
    "line2 = plot3.line(x = 'index' , y = 'report_week' , width = 2, source = report_week_data, color= 'orange');\n",
    "circle1 = plot3.circle(x = 'index', y = 'date_report', size= 5, source = data_report_data)\n",
    "circle2 = plot3.circle(x = 'index', y = 'report_week', size= 5, source = report_week_data,color= 'orange')\n",
    "\n",
    "\n",
    "plot1.add_tools(HoverTool(tooltips = [('Sales', '@date_report')]))\n",
    "plot2.add_tools(HoverTool(tooltips = [('Sales', '@report_week')]))\n",
    "plot3.add_tools(HoverTool(renderers=[line1], tooltips = [('Sales', '@date_report')]))\n",
    "plot3.add_tools(HoverTool(renderers=[line2], tooltips = [('Sales', '@report_week')]))\n",
    "\n",
    "grid = layout([[plot1],[plot2],[plot3]]) \n",
    "\n",
    "show(grid)"
   ]
  },
  {
   "cell_type": "code",
   "execution_count": 13,
   "metadata": {
    "scrolled": false
   },
   "outputs": [],
   "source": [
    "province = (pd.DataFrame(n_cases['province'].value_counts()).reset_index()\n",
    "                 .sort_values(by = 'province',ascending = False))\n",
    "province_factors = pd.unique(province['index'])\n",
    "province_data = ColumnDataSource(province)\n",
    "\n",
    "health_region = (pd.DataFrame(n_cases['health_region'].value_counts()).reset_index()\n",
    "                 .sort_values(by = 'health_region',ascending = False))\n",
    "health_region_factors = pd.unique(health_region['index'])\n",
    "health_region_data = ColumnDataSource(health_region)"
   ]
  },
  {
   "cell_type": "code",
   "execution_count": 14,
   "metadata": {},
   "outputs": [
    {
     "data": {
      "text/html": [
       "\n",
       "\n",
       "\n",
       "\n",
       "\n",
       "\n",
       "  <div class=\"bk-root\" id=\"64b5e3fa-f6e9-42c3-a5d9-ddf4cdecd1b5\" data-root-id=\"2213\"></div>\n"
      ]
     },
     "metadata": {},
     "output_type": "display_data"
    },
    {
     "data": {
      "application/javascript": [
       "(function(root) {\n",
       "  function embed_document(root) {\n",
       "    \n",
       "  var docs_json = {\"dc3d4e16-7221-4baf-93f8-a7f83ad61037\":{\"roots\":{\"references\":[{\"attributes\":{\"children\":[{\"id\":\"2211\"},{\"id\":\"2212\"}]},\"id\":\"2213\",\"type\":\"Column\"},{\"attributes\":{\"callback\":null,\"tooltips\":[[\"Sales\",\"@province\"]]},\"id\":\"2207\",\"type\":\"HoverTool\"},{\"attributes\":{\"bottom_units\":\"screen\",\"fill_alpha\":0.5,\"fill_color\":\"lightgrey\",\"left_units\":\"screen\",\"level\":\"overlay\",\"line_alpha\":1.0,\"line_color\":\"black\",\"line_dash\":[4,4],\"line_width\":2,\"render_mode\":\"css\",\"right_units\":\"screen\",\"top_units\":\"screen\"},\"id\":\"2159\",\"type\":\"BoxAnnotation\"},{\"attributes\":{},\"id\":\"2150\",\"type\":\"BasicTicker\"},{\"attributes\":{},\"id\":\"2154\",\"type\":\"WheelZoomTool\"},{\"attributes\":{\"data\":{\"health_region\":[1361,903,444,408,296,291,257,180,168,164,149,144,130,122,120,86,78,78,77,72,70,60,60,59,34,32,32,28,28,27,25,23,21,19,18,17,17,17,16,15,14,14,12,11,9,8,8,7,7,5,5,5,5,5,5,4,4,4,4,4,4,4,3,3,3,2,2,2,1,1,1,1,1,1,1,1,1,1,1],\"index\":[\"Montr\\u00e9al\",\"Not Reported\",\"Vancouver Coastal\",\"Calgary\",\"Estrie\",\"Fraser\",\"Mont\\u00e9r\\u00e9gie\",\"Laval\",\"Toronto\",\"Capitale-Nationale\",\"Edmonton\",\"Lanaudi\\u00e8re\",\"Eastern\",\"Mauricie\",\"Laurentides\",\"Chaudi\\u00e8re-Appalaches\",\"North\",\"York\",\"Interior\",\"Saskatoon\",\"Peel\",\"Winnipeg\",\"Island\",\"Central\",\"Regina\",\"Hamilton\",\"Ottawa\",\"Outaouais\",\"Durham\",\"Abitibi-T\\u00e9miscamingue\",\"Haliburton Kawartha Pineridge\",\"Zone 3 (Fredericton area)\",\"Waterloo\",\"Halton\",\"Saguenay\",\"C\\u00f4te-Nord\",\"Middlesex-London\",\"Zone 1 (Moncton area)\",\"South\",\"Zone 2 (Saint John area)\",\"Kingston Frontenac Lennox & Addington\",\"Simcoe Muskoka\",\"Northern\",\"Prince Edward Island\",\"Gasp\\u00e9sie-\\u00celes-de-la-Madeleine\",\"Bas-Saint-Laurent\",\"Niagara\",\"Peterborough\",\"Zone 5 (Campbellton area)\",\"Lambton\",\"Prairie Mountain\",\"Hastings Prince Edward\",\"Sudbury\",\"Labrador-Grenfell\",\"Grey Bruce\",\"Wellington Dufferin Guelph\",\"Southern Health\",\"Windsor-Essex\",\"Zone 4 (Edmundston area)\",\"Porcupine\",\"Yukon\",\"Zone 4 - Central\",\"Southwestern\",\"Interlake-Eastern\",\"Far North\",\"Chatham-Kent\",\"Northwestern\",\"Brant\",\"Algoma\",\"Terres-Cries-de-la-Baie-James\",\"Western\",\"North Bay Parry Sound\",\"Nord-du-Qu\\u00e9bec\",\"Leeds Grenville and Lanark\",\"Huron Perth\",\"NWT\",\"Nunavik\",\"Zone 1 - Western\",\"Timiskaming\"],\"level_0\":[0,1,2,3,4,5,6,7,8,9,10,11,12,13,14,15,16,17,18,19,20,21,22,23,24,25,26,27,28,29,30,31,32,33,34,35,36,37,38,39,40,41,42,43,44,45,46,47,48,50,51,52,53,54,49,58,61,60,59,57,55,56,62,63,64,65,66,67,73,77,76,75,74,69,72,71,70,68,78]},\"selected\":{\"id\":\"2335\"},\"selection_policy\":{\"id\":\"2336\"}},\"id\":\"2136\",\"type\":\"ColumnDataSource\"},{\"attributes\":{},\"id\":\"2333\",\"type\":\"UnionRenderers\"},{\"attributes\":{},\"id\":\"2187\",\"type\":\"ResetTool\"},{\"attributes\":{\"callback\":null,\"tooltips\":[[\"Sales\",\"@health_region\"]]},\"id\":\"2209\",\"type\":\"HoverTool\"},{\"attributes\":{\"axis\":{\"id\":\"2149\"},\"dimension\":1,\"ticker\":null},\"id\":\"2152\",\"type\":\"Grid\"},{\"attributes\":{\"data_source\":{\"id\":\"2136\"},\"glyph\":{\"id\":\"2203\"},\"hover_glyph\":null,\"muted_glyph\":null,\"nonselection_glyph\":{\"id\":\"2204\"},\"selection_glyph\":null,\"view\":{\"id\":\"2206\"}},\"id\":\"2205\",\"type\":\"GlyphRenderer\"},{\"attributes\":{\"fill_color\":{\"value\":\"#1f77b4\"},\"line_color\":{\"value\":\"#1f77b4\"},\"top\":{\"field\":\"health_region\"},\"width\":{\"value\":0.8},\"x\":{\"field\":\"index\"}},\"id\":\"2203\",\"type\":\"VBar\"},{\"attributes\":{},\"id\":\"2180\",\"type\":\"BasicTicker\"},{\"attributes\":{},\"id\":\"2144\",\"type\":\"LinearScale\"},{\"attributes\":{\"fill_color\":{\"value\":\"#1f77b4\"},\"line_color\":{\"value\":\"#1f77b4\"},\"top\":{\"field\":\"province\"},\"width\":{\"value\":0.8},\"x\":{\"field\":\"index\"}},\"id\":\"2198\",\"type\":\"VBar\"},{\"attributes\":{},\"id\":\"2183\",\"type\":\"PanTool\"},{\"attributes\":{\"formatter\":{\"id\":\"2325\"},\"ticker\":{\"id\":\"2150\"}},\"id\":\"2149\",\"type\":\"LinearAxis\"},{\"attributes\":{\"active_drag\":\"auto\",\"active_inspect\":\"auto\",\"active_multi\":null,\"active_scroll\":\"auto\",\"active_tap\":\"auto\",\"tools\":[{\"id\":\"2153\"},{\"id\":\"2154\"},{\"id\":\"2155\"},{\"id\":\"2156\"},{\"id\":\"2157\"},{\"id\":\"2158\"},{\"id\":\"2207\"}]},\"id\":\"2160\",\"type\":\"Toolbar\"},{\"attributes\":{\"formatter\":{\"id\":\"2331\"},\"major_label_orientation\":1,\"ticker\":{\"id\":\"2177\"}},\"id\":\"2176\",\"type\":\"CategoricalAxis\"},{\"attributes\":{},\"id\":\"2188\",\"type\":\"HelpTool\"},{\"attributes\":{},\"id\":\"2153\",\"type\":\"PanTool\"},{\"attributes\":{},\"id\":\"2147\",\"type\":\"CategoricalTicker\"},{\"attributes\":{},\"id\":\"2335\",\"type\":\"Selection\"},{\"attributes\":{},\"id\":\"2156\",\"type\":\"SaveTool\"},{\"attributes\":{\"children\":[{\"id\":\"2138\"}]},\"id\":\"2211\",\"type\":\"Row\"},{\"attributes\":{\"axis\":{\"id\":\"2146\"},\"ticker\":null},\"id\":\"2148\",\"type\":\"Grid\"},{\"attributes\":{\"factors\":[\"Montr\\u00e9al\",\"Not Reported\",\"Vancouver Coastal\",\"Calgary\",\"Estrie\",\"Fraser\",\"Mont\\u00e9r\\u00e9gie\",\"Laval\",\"Toronto\",\"Capitale-Nationale\",\"Edmonton\",\"Lanaudi\\u00e8re\",\"Eastern\",\"Mauricie\",\"Laurentides\",\"Chaudi\\u00e8re-Appalaches\",\"North\",\"York\",\"Interior\",\"Saskatoon\",\"Peel\",\"Winnipeg\",\"Island\",\"Central\",\"Regina\",\"Hamilton\",\"Ottawa\",\"Outaouais\",\"Durham\",\"Abitibi-T\\u00e9miscamingue\",\"Haliburton Kawartha Pineridge\",\"Zone 3 (Fredericton area)\",\"Waterloo\",\"Halton\",\"Saguenay\",\"C\\u00f4te-Nord\",\"Middlesex-London\",\"Zone 1 (Moncton area)\",\"South\",\"Zone 2 (Saint John area)\",\"Kingston Frontenac Lennox & Addington\",\"Simcoe Muskoka\",\"Northern\",\"Prince Edward Island\",\"Gasp\\u00e9sie-\\u00celes-de-la-Madeleine\",\"Bas-Saint-Laurent\",\"Niagara\",\"Peterborough\",\"Zone 5 (Campbellton area)\",\"Lambton\",\"Prairie Mountain\",\"Hastings Prince Edward\",\"Sudbury\",\"Labrador-Grenfell\",\"Grey Bruce\",\"Wellington Dufferin Guelph\",\"Southern Health\",\"Windsor-Essex\",\"Zone 4 (Edmundston area)\",\"Porcupine\",\"Yukon\",\"Zone 4 - Central\",\"Southwestern\",\"Interlake-Eastern\",\"Far North\",\"Chatham-Kent\",\"Northwestern\",\"Brant\",\"Algoma\",\"Terres-Cries-de-la-Baie-James\",\"Western\",\"North Bay Parry Sound\",\"Nord-du-Qu\\u00e9bec\",\"Leeds Grenville and Lanark\",\"Huron Perth\",\"NWT\",\"Nunavik\",\"Zone 1 - Western\",\"Timiskaming\"]},\"id\":\"2167\",\"type\":\"FactorRange\"},{\"attributes\":{\"fill_alpha\":{\"value\":0.1},\"fill_color\":{\"value\":\"#1f77b4\"},\"line_alpha\":{\"value\":0.1},\"line_color\":{\"value\":\"#1f77b4\"},\"top\":{\"field\":\"province\"},\"width\":{\"value\":0.8},\"x\":{\"field\":\"index\"}},\"id\":\"2199\",\"type\":\"VBar\"},{\"attributes\":{\"overlay\":{\"id\":\"2159\"}},\"id\":\"2155\",\"type\":\"BoxZoomTool\"},{\"attributes\":{\"factors\":[\"Quebec\",\"Ontario\",\"BC\",\"Alberta\",\"Saskatchewan\",\"NL\",\"Nova Scotia\",\"Manitoba\",\"New Brunswick\",\"Repatriated\",\"PEI\",\"Yukon\",\"NWT\"]},\"id\":\"2137\",\"type\":\"FactorRange\"},{\"attributes\":{},\"id\":\"2184\",\"type\":\"WheelZoomTool\"},{\"attributes\":{},\"id\":\"2157\",\"type\":\"ResetTool\"},{\"attributes\":{},\"id\":\"2172\",\"type\":\"CategoricalScale\"},{\"attributes\":{\"children\":[{\"id\":\"2168\"}]},\"id\":\"2212\",\"type\":\"Row\"},{\"attributes\":{\"data\":{\"index\":[\"Quebec\",\"Ontario\",\"BC\",\"Alberta\",\"Saskatchewan\",\"NL\",\"Nova Scotia\",\"Manitoba\",\"New Brunswick\",\"Repatriated\",\"PEI\",\"Yukon\",\"NWT\"],\"level_0\":[0,1,2,3,4,5,6,7,8,9,10,11,12],\"province\":[2840,1355,884,661,156,135,122,72,66,13,11,4,1]},\"selected\":{\"id\":\"2332\"},\"selection_policy\":{\"id\":\"2333\"}},\"id\":\"2135\",\"type\":\"ColumnDataSource\"},{\"attributes\":{},\"id\":\"2142\",\"type\":\"CategoricalScale\"},{\"attributes\":{},\"id\":\"2174\",\"type\":\"LinearScale\"},{\"attributes\":{},\"id\":\"2327\",\"type\":\"CategoricalTickFormatter\"},{\"attributes\":{\"data_source\":{\"id\":\"2135\"},\"glyph\":{\"id\":\"2198\"},\"hover_glyph\":null,\"muted_glyph\":null,\"nonselection_glyph\":{\"id\":\"2199\"},\"selection_glyph\":null,\"view\":{\"id\":\"2201\"}},\"id\":\"2200\",\"type\":\"GlyphRenderer\"},{\"attributes\":{},\"id\":\"2158\",\"type\":\"HelpTool\"},{\"attributes\":{},\"id\":\"2140\",\"type\":\"DataRange1d\"},{\"attributes\":{},\"id\":\"2170\",\"type\":\"DataRange1d\"},{\"attributes\":{},\"id\":\"2186\",\"type\":\"SaveTool\"},{\"attributes\":{\"text\":\"\"},\"id\":\"2320\",\"type\":\"Title\"},{\"attributes\":{\"formatter\":{\"id\":\"2327\"},\"major_label_orientation\":1,\"ticker\":{\"id\":\"2147\"}},\"id\":\"2146\",\"type\":\"CategoricalAxis\"},{\"attributes\":{},\"id\":\"2331\",\"type\":\"CategoricalTickFormatter\"},{\"attributes\":{\"text\":\"\"},\"id\":\"2322\",\"type\":\"Title\"},{\"attributes\":{\"background_fill_color\":\"#fafafa\",\"below\":[{\"id\":\"2176\"}],\"center\":[{\"id\":\"2178\"},{\"id\":\"2182\"}],\"left\":[{\"id\":\"2179\"}],\"plot_height\":300,\"plot_width\":990,\"renderers\":[{\"id\":\"2205\"}],\"title\":{\"id\":\"2322\"},\"toolbar\":{\"id\":\"2190\"},\"x_range\":{\"id\":\"2167\"},\"x_scale\":{\"id\":\"2172\"},\"y_range\":{\"id\":\"2170\"},\"y_scale\":{\"id\":\"2174\"}},\"id\":\"2168\",\"subtype\":\"Figure\",\"type\":\"Plot\"},{\"attributes\":{\"axis\":{\"id\":\"2179\"},\"dimension\":1,\"ticker\":null},\"id\":\"2182\",\"type\":\"Grid\"},{\"attributes\":{\"bottom_units\":\"screen\",\"fill_alpha\":0.5,\"fill_color\":\"lightgrey\",\"left_units\":\"screen\",\"level\":\"overlay\",\"line_alpha\":1.0,\"line_color\":\"black\",\"line_dash\":[4,4],\"line_width\":2,\"render_mode\":\"css\",\"right_units\":\"screen\",\"top_units\":\"screen\"},\"id\":\"2189\",\"type\":\"BoxAnnotation\"},{\"attributes\":{\"background_fill_color\":\"#fafafa\",\"below\":[{\"id\":\"2146\"}],\"center\":[{\"id\":\"2148\"},{\"id\":\"2152\"}],\"left\":[{\"id\":\"2149\"}],\"plot_height\":300,\"plot_width\":900,\"renderers\":[{\"id\":\"2200\"}],\"title\":{\"id\":\"2320\"},\"toolbar\":{\"id\":\"2160\"},\"x_range\":{\"id\":\"2137\"},\"x_scale\":{\"id\":\"2142\"},\"y_range\":{\"id\":\"2140\"},\"y_scale\":{\"id\":\"2144\"}},\"id\":\"2138\",\"subtype\":\"Figure\",\"type\":\"Plot\"},{\"attributes\":{},\"id\":\"2332\",\"type\":\"Selection\"},{\"attributes\":{\"active_drag\":\"auto\",\"active_inspect\":\"auto\",\"active_multi\":null,\"active_scroll\":\"auto\",\"active_tap\":\"auto\",\"tools\":[{\"id\":\"2183\"},{\"id\":\"2184\"},{\"id\":\"2185\"},{\"id\":\"2186\"},{\"id\":\"2187\"},{\"id\":\"2188\"},{\"id\":\"2209\"}]},\"id\":\"2190\",\"type\":\"Toolbar\"},{\"attributes\":{},\"id\":\"2177\",\"type\":\"CategoricalTicker\"},{\"attributes\":{\"source\":{\"id\":\"2136\"}},\"id\":\"2206\",\"type\":\"CDSView\"},{\"attributes\":{\"fill_alpha\":{\"value\":0.1},\"fill_color\":{\"value\":\"#1f77b4\"},\"line_alpha\":{\"value\":0.1},\"line_color\":{\"value\":\"#1f77b4\"},\"top\":{\"field\":\"health_region\"},\"width\":{\"value\":0.8},\"x\":{\"field\":\"index\"}},\"id\":\"2204\",\"type\":\"VBar\"},{\"attributes\":{},\"id\":\"2329\",\"type\":\"BasicTickFormatter\"},{\"attributes\":{},\"id\":\"2336\",\"type\":\"UnionRenderers\"},{\"attributes\":{\"axis\":{\"id\":\"2176\"},\"ticker\":null},\"id\":\"2178\",\"type\":\"Grid\"},{\"attributes\":{},\"id\":\"2325\",\"type\":\"BasicTickFormatter\"},{\"attributes\":{\"overlay\":{\"id\":\"2189\"}},\"id\":\"2185\",\"type\":\"BoxZoomTool\"},{\"attributes\":{\"source\":{\"id\":\"2135\"}},\"id\":\"2201\",\"type\":\"CDSView\"},{\"attributes\":{\"formatter\":{\"id\":\"2329\"},\"ticker\":{\"id\":\"2180\"}},\"id\":\"2179\",\"type\":\"LinearAxis\"}],\"root_ids\":[\"2213\"]},\"title\":\"Bokeh Application\",\"version\":\"2.0.1\"}};\n",
       "  var render_items = [{\"docid\":\"dc3d4e16-7221-4baf-93f8-a7f83ad61037\",\"root_ids\":[\"2213\"],\"roots\":{\"2213\":\"64b5e3fa-f6e9-42c3-a5d9-ddf4cdecd1b5\"}}];\n",
       "  root.Bokeh.embed.embed_items_notebook(docs_json, render_items);\n",
       "\n",
       "  }\n",
       "  if (root.Bokeh !== undefined) {\n",
       "    embed_document(root);\n",
       "  } else {\n",
       "    var attempts = 0;\n",
       "    var timer = setInterval(function(root) {\n",
       "      if (root.Bokeh !== undefined) {\n",
       "        clearInterval(timer);\n",
       "        embed_document(root);\n",
       "      } else {\n",
       "        attempts++;\n",
       "        if (attempts > 100) {\n",
       "          clearInterval(timer);\n",
       "          console.log(\"Bokeh: ERROR: Unable to run BokehJS code because BokehJS library is missing\");\n",
       "        }\n",
       "      }\n",
       "    }, 10, root)\n",
       "  }\n",
       "})(window);"
      ],
      "application/vnd.bokehjs_exec.v0+json": ""
     },
     "metadata": {
      "application/vnd.bokehjs_exec.v0+json": {
       "id": "2213"
      }
     },
     "output_type": "display_data"
    }
   ],
   "source": [
    "plot1 = figure(plot_width = 900, plot_height = 300,x_range = FactorRange(factors = province_factors),background_fill_color=\"#fafafa\")\n",
    "plot2 = figure(plot_width = 990, plot_height = 300,x_range = FactorRange(factors = health_region_factors),background_fill_color=\"#fafafa\")\n",
    "\n",
    "\n",
    "plot1.vbar(x = 'index' , top = 'province' , width = 0.8, source = province_data);\n",
    "plot2.vbar(x = 'index' , top = 'health_region' , width = 0.8, source = health_region_data);\n",
    "plot1.add_tools(HoverTool(tooltips = [('Sales', '@province')]))\n",
    "plot2.add_tools(HoverTool(tooltips = [('Sales', '@health_region')]))\n",
    "\n",
    "\n",
    "plot1.xaxis.major_label_orientation = 1\n",
    "plot2.xaxis.major_label_orientation = 1\n",
    "grid = layout([[plot1],[plot2]]) \n",
    "\n",
    "show(grid)"
   ]
  },
  {
   "cell_type": "code",
   "execution_count": 15,
   "metadata": {},
   "outputs": [],
   "source": [
    "n_travel = n_cases.loc[n_cases['travel_yn'] != 'Not Reported']\n",
    "n_travel = (pd.DataFrame(n_travel['travel_yn'].value_counts()).reset_index()\n",
    "                 .sort_values(by = 'travel_yn',ascending = False))\n",
    "n_travel_factors = pd.unique(n_travel['index'])\n",
    "n_travel_data = ColumnDataSource(n_travel)\n",
    "\n",
    "travel_history_country = (pd.DataFrame(n_cases['travel_history_country'].value_counts()).reset_index()\n",
    "                 .sort_values(by = 'travel_history_country',ascending = False))\n",
    "travel_history_country_factors = pd.unique(travel_history_country['index'])\n",
    "travel_history_country_data = ColumnDataSource(travel_history_country)"
   ]
  },
  {
   "cell_type": "code",
   "execution_count": 16,
   "metadata": {},
   "outputs": [
    {
     "data": {
      "text/html": [
       "\n",
       "\n",
       "\n",
       "\n",
       "\n",
       "\n",
       "  <div class=\"bk-root\" id=\"e293a1a2-f605-44bb-81b3-5c46e0b4c54d\" data-root-id=\"2523\"></div>\n"
      ]
     },
     "metadata": {},
     "output_type": "display_data"
    },
    {
     "data": {
      "application/javascript": [
       "(function(root) {\n",
       "  function embed_document(root) {\n",
       "    \n",
       "  var docs_json = {\"6a55de2f-601d-4609-af36-41153c9f07e0\":{\"roots\":{\"references\":[{\"attributes\":{\"children\":[{\"id\":\"2522\"}]},\"id\":\"2523\",\"type\":\"Column\"},{\"attributes\":{},\"id\":\"2481\",\"type\":\"DataRange1d\"},{\"attributes\":{\"active_drag\":\"auto\",\"active_inspect\":\"auto\",\"active_multi\":null,\"active_scroll\":\"auto\",\"active_tap\":\"auto\",\"tools\":[{\"id\":\"2494\"},{\"id\":\"2495\"},{\"id\":\"2496\"},{\"id\":\"2497\"},{\"id\":\"2498\"},{\"id\":\"2499\"},{\"id\":\"2520\"}]},\"id\":\"2501\",\"type\":\"Toolbar\"},{\"attributes\":{},\"id\":\"2653\",\"type\":\"BasicTickFormatter\"},{\"attributes\":{},\"id\":\"2494\",\"type\":\"PanTool\"},{\"attributes\":{\"bottom_units\":\"screen\",\"fill_alpha\":0.5,\"fill_color\":\"lightgrey\",\"left_units\":\"screen\",\"level\":\"overlay\",\"line_alpha\":1.0,\"line_color\":\"black\",\"line_dash\":[4,4],\"line_width\":2,\"render_mode\":\"css\",\"right_units\":\"screen\",\"top_units\":\"screen\"},\"id\":\"2500\",\"type\":\"BoxAnnotation\"},{\"attributes\":{},\"id\":\"2467\",\"type\":\"SaveTool\"},{\"attributes\":{},\"id\":\"2495\",\"type\":\"WheelZoomTool\"},{\"attributes\":{},\"id\":\"2663\",\"type\":\"Selection\"},{\"attributes\":{\"callback\":null,\"tooltips\":[[\"Sales\",\"@travel_yn\"]]},\"id\":\"2518\",\"type\":\"HoverTool\"},{\"attributes\":{},\"id\":\"2468\",\"type\":\"ResetTool\"},{\"attributes\":{\"source\":{\"id\":\"2447\"}},\"id\":\"2517\",\"type\":\"CDSView\"},{\"attributes\":{\"overlay\":{\"id\":\"2500\"}},\"id\":\"2496\",\"type\":\"BoxZoomTool\"},{\"attributes\":{\"factors\":[\"1\",\"0\"]},\"id\":\"2448\",\"type\":\"FactorRange\"},{\"attributes\":{},\"id\":\"2464\",\"type\":\"PanTool\"},{\"attributes\":{\"fill_alpha\":{\"value\":0.1},\"fill_color\":{\"value\":\"#1f77b4\"},\"line_alpha\":{\"value\":0.1},\"line_color\":{\"value\":\"#1f77b4\"},\"top\":{\"field\":\"travel_history_country\"},\"width\":{\"value\":0.8},\"x\":{\"field\":\"index\"}},\"id\":\"2515\",\"type\":\"VBar\"},{\"attributes\":{},\"id\":\"2655\",\"type\":\"CategoricalTickFormatter\"},{\"attributes\":{\"data\":{\"index\":[\"Not Reported\",\"United States\",\"Iran\",\"Egypt\",\"Cruise\",\"United Kingdom\",\"Grand Princess Cruise\",\"Spain\",\"Europe\",\"Grand Princess Cruise Ship\",\"Canada\",\"Italy\",\"China\",\"France\",\"Caribbean\",\"Austria\",\"Mexico\",\"Philippines\",\"Germany\",\"Dominican Republic\",\"Costa Rica\",\"India\",\"Asia\",\"Bahamas\",\"United Arab Emirates\",\"Spain, Portugal\",\"Singapore\",\"Brazil\",\"Germany, Austria\",\"Switzerland\",\"Ecuador\",\"United States, Caribbean\",\"Jamaica\",\"Colombia\",\"MS Braemar cruise ship\",\"Denmark\",\"United Kingdom, United States\",\"United Kingdom, United Arab Emirates\",\"Spain, Belgium, Canary Islands\",\"Peru\",\"Greece\",\"United States, Costa Rica\",\"India, Hong Kong\",\"Pakistan, Turkey\",\"Australia\",\"Egypt, Israel, United Kingdom\",\"United States, Puerto Rico\",\"Nigeria, Germany, Canada\",\"Puerto Rico\",\"United States, Caribbean Cruise\",\"Puerto Rico, U.S. Virgin Islands, Barbados\",\"Spain, France\",\"Cruise (Mexico)\",\"Germany, Malta\",\"United Arab Emirates, Philippines\",\"Barbados\",\"United States, Spain, Costa Rica\",\"United States, Ireland, United Kingdom\",\"Jordan\",\"Egypt, United Arab Emirates\",\"Portugal\",\"Japan, United Kingdom, Germany\",\"Ukraine, Turkey, Netherlands\",\"United States, Canada\",\"Spain, Finland\",\"South Korea, Philippines, Japan\"],\"level_0\":[0,1,2,3,4,5,6,7,8,9,10,11,12,15,16,13,14,17,18,19,20,27,32,31,30,29,28,33,26,24,23,22,21,25,57,52,53,54,55,56,60,58,59,50,61,62,63,64,51,47,49,48,46,45,44,43,42,41,40,39,38,37,36,35,34,65],\"travel_history_country\":[86,79,26,22,21,15,13,10,8,8,8,8,8,7,7,7,7,5,4,3,3,2,2,2,2,2,2,2,2,2,2,2,2,2,1,1,1,1,1,1,1,1,1,1,1,1,1,1,1,1,1,1,1,1,1,1,1,1,1,1,1,1,1,1,1,1]},\"selected\":{\"id\":\"2663\"},\"selection_policy\":{\"id\":\"2664\"}},\"id\":\"2447\",\"type\":\"ColumnDataSource\"},{\"attributes\":{},\"id\":\"2497\",\"type\":\"SaveTool\"},{\"attributes\":{\"background_fill_color\":\"#fafafa\",\"below\":[{\"id\":\"2487\"}],\"center\":[{\"id\":\"2489\"},{\"id\":\"2493\"}],\"left\":[{\"id\":\"2490\"}],\"plot_height\":500,\"plot_width\":780,\"renderers\":[{\"id\":\"2516\"}],\"title\":{\"id\":\"2650\"},\"toolbar\":{\"id\":\"2501\"},\"x_range\":{\"id\":\"2478\"},\"x_scale\":{\"id\":\"2483\"},\"y_range\":{\"id\":\"2481\"},\"y_scale\":{\"id\":\"2485\"}},\"id\":\"2479\",\"subtype\":\"Figure\",\"type\":\"Plot\"},{\"attributes\":{},\"id\":\"2657\",\"type\":\"BasicTickFormatter\"},{\"attributes\":{\"bottom_units\":\"screen\",\"fill_alpha\":0.5,\"fill_color\":\"lightgrey\",\"left_units\":\"screen\",\"level\":\"overlay\",\"line_alpha\":1.0,\"line_color\":\"black\",\"line_dash\":[4,4],\"line_width\":2,\"render_mode\":\"css\",\"right_units\":\"screen\",\"top_units\":\"screen\"},\"id\":\"2470\",\"type\":\"BoxAnnotation\"},{\"attributes\":{\"background_fill_color\":\"#fafafa\",\"below\":[{\"id\":\"2457\"}],\"center\":[{\"id\":\"2459\"},{\"id\":\"2463\"}],\"left\":[{\"id\":\"2460\"}],\"plot_height\":500,\"plot_width\":200,\"renderers\":[{\"id\":\"2511\"}],\"title\":{\"id\":\"2648\"},\"toolbar\":{\"id\":\"2471\"},\"x_range\":{\"id\":\"2448\"},\"x_scale\":{\"id\":\"2453\"},\"y_range\":{\"id\":\"2451\"},\"y_scale\":{\"id\":\"2455\"}},\"id\":\"2449\",\"subtype\":\"Figure\",\"type\":\"Plot\"},{\"attributes\":{\"factors\":[\"Not Reported\",\"United States\",\"Iran\",\"Egypt\",\"Cruise\",\"United Kingdom\",\"Grand Princess Cruise\",\"Spain\",\"Europe\",\"Grand Princess Cruise Ship\",\"Canada\",\"Italy\",\"China\",\"France\",\"Caribbean\",\"Austria\",\"Mexico\",\"Philippines\",\"Germany\",\"Dominican Republic\",\"Costa Rica\",\"India\",\"Asia\",\"Bahamas\",\"United Arab Emirates\",\"Spain, Portugal\",\"Singapore\",\"Brazil\",\"Germany, Austria\",\"Switzerland\",\"Ecuador\",\"United States, Caribbean\",\"Jamaica\",\"Colombia\",\"MS Braemar cruise ship\",\"Denmark\",\"United Kingdom, United States\",\"United Kingdom, United Arab Emirates\",\"Spain, Belgium, Canary Islands\",\"Peru\",\"Greece\",\"United States, Costa Rica\",\"India, Hong Kong\",\"Pakistan, Turkey\",\"Australia\",\"Egypt, Israel, United Kingdom\",\"United States, Puerto Rico\",\"Nigeria, Germany, Canada\",\"Puerto Rico\",\"United States, Caribbean Cruise\",\"Puerto Rico, U.S. Virgin Islands, Barbados\",\"Spain, France\",\"Cruise (Mexico)\",\"Germany, Malta\",\"United Arab Emirates, Philippines\",\"Barbados\",\"United States, Spain, Costa Rica\",\"United States, Ireland, United Kingdom\",\"Jordan\",\"Egypt, United Arab Emirates\",\"Portugal\",\"Japan, United Kingdom, Germany\",\"Ukraine, Turkey, Netherlands\",\"United States, Canada\",\"Spain, Finland\",\"South Korea, Philippines, Japan\"]},\"id\":\"2478\",\"type\":\"FactorRange\"},{\"attributes\":{\"data\":{\"index\":[\"1\",\"0\"],\"level_0\":[0,1],\"travel_yn\":[413,218]},\"selected\":{\"id\":\"2660\"},\"selection_policy\":{\"id\":\"2661\"}},\"id\":\"2446\",\"type\":\"ColumnDataSource\"},{\"attributes\":{\"overlay\":{\"id\":\"2470\"}},\"id\":\"2466\",\"type\":\"BoxZoomTool\"},{\"attributes\":{},\"id\":\"2465\",\"type\":\"WheelZoomTool\"},{\"attributes\":{},\"id\":\"2491\",\"type\":\"BasicTicker\"},{\"attributes\":{},\"id\":\"2498\",\"type\":\"ResetTool\"},{\"attributes\":{\"source\":{\"id\":\"2446\"}},\"id\":\"2512\",\"type\":\"CDSView\"},{\"attributes\":{},\"id\":\"2499\",\"type\":\"HelpTool\"},{\"attributes\":{\"callback\":null,\"tooltips\":[[\"Sales\",\"@travel_history_country\"]]},\"id\":\"2520\",\"type\":\"HoverTool\"},{\"attributes\":{},\"id\":\"2451\",\"type\":\"DataRange1d\"},{\"attributes\":{\"data_source\":{\"id\":\"2447\"},\"glyph\":{\"id\":\"2514\"},\"hover_glyph\":null,\"muted_glyph\":null,\"nonselection_glyph\":{\"id\":\"2515\"},\"selection_glyph\":null,\"view\":{\"id\":\"2517\"}},\"id\":\"2516\",\"type\":\"GlyphRenderer\"},{\"attributes\":{},\"id\":\"2485\",\"type\":\"LinearScale\"},{\"attributes\":{},\"id\":\"2483\",\"type\":\"CategoricalScale\"},{\"attributes\":{\"formatter\":{\"id\":\"2659\"},\"major_label_orientation\":1,\"ticker\":{\"id\":\"2488\"}},\"id\":\"2487\",\"type\":\"CategoricalAxis\"},{\"attributes\":{},\"id\":\"2661\",\"type\":\"UnionRenderers\"},{\"attributes\":{},\"id\":\"2453\",\"type\":\"CategoricalScale\"},{\"attributes\":{},\"id\":\"2488\",\"type\":\"CategoricalTicker\"},{\"attributes\":{\"children\":[{\"id\":\"2449\"},{\"id\":\"2479\"}]},\"id\":\"2522\",\"type\":\"Row\"},{\"attributes\":{},\"id\":\"2469\",\"type\":\"HelpTool\"},{\"attributes\":{},\"id\":\"2660\",\"type\":\"Selection\"},{\"attributes\":{},\"id\":\"2455\",\"type\":\"LinearScale\"},{\"attributes\":{\"axis\":{\"id\":\"2487\"},\"ticker\":null},\"id\":\"2489\",\"type\":\"Grid\"},{\"attributes\":{\"fill_color\":{\"value\":\"#1f77b4\"},\"line_color\":{\"value\":\"#1f77b4\"},\"top\":{\"field\":\"travel_yn\"},\"width\":{\"value\":0.2},\"x\":{\"field\":\"index\"}},\"id\":\"2509\",\"type\":\"VBar\"},{\"attributes\":{\"data_source\":{\"id\":\"2446\"},\"glyph\":{\"id\":\"2509\"},\"hover_glyph\":null,\"muted_glyph\":null,\"nonselection_glyph\":{\"id\":\"2510\"},\"selection_glyph\":null,\"view\":{\"id\":\"2512\"}},\"id\":\"2511\",\"type\":\"GlyphRenderer\"},{\"attributes\":{\"formatter\":{\"id\":\"2655\"},\"ticker\":{\"id\":\"2458\"}},\"id\":\"2457\",\"type\":\"CategoricalAxis\"},{\"attributes\":{\"axis\":{\"id\":\"2490\"},\"dimension\":1,\"ticker\":null},\"id\":\"2493\",\"type\":\"Grid\"},{\"attributes\":{},\"id\":\"2664\",\"type\":\"UnionRenderers\"},{\"attributes\":{\"formatter\":{\"id\":\"2657\"},\"ticker\":{\"id\":\"2491\"}},\"id\":\"2490\",\"type\":\"LinearAxis\"},{\"attributes\":{},\"id\":\"2461\",\"type\":\"BasicTicker\"},{\"attributes\":{},\"id\":\"2458\",\"type\":\"CategoricalTicker\"},{\"attributes\":{\"axis\":{\"id\":\"2457\"},\"ticker\":null},\"id\":\"2459\",\"type\":\"Grid\"},{\"attributes\":{\"fill_color\":{\"value\":\"#1f77b4\"},\"line_color\":{\"value\":\"#1f77b4\"},\"top\":{\"field\":\"travel_history_country\"},\"width\":{\"value\":0.8},\"x\":{\"field\":\"index\"}},\"id\":\"2514\",\"type\":\"VBar\"},{\"attributes\":{\"active_drag\":\"auto\",\"active_inspect\":\"auto\",\"active_multi\":null,\"active_scroll\":\"auto\",\"active_tap\":\"auto\",\"tools\":[{\"id\":\"2464\"},{\"id\":\"2465\"},{\"id\":\"2466\"},{\"id\":\"2467\"},{\"id\":\"2468\"},{\"id\":\"2469\"},{\"id\":\"2518\"}]},\"id\":\"2471\",\"type\":\"Toolbar\"},{\"attributes\":{\"fill_alpha\":{\"value\":0.1},\"fill_color\":{\"value\":\"#1f77b4\"},\"line_alpha\":{\"value\":0.1},\"line_color\":{\"value\":\"#1f77b4\"},\"top\":{\"field\":\"travel_yn\"},\"width\":{\"value\":0.2},\"x\":{\"field\":\"index\"}},\"id\":\"2510\",\"type\":\"VBar\"},{\"attributes\":{\"axis\":{\"id\":\"2460\"},\"dimension\":1,\"ticker\":null},\"id\":\"2463\",\"type\":\"Grid\"},{\"attributes\":{\"formatter\":{\"id\":\"2653\"},\"ticker\":{\"id\":\"2461\"}},\"id\":\"2460\",\"type\":\"LinearAxis\"},{\"attributes\":{},\"id\":\"2659\",\"type\":\"CategoricalTickFormatter\"},{\"attributes\":{\"text\":\"\"},\"id\":\"2648\",\"type\":\"Title\"},{\"attributes\":{\"text\":\"\"},\"id\":\"2650\",\"type\":\"Title\"}],\"root_ids\":[\"2523\"]},\"title\":\"Bokeh Application\",\"version\":\"2.0.1\"}};\n",
       "  var render_items = [{\"docid\":\"6a55de2f-601d-4609-af36-41153c9f07e0\",\"root_ids\":[\"2523\"],\"roots\":{\"2523\":\"e293a1a2-f605-44bb-81b3-5c46e0b4c54d\"}}];\n",
       "  root.Bokeh.embed.embed_items_notebook(docs_json, render_items);\n",
       "\n",
       "  }\n",
       "  if (root.Bokeh !== undefined) {\n",
       "    embed_document(root);\n",
       "  } else {\n",
       "    var attempts = 0;\n",
       "    var timer = setInterval(function(root) {\n",
       "      if (root.Bokeh !== undefined) {\n",
       "        clearInterval(timer);\n",
       "        embed_document(root);\n",
       "      } else {\n",
       "        attempts++;\n",
       "        if (attempts > 100) {\n",
       "          clearInterval(timer);\n",
       "          console.log(\"Bokeh: ERROR: Unable to run BokehJS code because BokehJS library is missing\");\n",
       "        }\n",
       "      }\n",
       "    }, 10, root)\n",
       "  }\n",
       "})(window);"
      ],
      "application/vnd.bokehjs_exec.v0+json": ""
     },
     "metadata": {
      "application/vnd.bokehjs_exec.v0+json": {
       "id": "2523"
      }
     },
     "output_type": "display_data"
    }
   ],
   "source": [
    "plot1 = figure(plot_width = 200, plot_height = 500,x_range = FactorRange(factors = n_travel_factors),background_fill_color=\"#fafafa\")\n",
    "plot2 = figure(plot_width = 780, plot_height = 500,x_range = FactorRange(factors = travel_history_country_factors),background_fill_color=\"#fafafa\")\n",
    "\n",
    "\n",
    "plot1.vbar(x = 'index' , top = 'travel_yn' , width = 0.2, source = n_travel_data);\n",
    "plot2.vbar(x = 'index' , top = 'travel_history_country' , width = 0.8, source = travel_history_country_data);\n",
    "plot1.add_tools(HoverTool(tooltips = [('Sales', '@travel_yn')]))\n",
    "plot2.add_tools(HoverTool(tooltips = [('Sales', '@travel_history_country')]))\n",
    "\n",
    "\n",
    "plot2.xaxis.major_label_orientation = 1\n",
    "grid = layout([[plot1,plot2]]) \n",
    "\n",
    "show(grid)"
   ]
  },
  {
   "cell_type": "code",
   "execution_count": null,
   "metadata": {},
   "outputs": [],
   "source": []
  },
  {
   "cell_type": "code",
   "execution_count": null,
   "metadata": {},
   "outputs": [],
   "source": []
  },
  {
   "cell_type": "markdown",
   "metadata": {},
   "source": [
    "# Number of Deaths in Canada"
   ]
  },
  {
   "cell_type": "code",
   "execution_count": 17,
   "metadata": {},
   "outputs": [
    {
     "data": {
      "text/html": [
       "<div>\n",
       "<style scoped>\n",
       "    .dataframe tbody tr th:only-of-type {\n",
       "        vertical-align: middle;\n",
       "    }\n",
       "\n",
       "    .dataframe tbody tr th {\n",
       "        vertical-align: top;\n",
       "    }\n",
       "\n",
       "    .dataframe thead th {\n",
       "        text-align: right;\n",
       "    }\n",
       "</style>\n",
       "<table border=\"1\" class=\"dataframe\">\n",
       "  <thead>\n",
       "    <tr style=\"text-align: right;\">\n",
       "      <th></th>\n",
       "      <th>death_id</th>\n",
       "      <th>province_death_id</th>\n",
       "      <th>case_id</th>\n",
       "      <th>age</th>\n",
       "      <th>sex</th>\n",
       "      <th>health_region</th>\n",
       "      <th>province</th>\n",
       "      <th>country</th>\n",
       "      <th>date_death_report</th>\n",
       "      <th>death_source</th>\n",
       "      <th>additional_info</th>\n",
       "      <th>additional_source</th>\n",
       "    </tr>\n",
       "  </thead>\n",
       "  <tbody>\n",
       "    <tr>\n",
       "      <td>0</td>\n",
       "      <td>1</td>\n",
       "      <td>1</td>\n",
       "      <td>60.0</td>\n",
       "      <td>80-89</td>\n",
       "      <td>Male</td>\n",
       "      <td>Vancouver Coastal</td>\n",
       "      <td>BC</td>\n",
       "      <td>Canada</td>\n",
       "      <td>08-03-2020</td>\n",
       "      <td>https://news.gov.bc.ca/releases/2020HLTH0068-0...</td>\n",
       "      <td>Lynn Valley Resident</td>\n",
       "      <td>NaN</td>\n",
       "    </tr>\n",
       "  </tbody>\n",
       "</table>\n",
       "</div>"
      ],
      "text/plain": [
       "   death_id  province_death_id  case_id    age   sex      health_region  \\\n",
       "0         1                  1     60.0  80-89  Male  Vancouver Coastal   \n",
       "\n",
       "  province country date_death_report  \\\n",
       "0       BC  Canada        08-03-2020   \n",
       "\n",
       "                                        death_source       additional_info  \\\n",
       "0  https://news.gov.bc.ca/releases/2020HLTH0068-0...  Lynn Valley Resident   \n",
       "\n",
       "  additional_source  \n",
       "0               NaN  "
      ]
     },
     "metadata": {},
     "output_type": "display_data"
    }
   ],
   "source": [
    "display(n_death.head(1))"
   ]
  },
  {
   "cell_type": "code",
   "execution_count": 38,
   "metadata": {},
   "outputs": [],
   "source": [
    "n_death['date_death_report'] = pd.to_datetime(n_death['date_death_report'], dayfirst = True)\n",
    "n_death['people'] = 1"
   ]
  },
  {
   "cell_type": "code",
   "execution_count": 39,
   "metadata": {},
   "outputs": [],
   "source": [
    "death_gender = n_death.groupby(['sex'])['people'].sum().sort_values(ascending = False).reset_index();\n",
    "death_gender_factors = pd.unique(death_gender['sex'])\n",
    "death_gender_data = ColumnDataSource(death_gender)\n",
    "\n",
    "death_age = n_death.groupby(['age'])['people'].sum().sort_values(ascending = False).reset_index();\n",
    "death_age_factors = pd.unique(death_age['age'])\n",
    "death_age_data = ColumnDataSource(death_age)\n",
    "\n",
    "death_x = n_death.groupby(['age', 'sex'])['people'].sum().reset_index()\n",
    "death_x['label'] = tuple(zip(death_x['age'], death_x['sex']))\n",
    "death_x_data = ColumnDataSource(death_x)\n",
    "\n",
    "\n"
   ]
  },
  {
   "cell_type": "code",
   "execution_count": 40,
   "metadata": {},
   "outputs": [
    {
     "data": {
      "text/html": [
       "\n",
       "\n",
       "\n",
       "\n",
       "\n",
       "\n",
       "  <div class=\"bk-root\" id=\"7eca6995-483d-47a5-b17e-59ee10ec7e61\" data-root-id=\"6202\"></div>\n"
      ]
     },
     "metadata": {},
     "output_type": "display_data"
    },
    {
     "data": {
      "application/javascript": [
       "(function(root) {\n",
       "  function embed_document(root) {\n",
       "    \n",
       "  var docs_json = {\"97079cc6-03c2-44bb-ace5-cb005201c458\":{\"roots\":{\"references\":[{\"attributes\":{\"children\":[{\"id\":\"6200\"},{\"id\":\"6201\"}]},\"id\":\"6202\",\"type\":\"Column\"},{\"attributes\":{\"active_drag\":\"auto\",\"active_inspect\":\"auto\",\"active_multi\":null,\"active_scroll\":\"auto\",\"active_tap\":\"auto\",\"tools\":[{\"id\":\"6104\"},{\"id\":\"6105\"},{\"id\":\"6106\"},{\"id\":\"6107\"},{\"id\":\"6108\"},{\"id\":\"6109\"},{\"id\":\"6194\"}]},\"id\":\"6111\",\"type\":\"Toolbar\"},{\"attributes\":{\"background_fill_color\":\"#fafafa\",\"below\":[{\"id\":\"6157\"}],\"center\":[{\"id\":\"6159\"},{\"id\":\"6163\"}],\"left\":[{\"id\":\"6160\"}],\"plot_height\":300,\"plot_width\":990,\"renderers\":[{\"id\":\"6192\"}],\"title\":{\"id\":\"6526\"},\"toolbar\":{\"id\":\"6171\"},\"x_range\":{\"id\":\"6148\"},\"x_scale\":{\"id\":\"6153\"},\"y_range\":{\"id\":\"6151\"},\"y_scale\":{\"id\":\"6155\"}},\"id\":\"6149\",\"subtype\":\"Figure\",\"type\":\"Plot\"},{\"attributes\":{\"bottom_units\":\"screen\",\"fill_alpha\":0.5,\"fill_color\":\"lightgrey\",\"left_units\":\"screen\",\"level\":\"overlay\",\"line_alpha\":1.0,\"line_color\":\"black\",\"line_dash\":[4,4],\"line_width\":2,\"render_mode\":\"css\",\"right_units\":\"screen\",\"top_units\":\"screen\"},\"id\":\"6110\",\"type\":\"BoxAnnotation\"},{\"attributes\":{\"factors\":[[\"50-59\",\"Male\"],[\"60-69\",\"Female\"],[\"60-69\",\"Male\"],[\"70-79\",\"Female\"],[\"70-79\",\"Male\"],[\"80-89\",\"Female\"],[\"80-89\",\"Male\"],[\"90-99\",\"Female\"],[\"90-99\",\"Male\"],[\"Not Reported\",\"Male\"],[\"Not Reported\",\"Not Reported\"]]},\"id\":\"6148\",\"type\":\"FactorRange\"},{\"attributes\":{\"data_source\":{\"id\":\"1006\"},\"glyph\":{\"id\":\"6190\"},\"hover_glyph\":null,\"muted_glyph\":null,\"nonselection_glyph\":{\"id\":\"6191\"},\"selection_glyph\":null,\"view\":{\"id\":\"6193\"}},\"id\":\"6192\",\"type\":\"GlyphRenderer\"},{\"attributes\":{\"source\":{\"id\":\"1006\"}},\"id\":\"6193\",\"type\":\"CDSView\"},{\"attributes\":{\"text\":\"\"},\"id\":\"6524\",\"type\":\"Title\"},{\"attributes\":{\"callback\":null,\"tooltips\":[[\"Sales\",\"@people\"]]},\"id\":\"6198\",\"type\":\"HoverTool\"},{\"attributes\":{},\"id\":\"6529\",\"type\":\"BasicTickFormatter\"},{\"attributes\":{},\"id\":\"1240\",\"type\":\"UnionRenderers\"},{\"attributes\":{\"text\":\"\"},\"id\":\"6522\",\"type\":\"Title\"},{\"attributes\":{\"callback\":null,\"tooltips\":[[\"Sales\",\"@people\"]]},\"id\":\"6196\",\"type\":\"HoverTool\"},{\"attributes\":{\"callback\":null,\"tooltips\":[[\"Sales\",\"@people\"]]},\"id\":\"6194\",\"type\":\"HoverTool\"},{\"attributes\":{\"fill_alpha\":{\"value\":0.1},\"fill_color\":{\"value\":\"#1f77b4\"},\"line_alpha\":{\"value\":0.1},\"line_color\":{\"value\":\"#1f77b4\"},\"top\":{\"field\":\"people\"},\"width\":{\"value\":0.8},\"x\":{\"field\":\"age\"}},\"id\":\"6185\",\"type\":\"VBar\"},{\"attributes\":{\"fill_color\":{\"field\":\"label\",\"transform\":{\"id\":\"6188\"}},\"line_color\":{\"value\":\"#1f77b4\"},\"top\":{\"field\":\"people\"},\"width\":{\"value\":0.8},\"x\":{\"field\":\"label\"}},\"id\":\"6190\",\"type\":\"VBar\"},{\"attributes\":{},\"id\":\"6107\",\"type\":\"SaveTool\"},{\"attributes\":{},\"id\":\"6108\",\"type\":\"ResetTool\"},{\"attributes\":{\"formatter\":{\"id\":\"6539\"},\"ticker\":{\"id\":\"6158\"}},\"id\":\"6157\",\"type\":\"CategoricalAxis\"},{\"attributes\":{},\"id\":\"6161\",\"type\":\"BasicTicker\"},{\"attributes\":{},\"id\":\"6109\",\"type\":\"HelpTool\"},{\"attributes\":{},\"id\":\"6158\",\"type\":\"CategoricalTicker\"},{\"attributes\":{},\"id\":\"6125\",\"type\":\"LinearScale\"},{\"attributes\":{\"axis\":{\"id\":\"6157\"},\"ticker\":null},\"id\":\"6159\",\"type\":\"Grid\"},{\"attributes\":{\"formatter\":{\"id\":\"6535\"},\"ticker\":{\"id\":\"6128\"}},\"id\":\"6127\",\"type\":\"CategoricalAxis\"},{\"attributes\":{\"data\":{\"age\":[\"Not Reported\",\"80-89\",\"70-79\",\"90-99\",\"60-69\",\"50-59\"],\"index\":[0,1,2,3,4,5],\"people\":[46,8,5,4,2,1]},\"selected\":{\"id\":\"6543\"},\"selection_policy\":{\"id\":\"6544\"}},\"id\":\"6086\",\"type\":\"ColumnDataSource\"},{\"attributes\":{},\"id\":\"6537\",\"type\":\"BasicTickFormatter\"},{\"attributes\":{\"axis\":{\"id\":\"6160\"},\"dimension\":1,\"ticker\":null},\"id\":\"6163\",\"type\":\"Grid\"},{\"attributes\":{\"formatter\":{\"id\":\"6537\"},\"ticker\":{\"id\":\"6161\"}},\"id\":\"6160\",\"type\":\"LinearAxis\"},{\"attributes\":{\"fill_alpha\":{\"value\":0.1},\"fill_color\":{\"value\":\"#1f77b4\"},\"line_alpha\":{\"value\":0.1},\"line_color\":{\"value\":\"#1f77b4\"},\"top\":{\"field\":\"people\"},\"width\":{\"value\":0.5},\"x\":{\"field\":\"sex\"}},\"id\":\"6180\",\"type\":\"VBar\"},{\"attributes\":{},\"id\":\"6131\",\"type\":\"BasicTicker\"},{\"attributes\":{},\"id\":\"6128\",\"type\":\"CategoricalTicker\"},{\"attributes\":{\"source\":{\"id\":\"6085\"}},\"id\":\"6182\",\"type\":\"CDSView\"},{\"attributes\":{\"axis\":{\"id\":\"6127\"},\"ticker\":null},\"id\":\"6129\",\"type\":\"Grid\"},{\"attributes\":{\"active_drag\":\"auto\",\"active_inspect\":\"auto\",\"active_multi\":null,\"active_scroll\":\"auto\",\"active_tap\":\"auto\",\"tools\":[{\"id\":\"6164\"},{\"id\":\"6165\"},{\"id\":\"6166\"},{\"id\":\"6167\"},{\"id\":\"6168\"},{\"id\":\"6169\"},{\"id\":\"6198\"}]},\"id\":\"6171\",\"type\":\"Toolbar\"},{\"attributes\":{\"fill_color\":{\"value\":\"#1f77b4\"},\"line_color\":{\"value\":\"#1f77b4\"},\"top\":{\"field\":\"people\"},\"width\":{\"value\":0.8},\"x\":{\"field\":\"age\"}},\"id\":\"6184\",\"type\":\"VBar\"},{\"attributes\":{\"axis\":{\"id\":\"6130\"},\"dimension\":1,\"ticker\":null},\"id\":\"6133\",\"type\":\"Grid\"},{\"attributes\":{},\"id\":\"6544\",\"type\":\"UnionRenderers\"},{\"attributes\":{\"formatter\":{\"id\":\"6533\"},\"ticker\":{\"id\":\"6131\"}},\"id\":\"6130\",\"type\":\"LinearAxis\"},{\"attributes\":{},\"id\":\"6535\",\"type\":\"CategoricalTickFormatter\"},{\"attributes\":{},\"id\":\"6164\",\"type\":\"PanTool\"},{\"attributes\":{\"factors\":[\"Not Reported\",\"80-89\",\"70-79\",\"90-99\",\"60-69\",\"50-59\"]},\"id\":\"6118\",\"type\":\"FactorRange\"},{\"attributes\":{\"factors\":[\"Not Reported\",\"Male\",\"Female\"]},\"id\":\"6088\",\"type\":\"FactorRange\"},{\"attributes\":{},\"id\":\"6165\",\"type\":\"WheelZoomTool\"},{\"attributes\":{},\"id\":\"6151\",\"type\":\"DataRange1d\"},{\"attributes\":{\"overlay\":{\"id\":\"6170\"}},\"id\":\"6166\",\"type\":\"BoxZoomTool\"},{\"attributes\":{\"background_fill_color\":\"#fafafa\",\"below\":[{\"id\":\"6097\"}],\"center\":[{\"id\":\"6099\"},{\"id\":\"6103\"}],\"left\":[{\"id\":\"6100\"}],\"plot_height\":300,\"plot_width\":495,\"renderers\":[{\"id\":\"6181\"}],\"title\":{\"id\":\"6522\"},\"toolbar\":{\"id\":\"6111\"},\"x_range\":{\"id\":\"6088\"},\"x_scale\":{\"id\":\"6093\"},\"y_range\":{\"id\":\"6091\"},\"y_scale\":{\"id\":\"6095\"}},\"id\":\"6089\",\"subtype\":\"Figure\",\"type\":\"Plot\"},{\"attributes\":{},\"id\":\"6167\",\"type\":\"SaveTool\"},{\"attributes\":{\"active_drag\":\"auto\",\"active_inspect\":\"auto\",\"active_multi\":null,\"active_scroll\":\"auto\",\"active_tap\":\"auto\",\"tools\":[{\"id\":\"6134\"},{\"id\":\"6135\"},{\"id\":\"6136\"},{\"id\":\"6137\"},{\"id\":\"6138\"},{\"id\":\"6139\"},{\"id\":\"6196\"}]},\"id\":\"6141\",\"type\":\"Toolbar\"},{\"attributes\":{},\"id\":\"6168\",\"type\":\"ResetTool\"},{\"attributes\":{},\"id\":\"6134\",\"type\":\"PanTool\"},{\"attributes\":{\"data_source\":{\"id\":\"6085\"},\"glyph\":{\"id\":\"6179\"},\"hover_glyph\":null,\"muted_glyph\":null,\"nonselection_glyph\":{\"id\":\"6180\"},\"selection_glyph\":null,\"view\":{\"id\":\"6182\"}},\"id\":\"6181\",\"type\":\"GlyphRenderer\"},{\"attributes\":{},\"id\":\"6121\",\"type\":\"DataRange1d\"},{\"attributes\":{},\"id\":\"6093\",\"type\":\"CategoricalScale\"},{\"attributes\":{},\"id\":\"6135\",\"type\":\"WheelZoomTool\"},{\"attributes\":{},\"id\":\"6169\",\"type\":\"HelpTool\"},{\"attributes\":{},\"id\":\"1239\",\"type\":\"Selection\"},{\"attributes\":{\"overlay\":{\"id\":\"6140\"}},\"id\":\"6136\",\"type\":\"BoxZoomTool\"},{\"attributes\":{\"fill_alpha\":{\"value\":0.1},\"fill_color\":{\"field\":\"label\",\"transform\":{\"id\":\"6188\"}},\"line_alpha\":{\"value\":0.1},\"line_color\":{\"value\":\"#1f77b4\"},\"top\":{\"field\":\"people\"},\"width\":{\"value\":0.8},\"x\":{\"field\":\"label\"}},\"id\":\"6191\",\"type\":\"VBar\"},{\"attributes\":{},\"id\":\"6539\",\"type\":\"CategoricalTickFormatter\"},{\"attributes\":{\"text\":\"\"},\"id\":\"6526\",\"type\":\"Title\"},{\"attributes\":{},\"id\":\"6137\",\"type\":\"SaveTool\"},{\"attributes\":{},\"id\":\"6091\",\"type\":\"DataRange1d\"},{\"attributes\":{},\"id\":\"6540\",\"type\":\"Selection\"},{\"attributes\":{},\"id\":\"6138\",\"type\":\"ResetTool\"},{\"attributes\":{},\"id\":\"6095\",\"type\":\"LinearScale\"},{\"attributes\":{},\"id\":\"6155\",\"type\":\"LinearScale\"},{\"attributes\":{},\"id\":\"6531\",\"type\":\"CategoricalTickFormatter\"},{\"attributes\":{\"formatter\":{\"id\":\"6531\"},\"ticker\":{\"id\":\"6098\"}},\"id\":\"6097\",\"type\":\"CategoricalAxis\"},{\"attributes\":{},\"id\":\"6139\",\"type\":\"HelpTool\"},{\"attributes\":{},\"id\":\"6101\",\"type\":\"BasicTicker\"},{\"attributes\":{},\"id\":\"6098\",\"type\":\"CategoricalTicker\"},{\"attributes\":{},\"id\":\"6543\",\"type\":\"Selection\"},{\"attributes\":{\"children\":[{\"id\":\"6149\"}]},\"id\":\"6201\",\"type\":\"Row\"},{\"attributes\":{\"axis\":{\"id\":\"6097\"},\"ticker\":null},\"id\":\"6099\",\"type\":\"Grid\"},{\"attributes\":{},\"id\":\"6541\",\"type\":\"UnionRenderers\"},{\"attributes\":{\"axis\":{\"id\":\"6100\"},\"dimension\":1,\"ticker\":null},\"id\":\"6103\",\"type\":\"Grid\"},{\"attributes\":{\"data\":{\"index\":[0,1,2],\"people\":[45,13,8],\"sex\":[\"Not Reported\",\"Male\",\"Female\"]},\"selected\":{\"id\":\"6540\"},\"selection_policy\":{\"id\":\"6541\"}},\"id\":\"6085\",\"type\":\"ColumnDataSource\"},{\"attributes\":{\"data\":{\"age\":[\"10-19\",\"20-29\",\"20-29\",\"30-39\",\"30-39\",\"40-49\",\"40-49\",\"50\",\"50-59\",\"50-59\",\"60-69\",\"60-69\",\"61\",\"70-79\",\"70-79\",\"80-89\",\"80-89\",\"90-99\",\"90-99\",\"<1\",\"<10\",\"<10\",\"<18\",\"<18\",\"<20\",\"<20\"],\"index\":[0,1,2,3,4,5,6,7,8,9,10,11,12,13,14,15,16,17,18,19,20,21,22,23,24,25],\"label\":[[\"10-19\",\"Male\"],[\"20-29\",\"Female\"],[\"20-29\",\"Male\"],[\"30-39\",\"Female\"],[\"30-39\",\"Male\"],[\"40-49\",\"Female\"],[\"40-49\",\"Male\"],[\"50\",\"Male\"],[\"50-59\",\"Female\"],[\"50-59\",\"Male\"],[\"60-69\",\"Female\"],[\"60-69\",\"Male\"],[\"61\",\"Female\"],[\"70-79\",\"Female\"],[\"70-79\",\"Male\"],[\"80-89\",\"Female\"],[\"80-89\",\"Male\"],[\"90-99\",\"Female\"],[\"90-99\",\"Male\"],[\"<1\",\"Male\"],[\"<10\",\"Female\"],[\"<10\",\"Male\"],[\"<18\",\"Female\"],[\"<18\",\"Male\"],[\"<20\",\"Female\"],[\"<20\",\"Male\"]],\"people\":[1,40,34,47,50,38,61,1,77,51,49,54,1,31,29,10,16,6,4,1,1,1,4,1,2,6],\"sex\":[\"Male\",\"Female\",\"Male\",\"Female\",\"Male\",\"Female\",\"Male\",\"Male\",\"Female\",\"Male\",\"Female\",\"Male\",\"Female\",\"Female\",\"Male\",\"Female\",\"Male\",\"Female\",\"Male\",\"Male\",\"Female\",\"Male\",\"Female\",\"Male\",\"Female\",\"Male\"]},\"selected\":{\"id\":\"1239\"},\"selection_policy\":{\"id\":\"1240\"}},\"id\":\"1006\",\"type\":\"ColumnDataSource\"},{\"attributes\":{\"formatter\":{\"id\":\"6529\"},\"ticker\":{\"id\":\"6101\"}},\"id\":\"6100\",\"type\":\"LinearAxis\"},{\"attributes\":{\"bottom_units\":\"screen\",\"fill_alpha\":0.5,\"fill_color\":\"lightgrey\",\"left_units\":\"screen\",\"level\":\"overlay\",\"line_alpha\":1.0,\"line_color\":\"black\",\"line_dash\":[4,4],\"line_width\":2,\"render_mode\":\"css\",\"right_units\":\"screen\",\"top_units\":\"screen\"},\"id\":\"6170\",\"type\":\"BoxAnnotation\"},{\"attributes\":{},\"id\":\"6153\",\"type\":\"CategoricalScale\"},{\"attributes\":{\"children\":[{\"id\":\"6089\"},{\"id\":\"6119\"}]},\"id\":\"6200\",\"type\":\"Row\"},{\"attributes\":{\"source\":{\"id\":\"6086\"}},\"id\":\"6187\",\"type\":\"CDSView\"},{\"attributes\":{\"background_fill_color\":\"#fafafa\",\"below\":[{\"id\":\"6127\"}],\"center\":[{\"id\":\"6129\"},{\"id\":\"6133\"}],\"left\":[{\"id\":\"6130\"}],\"plot_height\":300,\"plot_width\":495,\"renderers\":[{\"id\":\"6186\"}],\"title\":{\"id\":\"6524\"},\"toolbar\":{\"id\":\"6141\"},\"x_range\":{\"id\":\"6118\"},\"x_scale\":{\"id\":\"6123\"},\"y_range\":{\"id\":\"6121\"},\"y_scale\":{\"id\":\"6125\"}},\"id\":\"6119\",\"subtype\":\"Figure\",\"type\":\"Plot\"},{\"attributes\":{\"end\":2,\"factors\":[\"Male\",\"Female\",\"Male\",\"Female\",\"Male\",\"Female\",\"Male\",\"Male\",\"Female\",\"Male\",\"Female\",\"Male\",\"Female\",\"Female\",\"Male\",\"Female\",\"Male\",\"Female\",\"Male\",\"Male\",\"Female\",\"Male\",\"Female\",\"Male\",\"Female\",\"Male\"],\"palette\":[\"#3288bd\",\"#99d594\",\"#e6f598\",\"#fee08b\",\"#fc8d59\",\"#d53e4f\"],\"start\":1},\"id\":\"6188\",\"type\":\"CategoricalColorMapper\"},{\"attributes\":{},\"id\":\"6123\",\"type\":\"CategoricalScale\"},{\"attributes\":{},\"id\":\"6533\",\"type\":\"BasicTickFormatter\"},{\"attributes\":{\"data_source\":{\"id\":\"6086\"},\"glyph\":{\"id\":\"6184\"},\"hover_glyph\":null,\"muted_glyph\":null,\"nonselection_glyph\":{\"id\":\"6185\"},\"selection_glyph\":null,\"view\":{\"id\":\"6187\"}},\"id\":\"6186\",\"type\":\"GlyphRenderer\"},{\"attributes\":{\"fill_color\":{\"value\":\"#1f77b4\"},\"line_color\":{\"value\":\"#1f77b4\"},\"top\":{\"field\":\"people\"},\"width\":{\"value\":0.5},\"x\":{\"field\":\"sex\"}},\"id\":\"6179\",\"type\":\"VBar\"},{\"attributes\":{},\"id\":\"6104\",\"type\":\"PanTool\"},{\"attributes\":{\"bottom_units\":\"screen\",\"fill_alpha\":0.5,\"fill_color\":\"lightgrey\",\"left_units\":\"screen\",\"level\":\"overlay\",\"line_alpha\":1.0,\"line_color\":\"black\",\"line_dash\":[4,4],\"line_width\":2,\"render_mode\":\"css\",\"right_units\":\"screen\",\"top_units\":\"screen\"},\"id\":\"6140\",\"type\":\"BoxAnnotation\"},{\"attributes\":{},\"id\":\"6105\",\"type\":\"WheelZoomTool\"},{\"attributes\":{\"overlay\":{\"id\":\"6110\"}},\"id\":\"6106\",\"type\":\"BoxZoomTool\"}],\"root_ids\":[\"6202\"]},\"title\":\"Bokeh Application\",\"version\":\"2.0.1\"}};\n",
       "  var render_items = [{\"docid\":\"97079cc6-03c2-44bb-ace5-cb005201c458\",\"root_ids\":[\"6202\"],\"roots\":{\"6202\":\"7eca6995-483d-47a5-b17e-59ee10ec7e61\"}}];\n",
       "  root.Bokeh.embed.embed_items_notebook(docs_json, render_items);\n",
       "\n",
       "  }\n",
       "  if (root.Bokeh !== undefined) {\n",
       "    embed_document(root);\n",
       "  } else {\n",
       "    var attempts = 0;\n",
       "    var timer = setInterval(function(root) {\n",
       "      if (root.Bokeh !== undefined) {\n",
       "        clearInterval(timer);\n",
       "        embed_document(root);\n",
       "      } else {\n",
       "        attempts++;\n",
       "        if (attempts > 100) {\n",
       "          clearInterval(timer);\n",
       "          console.log(\"Bokeh: ERROR: Unable to run BokehJS code because BokehJS library is missing\");\n",
       "        }\n",
       "      }\n",
       "    }, 10, root)\n",
       "  }\n",
       "})(window);"
      ],
      "application/vnd.bokehjs_exec.v0+json": ""
     },
     "metadata": {
      "application/vnd.bokehjs_exec.v0+json": {
       "id": "6202"
      }
     },
     "output_type": "display_data"
    }
   ],
   "source": [
    "plot1 = figure(plot_width = 495, plot_height = 300, x_range = FactorRange(factors = death_gender_factors),background_fill_color=\"#fafafa\")\n",
    "plot2 = figure(plot_width = 495, plot_height = 300, x_range = FactorRange(factors = death_age_factors),background_fill_color=\"#fafafa\")\n",
    "plot3 = figure(plot_width = 990, plot_height = 300, x_range = FactorRange(factors = death_x['label']),background_fill_color=\"#fafafa\")\n",
    "\n",
    "plot1.vbar(x = 'sex' , top = 'people' , width = 0.5, source = death_gender_data)\n",
    "plot2.vbar(x = 'age' , top = 'people' , width = 0.8, source = death_age_data)\n",
    "plot3.vbar(x = 'label' , top = 'people' , width = 0.8, source = sex_age_data,\\\n",
    "          fill_color=factor_cmap('label', factors= sex_age['sex'] , start=1, end=2, palette = Spectral6))\n",
    "\n",
    "plot1.add_tools(HoverTool(tooltips = [('Sales', '@people')]))\n",
    "plot2.add_tools(HoverTool(tooltips = [('Sales', '@people')]))\n",
    "plot3.add_tools(HoverTool(tooltips = [('Sales', '@people')]))\n",
    "\n",
    "grid = layout([[plot1,plot2],[plot3]]) \n",
    "\n",
    "\n",
    "show(grid)"
   ]
  },
  {
   "cell_type": "code",
   "execution_count": null,
   "metadata": {},
   "outputs": [],
   "source": []
  },
  {
   "cell_type": "code",
   "execution_count": 44,
   "metadata": {},
   "outputs": [
    {
     "data": {
      "text/html": [
       "<div>\n",
       "<style scoped>\n",
       "    .dataframe tbody tr th:only-of-type {\n",
       "        vertical-align: middle;\n",
       "    }\n",
       "\n",
       "    .dataframe tbody tr th {\n",
       "        vertical-align: top;\n",
       "    }\n",
       "\n",
       "    .dataframe thead th {\n",
       "        text-align: right;\n",
       "    }\n",
       "</style>\n",
       "<table border=\"1\" class=\"dataframe\">\n",
       "  <thead>\n",
       "    <tr style=\"text-align: right;\">\n",
       "      <th></th>\n",
       "      <th>index</th>\n",
       "      <th>date_death_report</th>\n",
       "    </tr>\n",
       "  </thead>\n",
       "  <tbody>\n",
       "    <tr>\n",
       "      <td>14</td>\n",
       "      <td>2020-03-08</td>\n",
       "      <td>1</td>\n",
       "    </tr>\n",
       "    <tr>\n",
       "      <td>13</td>\n",
       "      <td>2020-03-11</td>\n",
       "      <td>1</td>\n",
       "    </tr>\n",
       "    <tr>\n",
       "      <td>7</td>\n",
       "      <td>2020-03-16</td>\n",
       "      <td>3</td>\n",
       "    </tr>\n",
       "    <tr>\n",
       "      <td>10</td>\n",
       "      <td>2020-03-17</td>\n",
       "      <td>3</td>\n",
       "    </tr>\n",
       "    <tr>\n",
       "      <td>12</td>\n",
       "      <td>2020-03-18</td>\n",
       "      <td>1</td>\n",
       "    </tr>\n",
       "    <tr>\n",
       "      <td>8</td>\n",
       "      <td>2020-03-19</td>\n",
       "      <td>3</td>\n",
       "    </tr>\n",
       "    <tr>\n",
       "      <td>15</td>\n",
       "      <td>2020-03-20</td>\n",
       "      <td>1</td>\n",
       "    </tr>\n",
       "    <tr>\n",
       "      <td>3</td>\n",
       "      <td>2020-03-21</td>\n",
       "      <td>5</td>\n",
       "    </tr>\n",
       "    <tr>\n",
       "      <td>11</td>\n",
       "      <td>2020-03-22</td>\n",
       "      <td>3</td>\n",
       "    </tr>\n",
       "    <tr>\n",
       "      <td>6</td>\n",
       "      <td>2020-03-23</td>\n",
       "      <td>3</td>\n",
       "    </tr>\n",
       "    <tr>\n",
       "      <td>9</td>\n",
       "      <td>2020-03-24</td>\n",
       "      <td>3</td>\n",
       "    </tr>\n",
       "    <tr>\n",
       "      <td>1</td>\n",
       "      <td>2020-03-25</td>\n",
       "      <td>8</td>\n",
       "    </tr>\n",
       "    <tr>\n",
       "      <td>5</td>\n",
       "      <td>2020-03-26</td>\n",
       "      <td>4</td>\n",
       "    </tr>\n",
       "    <tr>\n",
       "      <td>0</td>\n",
       "      <td>2020-03-27</td>\n",
       "      <td>16</td>\n",
       "    </tr>\n",
       "    <tr>\n",
       "      <td>2</td>\n",
       "      <td>2020-03-28</td>\n",
       "      <td>6</td>\n",
       "    </tr>\n",
       "    <tr>\n",
       "      <td>4</td>\n",
       "      <td>2020-03-29</td>\n",
       "      <td>5</td>\n",
       "    </tr>\n",
       "  </tbody>\n",
       "</table>\n",
       "</div>"
      ],
      "text/plain": [
       "        index  date_death_report\n",
       "14 2020-03-08                  1\n",
       "13 2020-03-11                  1\n",
       "7  2020-03-16                  3\n",
       "10 2020-03-17                  3\n",
       "12 2020-03-18                  1\n",
       "8  2020-03-19                  3\n",
       "15 2020-03-20                  1\n",
       "3  2020-03-21                  5\n",
       "11 2020-03-22                  3\n",
       "6  2020-03-23                  3\n",
       "9  2020-03-24                  3\n",
       "1  2020-03-25                  8\n",
       "5  2020-03-26                  4\n",
       "0  2020-03-27                 16\n",
       "2  2020-03-28                  6\n",
       "4  2020-03-29                  5"
      ]
     },
     "execution_count": 44,
     "metadata": {},
     "output_type": "execute_result"
    }
   ],
   "source": [
    "death_report = pd.DataFrame(n_death['date_death_report'].value_counts()).reset_index().sort_values(by = 'index')\n",
    "death_report_data = ColumnDataSource(death_report)\n",
    "\n",
    "death_report"
   ]
  },
  {
   "cell_type": "code",
   "execution_count": 42,
   "metadata": {},
   "outputs": [
    {
     "data": {
      "text/html": [
       "\n",
       "\n",
       "\n",
       "\n",
       "\n",
       "\n",
       "  <div class=\"bk-root\" id=\"f0b2fbfc-a0a6-4f44-a9d5-1138a7221662\" data-root-id=\"6712\"></div>\n"
      ]
     },
     "metadata": {},
     "output_type": "display_data"
    },
    {
     "data": {
      "application/javascript": [
       "(function(root) {\n",
       "  function embed_document(root) {\n",
       "    \n",
       "  var docs_json = {\"196fc578-8198-4af2-af39-026a3acd42cf\":{\"roots\":{\"references\":[{\"attributes\":{\"background_fill_color\":\"#fafafa\",\"below\":[{\"id\":\"6721\"}],\"center\":[{\"id\":\"6724\"},{\"id\":\"6728\"}],\"left\":[{\"id\":\"6725\"}],\"plot_height\":300,\"plot_width\":900,\"renderers\":[{\"id\":\"6746\"},{\"id\":\"6751\"}],\"title\":{\"id\":\"7101\"},\"toolbar\":{\"id\":\"6736\"},\"x_range\":{\"id\":\"6713\"},\"x_scale\":{\"id\":\"6717\"},\"y_range\":{\"id\":\"6715\"},\"y_scale\":{\"id\":\"6719\"}},\"id\":\"6712\",\"subtype\":\"Figure\",\"type\":\"Plot\"},{\"attributes\":{\"overlay\":{\"id\":\"6735\"}},\"id\":\"6731\",\"type\":\"BoxZoomTool\"},{\"attributes\":{},\"id\":\"6730\",\"type\":\"WheelZoomTool\"},{\"attributes\":{},\"id\":\"6732\",\"type\":\"SaveTool\"},{\"attributes\":{\"callback\":null,\"tooltips\":[[\"Sales\",\"@date_death_report\"]]},\"id\":\"6753\",\"type\":\"HoverTool\"},{\"attributes\":{},\"id\":\"6717\",\"type\":\"LinearScale\"},{\"attributes\":{},\"id\":\"6733\",\"type\":\"ResetTool\"},{\"attributes\":{},\"id\":\"6715\",\"type\":\"DataRange1d\"},{\"attributes\":{\"source\":{\"id\":\"6711\"}},\"id\":\"6752\",\"type\":\"CDSView\"},{\"attributes\":{},\"id\":\"7106\",\"type\":\"DatetimeTickFormatter\"},{\"attributes\":{},\"id\":\"6734\",\"type\":\"HelpTool\"},{\"attributes\":{\"data_source\":{\"id\":\"6711\"},\"glyph\":{\"id\":\"6749\"},\"hover_glyph\":null,\"muted_glyph\":null,\"nonselection_glyph\":{\"id\":\"6750\"},\"selection_glyph\":null,\"view\":{\"id\":\"6752\"}},\"id\":\"6751\",\"type\":\"GlyphRenderer\"},{\"attributes\":{\"text\":\"\"},\"id\":\"7101\",\"type\":\"Title\"},{\"attributes\":{},\"id\":\"6719\",\"type\":\"LinearScale\"},{\"attributes\":{\"days\":[1,2,3,4,5,6,7,8,9,10,11,12,13,14,15,16,17,18,19,20,21,22,23,24,25,26,27,28,29,30,31]},\"id\":\"7113\",\"type\":\"DaysTicker\"},{\"attributes\":{\"fill_alpha\":{\"value\":0.1},\"fill_color\":{\"value\":\"#1f77b4\"},\"line_alpha\":{\"value\":0.1},\"line_color\":{\"value\":\"#1f77b4\"},\"size\":{\"units\":\"screen\",\"value\":5},\"x\":{\"field\":\"index\"},\"y\":{\"field\":\"date_death_report\"}},\"id\":\"6750\",\"type\":\"Circle\"},{\"attributes\":{},\"id\":\"7104\",\"type\":\"BasicTickFormatter\"},{\"attributes\":{\"months\":[0,1,2,3,4,5,6,7,8,9,10,11]},\"id\":\"7117\",\"type\":\"MonthsTicker\"},{\"attributes\":{\"formatter\":{\"id\":\"7106\"},\"ticker\":{\"id\":\"6722\"}},\"id\":\"6721\",\"type\":\"DatetimeAxis\"},{\"attributes\":{\"fill_color\":{\"value\":\"#1f77b4\"},\"line_color\":{\"value\":\"#1f77b4\"},\"size\":{\"units\":\"screen\",\"value\":5},\"x\":{\"field\":\"index\"},\"y\":{\"field\":\"date_death_report\"}},\"id\":\"6749\",\"type\":\"Circle\"},{\"attributes\":{\"axis\":{\"id\":\"6725\"},\"dimension\":1,\"ticker\":null},\"id\":\"6728\",\"type\":\"Grid\"},{\"attributes\":{\"months\":[0,4,8]},\"id\":\"7119\",\"type\":\"MonthsTicker\"},{\"attributes\":{},\"id\":\"7121\",\"type\":\"YearsTicker\"},{\"attributes\":{\"num_minor_ticks\":5,\"tickers\":[{\"id\":\"7110\"},{\"id\":\"7111\"},{\"id\":\"7112\"},{\"id\":\"7113\"},{\"id\":\"7114\"},{\"id\":\"7115\"},{\"id\":\"7116\"},{\"id\":\"7117\"},{\"id\":\"7118\"},{\"id\":\"7119\"},{\"id\":\"7120\"},{\"id\":\"7121\"}]},\"id\":\"6722\",\"type\":\"DatetimeTicker\"},{\"attributes\":{\"mantissas\":[1,2,5],\"max_interval\":500.0,\"num_minor_ticks\":0},\"id\":\"7110\",\"type\":\"AdaptiveTicker\"},{\"attributes\":{\"axis\":{\"id\":\"6721\"},\"ticker\":null},\"id\":\"6724\",\"type\":\"Grid\"},{\"attributes\":{\"base\":60,\"mantissas\":[1,2,5,10,15,20,30],\"max_interval\":1800000.0,\"min_interval\":1000.0,\"num_minor_ticks\":0},\"id\":\"7111\",\"type\":\"AdaptiveTicker\"},{\"attributes\":{\"line_color\":\"#1f77b4\",\"line_width\":2,\"x\":{\"field\":\"index\"},\"y\":{\"field\":\"date_death_report\"}},\"id\":\"6744\",\"type\":\"Line\"},{\"attributes\":{},\"id\":\"6726\",\"type\":\"BasicTicker\"},{\"attributes\":{\"days\":[1,4,7,10,13,16,19,22,25,28]},\"id\":\"7114\",\"type\":\"DaysTicker\"},{\"attributes\":{\"formatter\":{\"id\":\"7104\"},\"ticker\":{\"id\":\"6726\"}},\"id\":\"6725\",\"type\":\"LinearAxis\"},{\"attributes\":{\"days\":[1,8,15,22]},\"id\":\"7115\",\"type\":\"DaysTicker\"},{\"attributes\":{},\"id\":\"6713\",\"type\":\"DataRange1d\"},{\"attributes\":{\"data\":{\"date_death_report\":[1,1,3,3,1,3,1,5,3,3,3,8,4,16,6,5],\"index\":{\"__ndarray__\":\"AADAD3cLd0IAAABBbgx3QgAAwD0KDndCAACAo1wOd0IAAEAJrw53QgAAAG8BD3dCAADA1FMPd0IAAIA6pg93QgAAQKD4D3dCAAAABksQd0IAAMBrnRB3QgAAgNHvEHdCAABAN0IRd0IAAACdlBF3QgAAwALnEXdCAACAaDkSd0I=\",\"dtype\":\"float64\",\"shape\":[16]},\"level_0\":[14,13,7,10,12,8,15,3,11,6,9,1,5,0,2,4]},\"selected\":{\"id\":\"7107\"},\"selection_policy\":{\"id\":\"7108\"}},\"id\":\"6711\",\"type\":\"ColumnDataSource\"},{\"attributes\":{\"base\":24,\"mantissas\":[1,2,4,6,8,12],\"max_interval\":43200000.0,\"min_interval\":3600000.0,\"num_minor_ticks\":0},\"id\":\"7112\",\"type\":\"AdaptiveTicker\"},{\"attributes\":{},\"id\":\"7108\",\"type\":\"UnionRenderers\"},{\"attributes\":{\"bottom_units\":\"screen\",\"fill_alpha\":0.5,\"fill_color\":\"lightgrey\",\"left_units\":\"screen\",\"level\":\"overlay\",\"line_alpha\":1.0,\"line_color\":\"black\",\"line_dash\":[4,4],\"line_width\":2,\"render_mode\":\"css\",\"right_units\":\"screen\",\"top_units\":\"screen\"},\"id\":\"6735\",\"type\":\"BoxAnnotation\"},{\"attributes\":{\"active_drag\":\"auto\",\"active_inspect\":\"auto\",\"active_multi\":null,\"active_scroll\":\"auto\",\"active_tap\":\"auto\",\"tools\":[{\"id\":\"6729\"},{\"id\":\"6730\"},{\"id\":\"6731\"},{\"id\":\"6732\"},{\"id\":\"6733\"},{\"id\":\"6734\"},{\"id\":\"6753\"}]},\"id\":\"6736\",\"type\":\"Toolbar\"},{\"attributes\":{\"days\":[1,15]},\"id\":\"7116\",\"type\":\"DaysTicker\"},{\"attributes\":{\"months\":[0,2,4,6,8,10]},\"id\":\"7118\",\"type\":\"MonthsTicker\"},{\"attributes\":{},\"id\":\"7107\",\"type\":\"Selection\"},{\"attributes\":{\"months\":[0,6]},\"id\":\"7120\",\"type\":\"MonthsTicker\"},{\"attributes\":{\"line_alpha\":0.1,\"line_color\":\"#1f77b4\",\"line_width\":2,\"x\":{\"field\":\"index\"},\"y\":{\"field\":\"date_death_report\"}},\"id\":\"6745\",\"type\":\"Line\"},{\"attributes\":{},\"id\":\"6729\",\"type\":\"PanTool\"},{\"attributes\":{\"data_source\":{\"id\":\"6711\"},\"glyph\":{\"id\":\"6744\"},\"hover_glyph\":null,\"muted_glyph\":null,\"nonselection_glyph\":{\"id\":\"6745\"},\"selection_glyph\":null,\"view\":{\"id\":\"6747\"}},\"id\":\"6746\",\"type\":\"GlyphRenderer\"},{\"attributes\":{\"source\":{\"id\":\"6711\"}},\"id\":\"6747\",\"type\":\"CDSView\"}],\"root_ids\":[\"6712\"]},\"title\":\"Bokeh Application\",\"version\":\"2.0.1\"}};\n",
       "  var render_items = [{\"docid\":\"196fc578-8198-4af2-af39-026a3acd42cf\",\"root_ids\":[\"6712\"],\"roots\":{\"6712\":\"f0b2fbfc-a0a6-4f44-a9d5-1138a7221662\"}}];\n",
       "  root.Bokeh.embed.embed_items_notebook(docs_json, render_items);\n",
       "\n",
       "  }\n",
       "  if (root.Bokeh !== undefined) {\n",
       "    embed_document(root);\n",
       "  } else {\n",
       "    var attempts = 0;\n",
       "    var timer = setInterval(function(root) {\n",
       "      if (root.Bokeh !== undefined) {\n",
       "        clearInterval(timer);\n",
       "        embed_document(root);\n",
       "      } else {\n",
       "        attempts++;\n",
       "        if (attempts > 100) {\n",
       "          clearInterval(timer);\n",
       "          console.log(\"Bokeh: ERROR: Unable to run BokehJS code because BokehJS library is missing\");\n",
       "        }\n",
       "      }\n",
       "    }, 10, root)\n",
       "  }\n",
       "})(window);"
      ],
      "application/vnd.bokehjs_exec.v0+json": ""
     },
     "metadata": {
      "application/vnd.bokehjs_exec.v0+json": {
       "id": "6712"
      }
     },
     "output_type": "display_data"
    }
   ],
   "source": [
    "plot1 = figure(plot_width = 900, plot_height = 300,x_axis_type=\"datetime\",background_fill_color=\"#fafafa\")\n",
    "plot1.line(x = 'index' , y = 'date_death_report' , width = 2, source = death_report_data);\n",
    "plot1.circle(x = 'index', y = 'date_death_report', size= 5, source = death_report_data)\n",
    "plot1.add_tools(HoverTool(tooltips = [('Sales', '@date_death_report')]))\n",
    "\n",
    "show(plot1)"
   ]
  },
  {
   "cell_type": "code",
   "execution_count": null,
   "metadata": {},
   "outputs": [],
   "source": []
  },
  {
   "cell_type": "code",
   "execution_count": 32,
   "metadata": {},
   "outputs": [],
   "source": [
    "province = (pd.DataFrame(n_death['province'].value_counts()).reset_index()\n",
    "                 .sort_values(by = 'province',ascending = False))\n",
    "province_factors = pd.unique(province['index'])\n",
    "province_data = ColumnDataSource(province)\n",
    "\n",
    "health_region = (pd.DataFrame(n_death['health_region'].value_counts()).reset_index()\n",
    "                 .sort_values(by = 'health_region',ascending = False))\n",
    "health_region_factors = pd.unique(health_region['index'])\n",
    "health_region_data = ColumnDataSource(health_region)"
   ]
  },
  {
   "cell_type": "code",
   "execution_count": 33,
   "metadata": {},
   "outputs": [
    {
     "data": {
      "text/html": [
       "\n",
       "\n",
       "\n",
       "\n",
       "\n",
       "\n",
       "  <div class=\"bk-root\" id=\"1546b1ad-3867-4ce4-ad29-686395edbf5b\" data-root-id=\"4742\"></div>\n"
      ]
     },
     "metadata": {},
     "output_type": "display_data"
    },
    {
     "data": {
      "application/javascript": [
       "(function(root) {\n",
       "  function embed_document(root) {\n",
       "    \n",
       "  var docs_json = {\"fd70f939-4251-4381-a6bc-54f1ee9ec9da\":{\"roots\":{\"references\":[{\"attributes\":{\"children\":[{\"id\":\"4740\"},{\"id\":\"4741\"}]},\"id\":\"4742\",\"type\":\"Column\"},{\"attributes\":{\"text\":\"\"},\"id\":\"5004\",\"type\":\"Title\"},{\"attributes\":{\"data_source\":{\"id\":\"4665\"},\"glyph\":{\"id\":\"4732\"},\"hover_glyph\":null,\"muted_glyph\":null,\"nonselection_glyph\":{\"id\":\"4733\"},\"selection_glyph\":null,\"view\":{\"id\":\"4735\"}},\"id\":\"4734\",\"type\":\"GlyphRenderer\"},{\"attributes\":{},\"id\":\"5013\",\"type\":\"CategoricalTickFormatter\"},{\"attributes\":{},\"id\":\"5015\",\"type\":\"UnionRenderers\"},{\"attributes\":{\"data_source\":{\"id\":\"4664\"},\"glyph\":{\"id\":\"4727\"},\"hover_glyph\":null,\"muted_glyph\":null,\"nonselection_glyph\":{\"id\":\"4728\"},\"selection_glyph\":null,\"view\":{\"id\":\"4730\"}},\"id\":\"4729\",\"type\":\"GlyphRenderer\"},{\"attributes\":{\"axis\":{\"id\":\"4675\"},\"ticker\":null},\"id\":\"4677\",\"type\":\"Grid\"},{\"attributes\":{\"formatter\":{\"id\":\"5011\"},\"ticker\":{\"id\":\"4709\"}},\"id\":\"4708\",\"type\":\"LinearAxis\"},{\"attributes\":{\"fill_color\":{\"value\":\"#1f77b4\"},\"line_color\":{\"value\":\"#1f77b4\"},\"top\":{\"field\":\"province\"},\"width\":{\"value\":0.8},\"x\":{\"field\":\"index\"}},\"id\":\"4727\",\"type\":\"VBar\"},{\"attributes\":{\"overlay\":{\"id\":\"4688\"}},\"id\":\"4684\",\"type\":\"BoxZoomTool\"},{\"attributes\":{\"bottom_units\":\"screen\",\"fill_alpha\":0.5,\"fill_color\":\"lightgrey\",\"left_units\":\"screen\",\"level\":\"overlay\",\"line_alpha\":1.0,\"line_color\":\"black\",\"line_dash\":[4,4],\"line_width\":2,\"render_mode\":\"css\",\"right_units\":\"screen\",\"top_units\":\"screen\"},\"id\":\"4718\",\"type\":\"BoxAnnotation\"},{\"attributes\":{},\"id\":\"4683\",\"type\":\"WheelZoomTool\"},{\"attributes\":{},\"id\":\"4671\",\"type\":\"CategoricalScale\"},{\"attributes\":{\"children\":[{\"id\":\"4667\"}]},\"id\":\"4740\",\"type\":\"Row\"},{\"attributes\":{\"axis\":{\"id\":\"4705\"},\"ticker\":null},\"id\":\"4707\",\"type\":\"Grid\"},{\"attributes\":{\"background_fill_color\":\"#fafafa\",\"below\":[{\"id\":\"4705\"}],\"center\":[{\"id\":\"4707\"},{\"id\":\"4711\"}],\"left\":[{\"id\":\"4708\"}],\"plot_height\":300,\"plot_width\":990,\"renderers\":[{\"id\":\"4734\"}],\"title\":{\"id\":\"5004\"},\"toolbar\":{\"id\":\"4719\"},\"x_range\":{\"id\":\"4696\"},\"x_scale\":{\"id\":\"4701\"},\"y_range\":{\"id\":\"4699\"},\"y_scale\":{\"id\":\"4703\"}},\"id\":\"4697\",\"subtype\":\"Figure\",\"type\":\"Plot\"},{\"attributes\":{},\"id\":\"4687\",\"type\":\"HelpTool\"},{\"attributes\":{\"data\":{\"health_region\":[18,15,4,4,3,3,3,2,2,2,1,1,1,1,1,1,1,1,1,1],\"index\":[\"Not Reported\",\"Vancouver Coastal\",\"Toronto\",\"Lanaudi\\u00e8re\",\"Haliburton Kawartha Pineridge\",\"Durham\",\"Simcoe Muskoka\",\"Fraser\",\"York\",\"Calgary\",\"Middlesex-London\",\"Montr\\u00e9al\",\"Halton\",\"Hamilton\",\"Edmonton\",\"Ottawa\",\"Renfrew\",\"Laurentides\",\"Niagara\",\"Winnipeg\"],\"level_0\":[0,1,2,3,4,5,6,7,8,9,15,18,17,16,10,14,13,12,11,19]},\"selected\":{\"id\":\"5017\"},\"selection_policy\":{\"id\":\"5018\"}},\"id\":\"4665\",\"type\":\"ColumnDataSource\"},{\"attributes\":{},\"id\":\"4706\",\"type\":\"CategoricalTicker\"},{\"attributes\":{\"formatter\":{\"id\":\"5013\"},\"major_label_orientation\":1,\"ticker\":{\"id\":\"4706\"}},\"id\":\"4705\",\"type\":\"CategoricalAxis\"},{\"attributes\":{},\"id\":\"5007\",\"type\":\"BasicTickFormatter\"},{\"attributes\":{},\"id\":\"5014\",\"type\":\"Selection\"},{\"attributes\":{\"background_fill_color\":\"#fafafa\",\"below\":[{\"id\":\"4675\"}],\"center\":[{\"id\":\"4677\"},{\"id\":\"4681\"}],\"left\":[{\"id\":\"4678\"}],\"plot_height\":300,\"plot_width\":900,\"renderers\":[{\"id\":\"4729\"}],\"title\":{\"id\":\"5002\"},\"toolbar\":{\"id\":\"4689\"},\"x_range\":{\"id\":\"4666\"},\"x_scale\":{\"id\":\"4671\"},\"y_range\":{\"id\":\"4669\"},\"y_scale\":{\"id\":\"4673\"}},\"id\":\"4667\",\"subtype\":\"Figure\",\"type\":\"Plot\"},{\"attributes\":{},\"id\":\"4686\",\"type\":\"ResetTool\"},{\"attributes\":{},\"id\":\"5009\",\"type\":\"CategoricalTickFormatter\"},{\"attributes\":{\"active_drag\":\"auto\",\"active_inspect\":\"auto\",\"active_multi\":null,\"active_scroll\":\"auto\",\"active_tap\":\"auto\",\"tools\":[{\"id\":\"4682\"},{\"id\":\"4683\"},{\"id\":\"4684\"},{\"id\":\"4685\"},{\"id\":\"4686\"},{\"id\":\"4687\"},{\"id\":\"4736\"}]},\"id\":\"4689\",\"type\":\"Toolbar\"},{\"attributes\":{\"axis\":{\"id\":\"4708\"},\"dimension\":1,\"ticker\":null},\"id\":\"4711\",\"type\":\"Grid\"},{\"attributes\":{\"source\":{\"id\":\"4664\"}},\"id\":\"4730\",\"type\":\"CDSView\"},{\"attributes\":{\"source\":{\"id\":\"4665\"}},\"id\":\"4735\",\"type\":\"CDSView\"},{\"attributes\":{\"callback\":null,\"tooltips\":[[\"Sales\",\"@province\"]]},\"id\":\"4736\",\"type\":\"HoverTool\"},{\"attributes\":{},\"id\":\"4709\",\"type\":\"BasicTicker\"},{\"attributes\":{},\"id\":\"5011\",\"type\":\"BasicTickFormatter\"},{\"attributes\":{},\"id\":\"4717\",\"type\":\"HelpTool\"},{\"attributes\":{},\"id\":\"4715\",\"type\":\"SaveTool\"},{\"attributes\":{\"bottom_units\":\"screen\",\"fill_alpha\":0.5,\"fill_color\":\"lightgrey\",\"left_units\":\"screen\",\"level\":\"overlay\",\"line_alpha\":1.0,\"line_color\":\"black\",\"line_dash\":[4,4],\"line_width\":2,\"render_mode\":\"css\",\"right_units\":\"screen\",\"top_units\":\"screen\"},\"id\":\"4688\",\"type\":\"BoxAnnotation\"},{\"attributes\":{},\"id\":\"5017\",\"type\":\"Selection\"},{\"attributes\":{},\"id\":\"4669\",\"type\":\"DataRange1d\"},{\"attributes\":{\"fill_alpha\":{\"value\":0.1},\"fill_color\":{\"value\":\"#1f77b4\"},\"line_alpha\":{\"value\":0.1},\"line_color\":{\"value\":\"#1f77b4\"},\"top\":{\"field\":\"province\"},\"width\":{\"value\":0.8},\"x\":{\"field\":\"index\"}},\"id\":\"4728\",\"type\":\"VBar\"},{\"attributes\":{},\"id\":\"4676\",\"type\":\"CategoricalTicker\"},{\"attributes\":{},\"id\":\"4713\",\"type\":\"WheelZoomTool\"},{\"attributes\":{\"factors\":[\"Ontario\",\"Quebec\",\"BC\",\"Alberta\",\"Manitoba\"]},\"id\":\"4666\",\"type\":\"FactorRange\"},{\"attributes\":{\"axis\":{\"id\":\"4678\"},\"dimension\":1,\"ticker\":null},\"id\":\"4681\",\"type\":\"Grid\"},{\"attributes\":{\"active_drag\":\"auto\",\"active_inspect\":\"auto\",\"active_multi\":null,\"active_scroll\":\"auto\",\"active_tap\":\"auto\",\"tools\":[{\"id\":\"4712\"},{\"id\":\"4713\"},{\"id\":\"4714\"},{\"id\":\"4715\"},{\"id\":\"4716\"},{\"id\":\"4717\"},{\"id\":\"4738\"}]},\"id\":\"4719\",\"type\":\"Toolbar\"},{\"attributes\":{},\"id\":\"5018\",\"type\":\"UnionRenderers\"},{\"attributes\":{\"formatter\":{\"id\":\"5007\"},\"ticker\":{\"id\":\"4679\"}},\"id\":\"4678\",\"type\":\"LinearAxis\"},{\"attributes\":{},\"id\":\"4703\",\"type\":\"LinearScale\"},{\"attributes\":{},\"id\":\"4712\",\"type\":\"PanTool\"},{\"attributes\":{\"callback\":null,\"tooltips\":[[\"Sales\",\"@health_region\"]]},\"id\":\"4738\",\"type\":\"HoverTool\"},{\"attributes\":{},\"id\":\"4701\",\"type\":\"CategoricalScale\"},{\"attributes\":{},\"id\":\"4716\",\"type\":\"ResetTool\"},{\"attributes\":{\"text\":\"\"},\"id\":\"5002\",\"type\":\"Title\"},{\"attributes\":{\"factors\":[\"Not Reported\",\"Vancouver Coastal\",\"Toronto\",\"Lanaudi\\u00e8re\",\"Haliburton Kawartha Pineridge\",\"Durham\",\"Simcoe Muskoka\",\"Fraser\",\"York\",\"Calgary\",\"Middlesex-London\",\"Montr\\u00e9al\",\"Halton\",\"Hamilton\",\"Edmonton\",\"Ottawa\",\"Renfrew\",\"Laurentides\",\"Niagara\",\"Winnipeg\"]},\"id\":\"4696\",\"type\":\"FactorRange\"},{\"attributes\":{\"children\":[{\"id\":\"4697\"}]},\"id\":\"4741\",\"type\":\"Row\"},{\"attributes\":{},\"id\":\"4679\",\"type\":\"BasicTicker\"},{\"attributes\":{},\"id\":\"4682\",\"type\":\"PanTool\"},{\"attributes\":{},\"id\":\"4673\",\"type\":\"LinearScale\"},{\"attributes\":{\"overlay\":{\"id\":\"4718\"}},\"id\":\"4714\",\"type\":\"BoxZoomTool\"},{\"attributes\":{},\"id\":\"4699\",\"type\":\"DataRange1d\"},{\"attributes\":{},\"id\":\"4685\",\"type\":\"SaveTool\"},{\"attributes\":{\"fill_alpha\":{\"value\":0.1},\"fill_color\":{\"value\":\"#1f77b4\"},\"line_alpha\":{\"value\":0.1},\"line_color\":{\"value\":\"#1f77b4\"},\"top\":{\"field\":\"health_region\"},\"width\":{\"value\":0.8},\"x\":{\"field\":\"index\"}},\"id\":\"4733\",\"type\":\"VBar\"},{\"attributes\":{\"fill_color\":{\"value\":\"#1f77b4\"},\"line_color\":{\"value\":\"#1f77b4\"},\"top\":{\"field\":\"health_region\"},\"width\":{\"value\":0.8},\"x\":{\"field\":\"index\"}},\"id\":\"4732\",\"type\":\"VBar\"},{\"attributes\":{\"data\":{\"index\":[\"Ontario\",\"Quebec\",\"BC\",\"Alberta\",\"Manitoba\"],\"level_0\":[0,1,2,3,4],\"province\":[23,22,17,3,1]},\"selected\":{\"id\":\"5014\"},\"selection_policy\":{\"id\":\"5015\"}},\"id\":\"4664\",\"type\":\"ColumnDataSource\"},{\"attributes\":{\"formatter\":{\"id\":\"5009\"},\"major_label_orientation\":1,\"ticker\":{\"id\":\"4676\"}},\"id\":\"4675\",\"type\":\"CategoricalAxis\"}],\"root_ids\":[\"4742\"]},\"title\":\"Bokeh Application\",\"version\":\"2.0.1\"}};\n",
       "  var render_items = [{\"docid\":\"fd70f939-4251-4381-a6bc-54f1ee9ec9da\",\"root_ids\":[\"4742\"],\"roots\":{\"4742\":\"1546b1ad-3867-4ce4-ad29-686395edbf5b\"}}];\n",
       "  root.Bokeh.embed.embed_items_notebook(docs_json, render_items);\n",
       "\n",
       "  }\n",
       "  if (root.Bokeh !== undefined) {\n",
       "    embed_document(root);\n",
       "  } else {\n",
       "    var attempts = 0;\n",
       "    var timer = setInterval(function(root) {\n",
       "      if (root.Bokeh !== undefined) {\n",
       "        clearInterval(timer);\n",
       "        embed_document(root);\n",
       "      } else {\n",
       "        attempts++;\n",
       "        if (attempts > 100) {\n",
       "          clearInterval(timer);\n",
       "          console.log(\"Bokeh: ERROR: Unable to run BokehJS code because BokehJS library is missing\");\n",
       "        }\n",
       "      }\n",
       "    }, 10, root)\n",
       "  }\n",
       "})(window);"
      ],
      "application/vnd.bokehjs_exec.v0+json": ""
     },
     "metadata": {
      "application/vnd.bokehjs_exec.v0+json": {
       "id": "4742"
      }
     },
     "output_type": "display_data"
    }
   ],
   "source": [
    "plot1 = figure(plot_width = 900, plot_height = 300,x_range = FactorRange(factors = province_factors),background_fill_color=\"#fafafa\")\n",
    "plot2 = figure(plot_width = 990, plot_height = 300,x_range = FactorRange(factors = health_region_factors),background_fill_color=\"#fafafa\")\n",
    "\n",
    "\n",
    "plot1.vbar(x = 'index' , top = 'province' , width = 0.8, source = province_data);\n",
    "plot2.vbar(x = 'index' , top = 'health_region' , width = 0.8, source = health_region_data);\n",
    "plot1.add_tools(HoverTool(tooltips = [('Sales', '@province')]))\n",
    "plot2.add_tools(HoverTool(tooltips = [('Sales', '@health_region')]))\n",
    "\n",
    "\n",
    "plot1.xaxis.major_label_orientation = 1\n",
    "plot2.xaxis.major_label_orientation = 1\n",
    "grid = layout([[plot1],[plot2]]) \n",
    "\n",
    "show(grid)"
   ]
  },
  {
   "cell_type": "code",
   "execution_count": null,
   "metadata": {},
   "outputs": [],
   "source": []
  },
  {
   "cell_type": "markdown",
   "metadata": {},
   "source": [
    "# Number of Testing Case"
   ]
  },
  {
   "cell_type": "code",
   "execution_count": 21,
   "metadata": {},
   "outputs": [],
   "source": [
    "n_testing['cumulative_testing'] = n_testing['cumulative_testing'].str.rstrip('*')\n",
    "n_testing['cumulative_testing'] = n_testing['cumulative_testing'].fillna(0)"
   ]
  },
  {
   "cell_type": "code",
   "execution_count": 22,
   "metadata": {},
   "outputs": [],
   "source": [
    "n_testing['date_testing'] = pd.to_datetime(n_testing['date_testing'], dayfirst = True)"
   ]
  },
  {
   "cell_type": "code",
   "execution_count": 23,
   "metadata": {
    "scrolled": false
   },
   "outputs": [
    {
     "data": {
      "text/plain": [
       "array(['Alberta', 'BC', 'Manitoba', 'NL', 'NWT', 'New Brunswick',\n",
       "       'Nova Scotia', 'Nunavut', 'Ontario', 'PEI', 'Quebec',\n",
       "       'Saskatchewan', 'Yukon'], dtype=object)"
      ]
     },
     "execution_count": 23,
     "metadata": {},
     "output_type": "execute_result"
    }
   ],
   "source": [
    "n_testing = n_testing.sort_values(by = ['province','date_testing']);\n",
    "n_testing['province'].unique()"
   ]
  },
  {
   "cell_type": "code",
   "execution_count": 24,
   "metadata": {},
   "outputs": [],
   "source": [
    "test = {}\n",
    "test_data = {}\n",
    "for name in n_testing['province'].unique():\n",
    "    test[name] = pd.DataFrame(n_testing.loc[n_testing['province'] == name])\n",
    "    test_data[name] = ColumnDataSource(test[name])"
   ]
  },
  {
   "cell_type": "code",
   "execution_count": null,
   "metadata": {},
   "outputs": [],
   "source": []
  },
  {
   "cell_type": "code",
   "execution_count": 25,
   "metadata": {},
   "outputs": [
    {
     "data": {
      "text/html": [
       "\n",
       "\n",
       "\n",
       "\n",
       "\n",
       "\n",
       "  <div class=\"bk-root\" id=\"7be01978-705f-4cbc-b7ea-ab7f0551c658\" data-root-id=\"3436\"></div>\n"
      ]
     },
     "metadata": {},
     "output_type": "display_data"
    },
    {
     "data": {
      "application/javascript": [
       "(function(root) {\n",
       "  function embed_document(root) {\n",
       "    \n",
       "  var docs_json = {\"11614fbc-40c8-486d-b665-f09ce164e628\":{\"roots\":{\"references\":[{\"attributes\":{\"children\":[{\"id\":\"3435\"}]},\"id\":\"3436\",\"type\":\"Column\"},{\"attributes\":{\"axis\":{\"id\":\"3245\"},\"ticker\":null},\"id\":\"3248\",\"type\":\"Grid\"},{\"attributes\":{\"line_alpha\":0.1,\"line_color\":\"rgb(255, 127, 14)\",\"line_width\":2,\"x\":{\"field\":\"date_testing\"},\"y\":{\"field\":\"cumulative_testing\"}},\"id\":\"3279\",\"type\":\"Line\"},{\"attributes\":{\"fill_alpha\":{\"value\":0.1},\"fill_color\":{\"value\":\"rgb(196, 156, 148)\"},\"line_alpha\":{\"value\":0.1},\"line_color\":{\"value\":\"rgb(196, 156, 148)\"},\"line_width\":{\"value\":2},\"x\":{\"field\":\"date_testing\"},\"y\":{\"field\":\"cumulative_testing\"}},\"id\":\"3394\",\"type\":\"Circle\"},{\"attributes\":{\"callback\":null,\"renderers\":[{\"id\":\"3285\"}],\"tooltips\":[[\"Sales\",\"@cumulative_testing\"]]},\"id\":\"3413\",\"type\":\"HoverTool\"},{\"attributes\":{},\"id\":\"3628\",\"type\":\"Selection\"},{\"attributes\":{\"axis\":{\"id\":\"3249\"},\"dimension\":1,\"ticker\":null},\"id\":\"3252\",\"type\":\"Grid\"},{\"attributes\":{\"source\":{\"id\":\"3225\"}},\"id\":\"3281\",\"type\":\"CDSView\"},{\"attributes\":{\"data\":{\"cumulative_testing\":[\"400\",\"2280\",\"2912\",\"3270\",\"3534\",\"3534\",\"3801\",\"4245\",\"4245\",\"4520\",\"4520\",\"5606\",\"6203\",\"6203\",\"7147\"],\"date_testing\":{\"__ndarray__\":\"AAAA2LcNd0IAAMA9Cg53QgAAgKNcDndCAABACa8Od0IAAABvAQ93QgAAwNRTD3dCAACAOqYPd0IAAECg+A93QgAAAAZLEHdCAADAa50Qd0IAAIDR7xB3QgAAQDdCEXdCAAAAnZQRd0IAAMAC5xF3QgAAgGg5EndC\",\"dtype\":\"float64\",\"shape\":[15]},\"index\":[44,43,42,41,40,39,38,37,36,35,34,33,32,31,30],\"province\":[\"Manitoba\",\"Manitoba\",\"Manitoba\",\"Manitoba\",\"Manitoba\",\"Manitoba\",\"Manitoba\",\"Manitoba\",\"Manitoba\",\"Manitoba\",\"Manitoba\",\"Manitoba\",\"Manitoba\",\"Manitoba\",\"Manitoba\"]},\"selected\":{\"id\":\"3616\"},\"selection_policy\":{\"id\":\"3617\"}},\"id\":\"3225\",\"type\":\"ColumnDataSource\"},{\"attributes\":{\"source\":{\"id\":\"3227\"}},\"id\":\"3361\",\"type\":\"CDSView\"},{\"attributes\":{\"fill_color\":{\"value\":\"rgb(214, 39, 40)\"},\"line_color\":{\"value\":\"rgb(214, 39, 40)\"},\"line_width\":{\"value\":2},\"x\":{\"field\":\"date_testing\"},\"y\":{\"field\":\"cumulative_testing\"}},\"id\":\"3368\",\"type\":\"Circle\"},{\"attributes\":{},\"id\":\"3629\",\"type\":\"UnionRenderers\"},{\"attributes\":{\"callback\":null,\"renderers\":[{\"id\":\"3290\"}],\"tooltips\":[[\"Sales\",\"@cumulative_testing\"]]},\"id\":\"3415\",\"type\":\"HoverTool\"},{\"attributes\":{\"line_color\":\"rgb(44, 160, 44)\",\"line_width\":2,\"x\":{\"field\":\"date_testing\"},\"y\":{\"field\":\"cumulative_testing\"}},\"id\":\"3288\",\"type\":\"Line\"},{\"attributes\":{},\"id\":\"3250\",\"type\":\"BasicTicker\"},{\"attributes\":{\"callback\":null,\"renderers\":[{\"id\":\"3295\"}],\"tooltips\":[[\"Sales\",\"@cumulative_testing\"]]},\"id\":\"3417\",\"type\":\"HoverTool\"},{\"attributes\":{},\"id\":\"3630\",\"type\":\"Selection\"},{\"attributes\":{\"data_source\":{\"id\":\"3225\"},\"glyph\":{\"id\":\"3278\"},\"hover_glyph\":null,\"muted_glyph\":null,\"nonselection_glyph\":{\"id\":\"3279\"},\"selection_glyph\":null,\"view\":{\"id\":\"3281\"}},\"id\":\"3280\",\"type\":\"GlyphRenderer\"},{\"attributes\":{\"data_source\":{\"id\":\"3234\"},\"glyph\":{\"id\":\"3393\"},\"hover_glyph\":null,\"muted_glyph\":null,\"nonselection_glyph\":{\"id\":\"3394\"},\"selection_glyph\":null,\"view\":{\"id\":\"3396\"}},\"id\":\"3395\",\"type\":\"GlyphRenderer\"},{\"attributes\":{\"formatter\":{\"id\":\"3609\"},\"ticker\":{\"id\":\"3250\"}},\"id\":\"3249\",\"type\":\"LinearAxis\"},{\"attributes\":{\"data\":{\"cumulative_testing\":[\"161\",\"161\",\"494\",\"494\",\"494\",\"791\",\"901\",\"970\",\"938\",\"1131\",\"1336\",\"1491\",\"1684\",\"1927\",\"2107\"],\"date_testing\":{\"__ndarray__\":\"AAAA2LcNd0IAAMA9Cg53QgAAgKNcDndCAABACa8Od0IAAABvAQ93QgAAwNRTD3dCAACAOqYPd0IAAECg+A93QgAAAAZLEHdCAADAa50Qd0IAAIDR7xB3QgAAQDdCEXdCAAAAnZQRd0IAAMAC5xF3QgAAgGg5EndC\",\"dtype\":\"float64\",\"shape\":[15]},\"index\":[74,73,72,71,70,69,68,67,66,65,64,63,62,61,60],\"province\":[\"NL\",\"NL\",\"NL\",\"NL\",\"NL\",\"NL\",\"NL\",\"NL\",\"NL\",\"NL\",\"NL\",\"NL\",\"NL\",\"NL\",\"NL\"]},\"selected\":{\"id\":\"3618\"},\"selection_policy\":{\"id\":\"3619\"}},\"id\":\"3226\",\"type\":\"ColumnDataSource\"},{\"attributes\":{\"source\":{\"id\":\"3228\"}},\"id\":\"3366\",\"type\":\"CDSView\"},{\"attributes\":{\"fill_color\":{\"value\":\"rgb(247, 182, 210)\"},\"line_color\":{\"value\":\"rgb(247, 182, 210)\"},\"line_width\":{\"value\":2},\"x\":{\"field\":\"date_testing\"},\"y\":{\"field\":\"cumulative_testing\"}},\"id\":\"3403\",\"type\":\"Circle\"},{\"attributes\":{},\"id\":\"3631\",\"type\":\"UnionRenderers\"},{\"attributes\":{\"line_color\":\"rgb(255, 187, 120)\",\"line_width\":2,\"x\":{\"field\":\"date_testing\"},\"y\":{\"field\":\"cumulative_testing\"}},\"id\":\"3283\",\"type\":\"Line\"},{\"attributes\":{\"source\":{\"id\":\"3234\"}},\"id\":\"3396\",\"type\":\"CDSView\"},{\"attributes\":{\"callback\":null,\"renderers\":[{\"id\":\"3280\"}],\"tooltips\":[[\"Sales\",\"@cumulative_testing\"]]},\"id\":\"3411\",\"type\":\"HoverTool\"},{\"attributes\":{\"callback\":null,\"renderers\":[{\"id\":\"3335\"}],\"tooltips\":[[\"Sales\",\"@cumulative_testing\"]]},\"id\":\"3433\",\"type\":\"HoverTool\"},{\"attributes\":{\"data_source\":{\"id\":\"3228\"},\"glyph\":{\"id\":\"3363\"},\"hover_glyph\":null,\"muted_glyph\":null,\"nonselection_glyph\":{\"id\":\"3364\"},\"selection_glyph\":null,\"view\":{\"id\":\"3366\"}},\"id\":\"3365\",\"type\":\"GlyphRenderer\"},{\"attributes\":{\"data\":{\"cumulative_testing\":[0,0,\"153\",\"153\",\"222\",\"275\",\"299\",\"370\",\"410\",\"492\",\"533\",\"559\",\"607\",\"762\",\"817\"],\"date_testing\":{\"__ndarray__\":\"AAAA2LcNd0IAAMA9Cg53QgAAgKNcDndCAABACa8Od0IAAABvAQ93QgAAwNRTD3dCAACAOqYPd0IAAECg+A93QgAAAAZLEHdCAADAa50Qd0IAAIDR7xB3QgAAQDdCEXdCAAAAnZQRd0IAAMAC5xF3QgAAgGg5EndC\",\"dtype\":\"float64\",\"shape\":[15]},\"index\":[164,163,162,161,160,159,158,157,156,155,154,153,152,151,150],\"province\":[\"NWT\",\"NWT\",\"NWT\",\"NWT\",\"NWT\",\"NWT\",\"NWT\",\"NWT\",\"NWT\",\"NWT\",\"NWT\",\"NWT\",\"NWT\",\"NWT\",\"NWT\"]},\"selected\":{\"id\":\"3620\"},\"selection_policy\":{\"id\":\"3621\"}},\"id\":\"3227\",\"type\":\"ColumnDataSource\"},{\"attributes\":{},\"id\":\"3632\",\"type\":\"Selection\"},{\"attributes\":{\"line_alpha\":0.1,\"line_color\":\"rgb(31, 119, 180)\",\"line_width\":2,\"x\":{\"field\":\"date_testing\"},\"y\":{\"field\":\"cumulative_testing\"}},\"id\":\"3269\",\"type\":\"Line\"},{\"attributes\":{\"fill_color\":{\"value\":\"rgb(31, 119, 180)\"},\"line_color\":{\"value\":\"rgb(31, 119, 180)\"},\"line_width\":{\"value\":2},\"x\":{\"field\":\"date_testing\"},\"y\":{\"field\":\"cumulative_testing\"}},\"id\":\"3338\",\"type\":\"Circle\"},{\"attributes\":{\"fill_color\":{\"value\":\"rgb(255, 152, 150)\"},\"line_color\":{\"value\":\"rgb(255, 152, 150)\"},\"line_width\":{\"value\":2},\"x\":{\"field\":\"date_testing\"},\"y\":{\"field\":\"cumulative_testing\"}},\"id\":\"3373\",\"type\":\"Circle\"},{\"attributes\":{},\"id\":\"3613\",\"type\":\"UnionRenderers\"},{\"attributes\":{\"line_alpha\":0.1,\"line_color\":\"rgb(255, 187, 120)\",\"line_width\":2,\"x\":{\"field\":\"date_testing\"},\"y\":{\"field\":\"cumulative_testing\"}},\"id\":\"3284\",\"type\":\"Line\"},{\"attributes\":{\"fill_alpha\":{\"value\":0.1},\"fill_color\":{\"value\":\"rgb(152, 223, 138)\"},\"line_alpha\":{\"value\":0.1},\"line_color\":{\"value\":\"rgb(152, 223, 138)\"},\"line_width\":{\"value\":2},\"x\":{\"field\":\"date_testing\"},\"y\":{\"field\":\"cumulative_testing\"}},\"id\":\"3364\",\"type\":\"Circle\"},{\"attributes\":{},\"id\":\"3633\",\"type\":\"UnionRenderers\"},{\"attributes\":{\"source\":{\"id\":\"3226\"}},\"id\":\"3286\",\"type\":\"CDSView\"},{\"attributes\":{\"data\":{\"cumulative_testing\":[0,0,0,\"101\",\"398\",\"398\",\"398\",\"398\",\"418\",\"418\",\"517\",\"517\",\"603\",\"603\",\"603\"],\"date_testing\":{\"__ndarray__\":\"AAAA2LcNd0IAAMA9Cg53QgAAgKNcDndCAABACa8Od0IAAABvAQ93QgAAwNRTD3dCAACAOqYPd0IAAECg+A93QgAAAAZLEHdCAADAa50Qd0IAAIDR7xB3QgAAQDdCEXdCAAAAnZQRd0IAAMAC5xF3QgAAgGg5EndC\",\"dtype\":\"float64\",\"shape\":[15]},\"index\":[194,193,192,191,190,189,188,187,186,185,184,183,182,181,180],\"province\":[\"Yukon\",\"Yukon\",\"Yukon\",\"Yukon\",\"Yukon\",\"Yukon\",\"Yukon\",\"Yukon\",\"Yukon\",\"Yukon\",\"Yukon\",\"Yukon\",\"Yukon\",\"Yukon\",\"Yukon\"]},\"selected\":{\"id\":\"3636\"},\"selection_policy\":{\"id\":\"3637\"}},\"id\":\"3235\",\"type\":\"ColumnDataSource\"},{\"attributes\":{\"source\":{\"id\":\"3229\"}},\"id\":\"3401\",\"type\":\"CDSView\"},{\"attributes\":{\"children\":[{\"id\":\"3236\"}]},\"id\":\"3435\",\"type\":\"Row\"},{\"attributes\":{\"active_drag\":\"auto\",\"active_inspect\":\"auto\",\"active_multi\":null,\"active_scroll\":\"auto\",\"active_tap\":\"auto\",\"tools\":[{\"id\":\"3253\"},{\"id\":\"3254\"},{\"id\":\"3255\"},{\"id\":\"3256\"},{\"id\":\"3257\"},{\"id\":\"3258\"},{\"id\":\"3407\"},{\"id\":\"3409\"},{\"id\":\"3411\"},{\"id\":\"3413\"},{\"id\":\"3415\"},{\"id\":\"3417\"},{\"id\":\"3419\"},{\"id\":\"3421\"},{\"id\":\"3423\"},{\"id\":\"3425\"},{\"id\":\"3427\"},{\"id\":\"3429\"},{\"id\":\"3431\"},{\"id\":\"3433\"}]},\"id\":\"3260\",\"type\":\"Toolbar\"},{\"attributes\":{},\"id\":\"3634\",\"type\":\"Selection\"},{\"attributes\":{\"data_source\":{\"id\":\"3229\"},\"glyph\":{\"id\":\"3398\"},\"hover_glyph\":null,\"muted_glyph\":null,\"nonselection_glyph\":{\"id\":\"3399\"},\"selection_glyph\":null,\"view\":{\"id\":\"3401\"}},\"id\":\"3400\",\"type\":\"GlyphRenderer\"},{\"attributes\":{\"data_source\":{\"id\":\"3223\"},\"glyph\":{\"id\":\"3268\"},\"hover_glyph\":null,\"muted_glyph\":null,\"nonselection_glyph\":{\"id\":\"3269\"},\"selection_glyph\":null,\"view\":{\"id\":\"3271\"}},\"id\":\"3270\",\"type\":\"GlyphRenderer\"},{\"attributes\":{\"line_color\":\"rgb(152, 223, 138)\",\"line_width\":2,\"x\":{\"field\":\"date_testing\"},\"y\":{\"field\":\"cumulative_testing\"}},\"id\":\"3293\",\"type\":\"Line\"},{\"attributes\":{},\"id\":\"3609\",\"type\":\"BasicTickFormatter\"},{\"attributes\":{},\"id\":\"3635\",\"type\":\"UnionRenderers\"},{\"attributes\":{\"data_source\":{\"id\":\"3226\"},\"glyph\":{\"id\":\"3283\"},\"hover_glyph\":null,\"muted_glyph\":null,\"nonselection_glyph\":{\"id\":\"3284\"},\"selection_glyph\":null,\"view\":{\"id\":\"3286\"}},\"id\":\"3285\",\"type\":\"GlyphRenderer\"},{\"attributes\":{\"fill_alpha\":{\"value\":0.1},\"fill_color\":{\"value\":\"rgb(227, 119, 194)\"},\"line_alpha\":{\"value\":0.1},\"line_color\":{\"value\":\"rgb(227, 119, 194)\"},\"line_width\":{\"value\":2},\"x\":{\"field\":\"date_testing\"},\"y\":{\"field\":\"cumulative_testing\"}},\"id\":\"3399\",\"type\":\"Circle\"},{\"attributes\":{},\"id\":\"3253\",\"type\":\"PanTool\"},{\"attributes\":{\"source\":{\"id\":\"3229\"}},\"id\":\"3371\",\"type\":\"CDSView\"},{\"attributes\":{},\"id\":\"3636\",\"type\":\"Selection\"},{\"attributes\":{\"source\":{\"id\":\"3228\"}},\"id\":\"3296\",\"type\":\"CDSView\"},{\"attributes\":{},\"id\":\"3254\",\"type\":\"WheelZoomTool\"},{\"attributes\":{\"data_source\":{\"id\":\"3229\"},\"glyph\":{\"id\":\"3368\"},\"hover_glyph\":null,\"muted_glyph\":null,\"nonselection_glyph\":{\"id\":\"3369\"},\"selection_glyph\":null,\"view\":{\"id\":\"3371\"}},\"id\":\"3370\",\"type\":\"GlyphRenderer\"},{\"attributes\":{},\"id\":\"3637\",\"type\":\"UnionRenderers\"},{\"attributes\":{\"source\":{\"id\":\"3229\"}},\"id\":\"3331\",\"type\":\"CDSView\"},{\"attributes\":{\"fill_color\":{\"value\":\"rgb(148, 103, 189)\"},\"line_color\":{\"value\":\"rgb(148, 103, 189)\"},\"line_width\":{\"value\":2},\"x\":{\"field\":\"date_testing\"},\"y\":{\"field\":\"cumulative_testing\"}},\"id\":\"3378\",\"type\":\"Circle\"},{\"attributes\":{\"overlay\":{\"id\":\"3259\"}},\"id\":\"3255\",\"type\":\"BoxZoomTool\"},{\"attributes\":{\"line_alpha\":0.1,\"line_color\":\"rgb(44, 160, 44)\",\"line_width\":2,\"x\":{\"field\":\"date_testing\"},\"y\":{\"field\":\"cumulative_testing\"}},\"id\":\"3289\",\"type\":\"Line\"},{\"attributes\":{\"fill_alpha\":{\"value\":0.1},\"fill_color\":{\"value\":\"rgb(214, 39, 40)\"},\"line_alpha\":{\"value\":0.1},\"line_color\":{\"value\":\"rgb(214, 39, 40)\"},\"line_width\":{\"value\":2},\"x\":{\"field\":\"date_testing\"},\"y\":{\"field\":\"cumulative_testing\"}},\"id\":\"3369\",\"type\":\"Circle\"},{\"attributes\":{\"mantissas\":[1,2,5],\"max_interval\":500.0,\"num_minor_ticks\":0},\"id\":\"3639\",\"type\":\"AdaptiveTicker\"},{\"attributes\":{\"source\":{\"id\":\"3227\"}},\"id\":\"3291\",\"type\":\"CDSView\"},{\"attributes\":{\"source\":{\"id\":\"3235\"}},\"id\":\"3406\",\"type\":\"CDSView\"},{\"attributes\":{},\"id\":\"3256\",\"type\":\"SaveTool\"},{\"attributes\":{\"data_source\":{\"id\":\"3235\"},\"glyph\":{\"id\":\"3403\"},\"hover_glyph\":null,\"muted_glyph\":null,\"nonselection_glyph\":{\"id\":\"3404\"},\"selection_glyph\":null,\"view\":{\"id\":\"3406\"}},\"id\":\"3405\",\"type\":\"GlyphRenderer\"},{\"attributes\":{},\"id\":\"3257\",\"type\":\"ResetTool\"},{\"attributes\":{\"line_alpha\":0.1,\"line_color\":\"rgb(152, 223, 138)\",\"line_width\":2,\"x\":{\"field\":\"date_testing\"},\"y\":{\"field\":\"cumulative_testing\"}},\"id\":\"3294\",\"type\":\"Line\"},{\"attributes\":{\"data_source\":{\"id\":\"3227\"},\"glyph\":{\"id\":\"3288\"},\"hover_glyph\":null,\"muted_glyph\":null,\"nonselection_glyph\":{\"id\":\"3289\"},\"selection_glyph\":null,\"view\":{\"id\":\"3291\"}},\"id\":\"3290\",\"type\":\"GlyphRenderer\"},{\"attributes\":{\"line_color\":\"rgb(255, 127, 14)\",\"line_width\":2,\"x\":{\"field\":\"date_testing\"},\"y\":{\"field\":\"cumulative_testing\"}},\"id\":\"3278\",\"type\":\"Line\"},{\"attributes\":{\"fill_alpha\":{\"value\":0.1},\"fill_color\":{\"value\":\"rgb(247, 182, 210)\"},\"line_alpha\":{\"value\":0.1},\"line_color\":{\"value\":\"rgb(247, 182, 210)\"},\"line_width\":{\"value\":2},\"x\":{\"field\":\"date_testing\"},\"y\":{\"field\":\"cumulative_testing\"}},\"id\":\"3404\",\"type\":\"Circle\"},{\"attributes\":{\"base\":24,\"mantissas\":[1,2,4,6,8,12],\"max_interval\":43200000.0,\"min_interval\":3600000.0,\"num_minor_ticks\":0},\"id\":\"3641\",\"type\":\"AdaptiveTicker\"},{\"attributes\":{\"source\":{\"id\":\"3230\"}},\"id\":\"3376\",\"type\":\"CDSView\"},{\"attributes\":{},\"id\":\"3258\",\"type\":\"HelpTool\"},{\"attributes\":{\"base\":60,\"mantissas\":[1,2,5,10,15,20,30],\"max_interval\":1800000.0,\"min_interval\":1000.0,\"num_minor_ticks\":0},\"id\":\"3640\",\"type\":\"AdaptiveTicker\"},{\"attributes\":{\"line_color\":\"rgb(140, 86, 75)\",\"line_width\":2,\"x\":{\"field\":\"date_testing\"},\"y\":{\"field\":\"cumulative_testing\"}},\"id\":\"3318\",\"type\":\"Line\"},{\"attributes\":{\"data_source\":{\"id\":\"3230\"},\"glyph\":{\"id\":\"3373\"},\"hover_glyph\":null,\"muted_glyph\":null,\"nonselection_glyph\":{\"id\":\"3374\"},\"selection_glyph\":null,\"view\":{\"id\":\"3376\"}},\"id\":\"3375\",\"type\":\"GlyphRenderer\"},{\"attributes\":{\"data_source\":{\"id\":\"3223\"},\"glyph\":{\"id\":\"3338\"},\"hover_glyph\":null,\"muted_glyph\":null,\"nonselection_glyph\":{\"id\":\"3339\"},\"selection_glyph\":null,\"view\":{\"id\":\"3341\"}},\"id\":\"3340\",\"type\":\"GlyphRenderer\"},{\"attributes\":{\"fill_color\":{\"value\":\"rgb(197, 176, 213)\"},\"line_color\":{\"value\":\"rgb(197, 176, 213)\"},\"line_width\":{\"value\":2},\"x\":{\"field\":\"date_testing\"},\"y\":{\"field\":\"cumulative_testing\"}},\"id\":\"3383\",\"type\":\"Circle\"},{\"attributes\":{\"line_color\":\"rgb(214, 39, 40)\",\"line_width\":2,\"x\":{\"field\":\"date_testing\"},\"y\":{\"field\":\"cumulative_testing\"}},\"id\":\"3298\",\"type\":\"Line\"},{\"attributes\":{\"fill_alpha\":{\"value\":0.1},\"fill_color\":{\"value\":\"rgb(255, 152, 150)\"},\"line_alpha\":{\"value\":0.1},\"line_color\":{\"value\":\"rgb(255, 152, 150)\"},\"line_width\":{\"value\":2},\"x\":{\"field\":\"date_testing\"},\"y\":{\"field\":\"cumulative_testing\"}},\"id\":\"3374\",\"type\":\"Circle\"},{\"attributes\":{},\"id\":\"3616\",\"type\":\"Selection\"},{\"attributes\":{\"days\":[1,2,3,4,5,6,7,8,9,10,11,12,13,14,15,16,17,18,19,20,21,22,23,24,25,26,27,28,29,30,31]},\"id\":\"3642\",\"type\":\"DaysTicker\"},{\"attributes\":{\"callback\":null,\"renderers\":[{\"id\":\"3330\"}],\"tooltips\":[[\"Sales\",\"@cumulative_testing\"]]},\"id\":\"3431\",\"type\":\"HoverTool\"},{\"attributes\":{},\"id\":\"3612\",\"type\":\"Selection\"},{\"attributes\":{},\"id\":\"3611\",\"type\":\"DatetimeTickFormatter\"},{\"attributes\":{\"days\":[1,4,7,10,13,16,19,22,25,28]},\"id\":\"3643\",\"type\":\"DaysTicker\"},{\"attributes\":{\"source\":{\"id\":\"3223\"}},\"id\":\"3341\",\"type\":\"CDSView\"},{\"attributes\":{\"days\":[1,8,15,22]},\"id\":\"3644\",\"type\":\"DaysTicker\"},{\"attributes\":{\"source\":{\"id\":\"3229\"}},\"id\":\"3301\",\"type\":\"CDSView\"},{\"attributes\":{\"fill_color\":{\"value\":\"rgb(255, 127, 14)\"},\"line_color\":{\"value\":\"rgb(255, 127, 14)\"},\"line_width\":{\"value\":2},\"x\":{\"field\":\"date_testing\"},\"y\":{\"field\":\"cumulative_testing\"}},\"id\":\"3348\",\"type\":\"Circle\"},{\"attributes\":{\"data_source\":{\"id\":\"3228\"},\"glyph\":{\"id\":\"3293\"},\"hover_glyph\":null,\"muted_glyph\":null,\"nonselection_glyph\":{\"id\":\"3294\"},\"selection_glyph\":null,\"view\":{\"id\":\"3296\"}},\"id\":\"3295\",\"type\":\"GlyphRenderer\"},{\"attributes\":{\"text\":\"\"},\"id\":\"3606\",\"type\":\"Title\"},{\"attributes\":{\"source\":{\"id\":\"3231\"}},\"id\":\"3381\",\"type\":\"CDSView\"},{\"attributes\":{\"days\":[1,15]},\"id\":\"3645\",\"type\":\"DaysTicker\"},{\"attributes\":{\"data_source\":{\"id\":\"3231\"},\"glyph\":{\"id\":\"3378\"},\"hover_glyph\":null,\"muted_glyph\":null,\"nonselection_glyph\":{\"id\":\"3379\"},\"selection_glyph\":null,\"view\":{\"id\":\"3381\"}},\"id\":\"3380\",\"type\":\"GlyphRenderer\"},{\"attributes\":{\"line_alpha\":0.1,\"line_color\":\"rgb(214, 39, 40)\",\"line_width\":2,\"x\":{\"field\":\"date_testing\"},\"y\":{\"field\":\"cumulative_testing\"}},\"id\":\"3299\",\"type\":\"Line\"},{\"attributes\":{},\"id\":\"3615\",\"type\":\"UnionRenderers\"},{\"attributes\":{\"months\":[0,1,2,3,4,5,6,7,8,9,10,11]},\"id\":\"3646\",\"type\":\"MonthsTicker\"},{\"attributes\":{\"fill_color\":{\"value\":\"rgb(140, 86, 75)\"},\"line_color\":{\"value\":\"rgb(140, 86, 75)\"},\"line_width\":{\"value\":2},\"x\":{\"field\":\"date_testing\"},\"y\":{\"field\":\"cumulative_testing\"}},\"id\":\"3388\",\"type\":\"Circle\"},{\"attributes\":{},\"id\":\"3614\",\"type\":\"Selection\"},{\"attributes\":{\"line_alpha\":0.1,\"line_color\":\"rgb(227, 119, 194)\",\"line_width\":2,\"x\":{\"field\":\"date_testing\"},\"y\":{\"field\":\"cumulative_testing\"}},\"id\":\"3329\",\"type\":\"Line\"},{\"attributes\":{\"fill_alpha\":{\"value\":0.1},\"fill_color\":{\"value\":\"rgb(31, 119, 180)\"},\"line_alpha\":{\"value\":0.1},\"line_color\":{\"value\":\"rgb(31, 119, 180)\"},\"line_width\":{\"value\":2},\"x\":{\"field\":\"date_testing\"},\"y\":{\"field\":\"cumulative_testing\"}},\"id\":\"3339\",\"type\":\"Circle\"},{\"attributes\":{\"fill_alpha\":{\"value\":0.1},\"fill_color\":{\"value\":\"rgb(148, 103, 189)\"},\"line_alpha\":{\"value\":0.1},\"line_color\":{\"value\":\"rgb(148, 103, 189)\"},\"line_width\":{\"value\":2},\"x\":{\"field\":\"date_testing\"},\"y\":{\"field\":\"cumulative_testing\"}},\"id\":\"3379\",\"type\":\"Circle\"},{\"attributes\":{\"months\":[0,2,4,6,8,10]},\"id\":\"3647\",\"type\":\"MonthsTicker\"},{\"attributes\":{\"data_source\":{\"id\":\"3235\"},\"glyph\":{\"id\":\"3333\"},\"hover_glyph\":null,\"muted_glyph\":null,\"nonselection_glyph\":{\"id\":\"3334\"},\"selection_glyph\":null,\"view\":{\"id\":\"3336\"}},\"id\":\"3335\",\"type\":\"GlyphRenderer\"},{\"attributes\":{\"line_color\":\"rgb(255, 152, 150)\",\"line_width\":2,\"x\":{\"field\":\"date_testing\"},\"y\":{\"field\":\"cumulative_testing\"}},\"id\":\"3303\",\"type\":\"Line\"},{\"attributes\":{\"line_color\":\"rgb(247, 182, 210)\",\"line_width\":2,\"x\":{\"field\":\"date_testing\"},\"y\":{\"field\":\"cumulative_testing\"}},\"id\":\"3333\",\"type\":\"Line\"},{\"attributes\":{\"fill_color\":{\"value\":\"rgb(174, 199, 232)\"},\"line_color\":{\"value\":\"rgb(174, 199, 232)\"},\"line_width\":{\"value\":2},\"x\":{\"field\":\"date_testing\"},\"y\":{\"field\":\"cumulative_testing\"}},\"id\":\"3343\",\"type\":\"Circle\"},{\"attributes\":{\"months\":[0,4,8]},\"id\":\"3648\",\"type\":\"MonthsTicker\"},{\"attributes\":{\"bottom_units\":\"screen\",\"fill_alpha\":0.5,\"fill_color\":\"lightgrey\",\"left_units\":\"screen\",\"level\":\"overlay\",\"line_alpha\":1.0,\"line_color\":\"black\",\"line_dash\":[4,4],\"line_width\":2,\"render_mode\":\"css\",\"right_units\":\"screen\",\"top_units\":\"screen\"},\"id\":\"3259\",\"type\":\"BoxAnnotation\"},{\"attributes\":{},\"id\":\"3617\",\"type\":\"UnionRenderers\"},{\"attributes\":{\"months\":[0,6]},\"id\":\"3649\",\"type\":\"MonthsTicker\"},{\"attributes\":{\"data\":{\"cumulative_testing\":[\"7108\",\"10598\",\"12355\",\"14566\",\"17013\",\"20360\",\"23742\",\"26999\",\"30058\",\"32776\",\"35508\",\"36660\",\"38215\",\"42527\",\"44999\"],\"date_testing\":{\"__ndarray__\":\"AAAA2LcNd0IAAMA9Cg53QgAAgKNcDndCAABACa8Od0IAAABvAQ93QgAAwNRTD3dCAACAOqYPd0IAAECg+A93QgAAAAZLEHdCAADAa50Qd0IAAIDR7xB3QgAAQDdCEXdCAAAAnZQRd0IAAMAC5xF3QgAAgGg5EndC\",\"dtype\":\"float64\",\"shape\":[15]},\"index\":[14,13,12,11,10,9,8,7,6,5,4,3,2,1,0],\"province\":[\"Alberta\",\"Alberta\",\"Alberta\",\"Alberta\",\"Alberta\",\"Alberta\",\"Alberta\",\"Alberta\",\"Alberta\",\"Alberta\",\"Alberta\",\"Alberta\",\"Alberta\",\"Alberta\",\"Alberta\"]},\"selected\":{\"id\":\"3612\"},\"selection_policy\":{\"id\":\"3613\"}},\"id\":\"3223\",\"type\":\"ColumnDataSource\"},{\"attributes\":{\"line_color\":\"rgb(31, 119, 180)\",\"line_width\":2,\"x\":{\"field\":\"date_testing\"},\"y\":{\"field\":\"cumulative_testing\"}},\"id\":\"3268\",\"type\":\"Line\"},{\"attributes\":{\"line_color\":\"rgb(148, 103, 189)\",\"line_width\":2,\"x\":{\"field\":\"date_testing\"},\"y\":{\"field\":\"cumulative_testing\"}},\"id\":\"3308\",\"type\":\"Line\"},{\"attributes\":{\"background_fill_color\":\"#fafafa\",\"below\":[{\"id\":\"3245\"}],\"center\":[{\"id\":\"3248\"},{\"id\":\"3252\"}],\"left\":[{\"id\":\"3249\"}],\"plot_height\":900,\"plot_width\":900,\"renderers\":[{\"id\":\"3270\"},{\"id\":\"3275\"},{\"id\":\"3280\"},{\"id\":\"3285\"},{\"id\":\"3290\"},{\"id\":\"3295\"},{\"id\":\"3300\"},{\"id\":\"3305\"},{\"id\":\"3310\"},{\"id\":\"3315\"},{\"id\":\"3320\"},{\"id\":\"3325\"},{\"id\":\"3330\"},{\"id\":\"3335\"},{\"id\":\"3340\"},{\"id\":\"3345\"},{\"id\":\"3350\"},{\"id\":\"3355\"},{\"id\":\"3360\"},{\"id\":\"3365\"},{\"id\":\"3370\"},{\"id\":\"3375\"},{\"id\":\"3380\"},{\"id\":\"3385\"},{\"id\":\"3390\"},{\"id\":\"3395\"},{\"id\":\"3400\"},{\"id\":\"3405\"}],\"title\":{\"id\":\"3606\"},\"toolbar\":{\"id\":\"3260\"},\"x_range\":{\"id\":\"3237\"},\"x_scale\":{\"id\":\"3241\"},\"y_range\":{\"id\":\"3239\"},\"y_scale\":{\"id\":\"3243\"}},\"id\":\"3236\",\"subtype\":\"Figure\",\"type\":\"Plot\"},{\"attributes\":{\"data_source\":{\"id\":\"3229\"},\"glyph\":{\"id\":\"3298\"},\"hover_glyph\":null,\"muted_glyph\":null,\"nonselection_glyph\":{\"id\":\"3299\"},\"selection_glyph\":null,\"view\":{\"id\":\"3301\"}},\"id\":\"3300\",\"type\":\"GlyphRenderer\"},{\"attributes\":{\"source\":{\"id\":\"3232\"}},\"id\":\"3386\",\"type\":\"CDSView\"},{\"attributes\":{},\"id\":\"3618\",\"type\":\"Selection\"},{\"attributes\":{\"source\":{\"id\":\"3223\"}},\"id\":\"3271\",\"type\":\"CDSView\"},{\"attributes\":{},\"id\":\"3650\",\"type\":\"YearsTicker\"},{\"attributes\":{\"data_source\":{\"id\":\"3229\"},\"glyph\":{\"id\":\"3328\"},\"hover_glyph\":null,\"muted_glyph\":null,\"nonselection_glyph\":{\"id\":\"3329\"},\"selection_glyph\":null,\"view\":{\"id\":\"3331\"}},\"id\":\"3330\",\"type\":\"GlyphRenderer\"},{\"attributes\":{\"data_source\":{\"id\":\"3232\"},\"glyph\":{\"id\":\"3383\"},\"hover_glyph\":null,\"muted_glyph\":null,\"nonselection_glyph\":{\"id\":\"3384\"},\"selection_glyph\":null,\"view\":{\"id\":\"3386\"}},\"id\":\"3385\",\"type\":\"GlyphRenderer\"},{\"attributes\":{\"line_alpha\":0.1,\"line_color\":\"rgb(148, 103, 189)\",\"line_width\":2,\"x\":{\"field\":\"date_testing\"},\"y\":{\"field\":\"cumulative_testing\"}},\"id\":\"3309\",\"type\":\"Line\"},{\"attributes\":{\"source\":{\"id\":\"3235\"}},\"id\":\"3336\",\"type\":\"CDSView\"},{\"attributes\":{\"line_color\":\"rgb(174, 199, 232)\",\"line_width\":2,\"x\":{\"field\":\"date_testing\"},\"y\":{\"field\":\"cumulative_testing\"}},\"id\":\"3273\",\"type\":\"Line\"},{\"attributes\":{\"fill_color\":{\"value\":\"rgb(196, 156, 148)\"},\"line_color\":{\"value\":\"rgb(196, 156, 148)\"},\"line_width\":{\"value\":2},\"x\":{\"field\":\"date_testing\"},\"y\":{\"field\":\"cumulative_testing\"}},\"id\":\"3393\",\"type\":\"Circle\"},{\"attributes\":{},\"id\":\"3619\",\"type\":\"UnionRenderers\"},{\"attributes\":{},\"id\":\"3237\",\"type\":\"DataRange1d\"},{\"attributes\":{\"fill_alpha\":{\"value\":0.1},\"fill_color\":{\"value\":\"rgb(197, 176, 213)\"},\"line_alpha\":{\"value\":0.1},\"line_color\":{\"value\":\"rgb(197, 176, 213)\"},\"line_width\":{\"value\":2},\"x\":{\"field\":\"date_testing\"},\"y\":{\"field\":\"cumulative_testing\"}},\"id\":\"3384\",\"type\":\"Circle\"},{\"attributes\":{\"callback\":null,\"renderers\":[{\"id\":\"3320\"}],\"tooltips\":[[\"Sales\",\"@cumulative_testing\"]]},\"id\":\"3427\",\"type\":\"HoverTool\"},{\"attributes\":{},\"id\":\"3620\",\"type\":\"Selection\"},{\"attributes\":{\"line_alpha\":0.1,\"line_color\":\"rgb(255, 152, 150)\",\"line_width\":2,\"x\":{\"field\":\"date_testing\"},\"y\":{\"field\":\"cumulative_testing\"}},\"id\":\"3304\",\"type\":\"Line\"},{\"attributes\":{},\"id\":\"3624\",\"type\":\"Selection\"},{\"attributes\":{\"source\":{\"id\":\"3230\"}},\"id\":\"3306\",\"type\":\"CDSView\"},{\"attributes\":{},\"id\":\"3621\",\"type\":\"UnionRenderers\"},{\"attributes\":{\"line_alpha\":0.1,\"line_color\":\"rgb(174, 199, 232)\",\"line_width\":2,\"x\":{\"field\":\"date_testing\"},\"y\":{\"field\":\"cumulative_testing\"}},\"id\":\"3274\",\"type\":\"Line\"},{\"attributes\":{},\"id\":\"3622\",\"type\":\"Selection\"},{\"attributes\":{},\"id\":\"3241\",\"type\":\"LinearScale\"},{\"attributes\":{\"source\":{\"id\":\"3224\"}},\"id\":\"3276\",\"type\":\"CDSView\"},{\"attributes\":{\"callback\":null,\"renderers\":[{\"id\":\"3275\"}],\"tooltips\":[[\"Sales\",\"@cumulative_testing\"]]},\"id\":\"3409\",\"type\":\"HoverTool\"},{\"attributes\":{},\"id\":\"3623\",\"type\":\"UnionRenderers\"},{\"attributes\":{\"end\":60000},\"id\":\"3239\",\"type\":\"Range1d\"},{\"attributes\":{\"line_color\":\"rgb(197, 176, 213)\",\"line_width\":2,\"x\":{\"field\":\"date_testing\"},\"y\":{\"field\":\"cumulative_testing\"}},\"id\":\"3313\",\"type\":\"Line\"},{\"attributes\":{\"data_source\":{\"id\":\"3230\"},\"glyph\":{\"id\":\"3303\"},\"hover_glyph\":null,\"muted_glyph\":null,\"nonselection_glyph\":{\"id\":\"3304\"},\"selection_glyph\":null,\"view\":{\"id\":\"3306\"}},\"id\":\"3305\",\"type\":\"GlyphRenderer\"},{\"attributes\":{},\"id\":\"3243\",\"type\":\"LinearScale\"},{\"attributes\":{\"fill_color\":{\"value\":\"rgb(227, 119, 194)\"},\"line_color\":{\"value\":\"rgb(227, 119, 194)\"},\"line_width\":{\"value\":2},\"x\":{\"field\":\"date_testing\"},\"y\":{\"field\":\"cumulative_testing\"}},\"id\":\"3398\",\"type\":\"Circle\"},{\"attributes\":{},\"id\":\"3625\",\"type\":\"UnionRenderers\"},{\"attributes\":{\"data_source\":{\"id\":\"3224\"},\"glyph\":{\"id\":\"3273\"},\"hover_glyph\":null,\"muted_glyph\":null,\"nonselection_glyph\":{\"id\":\"3274\"},\"selection_glyph\":null,\"view\":{\"id\":\"3276\"}},\"id\":\"3275\",\"type\":\"GlyphRenderer\"},{\"attributes\":{\"fill_alpha\":{\"value\":0.1},\"fill_color\":{\"value\":\"rgb(140, 86, 75)\"},\"line_alpha\":{\"value\":0.1},\"line_color\":{\"value\":\"rgb(140, 86, 75)\"},\"line_width\":{\"value\":2},\"x\":{\"field\":\"date_testing\"},\"y\":{\"field\":\"cumulative_testing\"}},\"id\":\"3389\",\"type\":\"Circle\"},{\"attributes\":{\"data\":{\"cumulative_testing\":[\"6326\",\"6326\",\"6326\",\"6326\",\"6326\",\"17912\",\"21296\",\"26681\",\"26681\",\"26681\",\"31739\",\"34561\",\"36643\",\"38697\",\"38697\"],\"date_testing\":{\"__ndarray__\":\"AAAA2LcNd0IAAMA9Cg53QgAAgKNcDndCAABACa8Od0IAAABvAQ93QgAAwNRTD3dCAACAOqYPd0IAAECg+A93QgAAAAZLEHdCAADAa50Qd0IAAIDR7xB3QgAAQDdCEXdCAAAAnZQRd0IAAMAC5xF3QgAAgGg5EndC\",\"dtype\":\"float64\",\"shape\":[15]},\"index\":[29,28,27,26,25,24,23,22,21,20,19,18,17,16,15],\"province\":[\"BC\",\"BC\",\"BC\",\"BC\",\"BC\",\"BC\",\"BC\",\"BC\",\"BC\",\"BC\",\"BC\",\"BC\",\"BC\",\"BC\",\"BC\"]},\"selected\":{\"id\":\"3614\"},\"selection_policy\":{\"id\":\"3615\"}},\"id\":\"3224\",\"type\":\"ColumnDataSource\"},{\"attributes\":{\"callback\":null,\"renderers\":[{\"id\":\"3270\"}],\"tooltips\":[[\"Sales\",\"@cumulative_testing\"]]},\"id\":\"3407\",\"type\":\"HoverTool\"},{\"attributes\":{},\"id\":\"3626\",\"type\":\"Selection\"},{\"attributes\":{\"callback\":null,\"renderers\":[{\"id\":\"3325\"}],\"tooltips\":[[\"Sales\",\"@cumulative_testing\"]]},\"id\":\"3429\",\"type\":\"HoverTool\"},{\"attributes\":{\"num_minor_ticks\":5,\"tickers\":[{\"id\":\"3639\"},{\"id\":\"3640\"},{\"id\":\"3641\"},{\"id\":\"3642\"},{\"id\":\"3643\"},{\"id\":\"3644\"},{\"id\":\"3645\"},{\"id\":\"3646\"},{\"id\":\"3647\"},{\"id\":\"3648\"},{\"id\":\"3649\"},{\"id\":\"3650\"}]},\"id\":\"3246\",\"type\":\"DatetimeTicker\"},{\"attributes\":{\"formatter\":{\"id\":\"3611\"},\"ticker\":{\"id\":\"3246\"}},\"id\":\"3245\",\"type\":\"DatetimeAxis\"},{\"attributes\":{\"line_color\":\"rgb(227, 119, 194)\",\"line_width\":2,\"x\":{\"field\":\"date_testing\"},\"y\":{\"field\":\"cumulative_testing\"}},\"id\":\"3328\",\"type\":\"Line\"},{\"attributes\":{\"line_alpha\":0.1,\"line_color\":\"rgb(247, 182, 210)\",\"line_width\":2,\"x\":{\"field\":\"date_testing\"},\"y\":{\"field\":\"cumulative_testing\"}},\"id\":\"3334\",\"type\":\"Line\"},{\"attributes\":{\"source\":{\"id\":\"3233\"}},\"id\":\"3391\",\"type\":\"CDSView\"},{\"attributes\":{},\"id\":\"3627\",\"type\":\"UnionRenderers\"},{\"attributes\":{\"data_source\":{\"id\":\"3231\"},\"glyph\":{\"id\":\"3308\"},\"hover_glyph\":null,\"muted_glyph\":null,\"nonselection_glyph\":{\"id\":\"3309\"},\"selection_glyph\":null,\"view\":{\"id\":\"3311\"}},\"id\":\"3310\",\"type\":\"GlyphRenderer\"},{\"attributes\":{\"source\":{\"id\":\"3231\"}},\"id\":\"3311\",\"type\":\"CDSView\"},{\"attributes\":{\"source\":{\"id\":\"3232\"}},\"id\":\"3316\",\"type\":\"CDSView\"},{\"attributes\":{\"data\":{\"cumulative_testing\":[\"796\",\"1107\",\"1107\",\"1978\",\"2561\",\"3093\",\"3917\",\"4536\",\"5269\",\"5757\",\"6270\",\"6915\",\"7580\",\"8248\",\"9086\"],\"date_testing\":{\"__ndarray__\":\"AAAA2LcNd0IAAMA9Cg53QgAAgKNcDndCAABACa8Od0IAAABvAQ93QgAAwNRTD3dCAACAOqYPd0IAAECg+A93QgAAAAZLEHdCAADAa50Qd0IAAIDR7xB3QgAAQDdCEXdCAAAAnZQRd0IAAMAC5xF3QgAAgGg5EndC\",\"dtype\":\"float64\",\"shape\":[15]},\"index\":[149,148,147,146,145,144,143,142,141,140,139,138,137,136,135],\"province\":[\"Saskatchewan\",\"Saskatchewan\",\"Saskatchewan\",\"Saskatchewan\",\"Saskatchewan\",\"Saskatchewan\",\"Saskatchewan\",\"Saskatchewan\",\"Saskatchewan\",\"Saskatchewan\",\"Saskatchewan\",\"Saskatchewan\",\"Saskatchewan\",\"Saskatchewan\",\"Saskatchewan\"]},\"selected\":{\"id\":\"3634\"},\"selection_policy\":{\"id\":\"3635\"}},\"id\":\"3234\",\"type\":\"ColumnDataSource\"},{\"attributes\":{\"line_alpha\":0.1,\"line_color\":\"rgb(197, 176, 213)\",\"line_width\":2,\"x\":{\"field\":\"date_testing\"},\"y\":{\"field\":\"cumulative_testing\"}},\"id\":\"3314\",\"type\":\"Line\"},{\"attributes\":{\"data\":{\"cumulative_testing\":[0,0,0,0,0,\"108\",\"108\",\"108\",\"108\",\"154\",\"166\",\"166\",\"207\",\"207\",\"207\"],\"date_testing\":{\"__ndarray__\":\"AAAA2LcNd0IAAMA9Cg53QgAAgKNcDndCAABACa8Od0IAAABvAQ93QgAAwNRTD3dCAACAOqYPd0IAAECg+A93QgAAAAZLEHdCAADAa50Qd0IAAIDR7xB3QgAAQDdCEXdCAAAAnZQRd0IAAMAC5xF3QgAAgGg5EndC\",\"dtype\":\"float64\",\"shape\":[15]},\"index\":[179,178,177,176,175,174,173,172,171,170,169,168,167,166,165],\"province\":[\"Nunavut\",\"Nunavut\",\"Nunavut\",\"Nunavut\",\"Nunavut\",\"Nunavut\",\"Nunavut\",\"Nunavut\",\"Nunavut\",\"Nunavut\",\"Nunavut\",\"Nunavut\",\"Nunavut\",\"Nunavut\",\"Nunavut\"]},\"selected\":{\"id\":\"3626\"},\"selection_policy\":{\"id\":\"3627\"}},\"id\":\"3230\",\"type\":\"ColumnDataSource\"},{\"attributes\":{\"line_color\":\"rgb(196, 156, 148)\",\"line_width\":2,\"x\":{\"field\":\"date_testing\"},\"y\":{\"field\":\"cumulative_testing\"}},\"id\":\"3323\",\"type\":\"Line\"},{\"attributes\":{\"data_source\":{\"id\":\"3232\"},\"glyph\":{\"id\":\"3313\"},\"hover_glyph\":null,\"muted_glyph\":null,\"nonselection_glyph\":{\"id\":\"3314\"},\"selection_glyph\":null,\"view\":{\"id\":\"3316\"}},\"id\":\"3315\",\"type\":\"GlyphRenderer\"},{\"attributes\":{\"fill_color\":{\"value\":\"rgb(255, 187, 120)\"},\"line_color\":{\"value\":\"rgb(255, 187, 120)\"},\"line_width\":{\"value\":2},\"x\":{\"field\":\"date_testing\"},\"y\":{\"field\":\"cumulative_testing\"}},\"id\":\"3353\",\"type\":\"Circle\"},{\"attributes\":{\"fill_alpha\":{\"value\":0.1},\"fill_color\":{\"value\":\"rgb(174, 199, 232)\"},\"line_alpha\":{\"value\":0.1},\"line_color\":{\"value\":\"rgb(174, 199, 232)\"},\"line_width\":{\"value\":2},\"x\":{\"field\":\"date_testing\"},\"y\":{\"field\":\"cumulative_testing\"}},\"id\":\"3344\",\"type\":\"Circle\"},{\"attributes\":{\"line_alpha\":0.1,\"line_color\":\"rgb(140, 86, 75)\",\"line_width\":2,\"x\":{\"field\":\"date_testing\"},\"y\":{\"field\":\"cumulative_testing\"}},\"id\":\"3319\",\"type\":\"Line\"},{\"attributes\":{\"source\":{\"id\":\"3233\"}},\"id\":\"3321\",\"type\":\"CDSView\"},{\"attributes\":{\"data\":{\"cumulative_testing\":[0,\"6202\",\"7801\",\"8934\",\"10451\",\"10222\",\"10935\",\"12068\",\"13727\",\"15763\",\"30971\",\"36105\",\"41592\",\"52844\",\"58517\"],\"date_testing\":{\"__ndarray__\":\"AAAA2LcNd0IAAMA9Cg53QgAAgKNcDndCAABACa8Od0IAAABvAQ93QgAAwNRTD3dCAACAOqYPd0IAAECg+A93QgAAAAZLEHdCAADAa50Qd0IAAIDR7xB3QgAAQDdCEXdCAAAAnZQRd0IAAMAC5xF3QgAAgGg5EndC\",\"dtype\":\"float64\",\"shape\":[15]},\"index\":[134,133,132,131,130,129,128,127,126,125,124,123,122,121,120],\"province\":[\"Quebec\",\"Quebec\",\"Quebec\",\"Quebec\",\"Quebec\",\"Quebec\",\"Quebec\",\"Quebec\",\"Quebec\",\"Quebec\",\"Quebec\",\"Quebec\",\"Quebec\",\"Quebec\",\"Quebec\"]},\"selected\":{\"id\":\"3632\"},\"selection_policy\":{\"id\":\"3633\"}},\"id\":\"3233\",\"type\":\"ColumnDataSource\"},{\"attributes\":{\"data\":{\"cumulative_testing\":[\"8465\",\"10178\",\"11171\",\"13897\",\"16650\",\"19511\",\"23384\",\"26420\",\"28506\",\"32457\",\"35635\",\"38550\",\"41032\",\"43072\",\"49186\"],\"date_testing\":{\"__ndarray__\":\"AAAA2LcNd0IAAMA9Cg53QgAAgKNcDndCAABACa8Od0IAAABvAQ93QgAAwNRTD3dCAACAOqYPd0IAAECg+A93QgAAAAZLEHdCAADAa50Qd0IAAIDR7xB3QgAAQDdCEXdCAAAAnZQRd0IAAMAC5xF3QgAAgGg5EndC\",\"dtype\":\"float64\",\"shape\":[15]},\"index\":[104,103,102,101,100,99,98,97,96,95,94,93,92,91,90],\"province\":[\"Ontario\",\"Ontario\",\"Ontario\",\"Ontario\",\"Ontario\",\"Ontario\",\"Ontario\",\"Ontario\",\"Ontario\",\"Ontario\",\"Ontario\",\"Ontario\",\"Ontario\",\"Ontario\",\"Ontario\"]},\"selected\":{\"id\":\"3628\"},\"selection_policy\":{\"id\":\"3629\"}},\"id\":\"3231\",\"type\":\"ColumnDataSource\"},{\"attributes\":{\"data\":{\"cumulative_testing\":[\"418\",\"676\",\"941\",\"1153\",\"1387\",\"1561\",\"1847\",\"2116\",\"2349\",\"2525\",\"2840\",\"3274\",\"3739\",\"4141\",\"4853\"],\"date_testing\":{\"__ndarray__\":\"AAAA2LcNd0IAAMA9Cg53QgAAgKNcDndCAABACa8Od0IAAABvAQ93QgAAwNRTD3dCAACAOqYPd0IAAECg+A93QgAAAAZLEHdCAADAa50Qd0IAAIDR7xB3QgAAQDdCEXdCAAAAnZQRd0IAAMAC5xF3QgAAgGg5EndC\",\"dtype\":\"float64\",\"shape\":[15]},\"index\":[89,88,87,86,85,84,83,82,81,80,79,78,77,76,75],\"province\":[\"Nova Scotia\",\"Nova Scotia\",\"Nova Scotia\",\"Nova Scotia\",\"Nova Scotia\",\"Nova Scotia\",\"Nova Scotia\",\"Nova Scotia\",\"Nova Scotia\",\"Nova Scotia\",\"Nova Scotia\",\"Nova Scotia\",\"Nova Scotia\",\"Nova Scotia\",\"Nova Scotia\"]},\"selected\":{\"id\":\"3624\"},\"selection_policy\":{\"id\":\"3625\"}},\"id\":\"3229\",\"type\":\"ColumnDataSource\"},{\"attributes\":{\"callback\":null,\"renderers\":[{\"id\":\"3305\"}],\"tooltips\":[[\"Sales\",\"@cumulative_testing\"]]},\"id\":\"3421\",\"type\":\"HoverTool\"},{\"attributes\":{\"data_source\":{\"id\":\"3233\"},\"glyph\":{\"id\":\"3318\"},\"hover_glyph\":null,\"muted_glyph\":null,\"nonselection_glyph\":{\"id\":\"3319\"},\"selection_glyph\":null,\"view\":{\"id\":\"3321\"}},\"id\":\"3320\",\"type\":\"GlyphRenderer\"},{\"attributes\":{\"data\":{\"cumulative_testing\":[0,\"203\",\"204\",\"381\",\"421\",\"520\",\"788\",\"858\",\"1096\",\"1255\",\"1550\",\"1828\",\"2019\",\"2605\",\"2931\"],\"date_testing\":{\"__ndarray__\":\"AAAA2LcNd0IAAMA9Cg53QgAAgKNcDndCAABACa8Od0IAAABvAQ93QgAAwNRTD3dCAACAOqYPd0IAAECg+A93QgAAAAZLEHdCAADAa50Qd0IAAIDR7xB3QgAAQDdCEXdCAAAAnZQRd0IAAMAC5xF3QgAAgGg5EndC\",\"dtype\":\"float64\",\"shape\":[15]},\"index\":[59,58,57,56,55,54,53,52,51,50,49,48,47,46,45],\"province\":[\"New Brunswick\",\"New Brunswick\",\"New Brunswick\",\"New Brunswick\",\"New Brunswick\",\"New Brunswick\",\"New Brunswick\",\"New Brunswick\",\"New Brunswick\",\"New Brunswick\",\"New Brunswick\",\"New Brunswick\",\"New Brunswick\",\"New Brunswick\",\"New Brunswick\"]},\"selected\":{\"id\":\"3622\"},\"selection_policy\":{\"id\":\"3623\"}},\"id\":\"3228\",\"type\":\"ColumnDataSource\"},{\"attributes\":{\"callback\":null,\"renderers\":[{\"id\":\"3310\"}],\"tooltips\":[[\"Sales\",\"@cumulative_testing\"]]},\"id\":\"3423\",\"type\":\"HoverTool\"},{\"attributes\":{\"data_source\":{\"id\":\"3224\"},\"glyph\":{\"id\":\"3343\"},\"hover_glyph\":null,\"muted_glyph\":null,\"nonselection_glyph\":{\"id\":\"3344\"},\"selection_glyph\":null,\"view\":{\"id\":\"3346\"}},\"id\":\"3345\",\"type\":\"GlyphRenderer\"},{\"attributes\":{\"line_alpha\":0.1,\"line_color\":\"rgb(196, 156, 148)\",\"line_width\":2,\"x\":{\"field\":\"date_testing\"},\"y\":{\"field\":\"cumulative_testing\"}},\"id\":\"3324\",\"type\":\"Line\"},{\"attributes\":{\"data\":{\"cumulative_testing\":[\"78\",\"147\",\"147\",\"183\",\"213\",\"240\",\"325\",\"393\",\"400\",\"416\",\"550\",\"556\",\"622\",\"622\",\"622\"],\"date_testing\":{\"__ndarray__\":\"AAAA2LcNd0IAAMA9Cg53QgAAgKNcDndCAABACa8Od0IAAABvAQ93QgAAwNRTD3dCAACAOqYPd0IAAECg+A93QgAAAAZLEHdCAADAa50Qd0IAAIDR7xB3QgAAQDdCEXdCAAAAnZQRd0IAAMAC5xF3QgAAgGg5EndC\",\"dtype\":\"float64\",\"shape\":[15]},\"index\":[119,118,117,116,115,114,113,112,111,110,109,108,107,106,105],\"province\":[\"PEI\",\"PEI\",\"PEI\",\"PEI\",\"PEI\",\"PEI\",\"PEI\",\"PEI\",\"PEI\",\"PEI\",\"PEI\",\"PEI\",\"PEI\",\"PEI\",\"PEI\"]},\"selected\":{\"id\":\"3630\"},\"selection_policy\":{\"id\":\"3631\"}},\"id\":\"3232\",\"type\":\"ColumnDataSource\"},{\"attributes\":{\"source\":{\"id\":\"3234\"}},\"id\":\"3326\",\"type\":\"CDSView\"},{\"attributes\":{\"data_source\":{\"id\":\"3234\"},\"glyph\":{\"id\":\"3323\"},\"hover_glyph\":null,\"muted_glyph\":null,\"nonselection_glyph\":{\"id\":\"3324\"},\"selection_glyph\":null,\"view\":{\"id\":\"3326\"}},\"id\":\"3325\",\"type\":\"GlyphRenderer\"},{\"attributes\":{\"source\":{\"id\":\"3224\"}},\"id\":\"3346\",\"type\":\"CDSView\"},{\"attributes\":{\"source\":{\"id\":\"3225\"}},\"id\":\"3351\",\"type\":\"CDSView\"},{\"attributes\":{\"callback\":null,\"renderers\":[{\"id\":\"3315\"}],\"tooltips\":[[\"Sales\",\"@cumulative_testing\"]]},\"id\":\"3425\",\"type\":\"HoverTool\"},{\"attributes\":{\"data_source\":{\"id\":\"3225\"},\"glyph\":{\"id\":\"3348\"},\"hover_glyph\":null,\"muted_glyph\":null,\"nonselection_glyph\":{\"id\":\"3349\"},\"selection_glyph\":null,\"view\":{\"id\":\"3351\"}},\"id\":\"3350\",\"type\":\"GlyphRenderer\"},{\"attributes\":{\"fill_color\":{\"value\":\"rgb(44, 160, 44)\"},\"line_color\":{\"value\":\"rgb(44, 160, 44)\"},\"line_width\":{\"value\":2},\"x\":{\"field\":\"date_testing\"},\"y\":{\"field\":\"cumulative_testing\"}},\"id\":\"3358\",\"type\":\"Circle\"},{\"attributes\":{\"fill_alpha\":{\"value\":0.1},\"fill_color\":{\"value\":\"rgb(255, 127, 14)\"},\"line_alpha\":{\"value\":0.1},\"line_color\":{\"value\":\"rgb(255, 127, 14)\"},\"line_width\":{\"value\":2},\"x\":{\"field\":\"date_testing\"},\"y\":{\"field\":\"cumulative_testing\"}},\"id\":\"3349\",\"type\":\"Circle\"},{\"attributes\":{\"callback\":null,\"renderers\":[{\"id\":\"3300\"}],\"tooltips\":[[\"Sales\",\"@cumulative_testing\"]]},\"id\":\"3419\",\"type\":\"HoverTool\"},{\"attributes\":{\"source\":{\"id\":\"3226\"}},\"id\":\"3356\",\"type\":\"CDSView\"},{\"attributes\":{\"data_source\":{\"id\":\"3227\"},\"glyph\":{\"id\":\"3358\"},\"hover_glyph\":null,\"muted_glyph\":null,\"nonselection_glyph\":{\"id\":\"3359\"},\"selection_glyph\":null,\"view\":{\"id\":\"3361\"}},\"id\":\"3360\",\"type\":\"GlyphRenderer\"},{\"attributes\":{\"data_source\":{\"id\":\"3226\"},\"glyph\":{\"id\":\"3353\"},\"hover_glyph\":null,\"muted_glyph\":null,\"nonselection_glyph\":{\"id\":\"3354\"},\"selection_glyph\":null,\"view\":{\"id\":\"3356\"}},\"id\":\"3355\",\"type\":\"GlyphRenderer\"},{\"attributes\":{\"fill_color\":{\"value\":\"rgb(152, 223, 138)\"},\"line_color\":{\"value\":\"rgb(152, 223, 138)\"},\"line_width\":{\"value\":2},\"x\":{\"field\":\"date_testing\"},\"y\":{\"field\":\"cumulative_testing\"}},\"id\":\"3363\",\"type\":\"Circle\"},{\"attributes\":{\"fill_alpha\":{\"value\":0.1},\"fill_color\":{\"value\":\"rgb(255, 187, 120)\"},\"line_alpha\":{\"value\":0.1},\"line_color\":{\"value\":\"rgb(255, 187, 120)\"},\"line_width\":{\"value\":2},\"x\":{\"field\":\"date_testing\"},\"y\":{\"field\":\"cumulative_testing\"}},\"id\":\"3354\",\"type\":\"Circle\"},{\"attributes\":{\"data_source\":{\"id\":\"3233\"},\"glyph\":{\"id\":\"3388\"},\"hover_glyph\":null,\"muted_glyph\":null,\"nonselection_glyph\":{\"id\":\"3389\"},\"selection_glyph\":null,\"view\":{\"id\":\"3391\"}},\"id\":\"3390\",\"type\":\"GlyphRenderer\"},{\"attributes\":{\"fill_alpha\":{\"value\":0.1},\"fill_color\":{\"value\":\"rgb(44, 160, 44)\"},\"line_alpha\":{\"value\":0.1},\"line_color\":{\"value\":\"rgb(44, 160, 44)\"},\"line_width\":{\"value\":2},\"x\":{\"field\":\"date_testing\"},\"y\":{\"field\":\"cumulative_testing\"}},\"id\":\"3359\",\"type\":\"Circle\"}],\"root_ids\":[\"3436\"]},\"title\":\"Bokeh Application\",\"version\":\"2.0.1\"}};\n",
       "  var render_items = [{\"docid\":\"11614fbc-40c8-486d-b665-f09ce164e628\",\"root_ids\":[\"3436\"],\"roots\":{\"3436\":\"7be01978-705f-4cbc-b7ea-ab7f0551c658\"}}];\n",
       "  root.Bokeh.embed.embed_items_notebook(docs_json, render_items);\n",
       "\n",
       "  }\n",
       "  if (root.Bokeh !== undefined) {\n",
       "    embed_document(root);\n",
       "  } else {\n",
       "    var attempts = 0;\n",
       "    var timer = setInterval(function(root) {\n",
       "      if (root.Bokeh !== undefined) {\n",
       "        clearInterval(timer);\n",
       "        embed_document(root);\n",
       "      } else {\n",
       "        attempts++;\n",
       "        if (attempts > 100) {\n",
       "          clearInterval(timer);\n",
       "          console.log(\"Bokeh: ERROR: Unable to run BokehJS code because BokehJS library is missing\");\n",
       "        }\n",
       "      }\n",
       "    }, 10, root)\n",
       "  }\n",
       "})(window);"
      ],
      "application/vnd.bokehjs_exec.v0+json": ""
     },
     "metadata": {
      "application/vnd.bokehjs_exec.v0+json": {
       "id": "3436"
      }
     },
     "output_type": "display_data"
    }
   ],
   "source": [
    "plot3 = figure(plot_width = 900, plot_height = 900,x_axis_type=\"datetime\",y_range=(0, 60000),background_fill_color=\"#fafafa\")\n",
    "\n",
    "line1 = plot3.line(x = 'date_testing' , y = 'cumulative_testing' , width = 2, source = test_data['Alberta'],color= color[0]);\n",
    "line2 = plot3.line(x = 'date_testing' , y = 'cumulative_testing' , width = 2, source = test_data['BC'], color= color[1]);\n",
    "line3 = plot3.line(x = 'date_testing' , y = 'cumulative_testing' , width = 2, source = test_data['Manitoba'], color= color[2]);\n",
    "line4 = plot3.line(x = 'date_testing' , y = 'cumulative_testing' , width = 2, source = test_data['NL'], color= color[3]);\n",
    "line5 = plot3.line(x = 'date_testing' , y = 'cumulative_testing' , width = 2, source = test_data['NWT'], color= color[4]);\n",
    "line6 = plot3.line(x = 'date_testing' , y = 'cumulative_testing' , width = 2, source = test_data['New Brunswick'], color= color[5]);\n",
    "line7 = plot3.line(x = 'date_testing' , y = 'cumulative_testing' , width = 2, source = test_data['Nova Scotia'], color= color[6]);\n",
    "line8 = plot3.line(x = 'date_testing' , y = 'cumulative_testing' , width = 2, source = test_data['Nunavut'], color= color[7]);\n",
    "line9 = plot3.line(x = 'date_testing' , y = 'cumulative_testing' , width = 2, source = test_data['Ontario'], color= color[8]);\n",
    "line10 = plot3.line(x = 'date_testing' , y = 'cumulative_testing' , width = 2, source = test_data['PEI'], color= color[9]);\n",
    "line11 = plot3.line(x = 'date_testing' , y = 'cumulative_testing' , width = 2, source = test_data['Quebec'], color= color[10]);\n",
    "line12 = plot3.line(x = 'date_testing' , y = 'cumulative_testing' , width = 2, source = test_data['Saskatchewan'], color= color[11]);\n",
    "line13 = plot3.line(x = 'date_testing' , y = 'cumulative_testing' , width = 2, source = test_data['Nova Scotia'], color= color[12]);\n",
    "line14 = plot3.line(x = 'date_testing' , y = 'cumulative_testing' , width = 2, source = test_data['Yukon'], color= color[13]);\n",
    "\n",
    "\n",
    "circle1 = plot3.circle(x = 'date_testing' , y = 'cumulative_testing' , width = 2, source = test_data['Alberta'],color = color[0]);\n",
    "circle2 = plot3.circle(x = 'date_testing' , y = 'cumulative_testing' , width = 2, source = test_data['BC'], color= color[1]);\n",
    "circle3 = plot3.circle(x = 'date_testing' , y = 'cumulative_testing' , width = 2, source = test_data['Manitoba'], color= color[2]);\n",
    "circle4 = plot3.circle(x = 'date_testing' , y = 'cumulative_testing' , width = 2, source = test_data['NL'], color= color[3]);\n",
    "circle5 = plot3.circle(x = 'date_testing' , y = 'cumulative_testing' , width = 2, source = test_data['NWT'], color= color[4]);\n",
    "circle6 = plot3.circle(x = 'date_testing' , y = 'cumulative_testing' , width = 2, source = test_data['New Brunswick'], color= color[5]);\n",
    "circle7 = plot3.circle(x = 'date_testing' , y = 'cumulative_testing' , width = 2, source = test_data['Nova Scotia'], color= color[6]);\n",
    "circle8 = plot3.circle(x = 'date_testing' , y = 'cumulative_testing' , width = 2, source = test_data['Nunavut'], color= color[7]);\n",
    "circle9 = plot3.circle(x = 'date_testing' , y = 'cumulative_testing' , width = 2, source = test_data['Ontario'], color= color[8]);\n",
    "circle10 = plot3.circle(x = 'date_testing' , y = 'cumulative_testing' , width = 2, source = test_data['PEI'], color= color[9]);\n",
    "circle11 = plot3.circle(x = 'date_testing' , y = 'cumulative_testing' , width = 2, source = test_data['Quebec'], color= color[10]);\n",
    "circle12 = plot3.circle(x = 'date_testing' , y = 'cumulative_testing' , width = 2, source = test_data['Saskatchewan'], color= color[11]);\n",
    "circle13 = plot3.circle(x = 'date_testing' , y = 'cumulative_testing' , width = 2, source = test_data['Nova Scotia'], color= color[12]);\n",
    "circle14 = plot3.circle(x = 'date_testing' , y = 'cumulative_testing' , width = 2, source = test_data['Yukon'], color= color[13]);\n",
    "\n",
    "\n",
    "line = [line1,line2,line3,line4,line5,line6,line7,line8,line9,line10,line11,line12,line13,line14]\n",
    "\n",
    "for i in line:\n",
    "    plot3.add_tools(HoverTool(renderers=[i], tooltips = [('Sales', '@cumulative_testing')]))\n",
    "\n",
    "\n",
    "grid = layout([[plot3]]) \n",
    "\n",
    "show(grid)"
   ]
  },
  {
   "cell_type": "code",
   "execution_count": null,
   "metadata": {},
   "outputs": [],
   "source": []
  },
  {
   "cell_type": "markdown",
   "metadata": {},
   "source": [
    "# Number of Recoverd Case"
   ]
  },
  {
   "cell_type": "code",
   "execution_count": 26,
   "metadata": {},
   "outputs": [
    {
     "data": {
      "text/html": [
       "<div>\n",
       "<style scoped>\n",
       "    .dataframe tbody tr th:only-of-type {\n",
       "        vertical-align: middle;\n",
       "    }\n",
       "\n",
       "    .dataframe tbody tr th {\n",
       "        vertical-align: top;\n",
       "    }\n",
       "\n",
       "    .dataframe thead th {\n",
       "        text-align: right;\n",
       "    }\n",
       "</style>\n",
       "<table border=\"1\" class=\"dataframe\">\n",
       "  <thead>\n",
       "    <tr style=\"text-align: right;\">\n",
       "      <th></th>\n",
       "      <th>date_recovered</th>\n",
       "      <th>province</th>\n",
       "      <th>cumulative_recovered</th>\n",
       "    </tr>\n",
       "  </thead>\n",
       "  <tbody>\n",
       "    <tr>\n",
       "      <td>0</td>\n",
       "      <td>29-03-2020</td>\n",
       "      <td>Alberta</td>\n",
       "      <td>73.0</td>\n",
       "    </tr>\n",
       "  </tbody>\n",
       "</table>\n",
       "</div>"
      ],
      "text/plain": [
       "  date_recovered province  cumulative_recovered\n",
       "0     29-03-2020  Alberta                  73.0"
      ]
     },
     "metadata": {},
     "output_type": "display_data"
    }
   ],
   "source": [
    "display(n_recovered.head(1))"
   ]
  },
  {
   "cell_type": "code",
   "execution_count": 27,
   "metadata": {},
   "outputs": [],
   "source": [
    "n_recovered['cumulative_recovered'] = n_recovered['cumulative_recovered'].fillna(0)\n",
    "n_recovered['date_recovered'] = pd.to_datetime(n_recovered['date_recovered'], dayfirst = True)"
   ]
  },
  {
   "cell_type": "code",
   "execution_count": 28,
   "metadata": {},
   "outputs": [
    {
     "data": {
      "text/plain": [
       "array(['Alberta', 'BC', 'Manitoba', 'NL', 'NWT', 'New Brunswick',\n",
       "       'Nova Scotia', 'Nunavut', 'Ontario', 'PEI', 'Quebec',\n",
       "       'Saskatchewan', 'Yukon'], dtype=object)"
      ]
     },
     "execution_count": 28,
     "metadata": {},
     "output_type": "execute_result"
    }
   ],
   "source": [
    "n_recovered = n_recovered.sort_values(by = ['province','date_recovered']);\n",
    "n_recovered['province'].unique()"
   ]
  },
  {
   "cell_type": "code",
   "execution_count": 29,
   "metadata": {},
   "outputs": [],
   "source": [
    "recovered = {}\n",
    "recovered_data = {}\n",
    "for name in n_recovered['province'].unique():\n",
    "    recovered[name] = pd.DataFrame(n_recovered.loc[n_recovered['province'] == name])\n",
    "    recovered_data[name] = ColumnDataSource(recovered[name])"
   ]
  },
  {
   "cell_type": "code",
   "execution_count": 30,
   "metadata": {},
   "outputs": [
    {
     "data": {
      "text/html": [
       "\n",
       "\n",
       "\n",
       "\n",
       "\n",
       "\n",
       "  <div class=\"bk-root\" id=\"803b2fc8-ba6a-42ae-ad5c-01e1c2db7bf2\" data-root-id=\"4134\"></div>\n"
      ]
     },
     "metadata": {},
     "output_type": "display_data"
    },
    {
     "data": {
      "application/javascript": [
       "(function(root) {\n",
       "  function embed_document(root) {\n",
       "    \n",
       "  var docs_json = {\"0d319f68-a941-4aac-8b6a-755bb40b5bfe\":{\"roots\":{\"references\":[{\"attributes\":{\"children\":[{\"id\":\"4133\"}]},\"id\":\"4134\",\"type\":\"Column\"},{\"attributes\":{},\"id\":\"4352\",\"type\":\"BasicTickFormatter\"},{\"attributes\":{\"data_source\":{\"id\":\"3927\"},\"glyph\":{\"id\":\"4096\"},\"hover_glyph\":null,\"muted_glyph\":null,\"nonselection_glyph\":{\"id\":\"4097\"},\"selection_glyph\":null,\"view\":{\"id\":\"4099\"}},\"id\":\"4098\",\"type\":\"GlyphRenderer\"},{\"attributes\":{},\"id\":\"4356\",\"type\":\"UnionRenderers\"},{\"attributes\":{},\"id\":\"4357\",\"type\":\"Selection\"},{\"attributes\":{\"mantissas\":[1,2,5],\"max_interval\":500.0,\"num_minor_ticks\":0},\"id\":\"4382\",\"type\":\"AdaptiveTicker\"},{\"attributes\":{\"source\":{\"id\":\"3933\"}},\"id\":\"4104\",\"type\":\"CDSView\"},{\"attributes\":{},\"id\":\"4355\",\"type\":\"Selection\"},{\"attributes\":{\"text\":\"\"},\"id\":\"4349\",\"type\":\"Title\"},{\"attributes\":{\"data_source\":{\"id\":\"3933\"},\"glyph\":{\"id\":\"4101\"},\"hover_glyph\":null,\"muted_glyph\":null,\"nonselection_glyph\":{\"id\":\"4102\"},\"selection_glyph\":null,\"view\":{\"id\":\"4104\"}},\"id\":\"4103\",\"type\":\"GlyphRenderer\"},{\"attributes\":{},\"id\":\"4358\",\"type\":\"UnionRenderers\"},{\"attributes\":{\"fill_alpha\":{\"value\":0.1},\"fill_color\":{\"value\":\"rgb(247, 182, 210)\"},\"line_alpha\":{\"value\":0.1},\"line_color\":{\"value\":\"rgb(247, 182, 210)\"},\"line_width\":{\"value\":2},\"x\":{\"field\":\"date_recovered\"},\"y\":{\"field\":\"cumulative_recovered\"}},\"id\":\"4102\",\"type\":\"Circle\"},{\"attributes\":{\"fill_alpha\":{\"value\":0.1},\"fill_color\":{\"value\":\"rgb(227, 119, 194)\"},\"line_alpha\":{\"value\":0.1},\"line_color\":{\"value\":\"rgb(227, 119, 194)\"},\"line_width\":{\"value\":2},\"x\":{\"field\":\"date_recovered\"},\"y\":{\"field\":\"cumulative_recovered\"}},\"id\":\"4097\",\"type\":\"Circle\"},{\"attributes\":{},\"id\":\"4359\",\"type\":\"Selection\"},{\"attributes\":{},\"id\":\"4380\",\"type\":\"UnionRenderers\"},{\"attributes\":{},\"id\":\"4354\",\"type\":\"DatetimeTickFormatter\"},{\"attributes\":{},\"id\":\"4360\",\"type\":\"UnionRenderers\"},{\"attributes\":{},\"id\":\"4371\",\"type\":\"Selection\"},{\"attributes\":{},\"id\":\"4361\",\"type\":\"Selection\"},{\"attributes\":{},\"id\":\"4362\",\"type\":\"UnionRenderers\"},{\"attributes\":{\"base\":24,\"mantissas\":[1,2,4,6,8,12],\"max_interval\":43200000.0,\"min_interval\":3600000.0,\"num_minor_ticks\":0},\"id\":\"4384\",\"type\":\"AdaptiveTicker\"},{\"attributes\":{\"months\":[0,1,2,3,4,5,6,7,8,9,10,11]},\"id\":\"4389\",\"type\":\"MonthsTicker\"},{\"attributes\":{},\"id\":\"4363\",\"type\":\"Selection\"},{\"attributes\":{},\"id\":\"4378\",\"type\":\"UnionRenderers\"},{\"attributes\":{},\"id\":\"4365\",\"type\":\"Selection\"},{\"attributes\":{},\"id\":\"4364\",\"type\":\"UnionRenderers\"},{\"attributes\":{\"line_color\":\"rgb(31, 119, 180)\",\"line_width\":2,\"x\":{\"field\":\"date_recovered\"},\"y\":{\"field\":\"cumulative_recovered\"}},\"id\":\"3966\",\"type\":\"Line\"},{\"attributes\":{},\"id\":\"4366\",\"type\":\"UnionRenderers\"},{\"attributes\":{},\"id\":\"4393\",\"type\":\"YearsTicker\"},{\"attributes\":{\"background_fill_color\":\"#fafafa\",\"below\":[{\"id\":\"3943\"}],\"center\":[{\"id\":\"3946\"},{\"id\":\"3950\"}],\"left\":[{\"id\":\"3947\"}],\"plot_height\":200,\"plot_width\":900,\"renderers\":[{\"id\":\"3968\"},{\"id\":\"3973\"},{\"id\":\"3978\"},{\"id\":\"3983\"},{\"id\":\"3988\"},{\"id\":\"3993\"},{\"id\":\"3998\"},{\"id\":\"4003\"},{\"id\":\"4008\"},{\"id\":\"4013\"},{\"id\":\"4018\"},{\"id\":\"4023\"},{\"id\":\"4028\"},{\"id\":\"4033\"},{\"id\":\"4038\"},{\"id\":\"4043\"},{\"id\":\"4048\"},{\"id\":\"4053\"},{\"id\":\"4058\"},{\"id\":\"4063\"},{\"id\":\"4068\"},{\"id\":\"4073\"},{\"id\":\"4078\"},{\"id\":\"4083\"},{\"id\":\"4088\"},{\"id\":\"4093\"},{\"id\":\"4098\"},{\"id\":\"4103\"}],\"title\":{\"id\":\"4349\"},\"toolbar\":{\"id\":\"3958\"},\"x_range\":{\"id\":\"3935\"},\"x_scale\":{\"id\":\"3939\"},\"y_range\":{\"id\":\"3937\"},\"y_scale\":{\"id\":\"3941\"}},\"id\":\"3934\",\"subtype\":\"Figure\",\"type\":\"Plot\"},{\"attributes\":{\"data\":{\"cumulative_recovered\":{\"__ndarray__\":\"AAAAAAAAAAAAAAAAAAAAAAAAAAAAAAAAAAAAAAAAAAAAAAAAAAAAAAAAAAAAAAAAAAAAAAAAAAAAAAAAAAAAAAAAAAAAAAAAAAAAAAAAAAAAAAAAAAAAAAAAAAAAAAAAAAAAAAAAAAAAAAAAAAAAAAAAAAAAAAAAAAAAAAAAAAAAAAAAAAAAAAAAAAAAAAAAAAAAAAAAAAAAAAAAAAAAAAAAAAAAAAAAAAAAAAAAAAAAAAAAAAAAAAAAAAAAAAAAAAAAAAAAAAAAAAAAAAAAAAAAAAAAAAAAAAAAAAAAAAAAAAAAAAAAAAAAAAAAAAAAAAAAAAAAAAAAAAAAAAAAAAAAAAAAAAAAAAAAAAAAAAAAAAAAAAAAAAAAAAAAAAAAAAAAAAAAAAAAAAAAAAAAAAAAAAAAAAAAAAAAAAAAAAAAAAAAAAAAAAAAAAAAAAAAAAAAAAAAAAAAAAAAAAAAAAAAAAAAAAAAAAAAAAAAAAAAAAAAAAAAQA==\",\"dtype\":\"float64\",\"shape\":[47]},\"date_recovered\":{\"__ndarray__\":\"AAAAIGsDd0IAAMCFvQN3QgAAgOsPBHdCAABAUWIEd0IAAAC3tAR3QgAAwBwHBXdCAACAglkFd0IAAEDoqwV3QgAAAE7+BXdCAADAs1AGd0IAAIAZowZ3QgAAQH/1BndCAAAA5UcHd0IAAMBKmgd3QgAAgLDsB3dCAABAFj8Id0IAAAB8kQh3QgAAwOHjCHdCAACARzYJd0IAAECtiAl3QgAAABPbCXdCAADAeC0Kd0IAAIDefwp3QgAAQETSCndCAAAAqiQLd0IAAMAPdwt3QgAAgHXJC3dCAABA2xsMd0IAAABBbgx3QgAAwKbADHdCAACADBMNd0IAAEByZQ13QgAAANi3DXdCAADAPQoOd0IAAICjXA53QgAAQAmvDndCAAAAbwEPd0IAAMDUUw93QgAAgDqmD3dCAABAoPgPd0IAAAAGSxB3QgAAwGudEHdCAACA0e8Qd0IAAEA3QhF3QgAAAJ2UEXdCAADAAucRd0IAAIBoORJ3Qg==\",\"dtype\":\"float64\",\"shape\":[47]},\"index\":[140,139,138,137,136,135,134,133,132,131,130,129,128,127,126,125,124,123,122,121,120,119,118,117,116,115,114,113,112,111,110,109,108,107,106,105,104,103,102,101,100,99,98,97,96,95,94],\"province\":[\"Manitoba\",\"Manitoba\",\"Manitoba\",\"Manitoba\",\"Manitoba\",\"Manitoba\",\"Manitoba\",\"Manitoba\",\"Manitoba\",\"Manitoba\",\"Manitoba\",\"Manitoba\",\"Manitoba\",\"Manitoba\",\"Manitoba\",\"Manitoba\",\"Manitoba\",\"Manitoba\",\"Manitoba\",\"Manitoba\",\"Manitoba\",\"Manitoba\",\"Manitoba\",\"Manitoba\",\"Manitoba\",\"Manitoba\",\"Manitoba\",\"Manitoba\",\"Manitoba\",\"Manitoba\",\"Manitoba\",\"Manitoba\",\"Manitoba\",\"Manitoba\",\"Manitoba\",\"Manitoba\",\"Manitoba\",\"Manitoba\",\"Manitoba\",\"Manitoba\",\"Manitoba\",\"Manitoba\",\"Manitoba\",\"Manitoba\",\"Manitoba\",\"Manitoba\",\"Manitoba\"]},\"selected\":{\"id\":\"4359\"},\"selection_policy\":{\"id\":\"4360\"}},\"id\":\"3923\",\"type\":\"ColumnDataSource\"},{\"attributes\":{},\"id\":\"4373\",\"type\":\"Selection\"},{\"attributes\":{\"line_alpha\":0.1,\"line_color\":\"rgb(31, 119, 180)\",\"line_width\":2,\"x\":{\"field\":\"date_recovered\"},\"y\":{\"field\":\"cumulative_recovered\"}},\"id\":\"3967\",\"type\":\"Line\"},{\"attributes\":{\"base\":60,\"mantissas\":[1,2,5,10,15,20,30],\"max_interval\":1800000.0,\"min_interval\":1000.0,\"num_minor_ticks\":0},\"id\":\"4383\",\"type\":\"AdaptiveTicker\"},{\"attributes\":{\"days\":[1,8,15,22]},\"id\":\"4387\",\"type\":\"DaysTicker\"},{\"attributes\":{},\"id\":\"3935\",\"type\":\"DataRange1d\"},{\"attributes\":{},\"id\":\"4367\",\"type\":\"Selection\"},{\"attributes\":{},\"id\":\"4368\",\"type\":\"UnionRenderers\"},{\"attributes\":{},\"id\":\"3939\",\"type\":\"LinearScale\"},{\"attributes\":{},\"id\":\"4369\",\"type\":\"Selection\"},{\"attributes\":{\"end\":420,\"start\":1},\"id\":\"3937\",\"type\":\"Range1d\"},{\"attributes\":{},\"id\":\"4370\",\"type\":\"UnionRenderers\"},{\"attributes\":{\"data\":{\"cumulative_recovered\":{\"__ndarray__\":\"AAAAAAAAAAAAAAAAAAAAAAAAAAAAAAAAAAAAAAAAAAAAAAAAAAAAAAAAAAAAAAAAAAAAAAAAAAAAAAAAAAAAAAAAAAAAAAAAAAAAAAAAAAAAAAAAAAAAAAAAAAAAAAAAAAAAAAAAAAAAAAAAAAAAAAAAAAAAAAAAAAAAAAAAAAAAAAAAAAAAAAAAAAAAAAAAAAAAAAAAAAAAAAAAAAAAAAAAAAAAAAAAAAAAAAAAAAAAAAAAAAAAAAAAAAAAAAAAAAAAAAAAAAAAAAAAAAAAAAAAAAAAAAAAAAAAAAAAAAAAAAAAAAAAAAAAAAAAAAAAAAAAAAAAAAAAAAAAAAAAAAAAAAAAAAAAAAAAAAAAAAAAAAAAAAAAAAAAAAAAAAAAAAAAAAAAAAAAAAAAAAAAAAAAAAAAAAAAAAAAAAAAAAAAAAAAAAAAAAAAAAAAAAAAAAAAAAAAAAAAAAAAAADwPwAAAAAAAPA/AAAAAAAA8D8AAAAAAADwPw==\",\"dtype\":\"float64\",\"shape\":[47]},\"date_recovered\":{\"__ndarray__\":\"AAAAIGsDd0IAAMCFvQN3QgAAgOsPBHdCAABAUWIEd0IAAAC3tAR3QgAAwBwHBXdCAACAglkFd0IAAEDoqwV3QgAAAE7+BXdCAADAs1AGd0IAAIAZowZ3QgAAQH/1BndCAAAA5UcHd0IAAMBKmgd3QgAAgLDsB3dCAABAFj8Id0IAAAB8kQh3QgAAwOHjCHdCAACARzYJd0IAAECtiAl3QgAAABPbCXdCAADAeC0Kd0IAAIDefwp3QgAAQETSCndCAAAAqiQLd0IAAMAPdwt3QgAAgHXJC3dCAABA2xsMd0IAAABBbgx3QgAAwKbADHdCAACADBMNd0IAAEByZQ13QgAAANi3DXdCAADAPQoOd0IAAICjXA53QgAAQAmvDndCAAAAbwEPd0IAAMDUUw93QgAAgDqmD3dCAABAoPgPd0IAAAAGSxB3QgAAwGudEHdCAACA0e8Qd0IAAEA3QhF3QgAAAJ2UEXdCAADAAucRd0IAAIBoORJ3Qg==\",\"dtype\":\"float64\",\"shape\":[47]},\"index\":[375,374,373,372,371,370,369,368,367,366,365,364,363,362,361,360,359,358,357,356,355,354,353,352,351,350,349,348,347,346,345,344,343,342,341,340,339,338,337,336,335,334,333,332,331,330,329],\"province\":[\"PEI\",\"PEI\",\"PEI\",\"PEI\",\"PEI\",\"PEI\",\"PEI\",\"PEI\",\"PEI\",\"PEI\",\"PEI\",\"PEI\",\"PEI\",\"PEI\",\"PEI\",\"PEI\",\"PEI\",\"PEI\",\"PEI\",\"PEI\",\"PEI\",\"PEI\",\"PEI\",\"PEI\",\"PEI\",\"PEI\",\"PEI\",\"PEI\",\"PEI\",\"PEI\",\"PEI\",\"PEI\",\"PEI\",\"PEI\",\"PEI\",\"PEI\",\"PEI\",\"PEI\",\"PEI\",\"PEI\",\"PEI\",\"PEI\",\"PEI\",\"PEI\",\"PEI\",\"PEI\",\"PEI\"]},\"selected\":{\"id\":\"4373\"},\"selection_policy\":{\"id\":\"4374\"}},\"id\":\"3930\",\"type\":\"ColumnDataSource\"},{\"attributes\":{},\"id\":\"3941\",\"type\":\"LinearScale\"},{\"attributes\":{\"formatter\":{\"id\":\"4354\"},\"ticker\":{\"id\":\"3944\"}},\"id\":\"3943\",\"type\":\"DatetimeAxis\"},{\"attributes\":{\"axis\":{\"id\":\"3947\"},\"dimension\":1,\"ticker\":null},\"id\":\"3950\",\"type\":\"Grid\"},{\"attributes\":{\"days\":[1,15]},\"id\":\"4388\",\"type\":\"DaysTicker\"},{\"attributes\":{\"num_minor_ticks\":5,\"tickers\":[{\"id\":\"4382\"},{\"id\":\"4383\"},{\"id\":\"4384\"},{\"id\":\"4385\"},{\"id\":\"4386\"},{\"id\":\"4387\"},{\"id\":\"4388\"},{\"id\":\"4389\"},{\"id\":\"4390\"},{\"id\":\"4391\"},{\"id\":\"4392\"},{\"id\":\"4393\"}]},\"id\":\"3944\",\"type\":\"DatetimeTicker\"},{\"attributes\":{\"axis\":{\"id\":\"3943\"},\"ticker\":null},\"id\":\"3946\",\"type\":\"Grid\"},{\"attributes\":{},\"id\":\"3948\",\"type\":\"BasicTicker\"},{\"attributes\":{\"formatter\":{\"id\":\"4352\"},\"ticker\":{\"id\":\"3948\"}},\"id\":\"3947\",\"type\":\"LinearAxis\"},{\"attributes\":{},\"id\":\"4374\",\"type\":\"UnionRenderers\"},{\"attributes\":{\"line_color\":\"rgb(174, 199, 232)\",\"line_width\":2,\"x\":{\"field\":\"date_recovered\"},\"y\":{\"field\":\"cumulative_recovered\"}},\"id\":\"3971\",\"type\":\"Line\"},{\"attributes\":{},\"id\":\"4375\",\"type\":\"Selection\"},{\"attributes\":{},\"id\":\"4376\",\"type\":\"UnionRenderers\"},{\"attributes\":{\"days\":[1,2,3,4,5,6,7,8,9,10,11,12,13,14,15,16,17,18,19,20,21,22,23,24,25,26,27,28,29,30,31]},\"id\":\"4385\",\"type\":\"DaysTicker\"},{\"attributes\":{\"line_color\":\"rgb(227, 119, 194)\",\"line_width\":2,\"x\":{\"field\":\"date_recovered\"},\"y\":{\"field\":\"cumulative_recovered\"}},\"id\":\"4026\",\"type\":\"Line\"},{\"attributes\":{\"callback\":null,\"renderers\":[{\"id\":\"4028\"}],\"tooltips\":[[\"Sales\",\"@cumulative_recovered\"]]},\"id\":\"4129\",\"type\":\"HoverTool\"},{\"attributes\":{\"days\":[1,4,7,10,13,16,19,22,25,28]},\"id\":\"4386\",\"type\":\"DaysTicker\"},{\"attributes\":{\"data_source\":{\"id\":\"3924\"},\"glyph\":{\"id\":\"3981\"},\"hover_glyph\":null,\"muted_glyph\":null,\"nonselection_glyph\":{\"id\":\"3982\"},\"selection_glyph\":null,\"view\":{\"id\":\"3984\"}},\"id\":\"3983\",\"type\":\"GlyphRenderer\"},{\"attributes\":{\"data_source\":{\"id\":\"3921\"},\"glyph\":{\"id\":\"3966\"},\"hover_glyph\":null,\"muted_glyph\":null,\"nonselection_glyph\":{\"id\":\"3967\"},\"selection_glyph\":null,\"view\":{\"id\":\"3969\"}},\"id\":\"3968\",\"type\":\"GlyphRenderer\"},{\"attributes\":{\"data_source\":{\"id\":\"3922\"},\"glyph\":{\"id\":\"4041\"},\"hover_glyph\":null,\"muted_glyph\":null,\"nonselection_glyph\":{\"id\":\"4042\"},\"selection_glyph\":null,\"view\":{\"id\":\"4044\"}},\"id\":\"4043\",\"type\":\"GlyphRenderer\"},{\"attributes\":{\"callback\":null,\"renderers\":[{\"id\":\"3983\"}],\"tooltips\":[[\"Sales\",\"@cumulative_recovered\"]]},\"id\":\"4111\",\"type\":\"HoverTool\"},{\"attributes\":{\"active_drag\":\"auto\",\"active_inspect\":\"auto\",\"active_multi\":null,\"active_scroll\":\"auto\",\"active_tap\":\"auto\",\"tools\":[{\"id\":\"3951\"},{\"id\":\"3952\"},{\"id\":\"3953\"},{\"id\":\"3954\"},{\"id\":\"3955\"},{\"id\":\"3956\"},{\"id\":\"4105\"},{\"id\":\"4107\"},{\"id\":\"4109\"},{\"id\":\"4111\"},{\"id\":\"4113\"},{\"id\":\"4115\"},{\"id\":\"4117\"},{\"id\":\"4119\"},{\"id\":\"4121\"},{\"id\":\"4123\"},{\"id\":\"4125\"},{\"id\":\"4127\"},{\"id\":\"4129\"},{\"id\":\"4131\"}]},\"id\":\"3958\",\"type\":\"Toolbar\"},{\"attributes\":{\"source\":{\"id\":\"3924\"}},\"id\":\"3984\",\"type\":\"CDSView\"},{\"attributes\":{\"fill_alpha\":{\"value\":0.1},\"fill_color\":{\"value\":\"rgb(174, 199, 232)\"},\"line_alpha\":{\"value\":0.1},\"line_color\":{\"value\":\"rgb(174, 199, 232)\"},\"line_width\":{\"value\":2},\"x\":{\"field\":\"date_recovered\"},\"y\":{\"field\":\"cumulative_recovered\"}},\"id\":\"4042\",\"type\":\"Circle\"},{\"attributes\":{\"source\":{\"id\":\"3927\"}},\"id\":\"4069\",\"type\":\"CDSView\"},{\"attributes\":{\"line_color\":\"rgb(152, 223, 138)\",\"line_width\":2,\"x\":{\"field\":\"date_recovered\"},\"y\":{\"field\":\"cumulative_recovered\"}},\"id\":\"3991\",\"type\":\"Line\"},{\"attributes\":{\"line_color\":\"rgb(196, 156, 148)\",\"line_width\":2,\"x\":{\"field\":\"date_recovered\"},\"y\":{\"field\":\"cumulative_recovered\"}},\"id\":\"4021\",\"type\":\"Line\"},{\"attributes\":{\"callback\":null,\"renderers\":[{\"id\":\"3978\"}],\"tooltips\":[[\"Sales\",\"@cumulative_recovered\"]]},\"id\":\"4109\",\"type\":\"HoverTool\"},{\"attributes\":{\"months\":[0,2,4,6,8,10]},\"id\":\"4390\",\"type\":\"MonthsTicker\"},{\"attributes\":{\"data_source\":{\"id\":\"3927\"},\"glyph\":{\"id\":\"4066\"},\"hover_glyph\":null,\"muted_glyph\":null,\"nonselection_glyph\":{\"id\":\"4067\"},\"selection_glyph\":null,\"view\":{\"id\":\"4069\"}},\"id\":\"4068\",\"type\":\"GlyphRenderer\"},{\"attributes\":{\"data\":{\"cumulative_recovered\":{\"__ndarray__\":\"AAAAAAAAAAAAAAAAAAAAAAAAAAAAAAAAAAAAAAAAAAAAAAAAAAAAAAAAAAAAAAAAAAAAAAAAAAAAAAAAAAAAAAAAAAAAAAAAAAAAAAAAAAAAAAAAAAAAAAAAAAAAAAAAAAAAAAAAAAAAAAAAAAAAAAAAAAAAAAAAAAAAAAAAAAAAAAAAAAAAAAAAAAAAAAAAAAAAAAAAAAAAAAAAAAAAAAAAAAAAAAAAAAAAAAAAAAAAAAAAAAAAAAAAAAAAAAAAAAAAAAAAAAAAAAAAAAAAAAAAAAAAAAAAAAAAAAAAAAAAAAAAAAAAAAAAAAAAAAAAAAAAAAAAAAAAAAAAAAAAAAAAAAAAAAAAAAAAAAAAAAAAAAAAAAAAAAAAAAAAAAAAAAAAAAAAAEAAAAAAAAAIQAAAAAAAAAhAAAAAAAAACEAAAAAAAAAIQAAAAAAAAAhAAAAAAAAACEAAAAAAAAA7QAAAAAAAgEBAAAAAAACASkAAAAAAAEBSQA==\",\"dtype\":\"float64\",\"shape\":[47]},\"date_recovered\":{\"__ndarray__\":\"AAAAIGsDd0IAAMCFvQN3QgAAgOsPBHdCAABAUWIEd0IAAAC3tAR3QgAAwBwHBXdCAACAglkFd0IAAEDoqwV3QgAAAE7+BXdCAADAs1AGd0IAAIAZowZ3QgAAQH/1BndCAAAA5UcHd0IAAMBKmgd3QgAAgLDsB3dCAABAFj8Id0IAAAB8kQh3QgAAwOHjCHdCAACARzYJd0IAAECtiAl3QgAAABPbCXdCAADAeC0Kd0IAAIDefwp3QgAAQETSCndCAAAAqiQLd0IAAMAPdwt3QgAAgHXJC3dCAABA2xsMd0IAAABBbgx3QgAAwKbADHdCAACADBMNd0IAAEByZQ13QgAAANi3DXdCAADAPQoOd0IAAICjXA53QgAAQAmvDndCAAAAbwEPd0IAAMDUUw93QgAAgDqmD3dCAABAoPgPd0IAAAAGSxB3QgAAwGudEHdCAACA0e8Qd0IAAEA3QhF3QgAAAJ2UEXdCAADAAucRd0IAAIBoORJ3Qg==\",\"dtype\":\"float64\",\"shape\":[47]},\"index\":[46,45,44,43,42,41,40,39,38,37,36,35,34,33,32,31,30,29,28,27,26,25,24,23,22,21,20,19,18,17,16,15,14,13,12,11,10,9,8,7,6,5,4,3,2,1,0],\"province\":[\"Alberta\",\"Alberta\",\"Alberta\",\"Alberta\",\"Alberta\",\"Alberta\",\"Alberta\",\"Alberta\",\"Alberta\",\"Alberta\",\"Alberta\",\"Alberta\",\"Alberta\",\"Alberta\",\"Alberta\",\"Alberta\",\"Alberta\",\"Alberta\",\"Alberta\",\"Alberta\",\"Alberta\",\"Alberta\",\"Alberta\",\"Alberta\",\"Alberta\",\"Alberta\",\"Alberta\",\"Alberta\",\"Alberta\",\"Alberta\",\"Alberta\",\"Alberta\",\"Alberta\",\"Alberta\",\"Alberta\",\"Alberta\",\"Alberta\",\"Alberta\",\"Alberta\",\"Alberta\",\"Alberta\",\"Alberta\",\"Alberta\",\"Alberta\",\"Alberta\",\"Alberta\",\"Alberta\"]},\"selected\":{\"id\":\"4355\"},\"selection_policy\":{\"id\":\"4356\"}},\"id\":\"3921\",\"type\":\"ColumnDataSource\"},{\"attributes\":{\"source\":{\"id\":\"3926\"}},\"id\":\"3994\",\"type\":\"CDSView\"},{\"attributes\":{\"fill_color\":{\"value\":\"rgb(255, 187, 120)\"},\"line_color\":{\"value\":\"rgb(255, 187, 120)\"},\"line_width\":{\"value\":2},\"x\":{\"field\":\"date_recovered\"},\"y\":{\"field\":\"cumulative_recovered\"}},\"id\":\"4051\",\"type\":\"Circle\"},{\"attributes\":{\"line_alpha\":0.1,\"line_color\":\"rgb(140, 86, 75)\",\"line_width\":2,\"x\":{\"field\":\"date_recovered\"},\"y\":{\"field\":\"cumulative_recovered\"}},\"id\":\"4017\",\"type\":\"Line\"},{\"attributes\":{\"fill_color\":{\"value\":\"rgb(148, 103, 189)\"},\"line_color\":{\"value\":\"rgb(148, 103, 189)\"},\"line_width\":{\"value\":2},\"x\":{\"field\":\"date_recovered\"},\"y\":{\"field\":\"cumulative_recovered\"}},\"id\":\"4076\",\"type\":\"Circle\"},{\"attributes\":{},\"id\":\"3951\",\"type\":\"PanTool\"},{\"attributes\":{\"source\":{\"id\":\"3931\"}},\"id\":\"4019\",\"type\":\"CDSView\"},{\"attributes\":{\"fill_alpha\":{\"value\":0.1},\"fill_color\":{\"value\":\"rgb(214, 39, 40)\"},\"line_alpha\":{\"value\":0.1},\"line_color\":{\"value\":\"rgb(214, 39, 40)\"},\"line_width\":{\"value\":2},\"x\":{\"field\":\"date_recovered\"},\"y\":{\"field\":\"cumulative_recovered\"}},\"id\":\"4067\",\"type\":\"Circle\"},{\"attributes\":{\"months\":[0,4,8]},\"id\":\"4391\",\"type\":\"MonthsTicker\"},{\"attributes\":{},\"id\":\"3952\",\"type\":\"WheelZoomTool\"},{\"attributes\":{\"line_alpha\":0.1,\"line_color\":\"rgb(44, 160, 44)\",\"line_width\":2,\"x\":{\"field\":\"date_recovered\"},\"y\":{\"field\":\"cumulative_recovered\"}},\"id\":\"3987\",\"type\":\"Line\"},{\"attributes\":{\"source\":{\"id\":\"3925\"}},\"id\":\"3989\",\"type\":\"CDSView\"},{\"attributes\":{\"overlay\":{\"id\":\"3957\"}},\"id\":\"3953\",\"type\":\"BoxZoomTool\"},{\"attributes\":{\"callback\":null,\"renderers\":[{\"id\":\"4008\"}],\"tooltips\":[[\"Sales\",\"@cumulative_recovered\"]]},\"id\":\"4121\",\"type\":\"HoverTool\"},{\"attributes\":{\"data_source\":{\"id\":\"3931\"},\"glyph\":{\"id\":\"4016\"},\"hover_glyph\":null,\"muted_glyph\":null,\"nonselection_glyph\":{\"id\":\"4017\"},\"selection_glyph\":null,\"view\":{\"id\":\"4019\"}},\"id\":\"4018\",\"type\":\"GlyphRenderer\"},{\"attributes\":{\"callback\":null,\"renderers\":[{\"id\":\"3988\"}],\"tooltips\":[[\"Sales\",\"@cumulative_recovered\"]]},\"id\":\"4113\",\"type\":\"HoverTool\"},{\"attributes\":{\"months\":[0,6]},\"id\":\"4392\",\"type\":\"MonthsTicker\"},{\"attributes\":{},\"id\":\"3954\",\"type\":\"SaveTool\"},{\"attributes\":{\"line_alpha\":0.1,\"line_color\":\"rgb(152, 223, 138)\",\"line_width\":2,\"x\":{\"field\":\"date_recovered\"},\"y\":{\"field\":\"cumulative_recovered\"}},\"id\":\"3992\",\"type\":\"Line\"},{\"attributes\":{\"source\":{\"id\":\"3928\"}},\"id\":\"4074\",\"type\":\"CDSView\"},{\"attributes\":{\"data_source\":{\"id\":\"3925\"},\"glyph\":{\"id\":\"3986\"},\"hover_glyph\":null,\"muted_glyph\":null,\"nonselection_glyph\":{\"id\":\"3987\"},\"selection_glyph\":null,\"view\":{\"id\":\"3989\"}},\"id\":\"3988\",\"type\":\"GlyphRenderer\"},{\"attributes\":{},\"id\":\"3955\",\"type\":\"ResetTool\"},{\"attributes\":{\"data_source\":{\"id\":\"3928\"},\"glyph\":{\"id\":\"4071\"},\"hover_glyph\":null,\"muted_glyph\":null,\"nonselection_glyph\":{\"id\":\"4072\"},\"selection_glyph\":null,\"view\":{\"id\":\"4074\"}},\"id\":\"4073\",\"type\":\"GlyphRenderer\"},{\"attributes\":{\"callback\":null,\"renderers\":[{\"id\":\"4003\"}],\"tooltips\":[[\"Sales\",\"@cumulative_recovered\"]]},\"id\":\"4119\",\"type\":\"HoverTool\"},{\"attributes\":{\"source\":{\"id\":\"3921\"}},\"id\":\"3969\",\"type\":\"CDSView\"},{\"attributes\":{\"line_alpha\":0.1,\"line_color\":\"rgb(196, 156, 148)\",\"line_width\":2,\"x\":{\"field\":\"date_recovered\"},\"y\":{\"field\":\"cumulative_recovered\"}},\"id\":\"4022\",\"type\":\"Line\"},{\"attributes\":{\"fill_color\":{\"value\":\"rgb(197, 176, 213)\"},\"line_color\":{\"value\":\"rgb(197, 176, 213)\"},\"line_width\":{\"value\":2},\"x\":{\"field\":\"date_recovered\"},\"y\":{\"field\":\"cumulative_recovered\"}},\"id\":\"4081\",\"type\":\"Circle\"},{\"attributes\":{\"fill_alpha\":{\"value\":0.1},\"fill_color\":{\"value\":\"rgb(255, 152, 150)\"},\"line_alpha\":{\"value\":0.1},\"line_color\":{\"value\":\"rgb(255, 152, 150)\"},\"line_width\":{\"value\":2},\"x\":{\"field\":\"date_recovered\"},\"y\":{\"field\":\"cumulative_recovered\"}},\"id\":\"4072\",\"type\":\"Circle\"},{\"attributes\":{},\"id\":\"3956\",\"type\":\"HelpTool\"},{\"attributes\":{\"data_source\":{\"id\":\"3927\"},\"glyph\":{\"id\":\"4026\"},\"hover_glyph\":null,\"muted_glyph\":null,\"nonselection_glyph\":{\"id\":\"4027\"},\"selection_glyph\":null,\"view\":{\"id\":\"4029\"}},\"id\":\"4028\",\"type\":\"GlyphRenderer\"},{\"attributes\":{\"line_color\":\"rgb(214, 39, 40)\",\"line_width\":2,\"x\":{\"field\":\"date_recovered\"},\"y\":{\"field\":\"cumulative_recovered\"}},\"id\":\"3996\",\"type\":\"Line\"},{\"attributes\":{\"data_source\":{\"id\":\"3921\"},\"glyph\":{\"id\":\"4036\"},\"hover_glyph\":null,\"muted_glyph\":null,\"nonselection_glyph\":{\"id\":\"4037\"},\"selection_glyph\":null,\"view\":{\"id\":\"4039\"}},\"id\":\"4038\",\"type\":\"GlyphRenderer\"},{\"attributes\":{\"source\":{\"id\":\"3927\"}},\"id\":\"4029\",\"type\":\"CDSView\"},{\"attributes\":{\"callback\":null,\"renderers\":[{\"id\":\"4013\"}],\"tooltips\":[[\"Sales\",\"@cumulative_recovered\"]]},\"id\":\"4123\",\"type\":\"HoverTool\"},{\"attributes\":{\"data_source\":{\"id\":\"3932\"},\"glyph\":{\"id\":\"4021\"},\"hover_glyph\":null,\"muted_glyph\":null,\"nonselection_glyph\":{\"id\":\"4022\"},\"selection_glyph\":null,\"view\":{\"id\":\"4024\"}},\"id\":\"4023\",\"type\":\"GlyphRenderer\"},{\"attributes\":{\"line_alpha\":0.1,\"line_color\":\"rgb(227, 119, 194)\",\"line_width\":2,\"x\":{\"field\":\"date_recovered\"},\"y\":{\"field\":\"cumulative_recovered\"}},\"id\":\"4027\",\"type\":\"Line\"},{\"attributes\":{\"data\":{\"cumulative_recovered\":{\"__ndarray__\":\"AAAAAAAAAAAAAAAAAAAAAAAAAAAAAAAAAAAAAAAAAAAAAAAAAAAAAAAAAAAAAAAAAAAAAAAAAAAAAAAAAAAAAAAAAAAAAAAAAAAAAAAAAAAAAAAAAAAAAAAAAAAAAAAAAAAAAAAAAAAAAAAAAAAAAAAAAAAAAAAAAAAAAAAAAAAAAAAAAAAAAAAAAAAAAAAAAAAAAAAAAAAAAAAAAAAAAAAAAAAAAAAAAAAAAAAAAAAAAAAAAAAAAAAAAAAAAAAAAAAAAAAAAAAAAAAAAAAAAAAAAAAAAAAAAAAAAAAAAAAAAAAAAAAAAAAAAAAAAAAAAAAAAAAAAAAAAAAAAAAAAAAAAAAAAAAAAAAAAAAAAAAAAAAAAAAAAAAAAAAAAAAAAAAAAAAAAAAAAAAAAAAAAAAAAAAAAAAAAAAAAAAAAAAAAAAAAAAAAAAAAAAAAAAAAAAAAAAAAAAAAAAAAAAAAAAAAAAAAAAAAAAAAAAAAAAAAAAAAAAAAA==\",\"dtype\":\"float64\",\"shape\":[47]},\"date_recovered\":{\"__ndarray__\":\"AAAAIGsDd0IAAMCFvQN3QgAAgOsPBHdCAABAUWIEd0IAAAC3tAR3QgAAwBwHBXdCAACAglkFd0IAAEDoqwV3QgAAAE7+BXdCAADAs1AGd0IAAIAZowZ3QgAAQH/1BndCAAAA5UcHd0IAAMBKmgd3QgAAgLDsB3dCAABAFj8Id0IAAAB8kQh3QgAAwOHjCHdCAACARzYJd0IAAECtiAl3QgAAABPbCXdCAADAeC0Kd0IAAIDefwp3QgAAQETSCndCAAAAqiQLd0IAAMAPdwt3QgAAgHXJC3dCAABA2xsMd0IAAABBbgx3QgAAwKbADHdCAACADBMNd0IAAEByZQ13QgAAANi3DXdCAADAPQoOd0IAAICjXA53QgAAQAmvDndCAAAAbwEPd0IAAMDUUw93QgAAgDqmD3dCAABAoPgPd0IAAAAGSxB3QgAAwGudEHdCAACA0e8Qd0IAAEA3QhF3QgAAAJ2UEXdCAADAAucRd0IAAIBoORJ3Qg==\",\"dtype\":\"float64\",\"shape\":[47]},\"index\":[610,609,608,607,606,605,604,603,602,601,600,599,598,597,596,595,594,593,592,591,590,589,588,587,586,585,584,583,582,581,580,579,578,577,576,575,574,573,572,571,570,569,568,567,566,565,564],\"province\":[\"Yukon\",\"Yukon\",\"Yukon\",\"Yukon\",\"Yukon\",\"Yukon\",\"Yukon\",\"Yukon\",\"Yukon\",\"Yukon\",\"Yukon\",\"Yukon\",\"Yukon\",\"Yukon\",\"Yukon\",\"Yukon\",\"Yukon\",\"Yukon\",\"Yukon\",\"Yukon\",\"Yukon\",\"Yukon\",\"Yukon\",\"Yukon\",\"Yukon\",\"Yukon\",\"Yukon\",\"Yukon\",\"Yukon\",\"Yukon\",\"Yukon\",\"Yukon\",\"Yukon\",\"Yukon\",\"Yukon\",\"Yukon\",\"Yukon\",\"Yukon\",\"Yukon\",\"Yukon\",\"Yukon\",\"Yukon\",\"Yukon\",\"Yukon\",\"Yukon\",\"Yukon\",\"Yukon\"]},\"selected\":{\"id\":\"4379\"},\"selection_policy\":{\"id\":\"4380\"}},\"id\":\"3933\",\"type\":\"ColumnDataSource\"},{\"attributes\":{\"source\":{\"id\":\"3922\"}},\"id\":\"4044\",\"type\":\"CDSView\"},{\"attributes\":{\"source\":{\"id\":\"3929\"}},\"id\":\"4079\",\"type\":\"CDSView\"},{\"attributes\":{\"source\":{\"id\":\"3927\"}},\"id\":\"3999\",\"type\":\"CDSView\"},{\"attributes\":{\"source\":{\"id\":\"3921\"}},\"id\":\"4039\",\"type\":\"CDSView\"},{\"attributes\":{\"data_source\":{\"id\":\"3926\"},\"glyph\":{\"id\":\"3991\"},\"hover_glyph\":null,\"muted_glyph\":null,\"nonselection_glyph\":{\"id\":\"3992\"},\"selection_glyph\":null,\"view\":{\"id\":\"3994\"}},\"id\":\"3993\",\"type\":\"GlyphRenderer\"},{\"attributes\":{\"data_source\":{\"id\":\"3929\"},\"glyph\":{\"id\":\"4076\"},\"hover_glyph\":null,\"muted_glyph\":null,\"nonselection_glyph\":{\"id\":\"4077\"},\"selection_glyph\":null,\"view\":{\"id\":\"4079\"}},\"id\":\"4078\",\"type\":\"GlyphRenderer\"},{\"attributes\":{\"fill_color\":{\"value\":\"rgb(255, 127, 14)\"},\"line_color\":{\"value\":\"rgb(255, 127, 14)\"},\"line_width\":{\"value\":2},\"x\":{\"field\":\"date_recovered\"},\"y\":{\"field\":\"cumulative_recovered\"}},\"id\":\"4046\",\"type\":\"Circle\"},{\"attributes\":{\"fill_color\":{\"value\":\"rgb(140, 86, 75)\"},\"line_color\":{\"value\":\"rgb(140, 86, 75)\"},\"line_width\":{\"value\":2},\"x\":{\"field\":\"date_recovered\"},\"y\":{\"field\":\"cumulative_recovered\"}},\"id\":\"4086\",\"type\":\"Circle\"},{\"attributes\":{\"line_alpha\":0.1,\"line_color\":\"rgb(214, 39, 40)\",\"line_width\":2,\"x\":{\"field\":\"date_recovered\"},\"y\":{\"field\":\"cumulative_recovered\"}},\"id\":\"3997\",\"type\":\"Line\"},{\"attributes\":{\"fill_alpha\":{\"value\":0.1},\"fill_color\":{\"value\":\"rgb(148, 103, 189)\"},\"line_alpha\":{\"value\":0.1},\"line_color\":{\"value\":\"rgb(148, 103, 189)\"},\"line_width\":{\"value\":2},\"x\":{\"field\":\"date_recovered\"},\"y\":{\"field\":\"cumulative_recovered\"}},\"id\":\"4077\",\"type\":\"Circle\"},{\"attributes\":{\"source\":{\"id\":\"3923\"}},\"id\":\"4049\",\"type\":\"CDSView\"},{\"attributes\":{\"data\":{\"cumulative_recovered\":{\"__ndarray__\":\"AAAAAAAAAAAAAAAAAAAAAAAAAAAAAAAAAAAAAAAAAAAAAAAAAAAAAAAAAAAAAAAAAAAAAAAAAAAAAAAAAADwPwAAAAAAAPA/AAAAAAAA8D8AAAAAAADwPwAAAAAAAPA/AAAAAAAA8D8AAAAAAAAQQAAAAAAAABBAAAAAAAAAEEAAAAAAAAAQQAAAAAAAABBAAAAAAAAAEEAAAAAAAAAQQAAAAAAAABBAAAAAAAAAEEAAAAAAAAAQQAAAAAAAABBAAAAAAAAAEEAAAAAAAAAQQAAAAAAAABBAAAAAAAAAEEAAAAAAAAAQQAAAAAAAABBAAAAAAAAAFEAAAAAAAAAUQAAAAAAAABRAAAAAAAAAFEAAAAAAAAAUQAAAAAAAABRAAAAAAAAAFEAAAAAAAAAYQAAAAAAAABhAAAAAAAAAGEAAAAAAAABZQAAAAAAAoGVAAAAAAADgZkAAAAAAAEBnQAAAAAAAMHFAAAAAAADAeEAAAAAAAMB4QA==\",\"dtype\":\"float64\",\"shape\":[47]},\"date_recovered\":{\"__ndarray__\":\"AAAAIGsDd0IAAMCFvQN3QgAAgOsPBHdCAABAUWIEd0IAAAC3tAR3QgAAwBwHBXdCAACAglkFd0IAAEDoqwV3QgAAAE7+BXdCAADAs1AGd0IAAIAZowZ3QgAAQH/1BndCAAAA5UcHd0IAAMBKmgd3QgAAgLDsB3dCAABAFj8Id0IAAAB8kQh3QgAAwOHjCHdCAACARzYJd0IAAECtiAl3QgAAABPbCXdCAADAeC0Kd0IAAIDefwp3QgAAQETSCndCAAAAqiQLd0IAAMAPdwt3QgAAgHXJC3dCAABA2xsMd0IAAABBbgx3QgAAwKbADHdCAACADBMNd0IAAEByZQ13QgAAANi3DXdCAADAPQoOd0IAAICjXA53QgAAQAmvDndCAAAAbwEPd0IAAMDUUw93QgAAgDqmD3dCAABAoPgPd0IAAAAGSxB3QgAAwGudEHdCAACA0e8Qd0IAAEA3QhF3QgAAAJ2UEXdCAADAAucRd0IAAIBoORJ3Qg==\",\"dtype\":\"float64\",\"shape\":[47]},\"index\":[93,92,91,90,89,88,87,86,85,84,83,82,81,80,79,78,77,76,75,74,73,72,71,70,69,68,67,66,65,64,63,62,61,60,59,58,57,56,55,54,53,52,51,50,49,48,47],\"province\":[\"BC\",\"BC\",\"BC\",\"BC\",\"BC\",\"BC\",\"BC\",\"BC\",\"BC\",\"BC\",\"BC\",\"BC\",\"BC\",\"BC\",\"BC\",\"BC\",\"BC\",\"BC\",\"BC\",\"BC\",\"BC\",\"BC\",\"BC\",\"BC\",\"BC\",\"BC\",\"BC\",\"BC\",\"BC\",\"BC\",\"BC\",\"BC\",\"BC\",\"BC\",\"BC\",\"BC\",\"BC\",\"BC\",\"BC\",\"BC\",\"BC\",\"BC\",\"BC\",\"BC\",\"BC\",\"BC\",\"BC\"]},\"selected\":{\"id\":\"4357\"},\"selection_policy\":{\"id\":\"4358\"}},\"id\":\"3922\",\"type\":\"ColumnDataSource\"},{\"attributes\":{\"callback\":null,\"renderers\":[{\"id\":\"3998\"}],\"tooltips\":[[\"Sales\",\"@cumulative_recovered\"]]},\"id\":\"4117\",\"type\":\"HoverTool\"},{\"attributes\":{\"line_color\":\"rgb(255, 152, 150)\",\"line_width\":2,\"x\":{\"field\":\"date_recovered\"},\"y\":{\"field\":\"cumulative_recovered\"}},\"id\":\"4001\",\"type\":\"Line\"},{\"attributes\":{\"data_source\":{\"id\":\"3923\"},\"glyph\":{\"id\":\"4046\"},\"hover_glyph\":null,\"muted_glyph\":null,\"nonselection_glyph\":{\"id\":\"4047\"},\"selection_glyph\":null,\"view\":{\"id\":\"4049\"}},\"id\":\"4048\",\"type\":\"GlyphRenderer\"},{\"attributes\":{\"data\":{\"cumulative_recovered\":{\"__ndarray__\":\"AAAAAAAAAAAAAAAAAAAAAAAAAAAAAAAAAAAAAAAAAAAAAAAAAAAAAAAAAAAAAAAAAAAAAAAAAAAAAAAAAAAAAAAAAAAAAAAAAAAAAAAAAAAAAAAAAAAAAAAAAAAAAAAAAAAAAAAAAAAAAAAAAAAAAAAAAAAAAAAAAAAAAAAAAAAAAAAAAAAAAAAAAAAAAAAAAAAAAAAAAAAAAAAAAAAAAAAAAAAAAAAAAAAAAAAAAAAAAAAAAAAAAAAAAAAAAAAAAAAAAAAAAAAAAAAAAAAAAAAAAAAAAAAAAAAAAAAAAAAAAAAAAAAAAAAAAAAAAAAAAAAAAAAAAAAAAAAAAAAAAAAAAAAAAAAAAAAAAAAAAAAAAAAAAAAAAAAAAAAAAAAAAAAAAAAAAAAAAAAAAAAAAAAAAAAAAAAAAAAAAAAAAAAAAAAAAAAAAAAAAAAAAPA/AAAAAAAAAEAAAAAAAAAAQAAAAAAAAAhAAAAAAAAAEEAAAAAAAAAcQA==\",\"dtype\":\"float64\",\"shape\":[47]},\"date_recovered\":{\"__ndarray__\":\"AAAAIGsDd0IAAMCFvQN3QgAAgOsPBHdCAABAUWIEd0IAAAC3tAR3QgAAwBwHBXdCAACAglkFd0IAAEDoqwV3QgAAAE7+BXdCAADAs1AGd0IAAIAZowZ3QgAAQH/1BndCAAAA5UcHd0IAAMBKmgd3QgAAgLDsB3dCAABAFj8Id0IAAAB8kQh3QgAAwOHjCHdCAACARzYJd0IAAECtiAl3QgAAABPbCXdCAADAeC0Kd0IAAIDefwp3QgAAQETSCndCAAAAqiQLd0IAAMAPdwt3QgAAgHXJC3dCAABA2xsMd0IAAABBbgx3QgAAwKbADHdCAACADBMNd0IAAEByZQ13QgAAANi3DXdCAADAPQoOd0IAAICjXA53QgAAQAmvDndCAAAAbwEPd0IAAMDUUw93QgAAgDqmD3dCAABAoPgPd0IAAAAGSxB3QgAAwGudEHdCAACA0e8Qd0IAAEA3QhF3QgAAAJ2UEXdCAADAAucRd0IAAIBoORJ3Qg==\",\"dtype\":\"float64\",\"shape\":[47]},\"index\":[281,280,279,278,277,276,275,274,273,272,271,270,269,268,267,266,265,264,263,262,261,260,259,258,257,256,255,254,253,252,251,250,249,248,247,246,245,244,243,242,241,240,239,238,237,236,235],\"province\":[\"Nova Scotia\",\"Nova Scotia\",\"Nova Scotia\",\"Nova Scotia\",\"Nova Scotia\",\"Nova Scotia\",\"Nova Scotia\",\"Nova Scotia\",\"Nova Scotia\",\"Nova Scotia\",\"Nova Scotia\",\"Nova Scotia\",\"Nova Scotia\",\"Nova Scotia\",\"Nova Scotia\",\"Nova Scotia\",\"Nova Scotia\",\"Nova Scotia\",\"Nova Scotia\",\"Nova Scotia\",\"Nova Scotia\",\"Nova Scotia\",\"Nova Scotia\",\"Nova Scotia\",\"Nova Scotia\",\"Nova Scotia\",\"Nova Scotia\",\"Nova Scotia\",\"Nova Scotia\",\"Nova Scotia\",\"Nova Scotia\",\"Nova Scotia\",\"Nova Scotia\",\"Nova Scotia\",\"Nova Scotia\",\"Nova Scotia\",\"Nova Scotia\",\"Nova Scotia\",\"Nova Scotia\",\"Nova Scotia\",\"Nova Scotia\",\"Nova Scotia\",\"Nova Scotia\",\"Nova Scotia\",\"Nova Scotia\",\"Nova Scotia\",\"Nova Scotia\"]},\"selected\":{\"id\":\"4367\"},\"selection_policy\":{\"id\":\"4368\"}},\"id\":\"3927\",\"type\":\"ColumnDataSource\"},{\"attributes\":{\"data\":{\"cumulative_recovered\":{\"__ndarray__\":\"AAAAAAAAAAAAAAAAAAAAAAAAAAAAAAAAAAAAAAAAAAAAAAAAAAAAAAAAAAAAAAAAAAAAAAAAAAAAAAAAAAAAAAAAAAAAAAAAAAAAAAAAAAAAAAAAAAAAAAAAAAAAAAAAAAAAAAAAAAAAAAAAAAAAAAAAAAAAAAAAAAAAAAAAAAAAAAAAAAAAAAAAAAAAAAAAAAAAAAAAAAAAAAAAAAAAAAAAAAAAAAAAAAAAAAAAAAAAAAAAAAAAAAAAAAAAAAAAAAAAAAAAAAAAAAAAAAAAAAAAAAAAAAAAAAAAAAAAAAAAAAAAAAAAAAAAAAAAAAAAAAAAAAAAAAAAAAAAAAAAAAAAAAAAAAAAAAAAAAAAAAAAAAAAAAAAAAAAAAAAAAAAAAAAAAAAAAAAAAAAAAAAAAAAAAAAAAAAAAAAAAAAAAAAAAAAAAAAAAAAAAAAAAAAAAAAAAAAAAAAAAAAAAAIQAAAAAAAAAhAAAAAAAAAEEAAAAAAAAAgQA==\",\"dtype\":\"float64\",\"shape\":[47]},\"date_recovered\":{\"__ndarray__\":\"AAAAIGsDd0IAAMCFvQN3QgAAgOsPBHdCAABAUWIEd0IAAAC3tAR3QgAAwBwHBXdCAACAglkFd0IAAEDoqwV3QgAAAE7+BXdCAADAs1AGd0IAAIAZowZ3QgAAQH/1BndCAAAA5UcHd0IAAMBKmgd3QgAAgLDsB3dCAABAFj8Id0IAAAB8kQh3QgAAwOHjCHdCAACARzYJd0IAAECtiAl3QgAAABPbCXdCAADAeC0Kd0IAAIDefwp3QgAAQETSCndCAAAAqiQLd0IAAMAPdwt3QgAAgHXJC3dCAABA2xsMd0IAAABBbgx3QgAAwKbADHdCAACADBMNd0IAAEByZQ13QgAAANi3DXdCAADAPQoOd0IAAICjXA53QgAAQAmvDndCAAAAbwEPd0IAAMDUUw93QgAAgDqmD3dCAABAoPgPd0IAAAAGSxB3QgAAwGudEHdCAACA0e8Qd0IAAEA3QhF3QgAAAJ2UEXdCAADAAucRd0IAAIBoORJ3Qg==\",\"dtype\":\"float64\",\"shape\":[47]},\"index\":[469,468,467,466,465,464,463,462,461,460,459,458,457,456,455,454,453,452,451,450,449,448,447,446,445,444,443,442,441,440,439,438,437,436,435,434,433,432,431,430,429,428,427,426,425,424,423],\"province\":[\"Saskatchewan\",\"Saskatchewan\",\"Saskatchewan\",\"Saskatchewan\",\"Saskatchewan\",\"Saskatchewan\",\"Saskatchewan\",\"Saskatchewan\",\"Saskatchewan\",\"Saskatchewan\",\"Saskatchewan\",\"Saskatchewan\",\"Saskatchewan\",\"Saskatchewan\",\"Saskatchewan\",\"Saskatchewan\",\"Saskatchewan\",\"Saskatchewan\",\"Saskatchewan\",\"Saskatchewan\",\"Saskatchewan\",\"Saskatchewan\",\"Saskatchewan\",\"Saskatchewan\",\"Saskatchewan\",\"Saskatchewan\",\"Saskatchewan\",\"Saskatchewan\",\"Saskatchewan\",\"Saskatchewan\",\"Saskatchewan\",\"Saskatchewan\",\"Saskatchewan\",\"Saskatchewan\",\"Saskatchewan\",\"Saskatchewan\",\"Saskatchewan\",\"Saskatchewan\",\"Saskatchewan\",\"Saskatchewan\",\"Saskatchewan\",\"Saskatchewan\",\"Saskatchewan\",\"Saskatchewan\",\"Saskatchewan\",\"Saskatchewan\",\"Saskatchewan\"]},\"selected\":{\"id\":\"4377\"},\"selection_policy\":{\"id\":\"4378\"}},\"id\":\"3932\",\"type\":\"ColumnDataSource\"},{\"attributes\":{\"fill_alpha\":{\"value\":0.1},\"fill_color\":{\"value\":\"rgb(31, 119, 180)\"},\"line_alpha\":{\"value\":0.1},\"line_color\":{\"value\":\"rgb(31, 119, 180)\"},\"line_width\":{\"value\":2},\"x\":{\"field\":\"date_recovered\"},\"y\":{\"field\":\"cumulative_recovered\"}},\"id\":\"4037\",\"type\":\"Circle\"},{\"attributes\":{\"fill_color\":{\"value\":\"rgb(31, 119, 180)\"},\"line_color\":{\"value\":\"rgb(31, 119, 180)\"},\"line_width\":{\"value\":2},\"x\":{\"field\":\"date_recovered\"},\"y\":{\"field\":\"cumulative_recovered\"}},\"id\":\"4036\",\"type\":\"Circle\"},{\"attributes\":{\"data_source\":{\"id\":\"3933\"},\"glyph\":{\"id\":\"4031\"},\"hover_glyph\":null,\"muted_glyph\":null,\"nonselection_glyph\":{\"id\":\"4032\"},\"selection_glyph\":null,\"view\":{\"id\":\"4034\"}},\"id\":\"4033\",\"type\":\"GlyphRenderer\"},{\"attributes\":{\"fill_alpha\":{\"value\":0.1},\"fill_color\":{\"value\":\"rgb(255, 127, 14)\"},\"line_alpha\":{\"value\":0.1},\"line_color\":{\"value\":\"rgb(255, 127, 14)\"},\"line_width\":{\"value\":2},\"x\":{\"field\":\"date_recovered\"},\"y\":{\"field\":\"cumulative_recovered\"}},\"id\":\"4047\",\"type\":\"Circle\"},{\"attributes\":{\"fill_color\":{\"value\":\"rgb(44, 160, 44)\"},\"line_color\":{\"value\":\"rgb(44, 160, 44)\"},\"line_width\":{\"value\":2},\"x\":{\"field\":\"date_recovered\"},\"y\":{\"field\":\"cumulative_recovered\"}},\"id\":\"4056\",\"type\":\"Circle\"},{\"attributes\":{},\"id\":\"4379\",\"type\":\"Selection\"},{\"attributes\":{\"fill_color\":{\"value\":\"rgb(174, 199, 232)\"},\"line_color\":{\"value\":\"rgb(174, 199, 232)\"},\"line_width\":{\"value\":2},\"x\":{\"field\":\"date_recovered\"},\"y\":{\"field\":\"cumulative_recovered\"}},\"id\":\"4041\",\"type\":\"Circle\"},{\"attributes\":{\"source\":{\"id\":\"3930\"}},\"id\":\"4084\",\"type\":\"CDSView\"},{\"attributes\":{\"line_color\":\"rgb(148, 103, 189)\",\"line_width\":2,\"x\":{\"field\":\"date_recovered\"},\"y\":{\"field\":\"cumulative_recovered\"}},\"id\":\"4006\",\"type\":\"Line\"},{\"attributes\":{\"callback\":null,\"renderers\":[{\"id\":\"3973\"}],\"tooltips\":[[\"Sales\",\"@cumulative_recovered\"]]},\"id\":\"4107\",\"type\":\"HoverTool\"},{\"attributes\":{\"bottom_units\":\"screen\",\"fill_alpha\":0.5,\"fill_color\":\"lightgrey\",\"left_units\":\"screen\",\"level\":\"overlay\",\"line_alpha\":1.0,\"line_color\":\"black\",\"line_dash\":[4,4],\"line_width\":2,\"render_mode\":\"css\",\"right_units\":\"screen\",\"top_units\":\"screen\"},\"id\":\"3957\",\"type\":\"BoxAnnotation\"},{\"attributes\":{\"data_source\":{\"id\":\"3927\"},\"glyph\":{\"id\":\"3996\"},\"hover_glyph\":null,\"muted_glyph\":null,\"nonselection_glyph\":{\"id\":\"3997\"},\"selection_glyph\":null,\"view\":{\"id\":\"3999\"}},\"id\":\"3998\",\"type\":\"GlyphRenderer\"},{\"attributes\":{\"data_source\":{\"id\":\"3930\"},\"glyph\":{\"id\":\"4081\"},\"hover_glyph\":null,\"muted_glyph\":null,\"nonselection_glyph\":{\"id\":\"4082\"},\"selection_glyph\":null,\"view\":{\"id\":\"4084\"}},\"id\":\"4083\",\"type\":\"GlyphRenderer\"},{\"attributes\":{\"fill_color\":{\"value\":\"rgb(196, 156, 148)\"},\"line_color\":{\"value\":\"rgb(196, 156, 148)\"},\"line_width\":{\"value\":2},\"x\":{\"field\":\"date_recovered\"},\"y\":{\"field\":\"cumulative_recovered\"}},\"id\":\"4091\",\"type\":\"Circle\"},{\"attributes\":{\"line_color\":\"rgb(255, 127, 14)\",\"line_width\":2,\"x\":{\"field\":\"date_recovered\"},\"y\":{\"field\":\"cumulative_recovered\"}},\"id\":\"3976\",\"type\":\"Line\"},{\"attributes\":{\"fill_alpha\":{\"value\":0.1},\"fill_color\":{\"value\":\"rgb(197, 176, 213)\"},\"line_alpha\":{\"value\":0.1},\"line_color\":{\"value\":\"rgb(197, 176, 213)\"},\"line_width\":{\"value\":2},\"x\":{\"field\":\"date_recovered\"},\"y\":{\"field\":\"cumulative_recovered\"}},\"id\":\"4082\",\"type\":\"Circle\"},{\"attributes\":{\"source\":{\"id\":\"3933\"}},\"id\":\"4034\",\"type\":\"CDSView\"},{\"attributes\":{\"source\":{\"id\":\"3924\"}},\"id\":\"4054\",\"type\":\"CDSView\"},{\"attributes\":{\"source\":{\"id\":\"3922\"}},\"id\":\"3974\",\"type\":\"CDSView\"},{\"attributes\":{\"data_source\":{\"id\":\"3924\"},\"glyph\":{\"id\":\"4051\"},\"hover_glyph\":null,\"muted_glyph\":null,\"nonselection_glyph\":{\"id\":\"4052\"},\"selection_glyph\":null,\"view\":{\"id\":\"4054\"}},\"id\":\"4053\",\"type\":\"GlyphRenderer\"},{\"attributes\":{\"line_alpha\":0.1,\"line_color\":\"rgb(255, 152, 150)\",\"line_width\":2,\"x\":{\"field\":\"date_recovered\"},\"y\":{\"field\":\"cumulative_recovered\"}},\"id\":\"4002\",\"type\":\"Line\"},{\"attributes\":{\"line_alpha\":0.1,\"line_color\":\"rgb(174, 199, 232)\",\"line_width\":2,\"x\":{\"field\":\"date_recovered\"},\"y\":{\"field\":\"cumulative_recovered\"}},\"id\":\"3972\",\"type\":\"Line\"},{\"attributes\":{\"source\":{\"id\":\"3928\"}},\"id\":\"4004\",\"type\":\"CDSView\"},{\"attributes\":{\"fill_color\":{\"value\":\"rgb(152, 223, 138)\"},\"line_color\":{\"value\":\"rgb(152, 223, 138)\"},\"line_width\":{\"value\":2},\"x\":{\"field\":\"date_recovered\"},\"y\":{\"field\":\"cumulative_recovered\"}},\"id\":\"4061\",\"type\":\"Circle\"},{\"attributes\":{\"callback\":null,\"renderers\":[{\"id\":\"3968\"}],\"tooltips\":[[\"Sales\",\"@cumulative_recovered\"]]},\"id\":\"4105\",\"type\":\"HoverTool\"},{\"attributes\":{\"fill_alpha\":{\"value\":0.1},\"fill_color\":{\"value\":\"rgb(255, 187, 120)\"},\"line_alpha\":{\"value\":0.1},\"line_color\":{\"value\":\"rgb(255, 187, 120)\"},\"line_width\":{\"value\":2},\"x\":{\"field\":\"date_recovered\"},\"y\":{\"field\":\"cumulative_recovered\"}},\"id\":\"4052\",\"type\":\"Circle\"},{\"attributes\":{\"source\":{\"id\":\"3931\"}},\"id\":\"4089\",\"type\":\"CDSView\"},{\"attributes\":{\"line_color\":\"rgb(197, 176, 213)\",\"line_width\":2,\"x\":{\"field\":\"date_recovered\"},\"y\":{\"field\":\"cumulative_recovered\"}},\"id\":\"4011\",\"type\":\"Line\"},{\"attributes\":{\"data_source\":{\"id\":\"3928\"},\"glyph\":{\"id\":\"4001\"},\"hover_glyph\":null,\"muted_glyph\":null,\"nonselection_glyph\":{\"id\":\"4002\"},\"selection_glyph\":null,\"view\":{\"id\":\"4004\"}},\"id\":\"4003\",\"type\":\"GlyphRenderer\"},{\"attributes\":{\"data_source\":{\"id\":\"3931\"},\"glyph\":{\"id\":\"4086\"},\"hover_glyph\":null,\"muted_glyph\":null,\"nonselection_glyph\":{\"id\":\"4087\"},\"selection_glyph\":null,\"view\":{\"id\":\"4089\"}},\"id\":\"4088\",\"type\":\"GlyphRenderer\"},{\"attributes\":{\"fill_alpha\":{\"value\":0.1},\"fill_color\":{\"value\":\"rgb(44, 160, 44)\"},\"line_alpha\":{\"value\":0.1},\"line_color\":{\"value\":\"rgb(44, 160, 44)\"},\"line_width\":{\"value\":2},\"x\":{\"field\":\"date_recovered\"},\"y\":{\"field\":\"cumulative_recovered\"}},\"id\":\"4057\",\"type\":\"Circle\"},{\"attributes\":{\"line_color\":\"rgb(255, 187, 120)\",\"line_width\":2,\"x\":{\"field\":\"date_recovered\"},\"y\":{\"field\":\"cumulative_recovered\"}},\"id\":\"3981\",\"type\":\"Line\"},{\"attributes\":{\"data\":{\"cumulative_recovered\":{\"__ndarray__\":\"AAAAAAAAAAAAAAAAAAAAAAAAAAAAAAAAAAAAAAAAAAAAAAAAAAAAAAAAAAAAAAAAAAAAAAAAAAAAAAAAAAAAAAAAAAAAAAAAAAAAAAAAAAAAAAAAAAAAAAAAAAAAAAAAAAAAAAAAAAAAAAAAAAAAAAAAAAAAAAAAAAAAAAAAAAAAAAAAAAAAAAAAAAAAAAAAAAAAAAAAAAAAAAAAAAAAAAAAAAAAAAAAAAAAAAAAAAAAAAAAAAAAAAAAAAAAAAAAAAAAAAAAAAAAAAAAAAAAAAAAAAAAAAAAAAAAAAAAAAAAAAAAAAAAAAAAAAAAAAAAAAAAAAAAAAAAAAAAAAAAAAAAAAAAAAAAAAAAAAAAAAAAAAAAAAAAAAAAAAAAAPA/AAAAAAAA8D8AAAAAAADwPwAAAAAAAPA/AAAAAAAA8D8AAAAAAADwPwAAAAAAAPA/AAAAAAAA8D8AAAAAAADwPwAAAAAAAD1AAAAAAAAAPUAAAAAAAAA9QA==\",\"dtype\":\"float64\",\"shape\":[47]},\"date_recovered\":{\"__ndarray__\":\"AAAAIGsDd0IAAMCFvQN3QgAAgOsPBHdCAABAUWIEd0IAAAC3tAR3QgAAwBwHBXdCAACAglkFd0IAAEDoqwV3QgAAAE7+BXdCAADAs1AGd0IAAIAZowZ3QgAAQH/1BndCAAAA5UcHd0IAAMBKmgd3QgAAgLDsB3dCAABAFj8Id0IAAAB8kQh3QgAAwOHjCHdCAACARzYJd0IAAECtiAl3QgAAABPbCXdCAADAeC0Kd0IAAIDefwp3QgAAQETSCndCAAAAqiQLd0IAAMAPdwt3QgAAgHXJC3dCAABA2xsMd0IAAABBbgx3QgAAwKbADHdCAACADBMNd0IAAEByZQ13QgAAANi3DXdCAADAPQoOd0IAAICjXA53QgAAQAmvDndCAAAAbwEPd0IAAMDUUw93QgAAgDqmD3dCAABAoPgPd0IAAAAGSxB3QgAAwGudEHdCAACA0e8Qd0IAAEA3QhF3QgAAAJ2UEXdCAADAAucRd0IAAIBoORJ3Qg==\",\"dtype\":\"float64\",\"shape\":[47]},\"index\":[422,421,420,419,418,417,416,415,414,413,412,411,410,409,408,407,406,405,404,403,402,401,400,399,398,397,396,395,394,393,392,391,390,389,388,387,386,385,384,383,382,381,380,379,378,377,376],\"province\":[\"Quebec\",\"Quebec\",\"Quebec\",\"Quebec\",\"Quebec\",\"Quebec\",\"Quebec\",\"Quebec\",\"Quebec\",\"Quebec\",\"Quebec\",\"Quebec\",\"Quebec\",\"Quebec\",\"Quebec\",\"Quebec\",\"Quebec\",\"Quebec\",\"Quebec\",\"Quebec\",\"Quebec\",\"Quebec\",\"Quebec\",\"Quebec\",\"Quebec\",\"Quebec\",\"Quebec\",\"Quebec\",\"Quebec\",\"Quebec\",\"Quebec\",\"Quebec\",\"Quebec\",\"Quebec\",\"Quebec\",\"Quebec\",\"Quebec\",\"Quebec\",\"Quebec\",\"Quebec\",\"Quebec\",\"Quebec\",\"Quebec\",\"Quebec\",\"Quebec\",\"Quebec\",\"Quebec\"]},\"selected\":{\"id\":\"4375\"},\"selection_policy\":{\"id\":\"4376\"}},\"id\":\"3931\",\"type\":\"ColumnDataSource\"},{\"attributes\":{\"fill_color\":{\"value\":\"rgb(227, 119, 194)\"},\"line_color\":{\"value\":\"rgb(227, 119, 194)\"},\"line_width\":{\"value\":2},\"x\":{\"field\":\"date_recovered\"},\"y\":{\"field\":\"cumulative_recovered\"}},\"id\":\"4096\",\"type\":\"Circle\"},{\"attributes\":{\"callback\":null,\"renderers\":[{\"id\":\"4018\"}],\"tooltips\":[[\"Sales\",\"@cumulative_recovered\"]]},\"id\":\"4125\",\"type\":\"HoverTool\"},{\"attributes\":{\"data_source\":{\"id\":\"3922\"},\"glyph\":{\"id\":\"3971\"},\"hover_glyph\":null,\"muted_glyph\":null,\"nonselection_glyph\":{\"id\":\"3972\"},\"selection_glyph\":null,\"view\":{\"id\":\"3974\"}},\"id\":\"3973\",\"type\":\"GlyphRenderer\"},{\"attributes\":{\"data\":{\"cumulative_recovered\":{\"__ndarray__\":\"AAAAAAAAAAAAAAAAAAAAAAAAAAAAAAAAAAAAAAAAAAAAAAAAAAAAAAAAAAAAAAAAAAAAAAAAAAAAAAAAAAAAAAAAAAAAAAAAAAAAAAAAAAAAAAAAAAAAAAAAAAAAAAAAAAAAAAAAAAAAAAAAAAAAAAAAAAAAAAAAAAAAAAAAAAAAAAAAAAAAAAAAAAAAAAAAAAAAAAAAAAAAAAAAAAAAAAAAAAAAAAAAAAAAAAAAAAAAAAAAAAAAAAAAAAAAAAAAAAAAAAAAAAAAAAAAAAAAAAAAAAAAAAAAAAAAAAAAAAAAAAAAAAAAAAAAAAAAAAAAAAAAAAAAAAAAAAAAAAAAAAAAAAAAAAAAAAAAAAAAAAAAAAAAAAAAAAAAAAAAAAAAAAAAAAAAAAAAAAAAAAAAAAAAAAAAAAAAAAAAAAAAAAAAAAAAAAAAAAAAAAAAAAAAAAAAAAAAAAAAAAAAAAAAAAAAAAAAAPA/AAAAAAAAEEAAAAAAAAAQQA==\",\"dtype\":\"float64\",\"shape\":[47]},\"date_recovered\":{\"__ndarray__\":\"AAAAIGsDd0IAAMCFvQN3QgAAgOsPBHdCAABAUWIEd0IAAAC3tAR3QgAAwBwHBXdCAACAglkFd0IAAEDoqwV3QgAAAE7+BXdCAADAs1AGd0IAAIAZowZ3QgAAQH/1BndCAAAA5UcHd0IAAMBKmgd3QgAAgLDsB3dCAABAFj8Id0IAAAB8kQh3QgAAwOHjCHdCAACARzYJd0IAAECtiAl3QgAAABPbCXdCAADAeC0Kd0IAAIDefwp3QgAAQETSCndCAAAAqiQLd0IAAMAPdwt3QgAAgHXJC3dCAABA2xsMd0IAAABBbgx3QgAAwKbADHdCAACADBMNd0IAAEByZQ13QgAAANi3DXdCAADAPQoOd0IAAICjXA53QgAAQAmvDndCAAAAbwEPd0IAAMDUUw93QgAAgDqmD3dCAABAoPgPd0IAAAAGSxB3QgAAwGudEHdCAACA0e8Qd0IAAEA3QhF3QgAAAJ2UEXdCAADAAucRd0IAAIBoORJ3Qg==\",\"dtype\":\"float64\",\"shape\":[47]},\"index\":[234,233,232,231,230,229,228,227,226,225,224,223,222,221,220,219,218,217,216,215,214,213,212,211,210,209,208,207,206,205,204,203,202,201,200,199,198,197,196,195,194,193,192,191,190,189,188],\"province\":[\"NL\",\"NL\",\"NL\",\"NL\",\"NL\",\"NL\",\"NL\",\"NL\",\"NL\",\"NL\",\"NL\",\"NL\",\"NL\",\"NL\",\"NL\",\"NL\",\"NL\",\"NL\",\"NL\",\"NL\",\"NL\",\"NL\",\"NL\",\"NL\",\"NL\",\"NL\",\"NL\",\"NL\",\"NL\",\"NL\",\"NL\",\"NL\",\"NL\",\"NL\",\"NL\",\"NL\",\"NL\",\"NL\",\"NL\",\"NL\",\"NL\",\"NL\",\"NL\",\"NL\",\"NL\",\"NL\",\"NL\"]},\"selected\":{\"id\":\"4361\"},\"selection_policy\":{\"id\":\"4362\"}},\"id\":\"3924\",\"type\":\"ColumnDataSource\"},{\"attributes\":{\"source\":{\"id\":\"3932\"}},\"id\":\"4024\",\"type\":\"CDSView\"},{\"attributes\":{\"fill_alpha\":{\"value\":0.1},\"fill_color\":{\"value\":\"rgb(140, 86, 75)\"},\"line_alpha\":{\"value\":0.1},\"line_color\":{\"value\":\"rgb(140, 86, 75)\"},\"line_width\":{\"value\":2},\"x\":{\"field\":\"date_recovered\"},\"y\":{\"field\":\"cumulative_recovered\"}},\"id\":\"4087\",\"type\":\"Circle\"},{\"attributes\":{\"callback\":null,\"renderers\":[{\"id\":\"3993\"}],\"tooltips\":[[\"Sales\",\"@cumulative_recovered\"]]},\"id\":\"4115\",\"type\":\"HoverTool\"},{\"attributes\":{\"line_alpha\":0.1,\"line_color\":\"rgb(247, 182, 210)\",\"line_width\":2,\"x\":{\"field\":\"date_recovered\"},\"y\":{\"field\":\"cumulative_recovered\"}},\"id\":\"4032\",\"type\":\"Line\"},{\"attributes\":{\"fill_color\":{\"value\":\"rgb(214, 39, 40)\"},\"line_color\":{\"value\":\"rgb(214, 39, 40)\"},\"line_width\":{\"value\":2},\"x\":{\"field\":\"date_recovered\"},\"y\":{\"field\":\"cumulative_recovered\"}},\"id\":\"4066\",\"type\":\"Circle\"},{\"attributes\":{\"callback\":null,\"renderers\":[{\"id\":\"4033\"}],\"tooltips\":[[\"Sales\",\"@cumulative_recovered\"]]},\"id\":\"4131\",\"type\":\"HoverTool\"},{\"attributes\":{},\"id\":\"4372\",\"type\":\"UnionRenderers\"},{\"attributes\":{\"line_alpha\":0.1,\"line_color\":\"rgb(148, 103, 189)\",\"line_width\":2,\"x\":{\"field\":\"date_recovered\"},\"y\":{\"field\":\"cumulative_recovered\"}},\"id\":\"4007\",\"type\":\"Line\"},{\"attributes\":{\"source\":{\"id\":\"3925\"}},\"id\":\"4059\",\"type\":\"CDSView\"},{\"attributes\":{\"source\":{\"id\":\"3929\"}},\"id\":\"4009\",\"type\":\"CDSView\"},{\"attributes\":{\"source\":{\"id\":\"3927\"}},\"id\":\"4099\",\"type\":\"CDSView\"},{\"attributes\":{\"callback\":null,\"renderers\":[{\"id\":\"4023\"}],\"tooltips\":[[\"Sales\",\"@cumulative_recovered\"]]},\"id\":\"4127\",\"type\":\"HoverTool\"},{\"attributes\":{\"line_alpha\":0.1,\"line_color\":\"rgb(255, 127, 14)\",\"line_width\":2,\"x\":{\"field\":\"date_recovered\"},\"y\":{\"field\":\"cumulative_recovered\"}},\"id\":\"3977\",\"type\":\"Line\"},{\"attributes\":{\"source\":{\"id\":\"3923\"}},\"id\":\"3979\",\"type\":\"CDSView\"},{\"attributes\":{\"fill_color\":{\"value\":\"rgb(255, 152, 150)\"},\"line_color\":{\"value\":\"rgb(255, 152, 150)\"},\"line_width\":{\"value\":2},\"x\":{\"field\":\"date_recovered\"},\"y\":{\"field\":\"cumulative_recovered\"}},\"id\":\"4071\",\"type\":\"Circle\"},{\"attributes\":{\"source\":{\"id\":\"3932\"}},\"id\":\"4094\",\"type\":\"CDSView\"},{\"attributes\":{},\"id\":\"4377\",\"type\":\"Selection\"},{\"attributes\":{\"data_source\":{\"id\":\"3925\"},\"glyph\":{\"id\":\"4056\"},\"hover_glyph\":null,\"muted_glyph\":null,\"nonselection_glyph\":{\"id\":\"4057\"},\"selection_glyph\":null,\"view\":{\"id\":\"4059\"}},\"id\":\"4058\",\"type\":\"GlyphRenderer\"},{\"attributes\":{\"line_color\":\"rgb(247, 182, 210)\",\"line_width\":2,\"x\":{\"field\":\"date_recovered\"},\"y\":{\"field\":\"cumulative_recovered\"}},\"id\":\"4031\",\"type\":\"Line\"},{\"attributes\":{\"data_source\":{\"id\":\"3929\"},\"glyph\":{\"id\":\"4006\"},\"hover_glyph\":null,\"muted_glyph\":null,\"nonselection_glyph\":{\"id\":\"4007\"},\"selection_glyph\":null,\"view\":{\"id\":\"4009\"}},\"id\":\"4008\",\"type\":\"GlyphRenderer\"},{\"attributes\":{\"data_source\":{\"id\":\"3932\"},\"glyph\":{\"id\":\"4091\"},\"hover_glyph\":null,\"muted_glyph\":null,\"nonselection_glyph\":{\"id\":\"4092\"},\"selection_glyph\":null,\"view\":{\"id\":\"4094\"}},\"id\":\"4093\",\"type\":\"GlyphRenderer\"},{\"attributes\":{\"line_color\":\"rgb(44, 160, 44)\",\"line_width\":2,\"x\":{\"field\":\"date_recovered\"},\"y\":{\"field\":\"cumulative_recovered\"}},\"id\":\"3986\",\"type\":\"Line\"},{\"attributes\":{\"source\":{\"id\":\"3926\"}},\"id\":\"4064\",\"type\":\"CDSView\"},{\"attributes\":{\"fill_color\":{\"value\":\"rgb(247, 182, 210)\"},\"line_color\":{\"value\":\"rgb(247, 182, 210)\"},\"line_width\":{\"value\":2},\"x\":{\"field\":\"date_recovered\"},\"y\":{\"field\":\"cumulative_recovered\"}},\"id\":\"4101\",\"type\":\"Circle\"},{\"attributes\":{\"data_source\":{\"id\":\"3923\"},\"glyph\":{\"id\":\"3976\"},\"hover_glyph\":null,\"muted_glyph\":null,\"nonselection_glyph\":{\"id\":\"3977\"},\"selection_glyph\":null,\"view\":{\"id\":\"3979\"}},\"id\":\"3978\",\"type\":\"GlyphRenderer\"},{\"attributes\":{\"data\":{\"cumulative_recovered\":{\"__ndarray__\":\"AAAAAAAAAAAAAAAAAAAAAAAAAAAAAAAAAAAAAAAAAAAAAAAAAAAAAAAAAAAAAAAAAAAAAAAAAAAAAAAAAAAAAAAAAAAAAAAAAAAAAAAAAAAAAAAAAAAAAAAAAAAAAAAAAAAAAAAAAAAAAAAAAAAAAAAAAAAAAAAAAAAAAAAAAAAAAAAAAAAAAAAAAAAAAAAAAAAAAAAAAAAAAAAAAAAAAAAAAAAAAAAAAAAAAAAAAAAAAAAAAAAAAAAAAAAAAAAAAAAAAAAAAAAAAAAAAAAAAAAAAAAAAAAAAAAAAAAAAAAAAAAAAAAAAAAAAAAAAAAAAAAAAAAAAAAAAAAAAAAAAAAAAAAAAAAAAAAAAAAAAAAAAAAAAAAAAAAAAAAAAAAAAAAAAAAAAAAAAAAAAAAAAAAAAAAAAAAAAAAAAAAAAAAAAAAAAAAAAAAAAAAAAAAAAAAAAAAAAAAAAAAAAAAAAAAAAAAAAAAAAAAAAAAAAAAAAAAAAAAAAA==\",\"dtype\":\"float64\",\"shape\":[47]},\"date_recovered\":{\"__ndarray__\":\"AAAAIGsDd0IAAMCFvQN3QgAAgOsPBHdCAABAUWIEd0IAAAC3tAR3QgAAwBwHBXdCAACAglkFd0IAAEDoqwV3QgAAAE7+BXdCAADAs1AGd0IAAIAZowZ3QgAAQH/1BndCAAAA5UcHd0IAAMBKmgd3QgAAgLDsB3dCAABAFj8Id0IAAAB8kQh3QgAAwOHjCHdCAACARzYJd0IAAECtiAl3QgAAABPbCXdCAADAeC0Kd0IAAIDefwp3QgAAQETSCndCAAAAqiQLd0IAAMAPdwt3QgAAgHXJC3dCAABA2xsMd0IAAABBbgx3QgAAwKbADHdCAACADBMNd0IAAEByZQ13QgAAANi3DXdCAADAPQoOd0IAAICjXA53QgAAQAmvDndCAAAAbwEPd0IAAMDUUw93QgAAgDqmD3dCAABAoPgPd0IAAAAGSxB3QgAAwGudEHdCAACA0e8Qd0IAAEA3QhF3QgAAAJ2UEXdCAADAAucRd0IAAIBoORJ3Qg==\",\"dtype\":\"float64\",\"shape\":[47]},\"index\":[563,562,561,560,559,558,557,556,555,554,553,552,551,550,549,548,547,546,545,544,543,542,541,540,539,538,537,536,535,534,533,532,531,530,529,528,527,526,525,524,523,522,521,520,519,518,517],\"province\":[\"Nunavut\",\"Nunavut\",\"Nunavut\",\"Nunavut\",\"Nunavut\",\"Nunavut\",\"Nunavut\",\"Nunavut\",\"Nunavut\",\"Nunavut\",\"Nunavut\",\"Nunavut\",\"Nunavut\",\"Nunavut\",\"Nunavut\",\"Nunavut\",\"Nunavut\",\"Nunavut\",\"Nunavut\",\"Nunavut\",\"Nunavut\",\"Nunavut\",\"Nunavut\",\"Nunavut\",\"Nunavut\",\"Nunavut\",\"Nunavut\",\"Nunavut\",\"Nunavut\",\"Nunavut\",\"Nunavut\",\"Nunavut\",\"Nunavut\",\"Nunavut\",\"Nunavut\",\"Nunavut\",\"Nunavut\",\"Nunavut\",\"Nunavut\",\"Nunavut\",\"Nunavut\",\"Nunavut\",\"Nunavut\",\"Nunavut\",\"Nunavut\",\"Nunavut\",\"Nunavut\"]},\"selected\":{\"id\":\"4369\"},\"selection_policy\":{\"id\":\"4370\"}},\"id\":\"3928\",\"type\":\"ColumnDataSource\"},{\"attributes\":{\"fill_alpha\":{\"value\":0.1},\"fill_color\":{\"value\":\"rgb(196, 156, 148)\"},\"line_alpha\":{\"value\":0.1},\"line_color\":{\"value\":\"rgb(196, 156, 148)\"},\"line_width\":{\"value\":2},\"x\":{\"field\":\"date_recovered\"},\"y\":{\"field\":\"cumulative_recovered\"}},\"id\":\"4092\",\"type\":\"Circle\"},{\"attributes\":{\"data_source\":{\"id\":\"3926\"},\"glyph\":{\"id\":\"4061\"},\"hover_glyph\":null,\"muted_glyph\":null,\"nonselection_glyph\":{\"id\":\"4062\"},\"selection_glyph\":null,\"view\":{\"id\":\"4064\"}},\"id\":\"4063\",\"type\":\"GlyphRenderer\"},{\"attributes\":{\"data\":{\"cumulative_recovered\":{\"__ndarray__\":\"AAAAAAAAAAAAAAAAAAAAAAAAAAAAAAAAAAAAAAAAAAAAAAAAAAAAAAAAAAAAAAAAAAAAAAAAAAAAAAAAAAAAAAAAAAAAAAAAAAAAAAAAAAAAAAAAAAAAAAAAAAAAAAAAAAAAAAAAAAAAAAAAAAAAAAAAAAAAAAAAAAAAAAAAAAAAAAAAAAAAAAAAAAAAAAAAAAAAAAAAAAAAAAAAAAAAAAAAAAAAAAAAAAAAAAAAAAAAAAAAAAAAAAAAAAAAAAAAAAAAAAAAAAAAAAAAAAAAAAAAAAAAAAAAAAAAAAAAAAAAAAAAAAAAAAAAAAAAAAAAAAAAAAAAAAAAAAAAAAAAAAAAAAAAAAAAAAAAAAAAAAAAAAAAAAAAAAAAAAAAAAAAAAAAAAAAAAAAAAAAAAAAAAAAAAAAAAAAAAAAAAAAAAAAAAAAAAAAAAAAAAAAAAAAAAAAAAAAAAAAAAAAAAAAAAAAAAAAAPA/AAAAAAAAAEAAAAAAAAAAQA==\",\"dtype\":\"float64\",\"shape\":[47]},\"date_recovered\":{\"__ndarray__\":\"AAAAIGsDd0IAAMCFvQN3QgAAgOsPBHdCAABAUWIEd0IAAAC3tAR3QgAAwBwHBXdCAACAglkFd0IAAEDoqwV3QgAAAE7+BXdCAADAs1AGd0IAAIAZowZ3QgAAQH/1BndCAAAA5UcHd0IAAMBKmgd3QgAAgLDsB3dCAABAFj8Id0IAAAB8kQh3QgAAwOHjCHdCAACARzYJd0IAAECtiAl3QgAAABPbCXdCAADAeC0Kd0IAAIDefwp3QgAAQETSCndCAAAAqiQLd0IAAMAPdwt3QgAAgHXJC3dCAABA2xsMd0IAAABBbgx3QgAAwKbADHdCAACADBMNd0IAAEByZQ13QgAAANi3DXdCAADAPQoOd0IAAICjXA53QgAAQAmvDndCAAAAbwEPd0IAAMDUUw93QgAAgDqmD3dCAABAoPgPd0IAAAAGSxB3QgAAwGudEHdCAACA0e8Qd0IAAEA3QhF3QgAAAJ2UEXdCAADAAucRd0IAAIBoORJ3Qg==\",\"dtype\":\"float64\",\"shape\":[47]},\"index\":[187,186,185,184,183,182,181,180,179,178,177,176,175,174,173,172,171,170,169,168,167,166,165,164,163,162,161,160,159,158,157,156,155,154,153,152,151,150,149,148,147,146,145,144,143,142,141],\"province\":[\"New Brunswick\",\"New Brunswick\",\"New Brunswick\",\"New Brunswick\",\"New Brunswick\",\"New Brunswick\",\"New Brunswick\",\"New Brunswick\",\"New Brunswick\",\"New Brunswick\",\"New Brunswick\",\"New Brunswick\",\"New Brunswick\",\"New Brunswick\",\"New Brunswick\",\"New Brunswick\",\"New Brunswick\",\"New Brunswick\",\"New Brunswick\",\"New Brunswick\",\"New Brunswick\",\"New Brunswick\",\"New Brunswick\",\"New Brunswick\",\"New Brunswick\",\"New Brunswick\",\"New Brunswick\",\"New Brunswick\",\"New Brunswick\",\"New Brunswick\",\"New Brunswick\",\"New Brunswick\",\"New Brunswick\",\"New Brunswick\",\"New Brunswick\",\"New Brunswick\",\"New Brunswick\",\"New Brunswick\",\"New Brunswick\",\"New Brunswick\",\"New Brunswick\",\"New Brunswick\",\"New Brunswick\",\"New Brunswick\",\"New Brunswick\",\"New Brunswick\",\"New Brunswick\"]},\"selected\":{\"id\":\"4365\"},\"selection_policy\":{\"id\":\"4366\"}},\"id\":\"3926\",\"type\":\"ColumnDataSource\"},{\"attributes\":{\"line_alpha\":0.1,\"line_color\":\"rgb(255, 187, 120)\",\"line_width\":2,\"x\":{\"field\":\"date_recovered\"},\"y\":{\"field\":\"cumulative_recovered\"}},\"id\":\"3982\",\"type\":\"Line\"},{\"attributes\":{\"data\":{\"cumulative_recovered\":{\"__ndarray__\":\"AAAAAAAA8D8AAAAAAADwPwAAAAAAAPA/AAAAAAAA8D8AAAAAAADwPwAAAAAAAPA/AAAAAAAA8D8AAAAAAADwPwAAAAAAAABAAAAAAAAACEAAAAAAAAAIQAAAAAAAAAhAAAAAAAAACEAAAAAAAAAIQAAAAAAAAAhAAAAAAAAACEAAAAAAAAAIQAAAAAAAAAhAAAAAAAAACEAAAAAAAAAIQAAAAAAAAAhAAAAAAAAACEAAAAAAAAAQQAAAAAAAABBAAAAAAAAAEEAAAAAAAAAQQAAAAAAAABRAAAAAAAAAFEAAAAAAAAAUQAAAAAAAABRAAAAAAAAAFEAAAAAAAAAUQAAAAAAAABRAAAAAAAAAFEAAAAAAAAAUQAAAAAAAABRAAAAAAAAAFEAAAAAAAAAUQAAAAAAAABhAAAAAAAAAIEAAAAAAAAAgQAAAAAAAACBAAAAAAAAAIEAAAAAAAAAgQAAAAAAAACBAAAAAAAAAIEAAAAAAAAAgQA==\",\"dtype\":\"float64\",\"shape\":[47]},\"date_recovered\":{\"__ndarray__\":\"AAAAIGsDd0IAAMCFvQN3QgAAgOsPBHdCAABAUWIEd0IAAAC3tAR3QgAAwBwHBXdCAACAglkFd0IAAEDoqwV3QgAAAE7+BXdCAADAs1AGd0IAAIAZowZ3QgAAQH/1BndCAAAA5UcHd0IAAMBKmgd3QgAAgLDsB3dCAABAFj8Id0IAAAB8kQh3QgAAwOHjCHdCAACARzYJd0IAAECtiAl3QgAAABPbCXdCAADAeC0Kd0IAAIDefwp3QgAAQETSCndCAAAAqiQLd0IAAMAPdwt3QgAAgHXJC3dCAABA2xsMd0IAAABBbgx3QgAAwKbADHdCAACADBMNd0IAAEByZQ13QgAAANi3DXdCAADAPQoOd0IAAICjXA53QgAAQAmvDndCAAAAbwEPd0IAAMDUUw93QgAAgDqmD3dCAABAoPgPd0IAAAAGSxB3QgAAwGudEHdCAACA0e8Qd0IAAEA3QhF3QgAAAJ2UEXdCAADAAucRd0IAAIBoORJ3Qg==\",\"dtype\":\"float64\",\"shape\":[47]},\"index\":[328,327,326,325,324,323,322,321,320,319,318,317,316,315,314,313,312,311,310,309,308,307,306,305,304,303,302,301,300,299,298,297,296,295,294,293,292,291,290,289,288,287,286,285,284,283,282],\"province\":[\"Ontario\",\"Ontario\",\"Ontario\",\"Ontario\",\"Ontario\",\"Ontario\",\"Ontario\",\"Ontario\",\"Ontario\",\"Ontario\",\"Ontario\",\"Ontario\",\"Ontario\",\"Ontario\",\"Ontario\",\"Ontario\",\"Ontario\",\"Ontario\",\"Ontario\",\"Ontario\",\"Ontario\",\"Ontario\",\"Ontario\",\"Ontario\",\"Ontario\",\"Ontario\",\"Ontario\",\"Ontario\",\"Ontario\",\"Ontario\",\"Ontario\",\"Ontario\",\"Ontario\",\"Ontario\",\"Ontario\",\"Ontario\",\"Ontario\",\"Ontario\",\"Ontario\",\"Ontario\",\"Ontario\",\"Ontario\",\"Ontario\",\"Ontario\",\"Ontario\",\"Ontario\",\"Ontario\"]},\"selected\":{\"id\":\"4371\"},\"selection_policy\":{\"id\":\"4372\"}},\"id\":\"3929\",\"type\":\"ColumnDataSource\"},{\"attributes\":{\"data\":{\"cumulative_recovered\":{\"__ndarray__\":\"AAAAAAAAAAAAAAAAAAAAAAAAAAAAAAAAAAAAAAAAAAAAAAAAAAAAAAAAAAAAAAAAAAAAAAAAAAAAAAAAAAAAAAAAAAAAAAAAAAAAAAAAAAAAAAAAAAAAAAAAAAAAAAAAAAAAAAAAAAAAAAAAAAAAAAAAAAAAAAAAAAAAAAAAAAAAAAAAAAAAAAAAAAAAAAAAAAAAAAAAAAAAAAAAAAAAAAAAAAAAAAAAAAAAAAAAAAAAAAAAAAAAAAAAAAAAAAAAAAAAAAAAAAAAAAAAAAAAAAAAAAAAAAAAAAAAAAAAAAAAAAAAAAAAAAAAAAAAAAAAAAAAAAAAAAAAAAAAAAAAAAAAAAAAAAAAAAAAAAAAAAAAAAAAAAAAAAAAAAAAAAAAAAAAAAAAAAAAAAAAAAAAAAAAAAAAAAAAAAAAAAAAAAAAAAAAAAAAAAAAAAAAAAAAAAAAAAAAAAAAAAAAAAAAAAAAAAAAAAAAAAAAAAAAAAAAAAAAAAAAAA==\",\"dtype\":\"float64\",\"shape\":[47]},\"date_recovered\":{\"__ndarray__\":\"AAAAIGsDd0IAAMCFvQN3QgAAgOsPBHdCAABAUWIEd0IAAAC3tAR3QgAAwBwHBXdCAACAglkFd0IAAEDoqwV3QgAAAE7+BXdCAADAs1AGd0IAAIAZowZ3QgAAQH/1BndCAAAA5UcHd0IAAMBKmgd3QgAAgLDsB3dCAABAFj8Id0IAAAB8kQh3QgAAwOHjCHdCAACARzYJd0IAAECtiAl3QgAAABPbCXdCAADAeC0Kd0IAAIDefwp3QgAAQETSCndCAAAAqiQLd0IAAMAPdwt3QgAAgHXJC3dCAABA2xsMd0IAAABBbgx3QgAAwKbADHdCAACADBMNd0IAAEByZQ13QgAAANi3DXdCAADAPQoOd0IAAICjXA53QgAAQAmvDndCAAAAbwEPd0IAAMDUUw93QgAAgDqmD3dCAABAoPgPd0IAAAAGSxB3QgAAwGudEHdCAACA0e8Qd0IAAEA3QhF3QgAAAJ2UEXdCAADAAucRd0IAAIBoORJ3Qg==\",\"dtype\":\"float64\",\"shape\":[47]},\"index\":[516,515,514,513,512,511,510,509,508,507,506,505,504,503,502,501,500,499,498,497,496,495,494,493,492,491,490,489,488,487,486,485,484,483,482,481,480,479,478,477,476,475,474,473,472,471,470],\"province\":[\"NWT\",\"NWT\",\"NWT\",\"NWT\",\"NWT\",\"NWT\",\"NWT\",\"NWT\",\"NWT\",\"NWT\",\"NWT\",\"NWT\",\"NWT\",\"NWT\",\"NWT\",\"NWT\",\"NWT\",\"NWT\",\"NWT\",\"NWT\",\"NWT\",\"NWT\",\"NWT\",\"NWT\",\"NWT\",\"NWT\",\"NWT\",\"NWT\",\"NWT\",\"NWT\",\"NWT\",\"NWT\",\"NWT\",\"NWT\",\"NWT\",\"NWT\",\"NWT\",\"NWT\",\"NWT\",\"NWT\",\"NWT\",\"NWT\",\"NWT\",\"NWT\",\"NWT\",\"NWT\",\"NWT\"]},\"selected\":{\"id\":\"4363\"},\"selection_policy\":{\"id\":\"4364\"}},\"id\":\"3925\",\"type\":\"ColumnDataSource\"},{\"attributes\":{\"line_color\":\"rgb(140, 86, 75)\",\"line_width\":2,\"x\":{\"field\":\"date_recovered\"},\"y\":{\"field\":\"cumulative_recovered\"}},\"id\":\"4016\",\"type\":\"Line\"},{\"attributes\":{\"fill_alpha\":{\"value\":0.1},\"fill_color\":{\"value\":\"rgb(152, 223, 138)\"},\"line_alpha\":{\"value\":0.1},\"line_color\":{\"value\":\"rgb(152, 223, 138)\"},\"line_width\":{\"value\":2},\"x\":{\"field\":\"date_recovered\"},\"y\":{\"field\":\"cumulative_recovered\"}},\"id\":\"4062\",\"type\":\"Circle\"},{\"attributes\":{\"children\":[{\"id\":\"3934\"}]},\"id\":\"4133\",\"type\":\"Row\"},{\"attributes\":{\"source\":{\"id\":\"3930\"}},\"id\":\"4014\",\"type\":\"CDSView\"},{\"attributes\":{\"line_alpha\":0.1,\"line_color\":\"rgb(197, 176, 213)\",\"line_width\":2,\"x\":{\"field\":\"date_recovered\"},\"y\":{\"field\":\"cumulative_recovered\"}},\"id\":\"4012\",\"type\":\"Line\"},{\"attributes\":{\"data_source\":{\"id\":\"3930\"},\"glyph\":{\"id\":\"4011\"},\"hover_glyph\":null,\"muted_glyph\":null,\"nonselection_glyph\":{\"id\":\"4012\"},\"selection_glyph\":null,\"view\":{\"id\":\"4014\"}},\"id\":\"4013\",\"type\":\"GlyphRenderer\"}],\"root_ids\":[\"4134\"]},\"title\":\"Bokeh Application\",\"version\":\"2.0.1\"}};\n",
       "  var render_items = [{\"docid\":\"0d319f68-a941-4aac-8b6a-755bb40b5bfe\",\"root_ids\":[\"4134\"],\"roots\":{\"4134\":\"803b2fc8-ba6a-42ae-ad5c-01e1c2db7bf2\"}}];\n",
       "  root.Bokeh.embed.embed_items_notebook(docs_json, render_items);\n",
       "\n",
       "  }\n",
       "  if (root.Bokeh !== undefined) {\n",
       "    embed_document(root);\n",
       "  } else {\n",
       "    var attempts = 0;\n",
       "    var timer = setInterval(function(root) {\n",
       "      if (root.Bokeh !== undefined) {\n",
       "        clearInterval(timer);\n",
       "        embed_document(root);\n",
       "      } else {\n",
       "        attempts++;\n",
       "        if (attempts > 100) {\n",
       "          clearInterval(timer);\n",
       "          console.log(\"Bokeh: ERROR: Unable to run BokehJS code because BokehJS library is missing\");\n",
       "        }\n",
       "      }\n",
       "    }, 10, root)\n",
       "  }\n",
       "})(window);"
      ],
      "application/vnd.bokehjs_exec.v0+json": ""
     },
     "metadata": {
      "application/vnd.bokehjs_exec.v0+json": {
       "id": "4134"
      }
     },
     "output_type": "display_data"
    }
   ],
   "source": [
    "plot3 = figure(plot_width = 900, plot_height = 200,x_axis_type=\"datetime\",y_range=(1, 420),background_fill_color=\"#fafafa\")\n",
    "\n",
    "line1 = plot3.line(x = 'date_recovered' , y = 'cumulative_recovered' , width = 2, source = recovered_data['Alberta'],color = color[0]);\n",
    "line2 = plot3.line(x = 'date_recovered' , y = 'cumulative_recovered' , width = 2, source = recovered_data['BC'], color= color[1]);\n",
    "line3 = plot3.line(x = 'date_recovered' , y = 'cumulative_recovered' , width = 2, source = recovered_data['Manitoba'], color= color[2]);\n",
    "line4 = plot3.line(x = 'date_recovered' , y = 'cumulative_recovered' , width = 2, source = recovered_data['NL'], color= color[3]);\n",
    "line5 = plot3.line(x = 'date_recovered' , y = 'cumulative_recovered' , width = 2, source = recovered_data['NWT'], color= color[4]);\n",
    "line6 = plot3.line(x = 'date_recovered' , y = 'cumulative_recovered' , width = 2, source = recovered_data['New Brunswick'], color= color[5]);\n",
    "line7 = plot3.line(x = 'date_recovered' , y = 'cumulative_recovered' , width = 2, source = recovered_data['Nova Scotia'], color= color[6]);\n",
    "line8 = plot3.line(x = 'date_recovered' , y = 'cumulative_recovered' , width = 2, source = recovered_data['Nunavut'], color= color[7]);\n",
    "line9 = plot3.line(x = 'date_recovered' , y = 'cumulative_recovered' , width = 2, source = recovered_data['Ontario'], color= color[8]);\n",
    "line10 = plot3.line(x = 'date_recovered' , y = 'cumulative_recovered' , width = 2, source = recovered_data['PEI'], color= color[9]);\n",
    "line11 = plot3.line(x = 'date_recovered' , y = 'cumulative_recovered' , width = 2, source = recovered_data['Quebec'], color= color[10]);\n",
    "line12 = plot3.line(x = 'date_recovered' , y = 'cumulative_recovered' , width = 2, source = recovered_data['Saskatchewan'], color= color[11]);\n",
    "line13 = plot3.line(x = 'date_recovered' , y = 'cumulative_recovered' , width = 2, source = recovered_data['Nova Scotia'], color= color[12]);\n",
    "line14 = plot3.line(x = 'date_recovered' , y = 'cumulative_recovered' , width = 2, source = recovered_data['Yukon'], color= color[13]);\n",
    "\n",
    "\n",
    "\n",
    "circle1 = plot3.circle(x = 'date_recovered' , y = 'cumulative_recovered' , width = 2, source = recovered_data['Alberta'],color = color[0]);\n",
    "circle2 = plot3.circle(x = 'date_recovered' , y = 'cumulative_recovered' , width = 2, source = recovered_data['BC'], color= color[1]);\n",
    "circle3 = plot3.circle(x = 'date_recovered' , y = 'cumulative_recovered' , width = 2, source = recovered_data['Manitoba'], color= color[2]);\n",
    "circle4 = plot3.circle(x = 'date_recovered' , y = 'cumulative_recovered' , width = 2, source = recovered_data['NL'], color= color[3]);\n",
    "circle5 = plot3.circle(x = 'date_recovered' , y = 'cumulative_recovered' , width = 2, source = recovered_data['NWT'], color= color[4]);\n",
    "circle6 = plot3.circle(x = 'date_recovered' , y = 'cumulative_recovered' , width = 2, source = recovered_data['New Brunswick'], color= color[5]);\n",
    "circle7 = plot3.circle(x = 'date_recovered' , y = 'cumulative_recovered' , width = 2, source = recovered_data['Nova Scotia'], color= color[6]);\n",
    "circle8 = plot3.circle(x = 'date_recovered' , y = 'cumulative_recovered' , width = 2, source = recovered_data['Nunavut'], color= color[7]);\n",
    "circle9 = plot3.circle(x = 'date_recovered' , y = 'cumulative_recovered' , width = 2, source = recovered_data['Ontario'], color= color[8]);\n",
    "circle10 = plot3.circle(x = 'date_recovered' , y = 'cumulative_recovered' , width = 2, source = recovered_data['PEI'], color= color[9]);\n",
    "circle11 = plot3.circle(x = 'date_recovered' , y = 'cumulative_recovered' , width = 2, source = recovered_data['Quebec'], color= color[10]);\n",
    "circle12 = plot3.circle(x = 'date_recovered' , y = 'cumulative_recovered' , width = 2, source = recovered_data['Saskatchewan'], color= color[11]);\n",
    "circle13 = plot3.circle(x = 'date_recovered' , y = 'cumulative_recovered' , width = 2, source = recovered_data['Nova Scotia'], color= color[12]);\n",
    "circle14 = plot3.circle(x = 'date_recovered' , y = 'cumulative_recovered' , width = 2, source = recovered_data['Yukon'], color= color[13]);\n",
    "\n",
    "\n",
    "\n",
    "line = [line1,line2,line3,line4,line5,line6,line7,line8,line9,line10,line11,line12,line13,line14]\n",
    "\n",
    "for i in line:\n",
    "    plot3.add_tools(HoverTool(renderers=[i], tooltips = [('Sales', '@cumulative_recovered')]))\n",
    "\n",
    "\n",
    "\n",
    "grid = layout([[plot3]]) \n",
    "\n",
    "show(grid)"
   ]
  },
  {
   "cell_type": "code",
   "execution_count": null,
   "metadata": {},
   "outputs": [],
   "source": []
  },
  {
   "cell_type": "code",
   "execution_count": null,
   "metadata": {},
   "outputs": [],
   "source": []
  }
 ],
 "metadata": {
  "kernelspec": {
   "display_name": "Python 3",
   "language": "python",
   "name": "python3"
  },
  "language_info": {
   "codemirror_mode": {
    "name": "ipython",
    "version": 3
   },
   "file_extension": ".py",
   "mimetype": "text/x-python",
   "name": "python",
   "nbconvert_exporter": "python",
   "pygments_lexer": "ipython3",
   "version": "3.7.4"
  }
 },
 "nbformat": 4,
 "nbformat_minor": 2
}
